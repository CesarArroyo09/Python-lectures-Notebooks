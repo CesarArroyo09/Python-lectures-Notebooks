{
 "metadata": {
  "name": "",
  "signature": "sha256:e2ebcc12c9a399090022369b7d58c16a852909e2f81e5d7216a929678d509a62"
 },
 "nbformat": 3,
 "nbformat_minor": 0,
 "worksheets": [
  {
   "cells": [
    {
     "cell_type": "code",
     "collapsed": false,
     "input": [
      "# Just to know last time this was run:\n",
      "import time\n",
      "print time.ctime()"
     ],
     "language": "python",
     "metadata": {},
     "outputs": [
      {
       "output_type": "stream",
       "stream": "stdout",
       "text": [
        "Thu Oct  9 18:12:15 2014\n"
       ]
      }
     ],
     "prompt_number": 1
    },
    {
     "cell_type": "heading",
     "level": 1,
     "metadata": {},
     "source": [
      "H Optimizing code writing"
     ]
    },
    {
     "cell_type": "markdown",
     "metadata": {},
     "source": [
      "This is part of the Python lecture given by Christophe Morisset at IA-UNAM. More informations at: http://python-astro.blogspot.mx/"
     ]
    },
    {
     "cell_type": "code",
     "collapsed": false,
     "input": [
      "import numpy as np\n",
      "from IPython.core.display import Image"
     ],
     "language": "python",
     "metadata": {},
     "outputs": [],
     "prompt_number": 2
    },
    {
     "cell_type": "heading",
     "level": 3,
     "metadata": {},
     "source": [
      "Profiling the code: CPU usage"
     ]
    },
    {
     "cell_type": "code",
     "collapsed": false,
     "input": [
      "%%writefile test_1_prof.py\n",
      "\n",
      "import numpy as np\n",
      "import os\n",
      "import urllib2\n",
      "from scipy.integrate import simps\n",
      "\n",
      "class Stel_Spectrum(object):\n",
      "    \"\"\"\n",
      "    This object downloads a file from http://astro.uni-tuebingen.de/~rauch/TMAF/NLTE/He+C+N+O/\n",
      "    and is able to make some plots.    \n",
      "    \"\"\"\n",
      "    \n",
      "    spec_count = 0 # This attibute is at the level of the class, not of the object.\n",
      "    def __init__(self, filename=None, T=None, logg=None, verbose=False):\n",
      "        \"\"\"\n",
      "        Initialisation of the Stel_Spectrum object.\n",
      "        Parameter:\n",
      "            - filename\n",
      "            - T: temperature in K, e.g. 150000\n",
      "            - logg: e.g. 7.5\n",
      "            - verbose: if True, some info are printed out\n",
      "        The wl variable is an array of wavelengths in Angstrom.\n",
      "        The fl variable is the flux in erg/s/cm2/A\n",
      "        The variables T and logg are properties: changing them will reload the data\n",
      "        \"\"\"\n",
      "        self.verbose = verbose\n",
      "        if filename is None:\n",
      "            if T is not None and logg is not None:\n",
      "                self.__T = T # We need to initialize the hidden values, as logg is still not defined\n",
      "                self.logg = logg\n",
      "                self.filename = '0{0:06.0f}_{1:.2f}_33_50_02_15.bin_0.1.gz'.format(self.T, self.logg)\n",
      "            else:\n",
      "                raise TypeError(\"T and logg must be given\")\n",
      "        else:\n",
      "            self.filename = filename\n",
      "            self.__T = float(filename.split('_')[0]) # We need to initialize the hidden values, as logg is still not defined\n",
      "            self.logg = float(filename.split('_')[1])\n",
      "        Stel_Spectrum.spec_count += 1\n",
      "        if self.verbose:\n",
      "            print('Instantiation done')\n",
      "            \n",
      "    def dlfile(self):\n",
      "        \"\"\"\n",
      "        Downloading file if not already here. Put it in the current directory\n",
      "        \"\"\"\n",
      "        if not os.path.exists(self.filename):\n",
      "            if self.verbose:\n",
      "                print('Downloading {}'.format(self.filename))\n",
      "            try:\n",
      "                stel_file = urllib2.urlopen('http://astro.uni-tuebingen.de/~rauch/TMAF/NLTE/He+C+N+O/' + \n",
      "                                            self.filename)\n",
      "                output = open(self.filename,'wb')\n",
      "                output.write(stel_file.read())\n",
      "                output.close()\n",
      "                self.file_found=True\n",
      "            except:\n",
      "                if self.verbose:\n",
      "                    print('file {} not found'.format(self.filename))\n",
      "                self.file_found=False\n",
      "        else:\n",
      "            if self.verbose:\n",
      "                print('{} already on disk'.format(self.filename))\n",
      "            self.file_found=True\n",
      "                \n",
      "    def read_data(self):\n",
      "        \"\"\"\n",
      "        read the data from the file\n",
      "        \"\"\"\n",
      "        if self.file_found:\n",
      "            data = np.genfromtxt(self.filename, comments='*', names='wl, fl')\n",
      "            self.fl = data['fl']\n",
      "            self.wl = data['wl'] # in A\n",
      "            self.fl /= 1e8 # F LAMBDA  GIVEN IN ERG/CM**2/SEC/CM -> erg/s/cm2/A\n",
      "            if self.verbose:\n",
      "                print('Read data from {}'.format(self.filename))\n",
      "        else:\n",
      "            if self.verbose:\n",
      "                print('file not found {}'.format(self.filename))\n",
      "            self.wl = None\n",
      "            self.fl = None\n",
      "        \n",
      "    def plot_spr(self, ax=None, *args, **kwargs):\n",
      "        \"\"\"\n",
      "        Plot the spectrum.\n",
      "        Parameter:\n",
      "            - ax: an axis (optionnal). If Noe or absent, axis is created\n",
      "            - any extra parameter is passed to ax.plot\n",
      "        \"\"\"\n",
      "        if self.wl is None:\n",
      "            print('No data to plot')\n",
      "            return\n",
      "        if ax is None:\n",
      "            fig, ax = plt.subplots()\n",
      "        ax.plot(self.wl, self.fl,\n",
      "                label='T3={0:.0f}, logg={1}'.format(self.T/1e3, self.logg),\n",
      "                *args, **kwargs) # Here are the transmissions of extra parameters to plot\n",
      "        ax.set_yscale('log')\n",
      "        ax.set_ylim(1e6, 1e14)\n",
      "        ax.set_xlabel('Wavelength (A)')\n",
      "        \n",
      "    def get_integ(self):\n",
      "        \"\"\"\n",
      "        Return the integral of Flambda over lambda, in erg/s/cm2\n",
      "        \"\"\"\n",
      "        if self.wl is None:\n",
      "            print('No data')\n",
      "            return None\n",
      "        return simps(self.fl, self.wl) # perform the integral\n",
      "    \n",
      "    def __getT(self): \n",
      "        return self.__T\n",
      "    \n",
      "    def __setT(self, value): \n",
      "        if not isinstance(value, (int, long, float)): # check the type of the input\n",
      "            raise TypeError('T must be an integer or a float')\n",
      "        if float(value) not in np.linspace(40000, 190000, 16): # check the value of the input\n",
      "            raise ValueError('T value must be between 40000 and 190000K, by 10000K steps')\n",
      "        elif self.__T != value:\n",
      "            self.__T = value\n",
      "            self.filename = '0{0:06.0f}_{1:.2f}_33_50_02_15.bin_0.1.gz'.format(self.T, self.logg)\n",
      "            self.dlfile() # will download new data\n",
      "            self.read_data() # will update the data\n",
      "        \n",
      "    def __delT(self): \n",
      "        print('T is needed')\n",
      "        \n",
      "    T = property(__getT, __setT, __delT, \"Stellar effective temperature\")\n",
      "    \n",
      "    def __getlogg(self): \n",
      "        return self.__logg\n",
      "    \n",
      "    def __setlogg(self, value):\n",
      "        try:\n",
      "            self.__logg \n",
      "        except:\n",
      "            self.__logg = -1\n",
      "        if not isinstance(value, (int, long, float)):\n",
      "            raise TypeError('logg must be an integer or a float')\n",
      "        if float(value) not in (-1., 5., 6., 7. ,8., 9.):\n",
      "            raise ValueError('Error, logg must be 6, 7, 8, or 9')\n",
      "            self.__logg = None\n",
      "        elif self.__logg != value:\n",
      "            self.__logg = value\n",
      "            self.filename = '0{0:06.0f}_{1:.2f}_33_50_02_15.bin_0.1.gz'.format(self.T, self.logg)\n",
      "            self.dlfile() # will download new data\n",
      "            self.read_data() # will update the data\n",
      "        \n",
      "    def __dellogg(self): \n",
      "        print('logg is needed')\n",
      "        \n",
      "    logg = property(__getlogg, __setlogg, __dellogg, \"Stellar logg\")\n",
      "\n",
      "    def print_info(self):\n",
      "        \"\"\"\n",
      "        Print out the filename and the number of points\n",
      "        \"\"\"\n",
      "        print self.__repr__()\n",
      "        \n",
      "    def __repr__(self):\n",
      "        \"\"\"\n",
      "        This is what is used when calling \"print <obj>\" or <obj> ENTER\n",
      "        \"\"\"\n",
      "        if self.wl is None:\n",
      "            return'Filename: {0}, No data'.format(self.filename)\n",
      "        else:\n",
      "            return'Filename: {0}, number of points: {1}'.format(self.filename, len(self.wl))\n",
      "    \n",
      "    def __del__(self):\n",
      "        Stel_Spectrum.spec_count -= 1\n",
      "\n",
      "spectra = [] # we create an empty list\n",
      "for T in np.linspace(40000, 190000, 4): # this is the list of available temperature (check the site)\n",
      "    spectra.append(Stel_Spectrum(T=T, logg=6, verbose=True)) # we fill the list with the objects for each temperature\n",
      "T = np.array([sp.T for sp in spectra])\n",
      "F = np.array([sp.get_integ() for sp in spectra])\n",
      "for t, f in zip(T, F):\n",
      "    print('Temperature = {0:.0f}K, Flux = {1:.2e} erg/s/cm2'.format(t, f))"
     ],
     "language": "python",
     "metadata": {},
     "outputs": [
      {
       "output_type": "stream",
       "stream": "stdout",
       "text": [
        "Writing test_1_prof.py\n"
       ]
      }
     ],
     "prompt_number": 3
    },
    {
     "cell_type": "code",
     "collapsed": false,
     "input": [
      "%run -t test_1_prof.py"
     ],
     "language": "python",
     "metadata": {},
     "outputs": [
      {
       "output_type": "stream",
       "stream": "stdout",
       "text": [
        "Downloading 0040000_6.00_33_50_02_15.bin_0.1.gz\n",
        "Read data from 0040000_6.00_33_50_02_15.bin_0.1.gz"
       ]
      },
      {
       "output_type": "stream",
       "stream": "stdout",
       "text": [
        "\n",
        "Instantiation done\n",
        "Downloading 0090000_6.00_33_50_02_15.bin_0.1.gz\n",
        "Read data from 0090000_6.00_33_50_02_15.bin_0.1.gz"
       ]
      },
      {
       "output_type": "stream",
       "stream": "stdout",
       "text": [
        "\n",
        "Instantiation done\n",
        "Downloading 0140000_6.00_33_50_02_15.bin_0.1.gz\n",
        "Read data from 0140000_6.00_33_50_02_15.bin_0.1.gz"
       ]
      },
      {
       "output_type": "stream",
       "stream": "stdout",
       "text": [
        "\n",
        "Instantiation done\n",
        "Downloading 0190000_6.00_33_50_02_15.bin_0.1.gz\n",
        "Read data from 0190000_6.00_33_50_02_15.bin_0.1.gz"
       ]
      },
      {
       "output_type": "stream",
       "stream": "stdout",
       "text": [
        "\n",
        "Instantiation done\n",
        "Temperature = 40000K, Flux = 4.00e+13 erg/s/cm2\n",
        "Temperature = 90000K, Flux = 1.05e+15 erg/s/cm2\n",
        "Temperature = 140000K, Flux = 6.93e+15 erg/s/cm2\n",
        "Temperature = 190000K, Flux = 2.35e+16 erg/s/cm2\n",
        "\n",
        "IPython CPU timings (estimated):\n",
        "  User   :       1.34 s.\n",
        "  System :       0.02 s.\n",
        "Wall time:      12.55 s.\n"
       ]
      }
     ],
     "prompt_number": 4
    },
    {
     "cell_type": "code",
     "collapsed": false,
     "input": [
      "%run -p test_1_prof.py"
     ],
     "language": "python",
     "metadata": {},
     "outputs": [
      {
       "output_type": "stream",
       "stream": "stdout",
       "text": [
        "0040000_6.00_33_50_02_15.bin_0.1.gz already on disk\n",
        "Read data from 0040000_6.00_33_50_02_15.bin_0.1.gz"
       ]
      },
      {
       "output_type": "stream",
       "stream": "stdout",
       "text": [
        "\n",
        "Instantiation done\n",
        "0090000_6.00_33_50_02_15.bin_0.1.gz already on disk\n",
        "Read data from 0090000_6.00_33_50_02_15.bin_0.1.gz"
       ]
      },
      {
       "output_type": "stream",
       "stream": "stdout",
       "text": [
        "\n",
        "Instantiation done\n",
        "0140000_6.00_33_50_02_15.bin_0.1.gz already on disk\n",
        "Read data from 0140000_6.00_33_50_02_15.bin_0.1.gz"
       ]
      },
      {
       "output_type": "stream",
       "stream": "stdout",
       "text": [
        "\n",
        "Instantiation done\n",
        "0190000_6.00_33_50_02_15.bin_0.1.gz already on disk\n",
        "Read data from 0190000_6.00_33_50_02_15.bin_0.1.gz"
       ]
      },
      {
       "output_type": "stream",
       "stream": "stdout",
       "text": [
        "\n",
        "Instantiation done\n",
        "Temperature = 40000K, Flux = 4.00e+13 erg/s/cm2\n",
        "Temperature = 90000K, Flux = 1.05e+15 erg/s/cm2\n",
        "Temperature = 140000K, Flux = 6.93e+15 erg/s/cm2\n",
        "Temperature = 190000K, Flux = 2.35e+16 erg/s/cm2\n",
        " "
       ]
      }
     ],
     "prompt_number": 5
    },
    {
     "cell_type": "code",
     "collapsed": false,
     "input": [
      "# Inserting @profile before some functions leads to detailed report on the corresponding functions"
     ],
     "language": "python",
     "metadata": {},
     "outputs": [],
     "prompt_number": 6
    },
    {
     "cell_type": "code",
     "collapsed": false,
     "input": [
      "%%writefile test_2_prof.py\n",
      "\n",
      "import numpy as np\n",
      "import os\n",
      "import urllib2\n",
      "from scipy.integrate import simps\n",
      "\n",
      "class Stel_Spectrum(object):\n",
      "    \"\"\"\n",
      "    This object downloads a file from http://astro.uni-tuebingen.de/~rauch/TMAF/NLTE/He+C+N+O/\n",
      "    and is able to make some plots.    \n",
      "    \"\"\"\n",
      "    \n",
      "    spec_count = 0 # This attibute is at the level of the class, not of the object.\n",
      "    \n",
      "    @profile\n",
      "    def __init__(self, filename=None, T=None, logg=None, verbose=False):\n",
      "        \"\"\"\n",
      "        Initialisation of the Stel_Spectrum object.\n",
      "        Parameter:\n",
      "            - filename\n",
      "            - T: temperature in K, e.g. 150000\n",
      "            - logg: e.g. 7.5\n",
      "            - verbose: if True, some info are printed out\n",
      "        The wl variable is an array of wavelengths in Angstrom.\n",
      "        The fl variable is the flux in erg/s/cm2/A\n",
      "        The variables T and logg are properties: changing them will reload the data\n",
      "        \"\"\"\n",
      "        self.verbose = verbose\n",
      "        if filename is None:\n",
      "            if T is not None and logg is not None:\n",
      "                self.__T = T # We need to initialize the hidden values, as logg is still not defined\n",
      "                self.logg = logg\n",
      "                self.filename = '0{0:06.0f}_{1:.2f}_33_50_02_15.bin_0.1.gz'.format(self.T, self.logg)\n",
      "            else:\n",
      "                raise TypeError(\"T and logg must be given\")\n",
      "        else:\n",
      "            self.filename = filename\n",
      "            self.__T = float(filename.split('_')[0]) # We need to initialize the hidden values, as logg is still not defined\n",
      "            self.logg = float(filename.split('_')[1])\n",
      "        Stel_Spectrum.spec_count += 1\n",
      "        if self.verbose:\n",
      "            print('Instantiation done')\n",
      "\n",
      "    @profile\n",
      "    def dlfile(self):\n",
      "        \"\"\"\n",
      "        Downloading file if not already here. Put it in the current directory\n",
      "        \"\"\"\n",
      "        if not os.path.exists(self.filename):\n",
      "            if self.verbose:\n",
      "                print('Downloading {}'.format(self.filename))\n",
      "            try:\n",
      "                stel_file = urllib2.urlopen('http://astro.uni-tuebingen.de/~rauch/TMAF/NLTE/He+C+N+O/' + \n",
      "                                            self.filename)\n",
      "                output = open(self.filename,'wb')\n",
      "                output.write(stel_file.read())\n",
      "                output.close()\n",
      "                self.file_found=True\n",
      "            except:\n",
      "                if self.verbose:\n",
      "                    print('file {} not found'.format(self.filename))\n",
      "                self.file_found=False\n",
      "        else:\n",
      "            if self.verbose:\n",
      "                print('{} already on disk'.format(self.filename))\n",
      "            self.file_found=True\n",
      "    \n",
      "    @profile\n",
      "    def read_data(self):\n",
      "        \"\"\"\n",
      "        read the data from the file\n",
      "        \"\"\"\n",
      "        if self.file_found:\n",
      "            data = np.genfromtxt(self.filename, comments='*', names='wl, fl')\n",
      "            self.fl = data['fl']\n",
      "            self.wl = data['wl'] # in A\n",
      "            self.fl /= 1e8 # F LAMBDA  GIVEN IN ERG/CM**2/SEC/CM -> erg/s/cm2/A\n",
      "            if self.verbose:\n",
      "                print('Read data from {}'.format(self.filename))\n",
      "        else:\n",
      "            if self.verbose:\n",
      "                print('file not found {}'.format(self.filename))\n",
      "            self.wl = None\n",
      "            self.fl = None\n",
      "        \n",
      "    def plot_spr(self, ax=None, *args, **kwargs):\n",
      "        \"\"\"\n",
      "        Plot the spectrum.\n",
      "        Parameter:\n",
      "            - ax: an axis (optionnal). If Noe or absent, axis is created\n",
      "            - any extra parameter is passed to ax.plot\n",
      "        \"\"\"\n",
      "        if self.wl is None:\n",
      "            print('No data to plot')\n",
      "            return\n",
      "        if ax is None:\n",
      "            fig, ax = plt.subplots()\n",
      "        ax.plot(self.wl, self.fl,\n",
      "                label='T3={0:.0f}, logg={1}'.format(self.T/1e3, self.logg),\n",
      "                *args, **kwargs) # Here are the transmissions of extra parameters to plot\n",
      "        ax.set_yscale('log')\n",
      "        ax.set_ylim(1e6, 1e14)\n",
      "        ax.set_xlabel('Wavelength (A)')\n",
      "        \n",
      "    def get_integ(self):\n",
      "        \"\"\"\n",
      "        Return the integral of Flambda over lambda, in erg/s/cm2\n",
      "        \"\"\"\n",
      "        if self.wl is None:\n",
      "            print('No data')\n",
      "            return None\n",
      "        return simps(self.fl, self.wl) # perform the integral\n",
      "    \n",
      "    def __getT(self): \n",
      "        return self.__T\n",
      "    \n",
      "    def __setT(self, value): \n",
      "        if not isinstance(value, (int, long, float)): # check the type of the input\n",
      "            raise TypeError('T must be an integer or a float')\n",
      "        if float(value) not in np.linspace(40000, 190000, 16): # check the value of the input\n",
      "            raise ValueError('T value must be between 40000 and 190000K, by 10000K steps')\n",
      "        elif self.__T != value:\n",
      "            self.__T = value\n",
      "            self.filename = '0{0:06.0f}_{1:.2f}_33_50_02_15.bin_0.1.gz'.format(self.T, self.logg)\n",
      "            self.dlfile() # will download new data\n",
      "            self.read_data() # will update the data\n",
      "        \n",
      "    def __delT(self): \n",
      "        print('T is needed')\n",
      "        \n",
      "    T = property(__getT, __setT, __delT, \"Stellar effective temperature\")\n",
      "    \n",
      "    def __getlogg(self): \n",
      "        return self.__logg\n",
      "    \n",
      "    def __setlogg(self, value):\n",
      "        try:\n",
      "            self.__logg \n",
      "        except:\n",
      "            self.__logg = -1\n",
      "        if not isinstance(value, (int, long, float)):\n",
      "            raise TypeError('logg must be an integer or a float')\n",
      "        if float(value) not in (-1., 5., 6., 7. ,8., 9.):\n",
      "            raise ValueError('Error, logg must be 6, 7, 8, or 9')\n",
      "            self.__logg = None\n",
      "        elif self.__logg != value:\n",
      "            self.__logg = value\n",
      "            self.filename = '0{0:06.0f}_{1:.2f}_33_50_02_15.bin_0.1.gz'.format(self.T, self.logg)\n",
      "            self.dlfile() # will download new data\n",
      "            self.read_data() # will update the data\n",
      "        \n",
      "    def __dellogg(self): \n",
      "        print('logg is needed')\n",
      "        \n",
      "    logg = property(__getlogg, __setlogg, __dellogg, \"Stellar logg\")\n",
      "\n",
      "    def print_info(self):\n",
      "        \"\"\"\n",
      "        Print out the filename and the number of points\n",
      "        \"\"\"\n",
      "        print self.__repr__()\n",
      "        \n",
      "    def __repr__(self):\n",
      "        \"\"\"\n",
      "        This is what is used when calling \"print <obj>\" or <obj> ENTER\n",
      "        \"\"\"\n",
      "        if self.wl is None:\n",
      "            return'Filename: {0}, No data'.format(self.filename)\n",
      "        else:\n",
      "            return'Filename: {0}, number of points: {1}'.format(self.filename, len(self.wl))\n",
      "    \n",
      "    def __del__(self):\n",
      "        Stel_Spectrum.spec_count -= 1\n",
      "\n",
      "spectra = [] # we create an empty list\n",
      "for T in np.linspace(40000, 190000, 4): # this is the list of available temperature (check the site)\n",
      "    spectra.append(Stel_Spectrum(T=T, logg=6, verbose=True)) # we fill the list with the objects for each temperature\n",
      "T = np.array([sp.T for sp in spectra])\n",
      "F = np.array([sp.get_integ() for sp in spectra])\n",
      "for t, f in zip(T, F):\n",
      "    print('Temperature = {0:.0f}K, Flux = {1:.2e} erg/s/cm2'.format(t, f))"
     ],
     "language": "python",
     "metadata": {},
     "outputs": [
      {
       "output_type": "stream",
       "stream": "stdout",
       "text": [
        "Writing test_2_prof.py\n"
       ]
      }
     ],
     "prompt_number": 7
    },
    {
     "cell_type": "code",
     "collapsed": false,
     "input": [
      "# Need to pip install line-profiler\n",
      "! kernprof -l -v test_2_prof.py"
     ],
     "language": "python",
     "metadata": {},
     "outputs": [
      {
       "output_type": "stream",
       "stream": "stdout",
       "text": [
        "0040000_6.00_33_50_02_15.bin_0.1.gz already on disk\r\n"
       ]
      },
      {
       "output_type": "stream",
       "stream": "stdout",
       "text": [
        "Read data from 0040000_6.00_33_50_02_15.bin_0.1.gz\r\n",
        "Instantiation done\r\n",
        "0090000_6.00_33_50_02_15.bin_0.1.gz already on disk\r\n"
       ]
      },
      {
       "output_type": "stream",
       "stream": "stdout",
       "text": [
        "Read data from 0090000_6.00_33_50_02_15.bin_0.1.gz\r\n",
        "Instantiation done\r\n",
        "0140000_6.00_33_50_02_15.bin_0.1.gz already on disk\r\n"
       ]
      },
      {
       "output_type": "stream",
       "stream": "stdout",
       "text": [
        "Read data from 0140000_6.00_33_50_02_15.bin_0.1.gz\r\n",
        "Instantiation done\r\n",
        "0190000_6.00_33_50_02_15.bin_0.1.gz already on disk\r\n"
       ]
      },
      {
       "output_type": "stream",
       "stream": "stdout",
       "text": [
        "Read data from 0190000_6.00_33_50_02_15.bin_0.1.gz\r\n",
        "Instantiation done\r\n",
        "Temperature = 40000K, Flux = 4.00e+13 erg/s/cm2\r\n",
        "Temperature = 90000K, Flux = 1.05e+15 erg/s/cm2\r\n",
        "Temperature = 140000K, Flux = 6.93e+15 erg/s/cm2\r\n",
        "Temperature = 190000K, Flux = 2.35e+16 erg/s/cm2\r\n",
        "Wrote profile results to test_2_prof.py.lprof\r\n",
        "Timer unit: 1e-06 s\r\n",
        "\r\n",
        "Total time: 7.11061 s\r\n",
        "File: test_2_prof.py\r\n",
        "Function: __init__ at line 15\r\n"
       ]
      },
      {
       "output_type": "stream",
       "stream": "stdout",
       "text": [
        "\r\n",
        "Line #      Hits         Time  Per Hit   % Time  Line Contents\r\n",
        "==============================================================\r\n",
        "    15                                               @profile\r\n",
        "    16                                               def __init__(self, filename=None, T=None, logg=None, verbose=False):\r\n",
        "    17                                                   \"\"\"\r\n",
        "    18                                                   Initialisation of the Stel_Spectrum object.\r\n",
        "    19                                                   Parameter:\r\n",
        "    20                                                       - filename\r\n",
        "    21                                                       - T: temperature in K, e.g. 150000\r\n",
        "    22                                                       - logg: e.g. 7.5\r\n",
        "    23                                                       - verbose: if True, some info are printed out\r\n",
        "    24                                                   The wl variable is an array of wavelengths in Angstrom.\r\n",
        "    25                                                   The fl variable is the flux in erg/s/cm2/A\r\n",
        "    26                                                   The variables T and logg are properties: changing them will reload the data\r\n",
        "    27                                                   \"\"\"\r\n",
        "    28         4           11      2.8      0.0          self.verbose = verbose\r\n",
        "    29         4            8      2.0      0.0          if filename is None:\r\n",
        "    30         4            8      2.0      0.0              if T is not None and logg is not None:\r\n",
        "    31         4           10      2.5      0.0                  self.__T = T # We need to initialize the hidden values, as logg is still not defined\r\n",
        "    32         4      7110375 1777593.8    100.0                  self.logg = logg\r\n",
        "    33         4          115     28.8      0.0                  self.filename = '0{0:06.0f}_{1:.2f}_33_50_02_15.bin_0.1.gz'.format(self.T, self.logg)\r\n",
        "    34                                                       else:\r\n",
        "    35                                                           raise TypeError(\"T and logg must be given\")\r\n",
        "    36                                                   else:\r\n",
        "    37                                                       self.filename = filename\r\n",
        "    38                                                       self.__T = float(filename.split('_')[0]) # We need to initialize the hidden values, as logg is still not defined\r\n",
        "    39                                                       self.logg = float(filename.split('_')[1])\r\n",
        "    40         4           22      5.5      0.0          Stel_Spectrum.spec_count += 1\r\n",
        "    41         4           10      2.5      0.0          if self.verbose:\r\n",
        "    42         4           50     12.5      0.0              print('Instantiation done')\r\n",
        "\r\n",
        "Total time: 0.000202 s\r\n",
        "File: test_2_prof.py\r\n",
        "Function: dlfile at line 44\r\n",
        "\r\n",
        "Line #      Hits         Time  Per Hit   % Time  Line Contents\r\n",
        "==============================================================\r\n",
        "    44                                               @profile\r\n",
        "    45                                               def dlfile(self):\r\n",
        "    46                                                   \"\"\"\r\n",
        "    47                                                   Downloading file if not already here. Put it in the current directory\r\n",
        "    48                                                   \"\"\"\r\n",
        "    49         4           95     23.8     47.0          if not os.path.exists(self.filename):\r\n",
        "    50                                                       if self.verbose:\r\n",
        "    51                                                           print('Downloading {}'.format(self.filename))\r\n",
        "    52                                                       try:\r\n",
        "    53                                                           stel_file = urllib2.urlopen('http://astro.uni-tuebingen.de/~rauch/TMAF/NLTE/He+C+N+O/' + \r\n",
        "    54                                                                                       self.filename)\r\n",
        "    55                                                           output = open(self.filename,'wb')\r\n",
        "    56                                                           output.write(stel_file.read())\r\n",
        "    57                                                           output.close()\r\n",
        "    58                                                           self.file_found=True\r\n",
        "    59                                                       except:\r\n",
        "    60                                                           if self.verbose:\r\n",
        "    61                                                               print('file {} not found'.format(self.filename))\r\n",
        "    62                                                           self.file_found=False\r\n",
        "    63                                                   else:\r\n",
        "    64         4            9      2.2      4.5              if self.verbose:\r\n",
        "    65         4           86     21.5     42.6                  print('{} already on disk'.format(self.filename))\r\n",
        "    66         4           12      3.0      5.9              self.file_found=True\r\n",
        "\r\n",
        "Total time: 7.10972 s\r\n",
        "File: test_2_prof.py\r\n",
        "Function: read_data at line 68\r\n",
        "\r\n",
        "Line #      Hits         Time  Per Hit   % Time  Line Contents\r\n",
        "==============================================================\r\n",
        "    68                                               @profile\r\n",
        "    69                                               def read_data(self):\r\n",
        "    70                                                   \"\"\"\r\n",
        "    71                                                   read the data from the file\r\n",
        "    72                                                   \"\"\"\r\n",
        "    73         4            8      2.0      0.0          if self.file_found:\r\n",
        "    74         4      7108734 1777183.5    100.0              data = np.genfromtxt(self.filename, comments='*', names='wl, fl')\r\n",
        "    75         4           70     17.5      0.0              self.fl = data['fl']\r\n",
        "    76         4           26      6.5      0.0              self.wl = data['wl'] # in A\r\n",
        "    77         4          726    181.5      0.0              self.fl /= 1e8 # F LAMBDA  GIVEN IN ERG/CM**2/SEC/CM -> erg/s/cm2/A\r\n",
        "    78         4           12      3.0      0.0              if self.verbose:\r\n",
        "    79         4          141     35.2      0.0                  print('Read data from {}'.format(self.filename))\r\n",
        "    80                                                   else:\r\n",
        "    81                                                       if self.verbose:\r\n",
        "    82                                                           print('file not found {}'.format(self.filename))\r\n",
        "    83                                                       self.wl = None\r\n",
        "    84                                                       self.fl = None\r\n",
        "\r\n"
       ]
      }
     ],
     "prompt_number": 8
    },
    {
     "cell_type": "code",
     "collapsed": false,
     "input": [
      "# Use the test_1 because @profile is not compatible\n",
      "! python -m cProfile -o test_1_prof.prof test_1_prof.py"
     ],
     "language": "python",
     "metadata": {},
     "outputs": [
      {
       "output_type": "stream",
       "stream": "stdout",
       "text": [
        "0040000_6.00_33_50_02_15.bin_0.1.gz already on disk\r\n"
       ]
      },
      {
       "output_type": "stream",
       "stream": "stdout",
       "text": [
        "Read data from 0040000_6.00_33_50_02_15.bin_0.1.gz\r\n",
        "Instantiation done\r\n",
        "0090000_6.00_33_50_02_15.bin_0.1.gz already on disk\r\n"
       ]
      },
      {
       "output_type": "stream",
       "stream": "stdout",
       "text": [
        "Read data from 0090000_6.00_33_50_02_15.bin_0.1.gz\r\n",
        "Instantiation done\r\n",
        "0140000_6.00_33_50_02_15.bin_0.1.gz already on disk\r\n"
       ]
      },
      {
       "output_type": "stream",
       "stream": "stdout",
       "text": [
        "Read data from 0140000_6.00_33_50_02_15.bin_0.1.gz\r\n",
        "Instantiation done\r\n",
        "0190000_6.00_33_50_02_15.bin_0.1.gz already on disk\r\n"
       ]
      },
      {
       "output_type": "stream",
       "stream": "stdout",
       "text": [
        "Read data from 0190000_6.00_33_50_02_15.bin_0.1.gz\r\n",
        "Instantiation done\r\n",
        "Temperature = 40000K, Flux = 4.00e+13 erg/s/cm2\r\n",
        "Temperature = 90000K, Flux = 1.05e+15 erg/s/cm2\r\n",
        "Temperature = 140000K, Flux = 6.93e+15 erg/s/cm2\r\n",
        "Temperature = 190000K, Flux = 2.35e+16 erg/s/cm2\r\n"
       ]
      }
     ],
     "prompt_number": 9
    },
    {
     "cell_type": "code",
     "collapsed": false,
     "input": [
      "# need to pip install gprof2dot\n",
      "# dot is installed by yum install graphviz\n",
      "! gprof2dot -f pstats test_1_prof.prof | dot -Tpng -o test_1-prof.png"
     ],
     "language": "python",
     "metadata": {},
     "outputs": [],
     "prompt_number": 10
    },
    {
     "cell_type": "code",
     "collapsed": false,
     "input": [
      "Image(filename='test_1-prof.png')"
     ],
     "language": "python",
     "metadata": {},
     "outputs": [
      {
       "metadata": {},
       "output_type": "pyout",
       "png": "[encoded data removed]",
       "prompt_number": 11,
       "text": [
        "<IPython.core.display.Image at 0x1a74790>"
       ]
      }
     ],
     "prompt_number": 11
    },
    {
     "cell_type": "code",
     "collapsed": false,
     "input": [
      "import pstats\n",
      "p = pstats.Stats('test_1_prof.prof')\n",
      "p.strip_dirs().sort_stats('time').print_stats(10);"
     ],
     "language": "python",
     "metadata": {},
     "outputs": [
      {
       "output_type": "stream",
       "stream": "stdout",
       "text": [
        "Thu Oct  9 18:12:39 2014    test_1_prof.prof\n",
        "\n",
        "         822262 function calls (822096 primitive calls) in 1.783 seconds\n",
        "\n",
        "   Ordered by: internal time\n",
        "   List reduced from 738 to 10 due to restriction <10>\n",
        "\n",
        "   ncalls  tottime  percall  cumtime  percall filename:lineno(function)\n",
        "        4    0.497    0.124    1.599    0.400 npyio.py:1162(genfromtxt)\n",
        "    79896    0.395    0.000    0.476    0.000 gzip.py:439(readline)\n",
        "    79896    0.253    0.000    0.381    0.000 _iotools.py:215(_delimited_splitter)\n",
        "   159608    0.136    0.000    0.136    0.000 _iotools.py:655(_loose_call)\n",
        "   159725    0.095    0.000    0.095    0.000 {method 'split' of 'str' objects}\n",
        "    80255    0.048    0.000    0.048    0.000 {method 'find' of 'str' objects}\n",
        "       56    0.046    0.001    0.046    0.001 {numpy.core.multiarray.array}\n",
        "    80192    0.033    0.000    0.033    0.000 {method 'strip' of 'str' objects}\n",
        "       19    0.032    0.002    0.032    0.002 {zip}\n",
        "82540/82507    0.016    0.000    0.016    0.000 {len}\n",
        "\n",
        "\n"
       ]
      }
     ],
     "prompt_number": 12
    },
    {
     "cell_type": "heading",
     "level": 3,
     "metadata": {},
     "source": [
      "Profiling the code: RAM memory usage"
     ]
    },
    {
     "cell_type": "code",
     "collapsed": false,
     "input": [
      "%%writefile test_3_prof.py\n",
      "\n",
      "import numpy as np\n",
      "import os\n",
      "import urllib2\n",
      "from scipy.integrate import simps\n",
      "from memory_profiler import profile\n",
      "\n",
      "class Stel_Spectrum(object):\n",
      "    \"\"\"\n",
      "    This object downloads a file from http://astro.uni-tuebingen.de/~rauch/TMAF/NLTE/He+C+N+O/\n",
      "    and is able to make some plots.    \n",
      "    \"\"\"\n",
      "    \n",
      "    spec_count = 0 # This attibute is at the level of the class, not of the object.\n",
      "    \n",
      "    @profile\n",
      "    def __init__(self, filename=None, T=None, logg=None, verbose=False):\n",
      "        \"\"\"\n",
      "        Initialisation of the Stel_Spectrum object.\n",
      "        Parameter:\n",
      "            - filename\n",
      "            - T: temperature in K, e.g. 150000\n",
      "            - logg: e.g. 7.5\n",
      "            - verbose: if True, some info are printed out\n",
      "        The wl variable is an array of wavelengths in Angstrom.\n",
      "        The fl variable is the flux in erg/s/cm2/A\n",
      "        The variables T and logg are properties: changing them will reload the data\n",
      "        \"\"\"\n",
      "        self.verbose = verbose\n",
      "        if filename is None:\n",
      "            if T is not None and logg is not None:\n",
      "                self.__T = T # We need to initialize the hidden values, as logg is still not defined\n",
      "                self.logg = logg\n",
      "                self.filename = '0{0:06.0f}_{1:.2f}_33_50_02_15.bin_0.1.gz'.format(self.T, self.logg)\n",
      "            else:\n",
      "                raise TypeError(\"T and logg must be given\")\n",
      "        else:\n",
      "            self.filename = filename\n",
      "            self.__T = float(filename.split('_')[0]) # We need to initialize the hidden values, as logg is still not defined\n",
      "            self.logg = float(filename.split('_')[1])\n",
      "        Stel_Spectrum.spec_count += 1\n",
      "        if self.verbose:\n",
      "            print('Instantiation done')\n",
      "            \n",
      "    def dlfile(self):\n",
      "        \"\"\"\n",
      "        Downloading file if not already here. Put it in the current directory\n",
      "        \"\"\"\n",
      "        if not os.path.exists(self.filename):\n",
      "            if self.verbose:\n",
      "                print('Downloading {}'.format(self.filename))\n",
      "            try:\n",
      "                stel_file = urllib2.urlopen('http://astro.uni-tuebingen.de/~rauch/TMAF/NLTE/He+C+N+O/' + \n",
      "                                            self.filename)\n",
      "                output = open(self.filename,'wb')\n",
      "                output.write(stel_file.read())\n",
      "                output.close()\n",
      "                self.file_found=True\n",
      "            except:\n",
      "                if self.verbose:\n",
      "                    print('file {} not found'.format(self.filename))\n",
      "                self.file_found=False\n",
      "        else:\n",
      "            if self.verbose:\n",
      "                print('{} already on disk'.format(self.filename))\n",
      "            self.file_found=True\n",
      "                \n",
      "    def read_data(self):\n",
      "        \"\"\"\n",
      "        read the data from the file\n",
      "        \"\"\"\n",
      "        if self.file_found:\n",
      "            data = np.genfromtxt(self.filename, comments='*', names='wl, fl')\n",
      "            self.fl = data['fl']\n",
      "            self.wl = data['wl'] # in A\n",
      "            self.fl /= 1e8 # F LAMBDA  GIVEN IN ERG/CM**2/SEC/CM -> erg/s/cm2/A\n",
      "            if self.verbose:\n",
      "                print('Read data from {}'.format(self.filename))\n",
      "        else:\n",
      "            if self.verbose:\n",
      "                print('file not found {}'.format(self.filename))\n",
      "            self.wl = None\n",
      "            self.fl = None\n",
      "        \n",
      "    def plot_spr(self, ax=None, *args, **kwargs):\n",
      "        \"\"\"\n",
      "        Plot the spectrum.\n",
      "        Parameter:\n",
      "            - ax: an axis (optionnal). If Noe or absent, axis is created\n",
      "            - any extra parameter is passed to ax.plot\n",
      "        \"\"\"\n",
      "        if self.wl is None:\n",
      "            print('No data to plot')\n",
      "            return\n",
      "        if ax is None:\n",
      "            fig, ax = plt.subplots()\n",
      "        ax.plot(self.wl, self.fl,\n",
      "                label='T3={0:.0f}, logg={1}'.format(self.T/1e3, self.logg),\n",
      "                *args, **kwargs) # Here are the transmissions of extra parameters to plot\n",
      "        ax.set_yscale('log')\n",
      "        ax.set_ylim(1e6, 1e14)\n",
      "        ax.set_xlabel('Wavelength (A)')\n",
      "        \n",
      "    @profile\n",
      "    def get_integ(self):\n",
      "        \"\"\"\n",
      "        Return the integral of Flambda over lambda, in erg/s/cm2\n",
      "        \"\"\"\n",
      "        if self.wl is None:\n",
      "            print('No data')\n",
      "            return None\n",
      "        return simps(self.fl, self.wl) # perform the integral\n",
      "    \n",
      "    def __getT(self): \n",
      "        return self.__T\n",
      "    \n",
      "    def __setT(self, value): \n",
      "        if not isinstance(value, (int, long, float)): # check the type of the input\n",
      "            raise TypeError('T must be an integer or a float')\n",
      "        if float(value) not in np.linspace(40000, 190000, 16): # check the value of the input\n",
      "            raise ValueError('T value must be between 40000 and 190000K, by 10000K steps')\n",
      "        elif self.__T != value:\n",
      "            self.__T = value\n",
      "            self.filename = '0{0:06.0f}_{1:.2f}_33_50_02_15.bin_0.1.gz'.format(self.T, self.logg)\n",
      "            self.dlfile() # will download new data\n",
      "            self.read_data() # will update the data\n",
      "        \n",
      "    def __delT(self): \n",
      "        print('T is needed')\n",
      "        \n",
      "    T = property(__getT, __setT, __delT, \"Stellar effective temperature\")\n",
      "    \n",
      "    def __getlogg(self): \n",
      "        return self.__logg\n",
      "    \n",
      "    def __setlogg(self, value):\n",
      "        try:\n",
      "            self.__logg \n",
      "        except:\n",
      "            self.__logg = -1\n",
      "        if not isinstance(value, (int, long, float)):\n",
      "            raise TypeError('logg must be an integer or a float')\n",
      "        if float(value) not in (-1., 5., 6., 7. ,8., 9.):\n",
      "            raise ValueError('Error, logg must be 6, 7, 8, or 9')\n",
      "            self.__logg = None\n",
      "        elif self.__logg != value:\n",
      "            self.__logg = value\n",
      "            self.filename = '0{0:06.0f}_{1:.2f}_33_50_02_15.bin_0.1.gz'.format(self.T, self.logg)\n",
      "            self.dlfile() # will download new data\n",
      "            self.read_data() # will update the data\n",
      "        \n",
      "    def __dellogg(self): \n",
      "        print('logg is needed')\n",
      "        \n",
      "    logg = property(__getlogg, __setlogg, __dellogg, \"Stellar logg\")\n",
      "\n",
      "    def print_info(self):\n",
      "        \"\"\"\n",
      "        Print out the filename and the number of points\n",
      "        \"\"\"\n",
      "        print self.__repr__()\n",
      "        \n",
      "    def __repr__(self):\n",
      "        \"\"\"\n",
      "        This is what is used when calling \"print <obj>\" or <obj> ENTER\n",
      "        \"\"\"\n",
      "        if self.wl is None:\n",
      "            return'Filename: {0}, No data'.format(self.filename)\n",
      "        else:\n",
      "            return'Filename: {0}, number of points: {1}'.format(self.filename, len(self.wl))\n",
      "    \n",
      "    def __del__(self):\n",
      "        Stel_Spectrum.spec_count -= 1\n",
      "\n",
      "\n",
      "sp = Stel_Spectrum(T=100000, logg=6, verbose=True)\n",
      "print('Temperature = {0:.0f}K, Flux = {1:.2e} erg/s/cm2'.format(sp.T, sp.get_integ()))"
     ],
     "language": "python",
     "metadata": {},
     "outputs": [
      {
       "output_type": "stream",
       "stream": "stdout",
       "text": [
        "Writing test_3_prof.py\n"
       ]
      }
     ],
     "prompt_number": 13
    },
    {
     "cell_type": "code",
     "collapsed": false,
     "input": [
      "# need to pip install -U memory_profiler\n",
      "# need to pip install -U psutil\n",
      "!python -m memory_profiler test_3_prof.py "
     ],
     "language": "python",
     "metadata": {},
     "outputs": [
      {
       "output_type": "stream",
       "stream": "stdout",
       "text": [
        "Downloading 0100000_6.00_33_50_02_15.bin_0.1.gz\r\n"
       ]
      },
      {
       "output_type": "stream",
       "stream": "stdout",
       "text": [
        "Read data from 0100000_6.00_33_50_02_15.bin_0.1.gz\r\n",
        "Instantiation done\r\n",
        "Filename: test_3_prof.py\r\n",
        "\r\n",
        "Line #    Mem usage    Increment   Line Contents\r\n",
        "================================================\r\n",
        "    16     21.3 MiB      0.0 MiB       @profile\r\n",
        "    17                                 def __init__(self, filename=None, T=None, logg=None, verbose=False):\r\n",
        "    18                                     \"\"\"\r\n",
        "    19                                     Initialisation of the Stel_Spectrum object.\r\n",
        "    20                                     Parameter:\r\n",
        "    21                                         - filename\r\n",
        "    22                                         - T: temperature in K, e.g. 150000\r\n",
        "    23                                         - logg: e.g. 7.5\r\n",
        "    24                                         - verbose: if True, some info are printed out\r\n",
        "    25                                     The wl variable is an array of wavelengths in Angstrom.\r\n",
        "    26                                     The fl variable is the flux in erg/s/cm2/A\r\n",
        "    27                                     The variables T and logg are properties: changing them will reload the data\r\n",
        "    28                                     \"\"\"\r\n",
        "    29     21.3 MiB      0.0 MiB           self.verbose = verbose\r\n",
        "    30     21.3 MiB      0.0 MiB           if filename is None:\r\n",
        "    31     21.3 MiB      0.0 MiB               if T is not None and logg is not None:\r\n",
        "    32     21.3 MiB      0.0 MiB                   self.__T = T # We need to initialize the hidden values, as logg is still not defined\r\n",
        "    33     28.3 MiB      7.0 MiB                   self.logg = logg\r\n",
        "    34     28.3 MiB      0.0 MiB                   self.filename = '0{0:06.0f}_{1:.2f}_33_50_02_15.bin_0.1.gz'.format(self.T, self.logg)\r\n",
        "    35                                         else:\r\n",
        "    36                                             raise TypeError(\"T and logg must be given\")\r\n",
        "    37                                     else:\r\n",
        "    38                                         self.filename = filename\r\n",
        "    39                                         self.__T = float(filename.split('_')[0]) # We need to initialize the hidden values, as logg is still not defined\r\n",
        "    40                                         self.logg = float(filename.split('_')[1])\r\n",
        "    41     28.3 MiB      0.0 MiB           Stel_Spectrum.spec_count += 1\r\n",
        "    42     28.3 MiB      0.0 MiB           if self.verbose:\r\n",
        "    43     28.3 MiB      0.0 MiB               print('Instantiation done')\r\n",
        "\r\n",
        "\r\n",
        "Filename: test_3_prof.py\r\n",
        "\r\n",
        "Line #    Mem usage    Increment   Line Contents\r\n",
        "================================================\r\n",
        "   104     28.3 MiB      0.0 MiB       @profile\r\n",
        "   105                                 def get_integ(self):\r\n",
        "   106                                     \"\"\"\r\n",
        "   107                                     Return the integral of Flambda over lambda, in erg/s/cm2\r\n",
        "   108                                     \"\"\"\r\n",
        "   109     28.3 MiB      0.0 MiB           if self.wl is None:\r\n",
        "   110                                         print('No data')\r\n",
        "   111                                         return None\r\n",
        "   112     28.4 MiB      0.1 MiB           return simps(self.fl, self.wl) # perform the integral\r\n",
        "\r\n",
        "\r\n",
        "Temperature = 100000K, Flux = 1.79e+15 erg/s/cm2\r\n"
       ]
      }
     ],
     "prompt_number": 14
    },
    {
     "cell_type": "heading",
     "level": 3,
     "metadata": {},
     "source": [
      "Debugger"
     ]
    },
    {
     "cell_type": "heading",
     "level": 4,
     "metadata": {},
     "source": [
      "From the terminal"
     ]
    },
    {
     "cell_type": "code",
     "collapsed": false,
     "input": [
      "# ! ipython -m pdb test_1_prof.py # from a terminal"
     ],
     "language": "python",
     "metadata": {},
     "outputs": [],
     "prompt_number": 15
    },
    {
     "cell_type": "heading",
     "level": 4,
     "metadata": {},
     "source": [
      "Breakpoint"
     ]
    },
    {
     "cell_type": "code",
     "collapsed": false,
     "input": [
      "# import pdb # need to call the debugger at the breakpoint\n",
      "# Inserting a pdb.set_trace in the __init__ method to stop the program and inspect it"
     ],
     "language": "python",
     "metadata": {},
     "outputs": [],
     "prompt_number": 16
    },
    {
     "cell_type": "code",
     "collapsed": false,
     "input": [
      "%%writefile test_5_pdb.py\n",
      "import pdb # This is needed to use the debugger\n",
      "import numpy as np\n",
      "import os\n",
      "import urllib2\n",
      "from scipy.integrate import simps\n",
      "\n",
      "class Stel_Spectrum(object):\n",
      "    \"\"\"\n",
      "    This object downloads a file from http://astro.uni-tuebingen.de/~rauch/TMAF/NLTE/He+C+N+O/\n",
      "    and is able to make some plots.    \n",
      "    \"\"\"\n",
      "    \n",
      "    spec_count = 0 # This attibute is at the level of the class, not of the object.\n",
      "    def __init__(self, filename=None, T=None, logg=None, verbose=False):\n",
      "        \"\"\"\n",
      "        Initialisation of the Stel_Spectrum object.\n",
      "        Parameter:\n",
      "            - filename\n",
      "            - T: temperature in K, e.g. 150000\n",
      "            - logg: e.g. 7.5\n",
      "            - verbose: if True, some info are printed out\n",
      "        The wl variable is an array of wavelengths in Angstrom.\n",
      "        The fl variable is the flux in erg/s/cm2/A\n",
      "        The variables T and logg are properties: changing them will reload the data\n",
      "        \"\"\"\n",
      "        pdb.set_trace() # THIS IS A BREAKPOINT\n",
      "        self.verbose = verbose\n",
      "        if filename is None:\n",
      "            if T is not None and logg is not None:\n",
      "                self.__T = T # We need to initialize the hidden values, as logg is still not defined\n",
      "                self.logg = logg\n",
      "                self.filename = '0{0:06.0f}_{1:.2f}_33_50_02_15.bin_0.1.gz'.format(self.T, self.logg)\n",
      "            else:\n",
      "                raise TypeError(\"T and logg must be given\")\n",
      "        else:\n",
      "            self.filename = filename\n",
      "            self.__T = float(filename.split('_')[0]) # We need to initialize the hidden values, as logg is still not defined\n",
      "            self.logg = float(filename.split('_')[1])\n",
      "        Stel_Spectrum.spec_count += 1\n",
      "        if self.verbose:\n",
      "            print('Instantiation done')\n",
      "            \n",
      "    def dlfile(self):\n",
      "        \"\"\"\n",
      "        Downloading file if not already here. Put it in the current directory\n",
      "        \"\"\"\n",
      "        if not os.path.exists(self.filename):\n",
      "            if self.verbose:\n",
      "                print('Downloading {}'.format(self.filename))\n",
      "            try:\n",
      "                stel_file = urllib2.urlopen('http://astro.uni-tuebingen.de/~rauch/TMAF/NLTE/He+C+N+O/' + \n",
      "                                            self.filename)\n",
      "                output = open(self.filename,'wb')\n",
      "                output.write(stel_file.read())\n",
      "                output.close()\n",
      "                self.file_found=True\n",
      "            except:\n",
      "                if self.verbose:\n",
      "                    print('file {} not found'.format(self.filename))\n",
      "                self.file_found=False\n",
      "        else:\n",
      "            if self.verbose:\n",
      "                print('{} already on disk'.format(self.filename))\n",
      "            self.file_found=True\n",
      "                \n",
      "    def read_data(self):\n",
      "        \"\"\"\n",
      "        read the data from the file\n",
      "        \"\"\"\n",
      "        if self.file_found:\n",
      "            data = np.genfromtxt(self.filename, comments='*', names='wl, fl')\n",
      "            self.fl = data['fl']\n",
      "            self.wl = data['wl'] # in A\n",
      "            self.fl /= 1e8 # F LAMBDA  GIVEN IN ERG/CM**2/SEC/CM -> erg/s/cm2/A\n",
      "            if self.verbose:\n",
      "                print('Read data from {}'.format(self.filename))\n",
      "        else:\n",
      "            if self.verbose:\n",
      "                print('file not found {}'.format(self.filename))\n",
      "            self.wl = None\n",
      "            self.fl = None\n",
      "        \n",
      "    def plot_spr(self, ax=None, *args, **kwargs):\n",
      "        \"\"\"\n",
      "        Plot the spectrum.\n",
      "        Parameter:\n",
      "            - ax: an axis (optionnal). If Noe or absent, axis is created\n",
      "            - any extra parameter is passed to ax.plot\n",
      "        \"\"\"\n",
      "        if self.wl is None:\n",
      "            print('No data to plot')\n",
      "            return\n",
      "        if ax is None:\n",
      "            fig, ax = plt.subplots()\n",
      "        ax.plot(self.wl, self.fl,\n",
      "                label='T3={0:.0f}, logg={1}'.format(self.T/1e3, self.logg),\n",
      "                *args, **kwargs) # Here are the transmissions of extra parameters to plot\n",
      "        ax.set_yscale('log')\n",
      "        ax.set_ylim(1e6, 1e14)\n",
      "        ax.set_xlabel('Wavelength (A)')\n",
      "        \n",
      "    def get_integ(self):\n",
      "        \"\"\"\n",
      "        Return the integral of Flambda over lambda, in erg/s/cm2\n",
      "        \"\"\"\n",
      "        if self.wl is None:\n",
      "            print('No data')\n",
      "            return None\n",
      "        return simps(self.fl, self.wl) # perform the integral\n",
      "    \n",
      "    def __getT(self): \n",
      "        return self.__T\n",
      "    \n",
      "    def __setT(self, value): \n",
      "        if not isinstance(value, (int, long, float)): # check the type of the input\n",
      "            raise TypeError('T must be an integer or a float')\n",
      "        if float(value) not in np.linspace(40000, 190000, 16): # check the value of the input\n",
      "            raise ValueError('T value must be between 40000 and 190000K, by 10000K steps')\n",
      "        elif self.__T != value:\n",
      "            self.__T = value\n",
      "            self.filename = '0{0:06.0f}_{1:.2f}_33_50_02_15.bin_0.1.gz'.format(self.T, self.logg)\n",
      "            self.dlfile() # will download new data\n",
      "            self.read_data() # will update the data\n",
      "        \n",
      "    def __delT(self): \n",
      "        print('T is needed')\n",
      "        \n",
      "    T = property(__getT, __setT, __delT, \"Stellar effective temperature\")\n",
      "    \n",
      "    def __getlogg(self): \n",
      "        return self.__logg\n",
      "    \n",
      "    def __setlogg(self, value):\n",
      "        try:\n",
      "            self.__logg \n",
      "        except:\n",
      "            self.__logg = -1\n",
      "        if not isinstance(value, (int, long, float)):\n",
      "            raise TypeError('logg must be an integer or a float')\n",
      "        if float(value) not in (-1., 5., 6., 7. ,8., 9.):\n",
      "            raise ValueError('Error, logg must be 6, 7, 8, or 9')\n",
      "            self.__logg = None\n",
      "        elif self.__logg != value:\n",
      "            self.__logg = value\n",
      "            self.filename = '0{0:06.0f}_{1:.2f}_33_50_02_15.bin_0.1.gz'.format(self.T, self.logg)\n",
      "            self.dlfile() # will download new data\n",
      "            self.read_data() # will update the data\n",
      "        \n",
      "    def __dellogg(self): \n",
      "        print('logg is needed')\n",
      "        \n",
      "    logg = property(__getlogg, __setlogg, __dellogg, \"Stellar logg\")\n",
      "\n",
      "    def print_info(self):\n",
      "        \"\"\"\n",
      "        Print out the filename and the number of points\n",
      "        \"\"\"\n",
      "        print self.__repr__()\n",
      "        \n",
      "    def __repr__(self):\n",
      "        \"\"\"\n",
      "        This is what is used when calling \"print <obj>\" or <obj> ENTER\n",
      "        \"\"\"\n",
      "        if self.wl is None:\n",
      "            return'Filename: {0}, No data'.format(self.filename)\n",
      "        else:\n",
      "            return'Filename: {0}, number of points: {1}'.format(self.filename, len(self.wl))\n",
      "    \n",
      "    def __del__(self):\n",
      "        Stel_Spectrum.spec_count -= 1\n",
      "\n",
      "sp = Stel_Spectrum(T=100000, logg=6)\n",
      "print 'ending'"
     ],
     "language": "python",
     "metadata": {},
     "outputs": [
      {
       "output_type": "stream",
       "stream": "stdout",
       "text": [
        "Writing test_5_pdb.py\n"
       ]
      }
     ],
     "prompt_number": 17
    },
    {
     "cell_type": "markdown",
     "metadata": {},
     "source": [
      "The commands that can be used once inside the pdb debugger session are: \n",
      "* l(list)\tLists the code at the current position\n",
      "* u(p)\t    Walk up the call stack\n",
      "* d(own)\tWalk down the call stack\n",
      "* n(ext)\tExecute the next line (does not go down in new functions)\n",
      "* s(tep)\tExecute the next statement (goes down in new functions)\n",
      "* bt\t    Print the call stack\n",
      "* a\t        Print the local variables\n",
      "* !command\tExecute the given Python command (by opposition to pdb commands\n",
      "* break N   Set a breakpoint at line number N. If no N, list all the breakpoints\n",
      "* disable N Remove the breakpoin number N\n",
      "* c(ontinue) Run until the next breakpoint or the end of the program\n",
      "* return   Continues executing until the function is about to execute a return statement, and then it pauses. This gives you time to look at the return value before the function returns."
     ]
    },
    {
     "cell_type": "code",
     "collapsed": false,
     "input": [
      "%run test_5_pdb.py"
     ],
     "language": "python",
     "metadata": {},
     "outputs": [
      {
       "output_type": "stream",
       "stream": "stdout",
       "text": [
        "> /home/morisset/public_html/Python_lectures/test_5_pdb.py(27)__init__()\n",
        "-> self.verbose = verbose\n"
       ]
      },
      {
       "name": "stdout",
       "output_type": "stream",
       "stream": "stdout",
       "text": [
        "(Pdb) l\n"
       ]
      },
      {
       "output_type": "stream",
       "stream": "stdout",
       "text": [
        " 22  \t        The wl variable is an array of wavelengths in Angstrom.\n",
        " 23  \t        The fl variable is the flux in erg/s/cm2/A\n",
        " 24  \t        The variables T and logg are properties: changing them will reload the data\n",
        " 25  \t        \"\"\"\n",
        " 26  \t        pdb.set_trace() # THIS IS A BREAKPOINT\n",
        " 27  ->\t        self.verbose = verbose\n",
        " 28  \t        if filename is None:\n",
        " 29  \t            if T is not None and logg is not None:\n",
        " 30  \t                self.__T = T # We need to initialize the hidden values, as logg is still not defined\n",
        " 31  \t                self.logg = logg\n",
        " 32  \t                self.filename = '0{0:06.0f}_{1:.2f}_33_50_02_15.bin_0.1.gz'.format(self.T, self.logg)\n"
       ]
      },
      {
       "name": "stdout",
       "output_type": "stream",
       "stream": "stdout",
       "text": [
        "(Pdb) n\n"
       ]
      },
      {
       "output_type": "stream",
       "stream": "stdout",
       "text": [
        "> /home/morisset/public_html/Python_lectures/test_5_pdb.py(28)__init__()\n",
        "-> if filename is None:\n"
       ]
      },
      {
       "name": "stdout",
       "output_type": "stream",
       "stream": "stdout",
       "text": [
        "(Pdb) n\n"
       ]
      },
      {
       "output_type": "stream",
       "stream": "stdout",
       "text": [
        "> /home/morisset/public_html/Python_lectures/test_5_pdb.py(29)__init__()\n",
        "-> if T is not None and logg is not None:\n"
       ]
      },
      {
       "name": "stdout",
       "output_type": "stream",
       "stream": "stdout",
       "text": [
        "(Pdb) n\n"
       ]
      },
      {
       "output_type": "stream",
       "stream": "stdout",
       "text": [
        "> /home/morisset/public_html/Python_lectures/test_5_pdb.py(30)__init__()\n",
        "-> self.__T = T # We need to initialize the hidden values, as logg is still not defined\n"
       ]
      },
      {
       "name": "stdout",
       "output_type": "stream",
       "stream": "stdout",
       "text": [
        "(Pdb) n\n"
       ]
      },
      {
       "output_type": "stream",
       "stream": "stdout",
       "text": [
        "> /home/morisset/public_html/Python_lectures/test_5_pdb.py(31)__init__()\n",
        "-> self.logg = logg\n"
       ]
      },
      {
       "name": "stdout",
       "output_type": "stream",
       "stream": "stdout",
       "text": [
        "(Pdb) q\n"
       ]
      },
      {
       "ename": "BdbQuit",
       "evalue": "",
       "output_type": "pyerr",
       "traceback": [
        "\u001b[1;31m---------------------------------------------------------------------------\u001b[0m\n\u001b[1;31mBdbQuit\u001b[0m                                   Traceback (most recent call last)",
        "\u001b[1;32m/home/morisset/public_html/Python_lectures/test_5_pdb.py\u001b[0m in \u001b[0;36m<module>\u001b[1;34m()\u001b[0m\n\u001b[0;32m    170\u001b[0m         \u001b[0mStel_Spectrum\u001b[0m\u001b[1;33m.\u001b[0m\u001b[0mspec_count\u001b[0m \u001b[1;33m-=\u001b[0m \u001b[1;36m1\u001b[0m\u001b[1;33m\u001b[0m\u001b[0m\n\u001b[0;32m    171\u001b[0m \u001b[1;33m\u001b[0m\u001b[0m\n\u001b[1;32m--> 172\u001b[1;33m \u001b[0msp\u001b[0m \u001b[1;33m=\u001b[0m \u001b[0mStel_Spectrum\u001b[0m\u001b[1;33m(\u001b[0m\u001b[0mT\u001b[0m\u001b[1;33m=\u001b[0m\u001b[1;36m100000\u001b[0m\u001b[1;33m,\u001b[0m \u001b[0mlogg\u001b[0m\u001b[1;33m=\u001b[0m\u001b[1;36m6\u001b[0m\u001b[1;33m)\u001b[0m\u001b[1;33m\u001b[0m\u001b[0m\n\u001b[0m\u001b[0;32m    173\u001b[0m \u001b[1;32mprint\u001b[0m \u001b[1;34m'ending'\u001b[0m\u001b[1;33m\u001b[0m\u001b[0m\n",
        "\u001b[1;32m/home/morisset/public_html/Python_lectures/test_5_pdb.py\u001b[0m in \u001b[0;36m__init__\u001b[1;34m(self, filename, T, logg, verbose)\u001b[0m\n\u001b[0;32m     29\u001b[0m             \u001b[1;32mif\u001b[0m \u001b[0mT\u001b[0m \u001b[1;32mis\u001b[0m \u001b[1;32mnot\u001b[0m \u001b[0mNone\u001b[0m \u001b[1;32mand\u001b[0m \u001b[0mlogg\u001b[0m \u001b[1;32mis\u001b[0m \u001b[1;32mnot\u001b[0m \u001b[0mNone\u001b[0m\u001b[1;33m:\u001b[0m\u001b[1;33m\u001b[0m\u001b[0m\n\u001b[0;32m     30\u001b[0m                 \u001b[0mself\u001b[0m\u001b[1;33m.\u001b[0m\u001b[0m__T\u001b[0m \u001b[1;33m=\u001b[0m \u001b[0mT\u001b[0m \u001b[1;31m# We need to initialize the hidden values, as logg is still not defined\u001b[0m\u001b[1;33m\u001b[0m\u001b[0m\n\u001b[1;32m---> 31\u001b[1;33m                 \u001b[0mself\u001b[0m\u001b[1;33m.\u001b[0m\u001b[0mlogg\u001b[0m \u001b[1;33m=\u001b[0m \u001b[0mlogg\u001b[0m\u001b[1;33m\u001b[0m\u001b[0m\n\u001b[0m\u001b[0;32m     32\u001b[0m                 \u001b[0mself\u001b[0m\u001b[1;33m.\u001b[0m\u001b[0mfilename\u001b[0m \u001b[1;33m=\u001b[0m \u001b[1;34m'0{0:06.0f}_{1:.2f}_33_50_02_15.bin_0.1.gz'\u001b[0m\u001b[1;33m.\u001b[0m\u001b[0mformat\u001b[0m\u001b[1;33m(\u001b[0m\u001b[0mself\u001b[0m\u001b[1;33m.\u001b[0m\u001b[0mT\u001b[0m\u001b[1;33m,\u001b[0m \u001b[0mself\u001b[0m\u001b[1;33m.\u001b[0m\u001b[0mlogg\u001b[0m\u001b[1;33m)\u001b[0m\u001b[1;33m\u001b[0m\u001b[0m\n\u001b[0;32m     33\u001b[0m             \u001b[1;32melse\u001b[0m\u001b[1;33m:\u001b[0m\u001b[1;33m\u001b[0m\u001b[0m\n",
        "\u001b[1;32m/home/morisset/public_html/Python_lectures/test_5_pdb.py\u001b[0m in \u001b[0;36m__init__\u001b[1;34m(self, filename, T, logg, verbose)\u001b[0m\n\u001b[0;32m     29\u001b[0m             \u001b[1;32mif\u001b[0m \u001b[0mT\u001b[0m \u001b[1;32mis\u001b[0m \u001b[1;32mnot\u001b[0m \u001b[0mNone\u001b[0m \u001b[1;32mand\u001b[0m \u001b[0mlogg\u001b[0m \u001b[1;32mis\u001b[0m \u001b[1;32mnot\u001b[0m \u001b[0mNone\u001b[0m\u001b[1;33m:\u001b[0m\u001b[1;33m\u001b[0m\u001b[0m\n\u001b[0;32m     30\u001b[0m                 \u001b[0mself\u001b[0m\u001b[1;33m.\u001b[0m\u001b[0m__T\u001b[0m \u001b[1;33m=\u001b[0m \u001b[0mT\u001b[0m \u001b[1;31m# We need to initialize the hidden values, as logg is still not defined\u001b[0m\u001b[1;33m\u001b[0m\u001b[0m\n\u001b[1;32m---> 31\u001b[1;33m                 \u001b[0mself\u001b[0m\u001b[1;33m.\u001b[0m\u001b[0mlogg\u001b[0m \u001b[1;33m=\u001b[0m \u001b[0mlogg\u001b[0m\u001b[1;33m\u001b[0m\u001b[0m\n\u001b[0m\u001b[0;32m     32\u001b[0m                 \u001b[0mself\u001b[0m\u001b[1;33m.\u001b[0m\u001b[0mfilename\u001b[0m \u001b[1;33m=\u001b[0m \u001b[1;34m'0{0:06.0f}_{1:.2f}_33_50_02_15.bin_0.1.gz'\u001b[0m\u001b[1;33m.\u001b[0m\u001b[0mformat\u001b[0m\u001b[1;33m(\u001b[0m\u001b[0mself\u001b[0m\u001b[1;33m.\u001b[0m\u001b[0mT\u001b[0m\u001b[1;33m,\u001b[0m \u001b[0mself\u001b[0m\u001b[1;33m.\u001b[0m\u001b[0mlogg\u001b[0m\u001b[1;33m)\u001b[0m\u001b[1;33m\u001b[0m\u001b[0m\n\u001b[0;32m     33\u001b[0m             \u001b[1;32melse\u001b[0m\u001b[1;33m:\u001b[0m\u001b[1;33m\u001b[0m\u001b[0m\n",
        "\u001b[1;32m/home/morisset/Ureka/python/lib/python2.7/bdb.pyc\u001b[0m in \u001b[0;36mtrace_dispatch\u001b[1;34m(self, frame, event, arg)\u001b[0m\n\u001b[0;32m     47\u001b[0m             \u001b[1;32mreturn\u001b[0m \u001b[1;31m# None\u001b[0m\u001b[1;33m\u001b[0m\u001b[0m\n\u001b[0;32m     48\u001b[0m         \u001b[1;32mif\u001b[0m \u001b[0mevent\u001b[0m \u001b[1;33m==\u001b[0m \u001b[1;34m'line'\u001b[0m\u001b[1;33m:\u001b[0m\u001b[1;33m\u001b[0m\u001b[0m\n\u001b[1;32m---> 49\u001b[1;33m             \u001b[1;32mreturn\u001b[0m \u001b[0mself\u001b[0m\u001b[1;33m.\u001b[0m\u001b[0mdispatch_line\u001b[0m\u001b[1;33m(\u001b[0m\u001b[0mframe\u001b[0m\u001b[1;33m)\u001b[0m\u001b[1;33m\u001b[0m\u001b[0m\n\u001b[0m\u001b[0;32m     50\u001b[0m         \u001b[1;32mif\u001b[0m \u001b[0mevent\u001b[0m \u001b[1;33m==\u001b[0m \u001b[1;34m'call'\u001b[0m\u001b[1;33m:\u001b[0m\u001b[1;33m\u001b[0m\u001b[0m\n\u001b[0;32m     51\u001b[0m             \u001b[1;32mreturn\u001b[0m \u001b[0mself\u001b[0m\u001b[1;33m.\u001b[0m\u001b[0mdispatch_call\u001b[0m\u001b[1;33m(\u001b[0m\u001b[0mframe\u001b[0m\u001b[1;33m,\u001b[0m \u001b[0marg\u001b[0m\u001b[1;33m)\u001b[0m\u001b[1;33m\u001b[0m\u001b[0m\n",
        "\u001b[1;32m/home/morisset/Ureka/python/lib/python2.7/bdb.pyc\u001b[0m in \u001b[0;36mdispatch_line\u001b[1;34m(self, frame)\u001b[0m\n\u001b[0;32m     66\u001b[0m         \u001b[1;32mif\u001b[0m \u001b[0mself\u001b[0m\u001b[1;33m.\u001b[0m\u001b[0mstop_here\u001b[0m\u001b[1;33m(\u001b[0m\u001b[0mframe\u001b[0m\u001b[1;33m)\u001b[0m \u001b[1;32mor\u001b[0m \u001b[0mself\u001b[0m\u001b[1;33m.\u001b[0m\u001b[0mbreak_here\u001b[0m\u001b[1;33m(\u001b[0m\u001b[0mframe\u001b[0m\u001b[1;33m)\u001b[0m\u001b[1;33m:\u001b[0m\u001b[1;33m\u001b[0m\u001b[0m\n\u001b[0;32m     67\u001b[0m             \u001b[0mself\u001b[0m\u001b[1;33m.\u001b[0m\u001b[0muser_line\u001b[0m\u001b[1;33m(\u001b[0m\u001b[0mframe\u001b[0m\u001b[1;33m)\u001b[0m\u001b[1;33m\u001b[0m\u001b[0m\n\u001b[1;32m---> 68\u001b[1;33m             \u001b[1;32mif\u001b[0m \u001b[0mself\u001b[0m\u001b[1;33m.\u001b[0m\u001b[0mquitting\u001b[0m\u001b[1;33m:\u001b[0m \u001b[1;32mraise\u001b[0m \u001b[0mBdbQuit\u001b[0m\u001b[1;33m\u001b[0m\u001b[0m\n\u001b[0m\u001b[0;32m     69\u001b[0m         \u001b[1;32mreturn\u001b[0m \u001b[0mself\u001b[0m\u001b[1;33m.\u001b[0m\u001b[0mtrace_dispatch\u001b[0m\u001b[1;33m\u001b[0m\u001b[0m\n\u001b[0;32m     70\u001b[0m \u001b[1;33m\u001b[0m\u001b[0m\n",
        "\u001b[1;31mBdbQuit\u001b[0m: "
       ]
      }
     ],
     "prompt_number": 18
    },
    {
     "cell_type": "code",
     "collapsed": false,
     "input": [],
     "language": "python",
     "metadata": {},
     "outputs": []
    }
   ],
   "metadata": {}
  }
 ]
}