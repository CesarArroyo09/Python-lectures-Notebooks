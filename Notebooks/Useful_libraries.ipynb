{
 "metadata": {
  "name": "",
  "signature": "sha256:7269d187b4174cd0e09bf5228ac46af809fce72a9ad8985ecbbbf9c158abf393"
 },
 "nbformat": 3,
 "nbformat_minor": 0,
 "worksheets": [
  {
   "cells": [
    {
     "cell_type": "code",
     "collapsed": false,
     "input": [
      "# Just to know last time this was run:\n",
      "import time\n",
      "print time.ctime()"
     ],
     "language": "python",
     "metadata": {},
     "outputs": [
      {
       "output_type": "stream",
       "stream": "stdout",
       "text": [
        "Mon Sep 21 16:28:14 2015\n"
       ]
      }
     ],
     "prompt_number": 1
    },
    {
     "cell_type": "code",
     "collapsed": false,
     "input": [
      "import numpy as np"
     ],
     "language": "python",
     "metadata": {},
     "outputs": [],
     "prompt_number": 13
    },
    {
     "cell_type": "heading",
     "level": 1,
     "metadata": {},
     "source": [
      "F Some useful libraries that make life easier"
     ]
    },
    {
     "cell_type": "markdown",
     "metadata": {},
     "source": [
      "This is part of the Python lecture given by Christophe Morisset at IA-UNAM. More informations at: http://python-astro.blogspot.mx/"
     ]
    },
    {
     "cell_type": "markdown",
     "metadata": {},
     "source": [
      "This lecture will give some insights to the most useful python libraries. It is NOT exhaustive, you have to read the corresponding manual pages to find the best use you can have of them. The list of all python-included libraries is here: https://docs.python.org/2/library/"
     ]
    },
    {
     "cell_type": "heading",
     "level": 3,
     "metadata": {},
     "source": [
      "time, datetime and timeit"
     ]
    },
    {
     "cell_type": "markdown",
     "metadata": {},
     "source": [
      "*  https://docs.python.org/2/library/time.html\n",
      "*  https://docs.python.org/2/library/datetime.html"
     ]
    },
    {
     "cell_type": "code",
     "collapsed": false,
     "input": [
      "import time\n",
      "import datetime"
     ],
     "language": "python",
     "metadata": {},
     "outputs": [],
     "prompt_number": 2
    },
    {
     "cell_type": "code",
     "collapsed": false,
     "input": [
      "print time.ctime() # current time, in a string format"
     ],
     "language": "python",
     "metadata": {},
     "outputs": [
      {
       "output_type": "stream",
       "stream": "stdout",
       "text": [
        "Mon Sep 21 16:29:25 2015\n"
       ]
      }
     ],
     "prompt_number": 3
    },
    {
     "cell_type": "code",
     "collapsed": false,
     "input": [
      "lt = time.localtime()\n",
      "print lt"
     ],
     "language": "python",
     "metadata": {},
     "outputs": [
      {
       "output_type": "stream",
       "stream": "stdout",
       "text": [
        "time.struct_time(tm_year=2015, tm_mon=9, tm_mday=21, tm_hour=16, tm_min=29, tm_sec=34, tm_wday=0, tm_yday=264, tm_isdst=1)\n"
       ]
      }
     ],
     "prompt_number": 4
    },
    {
     "cell_type": "code",
     "collapsed": false,
     "input": [
      "time.strftime(\"%a, %d %b %Y %H:%M:%S\",lt)"
     ],
     "language": "python",
     "metadata": {},
     "outputs": [
      {
       "metadata": {},
       "output_type": "pyout",
       "prompt_number": 6,
       "text": [
        "'Mon, 21 Sep 2015 16:29:34'"
       ]
      }
     ],
     "prompt_number": 6
    },
    {
     "cell_type": "code",
     "collapsed": false,
     "input": [
      "print datetime.datetime.today()"
     ],
     "language": "python",
     "metadata": {},
     "outputs": [
      {
       "output_type": "stream",
       "stream": "stdout",
       "text": [
        "2015-09-21 16:31:40.917883\n"
       ]
      }
     ],
     "prompt_number": 7
    },
    {
     "cell_type": "code",
     "collapsed": false,
     "input": [
      "today = datetime.date.today()\n",
      "philae_landing = datetime.date(2014, 11, 11)"
     ],
     "language": "python",
     "metadata": {},
     "outputs": [],
     "prompt_number": 8
    },
    {
     "cell_type": "code",
     "collapsed": false,
     "input": [
      "time_to_landing = philae_landing - today"
     ],
     "language": "python",
     "metadata": {},
     "outputs": [],
     "prompt_number": 9
    },
    {
     "cell_type": "code",
     "collapsed": false,
     "input": [
      "if philae_landing > today:\n",
      "    print('Philae landing in {} days.'.format(time_to_landing.days))\n",
      "else:\n",
      "    print('Philae landed since {} days.'.format(-time_to_landing.days))"
     ],
     "language": "python",
     "metadata": {},
     "outputs": [
      {
       "output_type": "stream",
       "stream": "stdout",
       "text": [
        "Philae landed since 314 days.\n"
       ]
      }
     ],
     "prompt_number": 11
    },
    {
     "cell_type": "code",
     "collapsed": false,
     "input": [
      "start = time.time()\n",
      "for i in np.arange(1000):\n",
      "    t = np.math.factorial(i)\n",
      "end = time.time()\n",
      "print('1000 factorials done in {0:.3f} secs.'.format(end-start))"
     ],
     "language": "python",
     "metadata": {},
     "outputs": [
      {
       "output_type": "stream",
       "stream": "stdout",
       "text": [
        "1000 factorials done in 0.280 secs.\n"
       ]
      }
     ],
     "prompt_number": 14
    },
    {
     "cell_type": "code",
     "collapsed": false,
     "input": [
      "from timeit import Timer\n",
      "command = \"\"\"\\\n",
      "for i in np.arange(1000):\n",
      "    t = np.math.factorial(i)\n",
      "\"\"\"\n",
      "t = Timer(command, setup='import numpy as np')\n",
      "print t.timeit(number=1)"
     ],
     "language": "python",
     "metadata": {},
     "outputs": [
      {
       "output_type": "stream",
       "stream": "stdout",
       "text": [
        "0.285327196121\n"
       ]
      }
     ],
     "prompt_number": 15
    },
    {
     "cell_type": "markdown",
     "metadata": {},
     "source": [
      "in ipython, one can use the magic timeit function:"
     ]
    },
    {
     "cell_type": "code",
     "collapsed": false,
     "input": [
      "%timeit np.math.factorial(50)"
     ],
     "language": "python",
     "metadata": {},
     "outputs": [
      {
       "output_type": "stream",
       "stream": "stdout",
       "text": [
        "100000 loops, best of 3: 7 \u00b5s per loop\n"
       ]
      }
     ],
     "prompt_number": 16
    },
    {
     "cell_type": "markdown",
     "metadata": {},
     "source": [
      "or for the whole cell:"
     ]
    },
    {
     "cell_type": "code",
     "collapsed": false,
     "input": [
      "%%timeit\n",
      "for i in np.arange(1000):\n",
      "    t = np.math.factorial(i)"
     ],
     "language": "python",
     "metadata": {},
     "outputs": [
      {
       "output_type": "stream",
       "stream": "stdout",
       "text": [
        "1 loops, best of 3: 284 ms per loop\n"
       ]
      }
     ],
     "prompt_number": 17
    },
    {
     "cell_type": "heading",
     "level": 3,
     "metadata": {},
     "source": [
      "os"
     ]
    },
    {
     "cell_type": "markdown",
     "metadata": {},
     "source": [
      "https://docs.python.org/2/library/os.html \n",
      "This module provides a portable way of using operating system dependent functionality. If you just want to read or write a file see open(), if you want to manipulate paths, see the os.path module, and if you want to read all the lines in all the files on the command line see the fileinput module. For creating temporary files and directories see the tempfile module, and for high-level file and directory handling see the shutil module."
     ]
    },
    {
     "cell_type": "code",
     "collapsed": false,
     "input": [
      "import os"
     ],
     "language": "python",
     "metadata": {},
     "outputs": [],
     "prompt_number": 18
    },
    {
     "cell_type": "code",
     "collapsed": false,
     "input": [
      "# os.environ is a dictionnary containing the environment variables and values\n",
      "print os.environ['HOME']"
     ],
     "language": "python",
     "metadata": {},
     "outputs": [
      {
       "output_type": "stream",
       "stream": "stdout",
       "text": [
        "/Users/christophemorisset\n"
       ]
      }
     ],
     "prompt_number": 16
    },
    {
     "cell_type": "code",
     "collapsed": false,
     "input": [
      "# if variable doesn't exists, getenv returns None\n",
      "print os.getenv('HOME2')"
     ],
     "language": "python",
     "metadata": {},
     "outputs": [
      {
       "output_type": "stream",
       "stream": "stdout",
       "text": [
        "None\n"
       ]
      }
     ],
     "prompt_number": 19
    },
    {
     "cell_type": "code",
     "collapsed": false,
     "input": [
      "# get current working directory\n",
      "cwd = os.getcwd()\n",
      "print cwd"
     ],
     "language": "python",
     "metadata": {},
     "outputs": [
      {
       "output_type": "stream",
       "stream": "stdout",
       "text": [
        "/Users/christophemorisset/Google Drive/Pro/Python-MySQL/Notebooks\n"
       ]
      }
     ],
     "prompt_number": 20
    },
    {
     "cell_type": "code",
     "collapsed": false,
     "input": [
      "new_dir = '/tmp/test3456'\n",
      "if not os.path.exists(new_dir):\n",
      "    os.mkdir(new_dir)\n",
      "    print('Dir {} created'.format(new_dir))\n",
      "else:\n",
      "    print('Dir {} exists'.format(new_dir))"
     ],
     "language": "python",
     "metadata": {},
     "outputs": [
      {
       "output_type": "stream",
       "stream": "stdout",
       "text": [
        "Dir /tmp/test3456 exists\n"
       ]
      }
     ],
     "prompt_number": 21
    },
    {
     "cell_type": "code",
     "collapsed": false,
     "input": [
      "# list all the files from a directory\n",
      "os.listdir(new_dir)"
     ],
     "language": "python",
     "metadata": {},
     "outputs": [
      {
       "metadata": {},
       "output_type": "pyout",
       "prompt_number": 24,
       "text": [
        "[]"
       ]
      }
     ],
     "prompt_number": 24
    },
    {
     "cell_type": "code",
     "collapsed": false,
     "input": [
      "os.chdir(cwd)\n",
      "os.getcwd()"
     ],
     "language": "python",
     "metadata": {},
     "outputs": [
      {
       "metadata": {},
       "output_type": "pyout",
       "prompt_number": 25,
       "text": [
        "'/Users/christophemorisset/Google Drive/Pro/Python-MySQL/Notebooks'"
       ]
      }
     ],
     "prompt_number": 25
    },
    {
     "cell_type": "code",
     "collapsed": false,
     "input": [
      "# Renaming files in a directory\n",
      "cwd = os.getcwd()\n",
      "os.chdir(new_dir)\n",
      "for filename in os.listdir('./'):\n",
      "    print filename\n",
      "    base_file, ext = os.path.splitext(filename)\n",
      "    #print base_file, ext\n",
      "    if ext == '.exe':\n",
      "        newname = base_file + '.txt'\n",
      "        os.rename(filename, newname)\n",
      "        print('file {0} renamed to {1}'.format(filename, newname))\n",
      "os.chdir(cwd)"
     ],
     "language": "python",
     "metadata": {},
     "outputs": [
      {
       "output_type": "stream",
       "stream": "stdout",
       "text": [
        "pro1.exe\n",
        "file pro1.exe renamed to pro1.txt\n",
        "pro2.exe\n",
        "file pro2.exe renamed to pro2.txt\n",
        "pro2.tralala\n",
        "pro3.txt\n"
       ]
      }
     ],
     "prompt_number": 27
    },
    {
     "cell_type": "heading",
     "level": 3,
     "metadata": {},
     "source": [
      "sys"
     ]
    },
    {
     "cell_type": "markdown",
     "metadata": {},
     "source": [
      "https://docs.python.org/2/library/sys.html\n",
      "This module provides access to some variables used or maintained by the interpreter and to functions that interact strongly with the interpreter. It is always available.\n",
      "\n",
      "The sys.argv list contains the arguments passed to the script, when the interpreter was started. The first item contains the name of the script itself."
     ]
    },
    {
     "cell_type": "code",
     "collapsed": false,
     "input": [
      "%%writefile sys_text.py\n",
      "import sys\n",
      "for arg in sys.argv:\n",
      "    print arg"
     ],
     "language": "python",
     "metadata": {},
     "outputs": [
      {
       "output_type": "stream",
       "stream": "stdout",
       "text": [
        "Overwriting sys_text.py\n"
       ]
      }
     ],
     "prompt_number": 28
    },
    {
     "cell_type": "code",
     "collapsed": false,
     "input": [
      "! python sys_text.py tralala"
     ],
     "language": "python",
     "metadata": {},
     "outputs": [
      {
       "output_type": "stream",
       "stream": "stdout",
       "text": [
        "sys_text.py\r\n",
        "tralala\r\n"
       ]
      }
     ],
     "prompt_number": 29
    },
    {
     "cell_type": "code",
     "collapsed": false,
     "input": [
      "%%writefile fact.py\n",
      "import sys\n",
      "import numpy\n",
      "print numpy.math.factorial(int(sys.argv[1]))"
     ],
     "language": "python",
     "metadata": {},
     "outputs": [
      {
       "output_type": "stream",
       "stream": "stdout",
       "text": [
        "Overwriting fact.py\n"
       ]
      }
     ],
     "prompt_number": 30
    },
    {
     "cell_type": "code",
     "collapsed": false,
     "input": [
      "! python fact.py 6"
     ],
     "language": "python",
     "metadata": {},
     "outputs": [
      {
       "output_type": "stream",
       "stream": "stdout",
       "text": [
        "720\r\n"
       ]
      }
     ],
     "prompt_number": 31
    },
    {
     "cell_type": "markdown",
     "metadata": {},
     "source": [
      "A more complete managment of the argument (especially those like --v) is available using the argparse library. https://docs.python.org/2/library/argparse.html"
     ]
    },
    {
     "cell_type": "heading",
     "level": 3,
     "metadata": {},
     "source": [
      "Talking to the OS subprocess"
     ]
    },
    {
     "cell_type": "markdown",
     "metadata": {},
     "source": [
      "The os.popen method is deprecated, subprocess is prefered. A good tutorial is here: http://pymotw.com/2/subprocess/"
     ]
    },
    {
     "cell_type": "code",
     "collapsed": false,
     "input": [
      "import subprocess"
     ],
     "language": "python",
     "metadata": {},
     "outputs": [],
     "prompt_number": 32
    },
    {
     "cell_type": "code",
     "collapsed": false,
     "input": [
      "ls -l"
     ],
     "language": "python",
     "metadata": {},
     "outputs": [
      {
       "output_type": "stream",
       "stream": "stdout",
       "text": [
        "total 53120\r\n",
        "-rw-------    1 christophemorisset  staff    89353 Oct  1  2014 0040000_6.00_33_50_02_15.bin_0.1.gz\r\n",
        "-rw-------    1 christophemorisset  staff    85600 Oct  1  2014 0050000_6.00_33_50_02_15.bin_0.1.gz\r\n",
        "-rw-------    1 christophemorisset  staff   339687 Sep 30  2014 0050000_7.00_33_50_02_15.bin_0.1\r\n",
        "-rw-------    1 christophemorisset  staff    86018 Oct  1  2014 0050000_7.00_33_50_02_15.bin_0.1.gz\r\n",
        "-rw-------    1 christophemorisset  staff    86018 Sep 30  2014 0050000_7.00_33_50_02_15.bin_0.2.gz\r\n",
        "-rw-------    1 christophemorisset  staff    86741 Oct  1  2014 0060000_6.00_33_50_02_15.bin_0.1.gz\r\n",
        "-rw-------    1 christophemorisset  staff    88843 Oct  1  2014 0070000_6.00_33_50_02_15.bin_0.1.gz\r\n",
        "-rw-------    1 christophemorisset  staff    89360 Oct  1  2014 0080000_6.00_33_50_02_15.bin_0.1.gz\r\n",
        "-rw-------    1 christophemorisset  staff    89971 Oct  1  2014 0090000_6.00_33_50_02_15.bin_0.1.gz\r\n",
        "-rw-------    1 christophemorisset  staff    89722 Oct  1  2014 0100000_5.00_33_50_02_15.bin_0.1.gz\r\n",
        "-rw-------    1 christophemorisset  staff    90544 Oct  1  2014 0100000_6.00_33_50_02_15.bin_0.1.gz\r\n",
        "-rw-------    1 christophemorisset  staff    91192 Oct  1  2014 0100000_7.00_33_50_02_15.bin_0.1.gz\r\n",
        "-rw-------    1 christophemorisset  staff    91475 Oct  1  2014 0100000_8.00_33_50_02_15.bin_0.1.gz\r\n",
        "-rw-------    1 christophemorisset  staff    90430 Oct  1  2014 0110000_6.00_33_50_02_15.bin_0.1.gz\r\n",
        "-rw-------    1 christophemorisset  staff    90960 Oct  1  2014 0110000_7.00_33_50_02_15.bin_0.1.gz\r\n",
        "-rw-------    1 christophemorisset  staff    89525 Oct  1  2014 0120000_6.00_33_50_02_15.bin_0.1.gz\r\n",
        "-rw-------    1 christophemorisset  staff    89899 Oct  1  2014 0130000_6.00_33_50_02_15.bin_0.1.gz\r\n",
        "-rw-------    1 christophemorisset  staff    89170 Oct  1  2014 0140000_6.00_33_50_02_15.bin_0.1.gz\r\n",
        "-rw-------    1 christophemorisset  staff    89263 Oct  1  2014 0150000_6.00_33_50_02_15.bin_0.1.gz\r\n",
        "-rw-------    1 christophemorisset  staff    88929 Oct  1  2014 0160000_6.00_33_50_02_15.bin_0.1.gz\r\n",
        "-rw-------    1 christophemorisset  staff    88991 Oct  1  2014 0170000_6.00_33_50_02_15.bin_0.1.gz\r\n",
        "-rw-------    1 christophemorisset  staff    88780 Oct  1  2014 0180000_6.00_33_50_02_15.bin_0.1.gz\r\n",
        "-rw-------    1 christophemorisset  staff    89075 Oct  1  2014 0180000_7.00_33_50_02_15.bin_0.1.gz\r\n",
        "-rw-------    1 christophemorisset  staff    88591 Oct  1  2014 0190000_6.00_33_50_02_15.bin_0.1.gz\r\n",
        "-rw-------    1 christophemorisset  staff   466800 Sep 18 17:54 BPT1.pdf\r\n",
        "-rw-------    1 christophemorisset  staff    45181 Sep 18 17:54 BPT1.png\r\n",
        "-rw-------    1 christophemorisset  staff  4229587 Sep  9 16:50 CALIFA_ah7.dat.gz\r\n",
        "-rw-------    1 christophemorisset  staff    19199 Oct  9  2014 Calling Fortran.ipynb\r\n",
        "-rw-------    1 christophemorisset  staff      384 Sep  7 16:45 Demo.pickle\r\n",
        "-rw-------    1 christophemorisset  staff  2224036 Sep  7 16:48 Demo2.pickle\r\n",
        "-rw-------    1 christophemorisset  staff     7717 Sep  9 17:53 Ex1.ipynb\r\n",
        "-rw-------    1 christophemorisset  staff   381664 Sep 18 17:58 Ex1_done.ipynb\r\n",
        "-rw-------    1 christophemorisset  staff   315341 Sep 14 10:20 Ex1_with_res.ipynb\r\n",
        "-rw-------    1 christophemorisset  staff   383903 Sep  7 19:06 Fig1.pdf\r\n",
        "-rw-r--r--@   1 christophemorisset  staff        0 Mar 28 15:35 Icon?\r\n",
        "-rw-------    1 christophemorisset  staff   172213 Sep 14 13:13 Interact with files.ipynb\r\n",
        "-rw-------    1 christophemorisset  staff   688464 Oct  2  2014 OOP.ipynb\r\n",
        "-rw-------    1 christophemorisset  staff   295013 Oct  9  2014 Optimization.ipynb\r\n",
        "-rw-------    1 christophemorisset  staff    57604 Sep 21 17:07 Useful_libraries.ipynb\r\n",
        "-rw-------    1 christophemorisset  staff   185469 Nov 13  2014 Using_PyMySQL.ipynb\r\n",
        "-rw-------    1 christophemorisset  staff   208832 Sep 25  2014 Using_astropy.ipynb\r\n",
        "-rw-------    1 christophemorisset  staff      136 Sep  9 16:08 data1.dat\r\n",
        "-rw-------    1 christophemorisset  staff       14 Sep  7 16:35 data10.dat\r\n",
        "-rw-------    1 christophemorisset  staff       32 Sep  7 16:39 data11.dat\r\n",
        "-rw-------    1 christophemorisset  staff       88 Sep  7 16:42 data12.dat\r\n",
        "-rw-------    1 christophemorisset  staff      147 Aug 31 18:25 data2.dat\r\n",
        "-rw-------    1 christophemorisset  staff      166 Aug 31 18:58 data3.dat\r\n",
        "-rw-------    1 christophemorisset  staff     1189 Aug 31 19:02 data4.dat\r\n",
        "-rw-------    1 christophemorisset  staff     1185 Aug 31 19:06 data5.dat\r\n",
        "-rw-------    1 christophemorisset  staff      136 Sep 14 10:16 data_ex1.dat\r\n",
        "-rw-------    1 christophemorisset  staff      298 Oct  8  2014 dcumsum.f\r\n",
        "-rw-------    1 christophemorisset  staff    33408 Oct  8  2014 dcumsum.so\r\n",
        "-rw-------    1 christophemorisset  staff     1358 Aug 24 16:59 ex1.html\r\n",
        "-rw-------    1 christophemorisset  staff      154 Aug 24 16:46 ex1.py\r\n",
        "-rw-------    1 christophemorisset  staff      284 Aug 24 16:48 ex1.pyc\r\n",
        "-rw-------    1 christophemorisset  staff        8 Sep 18  2014 ex1.txt\r\n",
        "-rw-------    1 christophemorisset  staff       68 Sep 21 17:07 fact.py\r\n",
        "-rw-------    1 christophemorisset  staff       49 Oct  8  2014 hello.py\r\n",
        "-rw-------    1 christophemorisset  staff     1090 Oct  8  2014 hellofortran.c\r\n",
        "-rw-------    1 christophemorisset  staff      178 Oct  8  2014 hellofortran.f\r\n",
        "-rw-------    1 christophemorisset  staff    33976 Oct  8  2014 hellofortran.so\r\n",
        "-rw-------    1 christophemorisset  staff  1981544 Sep 14 16:51 intro_Matplotlib.ipynb\r\n",
        "-rw-------    1 christophemorisset  staff    15200 Aug 28  2014 intro_Python.aux\r\n",
        "-rw-------    1 christophemorisset  staff   326924 Aug 28  2014 intro_Python.html\r\n",
        "-rw-------    1 christophemorisset  staff        0 Aug 28  2014 intro_Python.idx\r\n",
        "-rw-------    1 christophemorisset  staff   117765 Aug 28  2014 intro_Python.log\r\n",
        "-rw-------    1 christophemorisset  staff     1818 Aug 28  2014 intro_Python.out\r\n",
        "-rw-------    1 christophemorisset  staff   142753 Aug 28  2014 intro_Python.pdf\r\n",
        "-rw-------    1 christophemorisset  staff   178049 Aug 28  2014 intro_Python.tex\r\n",
        "-rw-------    1 christophemorisset  staff     2047 Aug 28  2014 intro_Python.toc\r\n",
        "-rw-------    1 christophemorisset  staff   179449 Aug 28  2014 intro_Python_2.pdf\r\n",
        "-rw-------    1 christophemorisset  staff   103229 Aug 28  2014 intro_Python_3.pdf\r\n",
        "drwxr-xr-x  116 christophemorisset  staff     3944 Mar 28 18:46 \u001b[34mintro_Python_files\u001b[m\u001b[m/\r\n",
        "-rw-------    1 christophemorisset  staff   692283 Sep 15 10:00 intro_Scipy.ipynb\r\n",
        "-rw-------    1 christophemorisset  staff    97895 Sep 14 13:09 intro_numpy.ipynb\r\n",
        "-rw-------    1 christophemorisset  staff  8830080 Sep  3  2014 n10017o.fits\r\n",
        "-rw-------    1 christophemorisset  staff     5760 Sep  7 17:09 new.fits\r\n",
        "-rw-------    1 christophemorisset  staff   435801 Nov 11  2014 query_res.dat\r\n",
        "-rw-------    1 christophemorisset  staff  1059840 Sep  3  2014 swp04345.mxhi\r\n",
        "-rw-------    1 christophemorisset  staff       45 Sep 21 17:05 sys_text.py\r\n",
        "-rw-------    1 christophemorisset  staff      352 Sep 25  2014 tab1.dat\r\n",
        "-rw-------    1 christophemorisset  staff      763 Sep 25  2014 tab_cds1.ascii\r\n",
        "-rw-------    1 christophemorisset  staff    43200 Sep 25  2014 tab_cds1.fits\r\n",
        "-rw-------    1 christophemorisset  staff     1265 Sep 25  2014 tab_cds1.tex\r\n",
        "-rw-------    1 christophemorisset  staff     1826 Sep 25  2014 tab_cds2.ascii\r\n",
        "-rw-------    1 christophemorisset  staff   176673 Oct 16  2014 test_1-po\r\n",
        "-rw-------    1 christophemorisset  staff   176673 Oct  8  2014 test_1-prof.png\r\n",
        "-rw-------    1 christophemorisset  staff   237787 Oct  8  2014 test_1_prof.prof\r\n",
        "-rw-------    1 christophemorisset  staff     6804 Oct  8  2014 test_1_prof.py\r\n",
        "-rw-------    1 christophemorisset  staff     6824 Oct  8  2014 test_2_prof.py\r\n",
        "-rw-------    1 christophemorisset  staff      374 Oct  8  2014 test_2_prof.py.lprof\r\n",
        "-rw-------    1 christophemorisset  staff     6566 Oct  8  2014 test_3_prof.py\r\n",
        "-rw-------    1 christophemorisset  staff     6469 Oct  8  2014 test_5_pdb.py\r\n"
       ]
      }
     ],
     "prompt_number": 33
    },
    {
     "cell_type": "code",
     "collapsed": false,
     "input": [
      "subprocess.call(['ls -l'], shell=True)\n",
      "# The results is not visible in Notebook. In command line, the files are listed"
     ],
     "language": "python",
     "metadata": {},
     "outputs": [
      {
       "metadata": {},
       "output_type": "pyout",
       "prompt_number": 34,
       "text": [
        "0"
       ]
      }
     ],
     "prompt_number": 34
    },
    {
     "cell_type": "code",
     "collapsed": false,
     "input": [
      "output = subprocess.check_output(['ls', '-l'])\n",
      "print output\n",
      "print type(output)"
     ],
     "language": "python",
     "metadata": {},
     "outputs": [
      {
       "output_type": "stream",
       "stream": "stdout",
       "text": [
        "total 53120\n",
        "-rw-------    1 christophemorisset  staff    89353 Oct  1  2014 0040000_6.00_33_50_02_15.bin_0.1.gz\n",
        "-rw-------    1 christophemorisset  staff    85600 Oct  1  2014 0050000_6.00_33_50_02_15.bin_0.1.gz\n",
        "-rw-------    1 christophemorisset  staff   339687 Sep 30  2014 0050000_7.00_33_50_02_15.bin_0.1\n",
        "-rw-------    1 christophemorisset  staff    86018 Oct  1  2014 0050000_7.00_33_50_02_15.bin_0.1.gz\n",
        "-rw-------    1 christophemorisset  staff    86018 Sep 30  2014 0050000_7.00_33_50_02_15.bin_0.2.gz\n",
        "-rw-------    1 christophemorisset  staff    86741 Oct  1  2014 0060000_6.00_33_50_02_15.bin_0.1.gz\n",
        "-rw-------    1 christophemorisset  staff    88843 Oct  1  2014 0070000_6.00_33_50_02_15.bin_0.1.gz\n",
        "-rw-------    1 christophemorisset  staff    89360 Oct  1  2014 0080000_6.00_33_50_02_15.bin_0.1.gz\n",
        "-rw-------    1 christophemorisset  staff    89971 Oct  1  2014 0090000_6.00_33_50_02_15.bin_0.1.gz\n",
        "-rw-------    1 christophemorisset  staff    89722 Oct  1  2014 0100000_5.00_33_50_02_15.bin_0.1.gz\n",
        "-rw-------    1 christophemorisset  staff    90544 Oct  1  2014 0100000_6.00_33_50_02_15.bin_0.1.gz\n",
        "-rw-------    1 christophemorisset  staff    91192 Oct  1  2014 0100000_7.00_33_50_02_15.bin_0.1.gz\n",
        "-rw-------    1 christophemorisset  staff    91475 Oct  1  2014 0100000_8.00_33_50_02_15.bin_0.1.gz\n",
        "-rw-------    1 christophemorisset  staff    90430 Oct  1  2014 0110000_6.00_33_50_02_15.bin_0.1.gz\n",
        "-rw-------    1 christophemorisset  staff    90960 Oct  1  2014 0110000_7.00_33_50_02_15.bin_0.1.gz\n",
        "-rw-------    1 christophemorisset  staff    89525 Oct  1  2014 0120000_6.00_33_50_02_15.bin_0.1.gz\n",
        "-rw-------    1 christophemorisset  staff    89899 Oct  1  2014 0130000_6.00_33_50_02_15.bin_0.1.gz\n",
        "-rw-------    1 christophemorisset  staff    89170 Oct  1  2014 0140000_6.00_33_50_02_15.bin_0.1.gz\n",
        "-rw-------    1 christophemorisset  staff    89263 Oct  1  2014 0150000_6.00_33_50_02_15.bin_0.1.gz\n",
        "-rw-------    1 christophemorisset  staff    88929 Oct  1  2014 0160000_6.00_33_50_02_15.bin_0.1.gz\n",
        "-rw-------    1 christophemorisset  staff    88991 Oct  1  2014 0170000_6.00_33_50_02_15.bin_0.1.gz\n",
        "-rw-------    1 christophemorisset  staff    88780 Oct  1  2014 0180000_6.00_33_50_02_15.bin_0.1.gz\n",
        "-rw-------    1 christophemorisset  staff    89075 Oct  1  2014 0180000_7.00_33_50_02_15.bin_0.1.gz\n",
        "-rw-------    1 christophemorisset  staff    88591 Oct  1  2014 0190000_6.00_33_50_02_15.bin_0.1.gz\n",
        "-rw-------    1 christophemorisset  staff   466800 Sep 18 17:54 BPT1.pdf\n",
        "-rw-------    1 christophemorisset  staff    45181 Sep 18 17:54 BPT1.png\n",
        "-rw-------    1 christophemorisset  staff  4229587 Sep  9 16:50 CALIFA_ah7.dat.gz\n",
        "-rw-------    1 christophemorisset  staff    19199 Oct  9  2014 Calling Fortran.ipynb\n",
        "-rw-------    1 christophemorisset  staff      384 Sep  7 16:45 Demo.pickle\n",
        "-rw-------    1 christophemorisset  staff  2224036 Sep  7 16:48 Demo2.pickle\n",
        "-rw-------    1 christophemorisset  staff     7717 Sep  9 17:53 Ex1.ipynb\n",
        "-rw-------    1 christophemorisset  staff   381664 Sep 18 17:58 Ex1_done.ipynb\n",
        "-rw-------    1 christophemorisset  staff   315341 Sep 14 10:20 Ex1_with_res.ipynb\n",
        "-rw-------    1 christophemorisset  staff   383903 Sep  7 19:06 Fig1.pdf\n",
        "-rw-r--r--@   1 christophemorisset  staff        0 Mar 28 15:35 Icon\r\n",
        "-rw-------    1 christophemorisset  staff   172213 Sep 14 13:13 Interact with files.ipynb\n",
        "-rw-------    1 christophemorisset  staff   688464 Oct  2  2014 OOP.ipynb\n",
        "-rw-------    1 christophemorisset  staff   295013 Oct  9  2014 Optimization.ipynb\n",
        "-rw-------    1 christophemorisset  staff    57809 Sep 21 17:13 Useful_libraries.ipynb\n",
        "-rw-------    1 christophemorisset  staff   185469 Nov 13  2014 Using_PyMySQL.ipynb\n",
        "-rw-------    1 christophemorisset  staff   208832 Sep 25  2014 Using_astropy.ipynb\n",
        "-rw-------    1 christophemorisset  staff      136 Sep  9 16:08 data1.dat\n",
        "-rw-------    1 christophemorisset  staff       14 Sep  7 16:35 data10.dat\n",
        "-rw-------    1 christophemorisset  staff       32 Sep  7 16:39 data11.dat\n",
        "-rw-------    1 christophemorisset  staff       88 Sep  7 16:42 data12.dat\n",
        "-rw-------    1 christophemorisset  staff      147 Aug 31 18:25 data2.dat\n",
        "-rw-------    1 christophemorisset  staff      166 Aug 31 18:58 data3.dat\n",
        "-rw-------    1 christophemorisset  staff     1189 Aug 31 19:02 data4.dat\n",
        "-rw-------    1 christophemorisset  staff     1185 Aug 31 19:06 data5.dat\n",
        "-rw-------    1 christophemorisset  staff      136 Sep 14 10:16 data_ex1.dat\n",
        "-rw-------    1 christophemorisset  staff      298 Oct  8  2014 dcumsum.f\n",
        "-rw-------    1 christophemorisset  staff    33408 Oct  8  2014 dcumsum.so\n",
        "-rw-------    1 christophemorisset  staff     1358 Aug 24 16:59 ex1.html\n",
        "-rw-------    1 christophemorisset  staff      154 Aug 24 16:46 ex1.py\n",
        "-rw-------    1 christophemorisset  staff      284 Aug 24 16:48 ex1.pyc\n",
        "-rw-------    1 christophemorisset  staff        8 Sep 18  2014 ex1.txt\n",
        "-rw-------    1 christophemorisset  staff       68 Sep 21 17:07 fact.py\n",
        "-rw-------    1 christophemorisset  staff       49 Oct  8  2014 hello.py\n",
        "-rw-------    1 christophemorisset  staff     1090 Oct  8  2014 hellofortran.c\n",
        "-rw-------    1 christophemorisset  staff      178 Oct  8  2014 hellofortran.f\n",
        "-rw-------    1 christophemorisset  staff    33976 Oct  8  2014 hellofortran.so\n",
        "-rw-------    1 christophemorisset  staff  1981544 Sep 14 16:51 intro_Matplotlib.ipynb\n",
        "-rw-------    1 christophemorisset  staff    15200 Aug 28  2014 intro_Python.aux\n",
        "-rw-------    1 christophemorisset  staff   326924 Aug 28  2014 intro_Python.html\n",
        "-rw-------    1 christophemorisset  staff        0 Aug 28  2014 intro_Python.idx\n",
        "-rw-------    1 christophemorisset  staff   117765 Aug 28  2014 intro_Python.log\n",
        "-rw-------    1 christophemorisset  staff     1818 Aug 28  2014 intro_Python.out\n",
        "-rw-------    1 christophemorisset  staff   142753 Aug 28  2014 intro_Python.pdf\n",
        "-rw-------    1 christophemorisset  staff   178049 Aug 28  2014 intro_Python.tex\n",
        "-rw-------    1 christophemorisset  staff     2047 Aug 28  2014 intro_Python.toc\n",
        "-rw-------    1 christophemorisset  staff   179449 Aug 28  2014 intro_Python_2.pdf\n",
        "-rw-------    1 christophemorisset  staff   103229 Aug 28  2014 intro_Python_3.pdf\n",
        "drwxr-xr-x  116 christophemorisset  staff     3944 Mar 28 18:46 intro_Python_files\n",
        "-rw-------    1 christophemorisset  staff   692283 Sep 15 10:00 intro_Scipy.ipynb\n",
        "-rw-------    1 christophemorisset  staff    97895 Sep 14 13:09 intro_numpy.ipynb\n",
        "-rw-------    1 christophemorisset  staff  8830080 Sep  3  2014 n10017o.fits\n",
        "-rw-------    1 christophemorisset  staff     5760 Sep  7 17:09 new.fits\n",
        "-rw-------    1 christophemorisset  staff   435801 Nov 11  2014 query_res.dat\n",
        "-rw-------    1 christophemorisset  staff  1059840 Sep  3  2014 swp04345.mxhi\n",
        "-rw-------    1 christophemorisset  staff       45 Sep 21 17:05 sys_text.py\n",
        "-rw-------    1 christophemorisset  staff      352 Sep 25  2014 tab1.dat\n",
        "-rw-------    1 christophemorisset  staff      763 Sep 25  2014 tab_cds1.ascii\n",
        "-rw-------    1 christophemorisset  staff    43200 Sep 25  2014 tab_cds1.fits\n",
        "-rw-------    1 christophemorisset  staff     1265 Sep 25  2014 tab_cds1.tex\n",
        "-rw-------    1 christophemorisset  staff     1826 Sep 25  2014 tab_cds2.ascii\n",
        "-rw-------    1 christophemorisset  staff   176673 Oct 16  2014 test_1-po\n",
        "-rw-------    1 christophemorisset  staff   176673 Oct  8  2014 test_1-prof.png\n",
        "-rw-------    1 christophemorisset  staff   237787 Oct  8  2014 test_1_prof.prof\n",
        "-rw-------    1 christophemorisset  staff     6804 Oct  8  2014 test_1_prof.py\n",
        "-rw-------    1 christophemorisset  staff     6824 Oct  8  2014 test_2_prof.py\n",
        "-rw-------    1 christophemorisset  staff      374 Oct  8  2014 test_2_prof.py.lprof\n",
        "-rw-------    1 christophemorisset  staff     6566 Oct  8  2014 test_3_prof.py\n",
        "-rw-------    1 christophemorisset  staff     6469 Oct  8  2014 test_5_pdb.py\n",
        "\n",
        "<type 'str'>\n"
       ]
      }
     ],
     "prompt_number": 38
    },
    {
     "cell_type": "code",
     "collapsed": false,
     "input": [
      "command = 'ls -l'\n",
      "popen = subprocess.Popen(command, shell=True)\n",
      "# The same apply here, no output in Notebook\n",
      "print popen"
     ],
     "language": "python",
     "metadata": {},
     "outputs": [
      {
       "output_type": "stream",
       "stream": "stdout",
       "text": [
        "<subprocess.Popen object at 0x10411e990>\n"
       ]
      }
     ],
     "prompt_number": 36
    },
    {
     "cell_type": "code",
     "collapsed": false,
     "input": [
      "popen = subprocess.Popen(command, stdout=subprocess.PIPE, shell=True)\n",
      "res = popen.communicate()[0]\n",
      "print res\n",
      "print type(res)"
     ],
     "language": "python",
     "metadata": {},
     "outputs": [
      {
       "output_type": "stream",
       "stream": "stdout",
       "text": [
        "total 53120\n",
        "-rw-------    1 christophemorisset  staff    89353 Oct  1  2014 0040000_6.00_33_50_02_15.bin_0.1.gz\n",
        "-rw-------    1 christophemorisset  staff    85600 Oct  1  2014 0050000_6.00_33_50_02_15.bin_0.1.gz\n",
        "-rw-------    1 christophemorisset  staff   339687 Sep 30  2014 0050000_7.00_33_50_02_15.bin_0.1\n",
        "-rw-------    1 christophemorisset  staff    86018 Oct  1  2014 0050000_7.00_33_50_02_15.bin_0.1.gz\n",
        "-rw-------    1 christophemorisset  staff    86018 Sep 30  2014 0050000_7.00_33_50_02_15.bin_0.2.gz\n",
        "-rw-------    1 christophemorisset  staff    86741 Oct  1  2014 0060000_6.00_33_50_02_15.bin_0.1.gz\n",
        "-rw-------    1 christophemorisset  staff    88843 Oct  1  2014 0070000_6.00_33_50_02_15.bin_0.1.gz\n",
        "-rw-------    1 christophemorisset  staff    89360 Oct  1  2014 0080000_6.00_33_50_02_15.bin_0.1.gz\n",
        "-rw-------    1 christophemorisset  staff    89971 Oct  1  2014 0090000_6.00_33_50_02_15.bin_0.1.gz\n",
        "-rw-------    1 christophemorisset  staff    89722 Oct  1  2014 0100000_5.00_33_50_02_15.bin_0.1.gz\n",
        "-rw-------    1 christophemorisset  staff    90544 Oct  1  2014 0100000_6.00_33_50_02_15.bin_0.1.gz\n",
        "-rw-------    1 christophemorisset  staff    91192 Oct  1  2014 0100000_7.00_33_50_02_15.bin_0.1.gz\n",
        "-rw-------    1 christophemorisset  staff    91475 Oct  1  2014 0100000_8.00_33_50_02_15.bin_0.1.gz\n",
        "-rw-------    1 christophemorisset  staff    90430 Oct  1  2014 0110000_6.00_33_50_02_15.bin_0.1.gz\n",
        "-rw-------    1 christophemorisset  staff    90960 Oct  1  2014 0110000_7.00_33_50_02_15.bin_0.1.gz\n",
        "-rw-------    1 christophemorisset  staff    89525 Oct  1  2014 0120000_6.00_33_50_02_15.bin_0.1.gz\n",
        "-rw-------    1 christophemorisset  staff    89899 Oct  1  2014 0130000_6.00_33_50_02_15.bin_0.1.gz\n",
        "-rw-------    1 christophemorisset  staff    89170 Oct  1  2014 0140000_6.00_33_50_02_15.bin_0.1.gz\n",
        "-rw-------    1 christophemorisset  staff    89263 Oct  1  2014 0150000_6.00_33_50_02_15.bin_0.1.gz\n",
        "-rw-------    1 christophemorisset  staff    88929 Oct  1  2014 0160000_6.00_33_50_02_15.bin_0.1.gz\n",
        "-rw-------    1 christophemorisset  staff    88991 Oct  1  2014 0170000_6.00_33_50_02_15.bin_0.1.gz\n",
        "-rw-------    1 christophemorisset  staff    88780 Oct  1  2014 0180000_6.00_33_50_02_15.bin_0.1.gz\n",
        "-rw-------    1 christophemorisset  staff    89075 Oct  1  2014 0180000_7.00_33_50_02_15.bin_0.1.gz\n",
        "-rw-------    1 christophemorisset  staff    88591 Oct  1  2014 0190000_6.00_33_50_02_15.bin_0.1.gz\n",
        "-rw-------    1 christophemorisset  staff   466800 Sep 18 17:54 BPT1.pdf\n",
        "-rw-------    1 christophemorisset  staff    45181 Sep 18 17:54 BPT1.png\n",
        "-rw-------    1 christophemorisset  staff  4229587 Sep  9 16:50 CALIFA_ah7.dat.gz\n",
        "-rw-------    1 christophemorisset  staff    19199 Oct  9  2014 Calling Fortran.ipynb\n",
        "-rw-------    1 christophemorisset  staff      384 Sep  7 16:45 Demo.pickle\n",
        "-rw-------    1 christophemorisset  staff  2224036 Sep  7 16:48 Demo2.pickle\n",
        "-rw-------    1 christophemorisset  staff     7717 Sep  9 17:53 Ex1.ipynb\n",
        "-rw-------    1 christophemorisset  staff   381664 Sep 18 17:58 Ex1_done.ipynb\n",
        "-rw-------    1 christophemorisset  staff   315341 Sep 14 10:20 Ex1_with_res.ipynb\n",
        "-rw-------    1 christophemorisset  staff   383903 Sep  7 19:06 Fig1.pdf\n",
        "-rw-r--r--@   1 christophemorisset  staff        0 Mar 28 15:35 Icon\r\n",
        "-rw-------    1 christophemorisset  staff   172213 Sep 14 13:13 Interact with files.ipynb\n",
        "-rw-------    1 christophemorisset  staff   688464 Oct  2  2014 OOP.ipynb\n",
        "-rw-------    1 christophemorisset  staff   295013 Oct  9  2014 Optimization.ipynb\n",
        "-rw-------    1 christophemorisset  staff    57809 Sep 21 17:13 Useful_libraries.ipynb\n",
        "-rw-------    1 christophemorisset  staff   185469 Nov 13  2014 Using_PyMySQL.ipynb\n",
        "-rw-------    1 christophemorisset  staff   208832 Sep 25  2014 Using_astropy.ipynb\n",
        "-rw-------    1 christophemorisset  staff      136 Sep  9 16:08 data1.dat\n",
        "-rw-------    1 christophemorisset  staff       14 Sep  7 16:35 data10.dat\n",
        "-rw-------    1 christophemorisset  staff       32 Sep  7 16:39 data11.dat\n",
        "-rw-------    1 christophemorisset  staff       88 Sep  7 16:42 data12.dat\n",
        "-rw-------    1 christophemorisset  staff      147 Aug 31 18:25 data2.dat\n",
        "-rw-------    1 christophemorisset  staff      166 Aug 31 18:58 data3.dat\n",
        "-rw-------    1 christophemorisset  staff     1189 Aug 31 19:02 data4.dat\n",
        "-rw-------    1 christophemorisset  staff     1185 Aug 31 19:06 data5.dat\n",
        "-rw-------    1 christophemorisset  staff      136 Sep 14 10:16 data_ex1.dat\n",
        "-rw-------    1 christophemorisset  staff      298 Oct  8  2014 dcumsum.f\n",
        "-rw-------    1 christophemorisset  staff    33408 Oct  8  2014 dcumsum.so\n",
        "-rw-------    1 christophemorisset  staff     1358 Aug 24 16:59 ex1.html\n",
        "-rw-------    1 christophemorisset  staff      154 Aug 24 16:46 ex1.py\n",
        "-rw-------    1 christophemorisset  staff      284 Aug 24 16:48 ex1.pyc\n",
        "-rw-------    1 christophemorisset  staff        8 Sep 18  2014 ex1.txt\n",
        "-rw-------    1 christophemorisset  staff       68 Sep 21 17:07 fact.py\n",
        "-rw-------    1 christophemorisset  staff       49 Oct  8  2014 hello.py\n",
        "-rw-------    1 christophemorisset  staff     1090 Oct  8  2014 hellofortran.c\n",
        "-rw-------    1 christophemorisset  staff      178 Oct  8  2014 hellofortran.f\n",
        "-rw-------    1 christophemorisset  staff    33976 Oct  8  2014 hellofortran.so\n",
        "-rw-------    1 christophemorisset  staff  1981544 Sep 14 16:51 intro_Matplotlib.ipynb\n",
        "-rw-------    1 christophemorisset  staff    15200 Aug 28  2014 intro_Python.aux\n",
        "-rw-------    1 christophemorisset  staff   326924 Aug 28  2014 intro_Python.html\n",
        "-rw-------    1 christophemorisset  staff        0 Aug 28  2014 intro_Python.idx\n",
        "-rw-------    1 christophemorisset  staff   117765 Aug 28  2014 intro_Python.log\n",
        "-rw-------    1 christophemorisset  staff     1818 Aug 28  2014 intro_Python.out\n",
        "-rw-------    1 christophemorisset  staff   142753 Aug 28  2014 intro_Python.pdf\n",
        "-rw-------    1 christophemorisset  staff   178049 Aug 28  2014 intro_Python.tex\n",
        "-rw-------    1 christophemorisset  staff     2047 Aug 28  2014 intro_Python.toc\n",
        "-rw-------    1 christophemorisset  staff   179449 Aug 28  2014 intro_Python_2.pdf\n",
        "-rw-------    1 christophemorisset  staff   103229 Aug 28  2014 intro_Python_3.pdf\n",
        "drwxr-xr-x  116 christophemorisset  staff     3944 Mar 28 18:46 intro_Python_files\n",
        "-rw-------    1 christophemorisset  staff   692283 Sep 15 10:00 intro_Scipy.ipynb\n",
        "-rw-------    1 christophemorisset  staff    97895 Sep 14 13:09 intro_numpy.ipynb\n",
        "-rw-------    1 christophemorisset  staff  8830080 Sep  3  2014 n10017o.fits\n",
        "-rw-------    1 christophemorisset  staff     5760 Sep  7 17:09 new.fits\n",
        "-rw-------    1 christophemorisset  staff   435801 Nov 11  2014 query_res.dat\n",
        "-rw-------    1 christophemorisset  staff  1059840 Sep  3  2014 swp04345.mxhi\n",
        "-rw-------    1 christophemorisset  staff       45 Sep 21 17:05 sys_text.py\n",
        "-rw-------    1 christophemorisset  staff      352 Sep 25  2014 tab1.dat\n",
        "-rw-------    1 christophemorisset  staff      763 Sep 25  2014 tab_cds1.ascii\n",
        "-rw-------    1 christophemorisset  staff    43200 Sep 25  2014 tab_cds1.fits\n",
        "-rw-------    1 christophemorisset  staff     1265 Sep 25  2014 tab_cds1.tex\n",
        "-rw-------    1 christophemorisset  staff     1826 Sep 25  2014 tab_cds2.ascii\n",
        "-rw-------    1 christophemorisset  staff   176673 Oct 16  2014 test_1-po\n",
        "-rw-------    1 christophemorisset  staff   176673 Oct  8  2014 test_1-prof.png\n",
        "-rw-------    1 christophemorisset  staff   237787 Oct  8  2014 test_1_prof.prof\n",
        "-rw-------    1 christophemorisset  staff     6804 Oct  8  2014 test_1_prof.py\n",
        "-rw-------    1 christophemorisset  staff     6824 Oct  8  2014 test_2_prof.py\n",
        "-rw-------    1 christophemorisset  staff      374 Oct  8  2014 test_2_prof.py.lprof\n",
        "-rw-------    1 christophemorisset  staff     6566 Oct  8  2014 test_3_prof.py\n",
        "-rw-------    1 christophemorisset  staff     6469 Oct  8  2014 test_5_pdb.py\n",
        "\n",
        "<type 'str'>\n"
       ]
      }
     ],
     "prompt_number": 39
    },
    {
     "cell_type": "code",
     "collapsed": false,
     "input": [
      "popen = subprocess.Popen(command, stdout=subprocess.PIPE, shell=True)\n",
      "for line in iter(popen.stdout.readline, \"\"):\n",
      "    lspl = line.split()\n",
      "    if len(lspl)> 4:\n",
      "        if int(lspl[4]) > 100000:\n",
      "            print lspl[8]"
     ],
     "language": "python",
     "metadata": {},
     "outputs": [
      {
       "output_type": "stream",
       "stream": "stdout",
       "text": [
        "0050000_7.00_33_50_02_15.bin_0.1\n",
        "BPT1.pdf\n",
        "CALIFA_ah7.dat.gz\n",
        "Demo2.pickle\n",
        "Ex1_done.ipynb\n",
        "Ex1_with_res.ipynb\n",
        "Fig1.pdf\n",
        "Interact\n",
        "OOP.ipynb\n",
        "Optimization.ipynb\n",
        "Using_PyMySQL.ipynb\n",
        "Using_astropy.ipynb\n",
        "intro_Matplotlib.ipynb\n",
        "intro_Python.html\n",
        "intro_Python.log\n",
        "intro_Python.pdf\n",
        "intro_Python.tex\n",
        "intro_Python_2.pdf\n",
        "intro_Python_3.pdf\n",
        "intro_Scipy.ipynb\n",
        "n10017o.fits\n",
        "query_res.dat\n",
        "swp04345.mxhi\n",
        "test_1-po\n",
        "test_1-prof.png\n",
        "test_1_prof.prof\n"
       ]
      }
     ],
     "prompt_number": 41
    },
    {
     "cell_type": "heading",
     "level": 3,
     "metadata": {},
     "source": [
      "glob"
     ]
    },
    {
     "cell_type": "markdown",
     "metadata": {},
     "source": [
      "https://docs.python.org/2/library/glob.html"
     ]
    },
    {
     "cell_type": "markdown",
     "metadata": {},
     "source": [
      "No tilde expansion is done, but *, ?, and character ranges expressed with [] will be correctly matched."
     ]
    },
    {
     "cell_type": "code",
     "collapsed": false,
     "input": [
      "import glob"
     ],
     "language": "python",
     "metadata": {},
     "outputs": [],
     "prompt_number": 43
    },
    {
     "cell_type": "code",
     "collapsed": false,
     "input": [
      "ipynb_files = glob.glob('*.ipynb')\n",
      "print ipynb_files"
     ],
     "language": "python",
     "metadata": {},
     "outputs": [
      {
       "output_type": "stream",
       "stream": "stdout",
       "text": [
        "['Calling Fortran.ipynb', 'Ex1.ipynb', 'Ex1_done.ipynb', 'Ex1_with_res.ipynb', 'Interact with files.ipynb', 'intro_Matplotlib.ipynb', 'intro_numpy.ipynb', 'intro_Scipy.ipynb', 'OOP.ipynb', 'Optimization.ipynb', 'Useful_libraries.ipynb', 'Using_astropy.ipynb', 'Using_PyMySQL.ipynb']\n"
       ]
      }
     ],
     "prompt_number": 44
    },
    {
     "cell_type": "heading",
     "level": 3,
     "metadata": {},
     "source": [
      "re"
     ]
    },
    {
     "cell_type": "markdown",
     "metadata": {},
     "source": [
      "The re module provides regular expression tools for advanced string processing. For complex matching and manipulation, regular expressions offer succinct, optimized solutions:"
     ]
    },
    {
     "cell_type": "code",
     "collapsed": false,
     "input": [
      "import re\n",
      "re.findall(r'\\bf[a-z]*', 'whifch foot or hand fell fastest')"
     ],
     "language": "python",
     "metadata": {},
     "outputs": [
      {
       "metadata": {},
       "output_type": "pyout",
       "prompt_number": 48,
       "text": [
        "['foot', 'fell', 'fastest']"
       ]
      }
     ],
     "prompt_number": 48
    },
    {
     "cell_type": "code",
     "collapsed": false,
     "input": [
      "re.sub(r'(\\b[a-z]+) \\1', r'\\1', 'cat in the the hat')"
     ],
     "language": "python",
     "metadata": {},
     "outputs": [
      {
       "metadata": {},
       "output_type": "pyout",
       "prompt_number": 37,
       "text": [
        "'cat in the hat'"
       ]
      }
     ],
     "prompt_number": 37
    },
    {
     "cell_type": "markdown",
     "metadata": {},
     "source": [
      "More in https://docs.python.org/2/library/re.html"
     ]
    },
    {
     "cell_type": "heading",
     "level": 3,
     "metadata": {},
     "source": [
      "urllib2"
     ]
    },
    {
     "cell_type": "code",
     "collapsed": false,
     "input": [
      "import urllib2"
     ],
     "language": "python",
     "metadata": {},
     "outputs": [],
     "prompt_number": 49
    },
    {
     "cell_type": "code",
     "collapsed": false,
     "input": [
      "for line in urllib2.urlopen('http://dev.on-rev.com/myip.irev'):\n",
      "    if 'IP' in line:\n",
      "        IP = line.split(':')[1][:-5]\n",
      "print IP"
     ],
     "language": "python",
     "metadata": {},
     "outputs": [
      {
       "output_type": "stream",
       "stream": "stdout",
       "text": [
        "132.248.1.15\n"
       ]
      }
     ],
     "prompt_number": 58
    }
   ],
   "metadata": {}
  }
 ]
}