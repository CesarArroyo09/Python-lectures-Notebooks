{
 "cells": [
  {
   "cell_type": "code",
   "execution_count": 1,
   "metadata": {
    "collapsed": false
   },
   "outputs": [
    {
     "name": "stdout",
     "output_type": "stream",
     "text": [
      "Thu Sep 22 09:25:00 2016\n"
     ]
    }
   ],
   "source": [
    "# Just to know last time this was run:\n",
    "import time\n",
    "print time.ctime()"
   ]
  },
  {
   "cell_type": "code",
   "execution_count": 2,
   "metadata": {
    "collapsed": false
   },
   "outputs": [],
   "source": [
    "import numpy as np"
   ]
  },
  {
   "cell_type": "markdown",
   "metadata": {},
   "source": [
    "# F Some useful libraries that make life easier"
   ]
  },
  {
   "cell_type": "markdown",
   "metadata": {},
   "source": [
    "This is part of the Python lecture given by Christophe Morisset at IA-UNAM. More informations at: http://python-astro.blogspot.mx/"
   ]
  },
  {
   "cell_type": "markdown",
   "metadata": {},
   "source": [
    "This lecture will give some insights to the most useful python libraries. It is NOT exhaustive, you have to read the corresponding manual pages to find the best use you can have of them. The list of all python-included libraries is here: https://docs.python.org/2/library/"
   ]
  },
  {
   "cell_type": "markdown",
   "metadata": {},
   "source": [
    "### time, datetime and timeit"
   ]
  },
  {
   "cell_type": "markdown",
   "metadata": {},
   "source": [
    "*  https://docs.python.org/2/library/time.html\n",
    "*  https://docs.python.org/2/library/datetime.html"
   ]
  },
  {
   "cell_type": "code",
   "execution_count": 3,
   "metadata": {
    "collapsed": false
   },
   "outputs": [],
   "source": [
    "import time\n",
    "import datetime"
   ]
  },
  {
   "cell_type": "code",
   "execution_count": 4,
   "metadata": {
    "collapsed": false
   },
   "outputs": [
    {
     "name": "stdout",
     "output_type": "stream",
     "text": [
      "Thu Sep 22 09:25:00 2016\n"
     ]
    }
   ],
   "source": [
    "print(time.ctime()) # current time, in a string format"
   ]
  },
  {
   "cell_type": "code",
   "execution_count": 5,
   "metadata": {
    "collapsed": false
   },
   "outputs": [
    {
     "name": "stdout",
     "output_type": "stream",
     "text": [
      "time.struct_time(tm_year=2016, tm_mon=9, tm_mday=22, tm_hour=9, tm_min=25, tm_sec=0, tm_wday=3, tm_yday=266, tm_isdst=1)\n"
     ]
    }
   ],
   "source": [
    "lt = time.localtime()\n",
    "print lt"
   ]
  },
  {
   "cell_type": "code",
   "execution_count": 6,
   "metadata": {
    "collapsed": false
   },
   "outputs": [
    {
     "data": {
      "text/plain": [
       "'Thu, 22 Sep 2016 09:25:00'"
      ]
     },
     "execution_count": 6,
     "metadata": {},
     "output_type": "execute_result"
    }
   ],
   "source": [
    "time.strftime(\"%a, %d %b %Y %H:%M:%S\",lt)"
   ]
  },
  {
   "cell_type": "code",
   "execution_count": 7,
   "metadata": {
    "collapsed": false
   },
   "outputs": [
    {
     "name": "stdout",
     "output_type": "stream",
     "text": [
      "2016-09-22 09:25:00.533591\n"
     ]
    }
   ],
   "source": [
    "print datetime.datetime.today()"
   ]
  },
  {
   "cell_type": "code",
   "execution_count": 8,
   "metadata": {
    "collapsed": false
   },
   "outputs": [],
   "source": [
    "today = datetime.date.today()\n",
    "philae_landing = datetime.date(2014, 11, 11)"
   ]
  },
  {
   "cell_type": "code",
   "execution_count": 9,
   "metadata": {
    "collapsed": false
   },
   "outputs": [],
   "source": [
    "time_to_landing = philae_landing - today"
   ]
  },
  {
   "cell_type": "code",
   "execution_count": 10,
   "metadata": {
    "collapsed": false
   },
   "outputs": [
    {
     "name": "stdout",
     "output_type": "stream",
     "text": [
      "Philae landed since 681 days.\n"
     ]
    }
   ],
   "source": [
    "if philae_landing > today:\n",
    "    print('Philae landing in {} days.'.format(time_to_landing.days))\n",
    "else:\n",
    "    print('Philae landed since {} days.'.format(-time_to_landing.days))"
   ]
  },
  {
   "cell_type": "code",
   "execution_count": 11,
   "metadata": {
    "collapsed": false
   },
   "outputs": [
    {
     "name": "stdout",
     "output_type": "stream",
     "text": [
      "1000 factorials done in 0.091 secs.\n"
     ]
    }
   ],
   "source": [
    "start = time.time()\n",
    "for i in np.arange(1000):\n",
    "    t = np.math.factorial(i)\n",
    "end = time.time()\n",
    "print('1000 factorials done in {0:.3f} secs.'.format(end-start))"
   ]
  },
  {
   "cell_type": "code",
   "execution_count": 12,
   "metadata": {
    "collapsed": false
   },
   "outputs": [
    {
     "name": "stdout",
     "output_type": "stream",
     "text": [
      "0.0934779644012\n"
     ]
    }
   ],
   "source": [
    "from timeit import Timer\n",
    "command = \"\"\"\\\n",
    "for i in np.arange(1000):\n",
    "    t = np.math.factorial(i)\n",
    "\"\"\"\n",
    "t = Timer(command, setup='import numpy as np')\n",
    "print t.timeit(number=1)"
   ]
  },
  {
   "cell_type": "markdown",
   "metadata": {},
   "source": [
    "in ipython, one can use the magic timeit function:"
   ]
  },
  {
   "cell_type": "code",
   "execution_count": 13,
   "metadata": {
    "collapsed": false
   },
   "outputs": [
    {
     "name": "stdout",
     "output_type": "stream",
     "text": [
      "100000 loops, best of 3: 2.52 µs per loop\n"
     ]
    }
   ],
   "source": [
    "%timeit np.math.factorial(50)"
   ]
  },
  {
   "cell_type": "markdown",
   "metadata": {},
   "source": [
    "or for the whole cell:"
   ]
  },
  {
   "cell_type": "code",
   "execution_count": 14,
   "metadata": {
    "collapsed": false
   },
   "outputs": [
    {
     "name": "stdout",
     "output_type": "stream",
     "text": [
      "10 loops, best of 3: 92.9 ms per loop\n"
     ]
    }
   ],
   "source": [
    "%%timeit\n",
    "for i in np.arange(1000):\n",
    "    t = np.math.factorial(i)"
   ]
  },
  {
   "cell_type": "markdown",
   "metadata": {},
   "source": [
    "### os"
   ]
  },
  {
   "cell_type": "markdown",
   "metadata": {},
   "source": [
    "https://docs.python.org/2/library/os.html \n",
    "This module provides a portable way of using operating system dependent functionality. If you just want to read or write a file see open(), if you want to manipulate paths, see the os.path module, and if you want to read all the lines in all the files on the command line see the fileinput module. For creating temporary files and directories see the tempfile module, and for high-level file and directory handling see the shutil module."
   ]
  },
  {
   "cell_type": "code",
   "execution_count": 15,
   "metadata": {
    "collapsed": false
   },
   "outputs": [],
   "source": [
    "import os"
   ]
  },
  {
   "cell_type": "code",
   "execution_count": 16,
   "metadata": {
    "collapsed": false
   },
   "outputs": [
    {
     "name": "stdout",
     "output_type": "stream",
     "text": [
      "/Users/christophemorisset\n"
     ]
    }
   ],
   "source": [
    "# os.environ is a dictionnary containing the environment variables and values\n",
    "if 'HOME' in os.environ:\n",
    "    print os.environ['HOME']\n",
    "else:\n",
    "    print('This OS is too limited to understand HOME')"
   ]
  },
  {
   "cell_type": "code",
   "execution_count": 17,
   "metadata": {
    "collapsed": false
   },
   "outputs": [
    {
     "name": "stdout",
     "output_type": "stream",
     "text": [
      "None\n"
     ]
    }
   ],
   "source": [
    "# if variable doesn't exists, getenv returns None\n",
    "print os.getenv('HOMMMMMME')"
   ]
  },
  {
   "cell_type": "code",
   "execution_count": 18,
   "metadata": {
    "collapsed": false
   },
   "outputs": [
    {
     "name": "stdout",
     "output_type": "stream",
     "text": [
      "/Users/christophemorisset/Google Drive/Pro/Python-MySQL/Notebooks/Notebooks\n"
     ]
    }
   ],
   "source": [
    "# get current working directory\n",
    "cwd = os.getcwd()\n",
    "print cwd #.split('/')[-1]"
   ]
  },
  {
   "cell_type": "code",
   "execution_count": 19,
   "metadata": {
    "collapsed": false
   },
   "outputs": [
    {
     "name": "stdout",
     "output_type": "stream",
     "text": [
      "Dir /tmp/test3456 exists\n"
     ]
    }
   ],
   "source": [
    "new_dir = '/tmp/test3456'\n",
    "if not os.path.exists(new_dir):\n",
    "    os.mkdir(new_dir)\n",
    "    print('Dir {} created'.format(new_dir))\n",
    "else:\n",
    "    print('Dir {} exists'.format(new_dir))"
   ]
  },
  {
   "cell_type": "code",
   "execution_count": 20,
   "metadata": {
    "collapsed": false
   },
   "outputs": [
    {
     "data": {
      "text/plain": [
       "[]"
      ]
     },
     "execution_count": 20,
     "metadata": {},
     "output_type": "execute_result"
    }
   ],
   "source": [
    "# list all the files from a directory\n",
    "os.listdir(new_dir)"
   ]
  },
  {
   "cell_type": "code",
   "execution_count": 21,
   "metadata": {
    "collapsed": false
   },
   "outputs": [
    {
     "data": {
      "text/plain": [
       "'/Users/christophemorisset/Google Drive/Pro/Python-MySQL/Notebooks/Notebooks'"
      ]
     },
     "execution_count": 21,
     "metadata": {},
     "output_type": "execute_result"
    }
   ],
   "source": [
    "os.chdir(cwd)\n",
    "os.getcwd()"
   ]
  },
  {
   "cell_type": "code",
   "execution_count": 22,
   "metadata": {
    "collapsed": false
   },
   "outputs": [
    {
     "name": "stdout",
     "output_type": "stream",
     "text": [
      ".keystone_install_lock\n",
      ".vbox-christophemorisset-ipc\n",
      "com.apple.launchd.2EjFBLuiyO\n",
      "com.apple.launchd.lxla70zbMG\n",
      "com.apple.launchd.pbuwcPW0vm\n",
      "Firefox-Cache\n",
      "test3456\n"
     ]
    }
   ],
   "source": [
    "# Renaming files in a directory\n",
    "cwd = os.getcwd()\n",
    "os.chdir('/tmp')\n",
    "for filename in os.listdir('./'):\n",
    "    print filename\n",
    "    base_file, ext = os.path.splitext(filename)\n",
    "    #print base_file, ext\n",
    "    if ext == '.exe':\n",
    "        newname = base_file + '.txt'\n",
    "        os.rename(filename, newname)\n",
    "        print('file {0} renamed to {1}'.format(filename, newname))\n",
    "os.chdir(cwd)"
   ]
  },
  {
   "cell_type": "markdown",
   "metadata": {},
   "source": [
    "### sys"
   ]
  },
  {
   "cell_type": "markdown",
   "metadata": {},
   "source": [
    "https://docs.python.org/2/library/sys.html\n",
    "This module provides access to some variables used or maintained by the interpreter and to functions that interact strongly with the interpreter. It is always available.\n",
    "\n",
    "The sys.argv list contains the arguments passed to the script, when the interpreter was started. The first item contains the name of the script itself."
   ]
  },
  {
   "cell_type": "code",
   "execution_count": 23,
   "metadata": {
    "collapsed": false
   },
   "outputs": [
    {
     "name": "stdout",
     "output_type": "stream",
     "text": [
      "Overwriting sys_text.py\n"
     ]
    }
   ],
   "source": [
    "%%writefile sys_text.py\n",
    "import sys\n",
    "for arg in sys.argv:\n",
    "    print arg\n",
    "\n"
   ]
  },
  {
   "cell_type": "code",
   "execution_count": 24,
   "metadata": {
    "collapsed": false
   },
   "outputs": [
    {
     "name": "stdout",
     "output_type": "stream",
     "text": [
      "sys_text.py\r\n",
      "tralala\r\n"
     ]
    }
   ],
   "source": [
    "! python sys_text.py tralala"
   ]
  },
  {
   "cell_type": "code",
   "execution_count": 25,
   "metadata": {
    "collapsed": false
   },
   "outputs": [
    {
     "name": "stdout",
     "output_type": "stream",
     "text": [
      "Overwriting fact.py\n"
     ]
    }
   ],
   "source": [
    "%%writefile fact.py\n",
    "import sys\n",
    "import numpy\n",
    "print numpy.math.factorial(int(sys.argv[1]))\n",
    "\n"
   ]
  },
  {
   "cell_type": "code",
   "execution_count": 26,
   "metadata": {
    "collapsed": false
   },
   "outputs": [
    {
     "name": "stdout",
     "output_type": "stream",
     "text": [
      "720\r\n"
     ]
    }
   ],
   "source": [
    "! python fact.py 6"
   ]
  },
  {
   "cell_type": "markdown",
   "metadata": {},
   "source": [
    "A more complete managment of the argument (especially those like --v) is available using the argparse library. https://docs.python.org/2/library/argparse.html"
   ]
  },
  {
   "cell_type": "markdown",
   "metadata": {},
   "source": [
    "### Talking to the OS subprocess"
   ]
  },
  {
   "cell_type": "markdown",
   "metadata": {},
   "source": [
    "The os.popen method is deprecated, subprocess is prefered. A good tutorial is here: http://pymotw.com/2/subprocess/"
   ]
  },
  {
   "cell_type": "code",
   "execution_count": 27,
   "metadata": {
    "collapsed": false
   },
   "outputs": [],
   "source": [
    "import subprocess"
   ]
  },
  {
   "cell_type": "code",
   "execution_count": 28,
   "metadata": {
    "collapsed": false
   },
   "outputs": [
    {
     "name": "stdout",
     "output_type": "stream",
     "text": [
      "total 76848\r\n",
      "-rw-------  1 christophemorisset  staff    89353 Oct 26  2015 0040000_6.00_33_50_02_15.bin_0.1.gz\r\n",
      "-rw-------  1 christophemorisset  staff    85600 Jun  1 17:13 0050000_6.00_33_50_02_15.bin_0.1.gz\r\n",
      "-rw-------  1 christophemorisset  staff    86018 Jun 28 09:18 0050000_7.00_33_50_02_15.bin_0.1.gz\r\n",
      "-rw-------  1 christophemorisset  staff    86741 Jun  1 17:13 0060000_6.00_33_50_02_15.bin_0.1.gz\r\n",
      "-rw-------  1 christophemorisset  staff    88843 Jun  1 17:13 0070000_6.00_33_50_02_15.bin_0.1.gz\r\n",
      "-rw-------  1 christophemorisset  staff    89360 Jun  1 17:13 0080000_6.00_33_50_02_15.bin_0.1.gz\r\n",
      "-rw-------  1 christophemorisset  staff    89971 May 31 15:31 0090000_6.00_33_50_02_15.bin_0.1.gz\r\n",
      "-rw-------  1 christophemorisset  staff    89722 Jun  1 17:13 0100000_5.00_33_50_02_15.bin_0.1.gz\r\n",
      "-rw-------  1 christophemorisset  staff    90544 Oct 26  2015 0100000_6.00_33_50_02_15.bin_0.1.gz\r\n",
      "-rw-------  1 christophemorisset  staff    91192 Jun  1 17:13 0100000_7.00_33_50_02_15.bin_0.1.gz\r\n",
      "-rw-------  1 christophemorisset  staff    91475 Jun  1 17:13 0100000_8.00_33_50_02_15.bin_0.1.gz\r\n",
      "-rw-------  1 christophemorisset  staff    90430 Jun  1 17:13 0110000_6.00_33_50_02_15.bin_0.1.gz\r\n",
      "-rw-------  1 christophemorisset  staff    90960 Jun 28 09:18 0110000_7.00_33_50_02_15.bin_0.1.gz\r\n",
      "-rw-------  1 christophemorisset  staff    89525 Jun  1 17:13 0120000_6.00_33_50_02_15.bin_0.1.gz\r\n",
      "-rw-------  1 christophemorisset  staff    89899 Jun 28 08:14 0130000_16.00_33_50_02_15.bin_0.1.gz\r\n",
      "-rw-------  1 christophemorisset  staff    89899 Jun  1 17:13 0130000_6.00_33_50_02_15.bin_0.1.gz\r\n",
      "-rw-------  1 christophemorisset  staff    89170 Oct 26  2015 0140000_6.00_33_50_02_15.bin_0.1.gz\r\n",
      "-rw-------  1 christophemorisset  staff    89263 Jun  1 17:13 0150000_6.00_33_50_02_15.bin_0.1.gz\r\n",
      "-rw-------  1 christophemorisset  staff    88929 Jun  1 17:13 0160000_6.00_33_50_02_15.bin_0.1.gz\r\n",
      "-rw-------  1 christophemorisset  staff    88991 Jun  1 17:13 0170000_6.00_33_50_02_15.bin_0.1.gz\r\n",
      "-rw-------  1 christophemorisset  staff    88780 Jun  1 17:13 0180000_6.00_33_50_02_15.bin_0.1.gz\r\n",
      "-rw-------  1 christophemorisset  staff    89075 Jun  1 17:14 0180000_7.00_33_50_02_15.bin_0.1.gz\r\n",
      "-rw-------  1 christophemorisset  staff    88591 Oct 26  2015 0190000_6.00_33_50_02_15.bin_0.1.gz\r\n",
      "-rw-------  1 christophemorisset  staff   466800 Sep 18  2015 BPT1.pdf\r\n",
      "-rw-------  1 christophemorisset  staff    45181 Sep 18  2015 BPT1.png\r\n",
      "-rw-------  1 christophemorisset  staff  4229587 Sep  9  2015 CALIFA_ah7.dat.gz\r\n",
      "-rw-r--r--  1 christophemorisset  staff    19364 Jun  1 17:45 Calling Fortran.ipynb\r\n",
      "-rw-r--r--  1 christophemorisset  staff    86815 Jun  1 17:45 Calling Fortran.pdf\r\n",
      "-rw-------  1 christophemorisset  staff      384 Aug 31 18:05 Demo.pickle\r\n",
      "-rw-------  1 christophemorisset  staff      211 Aug 31 18:10 Demo.pklz\r\n",
      "-rw-------  1 christophemorisset  staff  2220144 Aug 31 18:10 Demo2.pickle\r\n",
      "-rw-------  1 christophemorisset  staff  2220109 Aug 31 18:10 Demo3.pickle\r\n",
      "-rw-------  1 christophemorisset  staff     7717 Sep  9  2015 Ex1.ipynb\r\n",
      "-rw-------  1 christophemorisset  staff   381664 Sep 22  2015 Ex1_done.ipynb\r\n",
      "-rw-------  1 christophemorisset  staff   315341 Sep 14  2015 Ex1_with_res.ipynb\r\n",
      "-rw-------@ 1 christophemorisset  staff   352680 Oct 16  2015 Fig1.eps\r\n",
      "-rw-------  1 christophemorisset  staff   116888 Sep  7 19:05 Fig1.pdf\r\n",
      "-rw-r--r--  1 christophemorisset  staff        0 Aug 31 09:54 Icon?\r\n",
      "-rw-r--r--@ 1 christophemorisset  staff   838576 Aug 17 17:06 InstallPython.key\r\n",
      "-rw-------  1 christophemorisset  staff   584570 Aug 31 18:54 Interact with files.ipynb\r\n",
      "-rw-r--r--@ 1 christophemorisset  staff   199526 Jun  1 16:59 Interact with files.pdf\r\n",
      "-rw-------  1 christophemorisset  staff   131497 Aug 12  2015 Intro_1.odp\r\n",
      "-rw-------  1 christophemorisset  staff   174202 Aug 12  2015 Intro_1.pdf\r\n",
      "-rw-------  1 christophemorisset  staff   130234 Aug 12  2015 Intro_2014.odp\r\n",
      "-rw-r--r--  1 christophemorisset  staff  2210409 Oct 23  2015 MySQL.pdf\r\n",
      "-rw-------  1 christophemorisset  staff  1270918 Sep 21  2015 MySQL.pdf.gz\r\n",
      "-rw-------  1 christophemorisset  staff   711371 Jun 28 09:40 OOP.ipynb\r\n",
      "-rw-r--r--@ 1 christophemorisset  staff   582837 Jun  1 17:14 OOP.pdf\r\n",
      "-rw-r--r--  1 christophemorisset  staff   814444 Jun  5 09:49 Optimization.ipynb\r\n",
      "-rw-r--r--  1 christophemorisset  staff   481656 Jun  5 09:49 Optimization.pdf\r\n",
      "-rw-------  1 christophemorisset  staff    50707 Sep 21 17:31 Useful_libraries.ipynb\r\n",
      "-rw-r--r--@ 1 christophemorisset  staff    99251 Jun  1 17:08 Useful_libraries.pdf\r\n",
      "-rw-------  1 christophemorisset  staff    73646 Jun 28 10:07 Using_PyMySQL.ipynb\r\n",
      "-rw-r--r--@ 1 christophemorisset  staff   373982 Jun  1 17:24 Using_PyMySQL.pdf\r\n",
      "-rw-------  1 christophemorisset  staff   128390 Jun  1 17:11 Using_astropy.ipynb\r\n",
      "-rw-r--r--@ 1 christophemorisset  staff   195539 Jun  1 17:11 Using_astropy.pdf\r\n",
      "-rw-------  1 christophemorisset  staff       64 Aug 31 16:29 data1.dat\r\n",
      "-rw-------  1 christophemorisset  staff       14 Aug 31 17:56 data10.dat\r\n",
      "-rw-------  1 christophemorisset  staff       32 Aug 31 17:58 data11.dat\r\n",
      "-rw-------  1 christophemorisset  staff       94 Aug 31 18:02 data12.dat\r\n",
      "-rw-------  1 christophemorisset  staff       71 Sep 21 17:20 data14.dat\r\n",
      "-rw-------  1 christophemorisset  staff      147 Aug 31 16:57 data2.dat\r\n",
      "-rw-------  1 christophemorisset  staff      169 Aug 31 17:50 data3.dat\r\n",
      "-rw-------  1 christophemorisset  staff     1189 Aug 31 17:31 data4.dat\r\n",
      "-rw-------  1 christophemorisset  staff     1185 Aug 31 17:39 data5.dat\r\n",
      "-rw-------  1 christophemorisset  staff      136 Sep 14  2015 data_ex1.dat\r\n",
      "-rw-------  1 christophemorisset  staff      298 Jun  1 17:41 dcumsum.f\r\n",
      "-rwx------  1 christophemorisset  staff    30716 Jun  1 17:41 \u001b[31mdcumsum.so\u001b[m\u001b[m*\r\n",
      "-rw-------  1 christophemorisset  staff     1401 Jun  1 16:45 ex1.html\r\n",
      "-rw-------  1 christophemorisset  staff      154 Jun  1 16:45 ex1.py\r\n",
      "-rw-------  1 christophemorisset  staff      284 Jun  1 16:45 ex1.pyc\r\n",
      "-rw-------  1 christophemorisset  staff        8 Sep 18  2014 ex1.txt\r\n",
      "-rw-------  1 christophemorisset  staff       69 Sep 22 09:25 fact.py\r\n",
      "-rw-r--r--  1 christophemorisset  staff     4214 May 31 22:52 grep.py\r\n",
      "-rw-------  1 christophemorisset  staff     4995 Nov 10  2015 grep2.py\r\n",
      "-rw-------  1 christophemorisset  staff     6319 Nov 10  2015 grep3.py\r\n",
      "-rw-------  1 christophemorisset  staff       49 Oct  8  2014 hello.py\r\n",
      "-rw-------  1 christophemorisset  staff     1090 Oct  8  2014 hellofortran.c\r\n",
      "-rw-------  1 christophemorisset  staff      178 Oct  8  2014 hellofortran.f\r\n",
      "-rw-------  1 christophemorisset  staff    33976 Oct  8  2014 hellofortran.so\r\n",
      "-rw-r--r--  1 christophemorisset  staff      150 Feb  3  2016 index.html\r\n",
      "-rw-------  1 christophemorisset  staff  2209326 Sep  7 19:06 intro_Matplotlib.ipynb\r\n",
      "-rw-r--r--@ 1 christophemorisset  staff  1497041 Jun  1 17:02 intro_Matplotlib.pdf\r\n",
      "-rw-------  1 christophemorisset  staff   326924 Aug 28  2014 intro_Python.html\r\n",
      "-rw-r--r--  1 christophemorisset  staff    67891 Aug 17 19:02 intro_Python.ipynb\r\n",
      "-rw-r--r--@ 1 christophemorisset  staff   118317 Jun  1 16:46 intro_Python.pdf\r\n",
      "-rw-------  1 christophemorisset  staff   179449 Aug 28  2014 intro_Python_2.pdf\r\n",
      "-rw-------  1 christophemorisset  staff   103229 Aug 28  2014 intro_Python_3.pdf\r\n",
      "-rw-------  1 christophemorisset  staff   703481 Sep 14 18:43 intro_Scipy.ipynb\r\n",
      "-rw-r--r--@ 1 christophemorisset  staff   586109 Jun  1 17:07 intro_Scipy.pdf\r\n",
      "-rw-r--r--  1 christophemorisset  staff    94364 Sep 14 09:36 intro_numpy.ipynb\r\n",
      "-rw-r--r--  1 christophemorisset  staff   126416 Jun  1 17:39 intro_numpy.pdf\r\n",
      "-rw-------  1 christophemorisset  staff  8830080 Sep  3  2014 n10017o.fits\r\n",
      "-rw-------  1 christophemorisset  staff     5760 Aug 31 18:47 new.fits\r\n",
      "-rw-------  1 christophemorisset  staff   435801 Jun  1 17:24 query_res.dat\r\n",
      "-rw-------  1 christophemorisset  staff  1059840 Sep  3  2014 swp04345.mxhi\r\n",
      "-rwx--x--x  1 christophemorisset  staff       46 Sep 22 09:25 \u001b[31msys_text.py\u001b[m\u001b[m*\r\n",
      "-rw-------  1 christophemorisset  staff      352 Jun  1 17:10 tab1.dat\r\n",
      "-rw-------  1 christophemorisset  staff      763 Jun  1 17:11 tab_cds1.ascii\r\n",
      "-rw-------  1 christophemorisset  staff    43200 Sep 25  2014 tab_cds1.fits\r\n",
      "-rw-------  1 christophemorisset  staff     1458 Jun  1 17:11 tab_cds1.tex\r\n",
      "-rw-------  1 christophemorisset  staff     1826 Jun  1 17:11 tab_cds2.ascii\r\n",
      "-rw-------  1 christophemorisset  staff     7033 Nov  2  2015 test1.pdf\r\n",
      "-rw-------  1 christophemorisset  staff       72 Sep 27  2015 test1.test\r\n",
      "-rw-------  1 christophemorisset  staff       45 Sep 27  2015 test2.test\r\n",
      "-rw-------  1 christophemorisset  staff   176673 Oct 16  2014 test_1-po\r\n",
      "-rw-r--r--  1 christophemorisset  staff   551411 Jun  5 09:49 test_1-prof.png\r\n",
      "-rw-r--r--  1 christophemorisset  staff   272475 Jun  5 09:49 test_1_prof.prof\r\n",
      "-rw-------  1 christophemorisset  staff     6805 Jun  2 09:37 test_1_prof.py\r\n",
      "-rw-------  1 christophemorisset  staff     6833 Jun  2 09:37 test_2_prof.py\r\n",
      "-rw-r--r--  1 christophemorisset  staff      515 Jun  5 09:49 test_2_prof.py.lprof\r\n",
      "-rw-------  1 christophemorisset  staff     6566 Jun  2 09:38 test_3_prof.py\r\n",
      "-rw-------  1 christophemorisset  staff     6524 Jun  2 09:38 test_5_pdb.py\r",
      "\r\n",
      "drwx------@ 5 christophemorisset  staff      170 Aug 31 09:54 \u001b[34mtt\u001b[m\u001b[m/\r\n"
     ]
    }
   ],
   "source": [
    "ls -l"
   ]
  },
  {
   "cell_type": "code",
   "execution_count": 29,
   "metadata": {
    "collapsed": false
   },
   "outputs": [
    {
     "data": {
      "text/plain": [
       "0"
      ]
     },
     "execution_count": 29,
     "metadata": {},
     "output_type": "execute_result"
    }
   ],
   "source": [
    "subprocess.call(['ls -l'], shell=True)\n",
    "# The results is not visible in Notebook. In command line, the files are listed"
   ]
  },
  {
   "cell_type": "code",
   "execution_count": 30,
   "metadata": {
    "collapsed": false
   },
   "outputs": [
    {
     "name": "stdout",
     "output_type": "stream",
     "text": [
      "<type 'str'>\n",
      "total 76848\n",
      "-rw-------  1 christophemorisset  staff    89353 Oct 26  2015 0040000_6.00_33_50_02_15.bin_0.1.gz\n",
      "-rw-------  1 christophemorisset  staff    85600 Jun  1 17:13 0050000_6.00_33_50_02_15.bin_0.1.gz\n",
      "-rw-------  1 christophemorisset  staff    86018 Jun 28 09:18 0050000_7.00_33_50_02_15.bin_0.1.gz\n",
      "-rw-------  1 christophemorisset  staff    86741 Jun  1 17:13 0060000_6.00_33_50_02_15.bin_0.1.gz\n",
      "-rw-------  1 christophemorisset  staff    88843 Jun  1 17:13 0070000_6.00_33_50_02_15.bin_0.1.gz\n",
      "-rw-------  1 christophemorisset  staff    89360 Jun  1 17:13 0080000_6.00_33_50_02_15.bin_0.1.gz\n",
      "-rw-------  1 christophemorisset  staff    89971 May 31 15:31 0090000_6.00_33_50_02_15.bin_0.1.gz\n",
      "-rw-------  1 christophemorisset  staff    89722 Jun  1 17:13 0100000_5.00_33_50_02_15.bin_0.1.gz\n",
      "-rw-------  1 christophemorisset  staff    90544 Oct 26  2015 0100000_6.00_33_50_02_15.bin_0.1.gz\n",
      "-rw-------  1 christophemorisset  staff    91192 Jun  1 17:13 0100000_7.00_33_50_02_15.bin_0.1.gz\n",
      "-rw-------  1 christophemorisset  staff    91475 Jun  1 17:13 0100000_8.00_33_50_02_15.bin_0.1.gz\n",
      "-rw-------  1 christophemorisset  staff    90430 Jun  1 17:13 0110000_6.00_33_50_02_15.bin_0.1.gz\n",
      "-rw-------  1 christophemorisset  staff    90960 Jun 28 09:18 0110000_7.00_33_50_02_15.bin_0.1.gz\n",
      "-rw-------  1 christophemorisset  staff    89525 Jun  1 17:13 0120000_6.00_33_50_02_15.bin_0.1.gz\n",
      "-rw-------  1 christophemorisset  staff    89899 Jun 28 08:14 0130000_16.00_33_50_02_15.bin_0.1.gz\n",
      "-rw-------  1 christophemorisset  staff    89899 Jun  1 17:13 0130000_6.00_33_50_02_15.bin_0.1.gz\n",
      "-rw-------  1 christophemorisset  staff    89170 Oct 26  2015 0140000_6.00_33_50_02_15.bin_0.1.gz\n",
      "-rw-------  1 christophemorisset  staff    89263 Jun  1 17:13 0150000_6.00_33_50_02_15.bin_0.1.gz\n",
      "-rw-------  1 christophemorisset  staff    88929 Jun  1 17:13 0160000_6.00_33_50_02_15.bin_0.1.gz\n",
      "-rw-------  1 christophemorisset  staff    88991 Jun  1 17:13 0170000_6.00_33_50_02_15.bin_0.1.gz\n",
      "-rw-------  1 christophemorisset  staff    88780 Jun  1 17:13 0180000_6.00_33_50_02_15.bin_0.1.gz\n",
      "-rw-------  1 christophemorisset  staff    89075 Jun  1 17:14 0180000_7.00_33_50_02_15.bin_0.1.gz\n",
      "-rw-------  1 christophemorisset  staff    88591 Oct 26  2015 0190000_6.00_33_50_02_15.bin_0.1.gz\n",
      "-rw-------  1 christophemorisset  staff   466800 Sep 18  2015 BPT1.pdf\n",
      "-rw-------  1 christophemorisset  staff    45181 Sep 18  2015 BPT1.png\n",
      "-rw-------  1 christophemorisset  staff  4229587 Sep  9  2015 CALIFA_ah7.dat.gz\n",
      "-rw-r--r--  1 christophemorisset  staff    19364 Jun  1 17:45 Calling Fortran.ipynb\n",
      "-rw-r--r--  1 christophemorisset  staff    86815 Jun  1 17:45 Calling Fortran.pdf\n",
      "-rw-------  1 christophemorisset  staff      384 Aug 31 18:05 Demo.pickle\n",
      "-rw-------  1 christophemorisset  staff      211 Aug 31 18:10 Demo.pklz\n",
      "-rw-------  1 christophemorisset  staff  2220144 Aug 31 18:10 Demo2.pickle\n",
      "-rw-------  1 christophemorisset  staff  2220109 Aug 31 18:10 Demo3.pickle\n",
      "-rw-------  1 christophemorisset  staff     7717 Sep  9  2015 Ex1.ipynb\n",
      "-rw-------  1 christophemorisset  staff   381664 Sep 22  2015 Ex1_done.ipynb\n",
      "-rw-------  1 christophemorisset  staff   315341 Sep 14  2015 Ex1_with_res.ipynb\n",
      "-rw-------@ 1 christophemorisset  staff   352680 Oct 16  2015 Fig1.eps\n",
      "-rw-------  1 christophemorisset  staff   116888 Sep  7 19:05 Fig1.pdf\n",
      "-rw-r--r--  1 christophemorisset  staff        0 Aug 31 09:54 Icon\r\n",
      "-rw-r--r--@ 1 christophemorisset  staff   838576 Aug 17 17:06 InstallPython.key\n",
      "-rw-------  1 christophemorisset  staff   584570 Aug 31 18:54 Interact with files.ipynb\n",
      "-rw-r--r--@ 1 christophemorisset  staff   199526 Jun  1 16:59 Interact with files.pdf\n",
      "-rw-------  1 christophemorisset  staff   131497 Aug 12  2015 Intro_1.odp\n",
      "-rw-------  1 christophemorisset  staff   174202 Aug 12  2015 Intro_1.pdf\n",
      "-rw-------  1 christophemorisset  staff   130234 Aug 12  2015 Intro_2014.odp\n",
      "-rw-r--r--  1 christophemorisset  staff  2210409 Oct 23  2015 MySQL.pdf\n",
      "-rw-------  1 christophemorisset  staff  1270918 Sep 21  2015 MySQL.pdf.gz\n",
      "-rw-------  1 christophemorisset  staff   711371 Jun 28 09:40 OOP.ipynb\n",
      "-rw-r--r--@ 1 christophemorisset  staff   582837 Jun  1 17:14 OOP.pdf\n",
      "-rw-r--r--  1 christophemorisset  staff   814444 Jun  5 09:49 Optimization.ipynb\n",
      "-rw-r--r--  1 christophemorisset  staff   481656 Jun  5 09:49 Optimization.pdf\n",
      "-rw-------  1 christophemorisset  staff    50707 Sep 21 17:31 Useful_libraries.ipynb\n",
      "-rw-r--r--@ 1 christophemorisset  staff    99251 Jun  1 17:08 Useful_libraries.pdf\n",
      "-rw-------  1 christophemorisset  staff    73646 Jun 28 10:07 Using_PyMySQL.ipynb\n",
      "-rw-r--r--@ 1 christophemorisset  staff   373982 Jun  1 17:24 Using_PyMySQL.pdf\n",
      "-rw-------  1 christophemorisset  staff   128390 Jun  1 17:11 Using_astropy.ipynb\n",
      "-rw-r--r--@ 1 christophemorisset  staff   195539 Jun  1 17:11 Using_astropy.pdf\n",
      "-rw-------  1 christophemorisset  staff       64 Aug 31 16:29 data1.dat\n",
      "-rw-------  1 christophemorisset  staff       14 Aug 31 17:56 data10.dat\n",
      "-rw-------  1 christophemorisset  staff       32 Aug 31 17:58 data11.dat\n",
      "-rw-------  1 christophemorisset  staff       94 Aug 31 18:02 data12.dat\n",
      "-rw-------  1 christophemorisset  staff       71 Sep 21 17:20 data14.dat\n",
      "-rw-------  1 christophemorisset  staff      147 Aug 31 16:57 data2.dat\n",
      "-rw-------  1 christophemorisset  staff      169 Aug 31 17:50 data3.dat\n",
      "-rw-------  1 christophemorisset  staff     1189 Aug 31 17:31 data4.dat\n",
      "-rw-------  1 christophemorisset  staff     1185 Aug 31 17:39 data5.dat\n",
      "-rw-------  1 christophemorisset  staff      136 Sep 14  2015 data_ex1.dat\n",
      "-rw-------  1 christophemorisset  staff      298 Jun  1 17:41 dcumsum.f\n",
      "-rwx------  1 christophemorisset  staff    30716 Jun  1 17:41 dcumsum.so\n",
      "-rw-------  1 christophemorisset  staff     1401 Jun  1 16:45 ex1.html\n",
      "-rw-------  1 christophemorisset  staff      154 Jun  1 16:45 ex1.py\n",
      "-rw-------  1 christophemorisset  staff      284 Jun  1 16:45 ex1.pyc\n",
      "-rw-------  1 christophemorisset  staff        8 Sep 18  2014 ex1.txt\n",
      "-rw-------  1 christophemorisset  staff       69 Sep 22 09:25 fact.py\n",
      "-rw-r--r--  1 christophemorisset  staff     4214 May 31 22:52 grep.py\n",
      "-rw-------  1 christophemorisset  staff     4995 Nov 10  2015 grep2.py\n",
      "-rw-------  1 christophemorisset  staff     6319 Nov 10  2015 grep3.py\n",
      "-rw-------  1 christophemorisset  staff       49 Oct  8  2014 hello.py\n",
      "-rw-------  1 christophemorisset  staff     1090 Oct  8  2014 hellofortran.c\n",
      "-rw-------  1 christophemorisset  staff      178 Oct  8  2014 hellofortran.f\n",
      "-rw-------  1 christophemorisset  staff    33976 Oct  8  2014 hellofortran.so\n",
      "-rw-r--r--  1 christophemorisset  staff      150 Feb  3  2016 index.html\n",
      "-rw-------  1 christophemorisset  staff  2209326 Sep  7 19:06 intro_Matplotlib.ipynb\n",
      "-rw-r--r--@ 1 christophemorisset  staff  1497041 Jun  1 17:02 intro_Matplotlib.pdf\n",
      "-rw-------  1 christophemorisset  staff   326924 Aug 28  2014 intro_Python.html\n",
      "-rw-r--r--  1 christophemorisset  staff    67891 Aug 17 19:02 intro_Python.ipynb\n",
      "-rw-r--r--@ 1 christophemorisset  staff   118317 Jun  1 16:46 intro_Python.pdf\n",
      "-rw-------  1 christophemorisset  staff   179449 Aug 28  2014 intro_Python_2.pdf\n",
      "-rw-------  1 christophemorisset  staff   103229 Aug 28  2014 intro_Python_3.pdf\n",
      "-rw-------  1 christophemorisset  staff   703481 Sep 14 18:43 intro_Scipy.ipynb\n",
      "-rw-r--r--@ 1 christophemorisset  staff   586109 Jun  1 17:07 intro_Scipy.pdf\n",
      "-rw-r--r--  1 christophemorisset  staff    94364 Sep 14 09:36 intro_numpy.ipynb\n",
      "-rw-r--r--  1 christophemorisset  staff   126416 Jun  1 17:39 intro_numpy.pdf\n",
      "-rw-------  1 christophemorisset  staff  8830080 Sep  3  2014 n10017o.fits\n",
      "-rw-------  1 christophemorisset  staff     5760 Aug 31 18:47 new.fits\n",
      "-rw-------  1 christophemorisset  staff   435801 Jun  1 17:24 query_res.dat\n",
      "-rw-------  1 christophemorisset  staff  1059840 Sep  3  2014 swp04345.mxhi\n",
      "-rwx--x--x  1 christophemorisset  staff       46 Sep 22 09:25 sys_text.py\n",
      "-rw-------  1 christophemorisset  staff      352 Jun  1 17:10 tab1.dat\n",
      "-rw-------  1 christophemorisset  staff      763 Jun  1 17:11 tab_cds1.ascii\n",
      "-rw-------  1 christophemorisset  staff    43200 Sep 25  2014 tab_cds1.fits\n",
      "-rw-------  1 christophemorisset  staff     1458 Jun  1 17:11 tab_cds1.tex\n",
      "-rw-------  1 christophemorisset  staff     1826 Jun  1 17:11 tab_cds2.ascii\n",
      "-rw-------  1 christophemorisset  staff     7033 Nov  2  2015 test1.pdf\n",
      "-rw-------  1 christophemorisset  staff       72 Sep 27  2015 test1.test\n",
      "-rw-------  1 christophemorisset  staff       45 Sep 27  2015 test2.test\n",
      "-rw-------  1 christophemorisset  staff   176673 Oct 16  2014 test_1-po\n",
      "-rw-r--r--  1 christophemorisset  staff   551411 Jun  5 09:49 test_1-prof.png\n",
      "-rw-r--r--  1 christophemorisset  staff   272475 Jun  5 09:49 test_1_prof.prof\n",
      "-rw-------  1 christophemorisset  staff     6805 Jun  2 09:37 test_1_prof.py\n",
      "-rw-------  1 christophemorisset  staff     6833 Jun  2 09:37 test_2_prof.py\n",
      "-rw-r--r--  1 christophemorisset  staff      515 Jun  5 09:49 test_2_prof.py.lprof\n",
      "-rw-------  1 christophemorisset  staff     6566 Jun  2 09:38 test_3_prof.py\n",
      "-rw-------  1 christophemorisset  staff     6524 Jun  2 09:38 test_5_pdb.py\n",
      "drwx------@ 5 christophemorisset  staff      170 Aug 31 09:54 tt\n",
      "\n"
     ]
    }
   ],
   "source": [
    "output = subprocess.check_output(['ls', '-l'])\n",
    "print type(output)\n",
    "print output"
   ]
  },
  {
   "cell_type": "code",
   "execution_count": 31,
   "metadata": {
    "collapsed": false
   },
   "outputs": [
    {
     "name": "stdout",
     "output_type": "stream",
     "text": [
      "<subprocess.Popen object at 0x10ba1b0d0>\n"
     ]
    }
   ],
   "source": [
    "command = 'ls -l'\n",
    "popen = subprocess.Popen(command, shell=True)\n",
    "# The same apply here, no output in Notebook\n",
    "print popen"
   ]
  },
  {
   "cell_type": "code",
   "execution_count": 32,
   "metadata": {
    "collapsed": false
   },
   "outputs": [
    {
     "name": "stdout",
     "output_type": "stream",
     "text": [
      "<type 'str'>\n",
      "total 76848\n",
      "-rw-------  1 christophemorisset  staff    89353 Oct 26  2015 0040000_6.00_33_50_02_15.bin_0.1.gz\n",
      "-rw-------  1 christophemorisset  staff    85600 Jun  1 17:13 0050000_6.00_33_50_02_15.bin_0.1.gz\n",
      "-rw-------  1 christophemorisset  staff    86018 Jun 28 09:18 0050000_7.00_33_50_02_15.bin_0.1.gz\n",
      "-rw-------  1 christophemorisset  staff    86741 Jun  1 17:13 0060000_6.00_33_50_02_15.bin_0.1.gz\n",
      "-rw-------  1 christophemorisset  staff    88843 Jun  1 17:13 0070000_6.00_33_50_02_15.bin_0.1.gz\n",
      "-rw-------  1 christophemorisset  staff    89360 Jun  1 17:13 0080000_6.00_33_50_02_15.bin_0.1.gz\n",
      "-rw-------  1 christophemorisset  staff    89971 May 31 15:31 0090000_6.00_33_50_02_15.bin_0.1.gz\n",
      "-rw-------  1 christophemorisset  staff    89722 Jun  1 17:13 0100000_5.00_33_50_02_15.bin_0.1.gz\n",
      "-rw-------  1 christophemorisset  staff    90544 Oct 26  2015 0100000_6.00_33_50_02_15.bin_0.1.gz\n",
      "-rw-------  1 christophemorisset  staff    91192 Jun  1 17:13 0100000_7.00_33_50_02_15.bin_0.1.gz\n",
      "-rw-------  1 christophemorisset  staff    91475 Jun  1 17:13 0100000_8.00_33_50_02_15.bin_0.1.gz\n",
      "-rw-------  1 christophemorisset  staff    90430 Jun  1 17:13 0110000_6.00_33_50_02_15.bin_0.1.gz\n",
      "-rw-------  1 christophemorisset  staff    90960 Jun 28 09:18 0110000_7.00_33_50_02_15.bin_0.1.gz\n",
      "-rw-------  1 christophemorisset  staff    89525 Jun  1 17:13 0120000_6.00_33_50_02_15.bin_0.1.gz\n",
      "-rw-------  1 christophemorisset  staff    89899 Jun 28 08:14 0130000_16.00_33_50_02_15.bin_0.1.gz\n",
      "-rw-------  1 christophemorisset  staff    89899 Jun  1 17:13 0130000_6.00_33_50_02_15.bin_0.1.gz\n",
      "-rw-------  1 christophemorisset  staff    89170 Oct 26  2015 0140000_6.00_33_50_02_15.bin_0.1.gz\n",
      "-rw-------  1 christophemorisset  staff    89263 Jun  1 17:13 0150000_6.00_33_50_02_15.bin_0.1.gz\n",
      "-rw-------  1 christophemorisset  staff    88929 Jun  1 17:13 0160000_6.00_33_50_02_15.bin_0.1.gz\n",
      "-rw-------  1 christophemorisset  staff    88991 Jun  1 17:13 0170000_6.00_33_50_02_15.bin_0.1.gz\n",
      "-rw-------  1 christophemorisset  staff    88780 Jun  1 17:13 0180000_6.00_33_50_02_15.bin_0.1.gz\n",
      "-rw-------  1 christophemorisset  staff    89075 Jun  1 17:14 0180000_7.00_33_50_02_15.bin_0.1.gz\n",
      "-rw-------  1 christophemorisset  staff    88591 Oct 26  2015 0190000_6.00_33_50_02_15.bin_0.1.gz\n",
      "-rw-------  1 christophemorisset  staff   466800 Sep 18  2015 BPT1.pdf\n",
      "-rw-------  1 christophemorisset  staff    45181 Sep 18  2015 BPT1.png\n",
      "-rw-------  1 christophemorisset  staff  4229587 Sep  9  2015 CALIFA_ah7.dat.gz\n",
      "-rw-r--r--  1 christophemorisset  staff    19364 Jun  1 17:45 Calling Fortran.ipynb\n",
      "-rw-r--r--  1 christophemorisset  staff    86815 Jun  1 17:45 Calling Fortran.pdf\n",
      "-rw-------  1 christophemorisset  staff      384 Aug 31 18:05 Demo.pickle\n",
      "-rw-------  1 christophemorisset  staff      211 Aug 31 18:10 Demo.pklz\n",
      "-rw-------  1 christophemorisset  staff  2220144 Aug 31 18:10 Demo2.pickle\n",
      "-rw-------  1 christophemorisset  staff  2220109 Aug 31 18:10 Demo3.pickle\n",
      "-rw-------  1 christophemorisset  staff     7717 Sep  9  2015 Ex1.ipynb\n",
      "-rw-------  1 christophemorisset  staff   381664 Sep 22  2015 Ex1_done.ipynb\n",
      "-rw-------  1 christophemorisset  staff   315341 Sep 14  2015 Ex1_with_res.ipynb\n",
      "-rw-------@ 1 christophemorisset  staff   352680 Oct 16  2015 Fig1.eps\n",
      "-rw-------  1 christophemorisset  staff   116888 Sep  7 19:05 Fig1.pdf\n",
      "-rw-r--r--  1 christophemorisset  staff        0 Aug 31 09:54 Icon\r\n",
      "-rw-r--r--@ 1 christophemorisset  staff   838576 Aug 17 17:06 InstallPython.key\n",
      "-rw-------  1 christophemorisset  staff   584570 Aug 31 18:54 Interact with files.ipynb\n",
      "-rw-r--r--@ 1 christophemorisset  staff   199526 Jun  1 16:59 Interact with files.pdf\n",
      "-rw-------  1 christophemorisset  staff   131497 Aug 12  2015 Intro_1.odp\n",
      "-rw-------  1 christophemorisset  staff   174202 Aug 12  2015 Intro_1.pdf\n",
      "-rw-------  1 christophemorisset  staff   130234 Aug 12  2015 Intro_2014.odp\n",
      "-rw-r--r--  1 christophemorisset  staff  2210409 Oct 23  2015 MySQL.pdf\n",
      "-rw-------  1 christophemorisset  staff  1270918 Sep 21  2015 MySQL.pdf.gz\n",
      "-rw-------  1 christophemorisset  staff   711371 Jun 28 09:40 OOP.ipynb\n",
      "-rw-r--r--@ 1 christophemorisset  staff   582837 Jun  1 17:14 OOP.pdf\n",
      "-rw-r--r--  1 christophemorisset  staff   814444 Jun  5 09:49 Optimization.ipynb\n",
      "-rw-r--r--  1 christophemorisset  staff   481656 Jun  5 09:49 Optimization.pdf\n",
      "-rw-------  1 christophemorisset  staff    50707 Sep 21 17:31 Useful_libraries.ipynb\n",
      "-rw-r--r--@ 1 christophemorisset  staff    99251 Jun  1 17:08 Useful_libraries.pdf\n",
      "-rw-------  1 christophemorisset  staff    73646 Jun 28 10:07 Using_PyMySQL.ipynb\n",
      "-rw-r--r--@ 1 christophemorisset  staff   373982 Jun  1 17:24 Using_PyMySQL.pdf\n",
      "-rw-------  1 christophemorisset  staff   128390 Jun  1 17:11 Using_astropy.ipynb\n",
      "-rw-r--r--@ 1 christophemorisset  staff   195539 Jun  1 17:11 Using_astropy.pdf\n",
      "-rw-------  1 christophemorisset  staff       64 Aug 31 16:29 data1.dat\n",
      "-rw-------  1 christophemorisset  staff       14 Aug 31 17:56 data10.dat\n",
      "-rw-------  1 christophemorisset  staff       32 Aug 31 17:58 data11.dat\n",
      "-rw-------  1 christophemorisset  staff       94 Aug 31 18:02 data12.dat\n",
      "-rw-------  1 christophemorisset  staff       71 Sep 21 17:20 data14.dat\n",
      "-rw-------  1 christophemorisset  staff      147 Aug 31 16:57 data2.dat\n",
      "-rw-------  1 christophemorisset  staff      169 Aug 31 17:50 data3.dat\n",
      "-rw-------  1 christophemorisset  staff     1189 Aug 31 17:31 data4.dat\n",
      "-rw-------  1 christophemorisset  staff     1185 Aug 31 17:39 data5.dat\n",
      "-rw-------  1 christophemorisset  staff      136 Sep 14  2015 data_ex1.dat\n",
      "-rw-------  1 christophemorisset  staff      298 Jun  1 17:41 dcumsum.f\n",
      "-rwx------  1 christophemorisset  staff    30716 Jun  1 17:41 dcumsum.so\n",
      "-rw-------  1 christophemorisset  staff     1401 Jun  1 16:45 ex1.html\n",
      "-rw-------  1 christophemorisset  staff      154 Jun  1 16:45 ex1.py\n",
      "-rw-------  1 christophemorisset  staff      284 Jun  1 16:45 ex1.pyc\n",
      "-rw-------  1 christophemorisset  staff        8 Sep 18  2014 ex1.txt\n",
      "-rw-------  1 christophemorisset  staff       69 Sep 22 09:25 fact.py\n",
      "-rw-r--r--  1 christophemorisset  staff     4214 May 31 22:52 grep.py\n",
      "-rw-------  1 christophemorisset  staff     4995 Nov 10  2015 grep2.py\n",
      "-rw-------  1 christophemorisset  staff     6319 Nov 10  2015 grep3.py\n",
      "-rw-------  1 christophemorisset  staff       49 Oct  8  2014 hello.py\n",
      "-rw-------  1 christophemorisset  staff     1090 Oct  8  2014 hellofortran.c\n",
      "-rw-------  1 christophemorisset  staff      178 Oct  8  2014 hellofortran.f\n",
      "-rw-------  1 christophemorisset  staff    33976 Oct  8  2014 hellofortran.so\n",
      "-rw-r--r--  1 christophemorisset  staff      150 Feb  3  2016 index.html\n",
      "-rw-------  1 christophemorisset  staff  2209326 Sep  7 19:06 intro_Matplotlib.ipynb\n",
      "-rw-r--r--@ 1 christophemorisset  staff  1497041 Jun  1 17:02 intro_Matplotlib.pdf\n",
      "-rw-------  1 christophemorisset  staff   326924 Aug 28  2014 intro_Python.html\n",
      "-rw-r--r--  1 christophemorisset  staff    67891 Aug 17 19:02 intro_Python.ipynb\n",
      "-rw-r--r--@ 1 christophemorisset  staff   118317 Jun  1 16:46 intro_Python.pdf\n",
      "-rw-------  1 christophemorisset  staff   179449 Aug 28  2014 intro_Python_2.pdf\n",
      "-rw-------  1 christophemorisset  staff   103229 Aug 28  2014 intro_Python_3.pdf\n",
      "-rw-------  1 christophemorisset  staff   703481 Sep 14 18:43 intro_Scipy.ipynb\n",
      "-rw-r--r--@ 1 christophemorisset  staff   586109 Jun  1 17:07 intro_Scipy.pdf\n",
      "-rw-r--r--  1 christophemorisset  staff    94364 Sep 14 09:36 intro_numpy.ipynb\n",
      "-rw-r--r--  1 christophemorisset  staff   126416 Jun  1 17:39 intro_numpy.pdf\n",
      "-rw-------  1 christophemorisset  staff  8830080 Sep  3  2014 n10017o.fits\n",
      "-rw-------  1 christophemorisset  staff     5760 Aug 31 18:47 new.fits\n",
      "-rw-------  1 christophemorisset  staff   435801 Jun  1 17:24 query_res.dat\n",
      "-rw-------  1 christophemorisset  staff  1059840 Sep  3  2014 swp04345.mxhi\n",
      "-rwx--x--x  1 christophemorisset  staff       46 Sep 22 09:25 sys_text.py\n",
      "-rw-------  1 christophemorisset  staff      352 Jun  1 17:10 tab1.dat\n",
      "-rw-------  1 christophemorisset  staff      763 Jun  1 17:11 tab_cds1.ascii\n",
      "-rw-------  1 christophemorisset  staff    43200 Sep 25  2014 tab_cds1.fits\n",
      "-rw-------  1 christophemorisset  staff     1458 Jun  1 17:11 tab_cds1.tex\n",
      "-rw-------  1 christophemorisset  staff     1826 Jun  1 17:11 tab_cds2.ascii\n",
      "-rw-------  1 christophemorisset  staff     7033 Nov  2  2015 test1.pdf\n",
      "-rw-------  1 christophemorisset  staff       72 Sep 27  2015 test1.test\n",
      "-rw-------  1 christophemorisset  staff       45 Sep 27  2015 test2.test\n",
      "-rw-------  1 christophemorisset  staff   176673 Oct 16  2014 test_1-po\n",
      "-rw-r--r--  1 christophemorisset  staff   551411 Jun  5 09:49 test_1-prof.png\n",
      "-rw-r--r--  1 christophemorisset  staff   272475 Jun  5 09:49 test_1_prof.prof\n",
      "-rw-------  1 christophemorisset  staff     6805 Jun  2 09:37 test_1_prof.py\n",
      "-rw-------  1 christophemorisset  staff     6833 Jun  2 09:37 test_2_prof.py\n",
      "-rw-r--r--  1 christophemorisset  staff      515 Jun  5 09:49 test_2_prof.py.lprof\n",
      "-rw-------  1 christophemorisset  staff     6566 Jun  2 09:38 test_3_prof.py\n",
      "-rw-------  1 christophemorisset  staff     6524 Jun  2 09:38 test_5_pdb.py\n",
      "drwx------@ 5 christophemorisset  staff      170 Aug 31 09:54 tt\n",
      "\n"
     ]
    }
   ],
   "source": [
    "popen = subprocess.Popen(command, stdout=subprocess.PIPE, shell=True)\n",
    "res = popen.communicate()[0]\n",
    "print type(res)\n",
    "print res"
   ]
  },
  {
   "cell_type": "code",
   "execution_count": 33,
   "metadata": {
    "collapsed": false
   },
   "outputs": [
    {
     "name": "stdout",
     "output_type": "stream",
     "text": [
      "CALIFA_ah7.dat.gz\n",
      "Demo2.pickle\n",
      "Demo3.pickle\n",
      "MySQL.pdf\n",
      "MySQL.pdf.gz\n",
      "intro_Matplotlib.ipynb\n",
      "intro_Matplotlib.pdf\n",
      "n10017o.fits\n",
      "swp04345.mxhi\n"
     ]
    }
   ],
   "source": [
    "popen = subprocess.Popen(command, stdout=subprocess.PIPE, shell=True)\n",
    "for line in iter(popen.stdout.readline, \"\"):\n",
    "    lspl = line.split()\n",
    "    if len(lspl)> 4:\n",
    "        if int(lspl[4]) > 1000000:\n",
    "            print lspl[8]"
   ]
  },
  {
   "cell_type": "markdown",
   "metadata": {},
   "source": [
    "### glob"
   ]
  },
  {
   "cell_type": "markdown",
   "metadata": {},
   "source": [
    "https://docs.python.org/2/library/glob.html"
   ]
  },
  {
   "cell_type": "markdown",
   "metadata": {},
   "source": [
    "No tilde expansion is done, but *, ?, and character ranges expressed with [] will be correctly matched."
   ]
  },
  {
   "cell_type": "code",
   "execution_count": 34,
   "metadata": {
    "collapsed": false
   },
   "outputs": [],
   "source": [
    "from glob import glob"
   ]
  },
  {
   "cell_type": "code",
   "execution_count": 35,
   "metadata": {
    "collapsed": false
   },
   "outputs": [
    {
     "name": "stdout",
     "output_type": "stream",
     "text": [
      "['Calling Fortran.ipynb', 'Ex1.ipynb', 'Ex1_done.ipynb', 'Ex1_with_res.ipynb', 'Interact with files.ipynb', 'intro_Matplotlib.ipynb', 'intro_numpy.ipynb', 'intro_Python.ipynb', 'intro_Scipy.ipynb', 'OOP.ipynb', 'Optimization.ipynb', 'Useful_libraries.ipynb', 'Using_astropy.ipynb', 'Using_PyMySQL.ipynb']\n"
     ]
    }
   ],
   "source": [
    "ipynb_files = glob('*.ipynb')\n",
    "print ipynb_files"
   ]
  },
  {
   "cell_type": "markdown",
   "metadata": {},
   "source": [
    "### re"
   ]
  },
  {
   "cell_type": "markdown",
   "metadata": {},
   "source": [
    "The re module provides regular expression tools for advanced string processing. For complex matching and manipulation, regular expressions offer succinct, optimized solutions:"
   ]
  },
  {
   "cell_type": "code",
   "execution_count": 36,
   "metadata": {
    "collapsed": false
   },
   "outputs": [
    {
     "data": {
      "text/plain": [
       "['foot', 'fell', 'fastest']"
      ]
     },
     "execution_count": 36,
     "metadata": {},
     "output_type": "execute_result"
    }
   ],
   "source": [
    "import re\n",
    "re.findall(r'\\bf[a-z]*', 'whifch foot or hand fell fastest')"
   ]
  },
  {
   "cell_type": "code",
   "execution_count": 37,
   "metadata": {
    "collapsed": false
   },
   "outputs": [
    {
     "data": {
      "text/plain": [
       "'cat in the hat'"
      ]
     },
     "execution_count": 37,
     "metadata": {},
     "output_type": "execute_result"
    }
   ],
   "source": [
    "re.sub(r'(\\b[a-z]+) \\1', r'\\1', 'cat in the the hat')"
   ]
  },
  {
   "cell_type": "markdown",
   "metadata": {},
   "source": [
    "More in https://docs.python.org/2/library/re.html"
   ]
  },
  {
   "cell_type": "markdown",
   "metadata": {},
   "source": [
    "### urllib2"
   ]
  },
  {
   "cell_type": "code",
   "execution_count": 38,
   "metadata": {
    "collapsed": false
   },
   "outputs": [],
   "source": [
    "import urllib2"
   ]
  },
  {
   "cell_type": "code",
   "execution_count": 39,
   "metadata": {
    "collapsed": false
   },
   "outputs": [
    {
     "name": "stdout",
     "output_type": "stream",
     "text": [
      "187.207.176.247\n"
     ]
    }
   ],
   "source": [
    "for line in urllib2.urlopen('http://dev.on-rev.com/myip.irev'):\n",
    "    #print line\n",
    "    if 'IP' in line:\n",
    "        IP = line.split(':')[1][:-5]\n",
    "print IP"
   ]
  },
  {
   "cell_type": "code",
   "execution_count": null,
   "metadata": {
    "collapsed": true
   },
   "outputs": [],
   "source": []
  }
 ],
 "metadata": {
  "kernelspec": {
   "display_name": "Python 2",
   "language": "python",
   "name": "python2"
  },
  "language_info": {
   "codemirror_mode": {
    "name": "ipython",
    "version": 2
   },
   "file_extension": ".py",
   "mimetype": "text/x-python",
   "name": "python",
   "nbconvert_exporter": "python",
   "pygments_lexer": "ipython2",
   "version": "2.7.11"
  }
 },
 "nbformat": 4,
 "nbformat_minor": 0
}
