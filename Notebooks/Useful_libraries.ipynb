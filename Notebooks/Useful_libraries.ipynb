{
 "cells": [
  {
   "cell_type": "code",
   "execution_count": 1,
   "metadata": {
    "collapsed": false
   },
   "outputs": [
    {
     "name": "stdout",
     "output_type": "stream",
     "text": [
      "Wed Jun 28 16:52:50 2017\n"
     ]
    }
   ],
   "source": [
    "# Just to know last time this was run:\n",
    "import time\n",
    "print(time.ctime())"
   ]
  },
  {
   "cell_type": "code",
   "execution_count": 2,
   "metadata": {
    "collapsed": false
   },
   "outputs": [],
   "source": [
    "import numpy as np"
   ]
  },
  {
   "cell_type": "markdown",
   "metadata": {},
   "source": [
    "# F Some useful libraries that make life easier"
   ]
  },
  {
   "cell_type": "markdown",
   "metadata": {},
   "source": [
    "This is part of the Python lecture given by Christophe Morisset at IA-UNAM. More informations at: http://python-astro.blogspot.mx/"
   ]
  },
  {
   "cell_type": "markdown",
   "metadata": {},
   "source": [
    "This lecture will give some insights to the most useful python libraries. It is NOT exhaustive, you have to read the corresponding manual pages to find the best use you can have of them. The list of all python-included libraries is here: https://docs.python.org/2/library/"
   ]
  },
  {
   "cell_type": "markdown",
   "metadata": {},
   "source": [
    "### time, datetime and timeit"
   ]
  },
  {
   "cell_type": "markdown",
   "metadata": {},
   "source": [
    "*  https://docs.python.org/2/library/time.html\n",
    "*  https://docs.python.org/2/library/datetime.html"
   ]
  },
  {
   "cell_type": "code",
   "execution_count": 3,
   "metadata": {
    "collapsed": false
   },
   "outputs": [],
   "source": [
    "import time\n",
    "import datetime"
   ]
  },
  {
   "cell_type": "code",
   "execution_count": 4,
   "metadata": {
    "collapsed": false
   },
   "outputs": [
    {
     "name": "stdout",
     "output_type": "stream",
     "text": [
      "Wed Jun 28 16:52:53 2017\n"
     ]
    }
   ],
   "source": [
    "print(time.ctime()) # current time, in a string format"
   ]
  },
  {
   "cell_type": "code",
   "execution_count": 6,
   "metadata": {
    "collapsed": false
   },
   "outputs": [
    {
     "name": "stdout",
     "output_type": "stream",
     "text": [
      "time.struct_time(tm_year=2017, tm_mon=6, tm_mday=28, tm_hour=16, tm_min=53, tm_sec=0, tm_wday=2, tm_yday=179, tm_isdst=1)\n"
     ]
    }
   ],
   "source": [
    "lt = time.localtime()\n",
    "print(lt)"
   ]
  },
  {
   "cell_type": "code",
   "execution_count": 7,
   "metadata": {
    "collapsed": false
   },
   "outputs": [
    {
     "data": {
      "text/plain": [
       "'Wed, 28 Jun 2017 16:53:00'"
      ]
     },
     "execution_count": 7,
     "metadata": {},
     "output_type": "execute_result"
    }
   ],
   "source": [
    "time.strftime(\"%a, %d %b %Y %H:%M:%S\",lt)"
   ]
  },
  {
   "cell_type": "code",
   "execution_count": 8,
   "metadata": {
    "collapsed": false
   },
   "outputs": [
    {
     "name": "stdout",
     "output_type": "stream",
     "text": [
      "2017-06-28 16:53:08.508068\n"
     ]
    }
   ],
   "source": [
    "print(datetime.datetime.today())"
   ]
  },
  {
   "cell_type": "code",
   "execution_count": 9,
   "metadata": {
    "collapsed": false
   },
   "outputs": [],
   "source": [
    "today = datetime.date.today()\n",
    "philae_landing = datetime.date(2014, 11, 11)"
   ]
  },
  {
   "cell_type": "code",
   "execution_count": 10,
   "metadata": {
    "collapsed": false
   },
   "outputs": [],
   "source": [
    "time_to_landing = philae_landing - today"
   ]
  },
  {
   "cell_type": "code",
   "execution_count": 11,
   "metadata": {
    "collapsed": false
   },
   "outputs": [
    {
     "name": "stdout",
     "output_type": "stream",
     "text": [
      "Philae landed since 960 days.\n"
     ]
    }
   ],
   "source": [
    "if philae_landing > today:\n",
    "    print('Philae landing in {} days.'.format(time_to_landing.days))\n",
    "else:\n",
    "    print('Philae landed since {} days.'.format(-time_to_landing.days))"
   ]
  },
  {
   "cell_type": "code",
   "execution_count": 12,
   "metadata": {
    "collapsed": false
   },
   "outputs": [
    {
     "name": "stdout",
     "output_type": "stream",
     "text": [
      "1000 factorials done in 0.023 secs.\n"
     ]
    }
   ],
   "source": [
    "start = time.time()\n",
    "for i in np.arange(1000):\n",
    "    t = np.math.factorial(i)\n",
    "end = time.time()\n",
    "print('1000 factorials done in {0:.3f} secs.'.format(end-start))"
   ]
  },
  {
   "cell_type": "code",
   "execution_count": 13,
   "metadata": {
    "collapsed": false
   },
   "outputs": [
    {
     "name": "stdout",
     "output_type": "stream",
     "text": [
      "0.022329822066240013\n"
     ]
    }
   ],
   "source": [
    "from timeit import Timer\n",
    "command = \"\"\"\\\n",
    "for i in np.arange(1000):\n",
    "    t = np.math.factorial(i)\n",
    "\"\"\"\n",
    "t = Timer(command, setup='import numpy as np')\n",
    "print(t.timeit(number=1))"
   ]
  },
  {
   "cell_type": "markdown",
   "metadata": {},
   "source": [
    "in ipython, one can use the magic timeit function:"
   ]
  },
  {
   "cell_type": "code",
   "execution_count": 14,
   "metadata": {
    "collapsed": false
   },
   "outputs": [
    {
     "name": "stdout",
     "output_type": "stream",
     "text": [
      "986 ns ± 28.1 ns per loop (mean ± std. dev. of 7 runs, 1000000 loops each)\n"
     ]
    }
   ],
   "source": [
    "%timeit np.math.factorial(50)"
   ]
  },
  {
   "cell_type": "markdown",
   "metadata": {},
   "source": [
    "or for the whole cell:"
   ]
  },
  {
   "cell_type": "code",
   "execution_count": 15,
   "metadata": {
    "collapsed": false
   },
   "outputs": [
    {
     "name": "stdout",
     "output_type": "stream",
     "text": [
      "21.5 ms ± 309 µs per loop (mean ± std. dev. of 7 runs, 10 loops each)\n"
     ]
    }
   ],
   "source": [
    "%%timeit\n",
    "for i in np.arange(1000):\n",
    "    t = np.math.factorial(i)"
   ]
  },
  {
   "cell_type": "markdown",
   "metadata": {},
   "source": [
    "### os"
   ]
  },
  {
   "cell_type": "markdown",
   "metadata": {},
   "source": [
    "https://docs.python.org/2/library/os.html \n",
    "This module provides a portable way of using operating system dependent functionality. If you just want to read or write a file see open(), if you want to manipulate paths, see the os.path module, and if you want to read all the lines in all the files on the command line see the fileinput module. For creating temporary files and directories see the tempfile module, and for high-level file and directory handling see the shutil module."
   ]
  },
  {
   "cell_type": "code",
   "execution_count": 16,
   "metadata": {
    "collapsed": false
   },
   "outputs": [],
   "source": [
    "import os"
   ]
  },
  {
   "cell_type": "code",
   "execution_count": 18,
   "metadata": {
    "collapsed": false
   },
   "outputs": [
    {
     "name": "stdout",
     "output_type": "stream",
     "text": [
      "/home/morisset\n"
     ]
    }
   ],
   "source": [
    "# os.environ is a dictionnary containing the environment variables and values\n",
    "if 'HOME' in os.environ:\n",
    "    print(os.environ['HOME'])\n",
    "else:\n",
    "    print('This OS is too limited to understand HOME')"
   ]
  },
  {
   "cell_type": "code",
   "execution_count": 20,
   "metadata": {
    "collapsed": false
   },
   "outputs": [
    {
     "name": "stdout",
     "output_type": "stream",
     "text": [
      "None\n"
     ]
    }
   ],
   "source": [
    "# if variable doesn't exists, getenv returns None\n",
    "print(os.getenv('HOMMMMMME'))"
   ]
  },
  {
   "cell_type": "code",
   "execution_count": 21,
   "metadata": {
    "collapsed": false
   },
   "outputs": [
    {
     "name": "stdout",
     "output_type": "stream",
     "text": [
      "/home/morisset/Google Drive/Pro/Python-MySQL/Notebooks/Notebooks\n"
     ]
    }
   ],
   "source": [
    "# get current working directory\n",
    "cwd = os.getcwd()\n",
    "print(cwd) #.split('/')[-1]"
   ]
  },
  {
   "cell_type": "code",
   "execution_count": 22,
   "metadata": {
    "collapsed": false
   },
   "outputs": [
    {
     "name": "stdout",
     "output_type": "stream",
     "text": [
      "Dir /tmp/test3456 created\n"
     ]
    }
   ],
   "source": [
    "new_dir = '/tmp/test3456'\n",
    "if not os.path.exists(new_dir):\n",
    "    os.mkdir(new_dir)\n",
    "    print('Dir {} created'.format(new_dir))\n",
    "else:\n",
    "    print('Dir {} exists'.format(new_dir))"
   ]
  },
  {
   "cell_type": "code",
   "execution_count": 23,
   "metadata": {
    "collapsed": false
   },
   "outputs": [
    {
     "data": {
      "text/plain": [
       "[]"
      ]
     },
     "execution_count": 23,
     "metadata": {},
     "output_type": "execute_result"
    }
   ],
   "source": [
    "# list all the files from a directory\n",
    "os.listdir(new_dir)"
   ]
  },
  {
   "cell_type": "code",
   "execution_count": 24,
   "metadata": {
    "collapsed": false
   },
   "outputs": [
    {
     "data": {
      "text/plain": [
       "'/home/morisset/Google Drive/Pro/Python-MySQL/Notebooks/Notebooks'"
      ]
     },
     "execution_count": 24,
     "metadata": {},
     "output_type": "execute_result"
    }
   ],
   "source": [
    "os.chdir(cwd)\n",
    "os.getcwd()"
   ]
  },
  {
   "cell_type": "code",
   "execution_count": 26,
   "metadata": {
    "collapsed": false
   },
   "outputs": [
    {
     "name": "stdout",
     "output_type": "stream",
     "text": [
      "test3456\n",
      ".dropbox-dist-new-flR7P8\n",
      ".com.google.Chrome.I1k252\n",
      ".xfsm-ICE-25SD2Y\n",
      ".X1-lock\n",
      "hsperfdata_morisset\n",
      "morisset\n",
      "virt_1113\n",
      "virtuoso_kn2480.ini\n",
      "insync1167.sock\n",
      ".esd-1167\n",
      "pulse-11Zb5izanH6S\n",
      "systemd-private-9cNMIj\n",
      "akonadi-morisset.xpFdIC\n",
      "systemd-private-QHbK4W\n",
      "ksocket-morisset\n",
      "kde-morisset\n",
      "ssh-CcZB7Vp5GVNr\n",
      ".XauthP2hn6a\n",
      "systemd-private-w9Di3x\n",
      "systemd-private-m64OE4\n",
      ".X0-lock\n",
      "systemd-private-gnA5Bh\n",
      ".Test-unix\n",
      ".font-unix\n",
      ".XIM-unix\n",
      ".ICE-unix\n",
      ".X11-unix\n"
     ]
    }
   ],
   "source": [
    "# Renaming files in a directory\n",
    "cwd = os.getcwd()\n",
    "os.chdir('/tmp')\n",
    "for filename in os.listdir('./'):\n",
    "    print(filename)\n",
    "    base_file, ext = os.path.splitext(filename)\n",
    "    #print base_file, ext\n",
    "    if ext == '.exe':\n",
    "        newname = base_file + '.txt'\n",
    "        os.rename(filename, newname)\n",
    "        print('file {0} renamed to {1}'.format(filename, newname))\n",
    "os.chdir(cwd)"
   ]
  },
  {
   "cell_type": "markdown",
   "metadata": {},
   "source": [
    "### sys"
   ]
  },
  {
   "cell_type": "markdown",
   "metadata": {},
   "source": [
    "https://docs.python.org/2/library/sys.html\n",
    "This module provides access to some variables used or maintained by the interpreter and to functions that interact strongly with the interpreter. It is always available.\n",
    "\n",
    "The sys.argv list contains the arguments passed to the script, when the interpreter was started. The first item contains the name of the script itself."
   ]
  },
  {
   "cell_type": "code",
   "execution_count": 27,
   "metadata": {
    "collapsed": false
   },
   "outputs": [
    {
     "name": "stdout",
     "output_type": "stream",
     "text": [
      "Overwriting sys_text.py\n"
     ]
    }
   ],
   "source": [
    "%%writefile sys_text.py\n",
    "import sys\n",
    "for arg in sys.argv:\n",
    "    print(arg)\n",
    "\n"
   ]
  },
  {
   "cell_type": "code",
   "execution_count": 28,
   "metadata": {
    "collapsed": false
   },
   "outputs": [
    {
     "name": "stdout",
     "output_type": "stream",
     "text": [
      "sys_text.py\r\n",
      "tralala\r\n"
     ]
    }
   ],
   "source": [
    "! python sys_text.py tralala"
   ]
  },
  {
   "cell_type": "code",
   "execution_count": 29,
   "metadata": {
    "collapsed": false
   },
   "outputs": [
    {
     "name": "stdout",
     "output_type": "stream",
     "text": [
      "Overwriting fact.py\n"
     ]
    }
   ],
   "source": [
    "%%writefile fact.py\n",
    "import sys\n",
    "import numpy\n",
    "print numpy.math.factorial(int(sys.argv[1]))\n",
    "\n"
   ]
  },
  {
   "cell_type": "code",
   "execution_count": 30,
   "metadata": {
    "collapsed": false
   },
   "outputs": [
    {
     "name": "stdout",
     "output_type": "stream",
     "text": [
      "720\r\n"
     ]
    }
   ],
   "source": [
    "! python fact.py 6"
   ]
  },
  {
   "cell_type": "markdown",
   "metadata": {},
   "source": [
    "A more complete managment of the argument (especially those like --v) is available using the argparse library. https://docs.python.org/2/library/argparse.html"
   ]
  },
  {
   "cell_type": "markdown",
   "metadata": {},
   "source": [
    "### Talking to the OS subprocess"
   ]
  },
  {
   "cell_type": "markdown",
   "metadata": {},
   "source": [
    "The os.popen method is deprecated, subprocess is prefered. A good tutorial is here: http://pymotw.com/2/subprocess/"
   ]
  },
  {
   "cell_type": "code",
   "execution_count": 1,
   "metadata": {
    "collapsed": false
   },
   "outputs": [],
   "source": [
    "import subprocess"
   ]
  },
  {
   "cell_type": "code",
   "execution_count": 2,
   "metadata": {
    "collapsed": false
   },
   "outputs": [
    {
     "name": "stdout",
     "output_type": "stream",
     "text": [
      "total 37292\r\n",
      "-rw-------. 1 morisset morisset   89353 Oct 26  2016 \u001b[0m\u001b[38;5;9m0040000_6.00_33_50_02_15.bin_0.1.gz\u001b[0m\r\n",
      "-rw-------. 1 morisset morisset   89971 Oct 26  2016 \u001b[38;5;9m0090000_6.00_33_50_02_15.bin_0.1.gz\u001b[0m\r\n",
      "-rw-------. 1 morisset morisset   90544 Oct 26  2016 \u001b[38;5;9m0100000_6.00_33_50_02_15.bin_0.1.gz\u001b[0m\r\n",
      "-rw-------. 1 morisset morisset   89170 Oct 26  2016 \u001b[38;5;9m0140000_6.00_33_50_02_15.bin_0.1.gz\u001b[0m\r\n",
      "-rw-------. 1 morisset morisset   88591 Oct 26  2016 \u001b[38;5;9m0190000_6.00_33_50_02_15.bin_0.1.gz\u001b[0m\r\n",
      "-rw-------. 1 morisset morisset  466800 Sep 18  2015 BPT1.pdf\r\n",
      "-rw-------. 1 morisset morisset   45181 Sep 18  2015 \u001b[38;5;13mBPT1.png\u001b[0m\r\n",
      "-rw-------. 1 morisset morisset 4229587 Jul  1  2015 \u001b[38;5;9mCALIFA_ah7.dat.gz\u001b[0m\r\n",
      "-rw-------. 1 morisset morisset   19376 Nov  9  2016 Calling Fortran.ipynb\r\n",
      "-rw-------. 1 morisset morisset   86815 Jun  1  2016 Calling Fortran.pdf\r\n",
      "-rw-------. 1 morisset morisset      14 Jun 28 15:58 data10.dat\r\n",
      "-rw-------. 1 morisset morisset      32 Jun 28 15:58 data11.dat\r\n",
      "-rw-------. 1 morisset morisset      94 Jun 28 15:58 data12.dat\r\n",
      "-rw-------. 1 morisset morisset      64 Sep 22  2016 data14.dat\r\n",
      "-rw-------. 1 morisset morisset      64 Jun 28 15:42 data1.dat\r\n",
      "-rw-------. 1 morisset morisset     147 Jun 28 15:47 data2.dat\r\n",
      "-rw-------. 1 morisset morisset     169 Jun 28 15:51 data3.dat\r\n",
      "-rw-------. 1 morisset morisset    1189 Jun 28 15:56 data4.dat\r\n",
      "-rw-------. 1 morisset morisset    1185 Jun 28 15:57 data5.dat\r\n",
      "-rw-------. 1 morisset morisset    1186 Sep 28  2016 data6.dat\r\n",
      "-rw-------. 1 morisset morisset     136 Sep  9  2015 data_ex1.dat\r\n",
      "-rw-------. 1 morisset morisset     298 Oct  8  2014 dcumsum.f\r\n",
      "-rw-------. 1 morisset morisset   30716 Nov  9  2016 dcumsum.so\r\n",
      "-rw-------. 1 morisset morisset 2220144 Aug 31  2016 Demo2.pickle\r\n",
      "-rw-------. 1 morisset morisset 2220109 Aug 31  2016 Demo3.pickle\r\n",
      "-rw-------. 1 morisset morisset     226 Jun 28 16:03 Demo.pickle\r\n",
      "-rw-------. 1 morisset morisset     198 Jun 28 16:09 Demo.pklz\r\n",
      "-rw-------. 1 morisset morisset  381664 Sep 22  2015 Ex1_done.ipynb\r\n",
      "-rw-------. 1 morisset morisset    1379 Jun 15 13:50 ex1.html\r\n",
      "-rw-------. 1 morisset morisset    7717 Sep  9  2015 Ex1.ipynb\r\n",
      "-rw-------. 1 morisset morisset     154 Jun 15 13:49 ex1.py\r\n",
      "-rw-------. 1 morisset morisset     288 Jun 15 13:50 ex1.pyc\r\n",
      "-rw-------. 1 morisset morisset       8 Sep 18  2014 ex1.txt\r\n",
      "-rw-------. 1 morisset morisset  315341 Sep 14  2015 Ex1_with_res.ipynb\r\n",
      "-rw-------. 1 morisset morisset      69 Jun 28 16:54 fact.py\r\n",
      "-rw-------. 1 morisset morisset  352680 Oct 16  2015 Fig1.eps\r\n",
      "-rw-------. 1 morisset morisset  127137 Jun 28 16:20 Fig1.pdf\r\n",
      "-rw-------. 1 morisset morisset    4995 Nov 10  2015 grep2.py\r\n",
      "-rw-------. 1 morisset morisset    6319 Nov 10  2015 grep3.py\r\n",
      "-rw-------. 1 morisset morisset    5575 Dec  9  2016 grep3.pyc\r\n",
      "-rw-------. 1 morisset morisset    4214 Sep 27  2015 grep.py\r\n",
      "-rw-------. 1 morisset morisset    1090 Oct  8  2014 hellofortran.c\r\n",
      "-rw-------. 1 morisset morisset     178 Oct  8  2014 hellofortran.f\r\n",
      "-rw-------. 1 morisset morisset   33976 Oct  8  2014 hellofortran.so\r\n",
      "-rw-------. 1 morisset morisset      49 Oct  8  2014 hello.py\r\n",
      "-rw-------. 1 morisset morisset     150 Feb  3  2016 index.html\r\n",
      "-rw-------. 1 morisset morisset  838576 Aug 17  2016 InstallPython.key\r\n",
      "-rw-------. 1 morisset morisset  520383 Jun 28 16:11 Interact with files.ipynb\r\n",
      "-rw-------. 1 morisset morisset  199526 Jun  1  2016 Interact with files.pdf\r\n",
      "-rw-------. 1 morisset morisset  131497 Aug 12  2015 Intro_1.odp\r\n",
      "-rw-------. 1 morisset morisset  174202 Aug 12  2015 Intro_1.pdf\r\n",
      "-rw-------. 1 morisset morisset  130234 Aug 12  2015 Intro_2014.odp\r\n",
      "-rw-------. 1 morisset morisset 2476656 Jun 28 16:21 intro_Matplotlib.ipynb\r\n",
      "-rw-------. 1 morisset morisset 1497041 Jun  1  2016 intro_Matplotlib.pdf\r\n",
      "-rw-------. 1 morisset morisset   93305 Jun 28 15:41 intro_numpy.ipynb\r\n",
      "-rw-------. 1 morisset morisset  126416 Jun  1  2016 intro_numpy.pdf\r\n",
      "-rw-------. 1 morisset morisset  179449 Aug 28  2014 intro_Python_2.pdf\r\n",
      "-rw-------. 1 morisset morisset  103229 Aug 28  2014 intro_Python_3.pdf\r\n",
      "-rw-------. 1 morisset morisset  326924 Aug 28  2014 intro_Python.html\r\n",
      "-rw-------. 1 morisset morisset   76946 Jun 15 13:53 intro_Python.ipynb\r\n",
      "-rw-------. 1 morisset morisset  118317 Jun  1  2016 intro_Python.pdf\r\n",
      "-rw-------. 1 morisset morisset  733506 Jun 28 16:51 intro_Scipy.ipynb\r\n",
      "-rw-------. 1 morisset morisset  586109 Jun  1  2016 intro_Scipy.pdf\r\n",
      "-rw-------. 1 morisset morisset 2210409 Oct 23  2015 MySQL.pdf\r\n",
      "-rw-------. 1 morisset morisset 1270918 Sep 21  2015 \u001b[38;5;9mMySQL.pdf.gz\u001b[0m\r\n",
      "-rw-------. 1 morisset morisset 8830080 Sep  3  2014 n10017o.fits\r\n",
      "-rw-------. 1 morisset morisset    5760 Jun 28 16:11 new.fits\r\n",
      "-rw-------. 1 morisset morisset  714212 Oct 19  2016 OOP.ipynb\r\n",
      "-rw-------. 1 morisset morisset  582837 Jun  1  2016 OOP.pdf\r\n",
      "-rw-------. 1 morisset morisset  849205 Oct 26  2016 Optimization.ipynb\r\n",
      "-rw-------. 1 morisset morisset  481656 Jun  2  2016 Optimization.pdf\r\n",
      "-rw-------. 1 morisset morisset    2537 Nov  9  2016 Parallel.ipynb\r\n",
      "drwx------. 2 morisset morisset    4096 Jun 15 13:50 \u001b[38;5;27m__pycache__\u001b[0m/\r\n",
      "-rw-------. 1 morisset morisset  435801 May 31  2016 query_res.dat\r\n",
      "-rw-------. 1 morisset morisset 1059840 Sep  3  2014 swp04345.mxhi\r\n",
      "-rw-------. 1 morisset morisset      47 Jun 28 16:54 sys_text.py\r\n",
      "-rw-------. 1 morisset morisset     353 Sep 28  2016 tab1.dat\r\n",
      "-rw-------. 1 morisset morisset     772 Sep 28  2016 tab_cds1.ascii\r\n",
      "-rw-------. 1 morisset morisset   43200 Sep 25  2014 tab_cds1.fits\r\n",
      "-rw-------. 1 morisset morisset    1458 Jun  1  2016 tab_cds1.tex\r\n",
      "-rw-------. 1 morisset morisset    1826 Sep 28  2016 tab_cds2.ascii\r\n",
      "-rw-------. 1 morisset morisset    4252 Nov 23  2016 Tarea1.py\r\n",
      "-rw-------. 1 morisset morisset    7033 Nov  2  2015 test1.pdf\r\n",
      "-rw-------. 1 morisset morisset  176673 Oct 16  2014 test_1-po\r\n",
      "-rw-------. 1 morisset morisset  561026 Oct 26  2016 \u001b[38;5;13mtest_1-prof.png\u001b[0m\r\n",
      "-rw-------. 1 morisset morisset  353203 Oct 26  2016 test_1_prof.prof\r\n",
      "-rw-------. 1 morisset morisset    6805 Oct 26  2016 test_1_prof.py\r\n",
      "-rw-------. 1 morisset morisset      72 Sep 27  2015 test1.test\r\n",
      "-rw-------. 1 morisset morisset    6833 Oct 26  2016 test_2_prof.py\r\n",
      "-rw-------. 1 morisset morisset     580 Oct 26  2016 test_2_prof.py.lprof\r\n",
      "-rw-------. 1 morisset morisset      45 Sep 27  2015 test2.test\r\n",
      "-rw-------. 1 morisset morisset    6579 Oct 26  2016 test_3_prof.py\r\n",
      "-rw-------. 1 morisset morisset    6524 Oct 26  2016 test_5_pdb.py\r\n",
      "-rw-------. 1 morisset morisset    6444 Oct 26  2016 test_6_pdb.py\r\n",
      "drwx------. 3 morisset morisset    4096 Nov 15  2016 \u001b[38;5;27mtt\u001b[0m/\r\n",
      "-rw-------. 1 morisset morisset   36310 Jun 28 17:06 Useful_libraries.ipynb\r\n",
      "-rw-------. 1 morisset morisset   99251 Jun  1  2016 Useful_libraries.pdf\r\n",
      "-rw-------. 1 morisset morisset  149812 Sep 28  2016 Using_astropy.ipynb\r\n",
      "-rw-------. 1 morisset morisset  195539 Jun  1  2016 Using_astropy.pdf\r\n",
      "-rw-------. 1 morisset morisset  262324 Nov 16  2016 Using_PyMySQL.ipynb\r\n",
      "-rw-------. 1 morisset morisset  221936 Nov 16  2016 Using_PyMySQL.pdf\r\n"
     ]
    }
   ],
   "source": [
    "ls -l"
   ]
  },
  {
   "cell_type": "code",
   "execution_count": 3,
   "metadata": {
    "collapsed": false
   },
   "outputs": [
    {
     "data": {
      "text/plain": [
       "0"
      ]
     },
     "execution_count": 3,
     "metadata": {},
     "output_type": "execute_result"
    }
   ],
   "source": [
    "subprocess.call(['ls -l'], shell=True)\n",
    "# The results is not visible in Notebook. In command line, the files are listed"
   ]
  },
  {
   "cell_type": "code",
   "execution_count": 5,
   "metadata": {
    "collapsed": false
   },
   "outputs": [
    {
     "name": "stdout",
     "output_type": "stream",
     "text": [
      "<class 'bytes'>\n",
      "total 37292\n",
      "-rw-------. 1 morisset morisset   89353 Oct 26  2016 0040000_6.00_33_50_02_15.bin_0.1.gz\n",
      "-rw-------. 1 morisset morisset   89971 Oct 26  2016 0090000_6.00_33_50_02_15.bin_0.1.gz\n",
      "-rw-------. 1 morisset morisset   90544 Oct 26  2016 0100000_6.00_33_50_02_15.bin_0.1.gz\n",
      "-rw-------. 1 morisset morisset   89170 Oct 26  2016 0140000_6.00_33_50_02_15.bin_0.1.gz\n",
      "-rw-------. 1 morisset morisset   88591 Oct 26  2016 0190000_6.00_33_50_02_15.bin_0.1.gz\n",
      "-rw-------. 1 morisset morisset  466800 Sep 18  2015 BPT1.pdf\n",
      "-rw-------. 1 morisset morisset   45181 Sep 18  2015 BPT1.png\n",
      "-rw-------. 1 morisset morisset 4229587 Jul  1  2015 CALIFA_ah7.dat.gz\n",
      "-rw-------. 1 morisset morisset   19376 Nov  9  2016 Calling Fortran.ipynb\n",
      "-rw-------. 1 morisset morisset   86815 Jun  1  2016 Calling Fortran.pdf\n",
      "-rw-------. 1 morisset morisset      14 Jun 28 15:58 data10.dat\n",
      "-rw-------. 1 morisset morisset      32 Jun 28 15:58 data11.dat\n",
      "-rw-------. 1 morisset morisset      94 Jun 28 15:58 data12.dat\n",
      "-rw-------. 1 morisset morisset      64 Sep 22  2016 data14.dat\n",
      "-rw-------. 1 morisset morisset      64 Jun 28 15:42 data1.dat\n",
      "-rw-------. 1 morisset morisset     147 Jun 28 15:47 data2.dat\n",
      "-rw-------. 1 morisset morisset     169 Jun 28 15:51 data3.dat\n",
      "-rw-------. 1 morisset morisset    1189 Jun 28 15:56 data4.dat\n",
      "-rw-------. 1 morisset morisset    1185 Jun 28 15:57 data5.dat\n",
      "-rw-------. 1 morisset morisset    1186 Sep 28  2016 data6.dat\n",
      "-rw-------. 1 morisset morisset     136 Sep  9  2015 data_ex1.dat\n",
      "-rw-------. 1 morisset morisset     298 Oct  8  2014 dcumsum.f\n",
      "-rw-------. 1 morisset morisset   30716 Nov  9  2016 dcumsum.so\n",
      "-rw-------. 1 morisset morisset 2220144 Aug 31  2016 Demo2.pickle\n",
      "-rw-------. 1 morisset morisset 2220109 Aug 31  2016 Demo3.pickle\n",
      "-rw-------. 1 morisset morisset     226 Jun 28 16:03 Demo.pickle\n",
      "-rw-------. 1 morisset morisset     198 Jun 28 16:09 Demo.pklz\n",
      "-rw-------. 1 morisset morisset  381664 Sep 22  2015 Ex1_done.ipynb\n",
      "-rw-------. 1 morisset morisset    1379 Jun 15 13:50 ex1.html\n",
      "-rw-------. 1 morisset morisset    7717 Sep  9  2015 Ex1.ipynb\n",
      "-rw-------. 1 morisset morisset     154 Jun 15 13:49 ex1.py\n",
      "-rw-------. 1 morisset morisset     288 Jun 15 13:50 ex1.pyc\n",
      "-rw-------. 1 morisset morisset       8 Sep 18  2014 ex1.txt\n",
      "-rw-------. 1 morisset morisset  315341 Sep 14  2015 Ex1_with_res.ipynb\n",
      "-rw-------. 1 morisset morisset      69 Jun 28 16:54 fact.py\n",
      "-rw-------. 1 morisset morisset  352680 Oct 16  2015 Fig1.eps\n",
      "-rw-------. 1 morisset morisset  127137 Jun 28 16:20 Fig1.pdf\n",
      "-rw-------. 1 morisset morisset    4995 Nov 10  2015 grep2.py\n",
      "-rw-------. 1 morisset morisset    6319 Nov 10  2015 grep3.py\n",
      "-rw-------. 1 morisset morisset    5575 Dec  9  2016 grep3.pyc\n",
      "-rw-------. 1 morisset morisset    4214 Sep 27  2015 grep.py\n",
      "-rw-------. 1 morisset morisset    1090 Oct  8  2014 hellofortran.c\n",
      "-rw-------. 1 morisset morisset     178 Oct  8  2014 hellofortran.f\n",
      "-rw-------. 1 morisset morisset   33976 Oct  8  2014 hellofortran.so\n",
      "-rw-------. 1 morisset morisset      49 Oct  8  2014 hello.py\n",
      "-rw-------. 1 morisset morisset     150 Feb  3  2016 index.html\n",
      "-rw-------. 1 morisset morisset  838576 Aug 17  2016 InstallPython.key\n",
      "-rw-------. 1 morisset morisset  520383 Jun 28 16:11 Interact with files.ipynb\n",
      "-rw-------. 1 morisset morisset  199526 Jun  1  2016 Interact with files.pdf\n",
      "-rw-------. 1 morisset morisset  131497 Aug 12  2015 Intro_1.odp\n",
      "-rw-------. 1 morisset morisset  174202 Aug 12  2015 Intro_1.pdf\n",
      "-rw-------. 1 morisset morisset  130234 Aug 12  2015 Intro_2014.odp\n",
      "-rw-------. 1 morisset morisset 2476656 Jun 28 16:21 intro_Matplotlib.ipynb\n",
      "-rw-------. 1 morisset morisset 1497041 Jun  1  2016 intro_Matplotlib.pdf\n",
      "-rw-------. 1 morisset morisset   93305 Jun 28 15:41 intro_numpy.ipynb\n",
      "-rw-------. 1 morisset morisset  126416 Jun  1  2016 intro_numpy.pdf\n",
      "-rw-------. 1 morisset morisset  179449 Aug 28  2014 intro_Python_2.pdf\n",
      "-rw-------. 1 morisset morisset  103229 Aug 28  2014 intro_Python_3.pdf\n",
      "-rw-------. 1 morisset morisset  326924 Aug 28  2014 intro_Python.html\n",
      "-rw-------. 1 morisset morisset   76946 Jun 15 13:53 intro_Python.ipynb\n",
      "-rw-------. 1 morisset morisset  118317 Jun  1  2016 intro_Python.pdf\n",
      "-rw-------. 1 morisset morisset  733506 Jun 28 16:51 intro_Scipy.ipynb\n",
      "-rw-------. 1 morisset morisset  586109 Jun  1  2016 intro_Scipy.pdf\n",
      "-rw-------. 1 morisset morisset 2210409 Oct 23  2015 MySQL.pdf\n",
      "-rw-------. 1 morisset morisset 1270918 Sep 21  2015 MySQL.pdf.gz\n",
      "-rw-------. 1 morisset morisset 8830080 Sep  3  2014 n10017o.fits\n",
      "-rw-------. 1 morisset morisset    5760 Jun 28 16:11 new.fits\n",
      "-rw-------. 1 morisset morisset  714212 Oct 19  2016 OOP.ipynb\n",
      "-rw-------. 1 morisset morisset  582837 Jun  1  2016 OOP.pdf\n",
      "-rw-------. 1 morisset morisset  849205 Oct 26  2016 Optimization.ipynb\n",
      "-rw-------. 1 morisset morisset  481656 Jun  2  2016 Optimization.pdf\n",
      "-rw-------. 1 morisset morisset    2537 Nov  9  2016 Parallel.ipynb\n",
      "drwx------. 2 morisset morisset    4096 Jun 15 13:50 __pycache__\n",
      "-rw-------. 1 morisset morisset  435801 May 31  2016 query_res.dat\n",
      "-rw-------. 1 morisset morisset 1059840 Sep  3  2014 swp04345.mxhi\n",
      "-rw-------. 1 morisset morisset      47 Jun 28 16:54 sys_text.py\n",
      "-rw-------. 1 morisset morisset     353 Sep 28  2016 tab1.dat\n",
      "-rw-------. 1 morisset morisset     772 Sep 28  2016 tab_cds1.ascii\n",
      "-rw-------. 1 morisset morisset   43200 Sep 25  2014 tab_cds1.fits\n",
      "-rw-------. 1 morisset morisset    1458 Jun  1  2016 tab_cds1.tex\n",
      "-rw-------. 1 morisset morisset    1826 Sep 28  2016 tab_cds2.ascii\n",
      "-rw-------. 1 morisset morisset    4252 Nov 23  2016 Tarea1.py\n",
      "-rw-------. 1 morisset morisset    7033 Nov  2  2015 test1.pdf\n",
      "-rw-------. 1 morisset morisset  176673 Oct 16  2014 test_1-po\n",
      "-rw-------. 1 morisset morisset  561026 Oct 26  2016 test_1-prof.png\n",
      "-rw-------. 1 morisset morisset  353203 Oct 26  2016 test_1_prof.prof\n",
      "-rw-------. 1 morisset morisset    6805 Oct 26  2016 test_1_prof.py\n",
      "-rw-------. 1 morisset morisset      72 Sep 27  2015 test1.test\n",
      "-rw-------. 1 morisset morisset    6833 Oct 26  2016 test_2_prof.py\n",
      "-rw-------. 1 morisset morisset     580 Oct 26  2016 test_2_prof.py.lprof\n",
      "-rw-------. 1 morisset morisset      45 Sep 27  2015 test2.test\n",
      "-rw-------. 1 morisset morisset    6579 Oct 26  2016 test_3_prof.py\n",
      "-rw-------. 1 morisset morisset    6524 Oct 26  2016 test_5_pdb.py\n",
      "-rw-------. 1 morisset morisset    6444 Oct 26  2016 test_6_pdb.py\n",
      "drwx------. 3 morisset morisset    4096 Nov 15  2016 tt\n",
      "-rw-------. 1 morisset morisset   36310 Jun 28 17:06 Useful_libraries.ipynb\n",
      "-rw-------. 1 morisset morisset   99251 Jun  1  2016 Useful_libraries.pdf\n",
      "-rw-------. 1 morisset morisset  149812 Sep 28  2016 Using_astropy.ipynb\n",
      "-rw-------. 1 morisset morisset  195539 Jun  1  2016 Using_astropy.pdf\n",
      "-rw-------. 1 morisset morisset  262324 Nov 16  2016 Using_PyMySQL.ipynb\n",
      "-rw-------. 1 morisset morisset  221936 Nov 16  2016 Using_PyMySQL.pdf\n",
      "\n"
     ]
    }
   ],
   "source": [
    "output = subprocess.check_output(['ls', '-l'])\n",
    "print(type(output))\n",
    "print(output.decode())"
   ]
  },
  {
   "cell_type": "code",
   "execution_count": 7,
   "metadata": {
    "collapsed": false
   },
   "outputs": [
    {
     "name": "stdout",
     "output_type": "stream",
     "text": [
      "<subprocess.Popen object at 0x7f7be858cac8>\n"
     ]
    }
   ],
   "source": [
    "command = 'ls -l'\n",
    "popen = subprocess.Popen(command, shell=True)\n",
    "# The same apply here, no output in Notebook\n",
    "print(popen)"
   ]
  },
  {
   "cell_type": "code",
   "execution_count": 9,
   "metadata": {
    "collapsed": false
   },
   "outputs": [
    {
     "name": "stdout",
     "output_type": "stream",
     "text": [
      "<class 'bytes'>\n",
      "total 37292\n",
      "-rw-------. 1 morisset morisset   89353 Oct 26  2016 0040000_6.00_33_50_02_15.bin_0.1.gz\n",
      "-rw-------. 1 morisset morisset   89971 Oct 26  2016 0090000_6.00_33_50_02_15.bin_0.1.gz\n",
      "-rw-------. 1 morisset morisset   90544 Oct 26  2016 0100000_6.00_33_50_02_15.bin_0.1.gz\n",
      "-rw-------. 1 morisset morisset   89170 Oct 26  2016 0140000_6.00_33_50_02_15.bin_0.1.gz\n",
      "-rw-------. 1 morisset morisset   88591 Oct 26  2016 0190000_6.00_33_50_02_15.bin_0.1.gz\n",
      "-rw-------. 1 morisset morisset  466800 Sep 18  2015 BPT1.pdf\n",
      "-rw-------. 1 morisset morisset   45181 Sep 18  2015 BPT1.png\n",
      "-rw-------. 1 morisset morisset 4229587 Jul  1  2015 CALIFA_ah7.dat.gz\n",
      "-rw-------. 1 morisset morisset   19376 Nov  9  2016 Calling Fortran.ipynb\n",
      "-rw-------. 1 morisset morisset   86815 Jun  1  2016 Calling Fortran.pdf\n",
      "-rw-------. 1 morisset morisset      14 Jun 28 15:58 data10.dat\n",
      "-rw-------. 1 morisset morisset      32 Jun 28 15:58 data11.dat\n",
      "-rw-------. 1 morisset morisset      94 Jun 28 15:58 data12.dat\n",
      "-rw-------. 1 morisset morisset      64 Sep 22  2016 data14.dat\n",
      "-rw-------. 1 morisset morisset      64 Jun 28 15:42 data1.dat\n",
      "-rw-------. 1 morisset morisset     147 Jun 28 15:47 data2.dat\n",
      "-rw-------. 1 morisset morisset     169 Jun 28 15:51 data3.dat\n",
      "-rw-------. 1 morisset morisset    1189 Jun 28 15:56 data4.dat\n",
      "-rw-------. 1 morisset morisset    1185 Jun 28 15:57 data5.dat\n",
      "-rw-------. 1 morisset morisset    1186 Sep 28  2016 data6.dat\n",
      "-rw-------. 1 morisset morisset     136 Sep  9  2015 data_ex1.dat\n",
      "-rw-------. 1 morisset morisset     298 Oct  8  2014 dcumsum.f\n",
      "-rw-------. 1 morisset morisset   30716 Nov  9  2016 dcumsum.so\n",
      "-rw-------. 1 morisset morisset 2220144 Aug 31  2016 Demo2.pickle\n",
      "-rw-------. 1 morisset morisset 2220109 Aug 31  2016 Demo3.pickle\n",
      "-rw-------. 1 morisset morisset     226 Jun 28 16:03 Demo.pickle\n",
      "-rw-------. 1 morisset morisset     198 Jun 28 16:09 Demo.pklz\n",
      "-rw-------. 1 morisset morisset  381664 Sep 22  2015 Ex1_done.ipynb\n",
      "-rw-------. 1 morisset morisset    1379 Jun 15 13:50 ex1.html\n",
      "-rw-------. 1 morisset morisset    7717 Sep  9  2015 Ex1.ipynb\n",
      "-rw-------. 1 morisset morisset     154 Jun 15 13:49 ex1.py\n",
      "-rw-------. 1 morisset morisset     288 Jun 15 13:50 ex1.pyc\n",
      "-rw-------. 1 morisset morisset       8 Sep 18  2014 ex1.txt\n",
      "-rw-------. 1 morisset morisset  315341 Sep 14  2015 Ex1_with_res.ipynb\n",
      "-rw-------. 1 morisset morisset      69 Jun 28 16:54 fact.py\n",
      "-rw-------. 1 morisset morisset  352680 Oct 16  2015 Fig1.eps\n",
      "-rw-------. 1 morisset morisset  127137 Jun 28 16:20 Fig1.pdf\n",
      "-rw-------. 1 morisset morisset    4995 Nov 10  2015 grep2.py\n",
      "-rw-------. 1 morisset morisset    6319 Nov 10  2015 grep3.py\n",
      "-rw-------. 1 morisset morisset    5575 Dec  9  2016 grep3.pyc\n",
      "-rw-------. 1 morisset morisset    4214 Sep 27  2015 grep.py\n",
      "-rw-------. 1 morisset morisset    1090 Oct  8  2014 hellofortran.c\n",
      "-rw-------. 1 morisset morisset     178 Oct  8  2014 hellofortran.f\n",
      "-rw-------. 1 morisset morisset   33976 Oct  8  2014 hellofortran.so\n",
      "-rw-------. 1 morisset morisset      49 Oct  8  2014 hello.py\n",
      "-rw-------. 1 morisset morisset     150 Feb  3  2016 index.html\n",
      "-rw-------. 1 morisset morisset  838576 Aug 17  2016 InstallPython.key\n",
      "-rw-------. 1 morisset morisset  520383 Jun 28 16:11 Interact with files.ipynb\n",
      "-rw-------. 1 morisset morisset  199526 Jun  1  2016 Interact with files.pdf\n",
      "-rw-------. 1 morisset morisset  131497 Aug 12  2015 Intro_1.odp\n",
      "-rw-------. 1 morisset morisset  174202 Aug 12  2015 Intro_1.pdf\n",
      "-rw-------. 1 morisset morisset  130234 Aug 12  2015 Intro_2014.odp\n",
      "-rw-------. 1 morisset morisset 2476656 Jun 28 16:21 intro_Matplotlib.ipynb\n",
      "-rw-------. 1 morisset morisset 1497041 Jun  1  2016 intro_Matplotlib.pdf\n",
      "-rw-------. 1 morisset morisset   93305 Jun 28 15:41 intro_numpy.ipynb\n",
      "-rw-------. 1 morisset morisset  126416 Jun  1  2016 intro_numpy.pdf\n",
      "-rw-------. 1 morisset morisset  179449 Aug 28  2014 intro_Python_2.pdf\n",
      "-rw-------. 1 morisset morisset  103229 Aug 28  2014 intro_Python_3.pdf\n",
      "-rw-------. 1 morisset morisset  326924 Aug 28  2014 intro_Python.html\n",
      "-rw-------. 1 morisset morisset   76946 Jun 15 13:53 intro_Python.ipynb\n",
      "-rw-------. 1 morisset morisset  118317 Jun  1  2016 intro_Python.pdf\n",
      "-rw-------. 1 morisset morisset  733506 Jun 28 16:51 intro_Scipy.ipynb\n",
      "-rw-------. 1 morisset morisset  586109 Jun  1  2016 intro_Scipy.pdf\n",
      "-rw-------. 1 morisset morisset 2210409 Oct 23  2015 MySQL.pdf\n",
      "-rw-------. 1 morisset morisset 1270918 Sep 21  2015 MySQL.pdf.gz\n",
      "-rw-------. 1 morisset morisset 8830080 Sep  3  2014 n10017o.fits\n",
      "-rw-------. 1 morisset morisset    5760 Jun 28 16:11 new.fits\n",
      "-rw-------. 1 morisset morisset  714212 Oct 19  2016 OOP.ipynb\n",
      "-rw-------. 1 morisset morisset  582837 Jun  1  2016 OOP.pdf\n",
      "-rw-------. 1 morisset morisset  849205 Oct 26  2016 Optimization.ipynb\n",
      "-rw-------. 1 morisset morisset  481656 Jun  2  2016 Optimization.pdf\n",
      "-rw-------. 1 morisset morisset    2537 Nov  9  2016 Parallel.ipynb\n",
      "drwx------. 2 morisset morisset    4096 Jun 15 13:50 __pycache__\n",
      "-rw-------. 1 morisset morisset  435801 May 31  2016 query_res.dat\n",
      "-rw-------. 1 morisset morisset 1059840 Sep  3  2014 swp04345.mxhi\n",
      "-rw-------. 1 morisset morisset      47 Jun 28 16:54 sys_text.py\n",
      "-rw-------. 1 morisset morisset     353 Sep 28  2016 tab1.dat\n",
      "-rw-------. 1 morisset morisset     772 Sep 28  2016 tab_cds1.ascii\n",
      "-rw-------. 1 morisset morisset   43200 Sep 25  2014 tab_cds1.fits\n",
      "-rw-------. 1 morisset morisset    1458 Jun  1  2016 tab_cds1.tex\n",
      "-rw-------. 1 morisset morisset    1826 Sep 28  2016 tab_cds2.ascii\n",
      "-rw-------. 1 morisset morisset    4252 Nov 23  2016 Tarea1.py\n",
      "-rw-------. 1 morisset morisset    7033 Nov  2  2015 test1.pdf\n",
      "-rw-------. 1 morisset morisset  176673 Oct 16  2014 test_1-po\n",
      "-rw-------. 1 morisset morisset  561026 Oct 26  2016 test_1-prof.png\n",
      "-rw-------. 1 morisset morisset  353203 Oct 26  2016 test_1_prof.prof\n",
      "-rw-------. 1 morisset morisset    6805 Oct 26  2016 test_1_prof.py\n",
      "-rw-------. 1 morisset morisset      72 Sep 27  2015 test1.test\n",
      "-rw-------. 1 morisset morisset    6833 Oct 26  2016 test_2_prof.py\n",
      "-rw-------. 1 morisset morisset     580 Oct 26  2016 test_2_prof.py.lprof\n",
      "-rw-------. 1 morisset morisset      45 Sep 27  2015 test2.test\n",
      "-rw-------. 1 morisset morisset    6579 Oct 26  2016 test_3_prof.py\n",
      "-rw-------. 1 morisset morisset    6524 Oct 26  2016 test_5_pdb.py\n",
      "-rw-------. 1 morisset morisset    6444 Oct 26  2016 test_6_pdb.py\n",
      "drwx------. 3 morisset morisset    4096 Nov 15  2016 tt\n",
      "-rw-------. 1 morisset morisset   36310 Jun 28 17:06 Useful_libraries.ipynb\n",
      "-rw-------. 1 morisset morisset   99251 Jun  1  2016 Useful_libraries.pdf\n",
      "-rw-------. 1 morisset morisset  149812 Sep 28  2016 Using_astropy.ipynb\n",
      "-rw-------. 1 morisset morisset  195539 Jun  1  2016 Using_astropy.pdf\n",
      "-rw-------. 1 morisset morisset  262324 Nov 16  2016 Using_PyMySQL.ipynb\n",
      "-rw-------. 1 morisset morisset  221936 Nov 16  2016 Using_PyMySQL.pdf\n",
      "\n"
     ]
    }
   ],
   "source": [
    "popen = subprocess.Popen(command, stdout=subprocess.PIPE, shell=True)\n",
    "res = popen.communicate()[0]\n",
    "print(type(res))\n",
    "print(res.decode())"
   ]
  },
  {
   "cell_type": "code",
   "execution_count": null,
   "metadata": {
    "collapsed": false
   },
   "outputs": [
    {
     "name": "stdout",
     "output_type": "stream",
     "text": [
      "b'CALIFA_ah7.dat.gz'\n",
      "b'Demo2.pickle'\n",
      "b'Demo3.pickle'\n",
      "b'intro_Matplotlib.ipynb'\n",
      "b'intro_Matplotlib.pdf'\n",
      "b'MySQL.pdf'\n",
      "b'MySQL.pdf.gz'\n",
      "b'n10017o.fits'\n",
      "b'swp04345.mxhi'\n"
     ]
    }
   ],
   "source": [
    "popen = subprocess.Popen(command, stdout=subprocess.PIPE, shell=True)\n",
    "for line in iter(popen.stdout.readline, \"\"):\n",
    "    lspl = line.split()\n",
    "    if len(lspl)> 4:\n",
    "        if int(lspl[4]) > 1000000:\n",
    "            print(lspl[8])"
   ]
  },
  {
   "cell_type": "markdown",
   "metadata": {},
   "source": [
    "### glob"
   ]
  },
  {
   "cell_type": "markdown",
   "metadata": {},
   "source": [
    "https://docs.python.org/2/library/glob.html"
   ]
  },
  {
   "cell_type": "markdown",
   "metadata": {},
   "source": [
    "No tilde expansion is done, but *, ?, and character ranges expressed with [] will be correctly matched."
   ]
  },
  {
   "cell_type": "code",
   "execution_count": 1,
   "metadata": {
    "collapsed": false
   },
   "outputs": [],
   "source": [
    "from glob import glob"
   ]
  },
  {
   "cell_type": "code",
   "execution_count": 2,
   "metadata": {
    "collapsed": false
   },
   "outputs": [
    {
     "name": "stdout",
     "output_type": "stream",
     "text": [
      "['intro_Matplotlib.ipynb', 'Ex1_done.ipynb', 'Useful_libraries.ipynb', 'Optimization.ipynb', 'Parallel.ipynb', 'Calling Fortran.ipynb', 'Interact with files.ipynb', 'OOP.ipynb', 'Ex1.ipynb', 'intro_numpy.ipynb', 'Using_astropy.ipynb', 'Using_PyMySQL.ipynb', 'intro_Scipy.ipynb', 'intro_Python.ipynb', 'Ex1_with_res.ipynb']\n"
     ]
    }
   ],
   "source": [
    "ipynb_files = glob('*.ipynb')\n",
    "print(ipynb_files)"
   ]
  },
  {
   "cell_type": "markdown",
   "metadata": {},
   "source": [
    "### re"
   ]
  },
  {
   "cell_type": "markdown",
   "metadata": {},
   "source": [
    "The re module provides regular expression tools for advanced string processing. For complex matching and manipulation, regular expressions offer succinct, optimized solutions:"
   ]
  },
  {
   "cell_type": "code",
   "execution_count": 3,
   "metadata": {
    "collapsed": false
   },
   "outputs": [
    {
     "data": {
      "text/plain": [
       "['foot', 'fell', 'fastest']"
      ]
     },
     "execution_count": 3,
     "metadata": {},
     "output_type": "execute_result"
    }
   ],
   "source": [
    "import re\n",
    "re.findall(r'\\bf[a-z]*', 'whifch foot or hand fell fastest')"
   ]
  },
  {
   "cell_type": "code",
   "execution_count": 4,
   "metadata": {
    "collapsed": false
   },
   "outputs": [
    {
     "data": {
      "text/plain": [
       "'cat in the hat'"
      ]
     },
     "execution_count": 4,
     "metadata": {},
     "output_type": "execute_result"
    }
   ],
   "source": [
    "re.sub(r'(\\b[a-z]+) \\1', r'\\1', 'cat in the the hat')"
   ]
  },
  {
   "cell_type": "markdown",
   "metadata": {},
   "source": [
    "More in https://docs.python.org/2/library/re.html"
   ]
  },
  {
   "cell_type": "markdown",
   "metadata": {},
   "source": [
    "### urllib2"
   ]
  },
  {
   "cell_type": "code",
   "execution_count": 12,
   "metadata": {
    "collapsed": false
   },
   "outputs": [],
   "source": [
    "# from urllib2 import urlopen # python 2\n",
    "from urllib.request import urlopen"
   ]
  },
  {
   "cell_type": "code",
   "execution_count": 18,
   "metadata": {
    "collapsed": false
   },
   "outputs": [
    {
     "name": "stdout",
     "output_type": "stream",
     "text": [
      "b'<html>\\n'\n",
      "b'<body>\\n'\n",
      "b'<p>\\n'\n",
      "b'Remote IP Address:132.248.1.102</p>\\n'\n",
      "b'</body>\\n'\n",
      "b'</html>'\n",
      "132.248.1.102\n"
     ]
    }
   ],
   "source": [
    "for line in urlopen('http://dev.on-rev.com/myip.irev'):\n",
    "    print(line)\n",
    "    if 'IP' in str(line):\n",
    "        IP = str(line).split(':')[1][:-7]\n",
    "print(IP)"
   ]
  },
  {
   "cell_type": "code",
   "execution_count": null,
   "metadata": {
    "collapsed": true
   },
   "outputs": [],
   "source": []
  }
 ],
 "metadata": {
  "kernelspec": {
   "display_name": "Python 3",
   "language": "python",
   "name": "python3"
  },
  "language_info": {
   "codemirror_mode": {
    "name": "ipython",
    "version": 3
   },
   "file_extension": ".py",
   "mimetype": "text/x-python",
   "name": "python",
   "nbconvert_exporter": "python",
   "pygments_lexer": "ipython3",
   "version": "3.6.1"
  }
 },
 "nbformat": 4,
 "nbformat_minor": 0
}
