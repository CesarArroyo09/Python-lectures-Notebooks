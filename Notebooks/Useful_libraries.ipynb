{
 "cells": [
  {
   "cell_type": "code",
   "execution_count": 1,
   "metadata": {
    "collapsed": false
   },
   "outputs": [
    {
     "name": "stdout",
     "output_type": "stream",
     "text": [
      "Wed Jun  1 17:07:36 2016\n"
     ]
    }
   ],
   "source": [
    "# Just to know last time this was run:\n",
    "import time\n",
    "print time.ctime()"
   ]
  },
  {
   "cell_type": "code",
   "execution_count": 2,
   "metadata": {
    "collapsed": false
   },
   "outputs": [],
   "source": [
    "import numpy as np"
   ]
  },
  {
   "cell_type": "markdown",
   "metadata": {},
   "source": [
    "# F Some useful libraries that make life easier"
   ]
  },
  {
   "cell_type": "markdown",
   "metadata": {},
   "source": [
    "This is part of the Python lecture given by Christophe Morisset at IA-UNAM. More informations at: http://python-astro.blogspot.mx/"
   ]
  },
  {
   "cell_type": "markdown",
   "metadata": {},
   "source": [
    "This lecture will give some insights to the most useful python libraries. It is NOT exhaustive, you have to read the corresponding manual pages to find the best use you can have of them. The list of all python-included libraries is here: https://docs.python.org/2/library/"
   ]
  },
  {
   "cell_type": "markdown",
   "metadata": {},
   "source": [
    "### time, datetime and timeit"
   ]
  },
  {
   "cell_type": "markdown",
   "metadata": {},
   "source": [
    "*  https://docs.python.org/2/library/time.html\n",
    "*  https://docs.python.org/2/library/datetime.html"
   ]
  },
  {
   "cell_type": "code",
   "execution_count": 3,
   "metadata": {
    "collapsed": false
   },
   "outputs": [],
   "source": [
    "import time\n",
    "import datetime"
   ]
  },
  {
   "cell_type": "code",
   "execution_count": 4,
   "metadata": {
    "collapsed": false
   },
   "outputs": [
    {
     "name": "stdout",
     "output_type": "stream",
     "text": [
      "Wed Jun  1 17:07:39 2016\n"
     ]
    }
   ],
   "source": [
    "print time.ctime() # current time, in a string format"
   ]
  },
  {
   "cell_type": "code",
   "execution_count": 5,
   "metadata": {
    "collapsed": false
   },
   "outputs": [
    {
     "name": "stdout",
     "output_type": "stream",
     "text": [
      "time.struct_time(tm_year=2016, tm_mon=6, tm_mday=1, tm_hour=17, tm_min=7, tm_sec=39, tm_wday=2, tm_yday=153, tm_isdst=1)\n"
     ]
    }
   ],
   "source": [
    "lt = time.localtime()\n",
    "print lt"
   ]
  },
  {
   "cell_type": "code",
   "execution_count": 6,
   "metadata": {
    "collapsed": false
   },
   "outputs": [
    {
     "data": {
      "text/plain": [
       "'Wed, 01 Jun 2016 17:07:39'"
      ]
     },
     "execution_count": 6,
     "metadata": {},
     "output_type": "execute_result"
    }
   ],
   "source": [
    "time.strftime(\"%a, %d %b %Y %H:%M:%S\",lt)"
   ]
  },
  {
   "cell_type": "code",
   "execution_count": 7,
   "metadata": {
    "collapsed": false
   },
   "outputs": [
    {
     "name": "stdout",
     "output_type": "stream",
     "text": [
      "2016-06-01 17:07:43.853257\n"
     ]
    }
   ],
   "source": [
    "print datetime.datetime.today()"
   ]
  },
  {
   "cell_type": "code",
   "execution_count": 8,
   "metadata": {
    "collapsed": false
   },
   "outputs": [],
   "source": [
    "today = datetime.date.today()\n",
    "philae_landing = datetime.date(2014, 11, 11)"
   ]
  },
  {
   "cell_type": "code",
   "execution_count": 9,
   "metadata": {
    "collapsed": false
   },
   "outputs": [],
   "source": [
    "time_to_landing = philae_landing - today"
   ]
  },
  {
   "cell_type": "code",
   "execution_count": 10,
   "metadata": {
    "collapsed": false
   },
   "outputs": [
    {
     "name": "stdout",
     "output_type": "stream",
     "text": [
      "Philae landed since 568 days.\n"
     ]
    }
   ],
   "source": [
    "if philae_landing > today:\n",
    "    print('Philae landing in {} days.'.format(time_to_landing.days))\n",
    "else:\n",
    "    print('Philae landed since {} days.'.format(-time_to_landing.days))"
   ]
  },
  {
   "cell_type": "code",
   "execution_count": 11,
   "metadata": {
    "collapsed": false
   },
   "outputs": [
    {
     "name": "stdout",
     "output_type": "stream",
     "text": [
      "1000 factorials done in 0.096 secs.\n"
     ]
    }
   ],
   "source": [
    "start = time.time()\n",
    "for i in np.arange(1000):\n",
    "    t = np.math.factorial(i)\n",
    "end = time.time()\n",
    "print('1000 factorials done in {0:.3f} secs.'.format(end-start))"
   ]
  },
  {
   "cell_type": "code",
   "execution_count": 12,
   "metadata": {
    "collapsed": false
   },
   "outputs": [
    {
     "name": "stdout",
     "output_type": "stream",
     "text": [
      "0.096764087677\n"
     ]
    }
   ],
   "source": [
    "from timeit import Timer\n",
    "command = \"\"\"\\\n",
    "for i in np.arange(1000):\n",
    "    t = np.math.factorial(i)\n",
    "\"\"\"\n",
    "t = Timer(command, setup='import numpy as np')\n",
    "print t.timeit(number=1)"
   ]
  },
  {
   "cell_type": "markdown",
   "metadata": {},
   "source": [
    "in ipython, one can use the magic timeit function:"
   ]
  },
  {
   "cell_type": "code",
   "execution_count": 13,
   "metadata": {
    "collapsed": false
   },
   "outputs": [
    {
     "name": "stdout",
     "output_type": "stream",
     "text": [
      "100000 loops, best of 3: 2.55 µs per loop\n"
     ]
    }
   ],
   "source": [
    "%timeit np.math.factorial(50)"
   ]
  },
  {
   "cell_type": "markdown",
   "metadata": {},
   "source": [
    "or for the whole cell:"
   ]
  },
  {
   "cell_type": "code",
   "execution_count": 14,
   "metadata": {
    "collapsed": false
   },
   "outputs": [
    {
     "name": "stdout",
     "output_type": "stream",
     "text": [
      "10 loops, best of 3: 95.9 ms per loop\n"
     ]
    }
   ],
   "source": [
    "%%timeit\n",
    "for i in np.arange(1000):\n",
    "    t = np.math.factorial(i)"
   ]
  },
  {
   "cell_type": "markdown",
   "metadata": {},
   "source": [
    "### os"
   ]
  },
  {
   "cell_type": "markdown",
   "metadata": {},
   "source": [
    "https://docs.python.org/2/library/os.html \n",
    "This module provides a portable way of using operating system dependent functionality. If you just want to read or write a file see open(), if you want to manipulate paths, see the os.path module, and if you want to read all the lines in all the files on the command line see the fileinput module. For creating temporary files and directories see the tempfile module, and for high-level file and directory handling see the shutil module."
   ]
  },
  {
   "cell_type": "code",
   "execution_count": 15,
   "metadata": {
    "collapsed": false
   },
   "outputs": [],
   "source": [
    "import os"
   ]
  },
  {
   "cell_type": "code",
   "execution_count": 16,
   "metadata": {
    "collapsed": false
   },
   "outputs": [
    {
     "name": "stdout",
     "output_type": "stream",
     "text": [
      "/Users/christophemorisset\n"
     ]
    }
   ],
   "source": [
    "# os.environ is a dictionnary containing the environment variables and values\n",
    "print os.environ['HOME']"
   ]
  },
  {
   "cell_type": "code",
   "execution_count": 17,
   "metadata": {
    "collapsed": false
   },
   "outputs": [
    {
     "name": "stdout",
     "output_type": "stream",
     "text": [
      "None\n"
     ]
    }
   ],
   "source": [
    "# if variable doesn't exists, getenv returns None\n",
    "print os.getenv('HOME2')"
   ]
  },
  {
   "cell_type": "code",
   "execution_count": 18,
   "metadata": {
    "collapsed": false
   },
   "outputs": [
    {
     "name": "stdout",
     "output_type": "stream",
     "text": [
      "/Users/christophemorisset/Google Drive/Pro/Python-MySQL/Notebooks/Notebooks\n"
     ]
    }
   ],
   "source": [
    "# get current working directory\n",
    "cwd = os.getcwd()\n",
    "print cwd"
   ]
  },
  {
   "cell_type": "code",
   "execution_count": 19,
   "metadata": {
    "collapsed": false
   },
   "outputs": [
    {
     "name": "stdout",
     "output_type": "stream",
     "text": [
      "Dir /tmp/test3456 created\n"
     ]
    }
   ],
   "source": [
    "new_dir = '/tmp/test3456'\n",
    "if not os.path.exists(new_dir):\n",
    "    os.mkdir(new_dir)\n",
    "    print('Dir {} created'.format(new_dir))\n",
    "else:\n",
    "    print('Dir {} exists'.format(new_dir))"
   ]
  },
  {
   "cell_type": "code",
   "execution_count": 20,
   "metadata": {
    "collapsed": false
   },
   "outputs": [
    {
     "data": {
      "text/plain": [
       "[]"
      ]
     },
     "execution_count": 20,
     "metadata": {},
     "output_type": "execute_result"
    }
   ],
   "source": [
    "# list all the files from a directory\n",
    "os.listdir(new_dir)"
   ]
  },
  {
   "cell_type": "code",
   "execution_count": 21,
   "metadata": {
    "collapsed": false
   },
   "outputs": [
    {
     "data": {
      "text/plain": [
       "'/Users/christophemorisset/Google Drive/Pro/Python-MySQL/Notebooks/Notebooks'"
      ]
     },
     "execution_count": 21,
     "metadata": {},
     "output_type": "execute_result"
    }
   ],
   "source": [
    "os.chdir(cwd)\n",
    "os.getcwd()"
   ]
  },
  {
   "cell_type": "code",
   "execution_count": 22,
   "metadata": {
    "collapsed": false
   },
   "outputs": [],
   "source": [
    "# Renaming files in a directory\n",
    "cwd = os.getcwd()\n",
    "os.chdir(new_dir)\n",
    "for filename in os.listdir('./'):\n",
    "    print filename\n",
    "    base_file, ext = os.path.splitext(filename)\n",
    "    #print base_file, ext\n",
    "    if ext == '.exe':\n",
    "        newname = base_file + '.txt'\n",
    "        os.rename(filename, newname)\n",
    "        print('file {0} renamed to {1}'.format(filename, newname))\n",
    "os.chdir(cwd)"
   ]
  },
  {
   "cell_type": "markdown",
   "metadata": {},
   "source": [
    "### sys"
   ]
  },
  {
   "cell_type": "markdown",
   "metadata": {},
   "source": [
    "https://docs.python.org/2/library/sys.html\n",
    "This module provides access to some variables used or maintained by the interpreter and to functions that interact strongly with the interpreter. It is always available.\n",
    "\n",
    "The sys.argv list contains the arguments passed to the script, when the interpreter was started. The first item contains the name of the script itself."
   ]
  },
  {
   "cell_type": "code",
   "execution_count": 23,
   "metadata": {
    "collapsed": false
   },
   "outputs": [
    {
     "name": "stdout",
     "output_type": "stream",
     "text": [
      "Overwriting sys_text.py\n"
     ]
    }
   ],
   "source": [
    "%%writefile sys_text.py\n",
    "import sys\n",
    "for arg in sys.argv:\n",
    "    print arg"
   ]
  },
  {
   "cell_type": "code",
   "execution_count": 24,
   "metadata": {
    "collapsed": false
   },
   "outputs": [
    {
     "name": "stdout",
     "output_type": "stream",
     "text": [
      "sys_text.py\r\n",
      "tralala\r\n"
     ]
    }
   ],
   "source": [
    "! python sys_text.py tralala"
   ]
  },
  {
   "cell_type": "code",
   "execution_count": 25,
   "metadata": {
    "collapsed": false
   },
   "outputs": [
    {
     "name": "stdout",
     "output_type": "stream",
     "text": [
      "Overwriting fact.py\n"
     ]
    }
   ],
   "source": [
    "%%writefile fact.py\n",
    "import sys\n",
    "import numpy\n",
    "print numpy.math.factorial(int(sys.argv[1]))"
   ]
  },
  {
   "cell_type": "code",
   "execution_count": 26,
   "metadata": {
    "collapsed": false
   },
   "outputs": [
    {
     "name": "stdout",
     "output_type": "stream",
     "text": [
      "720\r\n"
     ]
    }
   ],
   "source": [
    "! python fact.py 6"
   ]
  },
  {
   "cell_type": "markdown",
   "metadata": {},
   "source": [
    "A more complete managment of the argument (especially those like --v) is available using the argparse library. https://docs.python.org/2/library/argparse.html"
   ]
  },
  {
   "cell_type": "markdown",
   "metadata": {},
   "source": [
    "### Talking to the OS subprocess"
   ]
  },
  {
   "cell_type": "markdown",
   "metadata": {},
   "source": [
    "The os.popen method is deprecated, subprocess is prefered. A good tutorial is here: http://pymotw.com/2/subprocess/"
   ]
  },
  {
   "cell_type": "code",
   "execution_count": 27,
   "metadata": {
    "collapsed": false
   },
   "outputs": [],
   "source": [
    "import subprocess"
   ]
  },
  {
   "cell_type": "code",
   "execution_count": 28,
   "metadata": {
    "collapsed": false
   },
   "outputs": [
    {
     "name": "stdout",
     "output_type": "stream",
     "text": [
      "total 67920\r\n",
      "-rw-------  1 christophemorisset  staff    89353 Oct 26  2015 0040000_6.00_33_50_02_15.bin_0.1.gz\r\n",
      "-rw-------  1 christophemorisset  staff    89971 May 31 15:31 0090000_6.00_33_50_02_15.bin_0.1.gz\r\n",
      "-rw-------  1 christophemorisset  staff    90544 Oct 26  2015 0100000_6.00_33_50_02_15.bin_0.1.gz\r\n",
      "-rw-------  1 christophemorisset  staff    89170 Oct 26  2015 0140000_6.00_33_50_02_15.bin_0.1.gz\r\n",
      "-rw-------  1 christophemorisset  staff    88591 Oct 26  2015 0190000_6.00_33_50_02_15.bin_0.1.gz\r\n",
      "-rw-------  1 christophemorisset  staff   466800 Sep 18  2015 BPT1.pdf\r\n",
      "-rw-------  1 christophemorisset  staff    45181 Sep 18  2015 BPT1.png\r\n",
      "-rw-------  1 christophemorisset  staff  4229587 Sep  9  2015 CALIFA_ah7.dat.gz\r\n",
      "-rw-------  1 christophemorisset  staff    21143 Oct 26  2015 Calling Fortran.ipynb\r\n",
      "-rw-------  1 christophemorisset  staff   111397 Nov 25  2015 Calling Fortran.pdf\r\n",
      "-rw-------  1 christophemorisset  staff      384 Jun  1 16:57 Demo.pickle\r\n",
      "-rw-------  1 christophemorisset  staff      211 Jun  1 16:57 Demo.pklz\r\n",
      "-rw-------  1 christophemorisset  staff  2222331 Jun  1 16:57 Demo2.pickle\r\n",
      "-rw-------  1 christophemorisset  staff     7717 Sep  9  2015 Ex1.ipynb\r\n",
      "-rw-------  1 christophemorisset  staff   381664 Sep 22  2015 Ex1_done.ipynb\r\n",
      "-rw-------  1 christophemorisset  staff   315341 Sep 14  2015 Ex1_with_res.ipynb\r\n",
      "-rw-------@ 1 christophemorisset  staff   352680 Oct 16  2015 Fig1.eps\r\n",
      "-rw-------  1 christophemorisset  staff   116888 Jun  1 17:02 Fig1.pdf\r\n",
      "-rw-r--r--@ 1 christophemorisset  staff        0 May 31 15:55 Icon?\r\n",
      "-rw-------  1 christophemorisset  staff   171041 Jun  1 16:59 Interact with files.ipynb\r\n",
      "-rw-r--r--@ 1 christophemorisset  staff   199526 Jun  1 16:59 Interact with files.pdf\r\n",
      "-rw-------  1 christophemorisset  staff   131497 Aug 12  2015 Intro_1.odp\r\n",
      "-rw-------  1 christophemorisset  staff   174202 Aug 12  2015 Intro_1.pdf\r\n",
      "-rw-------  1 christophemorisset  staff   130234 Aug 12  2015 Intro_2014.odp\r\n",
      "-rw-r--r--  1 christophemorisset  staff  2210409 Oct 23  2015 MySQL.pdf\r\n",
      "-rw-------  1 christophemorisset  staff  1270918 Sep 21  2015 MySQL.pdf.gz\r\n",
      "-rw-------  1 christophemorisset  staff   746328 Sep 28  2015 OOP.ipynb\r\n",
      "-rw-------  1 christophemorisset  staff   620880 Nov 25  2015 OOP.pdf\r\n",
      "-rw-------  1 christophemorisset  staff   687289 Oct 26  2015 Optimization.ipynb\r\n",
      "-rw-------  1 christophemorisset  staff   454804 Nov 25  2015 Optimization.pdf\r\n",
      "-rw-------  1 christophemorisset  staff    48953 Sep 22  2015 Useful_libraries.ipynb\r\n",
      "-rw-------  1 christophemorisset  staff   129753 Nov 25  2015 Useful_libraries.pdf\r\n",
      "-rw-------  1 christophemorisset  staff   535011 May 31 17:42 Using_PyMySQL.ipynb\r\n",
      "-rw-------  1 christophemorisset  staff   366991 Nov 25  2015 Using_PyMySQL.pdf\r\n",
      "-rw-------  1 christophemorisset  staff   208832 Sep 25  2014 Using_astropy.ipynb\r\n",
      "-rw-------  1 christophemorisset  staff       64 Jun  1 16:56 data1.dat\r\n",
      "-rw-------  1 christophemorisset  staff       14 Jun  1 16:57 data10.dat\r\n",
      "-rw-------  1 christophemorisset  staff       32 Jun  1 16:57 data11.dat\r\n",
      "-rw-------  1 christophemorisset  staff       88 Jun  1 16:57 data12.dat\r\n",
      "-rw-------  1 christophemorisset  staff      148 Jun  1 16:57 data2.dat\r\n",
      "-rw-------  1 christophemorisset  staff      166 Jun  1 16:57 data3.dat\r\n",
      "-rw-------  1 christophemorisset  staff     1189 Jun  1 16:57 data4.dat\r\n",
      "-rw-------  1 christophemorisset  staff     1185 Jun  1 16:57 data5.dat\r\n",
      "-rw-------  1 christophemorisset  staff      136 Sep 14  2015 data_ex1.dat\r\n",
      "-rw-------  1 christophemorisset  staff      298 Oct 26  2015 dcumsum.f\r\n",
      "-rw-------  1 christophemorisset  staff     1401 Jun  1 16:45 ex1.html\r\n",
      "-rw-------  1 christophemorisset  staff      154 Jun  1 16:45 ex1.py\r\n",
      "-rw-------  1 christophemorisset  staff      284 Jun  1 16:45 ex1.pyc\r\n",
      "-rw-------  1 christophemorisset  staff        8 Sep 18  2014 ex1.txt\r\n",
      "-rw-------  1 christophemorisset  staff       68 Jun  1 17:07 fact.py\r\n",
      "-rw-r--r--  1 christophemorisset  staff     4214 May 31 22:52 grep.py\r\n",
      "-rw-------  1 christophemorisset  staff     4995 Nov 10  2015 grep2.py\r\n",
      "-rw-------  1 christophemorisset  staff     6319 Nov 10  2015 grep3.py\r\n",
      "-rw-------  1 christophemorisset  staff       49 Oct  8  2014 hello.py\r\n",
      "-rw-------  1 christophemorisset  staff     1090 Oct  8  2014 hellofortran.c\r\n",
      "-rw-------  1 christophemorisset  staff      178 Oct  8  2014 hellofortran.f\r\n",
      "-rw-------  1 christophemorisset  staff    33976 Oct  8  2014 hellofortran.so\r\n",
      "-rw-r--r--  1 christophemorisset  staff      150 Feb  3 23:59 index.html\r\n",
      "-rw-------  1 christophemorisset  staff  2184772 Jun  1 17:02 intro_Matplotlib.ipynb\r\n",
      "-rw-r--r--@ 1 christophemorisset  staff  1497041 Jun  1 17:02 intro_Matplotlib.pdf\r\n",
      "-rw-------  1 christophemorisset  staff   326924 Aug 28  2014 intro_Python.html\r\n",
      "-rw-r--r--  1 christophemorisset  staff    76760 Jun  1 16:46 intro_Python.ipynb\r\n",
      "-rw-r--r--@ 1 christophemorisset  staff   118317 Jun  1 16:46 intro_Python.pdf\r\n",
      "-rw-------  1 christophemorisset  staff   179449 Aug 28  2014 intro_Python_2.pdf\r\n",
      "-rw-------  1 christophemorisset  staff   103229 Aug 28  2014 intro_Python_3.pdf\r\n",
      "-rw-------  1 christophemorisset  staff   747717 Jun  1 17:07 intro_Scipy.ipynb\r\n",
      "-rw-r--r--@ 1 christophemorisset  staff   586109 Jun  1 17:07 intro_Scipy.pdf\r\n",
      "-rw-------  1 christophemorisset  staff    92829 Jun  1 16:54 intro_numpy.ipynb\r\n",
      "-rw-------  1 christophemorisset  staff   140493 Nov 25  2015 intro_numpy.pdf\r\n",
      "-rw-------  1 christophemorisset  staff  8830080 Sep  3  2014 n10017o.fits\r\n",
      "-rw-------  1 christophemorisset  staff     5760 Jun  1 16:58 new.fits\r\n",
      "-rw-------  1 christophemorisset  staff   435801 Nov  9  2015 query_res.dat\r\n",
      "-rw-------  1 christophemorisset  staff  1059840 Sep  3  2014 swp04345.mxhi\r\n",
      "-rw-------  1 christophemorisset  staff       45 Jun  1 17:07 sys_text.py\r\n",
      "-rw-------  1 christophemorisset  staff      352 Sep 25  2014 tab1.dat\r\n",
      "-rw-------  1 christophemorisset  staff      763 Sep 25  2014 tab_cds1.ascii\r\n",
      "-rw-------  1 christophemorisset  staff    43200 Sep 25  2014 tab_cds1.fits\r\n",
      "-rw-------  1 christophemorisset  staff     1265 Sep 25  2014 tab_cds1.tex\r\n",
      "-rw-------  1 christophemorisset  staff     1826 Sep 25  2014 tab_cds2.ascii\r\n",
      "-rw-------  1 christophemorisset  staff     7033 Nov  2  2015 test1.pdf\r\n",
      "-rw-------  1 christophemorisset  staff       72 Sep 27  2015 test1.test\r\n",
      "-rw-------  1 christophemorisset  staff       45 Sep 27  2015 test2.test\r\n",
      "-rw-------  1 christophemorisset  staff   176673 Oct 16  2014 test_1-po\r\n",
      "-rw-------@ 1 christophemorisset  staff   441740 Oct 26  2015 test_1-prof.png\r\n",
      "-rw-------  1 christophemorisset  staff   264259 Oct 26  2015 test_1_prof.prof\r\n",
      "-rw-------  1 christophemorisset  staff     6805 Oct 26  2015 test_1_prof.py\r\n",
      "-rw-------  1 christophemorisset  staff     6833 Oct 26  2015 test_2_prof.py\r\n",
      "-rw-------  1 christophemorisset  staff      515 Oct 26  2015 test_2_prof.py.lprof\r\n",
      "-rw-------  1 christophemorisset  staff     6566 Oct 26  2015 test_3_prof.py\r\n",
      "-rw-------  1 christophemorisset  staff     6524 Oct 26  2015 test_5_pdb.py\r\n",
      "drwx------@ 5 christophemorisset  staff      170 May 31 15:55 \u001b[34mtt\u001b[m\u001b[m/\r\n"
     ]
    }
   ],
   "source": [
    "ls -l"
   ]
  },
  {
   "cell_type": "code",
   "execution_count": 29,
   "metadata": {
    "collapsed": false
   },
   "outputs": [
    {
     "data": {
      "text/plain": [
       "0"
      ]
     },
     "execution_count": 29,
     "metadata": {},
     "output_type": "execute_result"
    }
   ],
   "source": [
    "subprocess.call(['ls -l'], shell=True)\n",
    "# The results is not visible in Notebook. In command line, the files are listed"
   ]
  },
  {
   "cell_type": "code",
   "execution_count": 30,
   "metadata": {
    "collapsed": false
   },
   "outputs": [
    {
     "name": "stdout",
     "output_type": "stream",
     "text": [
      "total 67920\n",
      "-rw-------  1 christophemorisset  staff    89353 Oct 26  2015 0040000_6.00_33_50_02_15.bin_0.1.gz\n",
      "-rw-------  1 christophemorisset  staff    89971 May 31 15:31 0090000_6.00_33_50_02_15.bin_0.1.gz\n",
      "-rw-------  1 christophemorisset  staff    90544 Oct 26  2015 0100000_6.00_33_50_02_15.bin_0.1.gz\n",
      "-rw-------  1 christophemorisset  staff    89170 Oct 26  2015 0140000_6.00_33_50_02_15.bin_0.1.gz\n",
      "-rw-------  1 christophemorisset  staff    88591 Oct 26  2015 0190000_6.00_33_50_02_15.bin_0.1.gz\n",
      "-rw-------  1 christophemorisset  staff   466800 Sep 18  2015 BPT1.pdf\n",
      "-rw-------  1 christophemorisset  staff    45181 Sep 18  2015 BPT1.png\n",
      "-rw-------  1 christophemorisset  staff  4229587 Sep  9  2015 CALIFA_ah7.dat.gz\n",
      "-rw-------  1 christophemorisset  staff    21143 Oct 26  2015 Calling Fortran.ipynb\n",
      "-rw-------  1 christophemorisset  staff   111397 Nov 25  2015 Calling Fortran.pdf\n",
      "-rw-------  1 christophemorisset  staff      384 Jun  1 16:57 Demo.pickle\n",
      "-rw-------  1 christophemorisset  staff      211 Jun  1 16:57 Demo.pklz\n",
      "-rw-------  1 christophemorisset  staff  2222331 Jun  1 16:57 Demo2.pickle\n",
      "-rw-------  1 christophemorisset  staff     7717 Sep  9  2015 Ex1.ipynb\n",
      "-rw-------  1 christophemorisset  staff   381664 Sep 22  2015 Ex1_done.ipynb\n",
      "-rw-------  1 christophemorisset  staff   315341 Sep 14  2015 Ex1_with_res.ipynb\n",
      "-rw-------@ 1 christophemorisset  staff   352680 Oct 16  2015 Fig1.eps\n",
      "-rw-------  1 christophemorisset  staff   116888 Jun  1 17:02 Fig1.pdf\n",
      "-rw-r--r--@ 1 christophemorisset  staff        0 May 31 15:55 Icon\r\n",
      "-rw-------  1 christophemorisset  staff   171041 Jun  1 16:59 Interact with files.ipynb\n",
      "-rw-r--r--@ 1 christophemorisset  staff   199526 Jun  1 16:59 Interact with files.pdf\n",
      "-rw-------  1 christophemorisset  staff   131497 Aug 12  2015 Intro_1.odp\n",
      "-rw-------  1 christophemorisset  staff   174202 Aug 12  2015 Intro_1.pdf\n",
      "-rw-------  1 christophemorisset  staff   130234 Aug 12  2015 Intro_2014.odp\n",
      "-rw-r--r--  1 christophemorisset  staff  2210409 Oct 23  2015 MySQL.pdf\n",
      "-rw-------  1 christophemorisset  staff  1270918 Sep 21  2015 MySQL.pdf.gz\n",
      "-rw-------  1 christophemorisset  staff   746328 Sep 28  2015 OOP.ipynb\n",
      "-rw-------  1 christophemorisset  staff   620880 Nov 25  2015 OOP.pdf\n",
      "-rw-------  1 christophemorisset  staff   687289 Oct 26  2015 Optimization.ipynb\n",
      "-rw-------  1 christophemorisset  staff   454804 Nov 25  2015 Optimization.pdf\n",
      "-rw-------  1 christophemorisset  staff    48953 Sep 22  2015 Useful_libraries.ipynb\n",
      "-rw-------  1 christophemorisset  staff   129753 Nov 25  2015 Useful_libraries.pdf\n",
      "-rw-------  1 christophemorisset  staff   535011 May 31 17:42 Using_PyMySQL.ipynb\n",
      "-rw-------  1 christophemorisset  staff   366991 Nov 25  2015 Using_PyMySQL.pdf\n",
      "-rw-------  1 christophemorisset  staff   208832 Sep 25  2014 Using_astropy.ipynb\n",
      "-rw-------  1 christophemorisset  staff       64 Jun  1 16:56 data1.dat\n",
      "-rw-------  1 christophemorisset  staff       14 Jun  1 16:57 data10.dat\n",
      "-rw-------  1 christophemorisset  staff       32 Jun  1 16:57 data11.dat\n",
      "-rw-------  1 christophemorisset  staff       88 Jun  1 16:57 data12.dat\n",
      "-rw-------  1 christophemorisset  staff      148 Jun  1 16:57 data2.dat\n",
      "-rw-------  1 christophemorisset  staff      166 Jun  1 16:57 data3.dat\n",
      "-rw-------  1 christophemorisset  staff     1189 Jun  1 16:57 data4.dat\n",
      "-rw-------  1 christophemorisset  staff     1185 Jun  1 16:57 data5.dat\n",
      "-rw-------  1 christophemorisset  staff      136 Sep 14  2015 data_ex1.dat\n",
      "-rw-------  1 christophemorisset  staff      298 Oct 26  2015 dcumsum.f\n",
      "-rw-------  1 christophemorisset  staff     1401 Jun  1 16:45 ex1.html\n",
      "-rw-------  1 christophemorisset  staff      154 Jun  1 16:45 ex1.py\n",
      "-rw-------  1 christophemorisset  staff      284 Jun  1 16:45 ex1.pyc\n",
      "-rw-------  1 christophemorisset  staff        8 Sep 18  2014 ex1.txt\n",
      "-rw-------  1 christophemorisset  staff       68 Jun  1 17:07 fact.py\n",
      "-rw-r--r--  1 christophemorisset  staff     4214 May 31 22:52 grep.py\n",
      "-rw-------  1 christophemorisset  staff     4995 Nov 10  2015 grep2.py\n",
      "-rw-------  1 christophemorisset  staff     6319 Nov 10  2015 grep3.py\n",
      "-rw-------  1 christophemorisset  staff       49 Oct  8  2014 hello.py\n",
      "-rw-------  1 christophemorisset  staff     1090 Oct  8  2014 hellofortran.c\n",
      "-rw-------  1 christophemorisset  staff      178 Oct  8  2014 hellofortran.f\n",
      "-rw-------  1 christophemorisset  staff    33976 Oct  8  2014 hellofortran.so\n",
      "-rw-r--r--  1 christophemorisset  staff      150 Feb  3 23:59 index.html\n",
      "-rw-------  1 christophemorisset  staff  2184772 Jun  1 17:02 intro_Matplotlib.ipynb\n",
      "-rw-r--r--@ 1 christophemorisset  staff  1497041 Jun  1 17:02 intro_Matplotlib.pdf\n",
      "-rw-------  1 christophemorisset  staff   326924 Aug 28  2014 intro_Python.html\n",
      "-rw-r--r--  1 christophemorisset  staff    76760 Jun  1 16:46 intro_Python.ipynb\n",
      "-rw-r--r--@ 1 christophemorisset  staff   118317 Jun  1 16:46 intro_Python.pdf\n",
      "-rw-------  1 christophemorisset  staff   179449 Aug 28  2014 intro_Python_2.pdf\n",
      "-rw-------  1 christophemorisset  staff   103229 Aug 28  2014 intro_Python_3.pdf\n",
      "-rw-------  1 christophemorisset  staff   747717 Jun  1 17:07 intro_Scipy.ipynb\n",
      "-rw-r--r--@ 1 christophemorisset  staff   586109 Jun  1 17:07 intro_Scipy.pdf\n",
      "-rw-------  1 christophemorisset  staff    92829 Jun  1 16:54 intro_numpy.ipynb\n",
      "-rw-------  1 christophemorisset  staff   140493 Nov 25  2015 intro_numpy.pdf\n",
      "-rw-------  1 christophemorisset  staff  8830080 Sep  3  2014 n10017o.fits\n",
      "-rw-------  1 christophemorisset  staff     5760 Jun  1 16:58 new.fits\n",
      "-rw-------  1 christophemorisset  staff   435801 Nov  9  2015 query_res.dat\n",
      "-rw-------  1 christophemorisset  staff  1059840 Sep  3  2014 swp04345.mxhi\n",
      "-rw-------  1 christophemorisset  staff       45 Jun  1 17:07 sys_text.py\n",
      "-rw-------  1 christophemorisset  staff      352 Sep 25  2014 tab1.dat\n",
      "-rw-------  1 christophemorisset  staff      763 Sep 25  2014 tab_cds1.ascii\n",
      "-rw-------  1 christophemorisset  staff    43200 Sep 25  2014 tab_cds1.fits\n",
      "-rw-------  1 christophemorisset  staff     1265 Sep 25  2014 tab_cds1.tex\n",
      "-rw-------  1 christophemorisset  staff     1826 Sep 25  2014 tab_cds2.ascii\n",
      "-rw-------  1 christophemorisset  staff     7033 Nov  2  2015 test1.pdf\n",
      "-rw-------  1 christophemorisset  staff       72 Sep 27  2015 test1.test\n",
      "-rw-------  1 christophemorisset  staff       45 Sep 27  2015 test2.test\n",
      "-rw-------  1 christophemorisset  staff   176673 Oct 16  2014 test_1-po\n",
      "-rw-------@ 1 christophemorisset  staff   441740 Oct 26  2015 test_1-prof.png\n",
      "-rw-------  1 christophemorisset  staff   264259 Oct 26  2015 test_1_prof.prof\n",
      "-rw-------  1 christophemorisset  staff     6805 Oct 26  2015 test_1_prof.py\n",
      "-rw-------  1 christophemorisset  staff     6833 Oct 26  2015 test_2_prof.py\n",
      "-rw-------  1 christophemorisset  staff      515 Oct 26  2015 test_2_prof.py.lprof\n",
      "-rw-------  1 christophemorisset  staff     6566 Oct 26  2015 test_3_prof.py\n",
      "-rw-------  1 christophemorisset  staff     6524 Oct 26  2015 test_5_pdb.py\n",
      "drwx------@ 5 christophemorisset  staff      170 May 31 15:55 tt\n",
      "\n",
      "<type 'str'>\n"
     ]
    }
   ],
   "source": [
    "output = subprocess.check_output(['ls', '-l'])\n",
    "print output\n",
    "print type(output)"
   ]
  },
  {
   "cell_type": "code",
   "execution_count": 31,
   "metadata": {
    "collapsed": false
   },
   "outputs": [
    {
     "name": "stdout",
     "output_type": "stream",
     "text": [
      "<subprocess.Popen object at 0x10c9161d0>\n"
     ]
    }
   ],
   "source": [
    "command = 'ls -l'\n",
    "popen = subprocess.Popen(command, shell=True)\n",
    "# The same apply here, no output in Notebook\n",
    "print popen"
   ]
  },
  {
   "cell_type": "code",
   "execution_count": 32,
   "metadata": {
    "collapsed": false
   },
   "outputs": [
    {
     "name": "stdout",
     "output_type": "stream",
     "text": [
      "total 67920\n",
      "-rw-------  1 christophemorisset  staff    89353 Oct 26  2015 0040000_6.00_33_50_02_15.bin_0.1.gz\n",
      "-rw-------  1 christophemorisset  staff    89971 May 31 15:31 0090000_6.00_33_50_02_15.bin_0.1.gz\n",
      "-rw-------  1 christophemorisset  staff    90544 Oct 26  2015 0100000_6.00_33_50_02_15.bin_0.1.gz\n",
      "-rw-------  1 christophemorisset  staff    89170 Oct 26  2015 0140000_6.00_33_50_02_15.bin_0.1.gz\n",
      "-rw-------  1 christophemorisset  staff    88591 Oct 26  2015 0190000_6.00_33_50_02_15.bin_0.1.gz\n",
      "-rw-------  1 christophemorisset  staff   466800 Sep 18  2015 BPT1.pdf\n",
      "-rw-------  1 christophemorisset  staff    45181 Sep 18  2015 BPT1.png\n",
      "-rw-------  1 christophemorisset  staff  4229587 Sep  9  2015 CALIFA_ah7.dat.gz\n",
      "-rw-------  1 christophemorisset  staff    21143 Oct 26  2015 Calling Fortran.ipynb\n",
      "-rw-------  1 christophemorisset  staff   111397 Nov 25  2015 Calling Fortran.pdf\n",
      "-rw-------  1 christophemorisset  staff      384 Jun  1 16:57 Demo.pickle\n",
      "-rw-------  1 christophemorisset  staff      211 Jun  1 16:57 Demo.pklz\n",
      "-rw-------  1 christophemorisset  staff  2222331 Jun  1 16:57 Demo2.pickle\n",
      "-rw-------  1 christophemorisset  staff     7717 Sep  9  2015 Ex1.ipynb\n",
      "-rw-------  1 christophemorisset  staff   381664 Sep 22  2015 Ex1_done.ipynb\n",
      "-rw-------  1 christophemorisset  staff   315341 Sep 14  2015 Ex1_with_res.ipynb\n",
      "-rw-------@ 1 christophemorisset  staff   352680 Oct 16  2015 Fig1.eps\n",
      "-rw-------  1 christophemorisset  staff   116888 Jun  1 17:02 Fig1.pdf\n",
      "-rw-r--r--@ 1 christophemorisset  staff        0 May 31 15:55 Icon\r\n",
      "-rw-------  1 christophemorisset  staff   171041 Jun  1 16:59 Interact with files.ipynb\n",
      "-rw-r--r--@ 1 christophemorisset  staff   199526 Jun  1 16:59 Interact with files.pdf\n",
      "-rw-------  1 christophemorisset  staff   131497 Aug 12  2015 Intro_1.odp\n",
      "-rw-------  1 christophemorisset  staff   174202 Aug 12  2015 Intro_1.pdf\n",
      "-rw-------  1 christophemorisset  staff   130234 Aug 12  2015 Intro_2014.odp\n",
      "-rw-r--r--  1 christophemorisset  staff  2210409 Oct 23  2015 MySQL.pdf\n",
      "-rw-------  1 christophemorisset  staff  1270918 Sep 21  2015 MySQL.pdf.gz\n",
      "-rw-------  1 christophemorisset  staff   746328 Sep 28  2015 OOP.ipynb\n",
      "-rw-------  1 christophemorisset  staff   620880 Nov 25  2015 OOP.pdf\n",
      "-rw-------  1 christophemorisset  staff   687289 Oct 26  2015 Optimization.ipynb\n",
      "-rw-------  1 christophemorisset  staff   454804 Nov 25  2015 Optimization.pdf\n",
      "-rw-------  1 christophemorisset  staff    48953 Sep 22  2015 Useful_libraries.ipynb\n",
      "-rw-------  1 christophemorisset  staff   129753 Nov 25  2015 Useful_libraries.pdf\n",
      "-rw-------  1 christophemorisset  staff   535011 May 31 17:42 Using_PyMySQL.ipynb\n",
      "-rw-------  1 christophemorisset  staff   366991 Nov 25  2015 Using_PyMySQL.pdf\n",
      "-rw-------  1 christophemorisset  staff   208832 Sep 25  2014 Using_astropy.ipynb\n",
      "-rw-------  1 christophemorisset  staff       64 Jun  1 16:56 data1.dat\n",
      "-rw-------  1 christophemorisset  staff       14 Jun  1 16:57 data10.dat\n",
      "-rw-------  1 christophemorisset  staff       32 Jun  1 16:57 data11.dat\n",
      "-rw-------  1 christophemorisset  staff       88 Jun  1 16:57 data12.dat\n",
      "-rw-------  1 christophemorisset  staff      148 Jun  1 16:57 data2.dat\n",
      "-rw-------  1 christophemorisset  staff      166 Jun  1 16:57 data3.dat\n",
      "-rw-------  1 christophemorisset  staff     1189 Jun  1 16:57 data4.dat\n",
      "-rw-------  1 christophemorisset  staff     1185 Jun  1 16:57 data5.dat\n",
      "-rw-------  1 christophemorisset  staff      136 Sep 14  2015 data_ex1.dat\n",
      "-rw-------  1 christophemorisset  staff      298 Oct 26  2015 dcumsum.f\n",
      "-rw-------  1 christophemorisset  staff     1401 Jun  1 16:45 ex1.html\n",
      "-rw-------  1 christophemorisset  staff      154 Jun  1 16:45 ex1.py\n",
      "-rw-------  1 christophemorisset  staff      284 Jun  1 16:45 ex1.pyc\n",
      "-rw-------  1 christophemorisset  staff        8 Sep 18  2014 ex1.txt\n",
      "-rw-------  1 christophemorisset  staff       68 Jun  1 17:07 fact.py\n",
      "-rw-r--r--  1 christophemorisset  staff     4214 May 31 22:52 grep.py\n",
      "-rw-------  1 christophemorisset  staff     4995 Nov 10  2015 grep2.py\n",
      "-rw-------  1 christophemorisset  staff     6319 Nov 10  2015 grep3.py\n",
      "-rw-------  1 christophemorisset  staff       49 Oct  8  2014 hello.py\n",
      "-rw-------  1 christophemorisset  staff     1090 Oct  8  2014 hellofortran.c\n",
      "-rw-------  1 christophemorisset  staff      178 Oct  8  2014 hellofortran.f\n",
      "-rw-------  1 christophemorisset  staff    33976 Oct  8  2014 hellofortran.so\n",
      "-rw-r--r--  1 christophemorisset  staff      150 Feb  3 23:59 index.html\n",
      "-rw-------  1 christophemorisset  staff  2184772 Jun  1 17:02 intro_Matplotlib.ipynb\n",
      "-rw-r--r--@ 1 christophemorisset  staff  1497041 Jun  1 17:02 intro_Matplotlib.pdf\n",
      "-rw-------  1 christophemorisset  staff   326924 Aug 28  2014 intro_Python.html\n",
      "-rw-r--r--  1 christophemorisset  staff    76760 Jun  1 16:46 intro_Python.ipynb\n",
      "-rw-r--r--@ 1 christophemorisset  staff   118317 Jun  1 16:46 intro_Python.pdf\n",
      "-rw-------  1 christophemorisset  staff   179449 Aug 28  2014 intro_Python_2.pdf\n",
      "-rw-------  1 christophemorisset  staff   103229 Aug 28  2014 intro_Python_3.pdf\n",
      "-rw-------  1 christophemorisset  staff   747717 Jun  1 17:07 intro_Scipy.ipynb\n",
      "-rw-r--r--@ 1 christophemorisset  staff   586109 Jun  1 17:07 intro_Scipy.pdf\n",
      "-rw-------  1 christophemorisset  staff    92829 Jun  1 16:54 intro_numpy.ipynb\n",
      "-rw-------  1 christophemorisset  staff   140493 Nov 25  2015 intro_numpy.pdf\n",
      "-rw-------  1 christophemorisset  staff  8830080 Sep  3  2014 n10017o.fits\n",
      "-rw-------  1 christophemorisset  staff     5760 Jun  1 16:58 new.fits\n",
      "-rw-------  1 christophemorisset  staff   435801 Nov  9  2015 query_res.dat\n",
      "-rw-------  1 christophemorisset  staff  1059840 Sep  3  2014 swp04345.mxhi\n",
      "-rw-------  1 christophemorisset  staff       45 Jun  1 17:07 sys_text.py\n",
      "-rw-------  1 christophemorisset  staff      352 Sep 25  2014 tab1.dat\n",
      "-rw-------  1 christophemorisset  staff      763 Sep 25  2014 tab_cds1.ascii\n",
      "-rw-------  1 christophemorisset  staff    43200 Sep 25  2014 tab_cds1.fits\n",
      "-rw-------  1 christophemorisset  staff     1265 Sep 25  2014 tab_cds1.tex\n",
      "-rw-------  1 christophemorisset  staff     1826 Sep 25  2014 tab_cds2.ascii\n",
      "-rw-------  1 christophemorisset  staff     7033 Nov  2  2015 test1.pdf\n",
      "-rw-------  1 christophemorisset  staff       72 Sep 27  2015 test1.test\n",
      "-rw-------  1 christophemorisset  staff       45 Sep 27  2015 test2.test\n",
      "-rw-------  1 christophemorisset  staff   176673 Oct 16  2014 test_1-po\n",
      "-rw-------@ 1 christophemorisset  staff   441740 Oct 26  2015 test_1-prof.png\n",
      "-rw-------  1 christophemorisset  staff   264259 Oct 26  2015 test_1_prof.prof\n",
      "-rw-------  1 christophemorisset  staff     6805 Oct 26  2015 test_1_prof.py\n",
      "-rw-------  1 christophemorisset  staff     6833 Oct 26  2015 test_2_prof.py\n",
      "-rw-------  1 christophemorisset  staff      515 Oct 26  2015 test_2_prof.py.lprof\n",
      "-rw-------  1 christophemorisset  staff     6566 Oct 26  2015 test_3_prof.py\n",
      "-rw-------  1 christophemorisset  staff     6524 Oct 26  2015 test_5_pdb.py\n",
      "drwx------@ 5 christophemorisset  staff      170 May 31 15:55 tt\n",
      "\n",
      "<type 'str'>\n"
     ]
    }
   ],
   "source": [
    "popen = subprocess.Popen(command, stdout=subprocess.PIPE, shell=True)\n",
    "res = popen.communicate()[0]\n",
    "print res\n",
    "print type(res)"
   ]
  },
  {
   "cell_type": "code",
   "execution_count": 33,
   "metadata": {
    "collapsed": false
   },
   "outputs": [
    {
     "name": "stdout",
     "output_type": "stream",
     "text": [
      "BPT1.pdf\n",
      "CALIFA_ah7.dat.gz\n",
      "Calling\n",
      "Demo2.pickle\n",
      "Ex1_done.ipynb\n",
      "Ex1_with_res.ipynb\n",
      "Fig1.eps\n",
      "Fig1.pdf\n",
      "Interact\n",
      "Interact\n",
      "Intro_1.odp\n",
      "Intro_1.pdf\n",
      "Intro_2014.odp\n",
      "MySQL.pdf\n",
      "MySQL.pdf.gz\n",
      "OOP.ipynb\n",
      "OOP.pdf\n",
      "Optimization.ipynb\n",
      "Optimization.pdf\n",
      "Useful_libraries.pdf\n",
      "Using_PyMySQL.ipynb\n",
      "Using_PyMySQL.pdf\n",
      "Using_astropy.ipynb\n",
      "intro_Matplotlib.ipynb\n",
      "intro_Matplotlib.pdf\n",
      "intro_Python.html\n",
      "intro_Python.pdf\n",
      "intro_Python_2.pdf\n",
      "intro_Python_3.pdf\n",
      "intro_Scipy.ipynb\n",
      "intro_Scipy.pdf\n",
      "intro_numpy.pdf\n",
      "n10017o.fits\n",
      "query_res.dat\n",
      "swp04345.mxhi\n",
      "test_1-po\n",
      "test_1-prof.png\n",
      "test_1_prof.prof\n"
     ]
    }
   ],
   "source": [
    "popen = subprocess.Popen(command, stdout=subprocess.PIPE, shell=True)\n",
    "for line in iter(popen.stdout.readline, \"\"):\n",
    "    lspl = line.split()\n",
    "    if len(lspl)> 4:\n",
    "        if int(lspl[4]) > 100000:\n",
    "            print lspl[8]"
   ]
  },
  {
   "cell_type": "markdown",
   "metadata": {},
   "source": [
    "### glob"
   ]
  },
  {
   "cell_type": "markdown",
   "metadata": {},
   "source": [
    "https://docs.python.org/2/library/glob.html"
   ]
  },
  {
   "cell_type": "markdown",
   "metadata": {},
   "source": [
    "No tilde expansion is done, but *, ?, and character ranges expressed with [] will be correctly matched."
   ]
  },
  {
   "cell_type": "code",
   "execution_count": 34,
   "metadata": {
    "collapsed": false
   },
   "outputs": [],
   "source": [
    "import glob"
   ]
  },
  {
   "cell_type": "code",
   "execution_count": 35,
   "metadata": {
    "collapsed": false
   },
   "outputs": [
    {
     "name": "stdout",
     "output_type": "stream",
     "text": [
      "['Calling Fortran.ipynb', 'Ex1.ipynb', 'Ex1_done.ipynb', 'Ex1_with_res.ipynb', 'Interact with files.ipynb', 'intro_Matplotlib.ipynb', 'intro_numpy.ipynb', 'intro_Python.ipynb', 'intro_Scipy.ipynb', 'OOP.ipynb', 'Optimization.ipynb', 'Useful_libraries.ipynb', 'Using_astropy.ipynb', 'Using_PyMySQL.ipynb']\n"
     ]
    }
   ],
   "source": [
    "ipynb_files = glob.glob('*.ipynb')\n",
    "print ipynb_files"
   ]
  },
  {
   "cell_type": "markdown",
   "metadata": {},
   "source": [
    "### re"
   ]
  },
  {
   "cell_type": "markdown",
   "metadata": {},
   "source": [
    "The re module provides regular expression tools for advanced string processing. For complex matching and manipulation, regular expressions offer succinct, optimized solutions:"
   ]
  },
  {
   "cell_type": "code",
   "execution_count": 36,
   "metadata": {
    "collapsed": false
   },
   "outputs": [
    {
     "data": {
      "text/plain": [
       "['foot', 'fell', 'fastest']"
      ]
     },
     "execution_count": 36,
     "metadata": {},
     "output_type": "execute_result"
    }
   ],
   "source": [
    "import re\n",
    "re.findall(r'\\bf[a-z]*', 'whifch foot or hand fell fastest')"
   ]
  },
  {
   "cell_type": "code",
   "execution_count": 37,
   "metadata": {
    "collapsed": false
   },
   "outputs": [
    {
     "data": {
      "text/plain": [
       "'cat in the hat'"
      ]
     },
     "execution_count": 37,
     "metadata": {},
     "output_type": "execute_result"
    }
   ],
   "source": [
    "re.sub(r'(\\b[a-z]+) \\1', r'\\1', 'cat in the the hat')"
   ]
  },
  {
   "cell_type": "markdown",
   "metadata": {},
   "source": [
    "More in https://docs.python.org/2/library/re.html"
   ]
  },
  {
   "cell_type": "markdown",
   "metadata": {},
   "source": [
    "### urllib2"
   ]
  },
  {
   "cell_type": "code",
   "execution_count": 38,
   "metadata": {
    "collapsed": false
   },
   "outputs": [],
   "source": [
    "import urllib2"
   ]
  },
  {
   "cell_type": "code",
   "execution_count": 39,
   "metadata": {
    "collapsed": false
   },
   "outputs": [
    {
     "name": "stdout",
     "output_type": "stream",
     "text": [
      "187.207.153.114\n"
     ]
    }
   ],
   "source": [
    "for line in urllib2.urlopen('http://dev.on-rev.com/myip.irev'):\n",
    "    if 'IP' in line:\n",
    "        IP = line.split(':')[1][:-5]\n",
    "print IP"
   ]
  }
 ],
 "metadata": {
  "kernelspec": {
   "display_name": "Python 2",
   "language": "python",
   "name": "python2"
  },
  "language_info": {
   "codemirror_mode": {
    "name": "ipython",
    "version": 2
   },
   "file_extension": ".py",
   "mimetype": "text/x-python",
   "name": "python",
   "nbconvert_exporter": "python",
   "pygments_lexer": "ipython2",
   "version": "2.7.11"
  }
 },
 "nbformat": 4,
 "nbformat_minor": 0
}
