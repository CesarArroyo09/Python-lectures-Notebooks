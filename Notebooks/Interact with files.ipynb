{
 "cells": [
  {
   "cell_type": "code",
   "execution_count": 1,
   "metadata": {
    "collapsed": false
   },
   "outputs": [
    {
     "name": "stdout",
     "output_type": "stream",
     "text": [
      "Wed Aug 31 16:29:06 2016\n"
     ]
    }
   ],
   "source": [
    "# Just to know last time this was run:\n",
    "import time\n",
    "print time.ctime()"
   ]
  },
  {
   "cell_type": "markdown",
   "metadata": {},
   "source": [
    "# C: How to read and write files (ASCII and FITS)"
   ]
  },
  {
   "cell_type": "markdown",
   "metadata": {},
   "source": [
    "This is part of the Python lecture given by Christophe Morisset at IA-UNAM. More informations at: http://python-astro.blogspot.mx/ "
   ]
  },
  {
   "cell_type": "markdown",
   "metadata": {},
   "source": [
    "Some informations are here: http://www.tutorialspoint.com/python/python_files_io.htm"
   ]
  },
  {
   "cell_type": "markdown",
   "metadata": {},
   "source": [
    "## Reading a simple ascii file"
   ]
  },
  {
   "cell_type": "code",
   "execution_count": 2,
   "metadata": {
    "collapsed": false
   },
   "outputs": [],
   "source": [
    "# numpy is needed in some part of the lecture\n",
    "import numpy as np"
   ]
  },
  {
   "cell_type": "markdown",
   "metadata": {},
   "source": [
    "First of all, we will have to have some files on the hard drive to read them The following notebook cell will write a file in the same directory where the notebook has been started."
   ]
  },
  {
   "cell_type": "code",
   "execution_count": 3,
   "metadata": {
    "collapsed": false
   },
   "outputs": [
    {
     "name": "stdout",
     "output_type": "stream",
     "text": [
      "Overwriting data1.dat\n"
     ]
    }
   ],
   "source": [
    "%%writefile data1.dat\n",
    "1   2.3  6   8 star\n",
    "2   3.5  7   9 galaxy\n",
    "3  -4.2  5   7 cluster"
   ]
  },
  {
   "cell_type": "markdown",
   "metadata": {},
   "source": [
    "Now the goal is to read this file. The first way is to open the file, read it completely in a variable and close the file. Then we can play with the content of the file."
   ]
  },
  {
   "cell_type": "code",
   "execution_count": 4,
   "metadata": {
    "collapsed": false
   },
   "outputs": [],
   "source": [
    "datafile = open('data1.dat', 'r') # Open the file to read it"
   ]
  },
  {
   "cell_type": "code",
   "execution_count": 5,
   "metadata": {
    "collapsed": false
   },
   "outputs": [],
   "source": [
    "data = datafile.readlines() # The variable data will receive the content of the file."
   ]
  },
  {
   "cell_type": "code",
   "execution_count": 6,
   "metadata": {
    "collapsed": false
   },
   "outputs": [],
   "source": [
    "datafile.close() # Not need anymore of the file."
   ]
  },
  {
   "cell_type": "code",
   "execution_count": 7,
   "metadata": {
    "collapsed": false
   },
   "outputs": [
    {
     "name": "stdout",
     "output_type": "stream",
     "text": [
      "<type 'list'>\n"
     ]
    }
   ],
   "source": [
    "print type(data) # The data file is stored in the form of a list, each element of the list corresponding to a row of the list."
   ]
  },
  {
   "cell_type": "code",
   "execution_count": 8,
   "metadata": {
    "collapsed": false
   },
   "outputs": [
    {
     "name": "stdout",
     "output_type": "stream",
     "text": [
      "['1   2.3  6   8 star\\n', '2   3.5  7   9 galaxy\\n', '3  -4.2  5   7 cluster']\n"
     ]
    }
   ],
   "source": [
    "print data # Each row is a string and terminates with \\n, symbol of END OF LINE."
   ]
  },
  {
   "cell_type": "code",
   "execution_count": 9,
   "metadata": {
    "collapsed": false
   },
   "outputs": [
    {
     "name": "stdout",
     "output_type": "stream",
     "text": [
      "3\n"
     ]
    }
   ],
   "source": [
    "print len(data) # number of rows"
   ]
  },
  {
   "cell_type": "code",
   "execution_count": 10,
   "metadata": {
    "collapsed": false
   },
   "outputs": [
    {
     "name": "stdout",
     "output_type": "stream",
     "text": [
      "1   2.3  6   8 star\n",
      "tralala\n"
     ]
    }
   ],
   "source": [
    "print data[0], 'tralala'"
   ]
  },
  {
   "cell_type": "code",
   "execution_count": 11,
   "metadata": {
    "collapsed": false
   },
   "outputs": [
    {
     "name": "stdout",
     "output_type": "stream",
     "text": [
      "1   2.3  6   8 star\n",
      "\n",
      "2   3.5  7   9 galaxy\n",
      "\n",
      "3  -4.2  5   7 cluster\n"
     ]
    }
   ],
   "source": [
    "for row in data:\n",
    "    print row"
   ]
  },
  {
   "cell_type": "code",
   "execution_count": 12,
   "metadata": {
    "collapsed": false
   },
   "outputs": [
    {
     "name": "stdout",
     "output_type": "stream",
     "text": [
      "1   2.3  6   8 star\n",
      "2   3.5  7   9 galaxy\n",
      "3  -4.2  5   7 cluster\n"
     ]
    }
   ],
   "source": [
    "for row in data:\n",
    "    print row,"
   ]
  },
  {
   "cell_type": "code",
   "execution_count": 13,
   "metadata": {
    "collapsed": false
   },
   "outputs": [
    {
     "name": "stdout",
     "output_type": "stream",
     "text": [
      "<type 'str'>\n"
     ]
    }
   ],
   "source": [
    "print type(data[0]) # Each element is a string"
   ]
  },
  {
   "cell_type": "markdown",
   "metadata": {},
   "source": [
    "Now it is easy to separate each field with the split command: "
   ]
  },
  {
   "cell_type": "code",
   "execution_count": 14,
   "metadata": {
    "collapsed": false
   },
   "outputs": [
    {
     "name": "stdout",
     "output_type": "stream",
     "text": [
      "['1', '2.3', '6', '8', 'star']\n",
      "['2', '3.5', '7', '9', 'galaxy']\n",
      "['3', '-4.2', '5', '7', 'cluster']\n"
     ]
    }
   ],
   "source": [
    "for row in data:\n",
    "    print row.split()"
   ]
  },
  {
   "cell_type": "code",
   "execution_count": 15,
   "metadata": {
    "collapsed": false
   },
   "outputs": [
    {
     "name": "stdout",
     "output_type": "stream",
     "text": [
      "N =  1 f =  2.30 type =       star\n",
      "N =  2 f =  3.50 type =     galaxy\n",
      "N =  3 f = -4.20 type =    cluster\n"
     ]
    }
   ],
   "source": [
    "# One can also transform the data if the type is known:\n",
    "for row in data:\n",
    "    this_data = row.split()\n",
    "    print('N = {0:2d} f = {1:5.2f} type = {2:>10s}'.format(int(this_data[0]), \n",
    "                                                           float(this_data[1]), \n",
    "                                                           this_data[4]))"
   ]
  },
  {
   "cell_type": "code",
   "execution_count": 18,
   "metadata": {
    "collapsed": false
   },
   "outputs": [
    {
     "name": "stdout",
     "output_type": "stream",
     "text": [
      "[1, 2, 3]\n",
      "[2.3, 3.5, -4.2]\n",
      "['star', 'galaxy', 'cluster']\n",
      "[1 2 3]\n"
     ]
    }
   ],
   "source": [
    "# One can even fill a list with the data, by column:\n",
    "N = []\n",
    "f = []\n",
    "type_ = [] # take care, type is a python command, you can erase it if you use it...\n",
    "for row in data:\n",
    "    this_data = row.split()\n",
    "    N.append(int(this_data[0]))\n",
    "    f.append(float(this_data[1]))\n",
    "    type_.append(this_data[4])\n",
    "print N\n",
    "print f\n",
    "print type_\n",
    "N = np.array(N)\n",
    "print N"
   ]
  },
  {
   "cell_type": "code",
   "execution_count": 19,
   "metadata": {
    "collapsed": false
   },
   "outputs": [
    {
     "name": "stdout",
     "output_type": "stream",
     "text": [
      "[1 2 3]\n",
      "[ 2.3  3.5 -4.2]\n"
     ]
    }
   ],
   "source": [
    "# If the file number of rows is not too big, you can use list comprehension (and even send the result to a numpy array)\n",
    "N = np.array([int(row.split()[0]) for row in data])\n",
    "f = np.array([float(row.split()[1]) for row in data])\n",
    "# Each one of this command scans all the rows, don't use for huge files\n",
    "print N\n",
    "print f"
   ]
  },
  {
   "cell_type": "markdown",
   "metadata": {},
   "source": [
    "## How to treat special rows (headers, comments)"
   ]
  },
  {
   "cell_type": "code",
   "execution_count": 32,
   "metadata": {
    "collapsed": false
   },
   "outputs": [
    {
     "name": "stdout",
     "output_type": "stream",
     "text": [
      "Overwriting data2.dat\n"
     ]
    }
   ],
   "source": [
    "%%writefile data2.dat\n",
    "# The following data are for test purpose\n",
    "N    f   x   y type\n",
    "1   2.3  6   8 star\n",
    "2   3.5  7   9 galaxy\n",
    "3  -4.2  5   7 cluster\n",
    "#4  -10.5  5  7 test"
   ]
  },
  {
   "cell_type": "code",
   "execution_count": 26,
   "metadata": {
    "collapsed": false
   },
   "outputs": [
    {
     "name": "stdout",
     "output_type": "stream",
     "text": [
      "# The following data are for test purpose\r\n",
      "N    f   x   y type\r\n",
      "1   2.3  6   8 star\r\n",
      "2   3.5  7   9 galaxy\r\n",
      "\r\n",
      "3  -4.2  5   7 cluster\r\n",
      "#4  -10.5  5  7 test"
     ]
    }
   ],
   "source": [
    "!cat data2.dat # Just to check that the # comments are also in the file"
   ]
  },
  {
   "cell_type": "markdown",
   "metadata": {},
   "source": [
    "The file has to be read row by row, to be sure that special cases are treated."
   ]
  },
  {
   "cell_type": "code",
   "execution_count": 27,
   "metadata": {
    "collapsed": false
   },
   "outputs": [
    {
     "name": "stdout",
     "output_type": "stream",
     "text": [
      "# The following data are for test purpose\n",
      "N    f   x   y type\n",
      "['1   2.3  6   8 star\\n', '2   3.5  7   9 galaxy\\n', '3  -4.2  5   7 cluster\\n']\n"
     ]
    }
   ],
   "source": [
    "datafile = open('data2.dat', 'r') # Open the file to read it\n",
    "\n",
    "row = datafile.readline() # this reads only one line\n",
    "first_comment = row\n",
    "print first_comment,\n",
    "\n",
    "row = datafile.readline() # this reads only one line\n",
    "header = row\n",
    "print header,\n",
    "\n",
    "data = []\n",
    "while True: # loops until exit by break command\n",
    "    row = datafile.readline()\n",
    "    if row == '':\n",
    "        break\n",
    "    if row[0] != '#' and row[0] != '\\n': # comment lines are skipped\n",
    "        data.append(row)\n",
    "datafile.close()\n",
    "print data"
   ]
  },
  {
   "cell_type": "code",
   "execution_count": 28,
   "metadata": {
    "collapsed": false
   },
   "outputs": [
    {
     "name": "stdout",
     "output_type": "stream",
     "text": [
      "# The following data are for test purpose\n",
      "N    f   x   y type\n",
      "['1   2.3  6   8 star\\n', '2   3.5  7   9 galaxy\\n', '\\n', '3  -4.2  5   7 cluster\\n']\n"
     ]
    }
   ],
   "source": [
    "datafile = open('data2.dat', 'r') # Open the file to read it\n",
    "row = datafile.readline() # this reads only one line\n",
    "first_comment = row\n",
    "print first_comment,\n",
    "row = datafile.readline() # this reads only one line\n",
    "header = row\n",
    "print header,\n",
    "data = []\n",
    "row = datafile.readline()\n",
    "while row != '': # loops until exit by break command\n",
    "    if row[0] != '#': # comment lines are skipped\n",
    "        data.append(row)\n",
    "    row = datafile.readline()\n",
    "datafile.close()\n",
    "print data"
   ]
  },
  {
   "cell_type": "code",
   "execution_count": 33,
   "metadata": {
    "collapsed": false
   },
   "outputs": [
    {
     "name": "stdout",
     "output_type": "stream",
     "text": [
      "['N    f   x   y type\\n', '1   2.3  6   8 star\\n', '2   3.5  7   9 galaxy\\n', '3  -4.2  5   7 cluster\\n']\n"
     ]
    }
   ],
   "source": [
    "# very shorter way to deal with the file. No need to look for the end of the file.\n",
    "datafile = open('data2.dat', 'r') # Open the file to read it\n",
    "data = []\n",
    "for row in datafile:\n",
    "    if row[0] != '#': # comment lines are skipped\n",
    "        data.append(row)  \n",
    "datafile.close()\n",
    "print data\n",
    "# This way will include the header in the data... Not what we want"
   ]
  },
  {
   "cell_type": "code",
   "execution_count": 34,
   "metadata": {
    "collapsed": false
   },
   "outputs": [
    {
     "name": "stdout",
     "output_type": "stream",
     "text": [
      "N    f   x   y type\n",
      "['1   2.3  6   8 star\\n', '2   3.5  7   9 galaxy\\n', '3  -4.2  5   7 cluster\\n']\n",
      "['# The following data are for test purpose\\n', '#4  -10.5  5  7 test']\n"
     ]
    }
   ],
   "source": [
    "# very shorter way to deal with the file:\n",
    "# we know that the header is the first no-comment line in the file.\n",
    "datafile = open('data2.dat', 'r') # Open the file to read it\n",
    "data = []\n",
    "comments = [] # we can keep the comments for some usage\n",
    "header_read = False # We will turn it to True once the header is read\n",
    "for row in datafile:\n",
    "    if row[0] != '#': # comment lines are skipped\n",
    "        if not header_read:\n",
    "            header = row\n",
    "            header_read = True # next time, data will be read\n",
    "        else:\n",
    "            data.append(row)\n",
    "    else:\n",
    "        comments.append(row)\n",
    "datafile.close()\n",
    "print header,\n",
    "print data\n",
    "print comments"
   ]
  },
  {
   "cell_type": "code",
   "execution_count": 35,
   "metadata": {
    "collapsed": false
   },
   "outputs": [
    {
     "name": "stdout",
     "output_type": "stream",
     "text": [
      "N    f   x   y type\n",
      "\n",
      "[(1, 2.3, 6.0, 8.0, 'star'), (2, 3.5, 7.0, 9.0, 'galaxy'), (3, -4.2, 5.0, 7.0, 'cluster')]\n",
      "['# The following data are for test purpose\\n', '#4  -10.5  5  7 test']\n"
     ]
    }
   ],
   "source": [
    "# Alternative way using \"with\". No need to close the file, done when the \"with\" block is terminated.\n",
    "data = []\n",
    "comments = []\n",
    "header_read = False\n",
    "def change_type(row_split):\n",
    "    # This function change the type of the data read from the file from 5 strings into int, 3 floats and a string\n",
    "    # It also return the result in form of a tuple\n",
    "    return (int(row_split[0]), \n",
    "            float(row_split[1]), \n",
    "            float(row_split[2]), \n",
    "            float(row_split[3]), \n",
    "            row_split[4])\n",
    "with open('data2.dat', 'r') as datafile:\n",
    "    for row in datafile:\n",
    "        if row[0] != '#' and row[0] != '\\n': # comment lines are skipped\n",
    "            if not header_read:\n",
    "                header = row\n",
    "                header_read = True\n",
    "            else:\n",
    "                data.append(change_type(row.split()))\n",
    "        else:\n",
    "            comments.append(row)\n",
    "print header\n",
    "print data\n",
    "print comments"
   ]
  },
  {
   "cell_type": "code",
   "execution_count": 36,
   "metadata": {
    "collapsed": false
   },
   "outputs": [],
   "source": [
    "# We can define the result as a structured array\n",
    "# We use the header to define the field names.\n",
    "# data must be a list of tuples.\n",
    "a = np.array(data, dtype={'names':header.split(), \n",
    "                          'formats':['i4','f16', 'f16', 'f16', 'S10']})"
   ]
  },
  {
   "cell_type": "code",
   "execution_count": 37,
   "metadata": {
    "collapsed": false
   },
   "outputs": [
    {
     "data": {
      "text/plain": [
       "array([(1, 2.2999999999999998224, 6.0, 8.0, 'star'),\n",
       "       (2, 3.5, 7.0, 9.0, 'galaxy'),\n",
       "       (3, -4.2000000000000001776, 5.0, 7.0, 'cluster')], \n",
       "      dtype=[('N', '<i4'), ('f', '<f16'), ('x', '<f16'), ('y', '<f16'), ('type', 'S10')])"
      ]
     },
     "execution_count": 37,
     "metadata": {},
     "output_type": "execute_result"
    }
   ],
   "source": [
    "a"
   ]
  },
  {
   "cell_type": "code",
   "execution_count": 38,
   "metadata": {
    "collapsed": false
   },
   "outputs": [
    {
     "name": "stdout",
     "output_type": "stream",
     "text": [
      "(1, 2.3, 6.0, 8.0, 'star')\n"
     ]
    }
   ],
   "source": [
    "print data[0]"
   ]
  },
  {
   "cell_type": "code",
   "execution_count": 39,
   "metadata": {
    "collapsed": false
   },
   "outputs": [
    {
     "name": "stdout",
     "output_type": "stream",
     "text": [
      "(1, 2.2999999999999998224, 6.0, 8.0, 'star')\n"
     ]
    }
   ],
   "source": [
    "print a[0]"
   ]
  },
  {
   "cell_type": "code",
   "execution_count": 40,
   "metadata": {
    "collapsed": false
   },
   "outputs": [
    {
     "name": "stdout",
     "output_type": "stream",
     "text": [
      "[1 2 3]\n"
     ]
    }
   ],
   "source": [
    "# Easy access to the columns, by their name\n",
    "print a['N']"
   ]
  },
  {
   "cell_type": "code",
   "execution_count": 41,
   "metadata": {
    "collapsed": false
   },
   "outputs": [
    {
     "name": "stdout",
     "output_type": "stream",
     "text": [
      "['star' 'galaxy' 'cluster']\n"
     ]
    }
   ],
   "source": [
    "print a['type']"
   ]
  },
  {
   "cell_type": "code",
   "execution_count": 42,
   "metadata": {
    "collapsed": false
   },
   "outputs": [
    {
     "name": "stdout",
     "output_type": "stream",
     "text": [
      "[ 10.0  11.401754  8.6023253]\n"
     ]
    }
   ],
   "source": [
    "# Easy combine the values of columns\n",
    "print np.sqrt(a['x']**2 + a['y']**2)"
   ]
  },
  {
   "cell_type": "markdown",
   "metadata": {},
   "source": [
    "### Using numpy loadtxt"
   ]
  },
  {
   "cell_type": "markdown",
   "metadata": {},
   "source": [
    "http://docs.scipy.org/doc/numpy/reference/generated/numpy.loadtxt.html"
   ]
  },
  {
   "cell_type": "code",
   "execution_count": 43,
   "metadata": {
    "collapsed": false
   },
   "outputs": [],
   "source": [
    "# Fast way for reading the file\n",
    "# One hace to tell to skip the 2 first rows\n",
    "# skiprows \n",
    "b = np.loadtxt('data2.dat', skiprows=2, dtype='i4,f, f, f, S10')"
   ]
  },
  {
   "cell_type": "code",
   "execution_count": 44,
   "metadata": {
    "collapsed": false
   },
   "outputs": [
    {
     "name": "stdout",
     "output_type": "stream",
     "text": [
      "[(1, 2.299999952316284, 6.0, 8.0, 'star') (2, 3.5, 7.0, 9.0, 'galaxy')\n",
      " (3, -4.199999809265137, 5.0, 7.0, 'cluster')]\n"
     ]
    }
   ],
   "source": [
    "print b"
   ]
  },
  {
   "cell_type": "code",
   "execution_count": 45,
   "metadata": {
    "collapsed": false
   },
   "outputs": [
    {
     "data": {
      "text/plain": [
       "numpy.ndarray"
      ]
     },
     "execution_count": 45,
     "metadata": {},
     "output_type": "execute_result"
    }
   ],
   "source": [
    "type(b)"
   ]
  },
  {
   "cell_type": "code",
   "execution_count": 46,
   "metadata": {
    "collapsed": false
   },
   "outputs": [
    {
     "data": {
      "text/plain": [
       "dtype([('f0', '<i4'), ('f1', '<f4'), ('f2', '<f4'), ('f3', '<f4'), ('f4', 'S10')])"
      ]
     },
     "execution_count": 46,
     "metadata": {},
     "output_type": "execute_result"
    }
   ],
   "source": [
    "# The names of the columns are f0, f1, f2, etc\n",
    "b.dtype"
   ]
  },
  {
   "cell_type": "markdown",
   "metadata": {},
   "source": [
    "### Using numpy genfromtxt"
   ]
  },
  {
   "cell_type": "markdown",
   "metadata": {},
   "source": [
    "http://docs.scipy.org/doc/numpy/reference/generated/numpy.genfromtxt.html"
   ]
  },
  {
   "cell_type": "code",
   "execution_count": 47,
   "metadata": {
    "collapsed": false
   },
   "outputs": [],
   "source": [
    "# Fast and versatile way to read the file\n",
    "# the names are taken from the file\n",
    "# The types are defined automatically when reading the columns\n",
    "c = np.genfromtxt('data2.dat', names=True, dtype=None, skip_header=1)"
   ]
  },
  {
   "cell_type": "code",
   "execution_count": 48,
   "metadata": {
    "collapsed": false
   },
   "outputs": [
    {
     "name": "stdout",
     "output_type": "stream",
     "text": [
      "[(1, 2.3, 6, 8, 'star') (2, 3.5, 7, 9, 'galaxy') (3, -4.2, 5, 7, 'cluster')]\n"
     ]
    }
   ],
   "source": [
    "print c"
   ]
  },
  {
   "cell_type": "code",
   "execution_count": 49,
   "metadata": {
    "collapsed": false
   },
   "outputs": [
    {
     "data": {
      "text/plain": [
       "numpy.ndarray"
      ]
     },
     "execution_count": 49,
     "metadata": {},
     "output_type": "execute_result"
    }
   ],
   "source": [
    "type(c)"
   ]
  },
  {
   "cell_type": "code",
   "execution_count": 50,
   "metadata": {
    "collapsed": false
   },
   "outputs": [
    {
     "data": {
      "text/plain": [
       "dtype([('N', '<i8'), ('f', '<f8'), ('x', '<i8'), ('y', '<i8'), ('type', 'S7')])"
      ]
     },
     "execution_count": 50,
     "metadata": {},
     "output_type": "execute_result"
    }
   ],
   "source": [
    "c.dtype"
   ]
  },
  {
   "cell_type": "code",
   "execution_count": 51,
   "metadata": {
    "collapsed": false
   },
   "outputs": [
    {
     "data": {
      "text/plain": [
       "array([ 2.3,  3.5, -4.2])"
      ]
     },
     "execution_count": 51,
     "metadata": {},
     "output_type": "execute_result"
    }
   ],
   "source": [
    "c['f']"
   ]
  },
  {
   "cell_type": "markdown",
   "metadata": {},
   "source": [
    "Now a value of x is missing (not possible with space separator, so we use \",\" as separator):"
   ]
  },
  {
   "cell_type": "code",
   "execution_count": 164,
   "metadata": {
    "collapsed": false
   },
   "outputs": [
    {
     "name": "stdout",
     "output_type": "stream",
     "text": [
      "Overwriting data3.dat\n"
     ]
    }
   ],
   "source": [
    "%%writefile data3.dat\n",
    "# The following data are for test purpose\n",
    "N,    f,   x,   y, type\n",
    "1,   2.3,  6,   8, star\n",
    "2,   3000.5,   ,  9, galaxy\n",
    "3,  -4.2,  5,   7, cluster\n",
    "#4,  -10.5,  5,  7, test"
   ]
  },
  {
   "cell_type": "code",
   "execution_count": 165,
   "metadata": {
    "collapsed": false
   },
   "outputs": [],
   "source": [
    "d = np.genfromtxt('data3.dat', names=True, dtype=None, skip_header=1, \n",
    "                  delimiter=',')"
   ]
  },
  {
   "cell_type": "code",
   "execution_count": 166,
   "metadata": {
    "collapsed": false
   },
   "outputs": [
    {
     "data": {
      "text/plain": [
       "array([(1, 2.3, 6, 8, ' star'), (2, 3000.5, -1, 9, ' galaxy'),\n",
       "       (3, -4.2, 5, 7, ' cluster')], \n",
       "      dtype=[('N', '<i8'), ('f', '<f8'), ('x', '<i8'), ('y', '<i8'), ('type', 'S8')])"
      ]
     },
     "execution_count": 166,
     "metadata": {},
     "output_type": "execute_result"
    }
   ],
   "source": [
    "# The missing value has been changed to -1\n",
    "d"
   ]
  },
  {
   "cell_type": "code",
   "execution_count": 169,
   "metadata": {
    "collapsed": false
   },
   "outputs": [],
   "source": [
    "# Th emissing value can be set to whatever you want (but non a NaN here, as the typ eis integer, and NaN is a float...)\n",
    "d = np.genfromtxt('data3.dat', names=True, dtype=None, skip_header=1, delimiter=',', \n",
    "                  filling_values=0.0)"
   ]
  },
  {
   "cell_type": "code",
   "execution_count": 170,
   "metadata": {
    "collapsed": false
   },
   "outputs": [
    {
     "data": {
      "text/plain": [
       "0"
      ]
     },
     "execution_count": 170,
     "metadata": {},
     "output_type": "execute_result"
    }
   ],
   "source": [
    "d['x'][1]"
   ]
  },
  {
   "cell_type": "code",
   "execution_count": 94,
   "metadata": {
    "collapsed": false
   },
   "outputs": [],
   "source": [
    "# ons can select the columns to be store\n",
    "e = np.genfromtxt('data3.dat', names=True, dtype=None, skip_header=1, \n",
    "                  delimiter=',',usecols=(0,1,4))"
   ]
  },
  {
   "cell_type": "code",
   "execution_count": 95,
   "metadata": {
    "collapsed": false
   },
   "outputs": [
    {
     "name": "stdout",
     "output_type": "stream",
     "text": [
      "[(1, 2.3, ' star') (2, 3000.5, ' galaxy') (3, -4.2, ' cluster')]\n"
     ]
    }
   ],
   "source": [
    "print e"
   ]
  },
  {
   "cell_type": "code",
   "execution_count": 100,
   "metadata": {
    "collapsed": true
   },
   "outputs": [],
   "source": [
    "# ons can select the columns to be store\n",
    "N, f, typ = np.genfromtxt('data3.dat', skip_header=2, \n",
    "                  delimiter=',',usecols=(0,1,4), unpack=True)"
   ]
  },
  {
   "cell_type": "code",
   "execution_count": 101,
   "metadata": {
    "collapsed": false
   },
   "outputs": [
    {
     "name": "stdout",
     "output_type": "stream",
     "text": [
      "[ 1.  2.  3.]\n",
      "[  2.30000000e+00   3.00050000e+03  -4.20000000e+00]\n"
     ]
    }
   ],
   "source": [
    "# The resulting array now contains only the given columns\n",
    "print N\n",
    "print f"
   ]
  },
  {
   "cell_type": "markdown",
   "metadata": {},
   "source": [
    "### Using recfrom to obtain a record array"
   ]
  },
  {
   "cell_type": "code",
   "execution_count": 102,
   "metadata": {
    "collapsed": false
   },
   "outputs": [],
   "source": [
    "# Uses the same keywords than genfromtxt\n",
    "f = np.recfromtxt('data3.dat', names=True, dtype=None, skip_header=1, \n",
    "                  delimiter=',',usecols=(\"N\", \"f\", \"type\"))"
   ]
  },
  {
   "cell_type": "code",
   "execution_count": 103,
   "metadata": {
    "collapsed": false
   },
   "outputs": [
    {
     "data": {
      "text/plain": [
       "rec.array([(1, 2.3, ' star'), (2, 3000.5, ' galaxy'), (3, -4.2, ' cluster')], \n",
       "          dtype=[('N', '<i8'), ('f', '<f8'), ('type', 'S8')])"
      ]
     },
     "execution_count": 103,
     "metadata": {},
     "output_type": "execute_result"
    }
   ],
   "source": [
    "f"
   ]
  },
  {
   "cell_type": "code",
   "execution_count": 104,
   "metadata": {
    "collapsed": false
   },
   "outputs": [
    {
     "data": {
      "text/plain": [
       "array([1, 2, 3])"
      ]
     },
     "execution_count": 104,
     "metadata": {},
     "output_type": "execute_result"
    }
   ],
   "source": [
    "f.N"
   ]
  },
  {
   "cell_type": "markdown",
   "metadata": {},
   "source": [
    "## Fixed size ascii files"
   ]
  },
  {
   "cell_type": "code",
   "execution_count": 105,
   "metadata": {
    "collapsed": false
   },
   "outputs": [
    {
     "name": "stdout",
     "output_type": "stream",
     "text": [
      "Overwriting data4.dat\n"
     ]
    }
   ],
   "source": [
    "%%writefile data4.dat\n",
    "#  Line      Iobs    lambda  relat_error Obs_code\n",
    "H  1  4861A 1.00000    4861. 0.08000  Anabel                               \n",
    "H  1  6563A 2.8667     6563. 0.19467  Anabel                               \n",
    "H  1  4340A 0.4933     4340. 0.03307  Anabel                               \n",
    "H  1  4102A 0.2907     4102. 0.02229  Anabel                               \n",
    "H  1  3970A 0.1800     3970. 0.01253  Anabel                               \n",
    "N  2  6584A 2.1681     6584. 0.08686  Anabel                               \n",
    "N  2 121.7m 0.0044621217000. 0.20000  Liu                                  \n",
    "O  1  6300A 0.0147     6300. 0.00325  Anabel                               \n",
    "TOTL  2326A 0.07900    2326. 0.20000  Adams                                \n",
    "C  2 157.6m 0.00856 1576000. 0.20000  Liu                                  \n",
    "O  1 63.17m 0.13647  631700. 0.10000  Liu                                  \n",
    "O  1 145.5m 0.00446 1455000. 0.200    Liu                                  \n",
    "TOTL  3727A 0.77609    3727. 0.200    Torres-Peimbert                      \n",
    "S II  4070A 0.06174    4070. 0.200    Torres-Peimbert                      \n",
    "S II  4078A 0.06174    4078. 0.200    Torres-Peimbert                      "
   ]
  },
  {
   "cell_type": "code",
   "execution_count": 108,
   "metadata": {
    "collapsed": false
   },
   "outputs": [],
   "source": [
    "# Here we cannot use SPACE as a separator, as some strings contains spaces.\n",
    "# \"delimiter\" is used to specify the size (in characters in the file) of each variables. \n",
    "# The types must be clearly defined too.\n",
    "obs  = np.genfromtxt('data4.dat', \n",
    "                     dtype=[\"a11\",\"float\",\"float\",\"float\",\"a2\"],\n",
    "                     delimiter=[11,7,10,10,2],\n",
    "                     names = True\n",
    "                     )"
   ]
  },
  {
   "cell_type": "code",
   "execution_count": 109,
   "metadata": {
    "collapsed": false
   },
   "outputs": [
    {
     "data": {
      "text/plain": [
       "array([('H  1  4861A', 1.0, nan, 0.08, 'An'),\n",
       "       ('H  1  6563A', 2.8667, 6563.0, 0.19467, 'An'),\n",
       "       ('H  1  4340A', 0.4933, 4340.0, 0.03307, 'An'),\n",
       "       ('H  1  4102A', 0.2907, 4102.0, 0.02229, 'An'),\n",
       "       ('H  1  3970A', 0.18, 3970.0, 0.01253, 'An'),\n",
       "       ('N  2  6584A', 2.1681, 6584.0, 0.08686, 'An'),\n",
       "       ('N  2 121.7m', 0.0044, 621217000.0, 0.2, 'Li'),\n",
       "       ('O  1  6300A', 0.0147, 6300.0, 0.00325, 'An'),\n",
       "       ('TOTL  2326A', 0.079, nan, 0.2, 'Ad'),\n",
       "       ('C  2 157.6m', 0.0085, nan, 0.2, 'Li'),\n",
       "       ('O  1 63.17m', 0.1364, nan, 0.1, 'Li'),\n",
       "       ('O  1 145.5m', 0.0044, nan, 0.2, 'Li'),\n",
       "       ('TOTL  3727A', 0.776, nan, 0.2, 'To'),\n",
       "       ('S II  4070A', 0.0617, nan, 0.2, 'To'),\n",
       "       ('S II  4078A', 0.0617, nan, 0.2, 'To')], \n",
       "      dtype=[('Line', 'S11'), ('Iobs', '<f8'), ('lambda', '<f8'), ('relat_erro', '<f8'), ('r', 'S2')])"
      ]
     },
     "execution_count": 109,
     "metadata": {},
     "output_type": "execute_result"
    }
   ],
   "source": [
    "obs # The same delimiter (fixed sizes) is applied to the names. May not be what you want:"
   ]
  },
  {
   "cell_type": "code",
   "execution_count": 112,
   "metadata": {
    "collapsed": false
   },
   "outputs": [],
   "source": [
    "# Defining the names:\n",
    "obs2  = np.genfromtxt('data4.dat', skip_header=1,\n",
    "                     dtype=None,\n",
    "                     delimiter=[11,7,10,10,2],\n",
    "                     names = ['label', 'i_obs', 'lambda', 'e_obs', 'observer']\n",
    "                     )"
   ]
  },
  {
   "cell_type": "code",
   "execution_count": 113,
   "metadata": {
    "collapsed": false
   },
   "outputs": [
    {
     "data": {
      "text/plain": [
       "array([('H  1  4861A', 1.0, '0    4861.', 0.08, 'An'),\n",
       "       ('H  1  6563A', 2.8667, '     6563.', 0.19467, 'An'),\n",
       "       ('H  1  4340A', 0.4933, '     4340.', 0.03307, 'An'),\n",
       "       ('H  1  4102A', 0.2907, '     4102.', 0.02229, 'An'),\n",
       "       ('H  1  3970A', 0.18, '     3970.', 0.01253, 'An'),\n",
       "       ('N  2  6584A', 2.1681, '     6584.', 0.08686, 'An'),\n",
       "       ('N  2 121.7m', 0.0044, '621217000.', 0.2, 'Li'),\n",
       "       ('O  1  6300A', 0.0147, '     6300.', 0.00325, 'An'),\n",
       "       ('TOTL  2326A', 0.079, '0    2326.', 0.2, 'Ad'),\n",
       "       ('C  2 157.6m', 0.0085, '6 1576000.', 0.2, 'Li'),\n",
       "       ('O  1 63.17m', 0.1364, '7  631700.', 0.1, 'Li'),\n",
       "       ('O  1 145.5m', 0.0044, '6 1455000.', 0.2, 'Li'),\n",
       "       ('TOTL  3727A', 0.776, '9    3727.', 0.2, 'To'),\n",
       "       ('S II  4070A', 0.0617, '4    4070.', 0.2, 'To'),\n",
       "       ('S II  4078A', 0.0617, '4    4078.', 0.2, 'To')], \n",
       "      dtype=[('label', 'S11'), ('i_obs', '<f8'), ('lambda', 'S10'), ('e_obs', '<f8'), ('observer', 'S2')])"
      ]
     },
     "execution_count": 113,
     "metadata": {},
     "output_type": "execute_result"
    }
   ],
   "source": [
    "obs2 "
   ]
  },
  {
   "cell_type": "code",
   "execution_count": 124,
   "metadata": {
    "collapsed": false
   },
   "outputs": [
    {
     "name": "stdout",
     "output_type": "stream",
     "text": [
      "Overwriting data5.dat\n"
     ]
    }
   ],
   "source": [
    "%%writefile data5.dat\n",
    "#  Line      Iobs    lambda  relat_error Obs_code\n",
    "H  1  4861A 1.00000    4861. 0.08000 x Anabel                               \n",
    "H  1  6563A 2.8667     6563. 0.19467 x Anabel                               \n",
    "H  1  4340A 0.4933     4340. 0.03307 x Anabel                               \n",
    "H  1  4102A 0.2907     4102. 0.02229 x Anabel                               \n",
    "H  1  3970A 0.1800     3970. 0.01253 t Anabel                               \n",
    "N  2  6584A 2.1681           0.08686 x Anabel                               \n",
    "N  2 121.7m 0.00446 1217000. 0.20000 g Liu                                  \n",
    "O  1  6300A 0.0147     6300. 0.00325 t Anabel                               \n",
    "TOTL  2326A 0.07900    2326. 0.20000 g Adams                                \n",
    "C  2 157.6m 0.00856 1576000. 0.20000 t Liu                                  \n",
    "O  1 63.17m 0.13647  631700. 0.10000 g Liu                                  \n",
    "O  1 145.5m 0.00446 1455000. 0.200   g Liu                                  \n",
    "TOTL  3727A 0.77609    3727. 0.200   g Torres-Peimbert                      \n",
    "S II  4070A 0.06174    4070. 0.200   g Torres-Peimbert                      \n",
    "S II  4078A 0.06174    4078. 0.200   g Torres-Peimbert   "
   ]
  },
  {
   "cell_type": "code",
   "execution_count": 149,
   "metadata": {
    "collapsed": false
   },
   "outputs": [],
   "source": [
    "# Here we want to skip one column:\n",
    "obs3  = np.genfromtxt('data5.dat', skip_header=1,\n",
    "                     dtype=None,\n",
    "                     delimiter=[11, 8, 9, 9, 2, 2],\n",
    "                     names = ['label', 'i_obs', 'lambda', 'e_obs', 'na', 'observer'],\n",
    "                     usecols = (0, 1, 2, 3, 5)\n",
    "                     )"
   ]
  },
  {
   "cell_type": "code",
   "execution_count": 150,
   "metadata": {
    "collapsed": false
   },
   "outputs": [
    {
     "data": {
      "text/plain": [
       "array([('H  1  4861A', 1.0, 4861.0, 0.08, 'An'),\n",
       "       ('H  1  6563A', 2.8667, 6563.0, 0.19467, 'An'),\n",
       "       ('H  1  4340A', 0.4933, 4340.0, 0.03307, 'An'),\n",
       "       ('H  1  4102A', 0.2907, 4102.0, 0.02229, 'An'),\n",
       "       ('H  1  3970A', 0.18, 3970.0, 0.01253, 'An'),\n",
       "       ('N  2  6584A', 2.1681, nan, 0.08686, 'An'),\n",
       "       ('N  2 121.7m', 0.00446, 1217000.0, 0.2, 'Li'),\n",
       "       ('O  1  6300A', 0.0147, 6300.0, 0.00325, 'An'),\n",
       "       ('TOTL  2326A', 0.079, 2326.0, 0.2, 'Ad'),\n",
       "       ('C  2 157.6m', 0.00856, 1576000.0, 0.2, 'Li'),\n",
       "       ('O  1 63.17m', 0.13647, 631700.0, 0.1, 'Li'),\n",
       "       ('O  1 145.5m', 0.00446, 1455000.0, 0.2, 'Li'),\n",
       "       ('TOTL  3727A', 0.77609, 3727.0, 0.2, 'To'),\n",
       "       ('S II  4070A', 0.06174, 4070.0, 0.2, 'To'),\n",
       "       ('S II  4078A', 0.06174, 4078.0, 0.2, 'To')], \n",
       "      dtype=[('label', 'S11'), ('i_obs', '<f8'), ('lambda', '<f8'), ('e_obs', '<f8'), ('observer', 'S2')])"
      ]
     },
     "execution_count": 150,
     "metadata": {},
     "output_type": "execute_result"
    }
   ],
   "source": [
    "obs3"
   ]
  },
  {
   "cell_type": "code",
   "execution_count": 137,
   "metadata": {
    "collapsed": false
   },
   "outputs": [
    {
     "data": {
      "text/plain": [
       "array([    4861.,     6563.,     4340.,     4102.,     3970.,       nan,\n",
       "        1217000.,     6300.,     2326.,  1576000.,   631700.,  1455000.,\n",
       "           3727.,     4070.,     4078.])"
      ]
     },
     "execution_count": 137,
     "metadata": {},
     "output_type": "execute_result"
    }
   ],
   "source": [
    "obs3['lambda']"
   ]
  },
  {
   "cell_type": "code",
   "execution_count": 138,
   "metadata": {
    "collapsed": false
   },
   "outputs": [],
   "source": [
    "new_obs3 = obs3.view(np.recarray)"
   ]
  },
  {
   "cell_type": "code",
   "execution_count": 131,
   "metadata": {
    "collapsed": false
   },
   "outputs": [
    {
     "data": {
      "text/plain": [
       "array(['H  1  4861A', 'H  1  6563A', 'H  1  4340A', 'H  1  4102A',\n",
       "       'H  1  3970A', 'N  2  6584A', 'N  2 121.7m', 'O  1  6300A',\n",
       "       'TOTL  2326A', 'C  2 157.6m', 'O  1 63.17m', 'O  1 145.5m',\n",
       "       'TOTL  3727A', 'S II  4070A', 'S II  4078A'], \n",
       "      dtype='|S11')"
      ]
     },
     "execution_count": 131,
     "metadata": {},
     "output_type": "execute_result"
    }
   ],
   "source": [
    "new_obs3.label"
   ]
  },
  {
   "cell_type": "code",
   "execution_count": 132,
   "metadata": {
    "collapsed": false
   },
   "outputs": [
    {
     "ename": "SyntaxError",
     "evalue": "invalid syntax (<ipython-input-132-a5c3f73ef51d>, line 1)",
     "output_type": "error",
     "traceback": [
      "\u001b[0;36m  File \u001b[0;32m\"<ipython-input-132-a5c3f73ef51d>\"\u001b[0;36m, line \u001b[0;32m1\u001b[0m\n\u001b[0;31m    new_obs3.lambda # lambda is reserved!!!\u001b[0m\n\u001b[0m                  ^\u001b[0m\n\u001b[0;31mSyntaxError\u001b[0m\u001b[0;31m:\u001b[0m invalid syntax\n"
     ]
    }
   ],
   "source": [
    "new_obs3.lambda # lambda is reserved!!!"
   ]
  },
  {
   "cell_type": "code",
   "execution_count": 133,
   "metadata": {
    "collapsed": false
   },
   "outputs": [
    {
     "data": {
      "text/plain": [
       "array([    4861.,     6563.,     4340.,     4102.,     3970.,       nan,\n",
       "        1217000.,     6300.,     2326.,  1576000.,   631700.,  1455000.,\n",
       "           3727.,     4070.,     4078.])"
      ]
     },
     "execution_count": 133,
     "metadata": {},
     "output_type": "execute_result"
    }
   ],
   "source": [
    "new_obs3['lambda']"
   ]
  },
  {
   "cell_type": "code",
   "execution_count": null,
   "metadata": {
    "collapsed": true
   },
   "outputs": [],
   "source": []
  },
  {
   "cell_type": "markdown",
   "metadata": {},
   "source": [
    "Using masks on the structured array."
   ]
  },
  {
   "cell_type": "code",
   "execution_count": 142,
   "metadata": {
    "collapsed": false
   },
   "outputs": [
    {
     "name": "stdout",
     "output_type": "stream",
     "text": [
      "[('H  1  4861A', 1.0, 4861.0, 0.08, 'An')\n",
      " ('H  1  6563A', 2.8667, 6563.0, 0.19467, 'An')\n",
      " ('H  1  4340A', 0.4933, 4340.0, 0.03307, 'An')\n",
      " ('H  1  4102A', 0.2907, 4102.0, 0.02229, 'An')\n",
      " ('H  1  3970A', 0.18, 3970.0, 0.01253, 'An')\n",
      " ('O  1  6300A', 0.0147, 6300.0, 0.00325, 'An')]\n"
     ]
    }
   ],
   "source": [
    "mask_observer = (obs3['observer'] == 'An') & (np.isfinite(obs3['lambda']))\n",
    "print obs3[mask_observer]"
   ]
  },
  {
   "cell_type": "code",
   "execution_count": 143,
   "metadata": {
    "collapsed": false
   },
   "outputs": [
    {
     "name": "stdout",
     "output_type": "stream",
     "text": [
      "line H  1  4861A, wavelength=4861.0A Intensity=1.000+/- 8.0%)\n",
      "line H  1  6563A, wavelength=6563.0A Intensity=2.867+/-19.5%)\n",
      "line H  1  4340A, wavelength=4340.0A Intensity=0.493+/- 3.3%)\n",
      "line H  1  4102A, wavelength=4102.0A Intensity=0.291+/- 2.2%)\n",
      "line H  1  3970A, wavelength=3970.0A Intensity=0.180+/- 1.3%)\n",
      "line O  1  6300A, wavelength=6300.0A Intensity=0.015+/- 0.3%)\n"
     ]
    }
   ],
   "source": [
    "for o in obs3[mask_observer]:\n",
    "    print('line {0[label]:4s}, wavelength={0[lambda]}A Intensity={0[i_obs]:5.3f}+/-{1:4.1f}%)'.format(o, o['e_obs']*100))"
   ]
  },
  {
   "cell_type": "markdown",
   "metadata": {},
   "source": [
    "## Writing files"
   ]
  },
  {
   "cell_type": "markdown",
   "metadata": {},
   "source": [
    "### Simple \"write\" method from \"open\" class"
   ]
  },
  {
   "cell_type": "code",
   "execution_count": 171,
   "metadata": {
    "collapsed": false
   },
   "outputs": [],
   "source": [
    "f = open('data10.dat', 'w')"
   ]
  },
  {
   "cell_type": "code",
   "execution_count": 172,
   "metadata": {
    "collapsed": false
   },
   "outputs": [],
   "source": [
    "f.write('tralala')\n",
    "f.write('trololo')"
   ]
  },
  {
   "cell_type": "code",
   "execution_count": 173,
   "metadata": {
    "collapsed": false
   },
   "outputs": [],
   "source": [
    "f.close()"
   ]
  },
  {
   "cell_type": "code",
   "execution_count": 174,
   "metadata": {
    "collapsed": false
   },
   "outputs": [
    {
     "name": "stdout",
     "output_type": "stream",
     "text": [
      "tralalatrololo"
     ]
    }
   ],
   "source": [
    "!cat 'data10.dat' # the writing method put everything together."
   ]
  },
  {
   "cell_type": "code",
   "execution_count": 175,
   "metadata": {
    "collapsed": false
   },
   "outputs": [
    {
     "name": "stdout",
     "output_type": "stream",
     "text": [
      "tralala\r\n",
      "trololo\r\n"
     ]
    }
   ],
   "source": [
    "f = open('data11.dat', 'w')\n",
    "f.write('tralala\\n') # \\n to indicate end of line\n",
    "f.write('trololo\\n')\n",
    "f.close()\n",
    "!cat 'data11.dat'"
   ]
  },
  {
   "cell_type": "code",
   "execution_count": 176,
   "metadata": {
    "collapsed": false
   },
   "outputs": [
    {
     "name": "stdout",
     "output_type": "stream",
     "text": [
      "tralala\r\n",
      "trololo\r\n",
      "trilili\r\n",
      "trululu\r\n"
     ]
    }
   ],
   "source": [
    "f = open('data11.dat', 'a') # Append to the edn of the file\n",
    "f.write('trilili\\n') # \\n to indicate end of line\n",
    "f.write('trululu\\n')\n",
    "f.close()\n",
    "!cat 'data11.dat'"
   ]
  },
  {
   "cell_type": "code",
   "execution_count": 182,
   "metadata": {
    "collapsed": false,
    "scrolled": true
   },
   "outputs": [
    {
     "name": "stdout",
     "output_type": "stream",
     "text": [
      "Hola Sr.\r\n",
      "This is a file\r\n",
      "with a lot of lines.\r\n",
      "It is easy to write it.\r\n",
      "Using the 3 \"\"\".\r\n",
      "Tralala."
     ]
    }
   ],
   "source": [
    "a = 'Hola Sr.'\n",
    "b = 3\n",
    "with open('data12.dat', 'w') as datafile:\n",
    "    datafile.write(\"\"\"{0}\n",
    "This is a file\n",
    "with a lot of lines.\n",
    "It is easy to write it.\n",
    "Using the {1} \\\"\"\".\n",
    "Tralala.\"\"\".format(a, b))\n",
    "!cat \"data12.dat\""
   ]
  },
  {
   "cell_type": "markdown",
   "metadata": {},
   "source": [
    "### Using pickle (and cpickle) python specific format"
   ]
  },
  {
   "cell_type": "code",
   "execution_count": 183,
   "metadata": {
    "collapsed": false
   },
   "outputs": [],
   "source": [
    "# Let's define some stuffs we want to keep in a file (data and variable names)\n",
    "a = 5\n",
    "b = 'Hola'\n",
    "c = np.array([1,2,3,4,5])\n",
    "def d(x):\n",
    "    \"\"\" Function mia\"\"\"\n",
    "    return x**2"
   ]
  },
  {
   "cell_type": "code",
   "execution_count": 184,
   "metadata": {
    "collapsed": false
   },
   "outputs": [],
   "source": [
    "import pickle # The module we will use for this"
   ]
  },
  {
   "cell_type": "code",
   "execution_count": 186,
   "metadata": {
    "collapsed": false
   },
   "outputs": [],
   "source": [
    "pickle.dump((a,b,c,d), file('Demo.pickle','w')) # Writing the variables"
   ]
  },
  {
   "cell_type": "code",
   "execution_count": 187,
   "metadata": {
    "collapsed": false
   },
   "outputs": [
    {
     "name": "stdout",
     "output_type": "stream",
     "text": [
      "(I5\r\n",
      "S'Hola'\r\n",
      "p0\r\n",
      "cnumpy.core.multiarray\r\n",
      "_reconstruct\r\n",
      "p1\r\n",
      "(cnumpy\r\n",
      "ndarray\r\n",
      "p2\r\n",
      "(I0\r\n",
      "tp3\r\n",
      "S'b'\r\n",
      "p4\r\n",
      "tp5\r\n",
      "Rp6\r\n",
      "(I1\r\n",
      "(I5\r\n",
      "tp7\r\n",
      "cnumpy\r\n",
      "dtype\r\n",
      "p8\r\n",
      "(S'i8'\r\n",
      "p9\r\n",
      "I0\r\n",
      "I1\r\n",
      "tp10\r\n",
      "Rp11\r\n",
      "(I3\r\n",
      "S'<'\r\n",
      "p12\r\n",
      "NNNI-1\r\n",
      "I-1\r\n",
      "I0\r\n",
      "tp13\r\n",
      "bI00\r\n",
      "S'\\x01\\x00\\x00\\x00\\x00\\x00\\x00\\x00\\x02\\x00\\x00\\x00\\x00\\x00\\x00\\x00\\x03\\x00\\x00\\x00\\x00\\x00\\x00\\x00\\x04\\x00\\x00\\x00\\x00\\x00\\x00\\x00\\x05\\x00\\x00\\x00\\x00\\x00\\x00\\x00'\r\n",
      "p14\r\n",
      "tp15\r\n",
      "bc__main__\r\n",
      "d\r\n",
      "p16\r\n",
      "tp17\r\n",
      "."
     ]
    }
   ],
   "source": [
    "!cat Demo.pickle"
   ]
  },
  {
   "cell_type": "code",
   "execution_count": 188,
   "metadata": {
    "collapsed": false
   },
   "outputs": [],
   "source": [
    "res = pickle.load(file('Demo.pickle'))"
   ]
  },
  {
   "cell_type": "code",
   "execution_count": 189,
   "metadata": {
    "collapsed": false
   },
   "outputs": [
    {
     "data": {
      "text/plain": [
       "tuple"
      ]
     },
     "execution_count": 189,
     "metadata": {},
     "output_type": "execute_result"
    }
   ],
   "source": [
    "type(res)"
   ]
  },
  {
   "cell_type": "code",
   "execution_count": 190,
   "metadata": {
    "collapsed": false
   },
   "outputs": [
    {
     "name": "stdout",
     "output_type": "stream",
     "text": [
      "5\n",
      "Hola\n",
      "[1 2 3 4 5]\n"
     ]
    }
   ],
   "source": [
    "print res[0]\n",
    "print res[1]\n",
    "print res[2]"
   ]
  },
  {
   "cell_type": "code",
   "execution_count": 191,
   "metadata": {
    "collapsed": false
   },
   "outputs": [
    {
     "data": {
      "text/plain": [
       "25"
      ]
     },
     "execution_count": 191,
     "metadata": {},
     "output_type": "execute_result"
    }
   ],
   "source": [
    "res[3](5)"
   ]
  },
  {
   "cell_type": "code",
   "execution_count": 192,
   "metadata": {
    "collapsed": false
   },
   "outputs": [],
   "source": [
    "a2,b2,c2,d2 = pickle.load(file('Demo.pickle'))"
   ]
  },
  {
   "cell_type": "code",
   "execution_count": 193,
   "metadata": {
    "collapsed": false
   },
   "outputs": [
    {
     "data": {
      "text/plain": [
       "5"
      ]
     },
     "execution_count": 193,
     "metadata": {},
     "output_type": "execute_result"
    }
   ],
   "source": [
    "a2"
   ]
  },
  {
   "cell_type": "code",
   "execution_count": 194,
   "metadata": {
    "collapsed": false
   },
   "outputs": [
    {
     "data": {
      "text/plain": [
       "100"
      ]
     },
     "execution_count": 194,
     "metadata": {},
     "output_type": "execute_result"
    }
   ],
   "source": [
    "d2(10)"
   ]
  },
  {
   "cell_type": "code",
   "execution_count": 196,
   "metadata": {
    "collapsed": false
   },
   "outputs": [
    {
     "name": "stdout",
     "output_type": "stream",
     "text": [
      "Help on function d in module __main__:\n",
      "\n",
      "d(x)\n",
      "    Function mia\n",
      "\n"
     ]
    }
   ],
   "source": [
    "help(d2)"
   ]
  },
  {
   "cell_type": "code",
   "execution_count": 197,
   "metadata": {
    "collapsed": false
   },
   "outputs": [
    {
     "name": "stdout",
     "output_type": "stream",
     "text": [
      "10000 loops, best of 3: 96.6 µs per loop\n"
     ]
    }
   ],
   "source": [
    "%timeit res = pickle.load(file('Demo.pickle'))"
   ]
  },
  {
   "cell_type": "code",
   "execution_count": 198,
   "metadata": {
    "collapsed": false
   },
   "outputs": [],
   "source": [
    "import cPickle # A newer version writen in C, faster."
   ]
  },
  {
   "cell_type": "code",
   "execution_count": 199,
   "metadata": {
    "collapsed": false
   },
   "outputs": [
    {
     "name": "stdout",
     "output_type": "stream",
     "text": [
      "The slowest run took 15.21 times longer than the fastest. This could mean that an intermediate result is being cached.\n",
      "10000 loops, best of 3: 55.4 µs per loop\n"
     ]
    }
   ],
   "source": [
    "%timeit res = cPickle.load(file('Demo.pickle'))"
   ]
  },
  {
   "cell_type": "code",
   "execution_count": 203,
   "metadata": {
    "collapsed": false
   },
   "outputs": [],
   "source": [
    "huge_arr = np.random.rand(1000,100)\n",
    "pickle.dump(huge_arr, file('Demo2.pickle','w')) # Writing the variable\n",
    "cPickle.dump(huge_arr, file('Demo3.pickle','w')) # Writing the variable\n"
   ]
  },
  {
   "cell_type": "code",
   "execution_count": 204,
   "metadata": {
    "collapsed": false
   },
   "outputs": [
    {
     "name": "stdout",
     "output_type": "stream",
     "text": [
      "10 loops, best of 3: 19.5 ms per loop\n"
     ]
    }
   ],
   "source": [
    "%timeit res2 = pickle.load(file('Demo2.pickle'))"
   ]
  },
  {
   "cell_type": "code",
   "execution_count": 205,
   "metadata": {
    "collapsed": false
   },
   "outputs": [
    {
     "name": "stdout",
     "output_type": "stream",
     "text": [
      "1 loop, best of 3: 225 ms per loop\n"
     ]
    }
   ],
   "source": [
    "%timeit res2 = cPickle.load(file('Demo3.pickle')) # It is supposed to be faster..."
   ]
  },
  {
   "cell_type": "code",
   "execution_count": 206,
   "metadata": {
    "collapsed": false
   },
   "outputs": [],
   "source": [
    "import gzip\n",
    "pickle.dump((a,b,c,d), gzip.open('Demo.pklz','wb')) # Writing the variables"
   ]
  },
  {
   "cell_type": "code",
   "execution_count": 207,
   "metadata": {
    "collapsed": false
   },
   "outputs": [],
   "source": [
    "f = gzip.open('Demo.pklz','rb')\n",
    "a, b, c, d = pickle.load(f)\n",
    "f.close()"
   ]
  },
  {
   "cell_type": "markdown",
   "metadata": {},
   "source": [
    "### FITS files"
   ]
  },
  {
   "cell_type": "raw",
   "metadata": {},
   "source": [
    "What is the FITS format?\n",
    "The FITS format is the most popular way to save and interchange astronomical data. The files are organized in units each of which contains a human readable header and a data. This structure is refereed as HDUs (Header/DATA Unit). \n",
    "\n",
    "A FITS file can contain one or more HDUs, the first of which is called \"primary\" and the rest are called \"extensions\". The primary HDU usually contains 1D spectrum, 2D image or 3D data cube, although any dimension from 0 to 999 are possible. The data are 1, 2 or 4 bytes integers or 4 or 8 bytes real numbers. \n",
    "\n",
    "The extensions can contain or arrays as in the primary HDU or ascii tables or binary tables. \n",
    "If a FITS file contains only tables, it primary HDU does not contain data, but only header. \n",
    "\n",
    "Both headers and data in a FITS file are organized in blocs of 2880 bytes. The header contain 80 bytes lines each of which consists of a keyword of 8 bytes followed in most of the cases by '= ' in the position 9 and 10 and then the value of the keyword. The rest of the line is a comment string beginning with '/'. Each header begins with the following lines\n",
    "\n",
    "SIMPLE  =                    T / file conforms to FITS standard\n",
    "BITPIX  =                   16 / number of bits per data pixel\n",
    "NAXIS   =                    2 / number of data axes\n",
    "NAXIS1  =                  440 / length of data axis 1\n",
    "NAXIS2  =                  300 / length of data axis 2\n",
    "\n",
    "which defines the format of the file as standard FITS, the data format and the dimensions of the stored data. \n",
    "\n",
    "One block of 2880 bytes contains 36 lines of 80 characters per line. The header can have several blocks of 36 lines. The last block is identified by the presence of the keyword 'END' The next 2880 bytes block contains the first part of the data. The empty lines after 'END' keyword are filled with blanks and the unused bytes from the end of the data to the end of the 2880 bytes block are filled with NULLs.\n"
   ]
  },
  {
   "cell_type": "code",
   "execution_count": 211,
   "metadata": {
    "collapsed": false
   },
   "outputs": [
    {
     "name": "stdout",
     "output_type": "stream",
     "text": [
      "1.1.2\n"
     ]
    }
   ],
   "source": [
    "import astropy\n",
    "print astropy.__version__"
   ]
  },
  {
   "cell_type": "code",
   "execution_count": 208,
   "metadata": {
    "collapsed": false
   },
   "outputs": [],
   "source": [
    "from astropy.io import fits"
   ]
  },
  {
   "cell_type": "code",
   "execution_count": null,
   "metadata": {
    "collapsed": false
   },
   "outputs": [],
   "source": [
    "# All of the functionality of PyFITS is now available in Astropy\n",
    "# from astropy.io import fits as pyfits"
   ]
  },
  {
   "cell_type": "markdown",
   "metadata": {},
   "source": [
    "Manual here: https://pythonhosted.org/pyfits/"
   ]
  },
  {
   "cell_type": "markdown",
   "metadata": {},
   "source": [
    "We will use one FITS files from San Pedro Martir echelle spectrograph. The file can be downloaded from: https://github.com/Morisset/Python-lectures-Notebooks/raw/master/Notebooks/n10017o.fits"
   ]
  },
  {
   "cell_type": "code",
   "execution_count": 209,
   "metadata": {
    "collapsed": false
   },
   "outputs": [],
   "source": [
    "hdulist = fits.open('n10017o.fits')"
   ]
  },
  {
   "cell_type": "code",
   "execution_count": 212,
   "metadata": {
    "collapsed": false
   },
   "outputs": [
    {
     "data": {
      "text/plain": [
       "1"
      ]
     },
     "execution_count": 212,
     "metadata": {},
     "output_type": "execute_result"
    }
   ],
   "source": [
    "# The result hdulist is a list of HDU objects. \n",
    "# In the case of a simple file, there is only one primary HDU so the list contains only one element\n",
    "len(hdulist)"
   ]
  },
  {
   "cell_type": "code",
   "execution_count": 213,
   "metadata": {
    "collapsed": false
   },
   "outputs": [
    {
     "name": "stdout",
     "output_type": "stream",
     "text": [
      "Filename: n10017o.fits\n",
      "No.    Name         Type      Cards   Dimensions   Format\n",
      "0    PRIMARY     PrimaryHDU      62   (2154, 2048)   int16 (rescales to uint16)   \n"
     ]
    }
   ],
   "source": [
    "# The information on what the file contains can be obtained by calling the info() method:\n",
    "hdulist.info()\n",
    "# The table said that there is only a primary HDU which contains 2154 X 2048 image with data stored in 2 bytes (16 bits) integers."
   ]
  },
  {
   "cell_type": "code",
   "execution_count": 214,
   "metadata": {
    "collapsed": false
   },
   "outputs": [
    {
     "data": {
      "text/plain": [
       "['SIMPLE',\n",
       " 'BITPIX',\n",
       " 'NAXIS',\n",
       " 'NAXIS1',\n",
       " 'NAXIS2',\n",
       " 'EXTEND',\n",
       " 'COMMENT',\n",
       " 'COMMENT',\n",
       " 'BZERO',\n",
       " 'BSCALE',\n",
       " 'EXPTIME',\n",
       " 'DETECTOR',\n",
       " 'ORIGIN',\n",
       " 'OBSERVAT',\n",
       " 'TELESCOP',\n",
       " 'LATITUDE',\n",
       " 'LONGITUD',\n",
       " 'ALTITUD',\n",
       " 'SECONDAR',\n",
       " 'TIMEZONE',\n",
       " 'OBSERVER',\n",
       " 'OBJECT',\n",
       " 'INSTRUME',\n",
       " 'GAINMODE',\n",
       " 'FILTER',\n",
       " 'IMGTYPE',\n",
       " 'EQUINOX',\n",
       " 'ST',\n",
       " 'UT',\n",
       " 'JD',\n",
       " 'DATE-OBS',\n",
       " 'CCDSUM',\n",
       " 'RA',\n",
       " 'DEC',\n",
       " 'AH',\n",
       " 'AIRMASS',\n",
       " 'TMMIRROR',\n",
       " 'TSMIRROR',\n",
       " 'TAIR',\n",
       " 'XTEMP',\n",
       " 'HUMIDITY',\n",
       " 'ATMOSBAR',\n",
       " 'WIND',\n",
       " 'WDATE',\n",
       " 'DATE',\n",
       " 'NAMPS',\n",
       " 'CCDNAMPS',\n",
       " 'AMPNAME',\n",
       " 'CREATOR',\n",
       " 'VERSION',\n",
       " 'COMMENT',\n",
       " 'COMMENT',\n",
       " 'HISTORY',\n",
       " 'HISTORY',\n",
       " 'HISTORY',\n",
       " 'HISTORY',\n",
       " 'HISTORY',\n",
       " 'HISTORY',\n",
       " 'HISTORY',\n",
       " 'HISTORY',\n",
       " 'HISTORY',\n",
       " 'HISTORY']"
      ]
     },
     "execution_count": 214,
     "metadata": {},
     "output_type": "execute_result"
    }
   ],
   "source": [
    "# As described above, the HDU (header/data unit) contains header and data. The header is a dictionary. \n",
    "# To see what keywords were used in the header one can do:\n",
    "hdulist[0].header.keys()"
   ]
  },
  {
   "cell_type": "code",
   "execution_count": 215,
   "metadata": {
    "collapsed": false
   },
   "outputs": [
    {
     "data": {
      "text/plain": [
       "'107 Psc'"
      ]
     },
     "execution_count": 215,
     "metadata": {},
     "output_type": "execute_result"
    }
   ],
   "source": [
    "# and to get the value of a given keyword :\n",
    "hdulist[0].header['OBJECT'] "
   ]
  },
  {
   "cell_type": "code",
   "execution_count": 216,
   "metadata": {
    "collapsed": true
   },
   "outputs": [],
   "source": [
    "hh = hdulist[0].header\n",
    "hh?"
   ]
  },
  {
   "cell_type": "code",
   "execution_count": 217,
   "metadata": {
    "collapsed": false
   },
   "outputs": [
    {
     "data": {
      "text/plain": [
       "SIMPLE  =                    T / conforms to FITS standard                      \n",
       "BITPIX  =                   16 / array data type                                \n",
       "NAXIS   =                    2 / number of array dimensions                     \n",
       "NAXIS1  =                 2154 / length of data axis 1                          \n",
       "NAXIS2  =                 2048 / length of data axis 2                          \n",
       "EXTEND  =                    T                                                  \n",
       "COMMENT FITS (Flexible Image Transport System) format is defined in 'Astronomy  \n",
       "COMMENT and Astrophysics', volume 376, page 359; bibcode: 2001A&A...376..359H   \n",
       "BZERO   =                32768 / BZERO                                          \n",
       "BSCALE  =                    1 / BSCALE                                         \n",
       "EXPTIME =                600.0 / Integration Time, sec.                         \n",
       "DETECTOR= 'e2vm2 E2V-4240'     / CCD Type                                       \n",
       "ORIGIN  = 'UNAM    '           / OAN SPM, IA-UNAM                               \n",
       "OBSERVAT= 'SPM     '           / Observatory                                    \n",
       "TELESCOP= '2.12m   '           / Telescope                                      \n",
       "LATITUDE= '+31:02:39'          / Latitude                                       \n",
       "LONGITUD= '115:27:49'          / Longitud                                       \n",
       "ALTITUD =                 2800 / altitud                                        \n",
       "SECONDAR=                   -1 / F/ Secondary type                              \n",
       "TIMEZONE=                    8 / Time Zone                                      \n",
       "OBSERVER= 'Leonid  '           / Observer's Name                                \n",
       "OBJECT  = '107 Psc '           / Object                                         \n",
       "INSTRUME= 'Echelle '           / Instrument                                     \n",
       "GAINMODE=                    1 / Gain factor in the CCD                         \n",
       "FILTER  = 'None    '           / Filter                                         \n",
       "IMGTYPE = 'object  '           / Image Type                                     \n",
       "EQUINOX =               2011.7 / Equinox                                        \n",
       "ST      = '01:25:41.3'         / Sideral Time                                   \n",
       "UT      = '10:34:27'           / Universal Time                                 \n",
       "JD      =            2455803.5 / Julian Date                                    \n",
       "DATE-OBS= '2011-08-30'         / Observation Date UTM                           \n",
       "CCDSUM  = '1 1     '           / Binning [ Cols:Rows ]                          \n",
       "RA      = ' 01:43:10.8'        / Right Ascension                                \n",
       "DEC     = ' 20''19''43.0'      / Declination                                    \n",
       "AH      = ' -00:17:29.1'       / Hour Angle                                     \n",
       "AIRMASS =                 1.02 / Airmass                                        \n",
       "TMMIRROR=                    0 / Primary Mirror Temperature (celsius degree)    \n",
       "TSMIRROR=                    0 / Secundary Mirror Temperature (celsius degree)  \n",
       "TAIR    =                    0 / Internal Telescope Air Temperature (celsius deg\n",
       "XTEMP   =                 14.7 / Exterior Temperature (celsius degree)          \n",
       "HUMIDITY=                 46.0 / % external Humidity                            \n",
       "ATMOSBAR=                731.9 / Atmosferic Presure in mb                       \n",
       "WIND    = 'S at 30.6 km/h'     / Wind Direction                                 \n",
       "WDATE   = '10:34:10, 08/30/11' / Weather Acquisition Date (Local time)          \n",
       "DATE    = '2011-08-30T10:34:29' / file creation date (YYYY-MM-DDThh:mm:ss UT)   \n",
       "NAMPS   =                    1 / Number of Amplifiers                           \n",
       "CCDNAMPS=                    1 / Number of amplifiers used                      \n",
       "AMPNAME = '1 Channel'          / Amplifier name                                 \n",
       "CREATOR = 'Python Oan ccds'    / Name of the software task that created the file\n",
       "VERSION = '4.12D   '           / Application Software Version                   \n",
       "COMMENT Visit our weather site http://www.astrossp.unam.mx/weather15            \n",
       "COMMENT for complete meteorological data of your observation night              \n",
       "HISTORY bin2fits V1.0                                                           \n",
       "HISTORY Programmer: Enrique Colorado [ colorado@astrosen.unam.mx ]              \n",
       "HISTORY Observatorio Astronomico Nacional -UNAM                                 \n",
       "HISTORY V1.00 By Arturo Nunez and Colorado >Ported to Python using pyfits       \n",
       "HISTORY V0.50 By E. Colorado >Added interior mirrors temperatures               \n",
       "HISTORY V0.49 By E. Colorado >Added BIASSEC parameter                           \n",
       "HISTORY V0.48 By E. Colorado >Aditional info for autofocus calculations         \n",
       "HISTORY V0.4 By E. Colorado >Now we include timezone, and remove lat. sign      \n",
       "HISTORY V0.3 By E. Colorado >Now we include weather data                        \n",
       "HISTORY V0.2 By E. Colorado >General OAN Working Release                        "
      ]
     },
     "execution_count": 217,
     "metadata": {},
     "output_type": "execute_result"
    }
   ],
   "source": [
    "hdulist[0].header"
   ]
  },
  {
   "cell_type": "code",
   "execution_count": 218,
   "metadata": {
    "collapsed": false
   },
   "outputs": [
    {
     "name": "stdout",
     "output_type": "stream",
     "text": [
      "('SIMPLE', True, 'conforms to FITS standard')\n",
      "('BITPIX', 16, 'array data type')\n",
      "('NAXIS', 2, 'number of array dimensions')\n",
      "('NAXIS1', 2154, 'length of data axis 1')\n",
      "('NAXIS2', 2048, 'length of data axis 2')\n",
      "('EXTEND', True, '')\n",
      "('COMMENT', \"FITS (Flexible Image Transport System) format is defined in 'Astronomy\", '')\n",
      "('COMMENT', \"and Astrophysics', volume 376, page 359; bibcode: 2001A&A...376..359H\", '')\n",
      "('BZERO', 32768, 'BZERO')\n",
      "('BSCALE', 1, 'BSCALE')\n",
      "('EXPTIME', 600.0, 'Integration Time, sec.')\n",
      "('DETECTOR', 'e2vm2 E2V-4240', 'CCD Type')\n",
      "('ORIGIN', 'UNAM', 'OAN SPM, IA-UNAM')\n",
      "('OBSERVAT', 'SPM', 'Observatory')\n",
      "('TELESCOP', '2.12m', 'Telescope')\n",
      "('LATITUDE', '+31:02:39', 'Latitude')\n",
      "('LONGITUD', '115:27:49', 'Longitud')\n",
      "('ALTITUD', 2800, 'altitud')\n",
      "('SECONDAR', -1, 'F/ Secondary type')\n",
      "('TIMEZONE', 8, 'Time Zone')\n",
      "('OBSERVER', 'Leonid', \"Observer's Name\")\n",
      "('OBJECT', '107 Psc', 'Object')\n",
      "('INSTRUME', 'Echelle', 'Instrument')\n",
      "('GAINMODE', 1, 'Gain factor in the CCD')\n",
      "('FILTER', 'None', 'Filter')\n",
      "('IMGTYPE', 'object', 'Image Type')\n",
      "('EQUINOX', 2011.7, 'Equinox')\n",
      "('ST', '01:25:41.3', 'Sideral Time')\n",
      "('UT', '10:34:27', 'Universal Time')\n",
      "('JD', 2455803.5, 'Julian Date')\n",
      "('DATE-OBS', '2011-08-30', 'Observation Date UTM')\n",
      "('CCDSUM', '1 1', 'Binning [ Cols:Rows ]')\n",
      "('RA', ' 01:43:10.8', 'Right Ascension')\n",
      "('DEC', \" 20'19'43.0\", 'Declination')\n",
      "('AH', ' -00:17:29.1', 'Hour Angle')\n",
      "('AIRMASS', 1.02, 'Airmass')\n",
      "('TMMIRROR', 0, 'Primary Mirror Temperature (celsius degree)')\n",
      "('TSMIRROR', 0, 'Secundary Mirror Temperature (celsius degree)')\n",
      "('TAIR', 0, 'Internal Telescope Air Temperature (celsius deg')\n",
      "('XTEMP', 14.7, 'Exterior Temperature (celsius degree)')\n",
      "('HUMIDITY', 46.0, '% external Humidity')\n",
      "('ATMOSBAR', 731.9, 'Atmosferic Presure in mb')\n",
      "('WIND', 'S at 30.6 km/h', 'Wind Direction')\n",
      "('WDATE', '10:34:10, 08/30/11', 'Weather Acquisition Date (Local time)')\n",
      "('DATE', '2011-08-30T10:34:29', 'file creation date (YYYY-MM-DDThh:mm:ss UT)')\n",
      "('NAMPS', 1, 'Number of Amplifiers')\n",
      "('CCDNAMPS', 1, 'Number of amplifiers used')\n",
      "('AMPNAME', '1 Channel', 'Amplifier name')\n",
      "('CREATOR', 'Python Oan ccds', 'Name of the software task that created the file')\n",
      "('VERSION', '4.12D', 'Application Software Version')\n",
      "('COMMENT', 'Visit our weather site http://www.astrossp.unam.mx/weather15', '')\n",
      "('COMMENT', 'for complete meteorological data of your observation night', '')\n",
      "('HISTORY', 'bin2fits V1.0', '')\n",
      "('HISTORY', 'Programmer: Enrique Colorado [ colorado@astrosen.unam.mx ]', '')\n",
      "('HISTORY', 'Observatorio Astronomico Nacional -UNAM', '')\n",
      "('HISTORY', 'V1.00 By Arturo Nunez and Colorado >Ported to Python using pyfits', '')\n",
      "('HISTORY', 'V0.50 By E. Colorado >Added interior mirrors temperatures', '')\n",
      "('HISTORY', 'V0.49 By E. Colorado >Added BIASSEC parameter', '')\n",
      "('HISTORY', 'V0.48 By E. Colorado >Aditional info for autofocus calculations', '')\n",
      "('HISTORY', 'V0.4 By E. Colorado >Now we include timezone, and remove lat. sign', '')\n",
      "('HISTORY', 'V0.3 By E. Colorado >Now we include weather data', '')\n",
      "('HISTORY', 'V0.2 By E. Colorado >General OAN Working Release', '')\n"
     ]
    }
   ],
   "source": [
    "# The header can be printed as it appears in the file by\n",
    "print hdulist[0].header.cards"
   ]
  },
  {
   "cell_type": "code",
   "execution_count": 219,
   "metadata": {
    "collapsed": false
   },
   "outputs": [],
   "source": [
    "# The data in the file are accessible with\n",
    "data = hdulist[0].data"
   ]
  },
  {
   "cell_type": "code",
   "execution_count": 223,
   "metadata": {
    "collapsed": false
   },
   "outputs": [
    {
     "data": {
      "text/plain": [
       "<matplotlib.image.AxesImage at 0x10dc33350>"
      ]
     },
     "execution_count": 223,
     "metadata": {},
     "output_type": "execute_result"
    },
    {
     "data": {
      "image/png": "[encoded data removed]",
      "text/plain": [
       "<matplotlib.figure.Figure at 0x10dc3f750>"
      ]
     },
     "metadata": {},
     "output_type": "display_data"
    }
   ],
   "source": [
    "# and can be seen with [we need to import matplotlib.pyplot as plt before running this]:\n",
    "%matplotlib inline\n",
    "import matplotlib.pyplot as plt\n",
    "f, ax = plt.subplots(figsize=(15,15))\n",
    "ax.imshow(data)"
   ]
  },
  {
   "cell_type": "code",
   "execution_count": 224,
   "metadata": {
    "collapsed": false
   },
   "outputs": [
    {
     "data": {
      "text/plain": [
       "[<matplotlib.lines.Line2D at 0x10d3d3110>]"
      ]
     },
     "execution_count": 224,
     "metadata": {},
     "output_type": "execute_result"
    },
    {
     "data": {
      "image/png": "[encoded data removed]",
      "text/plain": [
       "<matplotlib.figure.Figure at 0x10e2a7890>"
      ]
     },
     "metadata": {},
     "output_type": "display_data"
    }
   ],
   "source": [
    "# A column from the data can be plotted with \n",
    "plt.plot(data[:,1000])\n",
    "# where I am plotting the column number 1000. "
   ]
  },
  {
   "cell_type": "code",
   "execution_count": 225,
   "metadata": {
    "collapsed": false
   },
   "outputs": [
    {
     "data": {
      "text/plain": [
       "[<matplotlib.lines.Line2D at 0x10e3e3210>]"
      ]
     },
     "execution_count": 225,
     "metadata": {},
     "output_type": "execute_result"
    },
    {
     "data": {
      "image/png": "[encoded data removed]",
      "text/plain": [
       "<matplotlib.figure.Figure at 0x10d3eb910>"
      ]
     },
     "metadata": {},
     "output_type": "display_data"
    }
   ],
   "source": [
    "# In the same way a line from the data is plotted with: \n",
    "plt.plot(data[1000,:])"
   ]
  },
  {
   "cell_type": "code",
   "execution_count": 226,
   "metadata": {
    "collapsed": false
   },
   "outputs": [],
   "source": [
    "# For this example I'll use a spectrum obtain with the high dispersion camera on board of IUE. \n",
    "# The file is opened as usual:\n",
    "hdulist = fits.open('swp04345.mxhi')"
   ]
  },
  {
   "cell_type": "markdown",
   "metadata": {},
   "source": [
    "The file is there: https://github.com/Morisset/Python-lectures-Notebooks/raw/master/Notebooks/swp04345.mxhi"
   ]
  },
  {
   "cell_type": "code",
   "execution_count": 227,
   "metadata": {
    "collapsed": false
   },
   "outputs": [
    {
     "data": {
      "text/plain": [
       "2"
      ]
     },
     "execution_count": 227,
     "metadata": {},
     "output_type": "execute_result"
    }
   ],
   "source": [
    "#but now hdulist has 2 elements (2 header/data units):\n",
    "len(hdulist)"
   ]
  },
  {
   "cell_type": "code",
   "execution_count": 228,
   "metadata": {
    "collapsed": false
   },
   "outputs": [
    {
     "name": "stdout",
     "output_type": "stream",
     "text": [
      "Filename: swp04345.mxhi\n",
      "No.    Name         Type      Cards   Dimensions   Format\n",
      "0    PRIMARY     PrimaryHDU     421   ()              \n",
      "1    MEHI        BinTableHDU     61   60R x 17C    [1B, 1I, 1D, 1I, 1D, 1E, 1E, 768E, 768E, 768E, 768I, 768E, 768E, 1I, 1I, 1E, 7E]   \n"
     ]
    }
   ],
   "source": [
    "# We can see that the primary header has dimension (), son does not contain any data. \n",
    "# The data are in the extension.\n",
    "hdulist.info()"
   ]
  },
  {
   "cell_type": "code",
   "execution_count": 229,
   "metadata": {
    "collapsed": false
   },
   "outputs": [
    {
     "name": "stdout",
     "output_type": "stream",
     "text": [
      "('SIMPLE', True, 'Standard FITS Format')\n",
      "('BITPIX', 8, 'Binary data')\n",
      "('NAXIS', 0, 'Two-dimensional image')\n",
      "('EXTEND', True, 'Extensions are present')\n",
      "('TELESCOP', 'IUE', 'International Ultraviolet Explorer')\n"
     ]
    }
   ],
   "source": [
    "# The first header contains the minimal infirmation:\n",
    "print hdulist[0].header.cards[:5]"
   ]
  },
  {
   "cell_type": "code",
   "execution_count": 230,
   "metadata": {
    "collapsed": false
   },
   "outputs": [
    {
     "name": "stdout",
     "output_type": "stream",
     "text": [
      "('XTENSION', 'BINTABLE', 'Binary table extension')\n",
      "('BITPIX', 8, 'Binary data')\n",
      "('NAXIS', 2, 'Two-dimensional table array')\n",
      "('NAXIS1', 16961, 'Width of row in bytes')\n",
      "('NAXIS2', 60, 'Number of orders')\n"
     ]
    }
   ],
   "source": [
    "# The number of axis is 0 which means there is no data block in the primary HDU. \n",
    "# The header of the second HDU begins with the keyword XTENSION and with the specification of the data\n",
    "print hdulist[1].header.cards[:5]"
   ]
  },
  {
   "cell_type": "code",
   "execution_count": 231,
   "metadata": {
    "collapsed": false
   },
   "outputs": [],
   "source": [
    "# To progress further we need to know what is in the table. \n",
    "# As usual, the columns have names and type of the stored data. \n",
    "# These information can be obtained using the column attribute of hdulist:\n",
    "cols = hdulist[1].columns"
   ]
  },
  {
   "cell_type": "code",
   "execution_count": 232,
   "metadata": {
    "collapsed": false
   },
   "outputs": [
    {
     "data": {
      "text/plain": [
       "<bound method ColDefs.info of ColDefs(\n",
       "    name = 'ORDER'; format = '1B'\n",
       "    name = 'NPOINTS'; format = '1I'\n",
       "    name = 'WAVELENGTH'; format = '1D'; unit = 'ANGSTROM'\n",
       "    name = 'STARTPIX'; format = '1I'; unit = 'PIXEL'\n",
       "    name = 'DELTAW'; format = '1D'; unit = 'ANGSTROM'\n",
       "    name = 'SLIT HEIGHT'; format = '1E'; unit = 'PIXEL'\n",
       "    name = 'LINE_FOUND'; format = '1E'; unit = 'PIXEL'\n",
       "    name = 'NET'; format = '768E'; unit = 'FN'\n",
       "    name = 'BACKGROUND'; format = '768E'; unit = 'FN'\n",
       "    name = 'NOISE'; format = '768E'; unit = 'FN'\n",
       "    name = 'QUALITY'; format = '768I'\n",
       "    name = 'RIPPLE'; format = '768E'; unit = 'FN'\n",
       "    name = 'ABS_CAL'; format = '768E'; unit = 'ERG/CM2/S/A'\n",
       "    name = 'START-BKG'; format = '1I'; unit = 'PIXEL'\n",
       "    name = 'END-BKG'; format = '1I'; unit = 'PIXEL'\n",
       "    name = 'SCALE_BKG'; format = '1E'\n",
       "    name = 'COEFF'; format = '7E'\n",
       ")>"
      ]
     },
     "execution_count": 232,
     "metadata": {},
     "output_type": "execute_result"
    }
   ],
   "source": [
    "# the cols.info returns the names of the columns and the information of their format and units.\n",
    "cols.info"
   ]
  },
  {
   "cell_type": "code",
   "execution_count": 233,
   "metadata": {
    "collapsed": false
   },
   "outputs": [
    {
     "data": {
      "image/png": "[encoded data removed]",
      "text/plain": [
       "<matplotlib.figure.Figure at 0x10e391790>"
      ]
     },
     "metadata": {},
     "output_type": "display_data"
    }
   ],
   "source": [
    "# The data are available using (this example is NOT the right way of plotting the data, it's just an example) \n",
    "# and don't forget to import numpy as np to have np.arange working]:\n",
    "\n",
    "data1 = hdulist[1].data\n",
    "DTs =  data1.ABS_CAL\n",
    "WLs = data1.WAVELENGTH\n",
    "DWs = data1.DELTAW\n",
    "for WL, DW, DT in zip(WLs, DWs, DTs):\n",
    "    plt.plot(WL + np.arange(len(DT)) * DW, DT)"
   ]
  },
  {
   "cell_type": "markdown",
   "metadata": {},
   "source": [
    "### Writing FITS files"
   ]
  },
  {
   "cell_type": "code",
   "execution_count": 234,
   "metadata": {
    "collapsed": false
   },
   "outputs": [],
   "source": [
    "# Creation of numpy array with the data. \n",
    "x = np.arange(100)"
   ]
  },
  {
   "cell_type": "code",
   "execution_count": 235,
   "metadata": {
    "collapsed": false
   },
   "outputs": [
    {
     "name": "stdout",
     "output_type": "stream",
     "text": [
      "('SIMPLE', True, 'conforms to FITS standard')\n",
      "('BITPIX', 64, 'array data type')\n",
      "('NAXIS', 1, 'number of array dimensions')\n",
      "('NAXIS1', 100, '')\n",
      "('EXTEND', True, '')\n"
     ]
    }
   ],
   "source": [
    "# Creation of the HDU from the data. \n",
    "hdu = fits.PrimaryHDU(x)\n",
    "print hdu.header.cards"
   ]
  },
  {
   "cell_type": "code",
   "execution_count": 236,
   "metadata": {
    "collapsed": false
   },
   "outputs": [],
   "source": [
    "#Adding additional keywords to the header. \n",
    "# The automatically created header contains only the required minimum of keywords. \n",
    "# If additional keywords are needed they are added with:\n",
    "hdu.header['testkey'] = (0.001,'some test value')"
   ]
  },
  {
   "cell_type": "code",
   "execution_count": 237,
   "metadata": {
    "collapsed": false
   },
   "outputs": [
    {
     "name": "stdout",
     "output_type": "stream",
     "text": [
      "('SIMPLE', True, 'conforms to FITS standard')\n",
      "('BITPIX', 64, 'array data type')\n",
      "('NAXIS', 1, 'number of array dimensions')\n",
      "('NAXIS1', 100, '')\n",
      "('EXTEND', True, '')\n",
      "('TESTKEY', 0.001, 'some test value')\n"
     ]
    }
   ],
   "source": [
    "print hdu.header.cards"
   ]
  },
  {
   "cell_type": "code",
   "execution_count": 238,
   "metadata": {
    "collapsed": false
   },
   "outputs": [],
   "source": [
    "hdulist = fits.HDUList([hdu])\n",
    "hdulist.writeto('new.fits', clobber=True) # clobber is to overwrite is already exists\n",
    "hdulist.close()"
   ]
  },
  {
   "cell_type": "markdown",
   "metadata": {},
   "source": [
    "Another way to deal with FITS tables is to use the ATpy library, we'll see this later"
   ]
  }
 ],
 "metadata": {
  "kernelspec": {
   "display_name": "Python 2",
   "language": "python",
   "name": "python2"
  },
  "language_info": {
   "codemirror_mode": {
    "name": "ipython",
    "version": 2
   },
   "file_extension": ".py",
   "mimetype": "text/x-python",
   "name": "python",
   "nbconvert_exporter": "python",
   "pygments_lexer": "ipython2",
   "version": "2.7.11"
  }
 },
 "nbformat": 4,
 "nbformat_minor": 0
}
