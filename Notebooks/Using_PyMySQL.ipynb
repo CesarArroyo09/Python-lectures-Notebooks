{
 "cells": [
  {
   "cell_type": "code",
   "execution_count": 1,
   "metadata": {
    "collapsed": false
   },
   "outputs": [
    {
     "name": "stdout",
     "output_type": "stream",
     "text": [
      "Tue Jun 28 16:44:34 2016\n"
     ]
    }
   ],
   "source": [
    "# Just to know last time this was run:\n",
    "import time\n",
    "print time.ctime()"
   ]
  },
  {
   "cell_type": "markdown",
   "metadata": {},
   "source": [
    "# J Using PyMySQL to access MySQL databases"
   ]
  },
  {
   "cell_type": "markdown",
   "metadata": {},
   "source": [
    "This package contains a pure-Python MySQL client library. In this sense, it does not need to have access to mysql header or library, which is the case for the mysqldb package.\n",
    "The goal of PyMySQL is to be a drop-in replacement for MySQLdb and work on CPython, PyPy, IronPython and Jython."
   ]
  },
  {
   "cell_type": "markdown",
   "metadata": {},
   "source": [
    "It is installed with \"pip install pymysql\""
   ]
  },
  {
   "cell_type": "markdown",
   "metadata": {},
   "source": [
    "We first import the usual libraries"
   ]
  },
  {
   "cell_type": "code",
   "execution_count": 2,
   "metadata": {
    "collapsed": false
   },
   "outputs": [],
   "source": [
    "%matplotlib inline\n",
    "import numpy as np\n",
    "import matplotlib.pyplot as plt"
   ]
  },
  {
   "cell_type": "markdown",
   "metadata": {},
   "source": [
    "This is the import of the library used to connect to MySQl database"
   ]
  },
  {
   "cell_type": "code",
   "execution_count": 3,
   "metadata": {
    "collapsed": false
   },
   "outputs": [],
   "source": [
    "import pymysql"
   ]
  },
  {
   "cell_type": "markdown",
   "metadata": {},
   "source": [
    "First you need to connect to a database. In our example, we will use the 3MdB database, which needs a password. https://sites.google.com/site/mexicanmillionmodels/"
   ]
  },
  {
   "cell_type": "markdown",
   "metadata": {},
   "source": [
    "### Connect to the database"
   ]
  },
  {
   "cell_type": "code",
   "execution_count": 4,
   "metadata": {
    "collapsed": false
   },
   "outputs": [],
   "source": [
    "user_password = 'oiii5007' # ask me for the password :-)"
   ]
  },
  {
   "cell_type": "code",
   "execution_count": 5,
   "metadata": {
    "collapsed": false
   },
   "outputs": [],
   "source": [
    "# We create a connector to the database\n",
    "connector = pymysql.connect(host='132.248.1.102', port=3306, user='OVN_user', passwd=user_password, db='3MdB')"
   ]
  },
  {
   "cell_type": "markdown",
   "metadata": {},
   "source": [
    "### Use a cursor to send query and receive results"
   ]
  },
  {
   "cell_type": "code",
   "execution_count": 6,
   "metadata": {
    "collapsed": false
   },
   "outputs": [],
   "source": [
    "# The cursor is used to send and receive the quesries to the databse\n",
    "cur = connector.cursor()"
   ]
  },
  {
   "cell_type": "code",
   "execution_count": 7,
   "metadata": {
    "collapsed": false
   },
   "outputs": [
    {
     "data": {
      "text/plain": [
       "15"
      ]
     },
     "execution_count": 7,
     "metadata": {},
     "output_type": "execute_result"
    }
   ],
   "source": [
    "# Send the query to be executed. It returns the number of lines of the result\n",
    "cur.execute('select * from `lines` limit 15')"
   ]
  },
  {
   "cell_type": "code",
   "execution_count": 8,
   "metadata": {
    "collapsed": false
   },
   "outputs": [
    {
     "data": {
      "text/plain": [
       "((u'Nl', 8, None, 20, 20, 0, False),\n",
       " (u'label', 253, None, 15, 15, 0, True),\n",
       " (u'id', 253, None, 20, 20, 0, True),\n",
       " (u'lambda', 5, None, 22, 22, 31, True),\n",
       " (u'name', 253, None, 40, 40, 0, False),\n",
       " (u'used', 3, None, 2, 2, 0, True))"
      ]
     },
     "execution_count": 8,
     "metadata": {},
     "output_type": "execute_result"
    }
   ],
   "source": [
    "# get a description of the columns of the query results\n",
    "cur.description"
   ]
  },
  {
   "cell_type": "code",
   "execution_count": 9,
   "metadata": {
    "collapsed": false
   },
   "outputs": [],
   "source": [
    "# fech all the resulting data into a variable\n",
    "lines = cur.fetchall()"
   ]
  },
  {
   "cell_type": "code",
   "execution_count": 10,
   "metadata": {
    "collapsed": false
   },
   "outputs": [],
   "source": [
    "# close the cursor once used\n",
    "cur.close()"
   ]
  },
  {
   "cell_type": "code",
   "execution_count": 11,
   "metadata": {
    "collapsed": false
   },
   "outputs": [
    {
     "name": "stdout",
     "output_type": "stream",
     "text": [
      "((1, 'BAC___3646A', 'Bac ', 3646.0, 'BalmHead', 1), (2, 'COUT__3646A', 'cout', 3646.0, 'OutwardBalmPeak', 1), (3, 'CREF__3646A', 'cref', 3646.0, 'ReflectedBalmPeak', 1), (4, 'H__1__4861A', 'H  1', 4861.0, 'H I 4861', 1), (5, 'TOTL__4861A', 'TOTL', 4861.0, 'H I 4861', 1), (6, 'H__1__6563A', 'H  1', 6563.0, 'H I 6563', 1), (7, 'H__1__4340A', 'H  1', 4340.0, 'H I 4340', 1), (8, 'H__1__4102A', 'H  1', 4102.0, 'H I 4102', 1), (9, 'H__1__3970A', 'H  1', 3970.0, 'H I 3970', 1), (10, 'H__1__3835A', 'H  1', 3835.0, 'H I 3835', 1), (11, 'H__1__1216A', 'H  1', 1216.0, 'H I 1216', 1), (12, 'H__1_4051M', 'H  1', 4.051, 'H I 4.051m', 1), (13, 'H__1_2625M', 'H  1', 2.625, 'H I 2.625m', 1), (14, 'H__1_7458M', 'H  1', 7.458, 'H I 7.458m', 1), (15, 'HE_1__5876A', 'He 1', 5876.0, 'He I 5876', 1))\n"
     ]
    }
   ],
   "source": [
    "# the result is in a form of tuple of tuples\n",
    "print lines"
   ]
  },
  {
   "cell_type": "code",
   "execution_count": 12,
   "metadata": {
    "collapsed": false
   },
   "outputs": [
    {
     "name": "stdout",
     "output_type": "stream",
     "text": [
      "15\n",
      "(1, 'BAC___3646A', 'Bac ', 3646.0, 'BalmHead', 1)\n"
     ]
    }
   ],
   "source": [
    "# Each element of the first level tuple is a tuple corresponding to a row of the query results\n",
    "print len(lines)\n",
    "print lines[0]"
   ]
  },
  {
   "cell_type": "markdown",
   "metadata": {},
   "source": [
    "### Using a cursor that returns a dictionary"
   ]
  },
  {
   "cell_type": "code",
   "execution_count": null,
   "metadata": {
    "collapsed": false
   },
   "outputs": [],
   "source": [
    "cur_dic = connector.cursor(pymysql.cursors.DictCursor)"
   ]
  },
  {
   "cell_type": "code",
   "execution_count": null,
   "metadata": {
    "collapsed": false
   },
   "outputs": [],
   "source": [
    "cur_dic.execute('select * from `lines` limit 15')"
   ]
  },
  {
   "cell_type": "code",
   "execution_count": null,
   "metadata": {
    "collapsed": false
   },
   "outputs": [],
   "source": [
    "lines_dic = cur_dic.fetchall()"
   ]
  },
  {
   "cell_type": "code",
   "execution_count": null,
   "metadata": {
    "collapsed": false
   },
   "outputs": [],
   "source": [
    "print lines_dic"
   ]
  },
  {
   "cell_type": "code",
   "execution_count": null,
   "metadata": {
    "collapsed": false
   },
   "outputs": [],
   "source": [
    "# Each element of the table is a dictionary corresponding to a row od the query results\n",
    "print lines_dic[0]"
   ]
  },
  {
   "cell_type": "code",
   "execution_count": null,
   "metadata": {
    "collapsed": false
   },
   "outputs": [],
   "source": [
    "# One can easily create a new dictionary than hold the data in columns, better for plotting.\n",
    "new_dic = {k:np.array([d[k] for d in lines_dic]) for k in lines_dic[0].keys()}"
   ]
  },
  {
   "cell_type": "code",
   "execution_count": null,
   "metadata": {
    "collapsed": false
   },
   "outputs": [],
   "source": [
    "# The names of the columns are the names use in the database\n",
    "new_dic['lambda']"
   ]
  },
  {
   "cell_type": "code",
   "execution_count": null,
   "metadata": {
    "collapsed": false
   },
   "outputs": [],
   "source": [
    "# One can also transform the results into a numpy recarray.\n",
    "# First step: create a table from the dictionnary\n",
    "lines_tab = [e.values() for e in lines_dic]\n",
    "lines_tab"
   ]
  },
  {
   "cell_type": "code",
   "execution_count": null,
   "metadata": {
    "collapsed": false
   },
   "outputs": [],
   "source": [
    "# Second step: transform the table into a numpy recarray, using the names from the dictionnary\n",
    "res = np.rec.fromrecords(lines_tab, names = lines_dic[0].keys())"
   ]
  },
  {
   "cell_type": "code",
   "execution_count": null,
   "metadata": {
    "collapsed": false
   },
   "outputs": [],
   "source": [
    "res"
   ]
  },
  {
   "cell_type": "code",
   "execution_count": null,
   "metadata": {
    "collapsed": false
   },
   "outputs": [],
   "source": [
    "res['lambda']"
   ]
  },
  {
   "cell_type": "markdown",
   "metadata": {},
   "source": [
    "### Example of plotting the result of a query"
   ]
  },
  {
   "cell_type": "code",
   "execution_count": null,
   "metadata": {
    "collapsed": false
   },
   "outputs": [],
   "source": [
    "# Send the query\n",
    "N = cur_dic.execute('select O__3__5007A, N__2__6584A, H__1__6563A, oxygen from tab where ref = \"HII_CHIm\"')"
   ]
  },
  {
   "cell_type": "code",
   "execution_count": null,
   "metadata": {
    "collapsed": false
   },
   "outputs": [],
   "source": [
    "print N"
   ]
  },
  {
   "cell_type": "code",
   "execution_count": null,
   "metadata": {
    "collapsed": false
   },
   "outputs": [],
   "source": [
    "# obtain the results as a dictionnary\n",
    "res = cur_dic.fetchall()"
   ]
  },
  {
   "cell_type": "code",
   "execution_count": null,
   "metadata": {
    "collapsed": false
   },
   "outputs": [],
   "source": [
    "# transform the disctionary into a recarray\n",
    "data = np.rec.fromrecords([e.values() for e in res], names = res[0].keys())"
   ]
  },
  {
   "cell_type": "code",
   "execution_count": null,
   "metadata": {
    "collapsed": false
   },
   "outputs": [],
   "source": [
    "# check the data\n",
    "data"
   ]
  },
  {
   "cell_type": "code",
   "execution_count": null,
   "metadata": {
    "collapsed": false
   },
   "outputs": [],
   "source": [
    "data['O__3__5007A']"
   ]
  },
  {
   "cell_type": "code",
   "execution_count": null,
   "metadata": {
    "collapsed": false
   },
   "outputs": [],
   "source": [
    "# Plot the results, using a column as color code\n",
    "fig, ax = plt.subplots(figsize=(10,7))\n",
    "scat = ax.scatter(np.log10(data['O__3__5007A'] / data['H__1__6563A']), np.log10(data['N__2__6584A'] / data['H__1__6563A']), \n",
    "            c=data['oxygen'], edgecolor='none')\n",
    "fig.colorbar(scat)"
   ]
  },
  {
   "cell_type": "code",
   "execution_count": null,
   "metadata": {
    "collapsed": false
   },
   "outputs": [],
   "source": [
    "# Disconnect cursor and connector\n",
    "cur_dic.close()\n",
    "connector.close()"
   ]
  },
  {
   "cell_type": "markdown",
   "metadata": {
    "collapsed": false
   },
   "source": [
    "### Using pandas library"
   ]
  },
  {
   "cell_type": "code",
   "execution_count": 23,
   "metadata": {
    "collapsed": false
   },
   "outputs": [],
   "source": [
    "import pandas as pd \n",
    "import pymysql \n",
    "import matplotlib.pyplot as plt\n",
    "\n",
    "co = pymysql.connect(host='132.248.1.102', db='3MdB', user='OVN_user', passwd=user_password) # change for the right  passwd, just ask me for them!!! \n",
    "res = pd.read_sql(\"select log10(N__2__6584A/H__1__6563A) as n2, log10(O__3__5007A/H__1__4861A) as o3, OXYGEN as O from tab where ref = 'DIG_HR' AND N_zones < 150\", con=co) \n",
    "co.close() "
   ]
  },
  {
   "cell_type": "code",
   "execution_count": 24,
   "metadata": {
    "collapsed": false
   },
   "outputs": [
    {
     "name": "stdout",
     "output_type": "stream",
     "text": [
      "36193\n"
     ]
    }
   ],
   "source": [
    "print(len(res))"
   ]
  },
  {
   "cell_type": "code",
   "execution_count": 25,
   "metadata": {
    "collapsed": false
   },
   "outputs": [
    {
     "data": {
      "text/plain": [
       "<matplotlib.collections.PathCollection at 0x116665e10>"
      ]
     },
     "execution_count": 25,
     "metadata": {},
     "output_type": "execute_result"
    },
    {
     "data": {
      "image/png": "[encoded data removed]",
      "text/plain": [
       "<matplotlib.figure.Figure at 0x116a08290>"
      ]
     },
     "metadata": {},
     "output_type": "display_data"
    }
   ],
   "source": [
    "plt.scatter(res['n2'], res['o3'], c=res['O'], edgecolor='None') "
   ]
  },
  {
   "cell_type": "code",
   "execution_count": null,
   "metadata": {
    "collapsed": true
   },
   "outputs": [],
   "source": []
  }
 ],
 "metadata": {
  "kernelspec": {
   "display_name": "Python 2",
   "language": "python",
   "name": "python2"
  },
  "language_info": {
   "codemirror_mode": {
    "name": "ipython",
    "version": 2
   },
   "file_extension": ".py",
   "mimetype": "text/x-python",
   "name": "python",
   "nbconvert_exporter": "python",
   "pygments_lexer": "ipython2",
   "version": "2.7.11"
  }
 },
 "nbformat": 4,
 "nbformat_minor": 0
}
