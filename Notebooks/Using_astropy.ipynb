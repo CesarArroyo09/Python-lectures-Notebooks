{
 "cells": [
  {
   "cell_type": "code",
   "execution_count": 108,
   "metadata": {
    "collapsed": false
   },
   "outputs": [
    {
     "name": "stdout",
     "output_type": "stream",
     "text": [
      "Wed Sep 28 15:41:21 2016\n"
     ]
    }
   ],
   "source": [
    "# Just to know last time this was run:\n",
    "import time\n",
    "print time.ctime()"
   ]
  },
  {
   "cell_type": "markdown",
   "metadata": {},
   "source": [
    "# G The astropy package"
   ]
  },
  {
   "cell_type": "markdown",
   "metadata": {},
   "source": [
    "The Astropy Project is a community effort to develop a single core package for Astronomy in Python and foster interoperability between Python astronomy packages. More informations here: http://www.astropy.org/"
   ]
  },
  {
   "cell_type": "markdown",
   "metadata": {},
   "source": [
    "!!! WARNING !!!\n",
    "\n",
    "To install atpy, one must use the --no-deps option when using pip (otherwise updates of numpy may be performed):\n",
    "\n",
    "*pip install -U --no-deps astropy*"
   ]
  },
  {
   "cell_type": "code",
   "execution_count": 109,
   "metadata": {
    "collapsed": false
   },
   "outputs": [],
   "source": [
    "%matplotlib inline\n",
    "import numpy as np\n",
    "import matplotlib.pyplot as plt"
   ]
  },
  {
   "cell_type": "markdown",
   "metadata": {},
   "source": [
    "### Constants and Units"
   ]
  },
  {
   "cell_type": "code",
   "execution_count": 110,
   "metadata": {
    "collapsed": false
   },
   "outputs": [
    {
     "name": "stdout",
     "output_type": "stream",
     "text": [
      "Help on package astropy.constants in astropy:\n",
      "\n",
      "NAME\n",
      "    astropy.constants\n",
      "\n",
      "FILE\n",
      "    /Users/christophemorisset/anaconda/lib/python2.7/site-packages/astropy/constants/__init__.py\n",
      "\n",
      "DESCRIPTION\n",
      "    Contains astronomical and physical constants for use in Astropy or other\n",
      "    places.\n",
      "    \n",
      "    A typical use case might be::\n",
      "    \n",
      "        >>> from astropy.constants import c, m_e\n",
      "        >>> # ... define the mass of something you want the rest energy of as m ...\n",
      "        >>> m = m_e\n",
      "        >>> E = m * c**2\n",
      "        >>> E.to('MeV')  # doctest: +FLOAT_CMP\n",
      "        <Quantity 0.510998927603161 MeV>\n",
      "    \n",
      "    The following constants are available:\n",
      "    \n",
      "    ========== ============== ================ =========================\n",
      "       Name        Value            Unit       Description\n",
      "    ========== ============== ================ =========================\n",
      "        G       6.67384e-11     m3 / (kg s2)   Gravitational constant\n",
      "      L_bol0     3.0128e+28          W         Luminosity for absolute bolometric magnitude 0\n",
      "      L_sun      3.846e+26           W         Solar luminosity\n",
      "     M_earth     5.9742e+24          kg        Earth mass\n",
      "      M_jup      1.8987e+27          kg        Jupiter mass\n",
      "      M_sun      1.9891e+30          kg        Solar mass\n",
      "       N_A     6.02214129e+23    1 / (mol)     Avogadro's number\n",
      "        R        8.3144621      J / (K mol)    Gas constant\n",
      "     R_earth      6378136            m         Earth equatorial radius\n",
      "      R_jup       71492000           m         Jupiter equatorial radius\n",
      "      R_sun      695508000           m         Solar radius\n",
      "       Ryd       10973731.6       1 / (m)      Rydberg constant\n",
      "        a0     5.29177211e-11        m         Bohr radius\n",
      "      alpha    0.00729735257                   Fine-structure constant\n",
      "    atmosphere     101325            Pa        Atmosphere\n",
      "        au     1.49597871e+11        m         Astronomical Unit\n",
      "      b_wien    0.0028977721        m K        Wien wavelength displacement law constant\n",
      "        c        299792458        m / (s)      Speed of light in vacuum\n",
      "        e      1.60217657e-19        C         Electron charge\n",
      "       eps0    8.85418782e-12       F/m        Electric constant\n",
      "        g0        9.80665          m / s2      Standard acceleration of gravity\n",
      "        h      6.62606957e-34       J s        Planck constant\n",
      "       hbar    1.05457173e-34       J s        Reduced Planck constant\n",
      "       k_B     1.3806488e-23      J / (K)      Boltzmann constant\n",
      "       kpc     3.08567758e+19        m         Kiloparsec\n",
      "       m_e     9.10938291e-31        kg        Electron mass\n",
      "       m_n     1.67492735e-27        kg        Neutron mass\n",
      "       m_p     1.67262178e-27        kg        Proton mass\n",
      "       mu0     1.25663706e-06       N/A2       Magnetic constant\n",
      "       muB     9.27400968e-24       J/T        Bohr magneton\n",
      "        pc     3.08567758e+16        m         Parsec\n",
      "     sigma_T   6.65245873e-29        m2        Thomson scattering cross-section\n",
      "     sigma_sb   5.670373e-08    W / (K4 m2)    Stefan-Boltzmann constant\n",
      "        u      1.66053892e-27        kg        Atomic mass\n",
      "    ========== ============== ================ =========================\n",
      "\n",
      "PACKAGE CONTENTS\n",
      "    cgs\n",
      "    constant\n",
      "    setup_package\n",
      "    si\n",
      "    tests (package)\n",
      "\n",
      "DATA\n",
      "    G = <Constant name=u'Gravitational constant' value=6...-15 unit='m3 / ...\n",
      "    L_bol0 = <Constant name=u'Luminosity for absolute bolomet....0 unit='W...\n",
      "    L_sun = <Constant name=u'Solar luminosity' value=3.846e+...ence=u\"Alle...\n",
      "    M_earth = <Constant name=u'Earth mass' value=5.9742e+24 un...ence=u\"Al...\n",
      "    M_jup = <Constant name=u'Jupiter mass' value=1.8987e+27 ...ence=u\"Alle...\n",
      "    M_sun = <Constant name=u'Solar mass' value=1.9891e+30 un...ence=u\"Alle...\n",
      "    N_A = <Constant name=u\"Avogadro's number\" value=6.0221...=2.7e+16 unit...\n",
      "    R = <Constant name=u'Gas constant' value=8.3144621 u...e-06 unit='J / ...\n",
      "    R_earth = <Constant name=u'Earth equatorial radius' value=...ence=u\"Al...\n",
      "    R_jup = <Constant name=u'Jupiter equatorial radius' valu...ence=u\"Alle...\n",
      "    R_sun = <Constant name=u'Solar radius' value=695508000.0...ence=u\"Alle...\n",
      "    Ryd = <Constant name=u'Rydberg constant' value=1097373...ty=5.5e-05 un...\n",
      "    a0 = <Constant name=u'Bohr radius' value=5.2917721092...tainty=1.7e-20...\n",
      "    absolute_import = _Feature((2, 5, 0, 'alpha', 1), (3, 0, 0, 'alpha', 0...\n",
      "    alpha = <Constant name=u'Fine-structure constant' value=...rtainty=2.4...\n",
      "    atmosphere = <Constant name=u'Atmosphere' value=101325 uncertainty=0.0...\n",
      "    au = <Constant name=u'Astronomical Unit' value=1.4959...0.0 unit='m' r...\n",
      "    b_wien = <Constant name=u'Wien wavelength displacement la...inty=2.6e-...\n",
      "    c = <Constant name=u'Speed of light in vacuum' value...tainty=0.0 unit...\n",
      "    division = _Feature((2, 2, 0, 'alpha', 2), (3, 0, 0, 'alpha', 0), 8192...\n",
      "    e = <Constant name=u'Electron charge' value=1.602176...tainty=3.5e-27 ...\n",
      "    eps0 = <Constant name=u'Electric constant' value=8.8541...tainty=0.0 u...\n",
      "    g0 = <Constant name=u'Standard acceleration of gravit...ainty=0.0 unit...\n",
      "    h = <Constant name=u'Planck constant' value=6.626069...inty=2.9e-41 un...\n",
      "    hbar = <Constant name=u'Reduced Planck constant' value=...49334966e-42...\n",
      "    k_B = <Constant name=u'Boltzmann constant' value=1.380...ty=1.3e-29 un...\n",
      "    kpc = <Constant name=u'Kiloparsec' value=3.08567758147...tainty=0.0 un...\n",
      "    m_e = <Constant name=u'Electron mass' value=9.10938291...rtainty=4e-38...\n",
      "    m_n = <Constant name=u'Neutron mass' value=1.674927351...ainty=7.4e-35...\n",
      "    m_p = <Constant name=u'Proton mass' value=1.672621777e...ainty=7.4e-35...\n",
      "    mu0 = <Constant name=u'Magnetic constant' value=1.2566...ainty=0.0 uni...\n",
      "    muB = <Constant name=u'Bohr magneton' value=9.27400968...inty=2e-31 un...\n",
      "    pc = <Constant name=u'Parsec' value=3.08567758147e+16...tainty=0.0 uni...\n",
      "    print_function = _Feature((2, 6, 0, 'alpha', 2), (3, 0, 0, 'alpha', 0)...\n",
      "    sigma_T = <Constant name=u'Thomson scattering cross-sectio...ainty=1.3...\n",
      "    sigma_sb = <Constant name=u'Stefan-Boltzmann constant' valu...e-13 uni...\n",
      "    u = <Constant name=u'Atomic mass' value=1.660538921e...ainty=7.3e-35 u...\n",
      "    unicode_literals = _Feature((2, 6, 0, 'alpha', 2), (3, 0, 0, 'alpha', ...\n",
      "\n",
      "\n"
     ]
    }
   ],
   "source": [
    "from astropy import constants as const\n",
    "from astropy import units as u\n",
    "help(const)"
   ]
  },
  {
   "cell_type": "code",
   "execution_count": 111,
   "metadata": {
    "collapsed": false
   },
   "outputs": [
    {
     "name": "stdout",
     "output_type": "stream",
     "text": [
      "  Name   = Speed of light in vacuum\n",
      "  Value  = 299792458.0\n",
      "  Uncertainty  = 0.0\n",
      "  Unit  = m / s\n",
      "  Reference = CODATA 2010\n"
     ]
    }
   ],
   "source": [
    "# Pretty printing\n",
    "print const.c"
   ]
  },
  {
   "cell_type": "code",
   "execution_count": 112,
   "metadata": {
    "collapsed": false
   },
   "outputs": [
    {
     "name": "stdout",
     "output_type": "stream",
     "text": [
      "0.306601393788 pc / yr\n"
     ]
    }
   ],
   "source": [
    "# .to change the unit\n",
    "print const.c.to('pc/yr')"
   ]
  },
  {
   "cell_type": "code",
   "execution_count": 113,
   "metadata": {
    "collapsed": false
   },
   "outputs": [
    {
     "data": {
      "text/latex": [
       "$5.9958492 \\times 10^{8} \\; \\mathrm{\\frac{m}{s}}$"
      ],
      "text/plain": [
       "<Quantity 599584916.0 m / s>"
      ]
     },
     "execution_count": 113,
     "metadata": {},
     "output_type": "execute_result"
    }
   ],
   "source": [
    "# basic operations are managed\n",
    "const.c * 2"
   ]
  },
  {
   "cell_type": "code",
   "execution_count": 114,
   "metadata": {
    "collapsed": false
   },
   "outputs": [
    {
     "data": {
      "text/latex": [
       "$17314.516 \\; \\mathrm{\\frac{m^{1/2}}{s^{1/2}}}$"
      ],
      "text/plain": [
       "<Quantity 17314.51581766005 m(1/2) / s(1/2)>"
      ]
     },
     "execution_count": 114,
     "metadata": {},
     "output_type": "execute_result"
    }
   ],
   "source": [
    "np.sqrt(const.c)"
   ]
  },
  {
   "cell_type": "code",
   "execution_count": 115,
   "metadata": {
    "collapsed": false
   },
   "outputs": [
    {
     "name": "stdout",
     "output_type": "stream",
     "text": [
      "17314.5158177 m(1/2) / s(1/2)\n"
     ]
    }
   ],
   "source": [
    "print np.sqrt(const.c)"
   ]
  },
  {
   "cell_type": "code",
   "execution_count": 116,
   "metadata": {
    "collapsed": false
   },
   "outputs": [
    {
     "name": "stdout",
     "output_type": "stream",
     "text": [
      "8.22826558512e+21 kg m3 / (AU2 s2)\n"
     ]
    }
   ],
   "source": [
    "# Following the units\n",
    "F = (const.G * 3. * const.M_sun * 100 * u.kg) / (2.2 * u.au) ** 2\n",
    "print F"
   ]
  },
  {
   "cell_type": "code",
   "execution_count": 117,
   "metadata": {
    "collapsed": false
   },
   "outputs": [
    {
     "data": {
      "text/latex": [
       "$8.2282656 \\times 10^{21} \\; \\mathrm{\\frac{m^{3}\\,kg}{AU^{2}\\,s^{2}}}$"
      ],
      "text/plain": [
       "<Quantity 8.228265585123966e+21 kg m3 / (AU2 s2)>"
      ]
     },
     "execution_count": 117,
     "metadata": {},
     "output_type": "execute_result"
    }
   ],
   "source": [
    "F"
   ]
  },
  {
   "cell_type": "code",
   "execution_count": 118,
   "metadata": {
    "collapsed": false
   },
   "outputs": [
    {
     "name": "stdout",
     "output_type": "stream",
     "text": [
      "0.367669392028 N\n"
     ]
    }
   ],
   "source": [
    "# Convert in more classical unit\n",
    "print F.to(u.N)"
   ]
  },
  {
   "cell_type": "code",
   "execution_count": 119,
   "metadata": {
    "collapsed": false
   },
   "outputs": [],
   "source": [
    "q = 42.0 * u.meter"
   ]
  },
  {
   "cell_type": "code",
   "execution_count": 120,
   "metadata": {
    "collapsed": false
   },
   "outputs": [
    {
     "data": {
      "text/latex": [
       "$1764 \\; \\mathrm{m^{2}}$"
      ],
      "text/plain": [
       "<Quantity 1764.0 m2>"
      ]
     },
     "execution_count": 120,
     "metadata": {},
     "output_type": "execute_result"
    }
   ],
   "source": [
    "q**2"
   ]
  },
  {
   "cell_type": "code",
   "execution_count": 121,
   "metadata": {
    "collapsed": false
   },
   "outputs": [
    {
     "data": {
      "text/plain": [
       "1764.0"
      ]
     },
     "execution_count": 121,
     "metadata": {},
     "output_type": "execute_result"
    }
   ],
   "source": [
    "# Extract only the value\n",
    "(q**2).value"
   ]
  },
  {
   "cell_type": "code",
   "execution_count": 122,
   "metadata": {
    "collapsed": false
   },
   "outputs": [
    {
     "name": "stdout",
     "output_type": "stream",
     "text": [
      "0.0229867443108 km s / m\n",
      "22.9867443108 s\n"
     ]
    }
   ],
   "source": [
    "# Resolving redondant units\n",
    "t = 3.0 * u.kilometer / (130.51 * u.meter / u.second)\n",
    "print t\n",
    "print t.decompose()"
   ]
  },
  {
   "cell_type": "code",
   "execution_count": 123,
   "metadata": {
    "collapsed": false
   },
   "outputs": [
    {
     "name": "stdout",
     "output_type": "stream",
     "text": [
      "3.08567758147e+13 km\n"
     ]
    }
   ],
   "source": [
    "x = 1.0 * u.parsec\n",
    "print x.to(u.km)"
   ]
  },
  {
   "cell_type": "code",
   "execution_count": 124,
   "metadata": {
    "collapsed": false
   },
   "outputs": [],
   "source": [
    "lam = 5007 * u.angstrom"
   ]
  },
  {
   "cell_type": "code",
   "execution_count": 125,
   "metadata": {
    "collapsed": false
   },
   "outputs": [
    {
     "name": "stdout",
     "output_type": "stream",
     "text": [
      "500.7 nm\n",
      "0.5007 micron\n"
     ]
    }
   ],
   "source": [
    "print lam.to(u.nm)\n",
    "print lam.to(u.micron)"
   ]
  },
  {
   "cell_type": "code",
   "execution_count": 126,
   "metadata": {
    "collapsed": false
   },
   "outputs": [
    {
     "name": "stdout",
     "output_type": "stream",
     "text": [
      "2.47621715438 eV\n"
     ]
    }
   ],
   "source": [
    "# Some transformations needs extra information, available from u.special\n",
    "print lam.to(u.eV, equivalencies=u.spectral())"
   ]
  },
  {
   "cell_type": "markdown",
   "metadata": {},
   "source": [
    "More in http://docs.astropy.org/en/stable/units/index.html"
   ]
  },
  {
   "cell_type": "markdown",
   "metadata": {},
   "source": [
    "### Data Table"
   ]
  },
  {
   "cell_type": "markdown",
   "metadata": {},
   "source": [
    "http://docs.astropy.org/en/stable/table/index.html"
   ]
  },
  {
   "cell_type": "code",
   "execution_count": 127,
   "metadata": {
    "collapsed": false
   },
   "outputs": [],
   "source": [
    "from astropy.table import Table"
   ]
  },
  {
   "cell_type": "code",
   "execution_count": 128,
   "metadata": {
    "collapsed": false
   },
   "outputs": [
    {
     "name": "stdout",
     "output_type": "stream",
     "text": [
      " a   b   c \n",
      "--- --- ---\n",
      "  1 2.0   x\n",
      "  4 5.0   y\n",
      "  5 8.2   z\n"
     ]
    }
   ],
   "source": [
    "# create a table with non homogeneous types\n",
    "a = [1, 4, 5]\n",
    "b = [2.0, 5.0, 8.2]\n",
    "c = ['x', 'y', 'z']\n",
    "t = Table([a, b, c], names=('a', 'b', 'c'), meta={'name': 'first table'})\n",
    "print t"
   ]
  },
  {
   "cell_type": "code",
   "execution_count": 129,
   "metadata": {
    "collapsed": false
   },
   "outputs": [
    {
     "data": {
      "text/html": [
       "&lt;Table length=3&gt;\n",
       "<table id=\"table4599602000\" class=\"table-striped table-bordered table-condensed\">\n",
       "<thead><tr><th>a</th><th>b</th><th>c</th></tr></thead>\n",
       "<thead><tr><th>int64</th><th>float64</th><th>str1</th></tr></thead>\n",
       "<tr><td>1</td><td>2.0</td><td>x</td></tr>\n",
       "<tr><td>4</td><td>5.0</td><td>y</td></tr>\n",
       "<tr><td>5</td><td>8.2</td><td>z</td></tr>\n",
       "</table>"
      ],
      "text/plain": [
       "<Table length=3>\n",
       "  a      b     c  \n",
       "int64 float64 str1\n",
       "----- ------- ----\n",
       "    1     2.0    x\n",
       "    4     5.0    y\n",
       "    5     8.2    z"
      ]
     },
     "execution_count": 129,
     "metadata": {},
     "output_type": "execute_result"
    }
   ],
   "source": [
    "# Pretty output\n",
    "t"
   ]
  },
  {
   "cell_type": "code",
   "execution_count": 130,
   "metadata": {
    "collapsed": false
   },
   "outputs": [
    {
     "data": {
      "text/html": [
       "&lt;Table length=3&gt;\n",
       "<table id=\"table4599602000\" class=\"table-striped table-bordered table-condensed\">\n",
       "<thead><tr><th>a</th><th>b</th><th>c</th></tr></thead>\n",
       "<thead><tr><th></th><th>s</th><th></th></tr></thead>\n",
       "<thead><tr><th>int64</th><th>float64</th><th>str1</th></tr></thead>\n",
       "<tr><td>1.0000</td><td>2.000</td><td>x</td></tr>\n",
       "<tr><td>4.0000</td><td>5.000</td><td>y</td></tr>\n",
       "<tr><td>5.0000</td><td>8.200</td><td>z</td></tr>\n",
       "</table>"
      ],
      "text/plain": [
       "<Table length=3>\n",
       "  a       b     c  \n",
       "          s        \n",
       "int64  float64 str1\n",
       "------ ------- ----\n",
       "1.0000   2.000    x\n",
       "4.0000   5.000    y\n",
       "5.0000   8.200    z"
      ]
     },
     "execution_count": 130,
     "metadata": {},
     "output_type": "execute_result"
    }
   ],
   "source": [
    "# One can change the output format\n",
    "t['b'].format = '7.3f'\n",
    "t['a'].format = '{:.4f}'\n",
    "# and add units\n",
    "t['b'].unit = 's'\n",
    "t"
   ]
  },
  {
   "cell_type": "code",
   "execution_count": 131,
   "metadata": {
    "collapsed": false
   },
   "outputs": [],
   "source": [
    "t.show_in_browser(jsviewer=True)"
   ]
  },
  {
   "cell_type": "code",
   "execution_count": 132,
   "metadata": {
    "collapsed": false
   },
   "outputs": [
    {
     "data": {
      "text/plain": [
       "['a', 'b', 'c']"
      ]
     },
     "execution_count": 132,
     "metadata": {},
     "output_type": "execute_result"
    }
   ],
   "source": [
    "# access the column names\n",
    "t.colnames"
   ]
  },
  {
   "cell_type": "code",
   "execution_count": 133,
   "metadata": {
    "collapsed": false
   },
   "outputs": [
    {
     "data": {
      "text/plain": [
       "3"
      ]
     },
     "execution_count": 133,
     "metadata": {},
     "output_type": "execute_result"
    }
   ],
   "source": [
    "# length of the table (number of rows)\n",
    "len(t)"
   ]
  },
  {
   "cell_type": "code",
   "execution_count": 134,
   "metadata": {
    "collapsed": false
   },
   "outputs": [
    {
     "data": {
      "text/plain": [
       "4"
      ]
     },
     "execution_count": 134,
     "metadata": {},
     "output_type": "execute_result"
    }
   ],
   "source": [
    "# Acces one element\n",
    "t['a'][1]"
   ]
  },
  {
   "cell_type": "code",
   "execution_count": 135,
   "metadata": {
    "collapsed": false
   },
   "outputs": [
    {
     "data": {
      "text/html": [
       "&lt;Table length=3&gt;\n",
       "<table id=\"table4599602000\" class=\"table-striped table-bordered table-condensed\">\n",
       "<thead><tr><th>a</th><th>b</th><th>c</th></tr></thead>\n",
       "<thead><tr><th></th><th>s</th><th></th></tr></thead>\n",
       "<thead><tr><th>int64</th><th>float64</th><th>str1</th></tr></thead>\n",
       "<tr><td>1.0000</td><td>2.000</td><td>x</td></tr>\n",
       "<tr><td>10.0000</td><td>5.000</td><td>y</td></tr>\n",
       "<tr><td>5.0000</td><td>8.200</td><td>z</td></tr>\n",
       "</table>"
      ],
      "text/plain": [
       "<Table length=3>\n",
       "   a       b     c  \n",
       "           s        \n",
       " int64  float64 str1\n",
       "------- ------- ----\n",
       " 1.0000   2.000    x\n",
       "10.0000   5.000    y\n",
       " 5.0000   8.200    z"
      ]
     },
     "execution_count": 135,
     "metadata": {},
     "output_type": "execute_result"
    }
   ],
   "source": [
    "# Modify one element\n",
    "t['a'][1] = 10\n",
    "t"
   ]
  },
  {
   "cell_type": "code",
   "execution_count": 136,
   "metadata": {
    "collapsed": false
   },
   "outputs": [],
   "source": [
    "# easy add column:\n",
    "t['d'] = [1, 2, 3]"
   ]
  },
  {
   "cell_type": "code",
   "execution_count": 137,
   "metadata": {
    "collapsed": false
   },
   "outputs": [
    {
     "data": {
      "text/html": [
       "&lt;Table length=3&gt;\n",
       "<table id=\"table4599602000\" class=\"table-striped table-bordered table-condensed\">\n",
       "<thead><tr><th>a</th><th>b</th><th>c</th><th>d</th></tr></thead>\n",
       "<thead><tr><th></th><th>s</th><th></th><th></th></tr></thead>\n",
       "<thead><tr><th>int64</th><th>float64</th><th>str1</th><th>int64</th></tr></thead>\n",
       "<tr><td>1.0000</td><td>2.000</td><td>x</td><td>1</td></tr>\n",
       "<tr><td>10.0000</td><td>5.000</td><td>y</td><td>2</td></tr>\n",
       "<tr><td>5.0000</td><td>8.200</td><td>z</td><td>3</td></tr>\n",
       "</table>"
      ],
      "text/plain": [
       "<Table length=3>\n",
       "   a       b     c     d  \n",
       "           s              \n",
       " int64  float64 str1 int64\n",
       "------- ------- ---- -----\n",
       " 1.0000   2.000    x     1\n",
       "10.0000   5.000    y     2\n",
       " 5.0000   8.200    z     3"
      ]
     },
     "execution_count": 137,
     "metadata": {},
     "output_type": "execute_result"
    }
   ],
   "source": [
    "t"
   ]
  },
  {
   "cell_type": "code",
   "execution_count": 138,
   "metadata": {
    "collapsed": false
   },
   "outputs": [
    {
     "data": {
      "text/html": [
       "&lt;Table length=3&gt;\n",
       "<table id=\"table4599602000\" class=\"table-striped table-bordered table-condensed\">\n",
       "<thead><tr><th>A</th><th>b</th><th>c</th><th>d</th></tr></thead>\n",
       "<thead><tr><th></th><th>s</th><th></th><th></th></tr></thead>\n",
       "<thead><tr><th>int64</th><th>float64</th><th>str1</th><th>int64</th></tr></thead>\n",
       "<tr><td>1.0000</td><td>2.000</td><td>x</td><td>1</td></tr>\n",
       "<tr><td>10.0000</td><td>5.000</td><td>y</td><td>2</td></tr>\n",
       "<tr><td>5.0000</td><td>8.200</td><td>z</td><td>3</td></tr>\n",
       "</table>"
      ],
      "text/plain": [
       "<Table length=3>\n",
       "   A       b     c     d  \n",
       "           s              \n",
       " int64  float64 str1 int64\n",
       "------- ------- ---- -----\n",
       " 1.0000   2.000    x     1\n",
       "10.0000   5.000    y     2\n",
       " 5.0000   8.200    z     3"
      ]
     },
     "execution_count": 138,
     "metadata": {},
     "output_type": "execute_result"
    }
   ],
   "source": [
    "t.rename_column('a', 'A')\n",
    "t"
   ]
  },
  {
   "cell_type": "code",
   "execution_count": 139,
   "metadata": {
    "collapsed": false
   },
   "outputs": [
    {
     "data": {
      "text/html": [
       "&lt;Table length=4&gt;\n",
       "<table id=\"table4599602000\" class=\"table-striped table-bordered table-condensed\">\n",
       "<thead><tr><th>A</th><th>b</th><th>c</th><th>d</th></tr></thead>\n",
       "<thead><tr><th></th><th>s</th><th></th><th></th></tr></thead>\n",
       "<thead><tr><th>int64</th><th>float64</th><th>str1</th><th>int64</th></tr></thead>\n",
       "<tr><td>1.0000</td><td>2.000</td><td>x</td><td>1</td></tr>\n",
       "<tr><td>10.0000</td><td>5.000</td><td>y</td><td>2</td></tr>\n",
       "<tr><td>5.0000</td><td>8.200</td><td>z</td><td>3</td></tr>\n",
       "<tr><td>-8.0000</td><td>-9.000</td><td>r</td><td>10</td></tr>\n",
       "</table>"
      ],
      "text/plain": [
       "<Table length=4>\n",
       "   A       b     c     d  \n",
       "           s              \n",
       " int64  float64 str1 int64\n",
       "------- ------- ---- -----\n",
       " 1.0000   2.000    x     1\n",
       "10.0000   5.000    y     2\n",
       " 5.0000   8.200    z     3\n",
       "-8.0000  -9.000    r    10"
      ]
     },
     "execution_count": 139,
     "metadata": {},
     "output_type": "execute_result"
    }
   ],
   "source": [
    "t.add_row([-8, -9, 'r', 10])\n",
    "t"
   ]
  },
  {
   "cell_type": "code",
   "execution_count": 140,
   "metadata": {
    "collapsed": false
   },
   "outputs": [
    {
     "data": {
      "text/html": [
       "&lt;Table length=5&gt;\n",
       "<table id=\"table4599602000\" class=\"table-striped table-bordered table-condensed\">\n",
       "<thead><tr><th>A</th><th>b</th><th>c</th><th>d</th></tr></thead>\n",
       "<thead><tr><th></th><th>s</th><th></th><th></th></tr></thead>\n",
       "<thead><tr><th>int64</th><th>float64</th><th>str1</th><th>int64</th></tr></thead>\n",
       "<tr><td>1.0000</td><td>2.000</td><td>x</td><td>1</td></tr>\n",
       "<tr><td>10.0000</td><td>5.000</td><td>y</td><td>2</td></tr>\n",
       "<tr><td>5.0000</td><td>8.200</td><td>z</td><td>3</td></tr>\n",
       "<tr><td>-8.0000</td><td>-9.000</td><td>r</td><td>10</td></tr>\n",
       "<tr><td>-9.0000</td><td>40.000</td><td>q</td><td>10</td></tr>\n",
       "</table>"
      ],
      "text/plain": [
       "<Table length=5>\n",
       "   A       b     c     d  \n",
       "           s              \n",
       " int64  float64 str1 int64\n",
       "------- ------- ---- -----\n",
       " 1.0000   2.000    x     1\n",
       "10.0000   5.000    y     2\n",
       " 5.0000   8.200    z     3\n",
       "-8.0000  -9.000    r    10\n",
       "-9.0000  40.000    q    10"
      ]
     },
     "execution_count": 140,
     "metadata": {},
     "output_type": "execute_result"
    }
   ],
   "source": [
    "t.add_row([-9, 40, 'q', 10])\n",
    "t"
   ]
  },
  {
   "cell_type": "code",
   "execution_count": 141,
   "metadata": {
    "collapsed": false
   },
   "outputs": [
    {
     "data": {
      "text/html": [
       "&lt;Table masked=True length=3&gt;\n",
       "<table id=\"table4599602384\" class=\"table-striped table-bordered table-condensed\">\n",
       "<thead><tr><th>a</th><th>b</th><th>c</th></tr></thead>\n",
       "<thead><tr><th>int64</th><th>float64</th><th>str1</th></tr></thead>\n",
       "<tr><td>--</td><td>2.0</td><td>x</td></tr>\n",
       "<tr><td>--</td><td>5.0</td><td>y</td></tr>\n",
       "<tr><td>5</td><td>8.2</td><td>z</td></tr>\n",
       "</table>"
      ],
      "text/plain": [
       "<Table masked=True length=3>\n",
       "  a      b     c  \n",
       "int64 float64 str1\n",
       "----- ------- ----\n",
       "   --     2.0    x\n",
       "   --     5.0    y\n",
       "    5     8.2    z"
      ]
     },
     "execution_count": 141,
     "metadata": {},
     "output_type": "execute_result"
    }
   ],
   "source": [
    "# Masked values\n",
    "t = Table([a, b, c], names=('a', 'b', 'c'), masked=True)\n",
    "t['a'].mask = [True, True, False] # True is for the masked values!!\n",
    "t"
   ]
  },
  {
   "cell_type": "code",
   "execution_count": 142,
   "metadata": {
    "collapsed": false
   },
   "outputs": [
    {
     "data": {
      "text/html": [
       "&lt;Table masked=True length=3&gt;\n",
       "<table id=\"table4571953168\" class=\"table-striped table-bordered table-condensed\">\n",
       "<thead><tr><th>a</th><th>b</th></tr></thead>\n",
       "<thead><tr><th>int64</th><th>float64</th></tr></thead>\n",
       "<tr><td>--</td><td>4.0</td></tr>\n",
       "<tr><td>--</td><td>25.0</td></tr>\n",
       "<tr><td>25</td><td>67.24</td></tr>\n",
       "</table>"
      ],
      "text/plain": [
       "<Table masked=True length=3>\n",
       "  a      b   \n",
       "int64 float64\n",
       "----- -------\n",
       "   --     4.0\n",
       "   --    25.0\n",
       "   25   67.24"
      ]
     },
     "execution_count": 142,
     "metadata": {},
     "output_type": "execute_result"
    }
   ],
   "source": [
    "# Creat a table from a table\n",
    "t2 = Table([t['a']**2, t['b']**2])\n",
    "t2"
   ]
  },
  {
   "cell_type": "code",
   "execution_count": 143,
   "metadata": {
    "collapsed": false
   },
   "outputs": [],
   "source": [
    "# Managing columns\n",
    "from astropy.table import Column"
   ]
  },
  {
   "cell_type": "code",
   "execution_count": 144,
   "metadata": {
    "collapsed": false
   },
   "outputs": [
    {
     "data": {
      "text/html": [
       "&lt;Table length=2&gt;\n",
       "<table id=\"table4598956752\" class=\"table-striped table-bordered table-condensed\">\n",
       "<thead><tr><th>col0</th><th>col1 [2]</th><th>axis</th></tr></thead>\n",
       "<thead><tr><th>int64</th><th>int64</th><th>str1</th></tr></thead>\n",
       "<tr><td>1</td><td>2 .. 3</td><td>x</td></tr>\n",
       "<tr><td>4</td><td>5 .. 6</td><td>y</td></tr>\n",
       "</table>"
      ],
      "text/plain": [
       "<Table length=2>\n",
       " col0 col1 [2] axis\n",
       "int64  int64   str1\n",
       "----- -------- ----\n",
       "    1   2 .. 3    x\n",
       "    4   5 .. 6    y"
      ]
     },
     "execution_count": 144,
     "metadata": {},
     "output_type": "execute_result"
    }
   ],
   "source": [
    "# Create a table combining different formats\n",
    "a = (1, 4)\n",
    "b = np.array([[2, 3], [5, 6]])  # vector column\n",
    "c = Column(['x', 'y'], name='axis')\n",
    "arr = (a, b, c)\n",
    "t3 = Table(arr)  # Data column named \"c\" has a name \"axis\" in that table\n",
    "t3"
   ]
  },
  {
   "cell_type": "code",
   "execution_count": 145,
   "metadata": {
    "collapsed": false
   },
   "outputs": [
    {
     "data": {
      "text/html": [
       "&lt;Table length=2&gt;\n",
       "<table id=\"table4599746896\" class=\"table-striped table-bordered table-condensed\">\n",
       "<thead><tr><th>a</th><th>c</th><th>b</th></tr></thead>\n",
       "<thead><tr><th>int64</th><th>str1</th><th>float64</th></tr></thead>\n",
       "<tr><td>1</td><td>x</td><td>2.0</td></tr>\n",
       "<tr><td>4</td><td>y</td><td>5.0</td></tr>\n",
       "</table>"
      ],
      "text/plain": [
       "<Table length=2>\n",
       "  a    c      b   \n",
       "int64 str1 float64\n",
       "----- ---- -------\n",
       "    1    x     2.0\n",
       "    4    y     5.0"
      ]
     },
     "execution_count": 145,
     "metadata": {},
     "output_type": "execute_result"
    }
   ],
   "source": [
    "# table from a dictionnary\n",
    "rr = {'a': [1, 4],\n",
    "      'b': [2.0, 5.0],\n",
    "      'c': ['x', 'y']}\n",
    "t4 = Table(rr, names=('a', 'c', 'b'))\n",
    "t4"
   ]
  },
  {
   "cell_type": "code",
   "execution_count": 146,
   "metadata": {
    "collapsed": false
   },
   "outputs": [
    {
     "data": {
      "text/html": [
       "&lt;Table length=2&gt;\n",
       "<table id=\"table4599602448\" class=\"table-striped table-bordered table-condensed\">\n",
       "<thead><tr><th>a</th><th>b</th></tr></thead>\n",
       "<thead><tr><th>int64</th><th>int64</th></tr></thead>\n",
       "<tr><td>5</td><td>10</td></tr>\n",
       "<tr><td>15</td><td>30</td></tr>\n",
       "</table>"
      ],
      "text/plain": [
       "<Table length=2>\n",
       "  a     b  \n",
       "int64 int64\n",
       "----- -----\n",
       "    5    10\n",
       "   15    30"
      ]
     },
     "execution_count": 146,
     "metadata": {},
     "output_type": "execute_result"
    }
   ],
   "source": [
    "# Create table row by row\n",
    "t5 = Table(rows=[{'a': 5, 'b': 10}, {'a': 15, 'b': 30}])\n",
    "t5"
   ]
  },
  {
   "cell_type": "code",
   "execution_count": 147,
   "metadata": {
    "collapsed": false
   },
   "outputs": [
    {
     "data": {
      "text/html": [
       "&lt;Table length=2&gt;\n",
       "<table id=\"table4599748176\" class=\"table-striped table-bordered table-condensed\">\n",
       "<thead><tr><th>a</th><th>b</th><th>c</th></tr></thead>\n",
       "<thead><tr><th>int64</th><th>float64</th><th>str2</th></tr></thead>\n",
       "<tr><td>1</td><td>2.0</td><td>x</td></tr>\n",
       "<tr><td>4</td><td>5.0</td><td>y</td></tr>\n",
       "</table>"
      ],
      "text/plain": [
       "<Table length=2>\n",
       "  a      b     c  \n",
       "int64 float64 str2\n",
       "----- ------- ----\n",
       "    1     2.0    x\n",
       "    4     5.0    y"
      ]
     },
     "execution_count": 147,
     "metadata": {},
     "output_type": "execute_result"
    }
   ],
   "source": [
    "# Numpy structured array\n",
    "arr = np.array([(1, 2.0, 'x'),\n",
    "                (4, 5.0, 'y')],\n",
    "               dtype=[('a', 'i8'), ('b', 'f8'), ('c', 'S2')])\n",
    "t6 = Table(arr)\n",
    "t6"
   ]
  },
  {
   "cell_type": "markdown",
   "metadata": {},
   "source": [
    "Python arrays versus `numpy` arrays as input\n",
    "\n",
    "There is a slightly subtle issue that is important to understand in the way that Table objects are created. Any data input that looks like a Python list (including a tuple) is considered to be a list of columns. In contrast an homogeneous numpy array input is interpreted as a list of rows:"
   ]
  },
  {
   "cell_type": "code",
   "execution_count": 148,
   "metadata": {
    "collapsed": false
   },
   "outputs": [
    {
     "name": "stdout",
     "output_type": "stream",
     "text": [
      "[(99, 2.0, 'x') (4, 5.0, 'y')]\n",
      " a   b   c \n",
      "--- --- ---\n",
      " 99 2.0   x\n",
      "  4 5.0   y\n"
     ]
    }
   ],
   "source": [
    "arr = np.array([(1, 2.0, 'x'),\n",
    "                (4, 5.0, 'y')],\n",
    "               dtype=[('a', 'i8'), ('b', 'f8'), ('c', 'S2')])\n",
    "t6 = Table(arr, copy=False) # pointing to the original data\n",
    "arr['a'][0] = 99\n",
    "print arr\n",
    "print t6"
   ]
  },
  {
   "cell_type": "code",
   "execution_count": 149,
   "metadata": {
    "collapsed": false
   },
   "outputs": [
    {
     "data": {
      "text/plain": [
       "TableColumns([('a', <Column name='a' dtype='int64' length=2>\n",
       "               99\n",
       "                4), ('b', <Column name='b' dtype='float64' length=2>\n",
       "               2.0\n",
       "               5.0), ('c', <Column name='c' dtype='str2' length=2>\n",
       "               x\n",
       "               y)])"
      ]
     },
     "execution_count": 149,
     "metadata": {},
     "output_type": "execute_result"
    }
   ],
   "source": [
    "t6.columns"
   ]
  },
  {
   "cell_type": "code",
   "execution_count": 150,
   "metadata": {
    "collapsed": false
   },
   "outputs": [
    {
     "data": {
      "text/plain": [
       "['a', 'b', 'c']"
      ]
     },
     "execution_count": 150,
     "metadata": {},
     "output_type": "execute_result"
    }
   ],
   "source": [
    "t6.colnames"
   ]
  },
  {
   "cell_type": "code",
   "execution_count": 151,
   "metadata": {
    "collapsed": false
   },
   "outputs": [
    {
     "data": {
      "text/plain": [
       "array([(99, 2.0, 'x'), (4, 5.0, 'y')], \n",
       "      dtype=[('a', '<i8'), ('b', '<f8'), ('c', 'S2')])"
      ]
     },
     "execution_count": 151,
     "metadata": {},
     "output_type": "execute_result"
    }
   ],
   "source": [
    "# One can obtain a numpy structured array from a Table\n",
    "np.array(t6)"
   ]
  },
  {
   "cell_type": "code",
   "execution_count": 152,
   "metadata": {
    "collapsed": false
   },
   "outputs": [
    {
     "name": "stdout",
     "output_type": "stream",
     "text": [
      "col0 col1 col2 col3 col4 col5 col6 ... col23 col24 col25 col26 col27 col28 col29\n",
      "---- ---- ---- ---- ---- ---- ---- ... ----- ----- ----- ----- ----- ----- -----\n",
      "   0    1    2    3    4    5    6 ...    23    24    25    26    27    28    29\n",
      "  30   31   32   33   34   35   36 ...    53    54    55    56    57    58    59\n",
      "  60   61   62   63   64   65   66 ...    83    84    85    86    87    88    89\n",
      "  90   91   92   93   94   95   96 ...   113   114   115   116   117   118   119\n",
      " 120  121  122  123  124  125  126 ...   143   144   145   146   147   148   149\n",
      " 150  151  152  153  154  155  156 ...   173   174   175   176   177   178   179\n",
      " 180  181  182  183  184  185  186 ...   203   204   205   206   207   208   209\n",
      " 210  211  212  213  214  215  216 ...   233   234   235   236   237   238   239\n",
      " 240  241  242  243  244  245  246 ...   263   264   265   266   267   268   269\n",
      " 270  271  272  273  274  275  276 ...   293   294   295   296   297   298   299\n",
      " ...  ...  ...  ...  ...  ...  ... ...   ...   ...   ...   ...   ...   ...   ...\n",
      "2670 2671 2672 2673 2674 2675 2676 ...  2693  2694  2695  2696  2697  2698  2699\n",
      "2700 2701 2702 2703 2704 2705 2706 ...  2723  2724  2725  2726  2727  2728  2729\n",
      "2730 2731 2732 2733 2734 2735 2736 ...  2753  2754  2755  2756  2757  2758  2759\n",
      "2760 2761 2762 2763 2764 2765 2766 ...  2783  2784  2785  2786  2787  2788  2789\n",
      "2790 2791 2792 2793 2794 2795 2796 ...  2813  2814  2815  2816  2817  2818  2819\n",
      "2820 2821 2822 2823 2824 2825 2826 ...  2843  2844  2845  2846  2847  2848  2849\n",
      "2850 2851 2852 2853 2854 2855 2856 ...  2873  2874  2875  2876  2877  2878  2879\n",
      "2880 2881 2882 2883 2884 2885 2886 ...  2903  2904  2905  2906  2907  2908  2909\n",
      "2910 2911 2912 2913 2914 2915 2916 ...  2933  2934  2935  2936  2937  2938  2939\n",
      "2940 2941 2942 2943 2944 2945 2946 ...  2963  2964  2965  2966  2967  2968  2969\n",
      "2970 2971 2972 2973 2974 2975 2976 ...  2993  2994  2995  2996  2997  2998  2999\n",
      "Length = 100 rows\n"
     ]
    }
   ],
   "source": [
    "arr = np.arange(3000).reshape(100, 30)  # 100 rows x 30 columns array\n",
    "t = Table(arr)\n",
    "print t"
   ]
  },
  {
   "cell_type": "code",
   "execution_count": 153,
   "metadata": {
    "collapsed": false
   },
   "outputs": [],
   "source": [
    "t.show_in_browser(jsviewer=True)"
   ]
  },
  {
   "cell_type": "code",
   "execution_count": 154,
   "metadata": {
    "collapsed": false
   },
   "outputs": [
    {
     "data": {
      "text/html": [
       "&lt;Table length=5&gt;\n",
       "<table id=\"table4644449424\" class=\"table-striped table-bordered table-condensed\">\n",
       "<thead><tr><th>a</th><th>b</th><th>c</th></tr></thead>\n",
       "<thead><tr><th>int64</th><th>int64</th><th>int64</th></tr></thead>\n",
       "<tr><td>0</td><td>1</td><td>2</td></tr>\n",
       "<tr><td>3</td><td>4</td><td>5</td></tr>\n",
       "<tr><td>6</td><td>7</td><td>8</td></tr>\n",
       "<tr><td>9</td><td>10</td><td>11</td></tr>\n",
       "<tr><td>12</td><td>13</td><td>14</td></tr>\n",
       "</table>"
      ],
      "text/plain": [
       "<Table length=5>\n",
       "  a     b     c  \n",
       "int64 int64 int64\n",
       "----- ----- -----\n",
       "    0     1     2\n",
       "    3     4     5\n",
       "    6     7     8\n",
       "    9    10    11\n",
       "   12    13    14"
      ]
     },
     "execution_count": 154,
     "metadata": {},
     "output_type": "execute_result"
    }
   ],
   "source": [
    "# create a simple table to play with\n",
    "arr = np.arange(15).reshape(5, 3)\n",
    "t = Table(arr, names=('a', 'b', 'c'), meta={'keywords': {'key1': 'val1'}})\n",
    "t"
   ]
  },
  {
   "cell_type": "code",
   "execution_count": 155,
   "metadata": {
    "collapsed": false
   },
   "outputs": [
    {
     "data": {
      "text/html": [
       "&lt;Table length=5&gt;\n",
       "<table id=\"table4644449424\" class=\"table-striped table-bordered table-condensed\">\n",
       "<thead><tr><th>a</th><th>b</th><th>c</th></tr></thead>\n",
       "<thead><tr><th>int64</th><th>int64</th><th>int64</th></tr></thead>\n",
       "<tr><td>1</td><td>1</td><td>2</td></tr>\n",
       "<tr><td>-2</td><td>4</td><td>5</td></tr>\n",
       "<tr><td>3</td><td>7</td><td>8</td></tr>\n",
       "<tr><td>-4</td><td>10</td><td>11</td></tr>\n",
       "<tr><td>5</td><td>13</td><td>14</td></tr>\n",
       "</table>"
      ],
      "text/plain": [
       "<Table length=5>\n",
       "  a     b     c  \n",
       "int64 int64 int64\n",
       "----- ----- -----\n",
       "    1     1     2\n",
       "   -2     4     5\n",
       "    3     7     8\n",
       "   -4    10    11\n",
       "    5    13    14"
      ]
     },
     "execution_count": 155,
     "metadata": {},
     "output_type": "execute_result"
    }
   ],
   "source": [
    "t['a'] = [1, -2, 3, -4, 5]  # Set all\n",
    "t"
   ]
  },
  {
   "cell_type": "code",
   "execution_count": 156,
   "metadata": {
    "collapsed": false
   },
   "outputs": [
    {
     "data": {
      "text/html": [
       "&lt;Table length=5&gt;\n",
       "<table id=\"table4644449424\" class=\"table-striped table-bordered table-condensed\">\n",
       "<thead><tr><th>a</th><th>b</th><th>c</th></tr></thead>\n",
       "<thead><tr><th>int64</th><th>int64</th><th>int64</th></tr></thead>\n",
       "<tr><td>1</td><td>1</td><td>2</td></tr>\n",
       "<tr><td>-2</td><td>4</td><td>5</td></tr>\n",
       "<tr><td>30</td><td>7</td><td>8</td></tr>\n",
       "<tr><td>-4</td><td>10</td><td>11</td></tr>\n",
       "<tr><td>5</td><td>13</td><td>14</td></tr>\n",
       "</table>"
      ],
      "text/plain": [
       "<Table length=5>\n",
       "  a     b     c  \n",
       "int64 int64 int64\n",
       "----- ----- -----\n",
       "    1     1     2\n",
       "   -2     4     5\n",
       "   30     7     8\n",
       "   -4    10    11\n",
       "    5    13    14"
      ]
     },
     "execution_count": 156,
     "metadata": {},
     "output_type": "execute_result"
    }
   ],
   "source": [
    "t['a'][2] = 30 # set one\n",
    "t"
   ]
  },
  {
   "cell_type": "code",
   "execution_count": 157,
   "metadata": {
    "collapsed": false
   },
   "outputs": [
    {
     "data": {
      "text/html": [
       "&lt;Table length=5&gt;\n",
       "<table id=\"table4644449424\" class=\"table-striped table-bordered table-condensed\">\n",
       "<thead><tr><th>a</th><th>b</th><th>c</th></tr></thead>\n",
       "<thead><tr><th>int64</th><th>int64</th><th>int64</th></tr></thead>\n",
       "<tr><td>1</td><td>1</td><td>2</td></tr>\n",
       "<tr><td>8</td><td>9</td><td>10</td></tr>\n",
       "<tr><td>30</td><td>7</td><td>8</td></tr>\n",
       "<tr><td>-4</td><td>10</td><td>11</td></tr>\n",
       "<tr><td>5</td><td>13</td><td>14</td></tr>\n",
       "</table>"
      ],
      "text/plain": [
       "<Table length=5>\n",
       "  a     b     c  \n",
       "int64 int64 int64\n",
       "----- ----- -----\n",
       "    1     1     2\n",
       "    8     9    10\n",
       "   30     7     8\n",
       "   -4    10    11\n",
       "    5    13    14"
      ]
     },
     "execution_count": 157,
     "metadata": {},
     "output_type": "execute_result"
    }
   ],
   "source": [
    "# set one row\n",
    "t[1] = (8, 9, 10)\n",
    "t"
   ]
  },
  {
   "cell_type": "code",
   "execution_count": 158,
   "metadata": {
    "collapsed": false
   },
   "outputs": [
    {
     "data": {
      "text/html": [
       "&lt;Table length=5&gt;\n",
       "<table id=\"table4644449424\" class=\"table-striped table-bordered table-condensed\">\n",
       "<thead><tr><th>a</th><th>b</th><th>c</th></tr></thead>\n",
       "<thead><tr><th>int64</th><th>int64</th><th>int64</th></tr></thead>\n",
       "<tr><td>99</td><td>1</td><td>2</td></tr>\n",
       "<tr><td>99</td><td>9</td><td>10</td></tr>\n",
       "<tr><td>99</td><td>7</td><td>8</td></tr>\n",
       "<tr><td>99</td><td>10</td><td>11</td></tr>\n",
       "<tr><td>99</td><td>13</td><td>14</td></tr>\n",
       "</table>"
      ],
      "text/plain": [
       "<Table length=5>\n",
       "  a     b     c  \n",
       "int64 int64 int64\n",
       "----- ----- -----\n",
       "   99     1     2\n",
       "   99     9    10\n",
       "   99     7     8\n",
       "   99    10    11\n",
       "   99    13    14"
      ]
     },
     "execution_count": 158,
     "metadata": {},
     "output_type": "execute_result"
    }
   ],
   "source": [
    "# Set a whole column\n",
    "t['a'] = 99\n",
    "t"
   ]
  },
  {
   "cell_type": "code",
   "execution_count": 159,
   "metadata": {
    "collapsed": false
   },
   "outputs": [
    {
     "data": {
      "text/html": [
       "&lt;Table length=5&gt;\n",
       "<table id=\"table4644449424\" class=\"table-striped table-bordered table-condensed\">\n",
       "<thead><tr><th>a</th><th>b</th><th>c</th><th>d</th></tr></thead>\n",
       "<thead><tr><th>int64</th><th>int64</th><th>int64</th><th>int64</th></tr></thead>\n",
       "<tr><td>99</td><td>1</td><td>2</td><td>1</td></tr>\n",
       "<tr><td>99</td><td>9</td><td>10</td><td>2</td></tr>\n",
       "<tr><td>99</td><td>7</td><td>8</td><td>3</td></tr>\n",
       "<tr><td>99</td><td>10</td><td>11</td><td>4</td></tr>\n",
       "<tr><td>99</td><td>13</td><td>14</td><td>5</td></tr>\n",
       "</table>"
      ],
      "text/plain": [
       "<Table length=5>\n",
       "  a     b     c     d  \n",
       "int64 int64 int64 int64\n",
       "----- ----- ----- -----\n",
       "   99     1     2     1\n",
       "   99     9    10     2\n",
       "   99     7     8     3\n",
       "   99    10    11     4\n",
       "   99    13    14     5"
      ]
     },
     "execution_count": 159,
     "metadata": {},
     "output_type": "execute_result"
    }
   ],
   "source": [
    "# Add a column\n",
    "t.add_column(Column(np.array([1,2,3,4,5]), name='d'))\n",
    "t"
   ]
  },
  {
   "cell_type": "code",
   "execution_count": 160,
   "metadata": {
    "collapsed": false
   },
   "outputs": [
    {
     "data": {
      "text/html": [
       "&lt;Table length=5&gt;\n",
       "<table id=\"table4644449424\" class=\"table-striped table-bordered table-condensed\">\n",
       "<thead><tr><th>a</th><th>c</th><th>d</th></tr></thead>\n",
       "<thead><tr><th>int64</th><th>int64</th><th>int64</th></tr></thead>\n",
       "<tr><td>99</td><td>2</td><td>1</td></tr>\n",
       "<tr><td>99</td><td>10</td><td>2</td></tr>\n",
       "<tr><td>99</td><td>8</td><td>3</td></tr>\n",
       "<tr><td>99</td><td>11</td><td>4</td></tr>\n",
       "<tr><td>99</td><td>14</td><td>5</td></tr>\n",
       "</table>"
      ],
      "text/plain": [
       "<Table length=5>\n",
       "  a     c     d  \n",
       "int64 int64 int64\n",
       "----- ----- -----\n",
       "   99     2     1\n",
       "   99    10     2\n",
       "   99     8     3\n",
       "   99    11     4\n",
       "   99    14     5"
      ]
     },
     "execution_count": 160,
     "metadata": {},
     "output_type": "execute_result"
    }
   ],
   "source": [
    "# remove a column\n",
    "t.remove_column('b')\n",
    "t"
   ]
  },
  {
   "cell_type": "code",
   "execution_count": 161,
   "metadata": {
    "collapsed": false
   },
   "outputs": [
    {
     "data": {
      "text/html": [
       "&lt;Table length=6&gt;\n",
       "<table id=\"table4644449424\" class=\"table-striped table-bordered table-condensed\">\n",
       "<thead><tr><th>a</th><th>c</th><th>d</th></tr></thead>\n",
       "<thead><tr><th>int64</th><th>int64</th><th>int64</th></tr></thead>\n",
       "<tr><td>99</td><td>2</td><td>1</td></tr>\n",
       "<tr><td>99</td><td>10</td><td>2</td></tr>\n",
       "<tr><td>99</td><td>8</td><td>3</td></tr>\n",
       "<tr><td>99</td><td>11</td><td>4</td></tr>\n",
       "<tr><td>99</td><td>14</td><td>5</td></tr>\n",
       "<tr><td>-8</td><td>-9</td><td>10</td></tr>\n",
       "</table>"
      ],
      "text/plain": [
       "<Table length=6>\n",
       "  a     c     d  \n",
       "int64 int64 int64\n",
       "----- ----- -----\n",
       "   99     2     1\n",
       "   99    10     2\n",
       "   99     8     3\n",
       "   99    11     4\n",
       "   99    14     5\n",
       "   -8    -9    10"
      ]
     },
     "execution_count": 161,
     "metadata": {},
     "output_type": "execute_result"
    }
   ],
   "source": [
    "# add a row\n",
    "t.add_row([-8, -9, 10])\n",
    "t"
   ]
  },
  {
   "cell_type": "code",
   "execution_count": 162,
   "metadata": {
    "collapsed": false
   },
   "outputs": [
    {
     "data": {
      "text/html": [
       "&lt;Table length=4&gt;\n",
       "<table id=\"table4644449424\" class=\"table-striped table-bordered table-condensed\">\n",
       "<thead><tr><th>a</th><th>c</th><th>d</th></tr></thead>\n",
       "<thead><tr><th>int64</th><th>int64</th><th>int64</th></tr></thead>\n",
       "<tr><td>99</td><td>2</td><td>1</td></tr>\n",
       "<tr><td>99</td><td>11</td><td>4</td></tr>\n",
       "<tr><td>99</td><td>14</td><td>5</td></tr>\n",
       "<tr><td>-8</td><td>-9</td><td>10</td></tr>\n",
       "</table>"
      ],
      "text/plain": [
       "<Table length=4>\n",
       "  a     c     d  \n",
       "int64 int64 int64\n",
       "----- ----- -----\n",
       "   99     2     1\n",
       "   99    11     4\n",
       "   99    14     5\n",
       "   -8    -9    10"
      ]
     },
     "execution_count": 162,
     "metadata": {},
     "output_type": "execute_result"
    }
   ],
   "source": [
    "# Remove some rows\n",
    "t.remove_rows([1, 2])\n",
    "t"
   ]
  },
  {
   "cell_type": "code",
   "execution_count": 163,
   "metadata": {
    "collapsed": false
   },
   "outputs": [
    {
     "data": {
      "text/html": [
       "&lt;Table length=4&gt;\n",
       "<table id=\"table4644449424\" class=\"table-striped table-bordered table-condensed\">\n",
       "<thead><tr><th>a</th><th>c</th><th>d</th></tr></thead>\n",
       "<thead><tr><th>int64</th><th>int64</th><th>int64</th></tr></thead>\n",
       "<tr><td>-8</td><td>-9</td><td>10</td></tr>\n",
       "<tr><td>99</td><td>2</td><td>1</td></tr>\n",
       "<tr><td>99</td><td>11</td><td>4</td></tr>\n",
       "<tr><td>99</td><td>14</td><td>5</td></tr>\n",
       "</table>"
      ],
      "text/plain": [
       "<Table length=4>\n",
       "  a     c     d  \n",
       "int64 int64 int64\n",
       "----- ----- -----\n",
       "   -8    -9    10\n",
       "   99     2     1\n",
       "   99    11     4\n",
       "   99    14     5"
      ]
     },
     "execution_count": 163,
     "metadata": {},
     "output_type": "execute_result"
    }
   ],
   "source": [
    "# sort the Table using one column\n",
    "t.sort('c')\n",
    "t"
   ]
  },
  {
   "cell_type": "code",
   "execution_count": 164,
   "metadata": {
    "collapsed": false
   },
   "outputs": [
    {
     "name": "stdout",
     "output_type": "stream",
     "text": [
      "[False False  True  True]\n"
     ]
    }
   ],
   "source": [
    "mask = (t['a'] > 50) & (t['d'] > 3)\n",
    "print mask"
   ]
  },
  {
   "cell_type": "code",
   "execution_count": 165,
   "metadata": {
    "collapsed": false
   },
   "outputs": [
    {
     "data": {
      "text/html": [
       "&lt;Table length=2&gt;\n",
       "<table id=\"table4644449744\" class=\"table-striped table-bordered table-condensed\">\n",
       "<thead><tr><th>a</th><th>c</th><th>d</th></tr></thead>\n",
       "<thead><tr><th>int64</th><th>int64</th><th>int64</th></tr></thead>\n",
       "<tr><td>99</td><td>11</td><td>4</td></tr>\n",
       "<tr><td>99</td><td>14</td><td>5</td></tr>\n",
       "</table>"
      ],
      "text/plain": [
       "<Table length=2>\n",
       "  a     c     d  \n",
       "int64 int64 int64\n",
       "----- ----- -----\n",
       "   99    11     4\n",
       "   99    14     5"
      ]
     },
     "execution_count": 165,
     "metadata": {},
     "output_type": "execute_result"
    }
   ],
   "source": [
    "t[mask]"
   ]
  },
  {
   "cell_type": "code",
   "execution_count": 166,
   "metadata": {
    "collapsed": false
   },
   "outputs": [
    {
     "name": "stdout",
     "output_type": "stream",
     "text": [
      "Overwriting tab1.dat\n"
     ]
    }
   ],
   "source": [
    "%%writefile tab1.dat\n",
    "#name    obs_date    mag_b  mag_v\n",
    "M31     2012-01-02  17.0   17.5\n",
    "M31     2012-01-02  17.1   17.4\n",
    "M101    2012-01-02  15.1   13.5\n",
    "M82     2012-02-14  16.2   14.5\n",
    "M31     2012-02-14  16.9   17.3\n",
    "M82     2012-02-14  15.2   15.5\n",
    "M101    2012-02-14  15.0   13.6\n",
    "M82     2012-03-26  15.7   16.5\n",
    "M101    2012-03-26  15.1   13.5\n",
    "M101    2012-03-26  14.8   14.3"
   ]
  },
  {
   "cell_type": "code",
   "execution_count": 167,
   "metadata": {
    "collapsed": false
   },
   "outputs": [],
   "source": [
    "# directly read a Table from an ascii file\n",
    "obs = Table.read('tab1.dat', format='ascii')"
   ]
  },
  {
   "cell_type": "code",
   "execution_count": 168,
   "metadata": {
    "collapsed": false
   },
   "outputs": [
    {
     "name": "stdout",
     "output_type": "stream",
     "text": [
      "name  obs_date  mag_b mag_v\n",
      "---- ---------- ----- -----\n",
      " M31 2012-01-02  17.0  17.5\n",
      " M31 2012-01-02  17.1  17.4\n",
      "M101 2012-01-02  15.1  13.5\n",
      " M82 2012-02-14  16.2  14.5\n",
      " M31 2012-02-14  16.9  17.3\n",
      " M82 2012-02-14  15.2  15.5\n",
      "M101 2012-02-14  15.0  13.6\n",
      " M82 2012-03-26  15.7  16.5\n",
      "M101 2012-03-26  15.1  13.5\n",
      "M101 2012-03-26  14.8  14.3\n"
     ]
    }
   ],
   "source": [
    "print obs"
   ]
  },
  {
   "cell_type": "code",
   "execution_count": 169,
   "metadata": {
    "collapsed": false
   },
   "outputs": [
    {
     "data": {
      "text/html": [
       "&lt;Table length=10&gt;\n",
       "<table id=\"table4644730960\" class=\"table-striped table-bordered table-condensed\">\n",
       "<thead><tr><th>name</th><th>obs_date</th><th>mag_b</th><th>mag_v</th></tr></thead>\n",
       "<thead><tr><th>str4</th><th>str10</th><th>float64</th><th>float64</th></tr></thead>\n",
       "<tr><td>M101</td><td>2012-01-02</td><td>15.1</td><td>13.5</td></tr>\n",
       "<tr><td>M101</td><td>2012-02-14</td><td>15.0</td><td>13.6</td></tr>\n",
       "<tr><td>M101</td><td>2012-03-26</td><td>15.1</td><td>13.5</td></tr>\n",
       "<tr><td>M101</td><td>2012-03-26</td><td>14.8</td><td>14.3</td></tr>\n",
       "<tr><td>M31</td><td>2012-01-02</td><td>17.0</td><td>17.5</td></tr>\n",
       "<tr><td>M31</td><td>2012-01-02</td><td>17.1</td><td>17.4</td></tr>\n",
       "<tr><td>M31</td><td>2012-02-14</td><td>16.9</td><td>17.3</td></tr>\n",
       "<tr><td>M82</td><td>2012-02-14</td><td>16.2</td><td>14.5</td></tr>\n",
       "<tr><td>M82</td><td>2012-02-14</td><td>15.2</td><td>15.5</td></tr>\n",
       "<tr><td>M82</td><td>2012-03-26</td><td>15.7</td><td>16.5</td></tr>\n",
       "</table>"
      ],
      "text/plain": [
       "<Table length=10>\n",
       "name  obs_date   mag_b   mag_v \n",
       "str4   str10    float64 float64\n",
       "---- ---------- ------- -------\n",
       "M101 2012-01-02    15.1    13.5\n",
       "M101 2012-02-14    15.0    13.6\n",
       "M101 2012-03-26    15.1    13.5\n",
       "M101 2012-03-26    14.8    14.3\n",
       " M31 2012-01-02    17.0    17.5\n",
       " M31 2012-01-02    17.1    17.4\n",
       " M31 2012-02-14    16.9    17.3\n",
       " M82 2012-02-14    16.2    14.5\n",
       " M82 2012-02-14    15.2    15.5\n",
       " M82 2012-03-26    15.7    16.5"
      ]
     },
     "execution_count": 169,
     "metadata": {},
     "output_type": "execute_result"
    }
   ],
   "source": [
    "# Group data\n",
    "obs_by_name = obs.group_by('name')\n",
    "obs_by_name"
   ]
  },
  {
   "cell_type": "code",
   "execution_count": 170,
   "metadata": {
    "collapsed": false
   },
   "outputs": [
    {
     "name": "stdout",
     "output_type": "stream",
     "text": [
      "name\n",
      "----\n",
      "M101\n",
      " M31\n",
      " M82\n"
     ]
    }
   ],
   "source": [
    "print obs_by_name.groups.keys"
   ]
  },
  {
   "cell_type": "code",
   "execution_count": 171,
   "metadata": {
    "collapsed": false
   },
   "outputs": [
    {
     "name": "stdout",
     "output_type": "stream",
     "text": [
      "name  obs_date \n",
      "---- ----------\n",
      "M101 2012-01-02\n",
      "M101 2012-02-14\n",
      "M101 2012-03-26\n",
      " M31 2012-01-02\n",
      " M31 2012-02-14\n",
      " M82 2012-02-14\n",
      " M82 2012-03-26\n"
     ]
    }
   ],
   "source": [
    "# Using 2 keys to group\n",
    "print obs.group_by(['name', 'obs_date']).groups.keys"
   ]
  },
  {
   "cell_type": "code",
   "execution_count": 172,
   "metadata": {
    "collapsed": false
   },
   "outputs": [
    {
     "name": "stdout",
     "output_type": "stream",
     "text": [
      "name  obs_date  mag_b mag_v\n",
      "---- ---------- ----- -----\n",
      " M31 2012-01-02  17.0  17.5\n",
      " M31 2012-01-02  17.1  17.4\n",
      " M31 2012-02-14  16.9  17.3\n"
     ]
    }
   ],
   "source": [
    "# Extracting a group\n",
    "print obs_by_name.groups[1]"
   ]
  },
  {
   "cell_type": "code",
   "execution_count": 173,
   "metadata": {
    "collapsed": false
   },
   "outputs": [
    {
     "name": "stdout",
     "output_type": "stream",
     "text": [
      "[ True False False]\n",
      "name  obs_date  mag_b mag_v\n",
      "---- ---------- ----- -----\n",
      "M101 2012-01-02  15.1  13.5\n",
      "M101 2012-02-14  15.0  13.6\n",
      "M101 2012-03-26  15.1  13.5\n",
      "M101 2012-03-26  14.8  14.3\n"
     ]
    }
   ],
   "source": [
    "# Using a mask to select entries\n",
    "mask = obs_by_name.groups.keys['name'] == 'M101'\n",
    "print mask\n",
    "print obs_by_name.groups[mask]"
   ]
  },
  {
   "cell_type": "code",
   "execution_count": 174,
   "metadata": {
    "collapsed": false
   },
   "outputs": [
    {
     "name": "stdout",
     "output_type": "stream",
     "text": [
      "name mag_b mag_v \n",
      "---- ----- ------\n",
      "M101  15.0 13.725\n",
      " M31  17.0   17.4\n",
      " M82  15.7   15.5\n"
     ]
    }
   ],
   "source": [
    "# Some functions can be applied to the elements of a group\n",
    "obs_mean = obs_by_name.groups.aggregate(np.mean) \n",
    "print obs_mean"
   ]
  },
  {
   "cell_type": "code",
   "execution_count": 175,
   "metadata": {
    "collapsed": false
   },
   "outputs": [
    {
     "name": "stdout",
     "output_type": "stream",
     "text": [
      "name mag_v  mag_b\n",
      "---- ------ -----\n",
      "M101 13.725  15.0\n",
      " M31   17.4  17.0\n",
      " M82   15.5  15.7\n"
     ]
    }
   ],
   "source": [
    "print obs_by_name['name', 'mag_v', 'mag_b'].groups.aggregate(np.mean)"
   ]
  },
  {
   "cell_type": "code",
   "execution_count": 176,
   "metadata": {
    "collapsed": false
   },
   "outputs": [],
   "source": [
    "# creat a new Table on the fly\n",
    "obs1 = Table.read(\"\"\"name    obs_date    mag_b  logLx\n",
    "M31     2012-01-02  17.0   42.5\n",
    "M82     2012-10-29  16.2   43.5\n",
    "M101    2012-10-31  15.1   44.5\"\"\", format='ascii')"
   ]
  },
  {
   "cell_type": "code",
   "execution_count": 177,
   "metadata": {
    "collapsed": false
   },
   "outputs": [],
   "source": [
    "# this is used to stack Tables\n",
    "from astropy.table import vstack"
   ]
  },
  {
   "cell_type": "code",
   "execution_count": 179,
   "metadata": {
    "collapsed": false
   },
   "outputs": [
    {
     "data": {
      "text/html": [
       "&lt;Table masked=True length=13&gt;\n",
       "<table id=\"table4599599568\" class=\"table-striped table-bordered table-condensed\">\n",
       "<thead><tr><th>name</th><th>obs_date</th><th>mag_b</th><th>mag_v</th><th>logLx</th></tr></thead>\n",
       "<thead><tr><th>str4</th><th>str10</th><th>float64</th><th>float64</th><th>float64</th></tr></thead>\n",
       "<tr><td>M31</td><td>2012-01-02</td><td>17.0</td><td>17.5</td><td>--</td></tr>\n",
       "<tr><td>M31</td><td>2012-01-02</td><td>17.1</td><td>17.4</td><td>--</td></tr>\n",
       "<tr><td>M101</td><td>2012-01-02</td><td>15.1</td><td>13.5</td><td>--</td></tr>\n",
       "<tr><td>M82</td><td>2012-02-14</td><td>16.2</td><td>14.5</td><td>--</td></tr>\n",
       "<tr><td>M31</td><td>2012-02-14</td><td>16.9</td><td>17.3</td><td>--</td></tr>\n",
       "<tr><td>M82</td><td>2012-02-14</td><td>15.2</td><td>15.5</td><td>--</td></tr>\n",
       "<tr><td>M101</td><td>2012-02-14</td><td>15.0</td><td>13.6</td><td>--</td></tr>\n",
       "<tr><td>M82</td><td>2012-03-26</td><td>15.7</td><td>16.5</td><td>--</td></tr>\n",
       "<tr><td>M101</td><td>2012-03-26</td><td>15.1</td><td>13.5</td><td>--</td></tr>\n",
       "<tr><td>M101</td><td>2012-03-26</td><td>14.8</td><td>14.3</td><td>--</td></tr>\n",
       "<tr><td>M31</td><td>2012-01-02</td><td>17.0</td><td>--</td><td>42.5</td></tr>\n",
       "<tr><td>M82</td><td>2012-10-29</td><td>16.2</td><td>--</td><td>43.5</td></tr>\n",
       "<tr><td>M101</td><td>2012-10-31</td><td>15.1</td><td>--</td><td>44.5</td></tr>\n",
       "</table>"
      ],
      "text/plain": [
       "<Table masked=True length=13>\n",
       "name  obs_date   mag_b   mag_v   logLx \n",
       "str4   str10    float64 float64 float64\n",
       "---- ---------- ------- ------- -------\n",
       " M31 2012-01-02    17.0    17.5      --\n",
       " M31 2012-01-02    17.1    17.4      --\n",
       "M101 2012-01-02    15.1    13.5      --\n",
       " M82 2012-02-14    16.2    14.5      --\n",
       " M31 2012-02-14    16.9    17.3      --\n",
       " M82 2012-02-14    15.2    15.5      --\n",
       "M101 2012-02-14    15.0    13.6      --\n",
       " M82 2012-03-26    15.7    16.5      --\n",
       "M101 2012-03-26    15.1    13.5      --\n",
       "M101 2012-03-26    14.8    14.3      --\n",
       " M31 2012-01-02    17.0      --    42.5\n",
       " M82 2012-10-29    16.2      --    43.5\n",
       "M101 2012-10-31    15.1      --    44.5"
      ]
     },
     "execution_count": 179,
     "metadata": {},
     "output_type": "execute_result"
    }
   ],
   "source": [
    "tvs = vstack([obs, obs1])\n",
    "tvs"
   ]
  },
  {
   "cell_type": "code",
   "execution_count": 188,
   "metadata": {
    "collapsed": false
   },
   "outputs": [
    {
     "data": {
      "text/html": [
       "&lt;Table length=14&gt;\n",
       "<table id=\"table4644855568\" class=\"table-striped table-bordered table-condensed\">\n",
       "<thead><tr><th>id</th><th>wl</th><th>wlu</th><th>I</th><th>wl2</th><th>err</th><th>obs</th></tr></thead>\n",
       "<thead><tr><th>str4</th><th>float64</th><th>str1</th><th>float64</th><th>float64</th><th>float64</th><th>str15</th></tr></thead>\n",
       "<tr><td>H  1</td><td>6563.0</td><td>A</td><td>2.8667</td><td>6563.0</td><td>0.19467</td><td>Anabel</td></tr>\n",
       "<tr><td>H  1</td><td>4340.0</td><td>A</td><td>0.4933</td><td>4340.0</td><td>0.03307</td><td>Anabel</td></tr>\n",
       "<tr><td>H  1</td><td>4102.0</td><td>A</td><td>0.2907</td><td>4102.0</td><td>0.02229</td><td>Anabel</td></tr>\n",
       "<tr><td>H  1</td><td>3970.0</td><td>A</td><td>0.18</td><td>3970.0</td><td>0.01253</td><td>Anabel</td></tr>\n",
       "<tr><td>N  2</td><td>6584.0</td><td>A</td><td>2.1681</td><td>6584.0</td><td>0.08686</td><td>Anabel</td></tr>\n",
       "<tr><td>N  2</td><td>121.7</td><td>m</td><td>0.004462</td><td>1217000.0</td><td>0.2</td><td>Liu</td></tr>\n",
       "<tr><td>O  1</td><td>6300.0</td><td>A</td><td>0.0147</td><td>6300.0</td><td>0.00325</td><td>Anabel</td></tr>\n",
       "<tr><td>TOTL</td><td>2326.0</td><td>A</td><td>0.079</td><td>2326.0</td><td>0.2</td><td>Adams</td></tr>\n",
       "<tr><td>C  2</td><td>157.6</td><td>m</td><td>0.00856</td><td>1576000.0</td><td>0.2</td><td>Liu</td></tr>\n",
       "<tr><td>O  1</td><td>63.17</td><td>m</td><td>0.13647</td><td>631700.0</td><td>0.1</td><td>Liu</td></tr>\n",
       "<tr><td>O  1</td><td>145.5</td><td>m</td><td>0.00446</td><td>1455000.0</td><td>0.2</td><td>Liu</td></tr>\n",
       "<tr><td>TOTL</td><td>3727.0</td><td>A</td><td>0.77609</td><td>3727.0</td><td>0.2</td><td>Torres-Peimbert</td></tr>\n",
       "<tr><td>S II</td><td>4070.0</td><td>A</td><td>0.06174</td><td>4070.0</td><td>0.2</td><td>Torres-Peimbert</td></tr>\n",
       "<tr><td>S II</td><td>4078.0</td><td>A</td><td>0.06174</td><td>4078.0</td><td>0.2</td><td>Torres-Peimbert</td></tr>\n",
       "</table>"
      ],
      "text/plain": [
       "<Table length=14>\n",
       " id     wl   wlu     I        wl2      err         obs      \n",
       "str4 float64 str1 float64   float64  float64      str15     \n",
       "---- ------- ---- -------- --------- ------- ---------------\n",
       "H  1  6563.0    A   2.8667    6563.0 0.19467          Anabel\n",
       "H  1  4340.0    A   0.4933    4340.0 0.03307          Anabel\n",
       "H  1  4102.0    A   0.2907    4102.0 0.02229          Anabel\n",
       "H  1  3970.0    A     0.18    3970.0 0.01253          Anabel\n",
       "N  2  6584.0    A   2.1681    6584.0 0.08686          Anabel\n",
       "N  2   121.7    m 0.004462 1217000.0     0.2             Liu\n",
       "O  1  6300.0    A   0.0147    6300.0 0.00325          Anabel\n",
       "TOTL  2326.0    A    0.079    2326.0     0.2           Adams\n",
       "C  2   157.6    m  0.00856 1576000.0     0.2             Liu\n",
       "O  1   63.17    m  0.13647  631700.0     0.1             Liu\n",
       "O  1   145.5    m  0.00446 1455000.0     0.2             Liu\n",
       "TOTL  3727.0    A  0.77609    3727.0     0.2 Torres-Peimbert\n",
       "S II  4070.0    A  0.06174    4070.0     0.2 Torres-Peimbert\n",
       "S II  4078.0    A  0.06174    4078.0     0.2 Torres-Peimbert"
      ]
     },
     "execution_count": 188,
     "metadata": {},
     "output_type": "execute_result"
    }
   ],
   "source": [
    "d = Table.read('data4.dat', format='ascii.fixed_width', \n",
    "               col_starts=(0, 5, 10,12, 20, 29, 38), \n",
    "               names=('id', 'wl', 'wlu', 'I', 'wl2', 'err', 'obs'))\n",
    "d"
   ]
  },
  {
   "cell_type": "code",
   "execution_count": 189,
   "metadata": {
    "collapsed": false
   },
   "outputs": [
    {
     "data": {
      "text/html": [
       "&lt;Table length=14&gt;\n",
       "<table id=\"table4644730128\" class=\"table-striped table-bordered table-condensed\">\n",
       "<thead><tr><th>id</th><th>wl</th><th>wlu</th><th>I</th><th>wl2</th><th>err</th><th>obs</th></tr></thead>\n",
       "<thead><tr><th>str4</th><th>float64</th><th>str1</th><th>float64</th><th>float64</th><th>float64</th><th>str15</th></tr></thead>\n",
       "<tr><td>TOTL</td><td>2326.0</td><td>A</td><td>0.079</td><td>2326.0</td><td>0.2</td><td>Adams</td></tr>\n",
       "<tr><td>H  1</td><td>6563.0</td><td>A</td><td>2.8667</td><td>6563.0</td><td>0.19467</td><td>Anabel</td></tr>\n",
       "<tr><td>H  1</td><td>4340.0</td><td>A</td><td>0.4933</td><td>4340.0</td><td>0.03307</td><td>Anabel</td></tr>\n",
       "<tr><td>H  1</td><td>4102.0</td><td>A</td><td>0.2907</td><td>4102.0</td><td>0.02229</td><td>Anabel</td></tr>\n",
       "<tr><td>H  1</td><td>3970.0</td><td>A</td><td>0.18</td><td>3970.0</td><td>0.01253</td><td>Anabel</td></tr>\n",
       "<tr><td>N  2</td><td>6584.0</td><td>A</td><td>2.1681</td><td>6584.0</td><td>0.08686</td><td>Anabel</td></tr>\n",
       "<tr><td>O  1</td><td>6300.0</td><td>A</td><td>0.0147</td><td>6300.0</td><td>0.00325</td><td>Anabel</td></tr>\n",
       "<tr><td>N  2</td><td>121.7</td><td>m</td><td>0.004462</td><td>1217000.0</td><td>0.2</td><td>Liu</td></tr>\n",
       "<tr><td>C  2</td><td>157.6</td><td>m</td><td>0.00856</td><td>1576000.0</td><td>0.2</td><td>Liu</td></tr>\n",
       "<tr><td>O  1</td><td>63.17</td><td>m</td><td>0.13647</td><td>631700.0</td><td>0.1</td><td>Liu</td></tr>\n",
       "<tr><td>O  1</td><td>145.5</td><td>m</td><td>0.00446</td><td>1455000.0</td><td>0.2</td><td>Liu</td></tr>\n",
       "<tr><td>TOTL</td><td>3727.0</td><td>A</td><td>0.77609</td><td>3727.0</td><td>0.2</td><td>Torres-Peimbert</td></tr>\n",
       "<tr><td>S II</td><td>4070.0</td><td>A</td><td>0.06174</td><td>4070.0</td><td>0.2</td><td>Torres-Peimbert</td></tr>\n",
       "<tr><td>S II</td><td>4078.0</td><td>A</td><td>0.06174</td><td>4078.0</td><td>0.2</td><td>Torres-Peimbert</td></tr>\n",
       "</table>"
      ],
      "text/plain": [
       "<Table length=14>\n",
       " id     wl   wlu     I        wl2      err         obs      \n",
       "str4 float64 str1 float64   float64  float64      str15     \n",
       "---- ------- ---- -------- --------- ------- ---------------\n",
       "TOTL  2326.0    A    0.079    2326.0     0.2           Adams\n",
       "H  1  6563.0    A   2.8667    6563.0 0.19467          Anabel\n",
       "H  1  4340.0    A   0.4933    4340.0 0.03307          Anabel\n",
       "H  1  4102.0    A   0.2907    4102.0 0.02229          Anabel\n",
       "H  1  3970.0    A     0.18    3970.0 0.01253          Anabel\n",
       "N  2  6584.0    A   2.1681    6584.0 0.08686          Anabel\n",
       "O  1  6300.0    A   0.0147    6300.0 0.00325          Anabel\n",
       "N  2   121.7    m 0.004462 1217000.0     0.2             Liu\n",
       "C  2   157.6    m  0.00856 1576000.0     0.2             Liu\n",
       "O  1   63.17    m  0.13647  631700.0     0.1             Liu\n",
       "O  1   145.5    m  0.00446 1455000.0     0.2             Liu\n",
       "TOTL  3727.0    A  0.77609    3727.0     0.2 Torres-Peimbert\n",
       "S II  4070.0    A  0.06174    4070.0     0.2 Torres-Peimbert\n",
       "S II  4078.0    A  0.06174    4078.0     0.2 Torres-Peimbert"
      ]
     },
     "execution_count": 189,
     "metadata": {},
     "output_type": "execute_result"
    }
   ],
   "source": [
    "d.group_by('obs')"
   ]
  },
  {
   "cell_type": "markdown",
   "metadata": {},
   "source": [
    "There is a lot of possibilities of joining Tables, see http://docs.astropy.org/en/stable/table/operations.html"
   ]
  },
  {
   "cell_type": "code",
   "execution_count": 85,
   "metadata": {
    "collapsed": false
   },
   "outputs": [
    {
     "name": "stdout",
     "output_type": "stream",
     "text": [
      "Downloading ftp://cdsarc.u-strasbg.fr/pub/cats/J/other/RMxAA/45.261/digeda.dat [Done]\n",
      "Downloading ftp://cdsarc.u-strasbg.fr/pub/cats/J/other/RMxAA/45.261/ReadMe [Done]\n"
     ]
    }
   ],
   "source": [
    "t = Table.read(\"ftp://cdsarc.u-strasbg.fr/pub/cats/J/other/RMxAA/45.261/digeda.dat\", \n",
    "               format='ascii.cds', \n",
    "               readme='ftp://cdsarc.u-strasbg.fr/pub/cats/J/other/RMxAA/45.261/ReadMe')"
   ]
  },
  {
   "cell_type": "code",
   "execution_count": 86,
   "metadata": {
    "collapsed": false
   },
   "outputs": [
    {
     "data": {
      "text/html": [
       "&lt;Table masked=True length=1061&gt;\n",
       "<table id=\"table4543830608\" class=\"table-striped table-bordered table-condensed\">\n",
       "<thead><tr><th>ObsID</th><th>Pos</th><th>I3727</th><th>I4363</th><th>IHb</th><th>I4959</th><th>I5007</th><th>I5876</th><th>I6300</th><th>I6548</th><th>IHa</th><th>I6583</th><th>I6716</th><th>I6731</th><th>I16+31</th><th>Te</th><th>R16/31</th><th>R07/59</th><th>RHa/Hb</th><th>EM(Ha)</th><th>RefID</th><th>MType</th><th>Slit</th><th>Region</th><th>GalID</th><th>RefN</th></tr></thead>\n",
       "<thead><tr><th></th><th>pc</th><th></th><th></th><th></th><th></th><th></th><th></th><th></th><th></th><th></th><th></th><th></th><th></th><th></th><th>10000 K</th><th></th><th></th><th></th><th>pc / cm6</th><th></th><th></th><th></th><th></th><th></th><th></th></tr></thead>\n",
       "<thead><tr><th>int64</th><th>float64</th><th>float64</th><th>float64</th><th>float64</th><th>float64</th><th>float64</th><th>float64</th><th>float64</th><th>float64</th><th>float64</th><th>float64</th><th>float64</th><th>float64</th><th>float64</th><th>float64</th><th>float64</th><th>float64</th><th>float64</th><th>float64</th><th>int64</th><th>int64</th><th>int64</th><th>int64</th><th>int64</th><th>int64</th></tr></thead>\n",
       "<tr><td>1</td><td>0.03</td><td>--</td><td>--</td><td>1.0</td><td>0.2</td><td>0.6</td><td>--</td><td>--</td><td>--</td><td>2.86</td><td>1.0</td><td>--</td><td>--</td><td>--</td><td>--</td><td>--</td><td>--</td><td>--</td><td>--</td><td>1</td><td>12</td><td>3</td><td>1</td><td>2</td><td>1</td></tr>\n",
       "<tr><td>2</td><td>0.03</td><td>--</td><td>--</td><td>1.0</td><td>0.33</td><td>0.96</td><td>--</td><td>--</td><td>--</td><td>2.86</td><td>1.32</td><td>--</td><td>--</td><td>--</td><td>--</td><td>--</td><td>--</td><td>--</td><td>--</td><td>1</td><td>12</td><td>3</td><td>1</td><td>2</td><td>1</td></tr>\n",
       "<tr><td>3</td><td>0.05</td><td>--</td><td>--</td><td>1.0</td><td>0.32</td><td>0.95</td><td>--</td><td>--</td><td>--</td><td>2.86</td><td>1.11</td><td>--</td><td>--</td><td>--</td><td>--</td><td>--</td><td>--</td><td>--</td><td>--</td><td>1</td><td>12</td><td>3</td><td>1</td><td>2</td><td>1</td></tr>\n",
       "<tr><td>4</td><td>0.06</td><td>--</td><td>--</td><td>1.0</td><td>0.12</td><td>0.36</td><td>--</td><td>--</td><td>--</td><td>2.86</td><td>1.06</td><td>--</td><td>--</td><td>--</td><td>--</td><td>--</td><td>--</td><td>--</td><td>--</td><td>1</td><td>12</td><td>3</td><td>1</td><td>2</td><td>1</td></tr>\n",
       "<tr><td>5</td><td>0.07</td><td>--</td><td>--</td><td>1.0</td><td>0.27</td><td>0.8</td><td>--</td><td>--</td><td>--</td><td>2.86</td><td>1.08</td><td>--</td><td>--</td><td>--</td><td>--</td><td>--</td><td>--</td><td>--</td><td>--</td><td>1</td><td>12</td><td>3</td><td>1</td><td>2</td><td>1</td></tr>\n",
       "<tr><td>6</td><td>0.12</td><td>--</td><td>--</td><td>1.0</td><td>0.31</td><td>0.9</td><td>--</td><td>--</td><td>--</td><td>2.86</td><td>1.06</td><td>--</td><td>--</td><td>--</td><td>--</td><td>--</td><td>--</td><td>--</td><td>--</td><td>1</td><td>12</td><td>3</td><td>1</td><td>2</td><td>1</td></tr>\n",
       "<tr><td>7</td><td>0.13</td><td>--</td><td>--</td><td>1.0</td><td>0.29</td><td>0.85</td><td>--</td><td>--</td><td>--</td><td>2.86</td><td>1.42</td><td>--</td><td>--</td><td>--</td><td>--</td><td>--</td><td>--</td><td>--</td><td>--</td><td>1</td><td>12</td><td>3</td><td>1</td><td>2</td><td>1</td></tr>\n",
       "<tr><td>8</td><td>0.15</td><td>--</td><td>--</td><td>1.0</td><td>0.3</td><td>0.89</td><td>--</td><td>--</td><td>--</td><td>2.86</td><td>0.94</td><td>--</td><td>--</td><td>--</td><td>--</td><td>--</td><td>--</td><td>--</td><td>--</td><td>1</td><td>12</td><td>3</td><td>1</td><td>2</td><td>1</td></tr>\n",
       "<tr><td>9</td><td>0.15</td><td>--</td><td>--</td><td>1.0</td><td>0.57</td><td>1.67</td><td>--</td><td>--</td><td>--</td><td>2.86</td><td>0.86</td><td>--</td><td>--</td><td>--</td><td>--</td><td>--</td><td>--</td><td>--</td><td>--</td><td>1</td><td>12</td><td>3</td><td>1</td><td>2</td><td>1</td></tr>\n",
       "<tr><td>...</td><td>...</td><td>...</td><td>...</td><td>...</td><td>...</td><td>...</td><td>...</td><td>...</td><td>...</td><td>...</td><td>...</td><td>...</td><td>...</td><td>...</td><td>...</td><td>...</td><td>...</td><td>...</td><td>...</td><td>...</td><td>...</td><td>...</td><td>...</td><td>...</td><td>...</td></tr>\n",
       "<tr><td>1052</td><td>-1.0</td><td>--</td><td>--</td><td>0.35</td><td>--</td><td>0.2</td><td>--</td><td>--</td><td>--</td><td>1.0</td><td>--</td><td>--</td><td>--</td><td>--</td><td>--</td><td>--</td><td>--</td><td>--</td><td>--</td><td>18</td><td>2</td><td>3</td><td>3</td><td>92</td><td>44</td></tr>\n",
       "<tr><td>1053</td><td>-1.0</td><td>--</td><td>--</td><td>0.35</td><td>--</td><td>0.5</td><td>--</td><td>--</td><td>--</td><td>1.0</td><td>--</td><td>0.25</td><td>--</td><td>--</td><td>--</td><td>--</td><td>--</td><td>--</td><td>--</td><td>18</td><td>2</td><td>3</td><td>3</td><td>92</td><td>44</td></tr>\n",
       "<tr><td>1054</td><td>-1.0</td><td>--</td><td>--</td><td>0.35</td><td>--</td><td>0.23</td><td>--</td><td>--</td><td>--</td><td>1.0</td><td>--</td><td>0.15</td><td>--</td><td>--</td><td>--</td><td>--</td><td>--</td><td>--</td><td>--</td><td>18</td><td>2</td><td>3</td><td>3</td><td>92</td><td>44</td></tr>\n",
       "<tr><td>1055</td><td>-1.0</td><td>--</td><td>--</td><td>0.35</td><td>--</td><td>0.6</td><td>--</td><td>--</td><td>--</td><td>1.0</td><td>--</td><td>0.14</td><td>--</td><td>--</td><td>--</td><td>--</td><td>--</td><td>--</td><td>--</td><td>18</td><td>2</td><td>3</td><td>1</td><td>92</td><td>44</td></tr>\n",
       "<tr><td>1056</td><td>-1.0</td><td>--</td><td>--</td><td>0.35</td><td>--</td><td>0.33</td><td>--</td><td>--</td><td>--</td><td>1.0</td><td>--</td><td>--</td><td>--</td><td>--</td><td>--</td><td>--</td><td>--</td><td>--</td><td>--</td><td>18</td><td>2</td><td>3</td><td>3</td><td>92</td><td>44</td></tr>\n",
       "<tr><td>1057</td><td>-1.0</td><td>--</td><td>--</td><td>0.35</td><td>--</td><td>0.56</td><td>--</td><td>--</td><td>--</td><td>1.0</td><td>--</td><td>0.35</td><td>--</td><td>--</td><td>--</td><td>--</td><td>--</td><td>--</td><td>--</td><td>18</td><td>2</td><td>3</td><td>1</td><td>92</td><td>44</td></tr>\n",
       "<tr><td>1058</td><td>-1.0</td><td>--</td><td>--</td><td>0.35</td><td>--</td><td>0.3</td><td>--</td><td>--</td><td>--</td><td>1.0</td><td>--</td><td>0.24</td><td>--</td><td>--</td><td>--</td><td>--</td><td>--</td><td>--</td><td>--</td><td>18</td><td>2</td><td>3</td><td>3</td><td>92</td><td>44</td></tr>\n",
       "<tr><td>1059</td><td>-1.0</td><td>--</td><td>--</td><td>0.35</td><td>--</td><td>0.54</td><td>--</td><td>--</td><td>--</td><td>1.0</td><td>--</td><td>--</td><td>--</td><td>--</td><td>--</td><td>--</td><td>--</td><td>--</td><td>--</td><td>18</td><td>2</td><td>3</td><td>3</td><td>92</td><td>44</td></tr>\n",
       "<tr><td>1060</td><td>-1.0</td><td>--</td><td>--</td><td>0.35</td><td>--</td><td>1.33</td><td>--</td><td>--</td><td>--</td><td>1.0</td><td>--</td><td>--</td><td>--</td><td>--</td><td>--</td><td>--</td><td>--</td><td>--</td><td>--</td><td>18</td><td>2</td><td>3</td><td>1</td><td>92</td><td>44</td></tr>\n",
       "<tr><td>1061</td><td>-1.0</td><td>--</td><td>--</td><td>0.35</td><td>--</td><td>0.44</td><td>--</td><td>--</td><td>--</td><td>1.0</td><td>--</td><td>--</td><td>--</td><td>--</td><td>--</td><td>--</td><td>--</td><td>--</td><td>--</td><td>18</td><td>2</td><td>3</td><td>3</td><td>92</td><td>44</td></tr>\n",
       "</table>"
      ],
      "text/plain": [
       "<Table masked=True length=1061>\n",
       "ObsID   Pos    I3727   I4363    IHb    I4959  ... MType  Slit Region GalID  RefN\n",
       "         pc                                   ...                               \n",
       "int64 float64 float64 float64 float64 float64 ... int64 int64 int64  int64 int64\n",
       "----- ------- ------- ------- ------- ------- ... ----- ----- ------ ----- -----\n",
       "    1    0.03      --      --     1.0     0.2 ...    12     3      1     2     1\n",
       "    2    0.03      --      --     1.0    0.33 ...    12     3      1     2     1\n",
       "    3    0.05      --      --     1.0    0.32 ...    12     3      1     2     1\n",
       "    4    0.06      --      --     1.0    0.12 ...    12     3      1     2     1\n",
       "    5    0.07      --      --     1.0    0.27 ...    12     3      1     2     1\n",
       "    6    0.12      --      --     1.0    0.31 ...    12     3      1     2     1\n",
       "    7    0.13      --      --     1.0    0.29 ...    12     3      1     2     1\n",
       "    8    0.15      --      --     1.0     0.3 ...    12     3      1     2     1\n",
       "    9    0.15      --      --     1.0    0.57 ...    12     3      1     2     1\n",
       "  ...     ...     ...     ...     ...     ... ...   ...   ...    ...   ...   ...\n",
       " 1052    -1.0      --      --    0.35      -- ...     2     3      3    92    44\n",
       " 1053    -1.0      --      --    0.35      -- ...     2     3      3    92    44\n",
       " 1054    -1.0      --      --    0.35      -- ...     2     3      3    92    44\n",
       " 1055    -1.0      --      --    0.35      -- ...     2     3      1    92    44\n",
       " 1056    -1.0      --      --    0.35      -- ...     2     3      3    92    44\n",
       " 1057    -1.0      --      --    0.35      -- ...     2     3      1    92    44\n",
       " 1058    -1.0      --      --    0.35      -- ...     2     3      3    92    44\n",
       " 1059    -1.0      --      --    0.35      -- ...     2     3      3    92    44\n",
       " 1060    -1.0      --      --    0.35      -- ...     2     3      1    92    44\n",
       " 1061    -1.0      --      --    0.35      -- ...     2     3      3    92    44"
      ]
     },
     "execution_count": 86,
     "metadata": {},
     "output_type": "execute_result"
    }
   ],
   "source": [
    "t"
   ]
  },
  {
   "cell_type": "code",
   "execution_count": 87,
   "metadata": {
    "collapsed": false
   },
   "outputs": [],
   "source": [
    "t.show_in_browser(jsviewer=True)"
   ]
  },
  {
   "cell_type": "code",
   "execution_count": 88,
   "metadata": {
    "collapsed": false
   },
   "outputs": [
    {
     "name": "stderr",
     "output_type": "stream",
     "text": [
      "/Users/christophemorisset/anaconda/lib/python2.7/site-packages/numpy/ma/core.py:827: RuntimeWarning: invalid value encountered in less_equal\n",
      "  return umath.less_equal(x, self.critical_value)\n"
     ]
    },
    {
     "data": {
      "text/plain": [
       "<matplotlib.text.Text at 0x1108a51d0>"
      ]
     },
     "execution_count": 88,
     "metadata": {},
     "output_type": "execute_result"
    },
    {
     "data": {
      "image/png": "[encoded data removed]",
      "text/plain": [
       "<matplotlib.figure.Figure at 0x110881310>"
      ]
     },
     "metadata": {},
     "output_type": "display_data"
    }
   ],
   "source": [
    "plt.scatter(np.log10(t['I6583']), np.log10(t['I5007']), c=t['RefN'], edgecolor='None')\n",
    "plt.xlabel(r'[NII]/H$\\alpha$')\n",
    "plt.ylabel(r'log [OIII]/H$\\beta$')"
   ]
  },
  {
   "cell_type": "code",
   "execution_count": 89,
   "metadata": {
    "collapsed": false
   },
   "outputs": [
    {
     "name": "stdout",
     "output_type": "stream",
     "text": [
      "Downloading ftp://cdsarc.u-strasbg.fr/pub/cats/VII/253/snrs.dat [Done]\n",
      "Downloading ftp://cdsarc.u-strasbg.fr/pub/cats/VII/253/ReadMe [Done]\n"
     ]
    }
   ],
   "source": [
    "t = Table.read(\"ftp://cdsarc.u-strasbg.fr/pub/cats/VII/253/snrs.dat\",\n",
    "readme=\"ftp://cdsarc.u-strasbg.fr/pub/cats/VII/253/ReadMe\",\n",
    "format=\"ascii.cds\")"
   ]
  },
  {
   "cell_type": "code",
   "execution_count": 90,
   "metadata": {
    "collapsed": false
   },
   "outputs": [
    {
     "data": {
      "text/html": [
       "&lt;Table masked=True length=274&gt;\n",
       "<table id=\"table4571953680\" class=\"table-striped table-bordered table-condensed\">\n",
       "<thead><tr><th>SNR</th><th>RAh</th><th>RAm</th><th>RAs</th><th>DE-</th><th>DEd</th><th>DEm</th><th>MajDiam</th><th>---</th><th>MinDiam</th><th>u_MinDiam</th><th>type</th><th>l_S(1GHz)</th><th>S(1GHz)</th><th>u_S(1GHz)</th><th>Sp-Index</th><th>u_Sp-Index</th><th>Names</th></tr></thead>\n",
       "<thead><tr><th></th><th>h</th><th>min</th><th>s</th><th></th><th>deg</th><th>arcmin</th><th>arcmin</th><th></th><th>arcmin</th><th></th><th></th><th></th><th>Jy</th><th></th><th></th><th></th><th></th></tr></thead>\n",
       "<thead><tr><th>str11</th><th>int64</th><th>int64</th><th>int64</th><th>str1</th><th>int64</th><th>int64</th><th>float64</th><th>str1</th><th>float64</th><th>str1</th><th>str2</th><th>str1</th><th>float64</th><th>str1</th><th>float64</th><th>str1</th><th>str26</th></tr></thead>\n",
       "<tr><td>G000.0+00.0</td><td>17</td><td>45</td><td>44</td><td>-</td><td>29</td><td>0</td><td>3.5</td><td>x</td><td>2.5</td><td>--</td><td>S</td><td>--</td><td>100.0</td><td>?</td><td>0.8</td><td>?</td><td>Sgr A East</td></tr>\n",
       "<tr><td>G000.3+00.0</td><td>17</td><td>46</td><td>15</td><td>-</td><td>28</td><td>38</td><td>15.0</td><td>x</td><td>8.0</td><td>--</td><td>S</td><td>--</td><td>22.0</td><td>--</td><td>0.6</td><td>--</td><td>--</td></tr>\n",
       "<tr><td>G000.9+00.1</td><td>17</td><td>47</td><td>21</td><td>-</td><td>28</td><td>9</td><td>8.0</td><td>--</td><td>--</td><td>--</td><td>C</td><td>--</td><td>18.0</td><td>?</td><td>--</td><td>v</td><td>--</td></tr>\n",
       "<tr><td>G001.0-00.1</td><td>17</td><td>48</td><td>30</td><td>-</td><td>28</td><td>9</td><td>8.0</td><td>--</td><td>--</td><td>--</td><td>S</td><td>--</td><td>15.0</td><td>--</td><td>0.6</td><td>?</td><td>--</td></tr>\n",
       "<tr><td>G001.4-00.1</td><td>17</td><td>49</td><td>39</td><td>-</td><td>27</td><td>46</td><td>10.0</td><td>--</td><td>--</td><td>--</td><td>S</td><td>--</td><td>2.0</td><td>?</td><td>--</td><td>?</td><td>--</td></tr>\n",
       "<tr><td>G001.9+00.3</td><td>17</td><td>48</td><td>45</td><td>-</td><td>27</td><td>10</td><td>1.5</td><td>--</td><td>--</td><td>--</td><td>S</td><td>--</td><td>0.6</td><td>--</td><td>0.6</td><td>--</td><td>--</td></tr>\n",
       "<tr><td>G003.7-00.2</td><td>17</td><td>55</td><td>26</td><td>-</td><td>25</td><td>50</td><td>14.0</td><td>x</td><td>11.0</td><td>--</td><td>S</td><td>--</td><td>2.3</td><td>--</td><td>0.65</td><td>--</td><td>--</td></tr>\n",
       "<tr><td>G003.8+00.3</td><td>17</td><td>52</td><td>55</td><td>-</td><td>25</td><td>28</td><td>18.0</td><td>--</td><td>--</td><td>--</td><td>S?</td><td>--</td><td>3.0</td><td>?</td><td>0.6</td><td>--</td><td>--</td></tr>\n",
       "<tr><td>G004.2-03.5</td><td>18</td><td>8</td><td>55</td><td>-</td><td>27</td><td>3</td><td>28.0</td><td>--</td><td>--</td><td>--</td><td>S</td><td>--</td><td>3.2</td><td>?</td><td>0.6</td><td>?</td><td>--</td></tr>\n",
       "<tr><td>...</td><td>...</td><td>...</td><td>...</td><td>...</td><td>...</td><td>...</td><td>...</td><td>...</td><td>...</td><td>...</td><td>...</td><td>...</td><td>...</td><td>...</td><td>...</td><td>...</td><td>...</td></tr>\n",
       "<tr><td>G356.3-00.3</td><td>17</td><td>37</td><td>56</td><td>-</td><td>32</td><td>16</td><td>11.0</td><td>x</td><td>7.0</td><td>--</td><td>S</td><td>--</td><td>3.0</td><td>?</td><td>--</td><td>?</td><td>--</td></tr>\n",
       "<tr><td>G356.3-01.5</td><td>17</td><td>42</td><td>35</td><td>-</td><td>32</td><td>52</td><td>20.0</td><td>x</td><td>15.0</td><td>--</td><td>S</td><td>--</td><td>3.0</td><td>?</td><td>--</td><td>?</td><td>--</td></tr>\n",
       "<tr><td>G357.7-00.1</td><td>17</td><td>40</td><td>29</td><td>-</td><td>30</td><td>58</td><td>8.0</td><td>x</td><td>3.0</td><td>?</td><td>?</td><td>--</td><td>37.0</td><td>--</td><td>0.4</td><td>--</td><td>MSH 17-39</td></tr>\n",
       "<tr><td>G357.7+00.3</td><td>17</td><td>38</td><td>35</td><td>-</td><td>30</td><td>44</td><td>24.0</td><td>--</td><td>--</td><td>--</td><td>S</td><td>--</td><td>10.0</td><td>--</td><td>0.4</td><td>?</td><td>--</td></tr>\n",
       "<tr><td>G358.0+03.8</td><td>17</td><td>26</td><td>0</td><td>-</td><td>28</td><td>36</td><td>38.0</td><td>--</td><td>--</td><td>--</td><td>S</td><td>--</td><td>1.5</td><td>?</td><td>--</td><td>?</td><td>--</td></tr>\n",
       "<tr><td>G358.1+00.1</td><td>17</td><td>37</td><td>0</td><td>-</td><td>29</td><td>59</td><td>20.0</td><td>--</td><td>--</td><td>--</td><td>S</td><td>--</td><td>2.0</td><td>?</td><td>--</td><td>?</td><td>--</td></tr>\n",
       "<tr><td>G358.5-00.9</td><td>17</td><td>46</td><td>10</td><td>-</td><td>30</td><td>40</td><td>17.0</td><td>--</td><td>--</td><td>--</td><td>S</td><td>--</td><td>4.0</td><td>?</td><td>--</td><td>?</td><td>--</td></tr>\n",
       "<tr><td>G359.0-00.9</td><td>17</td><td>46</td><td>50</td><td>-</td><td>30</td><td>16</td><td>23.0</td><td>--</td><td>--</td><td>--</td><td>S</td><td>--</td><td>23.0</td><td>--</td><td>0.5</td><td>--</td><td>--</td></tr>\n",
       "<tr><td>G359.1-00.5</td><td>17</td><td>45</td><td>30</td><td>-</td><td>29</td><td>57</td><td>24.0</td><td>--</td><td>--</td><td>--</td><td>S</td><td>--</td><td>14.0</td><td>--</td><td>0.4</td><td>?</td><td>--</td></tr>\n",
       "<tr><td>G359.1+00.9</td><td>17</td><td>39</td><td>36</td><td>-</td><td>29</td><td>11</td><td>12.0</td><td>x</td><td>11.0</td><td>--</td><td>S</td><td>--</td><td>2.0</td><td>?</td><td>--</td><td>?</td><td>--</td></tr>\n",
       "</table>"
      ],
      "text/plain": [
       "<Table masked=True length=274>\n",
       "    SNR      RAh   RAm   RAs  DE-  ... u_S(1GHz) Sp-Index u_Sp-Index   Names   \n",
       "              h    min    s        ...                                         \n",
       "   str11    int64 int64 int64 str1 ...    str1   float64     str1      str26   \n",
       "----------- ----- ----- ----- ---- ... --------- -------- ---------- ----------\n",
       "G000.0+00.0    17    45    44    - ...         ?      0.8          ? Sgr A East\n",
       "G000.3+00.0    17    46    15    - ...        --      0.6         --         --\n",
       "G000.9+00.1    17    47    21    - ...         ?       --          v         --\n",
       "G001.0-00.1    17    48    30    - ...        --      0.6          ?         --\n",
       "G001.4-00.1    17    49    39    - ...         ?       --          ?         --\n",
       "G001.9+00.3    17    48    45    - ...        --      0.6         --         --\n",
       "G003.7-00.2    17    55    26    - ...        --     0.65         --         --\n",
       "G003.8+00.3    17    52    55    - ...         ?      0.6         --         --\n",
       "G004.2-03.5    18     8    55    - ...         ?      0.6          ?         --\n",
       "        ...   ...   ...   ...  ... ...       ...      ...        ...        ...\n",
       "G356.3-00.3    17    37    56    - ...         ?       --          ?         --\n",
       "G356.3-01.5    17    42    35    - ...         ?       --          ?         --\n",
       "G357.7-00.1    17    40    29    - ...        --      0.4         --  MSH 17-39\n",
       "G357.7+00.3    17    38    35    - ...        --      0.4          ?         --\n",
       "G358.0+03.8    17    26     0    - ...         ?       --          ?         --\n",
       "G358.1+00.1    17    37     0    - ...         ?       --          ?         --\n",
       "G358.5-00.9    17    46    10    - ...         ?       --          ?         --\n",
       "G359.0-00.9    17    46    50    - ...        --      0.5         --         --\n",
       "G359.1-00.5    17    45    30    - ...        --      0.4          ?         --\n",
       "G359.1+00.9    17    39    36    - ...         ?       --          ?         --"
      ]
     },
     "execution_count": 90,
     "metadata": {},
     "output_type": "execute_result"
    }
   ],
   "source": [
    "t"
   ]
  },
  {
   "cell_type": "code",
   "execution_count": 91,
   "metadata": {
    "collapsed": false
   },
   "outputs": [],
   "source": [
    "t.show_in_browser(jsviewer=True)"
   ]
  },
  {
   "cell_type": "code",
   "execution_count": 92,
   "metadata": {
    "collapsed": false
   },
   "outputs": [],
   "source": [
    "t[0:10].write('tab_cds1.tex', format='latex')"
   ]
  },
  {
   "cell_type": "code",
   "execution_count": 93,
   "metadata": {
    "collapsed": false
   },
   "outputs": [
    {
     "name": "stdout",
     "output_type": "stream",
     "text": [
      "\\begin{table}\r\n",
      "\\begin{tabular}{cccccccccccccccccc}\r\n",
      "SNR & RAh & RAm & RAs & DE- & DEd & DEm & MajDiam & --- & MinDiam & u_MinDiam & type & l_S(1GHz) & S(1GHz) & u_S(1GHz) & Sp-Index & u_Sp-Index & Names \\\\\r\n",
      " & $\\mathrm{h}$ & $\\mathrm{min}$ & $\\mathrm{s}$ &  & $\\mathrm{{}^{\\circ}}$ & $\\mathrm{{}^{\\prime}}$ & $\\mathrm{{}^{\\prime}}$ &  & $\\mathrm{{}^{\\prime}}$ &  &  &  & $\\mathrm{Jy}$ &  &  &  &  \\\\\r\n",
      "G000.0+00.0 & 17 & 45 & 44 & - & 29 & 0 & 3.5 & x & 2.5 & -- & S & -- & 100.0 & ? & 0.8 & ? & Sgr A East \\\\\r\n",
      "G000.3+00.0 & 17 & 46 & 15 & - & 28 & 38 & 15.0 & x & 8.0 & -- & S & -- & 22.0 & -- & 0.6 & -- & -- \\\\\r\n",
      "G000.9+00.1 & 17 & 47 & 21 & - & 28 & 9 & 8.0 & -- & -- & -- & C & -- & 18.0 & ? & -- & v & -- \\\\\r\n",
      "G001.0-00.1 & 17 & 48 & 30 & - & 28 & 9 & 8.0 & -- & -- & -- & S & -- & 15.0 & -- & 0.6 & ? & -- \\\\\r\n",
      "G001.4-00.1 & 17 & 49 & 39 & - & 27 & 46 & 10.0 & -- & -- & -- & S & -- & 2.0 & ? & -- & ? & -- \\\\\r\n",
      "G001.9+00.3 & 17 & 48 & 45 & - & 27 & 10 & 1.5 & -- & -- & -- & S & -- & 0.6 & -- & 0.6 & -- & -- \\\\\r\n",
      "G003.7-00.2 & 17 & 55 & 26 & - & 25 & 50 & 14.0 & x & 11.0 & -- & S & -- & 2.3 & -- & 0.65 & -- & -- \\\\\r\n",
      "G003.8+00.3 & 17 & 52 & 55 & - & 25 & 28 & 18.0 & -- & -- & -- & S? & -- & 3.0 & ? & 0.6 & -- & -- \\\\\r\n",
      "G004.2-03.5 & 18 & 8 & 55 & - & 27 & 3 & 28.0 & -- & -- & -- & S & -- & 3.2 & ? & 0.6 & ? & -- \\\\\r\n",
      "G004.5+06.8 & 17 & 30 & 42 & - & 21 & 29 & 3.0 & -- & -- & -- & S & -- & 19.0 & -- & 0.64 & -- & Kepler, SN1604, 3C358 \\\\\r\n",
      "\\end{tabular}\r\n",
      "\\end{table}\r\n"
     ]
    }
   ],
   "source": [
    "!cat tab_cds1.tex"
   ]
  },
  {
   "cell_type": "code",
   "execution_count": 95,
   "metadata": {
    "collapsed": false
   },
   "outputs": [],
   "source": [
    "t[10:20].write('tab_cds1.ascii', format='ascii', delimiter='|', formats={'Sp-Index': '%0.2f'})"
   ]
  },
  {
   "cell_type": "code",
   "execution_count": 96,
   "metadata": {
    "collapsed": false
   },
   "outputs": [
    {
     "name": "stdout",
     "output_type": "stream",
     "text": [
      "SNR|RAh|RAm|RAs|DE-|DEd|DEm|MajDiam|---|MinDiam|u_MinDiam|type|l_S(1GHz)|S(1GHz)|u_S(1GHz)|Sp-Index|u_Sp-Index|Names\r\n",
      "G004.8+06.2|17|33|25|-|21|34|18.0|--|--|--|S|--|3.0|--|0.60|--|--\r\n",
      "G005.2-02.6|18|7|30|-|25|45|18.0|--|--|--|S|--|2.6|?|0.60|?|--\r\n",
      "G005.4-01.2|18|2|10|-|24|54|35.0|--|--|--|C?|--|35.0|?|0.20|?|Milne 56\r\n",
      "G005.5+00.3|17|57|4|-|24|0|15.0|x|12.0|--|S|--|5.5|--|0.70|--|--\r\n",
      "G005.9+03.1|17|47|20|-|22|16|20.0|--|--|--|S|--|3.3|?|0.40|?|--\r\n",
      "G006.1+00.5|17|57|29|-|23|25|18.0|x|12.0|--|S|--|4.5|--|0.90|--|--\r\n",
      "G006.1+01.2|17|54|55|-|23|5|30.0|x|26.0|--|F|--|4.0|?|0.30|?|--\r\n",
      "G006.4-00.1|18|0|30|-|23|26|48.0|--|--|--|C|--|310.0|--|--|v|W28\r\n",
      "G006.4+04.0|17|45|10|-|21|22|31.0|--|--|--|S|--|1.3|?|0.40|?|--\r\n",
      "G006.5-00.4|18|2|11|-|23|34|18.0|--|--|--|S|--|27.0|--|0.60|--|--\r\n"
     ]
    }
   ],
   "source": [
    "!cat tab_cds1.ascii"
   ]
  },
  {
   "cell_type": "code",
   "execution_count": 97,
   "metadata": {
    "collapsed": false
   },
   "outputs": [],
   "source": [
    "t[10:20].write('tab_cds2.ascii', format='ascii.fixed_width', delimiter='|', formats={'Sp-Index': '%0.2f'})"
   ]
  },
  {
   "cell_type": "code",
   "execution_count": 98,
   "metadata": {
    "collapsed": false
   },
   "outputs": [
    {
     "name": "stdout",
     "output_type": "stream",
     "text": [
      "|         SNR | RAh | RAm | RAs | DE- | DEd | DEm | MajDiam | --- | MinDiam | u_MinDiam | type | l_S(1GHz) | S(1GHz) | u_S(1GHz) | Sp-Index | u_Sp-Index |    Names |\r\n",
      "| G004.8+06.2 |  17 |  33 |  25 |   - |  21 |  34 |    18.0 |  -- |      -- |        -- |    S |        -- |     3.0 |        -- |     0.60 |         -- |       -- |\r\n",
      "| G005.2-02.6 |  18 |   7 |  30 |   - |  25 |  45 |    18.0 |  -- |      -- |        -- |    S |        -- |     2.6 |         ? |     0.60 |          ? |       -- |\r\n",
      "| G005.4-01.2 |  18 |   2 |  10 |   - |  24 |  54 |    35.0 |  -- |      -- |        -- |   C? |        -- |    35.0 |         ? |     0.20 |          ? | Milne 56 |\r\n",
      "| G005.5+00.3 |  17 |  57 |   4 |   - |  24 |   0 |    15.0 |   x |    12.0 |        -- |    S |        -- |     5.5 |        -- |     0.70 |         -- |       -- |\r\n",
      "| G005.9+03.1 |  17 |  47 |  20 |   - |  22 |  16 |    20.0 |  -- |      -- |        -- |    S |        -- |     3.3 |         ? |     0.40 |          ? |       -- |\r\n",
      "| G006.1+00.5 |  17 |  57 |  29 |   - |  23 |  25 |    18.0 |   x |    12.0 |        -- |    S |        -- |     4.5 |        -- |     0.90 |         -- |       -- |\r\n",
      "| G006.1+01.2 |  17 |  54 |  55 |   - |  23 |   5 |    30.0 |   x |    26.0 |        -- |    F |        -- |     4.0 |         ? |     0.30 |          ? |       -- |\r\n",
      "| G006.4-00.1 |  18 |   0 |  30 |   - |  23 |  26 |    48.0 |  -- |      -- |        -- |    C |        -- |   310.0 |        -- |       -- |          v |      W28 |\r\n",
      "| G006.4+04.0 |  17 |  45 |  10 |   - |  21 |  22 |    31.0 |  -- |      -- |        -- |    S |        -- |     1.3 |         ? |     0.40 |          ? |       -- |\r\n",
      "| G006.5-00.4 |  18 |   2 |  11 |   - |  23 |  34 |    18.0 |  -- |      -- |        -- |    S |        -- |    27.0 |        -- |     0.60 |         -- |       -- |\r\n"
     ]
    }
   ],
   "source": [
    "!cat tab_cds2.ascii"
   ]
  },
  {
   "cell_type": "markdown",
   "metadata": {},
   "source": [
    "The astropy Table can also read FITS files (if containing tables), VO tables and hdf5 format. See more there: http://docs.astropy.org/en/stable/io/unified.html"
   ]
  },
  {
   "cell_type": "markdown",
   "metadata": {},
   "source": [
    "### Time and Dates"
   ]
  },
  {
   "cell_type": "markdown",
   "metadata": {},
   "source": [
    "The astropy.time package provides functionality for manipulating times and dates. Specific emphasis is placed on supporting time scales (e.g. UTC, TAI, UT1, TDB) and time representations (e.g. JD, MJD, ISO 8601) that are used in astronomy and required to calculate, e.g., sidereal times and barycentric corrections. It uses Cython to wrap the C language ERFA time and calendar routines, using a fast and memory efficient vectorization scheme. More here: http://docs.astropy.org/en/stable/time/index.html"
   ]
  },
  {
   "cell_type": "markdown",
   "metadata": {},
   "source": [
    "### Coordinates"
   ]
  },
  {
   "cell_type": "markdown",
   "metadata": {},
   "source": [
    "The coordinates package provides classes for representing a variety of celestial/spatial coordinates, as well as tools for converting between common coordinate systems in a uniform way."
   ]
  },
  {
   "cell_type": "code",
   "execution_count": 99,
   "metadata": {
    "collapsed": false
   },
   "outputs": [],
   "source": [
    "from astropy import units as u\n",
    "from astropy.coordinates import SkyCoord"
   ]
  },
  {
   "cell_type": "code",
   "execution_count": 100,
   "metadata": {
    "collapsed": false
   },
   "outputs": [
    {
     "data": {
      "text/plain": [
       "<SkyCoord (ICRS): (ra, dec) in deg\n",
       "    (10.5, 41.2)>"
      ]
     },
     "execution_count": 100,
     "metadata": {},
     "output_type": "execute_result"
    }
   ],
   "source": [
    "c = SkyCoord(ra=10.5*u.degree, dec=41.2*u.degree, frame='icrs')\n",
    "c"
   ]
  },
  {
   "cell_type": "code",
   "execution_count": 103,
   "metadata": {
    "collapsed": false
   },
   "outputs": [
    {
     "data": {
      "text/plain": [
       "<SkyCoord (ICRS): (ra, dec) in deg\n",
       "    (10.5, 41.2)>"
      ]
     },
     "execution_count": 103,
     "metadata": {},
     "output_type": "execute_result"
    }
   ],
   "source": [
    "c = SkyCoord('0 42 00 +41 12 00', frame='icrs', unit=(u.hourangle, u.deg))\n",
    "c"
   ]
  },
  {
   "cell_type": "code",
   "execution_count": 105,
   "metadata": {
    "collapsed": false
   },
   "outputs": [
    {
     "name": "stdout",
     "output_type": "stream",
     "text": [
      "10d30m00s 41d12m00s\n"
     ]
    }
   ],
   "source": [
    "print c.ra, c.dec"
   ]
  },
  {
   "cell_type": "code",
   "execution_count": 106,
   "metadata": {
    "collapsed": false
   },
   "outputs": [
    {
     "data": {
      "text/plain": [
       "u'10.5 41.2'"
      ]
     },
     "execution_count": 106,
     "metadata": {},
     "output_type": "execute_result"
    }
   ],
   "source": [
    "c.to_string('decimal')"
   ]
  },
  {
   "cell_type": "code",
   "execution_count": 107,
   "metadata": {
    "collapsed": false
   },
   "outputs": [
    {
     "name": "stdout",
     "output_type": "stream",
     "text": [
      "$41^\\circ12{}^\\prime00{}^{\\prime\\prime}$\n"
     ]
    }
   ],
   "source": [
    "print c.dec.to_string(format='latex')"
   ]
  },
  {
   "cell_type": "markdown",
   "metadata": {},
   "source": [
    "$$41^\\circ12{}^\\prime00{}^{\\prime\\prime}$$"
   ]
  },
  {
   "cell_type": "markdown",
   "metadata": {},
   "source": [
    "### Modeling"
   ]
  },
  {
   "cell_type": "markdown",
   "metadata": {},
   "source": [
    "astropy.modeling provides a framework for representing models and performing model evaluation and fitting. It currently supports 1-D and 2-D models and fitting with parameter constraints.\n",
    "\n",
    "It is designed to be easily extensible and flexible. Models do not reference fitting algorithms explicitly and new fitting algorithms may be added without changing the existing models (though not all models can be used with all fitting algorithms due to constraints such as model linearity).\n",
    "\n",
    "The goal is to eventually provide a rich toolset of models and fitters such that most users will not need to define new model classes, nor special purpose fitting routines (while making it reasonably easy to do when necessary)."
   ]
  },
  {
   "cell_type": "markdown",
   "metadata": {},
   "source": [
    "### Convolution and filtering"
   ]
  },
  {
   "cell_type": "markdown",
   "metadata": {},
   "source": [
    "astropy.convolution provides convolution functions and kernels that offers improvements compared to the scipy scipy.ndimage convolution routines, including:\n",
    "\n",
    "* Proper treatment of NaN values\n",
    "* A single function for 1-D, 2-D, and 3-D convolution\n",
    "* Improved options for the treatment of edges\n",
    "* Both direct and Fast Fourier Transform (FFT) versions\n",
    "* Built-in kernels that are commonly used in Astronomy\n",
    "\n",
    "More on http://docs.astropy.org/en/stable/convolution/index.html"
   ]
  },
  {
   "cell_type": "code",
   "execution_count": null,
   "metadata": {
    "collapsed": false
   },
   "outputs": [],
   "source": []
  }
 ],
 "metadata": {
  "kernelspec": {
   "display_name": "Python 2",
   "language": "python",
   "name": "python2"
  },
  "language_info": {
   "codemirror_mode": {
    "name": "ipython",
    "version": 2
   },
   "file_extension": ".py",
   "mimetype": "text/x-python",
   "name": "python",
   "nbconvert_exporter": "python",
   "pygments_lexer": "ipython2",
   "version": "2.7.11"
  }
 },
 "nbformat": 4,
 "nbformat_minor": 0
}
