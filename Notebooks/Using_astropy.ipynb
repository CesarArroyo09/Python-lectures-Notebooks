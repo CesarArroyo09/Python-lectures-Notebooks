{
 "metadata": {
  "name": "",
  "signature": "sha256:cf30bf026c63a613926294a85b0c7082744b5fc59b06b2603d8b709b2bf81ba1"
 },
 "nbformat": 3,
 "nbformat_minor": 0,
 "worksheets": [
  {
   "cells": [
    {
     "cell_type": "code",
     "collapsed": false,
     "input": [
      "# Just to know last time this was run:\n",
      "import time\n",
      "print time.ctime()"
     ],
     "language": "python",
     "metadata": {},
     "outputs": [
      {
       "output_type": "stream",
       "stream": "stdout",
       "text": [
        "Thu Sep 25 18:06:40 2014\n"
       ]
      }
     ],
     "prompt_number": 1
    },
    {
     "cell_type": "heading",
     "level": 1,
     "metadata": {},
     "source": [
      "G The astropy package"
     ]
    },
    {
     "cell_type": "markdown",
     "metadata": {},
     "source": [
      "The Astropy Project is a community effort to develop a single core package for Astronomy in Python and foster interoperability between Python astronomy packages. More informations here: http://www.astropy.org/"
     ]
    },
    {
     "cell_type": "markdown",
     "metadata": {},
     "source": [
      "!!! WARNING !!!\n",
      "\n",
      "To install atpy, one must use the --no-deps option when using pip (otherwise updates of numpy may be performed):\n",
      "\n",
      "*pip install -U --no-deps astropy*"
     ]
    },
    {
     "cell_type": "code",
     "collapsed": false,
     "input": [
      "%matplotlib inline\n",
      "import numpy as np\n",
      "import matplotlib.pyplot as plt"
     ],
     "language": "python",
     "metadata": {},
     "outputs": [],
     "prompt_number": 6
    },
    {
     "cell_type": "heading",
     "level": 3,
     "metadata": {},
     "source": [
      "Constants and Units"
     ]
    },
    {
     "cell_type": "code",
     "collapsed": false,
     "input": [
      "from astropy import constants as const\n",
      "from astropy import units as u\n",
      "help(const)"
     ],
     "language": "python",
     "metadata": {},
     "outputs": [
      {
       "output_type": "stream",
       "stream": "stdout",
       "text": [
        "Help on package astropy.constants in astropy:\n",
        "\n",
        "NAME\n",
        "    astropy.constants\n",
        "\n",
        "FILE\n",
        "    /home/puma/Ureka/variants/common/lib/python2.7/site-packages/astropy/constants/__init__.py\n",
        "\n",
        "DESCRIPTION\n",
        "    Contains astronomical and physical constants for use in Astropy or other\n",
        "    places.\n",
        "    \n",
        "    A typical use case might be::\n",
        "    \n",
        "        >>> from astropy.constants import c, m_e\n",
        "        >>> # ... define the mass of something you want the rest energy of as m ...\n",
        "        >>> m = m_e\n",
        "        >>> E = m * c**2\n",
        "        >>> E.to('MeV')  # doctest: +FLOAT_CMP\n",
        "        <Quantity 0.510998927603161 MeV>\n",
        "    \n",
        "    The following constants are available:\n",
        "    \n",
        "    ========== ============== ================ =========================\n",
        "       Name        Value            Unit       Description\n",
        "    ========== ============== ================ =========================\n",
        "        G       6.67384e-11     m3 / (kg s2)   Gravitational constant\n",
        "      L_sun      3.846e+26           W         Solar luminosity\n",
        "     M_earth     5.9742e+24          kg        Earth mass\n",
        "      M_jup      1.8987e+27          kg        Jupiter mass\n",
        "      M_sun      1.9891e+30          kg        Solar mass\n",
        "       N_A     6.02214129e+23    1 / (mol)     Avogadro's number\n",
        "        R        8.3144621      J / (K mol)    Gas constant\n",
        "     R_earth      6378136            m         Earth equatorial radius\n",
        "      R_jup       71492000           m         Jupiter equatorial radius\n",
        "      R_sun      695508000           m         Solar radius\n",
        "       Ryd       10973731.6       1 / (m)      Rydberg constant\n",
        "        a0     5.29177211e-11        m         Bohr radius\n",
        "      alpha    0.00729735257                   Fine-structure constant\n",
        "    atmosphere     101325            Pa        Atmosphere\n",
        "        au     1.49597871e+11        m         Astronomical Unit\n",
        "      b_wien    0.0028977721        m K        Wien wavelength displacement law constant\n",
        "        c        299792458        m / (s)      Speed of light in vacuum\n",
        "        e      1.60217657e-19        C         Electron charge\n",
        "       eps0    8.85418782e-12       F/m        Electric constant\n",
        "        g0        9.80665          m / s2      Standard acceleration of gravity\n",
        "        h      6.62606957e-34       J s        Planck constant\n",
        "       hbar    1.05457173e-34       J s        Reduced Planck constant\n",
        "       k_B     1.3806488e-23      J / (K)      Boltzmann constant\n",
        "       kpc     3.08567758e+19        m         Kiloparsec\n",
        "       m_e     9.10938291e-31        kg        Electron mass\n",
        "       m_n     1.67492735e-27        kg        Neutron mass\n",
        "       m_p     1.67262178e-27        kg        Proton mass\n",
        "       mu0     1.25663706e-06       N/A2       Magnetic constant\n",
        "       muB     9.27400968e-24       J/T        Bohr magneton\n",
        "        pc     3.08567758e+16        m         Parsec\n",
        "     sigma_sb   5.670373e-08    W / (K4 m2)    Stefan-Boltzmann constant\n",
        "        u      1.66053892e-27        kg        Atomic mass\n",
        "    ========== ============== ================ =========================\n",
        "\n",
        "PACKAGE CONTENTS\n",
        "    cgs\n",
        "    constant\n",
        "    setup_package\n",
        "    si\n",
        "    tests (package)\n",
        "\n",
        "DATA\n",
        "    G = <Constant name=u'Gravitational constant' value=6...15 units='m3 / ...\n",
        "    L_sun = <Constant name=u'Solar luminosity' value=3.846e+...ence=u\"Alle...\n",
        "    M_earth = <Constant name=u'Earth mass' value=5.9742e+24 er...ence=u\"Al...\n",
        "    M_jup = <Constant name=u'Jupiter mass' value=1.8987e+27 ...ence=u\"Alle...\n",
        "    M_sun = <Constant name=u'Solar mass' value=1.9891e+30 er...ence=u\"Alle...\n",
        "    N_A = <Constant name=u\"Avogadro's number\" value=6.0221...2.7e+16 units...\n",
        "    R = <Constant name=u'Gas constant' value=8.3144621 e...-06 units='J / ...\n",
        "    R_earth = <Constant name=u'Earth equatorial radius' value=...ence=u\"Al...\n",
        "    R_jup = <Constant name=u'Jupiter equatorial radius' valu...ence=u\"Alle...\n",
        "    R_sun = <Constant name=u'Solar radius' value=695508000.0...ence=u\"Alle...\n",
        "    Ryd = <Constant name=u'Rydberg constant' value=1097373...r=5.5e-05 uni...\n",
        "    a0 = <Constant name=u'Bohr radius' value=5.2917721092...error=1.7e-20 ...\n",
        "    absolute_import = _Feature((2, 5, 0, 'alpha', 1), (3, 0, 0, 'alpha', 0...\n",
        "    alpha = <Constant name=u'Fine-structure constant' value=... error=2.4e...\n",
        "    atmosphere = <Constant name=u'Atmosphere' value=101325.0 error=0.0 uni...\n",
        "    au = <Constant name=u'Astronomical Unit' value=1.4959....0 units='m' r...\n",
        "    b_wien = <Constant name=u'Wien wavelength displacement la...ror=2.6e-0...\n",
        "    c = <Constant name=u'Speed of light in vacuum' value...error=0.0 units...\n",
        "    division = _Feature((2, 2, 0, 'alpha', 2), (3, 0, 0, 'alpha', 0), 8192...\n",
        "    e = <Constant name=u'Electron charge' value=1.602176...error=3.5e-27 u...\n",
        "    eps0 = <Constant name=u'Electric constant' value=8.8541...error=0.0 un...\n",
        "    g0 = <Constant name=u'Standard acceleration of gravit...rror=0.0 units...\n",
        "    h = <Constant name=u'Planck constant' value=6.626069...ror=2.9e-41 uni...\n",
        "    hbar = <Constant name=u'Reduced Planck constant' value=...9334966e-42 ...\n",
        "    k_B = <Constant name=u'Boltzmann constant' value=1.380...r=1.3e-29 uni...\n",
        "    kpc = <Constant name=u'Kiloparsec' value=3.08567758147...error=0.0 uni...\n",
        "    m_e = <Constant name=u'Electron mass' value=9.10938291... error=4e-38 ...\n",
        "    m_n = <Constant name=u'Neutron mass' value=1.674927351...rror=7.4e-35 ...\n",
        "    m_p = <Constant name=u'Proton mass' value=1.672621777e...rror=7.4e-35 ...\n",
        "    mu0 = <Constant name=u'Magnetic constant' value=1.2566...rror=0.0 unit...\n",
        "    muB = <Constant name=u'Bohr magneton' value=9.27400968...ror=2e-31 uni...\n",
        "    pc = <Constant name=u'Parsec' value=3.08567758147e+16 error=0.0 units=...\n",
        "    print_function = _Feature((2, 6, 0, 'alpha', 2), (3, 0, 0, 'alpha', 0)...\n",
        "    sigma_sb = <Constant name=u'Stefan-Boltzmann constant' valu...-13 unit...\n",
        "    u = <Constant name=u'Atomic mass' value=1.660538921e...rror=7.3e-35 un...\n",
        "    unicode_literals = _Feature((2, 6, 0, 'alpha', 2), (3, 0, 0, 'alpha', ...\n",
        "\n",
        "\n"
       ]
      }
     ],
     "prompt_number": 3
    },
    {
     "cell_type": "code",
     "collapsed": false,
     "input": [
      "# Pretty printing\n",
      "print const.c"
     ],
     "language": "python",
     "metadata": {},
     "outputs": [
      {
       "output_type": "stream",
       "stream": "stdout",
       "text": [
        "  Name   = Speed of light in vacuum\n",
        "  Value  = 299792458.0\n",
        "  Error  = 0.0\n",
        "  Units  = m / s\n",
        "  Reference = CODATA 2010\n"
       ]
      }
     ],
     "prompt_number": 4
    },
    {
     "cell_type": "code",
     "collapsed": false,
     "input": [
      "# .to change the unit\n",
      "print const.c.to('pc/yr')"
     ],
     "language": "python",
     "metadata": {},
     "outputs": [
      {
       "output_type": "stream",
       "stream": "stdout",
       "text": [
        "0.306601393788 pc / yr\n"
       ]
      }
     ],
     "prompt_number": 5
    },
    {
     "cell_type": "code",
     "collapsed": false,
     "input": [
      "# basic operations are managed\n",
      "const.c * 2"
     ],
     "language": "python",
     "metadata": {},
     "outputs": [
      {
       "latex": [
        "$5.99585\\times 10^{+08} \\; \\mathrm{\\frac{m}{s}}$"
       ],
       "metadata": {},
       "output_type": "pyout",
       "prompt_number": 6,
       "text": [
        "<Quantity 599584916.0 m / s>"
       ]
      }
     ],
     "prompt_number": 6
    },
    {
     "cell_type": "code",
     "collapsed": false,
     "input": [
      "np.sqrt(const.c)"
     ],
     "language": "python",
     "metadata": {},
     "outputs": [
      {
       "latex": [
        "$17314.5 \\; \\mathrm{\\frac{m^{1/2}}{s^{1/2}}}$"
       ],
       "metadata": {},
       "output_type": "pyout",
       "prompt_number": 7,
       "text": [
        "<Quantity 17314.51581766005 m(1/2) / s(1/2)>"
       ]
      }
     ],
     "prompt_number": 7
    },
    {
     "cell_type": "code",
     "collapsed": false,
     "input": [
      "print np.sqrt(const.c)"
     ],
     "language": "python",
     "metadata": {},
     "outputs": [
      {
       "output_type": "stream",
       "stream": "stdout",
       "text": [
        "17314.5158177 m(1/2) / s(1/2)\n"
       ]
      }
     ],
     "prompt_number": 8
    },
    {
     "cell_type": "code",
     "collapsed": false,
     "input": [
      "# Following the units\n",
      "F = (const.G * 3. * const.M_sun * 100 * u.kg) / (2.2 * u.au) ** 2\n",
      "print F"
     ],
     "language": "python",
     "metadata": {},
     "outputs": [
      {
       "output_type": "stream",
       "stream": "stdout",
       "text": [
        "8.22826558512e+21 kg m3 / (AU2 s2)\n"
       ]
      }
     ],
     "prompt_number": 9
    },
    {
     "cell_type": "code",
     "collapsed": false,
     "input": [
      "F"
     ],
     "language": "python",
     "metadata": {},
     "outputs": [
      {
       "latex": [
        "$8.22827\\times 10^{+21} \\; \\mathrm{\\frac{m^{3}\\,kg}{AU^{2}\\,s^{2}}}$"
       ],
       "metadata": {},
       "output_type": "pyout",
       "prompt_number": 10,
       "text": [
        "<Quantity 8.228265585123966e+21 kg m3 / (AU2 s2)>"
       ]
      }
     ],
     "prompt_number": 10
    },
    {
     "cell_type": "code",
     "collapsed": false,
     "input": [
      "# Convert in more classical unit\n",
      "print F.to(u.N)"
     ],
     "language": "python",
     "metadata": {},
     "outputs": [
      {
       "output_type": "stream",
       "stream": "stdout",
       "text": [
        "0.367669392028 N\n"
       ]
      }
     ],
     "prompt_number": 11
    },
    {
     "cell_type": "code",
     "collapsed": false,
     "input": [
      "q = 42.0 * u.meter"
     ],
     "language": "python",
     "metadata": {},
     "outputs": [],
     "prompt_number": 12
    },
    {
     "cell_type": "code",
     "collapsed": false,
     "input": [
      "q**2"
     ],
     "language": "python",
     "metadata": {},
     "outputs": [
      {
       "latex": [
        "$1764 \\; \\mathrm{m^{2}}$"
       ],
       "metadata": {},
       "output_type": "pyout",
       "prompt_number": 13,
       "text": [
        "<Quantity 1764.0 m2>"
       ]
      }
     ],
     "prompt_number": 13
    },
    {
     "cell_type": "code",
     "collapsed": false,
     "input": [
      "# Extract only the value\n",
      "(q**2).value"
     ],
     "language": "python",
     "metadata": {},
     "outputs": [
      {
       "metadata": {},
       "output_type": "pyout",
       "prompt_number": 14,
       "text": [
        "1764.0"
       ]
      }
     ],
     "prompt_number": 14
    },
    {
     "cell_type": "code",
     "collapsed": false,
     "input": [
      "# Resolving redondant units\n",
      "t = 3.0 * u.kilometer / (130.51 * u.meter / u.second)\n",
      "print t\n",
      "print t.decompose()"
     ],
     "language": "python",
     "metadata": {},
     "outputs": [
      {
       "output_type": "stream",
       "stream": "stdout",
       "text": [
        "0.0229867443108 km s / m\n",
        "22.9867443108 s\n"
       ]
      }
     ],
     "prompt_number": 15
    },
    {
     "cell_type": "code",
     "collapsed": false,
     "input": [
      "x = 1.0 * u.parsec\n",
      "print x.to(u.km)"
     ],
     "language": "python",
     "metadata": {},
     "outputs": [
      {
       "output_type": "stream",
       "stream": "stdout",
       "text": [
        "3.08567758147e+13 km\n"
       ]
      }
     ],
     "prompt_number": 16
    },
    {
     "cell_type": "code",
     "collapsed": false,
     "input": [
      "lam = 5007 * u.angstrom"
     ],
     "language": "python",
     "metadata": {},
     "outputs": [],
     "prompt_number": 17
    },
    {
     "cell_type": "code",
     "collapsed": false,
     "input": [
      "print lam.to(u.nm)\n",
      "print lam.to(u.micron)"
     ],
     "language": "python",
     "metadata": {},
     "outputs": [
      {
       "output_type": "stream",
       "stream": "stdout",
       "text": [
        "500.7 nm\n",
        "0.5007 micron\n"
       ]
      }
     ],
     "prompt_number": 18
    },
    {
     "cell_type": "code",
     "collapsed": false,
     "input": [
      "# Some transformations needs extra information, available from u.special\n",
      "print lam.to(u.eV, equivalencies=u.spectral())"
     ],
     "language": "python",
     "metadata": {},
     "outputs": [
      {
       "output_type": "stream",
       "stream": "stdout",
       "text": [
        "2.47621715438 eV\n"
       ]
      }
     ],
     "prompt_number": 19
    },
    {
     "cell_type": "markdown",
     "metadata": {},
     "source": [
      "More in http://docs.astropy.org/en/stable/units/index.html"
     ]
    },
    {
     "cell_type": "heading",
     "level": 3,
     "metadata": {},
     "source": [
      "Data Table"
     ]
    },
    {
     "cell_type": "markdown",
     "metadata": {},
     "source": [
      "http://docs.astropy.org/en/stable/table/index.html"
     ]
    },
    {
     "cell_type": "code",
     "collapsed": false,
     "input": [
      "from astropy.table import Table"
     ],
     "language": "python",
     "metadata": {},
     "outputs": [],
     "prompt_number": 2
    },
    {
     "cell_type": "code",
     "collapsed": false,
     "input": [
      "# create a table with non homogeneous types\n",
      "a = [1, 4, 5]\n",
      "b = [2.0, 5.0, 8.2]\n",
      "c = ['x', 'y', 'z']\n",
      "t = Table([a, b, c], names=('a', 'b', 'c'), meta={'name': 'first table'})\n",
      "print t"
     ],
     "language": "python",
     "metadata": {},
     "outputs": [
      {
       "output_type": "stream",
       "stream": "stdout",
       "text": [
        " a   b   c \n",
        "--- --- ---\n",
        "  1 2.0   x\n",
        "  4 5.0   y\n",
        "  5 8.2   z\n"
       ]
      }
     ],
     "prompt_number": 21
    },
    {
     "cell_type": "code",
     "collapsed": false,
     "input": [
      "# Pretty output\n",
      "t"
     ],
     "language": "python",
     "metadata": {},
     "outputs": [
      {
       "html": [
        "<table id=\"table156347884\"><thead><tr><th>a</th><th>b</th><th>c</th></tr></thead><tr><td>1</td><td>2.0</td><td>x</td></tr><tr><td>4</td><td>5.0</td><td>y</td></tr><tr><td>5</td><td>8.2</td><td>z</td></tr></table>"
       ],
       "metadata": {},
       "output_type": "pyout",
       "prompt_number": 22,
       "text": [
        "<Table rows=3 names=('a','b','c')>\n",
        "array([(1, 2.0, 'x'), (4, 5.0, 'y'), (5, 8.2, 'z')], \n",
        "      dtype=[('a', '<i4'), ('b', '<f8'), ('c', 'S1')])"
       ]
      }
     ],
     "prompt_number": 22
    },
    {
     "cell_type": "code",
     "collapsed": false,
     "input": [
      "# One can change the output format\n",
      "t['b'].format = '7.3f'\n",
      "t['a'].format = '{:.4f}'\n",
      "# and add units\n",
      "t['b'].unit = 's'\n",
      "t"
     ],
     "language": "python",
     "metadata": {},
     "outputs": [
      {
       "html": [
        "<table id=\"table156347884\"><thead><tr><th>a</th><th>b</th><th>c</th></tr></thead><thead><tr><th></th><th>s</th><th></th></tr></thead><tr><td>1.0000</td><td>2.000</td><td>x</td></tr><tr><td>4.0000</td><td>5.000</td><td>y</td></tr><tr><td>5.0000</td><td>8.200</td><td>z</td></tr></table>"
       ],
       "metadata": {},
       "output_type": "pyout",
       "prompt_number": 23,
       "text": [
        "<Table rows=3 names=('a','b','c') units=(None,'s',None)>\n",
        "array([(1, 2.0, 'x'), (4, 5.0, 'y'), (5, 8.2, 'z')], \n",
        "      dtype=[('a', '<i4'), ('b', '<f8'), ('c', 'S1')])"
       ]
      }
     ],
     "prompt_number": 23
    },
    {
     "cell_type": "code",
     "collapsed": false,
     "input": [
      "t.show_in_browser(jsviewer=True)"
     ],
     "language": "python",
     "metadata": {},
     "outputs": [
      {
       "metadata": {},
       "output_type": "pyout",
       "prompt_number": 24,
       "text": [
        "<open file '<fdopen>', mode 'w+b' at 0x9492808>"
       ]
      }
     ],
     "prompt_number": 24
    },
    {
     "cell_type": "code",
     "collapsed": false,
     "input": [
      "# access the column names\n",
      "t.colnames"
     ],
     "language": "python",
     "metadata": {},
     "outputs": [
      {
       "metadata": {},
       "output_type": "pyout",
       "prompt_number": 25,
       "text": [
        "['a', 'b', 'c']"
       ]
      }
     ],
     "prompt_number": 25
    },
    {
     "cell_type": "code",
     "collapsed": false,
     "input": [
      "# length of the table (number of rows)\n",
      "len(t)"
     ],
     "language": "python",
     "metadata": {},
     "outputs": [
      {
       "metadata": {},
       "output_type": "pyout",
       "prompt_number": 26,
       "text": [
        "3"
       ]
      }
     ],
     "prompt_number": 26
    },
    {
     "cell_type": "code",
     "collapsed": false,
     "input": [
      "# Acces one element\n",
      "t['a'][1]"
     ],
     "language": "python",
     "metadata": {},
     "outputs": [
      {
       "metadata": {},
       "output_type": "pyout",
       "prompt_number": 27,
       "text": [
        "4"
       ]
      }
     ],
     "prompt_number": 27
    },
    {
     "cell_type": "code",
     "collapsed": false,
     "input": [
      "# Modefy one element\n",
      "t['a'][1] = 10\n",
      "t"
     ],
     "language": "python",
     "metadata": {},
     "outputs": [
      {
       "html": [
        "<table id=\"table156347884\"><thead><tr><th>a</th><th>b</th><th>c</th></tr></thead><thead><tr><th></th><th>s</th><th></th></tr></thead><tr><td>1.0000</td><td>2.000</td><td>x</td></tr><tr><td>10.0000</td><td>5.000</td><td>y</td></tr><tr><td>5.0000</td><td>8.200</td><td>z</td></tr></table>"
       ],
       "metadata": {},
       "output_type": "pyout",
       "prompt_number": 28,
       "text": [
        "<Table rows=3 names=('a','b','c') units=(None,'s',None)>\n",
        "array([(1, 2.0, 'x'), (10, 5.0, 'y'), (5, 8.2, 'z')], \n",
        "      dtype=[('a', '<i4'), ('b', '<f8'), ('c', 'S1')])"
       ]
      }
     ],
     "prompt_number": 28
    },
    {
     "cell_type": "code",
     "collapsed": false,
     "input": [
      "# easy add column:\n",
      "t['d'] = [1, 2, 3]"
     ],
     "language": "python",
     "metadata": {},
     "outputs": [],
     "prompt_number": 29
    },
    {
     "cell_type": "code",
     "collapsed": false,
     "input": [
      "t"
     ],
     "language": "python",
     "metadata": {},
     "outputs": [
      {
       "html": [
        "<table id=\"table156347884\"><thead><tr><th>a</th><th>b</th><th>c</th><th>d</th></tr></thead><thead><tr><th></th><th>s</th><th></th><th></th></tr></thead><tr><td>1.0000</td><td>2.000</td><td>x</td><td>1</td></tr><tr><td>10.0000</td><td>5.000</td><td>y</td><td>2</td></tr><tr><td>5.0000</td><td>8.200</td><td>z</td><td>3</td></tr></table>"
       ],
       "metadata": {},
       "output_type": "pyout",
       "prompt_number": 30,
       "text": [
        "<Table rows=3 names=('a','b','c','d') units=(None,'s',None,None)>\n",
        "array([(1, 2.0, 'x', 1), (10, 5.0, 'y', 2), (5, 8.2, 'z', 3)], \n",
        "      dtype=[('a', '<i4'), ('b', '<f8'), ('c', 'S1'), ('d', '<i4')])"
       ]
      }
     ],
     "prompt_number": 30
    },
    {
     "cell_type": "code",
     "collapsed": false,
     "input": [
      "t.rename_column('a', 'A')\n",
      "t"
     ],
     "language": "python",
     "metadata": {},
     "outputs": [
      {
       "html": [
        "<table id=\"table156347884\"><thead><tr><th>A</th><th>b</th><th>c</th><th>d</th></tr></thead><thead><tr><th></th><th>s</th><th></th><th></th></tr></thead><tr><td>1.0000</td><td>2.000</td><td>x</td><td>1</td></tr><tr><td>10.0000</td><td>5.000</td><td>y</td><td>2</td></tr><tr><td>5.0000</td><td>8.200</td><td>z</td><td>3</td></tr></table>"
       ],
       "metadata": {},
       "output_type": "pyout",
       "prompt_number": 31,
       "text": [
        "<Table rows=3 names=('A','b','c','d') units=(None,'s',None,None)>\n",
        "array([(1, 2.0, 'x', 1), (10, 5.0, 'y', 2), (5, 8.2, 'z', 3)], \n",
        "      dtype=[('A', '<i4'), ('b', '<f8'), ('c', 'S1'), ('d', '<i4')])"
       ]
      }
     ],
     "prompt_number": 31
    },
    {
     "cell_type": "code",
     "collapsed": false,
     "input": [
      "t.add_row([-8, -9, 'r', 10])\n",
      "t"
     ],
     "language": "python",
     "metadata": {},
     "outputs": [
      {
       "html": [
        "<table id=\"table156347884\"><thead><tr><th>A</th><th>b</th><th>c</th><th>d</th></tr></thead><thead><tr><th></th><th>s</th><th></th><th></th></tr></thead><tr><td>1.0000</td><td>2.000</td><td>x</td><td>1</td></tr><tr><td>10.0000</td><td>5.000</td><td>y</td><td>2</td></tr><tr><td>5.0000</td><td>8.200</td><td>z</td><td>3</td></tr><tr><td>-8.0000</td><td>-9.000</td><td>r</td><td>10</td></tr></table>"
       ],
       "metadata": {},
       "output_type": "pyout",
       "prompt_number": 32,
       "text": [
        "<Table rows=4 names=('A','b','c','d') units=(None,'s',None,None)>\n",
        "array([(1, 2.0, 'x', 1), (10, 5.0, 'y', 2), (5, 8.2, 'z', 3),\n",
        "       (-8, -9.0, 'r', 10)], \n",
        "      dtype=[('A', '<i4'), ('b', '<f8'), ('c', 'S1'), ('d', '<i4')])"
       ]
      }
     ],
     "prompt_number": 32
    },
    {
     "cell_type": "code",
     "collapsed": false,
     "input": [
      "t.add_row(['U', -9, 40, 10])\n",
      "t"
     ],
     "language": "python",
     "metadata": {},
     "outputs": [
      {
       "ename": "ValueError",
       "evalue": "invalid literal for long() with base 10: 'U'",
       "output_type": "pyerr",
       "traceback": [
        "\u001b[1;31m---------------------------------------------------------------------------\u001b[0m\n\u001b[1;31mValueError\u001b[0m                                Traceback (most recent call last)",
        "\u001b[1;32m<ipython-input-33-00fbdad5a2e5>\u001b[0m in \u001b[0;36m<module>\u001b[1;34m()\u001b[0m\n\u001b[1;32m----> 1\u001b[1;33m \u001b[0mt\u001b[0m\u001b[1;33m.\u001b[0m\u001b[0madd_row\u001b[0m\u001b[1;33m(\u001b[0m\u001b[1;33m[\u001b[0m\u001b[1;34m'U'\u001b[0m\u001b[1;33m,\u001b[0m \u001b[1;33m-\u001b[0m\u001b[1;36m9\u001b[0m\u001b[1;33m,\u001b[0m \u001b[1;36m40\u001b[0m\u001b[1;33m,\u001b[0m \u001b[1;36m10\u001b[0m\u001b[1;33m]\u001b[0m\u001b[1;33m)\u001b[0m\u001b[1;33m\u001b[0m\u001b[0m\n\u001b[0m\u001b[0;32m      2\u001b[0m \u001b[0mt\u001b[0m\u001b[1;33m\u001b[0m\u001b[0m\n",
        "\u001b[1;32m/home/puma/Ureka/variants/common/lib/python2.7/site-packages/astropy/table/table.pyc\u001b[0m in \u001b[0;36madd_row\u001b[1;34m(self, vals, mask)\u001b[0m\n\u001b[0;32m   1564\u001b[0m                 \u001b[0mvals\u001b[0m \u001b[1;33m=\u001b[0m \u001b[0mtuple\u001b[0m\u001b[1;33m(\u001b[0m\u001b[0mvals\u001b[0m\u001b[1;33m)\u001b[0m\u001b[1;33m\u001b[0m\u001b[0m\n\u001b[0;32m   1565\u001b[0m \u001b[1;33m\u001b[0m\u001b[0m\n\u001b[1;32m-> 1566\u001b[1;33m             \u001b[0mtest_data\u001b[0m\u001b[1;33m[\u001b[0m\u001b[1;33m-\u001b[0m\u001b[1;36m1\u001b[0m\u001b[1;33m]\u001b[0m \u001b[1;33m=\u001b[0m \u001b[0mvals\u001b[0m\u001b[1;33m\u001b[0m\u001b[0m\n\u001b[0m\u001b[0;32m   1567\u001b[0m \u001b[1;33m\u001b[0m\u001b[0m\n\u001b[0;32m   1568\u001b[0m             \u001b[1;32mif\u001b[0m \u001b[0mmask\u001b[0m \u001b[1;32mis\u001b[0m \u001b[1;32mnot\u001b[0m \u001b[0mNone\u001b[0m\u001b[1;33m:\u001b[0m\u001b[1;33m\u001b[0m\u001b[0m\n",
        "\u001b[1;31mValueError\u001b[0m: invalid literal for long() with base 10: 'U'"
       ]
      }
     ],
     "prompt_number": 33
    },
    {
     "cell_type": "code",
     "collapsed": false,
     "input": [
      "# Masked values\n",
      "t = Table([a, b, c], names=('a', 'b', 'c'), masked=True)\n",
      "t['a'].mask = [True, True, False] # True is for the masked values!!\n",
      "t"
     ],
     "language": "python",
     "metadata": {},
     "outputs": [
      {
       "html": [
        "<table id=\"table156314124\"><thead><tr><th>a</th><th>b</th><th>c</th></tr></thead><tr><td>--</td><td>2.0</td><td>x</td></tr><tr><td>--</td><td>5.0</td><td>y</td></tr><tr><td>5</td><td>8.2</td><td>z</td></tr></table>"
       ],
       "metadata": {},
       "output_type": "pyout",
       "prompt_number": 34,
       "text": [
        "<Table rows=3 names=('a','b','c')>\n",
        "masked_array(data = [(--, 2.0, 'x') (--, 5.0, 'y') (5, 8.2, 'z')],\n",
        "             mask = [(True, False, False) (True, False, False) (False, False, False)],\n",
        "       fill_value = (999999, 1e+20, 'N'),\n",
        "            dtype = [('a', '<i4'), ('b', '<f8'), ('c', 'S1')])"
       ]
      }
     ],
     "prompt_number": 34
    },
    {
     "cell_type": "code",
     "collapsed": false,
     "input": [
      "# Creat a table from a table\n",
      "t2 = Table([t['a']**2, t['b']**2])\n",
      "t2"
     ],
     "language": "python",
     "metadata": {},
     "outputs": [
      {
       "html": [
        "<table id=\"table156368108\"><thead><tr><th>a</th><th>b</th></tr></thead><tr><td>--</td><td>4.0</td></tr><tr><td>--</td><td>25.0</td></tr><tr><td>25</td><td>67.24</td></tr></table>"
       ],
       "metadata": {},
       "output_type": "pyout",
       "prompt_number": 35,
       "text": [
        "<Table rows=3 names=('a','b')>\n",
        "masked_array(data = [(--, 4.0) (--, 25.0) (25, 67.24)],\n",
        "             mask = [(True, False) (True, False) (False, False)],\n",
        "       fill_value = (999999, 1e+20),\n",
        "            dtype = [('a', '<i4'), ('b', '<f8')])"
       ]
      }
     ],
     "prompt_number": 35
    },
    {
     "cell_type": "code",
     "collapsed": false,
     "input": [
      "# Managing columns\n",
      "from astropy.table import Column"
     ],
     "language": "python",
     "metadata": {},
     "outputs": [],
     "prompt_number": 36
    },
    {
     "cell_type": "code",
     "collapsed": false,
     "input": [
      "# Create a table combining different formats\n",
      "a = (1, 4)\n",
      "b = np.array([[2, 3], [5, 6]])  # vector column\n",
      "c = Column(['x', 'y'], name='axis')\n",
      "arr = (a, b, c)\n",
      "t3 = Table(arr)  # Data column named \"c\" has a name \"axis\" in that table\n",
      "t3"
     ],
     "language": "python",
     "metadata": {},
     "outputs": [
      {
       "html": [
        "<table id=\"table157028492\"><thead><tr><th>col0</th><th>col1 [2]</th><th>axis</th></tr></thead><tr><td>1</td><td>2 .. 3</td><td>x</td></tr><tr><td>4</td><td>5 .. 6</td><td>y</td></tr></table>"
       ],
       "metadata": {},
       "output_type": "pyout",
       "prompt_number": 37,
       "text": [
        "<Table rows=2 names=('col0','col1','axis')>\n",
        "array([(1, [2, 3], 'x'), (4, [5, 6], 'y')], \n",
        "      dtype=[('col0', '<i4'), ('col1', '<i4', (2,)), ('axis', 'S1')])"
       ]
      }
     ],
     "prompt_number": 37
    },
    {
     "cell_type": "code",
     "collapsed": false,
     "input": [
      "# table from a dictionnary\n",
      "rr = {'a': [1, 4],\n",
      "      'b': [2.0, 5.0],\n",
      "      'c': ['x', 'y']}\n",
      "t4 = Table(rr, names=('a', 'c', 'b'))\n",
      "t4"
     ],
     "language": "python",
     "metadata": {},
     "outputs": [
      {
       "html": [
        "<table id=\"table157023084\"><thead><tr><th>a</th><th>c</th><th>b</th></tr></thead><tr><td>1</td><td>x</td><td>2.0</td></tr><tr><td>4</td><td>y</td><td>5.0</td></tr></table>"
       ],
       "metadata": {},
       "output_type": "pyout",
       "prompt_number": 38,
       "text": [
        "<Table rows=2 names=('a','c','b')>\n",
        "array([(1, 'x', 2.0), (4, 'y', 5.0)], \n",
        "      dtype=[('a', '<i4'), ('c', 'S1'), ('b', '<f8')])"
       ]
      }
     ],
     "prompt_number": 38
    },
    {
     "cell_type": "code",
     "collapsed": false,
     "input": [
      "# Create table row by row\n",
      "t5 = Table(rows=[{'a': 5, 'b': 10}, {'a': 15, 'b': 30}])\n",
      "t5"
     ],
     "language": "python",
     "metadata": {},
     "outputs": [
      {
       "html": [
        "<table id=\"table157024204\"><thead><tr><th>a</th><th>b</th></tr></thead><tr><td>5</td><td>10</td></tr><tr><td>15</td><td>30</td></tr></table>"
       ],
       "metadata": {},
       "output_type": "pyout",
       "prompt_number": 39,
       "text": [
        "<Table rows=2 names=('a','b')>\n",
        "array([(5, 10), (15, 30)], \n",
        "      dtype=[('a', '<i4'), ('b', '<i4')])"
       ]
      }
     ],
     "prompt_number": 39
    },
    {
     "cell_type": "code",
     "collapsed": false,
     "input": [
      "# Numpy structured array\n",
      "arr = np.array([(1, 2.0, 'x'),\n",
      "                (4, 5.0, 'y')],\n",
      "               dtype=[('a', 'i8'), ('b', 'f8'), ('c', 'S2')])\n",
      "t6 = Table(arr)\n",
      "t6"
     ],
     "language": "python",
     "metadata": {},
     "outputs": [
      {
       "html": [
        "<table id=\"table157020748\"><thead><tr><th>a</th><th>b</th><th>c</th></tr></thead><tr><td>1</td><td>2.0</td><td>x</td></tr><tr><td>4</td><td>5.0</td><td>y</td></tr></table>"
       ],
       "metadata": {},
       "output_type": "pyout",
       "prompt_number": 40,
       "text": [
        "<Table rows=2 names=('a','b','c')>\n",
        "array([(1L, 2.0, 'x'), (4L, 5.0, 'y')], \n",
        "      dtype=[('a', '<i8'), ('b', '<f8'), ('c', 'S2')])"
       ]
      }
     ],
     "prompt_number": 40
    },
    {
     "cell_type": "markdown",
     "metadata": {},
     "source": [
      "Python arrays versus `numpy` arrays as input\n",
      "\n",
      "There is a slightly subtle issue that is important to understand in the way that Table objects are created. Any data input that looks like a Python list (including a tuple) is considered to be a list of columns. In contrast an homogeneous numpy array input is interpreted as a list of rows:"
     ]
    },
    {
     "cell_type": "code",
     "collapsed": false,
     "input": [
      "arr = np.array([(1, 2.0, 'x'),\n",
      "                (4, 5.0, 'y')],\n",
      "               dtype=[('a', 'i8'), ('b', 'f8'), ('c', 'S2')])\n",
      "t6 = Table(arr, copy=False) # pinting to the original data\n",
      "arr['a'][0] = 99\n",
      "print arr\n",
      "print t6"
     ],
     "language": "python",
     "metadata": {},
     "outputs": [
      {
       "output_type": "stream",
       "stream": "stdout",
       "text": [
        "[(99L, 2.0, 'x') (4L, 5.0, 'y')]\n",
        " a   b   c \n",
        "--- --- ---\n",
        " 99 2.0   x\n",
        "  4 5.0   y\n"
       ]
      }
     ],
     "prompt_number": 41
    },
    {
     "cell_type": "code",
     "collapsed": false,
     "input": [
      "t6.columns"
     ],
     "language": "python",
     "metadata": {},
     "outputs": [
      {
       "metadata": {},
       "output_type": "pyout",
       "prompt_number": 42,
       "text": [
        "<TableColumns names=('a','b','c')>"
       ]
      }
     ],
     "prompt_number": 42
    },
    {
     "cell_type": "code",
     "collapsed": false,
     "input": [
      "t6.colnames"
     ],
     "language": "python",
     "metadata": {},
     "outputs": [
      {
       "metadata": {},
       "output_type": "pyout",
       "prompt_number": 43,
       "text": [
        "['a', 'b', 'c']"
       ]
      }
     ],
     "prompt_number": 43
    },
    {
     "cell_type": "code",
     "collapsed": false,
     "input": [
      "# One can obtain a numpy structured array from a Table\n",
      "np.array(t6)"
     ],
     "language": "python",
     "metadata": {},
     "outputs": [
      {
       "metadata": {},
       "output_type": "pyout",
       "prompt_number": 44,
       "text": [
        "array([(99L, 2.0, 'x'), (4L, 5.0, 'y')], \n",
        "      dtype=[('a', '<i8'), ('b', '<f8'), ('c', 'S2')])"
       ]
      }
     ],
     "prompt_number": 44
    },
    {
     "cell_type": "code",
     "collapsed": false,
     "input": [
      "arr = np.arange(3000).reshape(100, 30)  # 100 rows x 30 columns array\n",
      "t = Table(arr)\n",
      "print t"
     ],
     "language": "python",
     "metadata": {},
     "outputs": [
      {
       "output_type": "stream",
       "stream": "stdout",
       "text": [
        "col0 col1 col2 col3 col4 col5 col6 ... col23 col24 col25 col26 col27 col28 col29\n",
        "---- ---- ---- ---- ---- ---- ---- ... ----- ----- ----- ----- ----- ----- -----\n",
        "   0    1    2    3    4    5    6 ...    23    24    25    26    27    28    29\n",
        "  30   31   32   33   34   35   36 ...    53    54    55    56    57    58    59\n",
        "  60   61   62   63   64   65   66 ...    83    84    85    86    87    88    89\n",
        "  90   91   92   93   94   95   96 ...   113   114   115   116   117   118   119\n",
        " 120  121  122  123  124  125  126 ...   143   144   145   146   147   148   149\n",
        " 150  151  152  153  154  155  156 ...   173   174   175   176   177   178   179\n",
        " 180  181  182  183  184  185  186 ...   203   204   205   206   207   208   209\n",
        " 210  211  212  213  214  215  216 ...   233   234   235   236   237   238   239\n",
        " 240  241  242  243  244  245  246 ...   263   264   265   266   267   268   269\n",
        " 270  271  272  273  274  275  276 ...   293   294   295   296   297   298   299\n",
        " 300  301  302  303  304  305  306 ...   323   324   325   326   327   328   329\n",
        " ...  ...  ...  ...  ...  ...  ... ...   ...   ...   ...   ...   ...   ...   ...\n",
        "2670 2671 2672 2673 2674 2675 2676 ...  2693  2694  2695  2696  2697  2698  2699\n",
        "2700 2701 2702 2703 2704 2705 2706 ...  2723  2724  2725  2726  2727  2728  2729\n",
        "2730 2731 2732 2733 2734 2735 2736 ...  2753  2754  2755  2756  2757  2758  2759\n",
        "2760 2761 2762 2763 2764 2765 2766 ...  2783  2784  2785  2786  2787  2788  2789\n",
        "2790 2791 2792 2793 2794 2795 2796 ...  2813  2814  2815  2816  2817  2818  2819\n",
        "2820 2821 2822 2823 2824 2825 2826 ...  2843  2844  2845  2846  2847  2848  2849\n",
        "2850 2851 2852 2853 2854 2855 2856 ...  2873  2874  2875  2876  2877  2878  2879\n",
        "2880 2881 2882 2883 2884 2885 2886 ...  2903  2904  2905  2906  2907  2908  2909\n",
        "2910 2911 2912 2913 2914 2915 2916 ...  2933  2934  2935  2936  2937  2938  2939\n",
        "2940 2941 2942 2943 2944 2945 2946 ...  2963  2964  2965  2966  2967  2968  2969\n",
        "2970 2971 2972 2973 2974 2975 2976 ...  2993  2994  2995  2996  2997  2998  2999\n"
       ]
      }
     ],
     "prompt_number": 45
    },
    {
     "cell_type": "code",
     "collapsed": false,
     "input": [
      "t.show_in_browser(jsviewer=True)"
     ],
     "language": "python",
     "metadata": {},
     "outputs": [
      {
       "metadata": {},
       "output_type": "pyout",
       "prompt_number": 46,
       "text": [
        "<open file '<fdopen>', mode 'w+b' at 0x95d0180>"
       ]
      }
     ],
     "prompt_number": 46
    },
    {
     "cell_type": "code",
     "collapsed": false,
     "input": [
      "# create a simple table to play with\n",
      "arr = np.arange(15).reshape(5, 3)\n",
      "t = Table(arr, names=('a', 'b', 'c'), meta={'keywords': {'key1': 'val1'}})\n",
      "t"
     ],
     "language": "python",
     "metadata": {},
     "outputs": [
      {
       "html": [
        "<table id=\"table157115724\"><thead><tr><th>a</th><th>b</th><th>c</th></tr></thead><tr><td>0</td><td>1</td><td>2</td></tr><tr><td>3</td><td>4</td><td>5</td></tr><tr><td>6</td><td>7</td><td>8</td></tr><tr><td>9</td><td>10</td><td>11</td></tr><tr><td>12</td><td>13</td><td>14</td></tr></table>"
       ],
       "metadata": {},
       "output_type": "pyout",
       "prompt_number": 47,
       "text": [
        "<Table rows=5 names=('a','b','c')>\n",
        "array([(0, 1, 2), (3, 4, 5), (6, 7, 8), (9, 10, 11), (12, 13, 14)], \n",
        "      dtype=[('a', '<i4'), ('b', '<i4'), ('c', '<i4')])"
       ]
      }
     ],
     "prompt_number": 47
    },
    {
     "cell_type": "code",
     "collapsed": false,
     "input": [
      "t['a'] = [1, -2, 3, -4, 5]  # Set all\n",
      "t"
     ],
     "language": "python",
     "metadata": {},
     "outputs": [
      {
       "html": [
        "<table id=\"table157115724\"><thead><tr><th>a</th><th>b</th><th>c</th></tr></thead><tr><td>1</td><td>1</td><td>2</td></tr><tr><td>-2</td><td>4</td><td>5</td></tr><tr><td>3</td><td>7</td><td>8</td></tr><tr><td>-4</td><td>10</td><td>11</td></tr><tr><td>5</td><td>13</td><td>14</td></tr></table>"
       ],
       "metadata": {},
       "output_type": "pyout",
       "prompt_number": 48,
       "text": [
        "<Table rows=5 names=('a','b','c')>\n",
        "array([(1, 1, 2), (-2, 4, 5), (3, 7, 8), (-4, 10, 11), (5, 13, 14)], \n",
        "      dtype=[('a', '<i4'), ('b', '<i4'), ('c', '<i4')])"
       ]
      }
     ],
     "prompt_number": 48
    },
    {
     "cell_type": "code",
     "collapsed": false,
     "input": [
      "t['a'][2] = 30 # set one\n",
      "t"
     ],
     "language": "python",
     "metadata": {},
     "outputs": [
      {
       "html": [
        "<table id=\"table157115724\"><thead><tr><th>a</th><th>b</th><th>c</th></tr></thead><tr><td>1</td><td>1</td><td>2</td></tr><tr><td>-2</td><td>4</td><td>5</td></tr><tr><td>30</td><td>7</td><td>8</td></tr><tr><td>-4</td><td>10</td><td>11</td></tr><tr><td>5</td><td>13</td><td>14</td></tr></table>"
       ],
       "metadata": {},
       "output_type": "pyout",
       "prompt_number": 49,
       "text": [
        "<Table rows=5 names=('a','b','c')>\n",
        "array([(1, 1, 2), (-2, 4, 5), (30, 7, 8), (-4, 10, 11), (5, 13, 14)], \n",
        "      dtype=[('a', '<i4'), ('b', '<i4'), ('c', '<i4')])"
       ]
      }
     ],
     "prompt_number": 49
    },
    {
     "cell_type": "code",
     "collapsed": false,
     "input": [
      "# set one row\n",
      "t[1] = (8, 9, 10)\n",
      "t"
     ],
     "language": "python",
     "metadata": {},
     "outputs": [
      {
       "html": [
        "<table id=\"table157115724\"><thead><tr><th>a</th><th>b</th><th>c</th></tr></thead><tr><td>1</td><td>1</td><td>2</td></tr><tr><td>8</td><td>9</td><td>10</td></tr><tr><td>30</td><td>7</td><td>8</td></tr><tr><td>-4</td><td>10</td><td>11</td></tr><tr><td>5</td><td>13</td><td>14</td></tr></table>"
       ],
       "metadata": {},
       "output_type": "pyout",
       "prompt_number": 50,
       "text": [
        "<Table rows=5 names=('a','b','c')>\n",
        "array([(1, 1, 2), (8, 9, 10), (30, 7, 8), (-4, 10, 11), (5, 13, 14)], \n",
        "      dtype=[('a', '<i4'), ('b', '<i4'), ('c', '<i4')])"
       ]
      }
     ],
     "prompt_number": 50
    },
    {
     "cell_type": "code",
     "collapsed": false,
     "input": [
      "# Set a whole column\n",
      "t['a'] = 99\n",
      "t"
     ],
     "language": "python",
     "metadata": {},
     "outputs": [
      {
       "html": [
        "<table id=\"table157115724\"><thead><tr><th>a</th><th>b</th><th>c</th></tr></thead><tr><td>99</td><td>1</td><td>2</td></tr><tr><td>99</td><td>9</td><td>10</td></tr><tr><td>99</td><td>7</td><td>8</td></tr><tr><td>99</td><td>10</td><td>11</td></tr><tr><td>99</td><td>13</td><td>14</td></tr></table>"
       ],
       "metadata": {},
       "output_type": "pyout",
       "prompt_number": 51,
       "text": [
        "<Table rows=5 names=('a','b','c')>\n",
        "array([(99, 1, 2), (99, 9, 10), (99, 7, 8), (99, 10, 11), (99, 13, 14)], \n",
        "      dtype=[('a', '<i4'), ('b', '<i4'), ('c', '<i4')])"
       ]
      }
     ],
     "prompt_number": 51
    },
    {
     "cell_type": "code",
     "collapsed": false,
     "input": [
      "# Add a column\n",
      "t.add_column(Column(np.array([1,2,3,4,5]), name='d'))\n",
      "t"
     ],
     "language": "python",
     "metadata": {},
     "outputs": [
      {
       "html": [
        "<table id=\"table157115724\"><thead><tr><th>a</th><th>b</th><th>c</th><th>d</th></tr></thead><tr><td>99</td><td>1</td><td>2</td><td>1</td></tr><tr><td>99</td><td>9</td><td>10</td><td>2</td></tr><tr><td>99</td><td>7</td><td>8</td><td>3</td></tr><tr><td>99</td><td>10</td><td>11</td><td>4</td></tr><tr><td>99</td><td>13</td><td>14</td><td>5</td></tr></table>"
       ],
       "metadata": {},
       "output_type": "pyout",
       "prompt_number": 52,
       "text": [
        "<Table rows=5 names=('a','b','c','d')>\n",
        "array([(99, 1, 2, 1), (99, 9, 10, 2), (99, 7, 8, 3), (99, 10, 11, 4),\n",
        "       (99, 13, 14, 5)], \n",
        "      dtype=[('a', '<i4'), ('b', '<i4'), ('c', '<i4'), ('d', '<i4')])"
       ]
      }
     ],
     "prompt_number": 52
    },
    {
     "cell_type": "code",
     "collapsed": false,
     "input": [
      "# remove a column\n",
      "t.remove_column('b')\n",
      "t"
     ],
     "language": "python",
     "metadata": {},
     "outputs": [
      {
       "html": [
        "<table id=\"table157115724\"><thead><tr><th>a</th><th>c</th><th>d</th></tr></thead><tr><td>99</td><td>2</td><td>1</td></tr><tr><td>99</td><td>10</td><td>2</td></tr><tr><td>99</td><td>8</td><td>3</td></tr><tr><td>99</td><td>11</td><td>4</td></tr><tr><td>99</td><td>14</td><td>5</td></tr></table>"
       ],
       "metadata": {},
       "output_type": "pyout",
       "prompt_number": 53,
       "text": [
        "<Table rows=5 names=('a','c','d')>\n",
        "array([(99, 2, 1), (99, 10, 2), (99, 8, 3), (99, 11, 4), (99, 14, 5)], \n",
        "      dtype=[('a', '<i4'), ('c', '<i4'), ('d', '<i4')])"
       ]
      }
     ],
     "prompt_number": 53
    },
    {
     "cell_type": "code",
     "collapsed": false,
     "input": [
      "# add a row\n",
      "t.add_row([-8, -9, 10])\n",
      "t"
     ],
     "language": "python",
     "metadata": {},
     "outputs": [
      {
       "html": [
        "<table id=\"table157115724\"><thead><tr><th>a</th><th>c</th><th>d</th></tr></thead><tr><td>99</td><td>2</td><td>1</td></tr><tr><td>99</td><td>10</td><td>2</td></tr><tr><td>99</td><td>8</td><td>3</td></tr><tr><td>99</td><td>11</td><td>4</td></tr><tr><td>99</td><td>14</td><td>5</td></tr><tr><td>-8</td><td>-9</td><td>10</td></tr></table>"
       ],
       "metadata": {},
       "output_type": "pyout",
       "prompt_number": 54,
       "text": [
        "<Table rows=6 names=('a','c','d')>\n",
        "array([(99, 2, 1), (99, 10, 2), (99, 8, 3), (99, 11, 4), (99, 14, 5),\n",
        "       (-8, -9, 10)], \n",
        "      dtype=[('a', '<i4'), ('c', '<i4'), ('d', '<i4')])"
       ]
      }
     ],
     "prompt_number": 54
    },
    {
     "cell_type": "code",
     "collapsed": false,
     "input": [
      "# Remove some rows\n",
      "t.remove_rows([1, 2])\n",
      "t"
     ],
     "language": "python",
     "metadata": {},
     "outputs": [
      {
       "html": [
        "<table id=\"table157115724\"><thead><tr><th>a</th><th>c</th><th>d</th></tr></thead><tr><td>99</td><td>2</td><td>1</td></tr><tr><td>99</td><td>11</td><td>4</td></tr><tr><td>99</td><td>14</td><td>5</td></tr><tr><td>-8</td><td>-9</td><td>10</td></tr></table>"
       ],
       "metadata": {},
       "output_type": "pyout",
       "prompt_number": 55,
       "text": [
        "<Table rows=4 names=('a','c','d')>\n",
        "array([(99, 2, 1), (99, 11, 4), (99, 14, 5), (-8, -9, 10)], \n",
        "      dtype=[('a', '<i4'), ('c', '<i4'), ('d', '<i4')])"
       ]
      }
     ],
     "prompt_number": 55
    },
    {
     "cell_type": "code",
     "collapsed": false,
     "input": [
      "# sort the Table using one column\n",
      "t.sort('c')\n",
      "t"
     ],
     "language": "python",
     "metadata": {},
     "outputs": [
      {
       "html": [
        "<table id=\"table157115724\"><thead><tr><th>a</th><th>c</th><th>d</th></tr></thead><tr><td>-8</td><td>-9</td><td>10</td></tr><tr><td>99</td><td>2</td><td>1</td></tr><tr><td>99</td><td>11</td><td>4</td></tr><tr><td>99</td><td>14</td><td>5</td></tr></table>"
       ],
       "metadata": {},
       "output_type": "pyout",
       "prompt_number": 56,
       "text": [
        "<Table rows=4 names=('a','c','d')>\n",
        "array([(-8, -9, 10), (99, 2, 1), (99, 11, 4), (99, 14, 5)], \n",
        "      dtype=[('a', '<i4'), ('c', '<i4'), ('d', '<i4')])"
       ]
      }
     ],
     "prompt_number": 56
    },
    {
     "cell_type": "code",
     "collapsed": false,
     "input": [
      "%%writefile tab1.dat\n",
      "name    obs_date    mag_b  mag_v\n",
      "M31     2012-01-02  17.0   17.5\n",
      "M31     2012-01-02  17.1   17.4\n",
      "M101    2012-01-02  15.1   13.5\n",
      "M82     2012-02-14  16.2   14.5\n",
      "M31     2012-02-14  16.9   17.3\n",
      "M82     2012-02-14  15.2   15.5\n",
      "M101    2012-02-14  15.0   13.6\n",
      "M82     2012-03-26  15.7   16.5\n",
      "M101    2012-03-26  15.1   13.5\n",
      "M101    2012-03-26  14.8   14.3"
     ],
     "language": "python",
     "metadata": {},
     "outputs": [
      {
       "output_type": "stream",
       "stream": "stdout",
       "text": [
        "Overwriting tab1.dat\n"
       ]
      }
     ],
     "prompt_number": 57
    },
    {
     "cell_type": "code",
     "collapsed": false,
     "input": [
      "# directly read a Table from an ascii file\n",
      "obs = Table.read('tab1.dat', format='ascii')"
     ],
     "language": "python",
     "metadata": {},
     "outputs": [],
     "prompt_number": 58
    },
    {
     "cell_type": "code",
     "collapsed": false,
     "input": [
      "print obs"
     ],
     "language": "python",
     "metadata": {},
     "outputs": [
      {
       "output_type": "stream",
       "stream": "stdout",
       "text": [
        "name  obs_date  mag_b mag_v\n",
        "---- ---------- ----- -----\n",
        " M31 2012-01-02  17.0  17.5\n",
        " M31 2012-01-02  17.1  17.4\n",
        "M101 2012-01-02  15.1  13.5\n",
        " M82 2012-02-14  16.2  14.5\n",
        " M31 2012-02-14  16.9  17.3\n",
        " M82 2012-02-14  15.2  15.5\n",
        "M101 2012-02-14  15.0  13.6\n",
        " M82 2012-03-26  15.7  16.5\n",
        "M101 2012-03-26  15.1  13.5\n",
        "M101 2012-03-26  14.8  14.3\n"
       ]
      }
     ],
     "prompt_number": 59
    },
    {
     "cell_type": "code",
     "collapsed": false,
     "input": [
      "# Group data\n",
      "obs_by_name = obs.group_by('name')\n",
      "obs_by_name"
     ],
     "language": "python",
     "metadata": {},
     "outputs": [
      {
       "html": [
        "<table id=\"table157089228\"><thead><tr><th>name</th><th>obs_date</th><th>mag_b</th><th>mag_v</th></tr></thead><tr><td>M101</td><td>2012-01-02</td><td>15.1</td><td>13.5</td></tr><tr><td>M101</td><td>2012-02-14</td><td>15.0</td><td>13.6</td></tr><tr><td>M101</td><td>2012-03-26</td><td>15.1</td><td>13.5</td></tr><tr><td>M101</td><td>2012-03-26</td><td>14.8</td><td>14.3</td></tr><tr><td>M31</td><td>2012-01-02</td><td>17.0</td><td>17.5</td></tr><tr><td>M31</td><td>2012-01-02</td><td>17.1</td><td>17.4</td></tr><tr><td>M31</td><td>2012-02-14</td><td>16.9</td><td>17.3</td></tr><tr><td>M82</td><td>2012-02-14</td><td>16.2</td><td>14.5</td></tr><tr><td>M82</td><td>2012-02-14</td><td>15.2</td><td>15.5</td></tr><tr><td>M82</td><td>2012-03-26</td><td>15.7</td><td>16.5</td></tr></table>"
       ],
       "metadata": {},
       "output_type": "pyout",
       "prompt_number": 60,
       "text": [
        "<Table rows=10 names=('name','obs_date','mag_b','mag_v')>\n",
        "array([('M101', '2012-01-02', 15.1, 13.5),\n",
        "       ('M101', '2012-02-14', 15.0, 13.6),\n",
        "       ('M101', '2012-03-26', 15.1, 13.5),\n",
        "       ('M101', '2012-03-26', 14.8, 14.3),\n",
        "       ('M31', '2012-01-02', 17.0, 17.5),\n",
        "       ('M31', '2012-01-02', 17.1, 17.4),\n",
        "       ('M31', '2012-02-14', 16.9, 17.3),\n",
        "       ('M82', '2012-02-14', 16.2, 14.5),\n",
        "       ('M82', '2012-02-14', 15.2, 15.5), ('M82', '2012-03-26', 15.7, 16.5)], \n",
        "      dtype=[('name', 'S4'), ('obs_date', 'S10'), ('mag_b', '<f8'), ('mag_v', '<f8')])"
       ]
      }
     ],
     "prompt_number": 60
    },
    {
     "cell_type": "code",
     "collapsed": false,
     "input": [
      "print obs_by_name.groups.keys"
     ],
     "language": "python",
     "metadata": {},
     "outputs": [
      {
       "output_type": "stream",
       "stream": "stdout",
       "text": [
        "name\n",
        "----\n",
        "M101\n",
        " M31\n",
        " M82\n"
       ]
      }
     ],
     "prompt_number": 61
    },
    {
     "cell_type": "code",
     "collapsed": false,
     "input": [
      "# Using 2 keys to group\n",
      "print obs.group_by(['name', 'obs_date']).groups.keys"
     ],
     "language": "python",
     "metadata": {},
     "outputs": [
      {
       "output_type": "stream",
       "stream": "stdout",
       "text": [
        "name  obs_date \n",
        "---- ----------\n",
        "M101 2012-01-02\n",
        "M101 2012-02-14\n",
        "M101 2012-03-26\n",
        " M31 2012-01-02\n",
        " M31 2012-02-14\n",
        " M82 2012-02-14\n",
        " M82 2012-03-26\n"
       ]
      }
     ],
     "prompt_number": 62
    },
    {
     "cell_type": "code",
     "collapsed": false,
     "input": [
      "# Extracting a group\n",
      "print obs_by_name.groups[1]"
     ],
     "language": "python",
     "metadata": {},
     "outputs": [
      {
       "output_type": "stream",
       "stream": "stdout",
       "text": [
        "name  obs_date  mag_b mag_v\n",
        "---- ---------- ----- -----\n",
        " M31 2012-01-02  17.0  17.5\n",
        " M31 2012-01-02  17.1  17.4\n",
        " M31 2012-02-14  16.9  17.3\n"
       ]
      }
     ],
     "prompt_number": 63
    },
    {
     "cell_type": "code",
     "collapsed": false,
     "input": [
      "# Using a mask to select entries\n",
      "mask = obs_by_name.groups.keys['name'] == 'M101'\n",
      "print mask\n",
      "print obs_by_name.groups[mask]"
     ],
     "language": "python",
     "metadata": {},
     "outputs": [
      {
       "output_type": "stream",
       "stream": "stdout",
       "text": [
        "[ True False False]\n",
        "name  obs_date  mag_b mag_v\n",
        "---- ---------- ----- -----\n",
        "M101 2012-01-02  15.1  13.5\n",
        "M101 2012-02-14  15.0  13.6\n",
        "M101 2012-03-26  15.1  13.5\n",
        "M101 2012-03-26  14.8  14.3\n"
       ]
      }
     ],
     "prompt_number": 64
    },
    {
     "cell_type": "code",
     "collapsed": false,
     "input": [
      "# Some functions can be applied to the elements of a group\n",
      "obs_mean = obs_by_name.groups.aggregate(np.mean) \n",
      "print obs_mean"
     ],
     "language": "python",
     "metadata": {},
     "outputs": [
      {
       "output_type": "stream",
       "stream": "stdout",
       "text": [
        "name mag_b mag_v \n",
        "---- ----- ------\n",
        "M101  15.0 13.725\n",
        " M31  17.0   17.4\n",
        " M82  15.7   15.5\n"
       ]
      },
      {
       "output_type": "stream",
       "stream": "stderr",
       "text": [
        "WARNING: Cannot aggregate column 'obs_date' [astropy.table.groups]\n"
       ]
      }
     ],
     "prompt_number": 65
    },
    {
     "cell_type": "code",
     "collapsed": false,
     "input": [
      "print obs_by_name['name', 'mag_v', 'mag_b'].groups.aggregate(np.mean)"
     ],
     "language": "python",
     "metadata": {},
     "outputs": [
      {
       "output_type": "stream",
       "stream": "stdout",
       "text": [
        "name mag_v  mag_b\n",
        "---- ------ -----\n",
        "M101 13.725  15.0\n",
        " M31   17.4  17.0\n",
        " M82   15.5  15.7\n"
       ]
      }
     ],
     "prompt_number": 66
    },
    {
     "cell_type": "code",
     "collapsed": false,
     "input": [
      "# creat a new Table on the fly\n",
      "obs1 = Table.read(\"\"\"name    obs_date    mag_b  logLx\n",
      "M31     2012-01-02  17.0   42.5\n",
      "M82     2012-10-29  16.2   43.5\n",
      "M101    2012-10-31  15.1   44.5\"\"\", format='ascii')"
     ],
     "language": "python",
     "metadata": {},
     "outputs": [],
     "prompt_number": 67
    },
    {
     "cell_type": "code",
     "collapsed": false,
     "input": [
      "# this is used to stack Tables\n",
      "from astropy.table import vstack"
     ],
     "language": "python",
     "metadata": {},
     "outputs": [],
     "prompt_number": 68
    },
    {
     "cell_type": "code",
     "collapsed": false,
     "input": [
      "tvs = vstack([obs, obs1])\n",
      "tvs"
     ],
     "language": "python",
     "metadata": {},
     "outputs": [
      {
       "html": [
        "<table id=\"table153789644\"><thead><tr><th>name</th><th>obs_date</th><th>mag_b</th><th>mag_v</th><th>logLx</th></tr></thead><tr><td>M31</td><td>2012-01-02</td><td>17.0</td><td>17.5</td><td>--</td></tr><tr><td>M31</td><td>2012-01-02</td><td>17.1</td><td>17.4</td><td>--</td></tr><tr><td>M101</td><td>2012-01-02</td><td>15.1</td><td>13.5</td><td>--</td></tr><tr><td>M82</td><td>2012-02-14</td><td>16.2</td><td>14.5</td><td>--</td></tr><tr><td>M31</td><td>2012-02-14</td><td>16.9</td><td>17.3</td><td>--</td></tr><tr><td>M82</td><td>2012-02-14</td><td>15.2</td><td>15.5</td><td>--</td></tr><tr><td>M101</td><td>2012-02-14</td><td>15.0</td><td>13.6</td><td>--</td></tr><tr><td>M82</td><td>2012-03-26</td><td>15.7</td><td>16.5</td><td>--</td></tr><tr><td>M101</td><td>2012-03-26</td><td>15.1</td><td>13.5</td><td>--</td></tr><tr><td>M101</td><td>2012-03-26</td><td>14.8</td><td>14.3</td><td>--</td></tr><tr><td>M31</td><td>2012-01-02</td><td>17.0</td><td>--</td><td>42.5</td></tr><tr><td>M82</td><td>2012-10-29</td><td>16.2</td><td>--</td><td>43.5</td></tr><tr><td>M101</td><td>2012-10-31</td><td>15.1</td><td>--</td><td>44.5</td></tr></table>"
       ],
       "metadata": {},
       "output_type": "pyout",
       "prompt_number": 69,
       "text": [
        "<Table rows=13 names=('name','obs_date','mag_b','mag_v','logLx')>\n",
        "masked_array(data = [('M31', '2012-01-02', 17.0, 17.5, --)\n",
        " ('M31', '2012-01-02', 17.1, 17.4, --)\n",
        " ('M101', '2012-01-02', 15.1, 13.5, --)\n",
        " ('M82', '2012-02-14', 16.2, 14.5, --)\n",
        " ('M31', '2012-02-14', 16.9, 17.3, --)\n",
        " ('M82', '2012-02-14', 15.2, 15.5, --)\n",
        " ('M101', '2012-02-14', 15.0, 13.6, --)\n",
        " ('M82', '2012-03-26', 15.7, 16.5, --)\n",
        " ('M101', '2012-03-26', 15.1, 13.5, --)\n",
        " ('M101', '2012-03-26', 14.8, 14.3, --)\n",
        " ('M31', '2012-01-02', 17.0, --, 42.5)\n",
        " ('M82', '2012-10-29', 16.2, --, 43.5)\n",
        " ('M101', '2012-10-31', 15.1, --, 44.5)],\n",
        "             mask = [(False, False, False, False, True) (False, False, False, False, True)\n",
        " (False, False, False, False, True) (False, False, False, False, True)\n",
        " (False, False, False, False, True) (False, False, False, False, True)\n",
        " (False, False, False, False, True) (False, False, False, False, True)\n",
        " (False, False, False, False, True) (False, False, False, False, True)\n",
        " (False, False, False, True, False) (False, False, False, True, False)\n",
        " (False, False, False, True, False)],\n",
        "       fill_value = ('N/A', 'N/A', 1e+20, 1e+20, 1e+20),\n",
        "            dtype = [('name', 'S4'), ('obs_date', 'S10'), ('mag_b', '<f8'), ('mag_v', '<f8'), ('logLx', '<f8')])"
       ]
      }
     ],
     "prompt_number": 69
    },
    {
     "cell_type": "markdown",
     "metadata": {},
     "source": [
      "There is a lot of possibilities of joining Tables, see http://docs.astropy.org/en/stable/table/operations.html"
     ]
    },
    {
     "cell_type": "code",
     "collapsed": false,
     "input": [
      "t = Table.read(\"ftp://cdsarc.u-strasbg.fr/pub/cats/J/other/RMxAA/45.261/digeda.dat\", \n",
      "               format='ascii.cds', \n",
      "               readme='ftp://cdsarc.u-strasbg.fr/pub/cats/J/other/RMxAA/45.261/ReadMe')"
     ],
     "language": "python",
     "metadata": {},
     "outputs": [
      {
       "output_type": "stream",
       "stream": "stdout",
       "text": [
        "Downloading ftp://cdsarc.u-strasbg.fr/pub/cats/J/other/RMxAA/45.261/digeda.dat"
       ]
      },
      {
       "output_type": "stream",
       "stream": "stdout",
       "text": [
        " [Done]\n"
       ]
      },
      {
       "output_type": "stream",
       "stream": "stdout",
       "text": [
        "Downloading ftp://cdsarc.u-strasbg.fr/pub/cats/J/other/RMxAA/45.261/ReadMe"
       ]
      },
      {
       "output_type": "stream",
       "stream": "stdout",
       "text": [
        " [Done]\n"
       ]
      }
     ],
     "prompt_number": 3
    },
    {
     "cell_type": "code",
     "collapsed": false,
     "input": [
      "t"
     ],
     "language": "python",
     "metadata": {},
     "outputs": [
      {
       "html": [
        "<table id=\"table4409736080\"><thead><tr><th>ObsID</th><th>Pos</th><th>I3727</th><th>I4363</th><th>IHb</th><th>I4959</th><th>I5007</th><th>I5876</th><th>I6300</th><th>I6548</th><th>IHa</th><th>I6583</th><th>I6716</th><th>I6731</th><th>I16+31</th><th>Te</th><th>R16/31</th><th>R07/59</th><th>RHa/Hb</th><th>EM(Ha)</th><th>RefID</th><th>MType</th><th>Slit</th><th>Region</th><th>GalID</th><th>RefN</th></tr></thead><thead><tr><th></th><th>pc</th><th></th><th></th><th></th><th></th><th></th><th></th><th></th><th></th><th></th><th></th><th></th><th></th><th></th><th>10000 K</th><th></th><th></th><th></th><th>pc / cm6</th><th></th><th></th><th></th><th></th><th></th><th></th></tr></thead><tr><td>1</td><td>0.03</td><td>--</td><td>--</td><td>1.0</td><td>0.2</td><td>0.6</td><td>--</td><td>--</td><td>--</td><td>2.86</td><td>1.0</td><td>--</td><td>--</td><td>--</td><td>--</td><td>--</td><td>--</td><td>--</td><td>--</td><td>1</td><td>12</td><td>3</td><td>1</td><td>2</td><td>1</td></tr><tr><td>2</td><td>0.03</td><td>--</td><td>--</td><td>1.0</td><td>0.33</td><td>0.96</td><td>--</td><td>--</td><td>--</td><td>2.86</td><td>1.32</td><td>--</td><td>--</td><td>--</td><td>--</td><td>--</td><td>--</td><td>--</td><td>--</td><td>1</td><td>12</td><td>3</td><td>1</td><td>2</td><td>1</td></tr><tr><td>3</td><td>0.05</td><td>--</td><td>--</td><td>1.0</td><td>0.32</td><td>0.95</td><td>--</td><td>--</td><td>--</td><td>2.86</td><td>1.11</td><td>--</td><td>--</td><td>--</td><td>--</td><td>--</td><td>--</td><td>--</td><td>--</td><td>1</td><td>12</td><td>3</td><td>1</td><td>2</td><td>1</td></tr><tr><td>4</td><td>0.06</td><td>--</td><td>--</td><td>1.0</td><td>0.12</td><td>0.36</td><td>--</td><td>--</td><td>--</td><td>2.86</td><td>1.06</td><td>--</td><td>--</td><td>--</td><td>--</td><td>--</td><td>--</td><td>--</td><td>--</td><td>1</td><td>12</td><td>3</td><td>1</td><td>2</td><td>1</td></tr><tr><td>5</td><td>0.07</td><td>--</td><td>--</td><td>1.0</td><td>0.27</td><td>0.8</td><td>--</td><td>--</td><td>--</td><td>2.86</td><td>1.08</td><td>--</td><td>--</td><td>--</td><td>--</td><td>--</td><td>--</td><td>--</td><td>--</td><td>1</td><td>12</td><td>3</td><td>1</td><td>2</td><td>1</td></tr><tr><td>6</td><td>0.12</td><td>--</td><td>--</td><td>1.0</td><td>0.31</td><td>0.9</td><td>--</td><td>--</td><td>--</td><td>2.86</td><td>1.06</td><td>--</td><td>--</td><td>--</td><td>--</td><td>--</td><td>--</td><td>--</td><td>--</td><td>1</td><td>12</td><td>3</td><td>1</td><td>2</td><td>1</td></tr><tr><td>7</td><td>0.13</td><td>--</td><td>--</td><td>1.0</td><td>0.29</td><td>0.85</td><td>--</td><td>--</td><td>--</td><td>2.86</td><td>1.42</td><td>--</td><td>--</td><td>--</td><td>--</td><td>--</td><td>--</td><td>--</td><td>--</td><td>1</td><td>12</td><td>3</td><td>1</td><td>2</td><td>1</td></tr><tr><td>8</td><td>0.15</td><td>--</td><td>--</td><td>1.0</td><td>0.3</td><td>0.89</td><td>--</td><td>--</td><td>--</td><td>2.86</td><td>0.94</td><td>--</td><td>--</td><td>--</td><td>--</td><td>--</td><td>--</td><td>--</td><td>--</td><td>1</td><td>12</td><td>3</td><td>1</td><td>2</td><td>1</td></tr><tr><td>9</td><td>0.15</td><td>--</td><td>--</td><td>1.0</td><td>0.57</td><td>1.67</td><td>--</td><td>--</td><td>--</td><td>2.86</td><td>0.86</td><td>--</td><td>--</td><td>--</td><td>--</td><td>--</td><td>--</td><td>--</td><td>--</td><td>1</td><td>12</td><td>3</td><td>1</td><td>2</td><td>1</td></tr><tr><td>10</td><td>0.18</td><td>--</td><td>--</td><td>1.0</td><td>0.26</td><td>0.77</td><td>--</td><td>--</td><td>--</td><td>2.86</td><td>0.83</td><td>--</td><td>--</td><td>--</td><td>--</td><td>--</td><td>--</td><td>--</td><td>--</td><td>1</td><td>12</td><td>3</td><td>1</td><td>2</td><td>1</td></tr><tr><td>11</td><td>0.19</td><td>--</td><td>--</td><td>1.0</td><td>0.28</td><td>0.83</td><td>--</td><td>--</td><td>--</td><td>2.86</td><td>0.75</td><td>--</td><td>--</td><td>--</td><td>--</td><td>--</td><td>--</td><td>--</td><td>--</td><td>1</td><td>12</td><td>3</td><td>1</td><td>2</td><td>1</td></tr><tr><td>...</td><td>...</td><td>...</td><td>...</td><td>...</td><td>...</td><td>...</td><td>...</td><td>...</td><td>...</td><td>...</td><td>...</td><td>...</td><td>...</td><td>...</td><td>...</td><td>...</td><td>...</td><td>...</td><td>...</td><td>...</td><td>...</td><td>...</td><td>...</td><td>...</td><td>...</td></tr><tr><td>1052</td><td>-1.0</td><td>--</td><td>--</td><td>0.35</td><td>--</td><td>0.2</td><td>--</td><td>--</td><td>--</td><td>1.0</td><td>--</td><td>--</td><td>--</td><td>--</td><td>--</td><td>--</td><td>--</td><td>--</td><td>--</td><td>18</td><td>2</td><td>3</td><td>3</td><td>92</td><td>44</td></tr><tr><td>1053</td><td>-1.0</td><td>--</td><td>--</td><td>0.35</td><td>--</td><td>0.5</td><td>--</td><td>--</td><td>--</td><td>1.0</td><td>--</td><td>0.25</td><td>--</td><td>--</td><td>--</td><td>--</td><td>--</td><td>--</td><td>--</td><td>18</td><td>2</td><td>3</td><td>3</td><td>92</td><td>44</td></tr><tr><td>1054</td><td>-1.0</td><td>--</td><td>--</td><td>0.35</td><td>--</td><td>0.23</td><td>--</td><td>--</td><td>--</td><td>1.0</td><td>--</td><td>0.15</td><td>--</td><td>--</td><td>--</td><td>--</td><td>--</td><td>--</td><td>--</td><td>18</td><td>2</td><td>3</td><td>3</td><td>92</td><td>44</td></tr><tr><td>1055</td><td>-1.0</td><td>--</td><td>--</td><td>0.35</td><td>--</td><td>0.6</td><td>--</td><td>--</td><td>--</td><td>1.0</td><td>--</td><td>0.14</td><td>--</td><td>--</td><td>--</td><td>--</td><td>--</td><td>--</td><td>--</td><td>18</td><td>2</td><td>3</td><td>1</td><td>92</td><td>44</td></tr><tr><td>1056</td><td>-1.0</td><td>--</td><td>--</td><td>0.35</td><td>--</td><td>0.33</td><td>--</td><td>--</td><td>--</td><td>1.0</td><td>--</td><td>--</td><td>--</td><td>--</td><td>--</td><td>--</td><td>--</td><td>--</td><td>--</td><td>18</td><td>2</td><td>3</td><td>3</td><td>92</td><td>44</td></tr><tr><td>1057</td><td>-1.0</td><td>--</td><td>--</td><td>0.35</td><td>--</td><td>0.56</td><td>--</td><td>--</td><td>--</td><td>1.0</td><td>--</td><td>0.35</td><td>--</td><td>--</td><td>--</td><td>--</td><td>--</td><td>--</td><td>--</td><td>18</td><td>2</td><td>3</td><td>1</td><td>92</td><td>44</td></tr><tr><td>1058</td><td>-1.0</td><td>--</td><td>--</td><td>0.35</td><td>--</td><td>0.3</td><td>--</td><td>--</td><td>--</td><td>1.0</td><td>--</td><td>0.24</td><td>--</td><td>--</td><td>--</td><td>--</td><td>--</td><td>--</td><td>--</td><td>18</td><td>2</td><td>3</td><td>3</td><td>92</td><td>44</td></tr><tr><td>1059</td><td>-1.0</td><td>--</td><td>--</td><td>0.35</td><td>--</td><td>0.54</td><td>--</td><td>--</td><td>--</td><td>1.0</td><td>--</td><td>--</td><td>--</td><td>--</td><td>--</td><td>--</td><td>--</td><td>--</td><td>--</td><td>18</td><td>2</td><td>3</td><td>3</td><td>92</td><td>44</td></tr><tr><td>1060</td><td>-1.0</td><td>--</td><td>--</td><td>0.35</td><td>--</td><td>1.33</td><td>--</td><td>--</td><td>--</td><td>1.0</td><td>--</td><td>--</td><td>--</td><td>--</td><td>--</td><td>--</td><td>--</td><td>--</td><td>--</td><td>18</td><td>2</td><td>3</td><td>1</td><td>92</td><td>44</td></tr><tr><td>1061</td><td>-1.0</td><td>--</td><td>--</td><td>0.35</td><td>--</td><td>0.44</td><td>--</td><td>--</td><td>--</td><td>1.0</td><td>--</td><td>--</td><td>--</td><td>--</td><td>--</td><td>--</td><td>--</td><td>--</td><td>--</td><td>18</td><td>2</td><td>3</td><td>3</td><td>92</td><td>44</td></tr></table>"
       ],
       "metadata": {},
       "output_type": "pyout",
       "prompt_number": 4,
       "text": [
        "<Table rows=1061 names=('ObsID','Pos','I3727','I4363','IHb','I4959','I5007','I5876','I6300','I6548','IHa','I6583','I6716','I6731','I16+31','Te','R16/31','R07/59','RHa/Hb','EM(Ha)','RefID','MType','Slit','Region','GalID','RefN') units=(None,'pc',None,None,None,None,None,None,None,None,None,None,None,None,None,'10000 K',None,None,None,'pc / cm6',None,None,None,None,None,None)>\n",
        "masked_array(data = [ (1, 0.03, --, --, 1.0, 0.2, 0.6, --, --, --, 2.86, 1.0, --, --, --, --, --, --, --, --, 1, 12, 3, 1, 2, 1)\n",
        " (2, 0.03, --, --, 1.0, 0.33, 0.96, --, --, --, 2.86, 1.32, --, --, --, --, --, --, --, --, 1, 12, 3, 1, 2, 1)\n",
        " (3, 0.05, --, --, 1.0, 0.32, 0.95, --, --, --, 2.86, 1.11, --, --, --, --, --, --, --, --, 1, 12, 3, 1, 2, 1)\n",
        " ...,\n",
        " (1059, -1.0, --, --, 0.35, --, 0.54, --, --, --, 1.0, --, --, --, --, --, --, --, --, --, 18, 2, 3, 3, 92, 44)\n",
        " (1060, -1.0, --, --, 0.35, --, 1.33, --, --, --, 1.0, --, --, --, --, --, --, --, --, --, 18, 2, 3, 1, 92, 44)\n",
        " (1061, -1.0, --, --, 0.35, --, 0.44, --, --, --, 1.0, --, --, --, --, --, --, --, --, --, 18, 2, 3, 3, 92, 44)],\n",
        "             mask = [ (False, False, True, True, False, False, False, True, True, True, False, False, True, True, True, True, True, True, True, True, False, False, False, False, False, False)\n",
        " (False, False, True, True, False, False, False, True, True, True, False, False, True, True, True, True, True, True, True, True, False, False, False, False, False, False)\n",
        " (False, False, True, True, False, False, False, True, True, True, False, False, True, True, True, True, True, True, True, True, False, False, False, False, False, False)\n",
        " ...,\n",
        " (False, False, True, True, False, True, False, True, True, True, False, True, True, True, True, True, True, True, True, True, False, False, False, False, False, False)\n",
        " (False, False, True, True, False, True, False, True, True, True, False, True, True, True, True, True, True, True, True, True, False, False, False, False, False, False)\n",
        " (False, False, True, True, False, True, False, True, True, True, False, True, True, True, True, True, True, True, True, True, False, False, False, False, False, False)],\n",
        "       fill_value = (999999, 1e+20, 1e+20, 1e+20, 1e+20, 1e+20, 1e+20, 1e+20, 1e+20, 1e+20, 1e+20, 1e+20, 1e+20, 1e+20, 1e+20, 1e+20, 1e+20, 1e+20, 1e+20, 1e+20, 999999, 999999, 999999, 999999, 999999, 999999),\n",
        "            dtype = [('ObsID', '<i8'), ('Pos', '<f8'), ('I3727', '<f8'), ('I4363', '<f8'), ('IHb', '<f8'), ('I4959', '<f8'), ('I5007', '<f8'), ('I5876', '<f8'), ('I6300', '<f8'), ('I6548', '<f8'), ('IHa', '<f8'), ('I6583', '<f8'), ('I6716', '<f8'), ('I6731', '<f8'), ('I16+31', '<f8'), ('Te', '<f8'), ('R16/31', '<f8'), ('R07/59', '<f8'), ('RHa/Hb', '<f8'), ('EM(Ha)', '<f8'), ('RefID', '<i8'), ('MType', '<i8'), ('Slit', '<i8'), ('Region', '<i8'), ('GalID', '<i8'), ('RefN', '<i8')])"
       ]
      }
     ],
     "prompt_number": 4
    },
    {
     "cell_type": "code",
     "collapsed": false,
     "input": [
      "t.show_in_browser(jsviewer=True)"
     ],
     "language": "python",
     "metadata": {},
     "outputs": [
      {
       "metadata": {},
       "output_type": "pyout",
       "prompt_number": 5,
       "text": [
        "<open file '<fdopen>', mode 'w+b' at 0x106d72ae0>"
       ]
      }
     ],
     "prompt_number": 5
    },
    {
     "cell_type": "code",
     "collapsed": false,
     "input": [
      "plt.scatter(np.log10(t['I6583']), np.log10(t['I5007']), c=t['RefN'])\n",
      "plt.xlabel(r'[NII]/H$\\alpha$')\n",
      "plt.ylabel(r'log [OIII]/H$\\beta$')"
     ],
     "language": "python",
     "metadata": {},
     "outputs": [
      {
       "metadata": {},
       "output_type": "pyout",
       "prompt_number": 8,
       "text": [
        "<matplotlib.text.Text at 0x106d55090>"
       ]
      },
      {
       "metadata": {},
       "output_type": "display_data",
       "png": "[encoded data removed]",
       "text": [
        "<matplotlib.figure.Figure at 0x107654190>"
       ]
      }
     ],
     "prompt_number": 8
    },
    {
     "cell_type": "code",
     "collapsed": false,
     "input": [
      "t = Table.read(\"ftp://cdsarc.u-strasbg.fr/pub/cats/VII/253/snrs.dat\",\n",
      "readme=\"ftp://cdsarc.u-strasbg.fr/pub/cats/VII/253/ReadMe\",\n",
      "format=\"ascii.cds\")"
     ],
     "language": "python",
     "metadata": {},
     "outputs": [
      {
       "output_type": "stream",
       "stream": "stdout",
       "text": [
        "Downloading ftp://cdsarc.u-strasbg.fr/pub/cats/VII/253/snrs.dat"
       ]
      },
      {
       "output_type": "stream",
       "stream": "stdout",
       "text": [
        " [Done]\n"
       ]
      },
      {
       "output_type": "stream",
       "stream": "stdout",
       "text": [
        "Downloading ftp://cdsarc.u-strasbg.fr/pub/cats/VII/253/ReadMe"
       ]
      },
      {
       "output_type": "stream",
       "stream": "stdout",
       "text": [
        " [Done]\n"
       ]
      }
     ],
     "prompt_number": 70
    },
    {
     "cell_type": "code",
     "collapsed": false,
     "input": [
      "t"
     ],
     "language": "python",
     "metadata": {},
     "outputs": [
      {
       "html": [
        "<table id=\"table157846316\"><thead><tr><th>SNR</th><th>RAh</th><th>RAm</th><th>RAs</th><th>DE-</th><th>DEd</th><th>DEm</th><th>MajDiam</th><th>---</th><th>MinDiam</th><th>u_MinDiam</th><th>type</th><th>l_S(1GHz)</th><th>S(1GHz)</th><th>u_S(1GHz)</th><th>Sp-Index</th><th>u_Sp-Index</th><th>Names</th></tr></thead><thead><tr><th></th><th>h</th><th>min</th><th>s</th><th></th><th>deg</th><th>arcmin</th><th>arcmin</th><th></th><th>arcmin</th><th></th><th></th><th></th><th>Jy</th><th></th><th></th><th></th><th></th></tr></thead><tr><td>G000.0+00.0</td><td>17</td><td>45</td><td>44</td><td>-</td><td>29</td><td>0</td><td>3.5</td><td>x</td><td>2.5</td><td>--</td><td>S</td><td>--</td><td>100.0</td><td>?</td><td>0.8</td><td>?</td><td>Sgr A East</td></tr><tr><td>G000.3+00.0</td><td>17</td><td>46</td><td>15</td><td>-</td><td>28</td><td>38</td><td>15.0</td><td>x</td><td>8.0</td><td>--</td><td>S</td><td>--</td><td>22.0</td><td>--</td><td>0.6</td><td>--</td><td>--</td></tr><tr><td>G000.9+00.1</td><td>17</td><td>47</td><td>21</td><td>-</td><td>28</td><td>9</td><td>8.0</td><td>--</td><td>--</td><td>--</td><td>C</td><td>--</td><td>18.0</td><td>?</td><td>--</td><td>v</td><td>--</td></tr><tr><td>G001.0-00.1</td><td>17</td><td>48</td><td>30</td><td>-</td><td>28</td><td>9</td><td>8.0</td><td>--</td><td>--</td><td>--</td><td>S</td><td>--</td><td>15.0</td><td>--</td><td>0.6</td><td>?</td><td>--</td></tr><tr><td>G001.4-00.1</td><td>17</td><td>49</td><td>39</td><td>-</td><td>27</td><td>46</td><td>10.0</td><td>--</td><td>--</td><td>--</td><td>S</td><td>--</td><td>2.0</td><td>?</td><td>--</td><td>?</td><td>--</td></tr><tr><td>G001.9+00.3</td><td>17</td><td>48</td><td>45</td><td>-</td><td>27</td><td>10</td><td>1.5</td><td>--</td><td>--</td><td>--</td><td>S</td><td>--</td><td>0.6</td><td>--</td><td>0.6</td><td>--</td><td>--</td></tr><tr><td>G003.7-00.2</td><td>17</td><td>55</td><td>26</td><td>-</td><td>25</td><td>50</td><td>14.0</td><td>x</td><td>11.0</td><td>--</td><td>S</td><td>--</td><td>2.3</td><td>--</td><td>0.65</td><td>--</td><td>--</td></tr><tr><td>G003.8+00.3</td><td>17</td><td>52</td><td>55</td><td>-</td><td>25</td><td>28</td><td>18.0</td><td>--</td><td>--</td><td>--</td><td>S?</td><td>--</td><td>3.0</td><td>?</td><td>0.6</td><td>--</td><td>--</td></tr><tr><td>G004.2-03.5</td><td>18</td><td>8</td><td>55</td><td>-</td><td>27</td><td>3</td><td>28.0</td><td>--</td><td>--</td><td>--</td><td>S</td><td>--</td><td>3.2</td><td>?</td><td>0.6</td><td>?</td><td>--</td></tr><tr><td>G004.5+06.8</td><td>17</td><td>30</td><td>42</td><td>-</td><td>21</td><td>29</td><td>3.0</td><td>--</td><td>--</td><td>--</td><td>S</td><td>--</td><td>19.0</td><td>--</td><td>0.64</td><td>--</td><td>Kepler, SN1604, 3C358</td></tr><tr><td>G004.8+06.2</td><td>17</td><td>33</td><td>25</td><td>-</td><td>21</td><td>34</td><td>18.0</td><td>--</td><td>--</td><td>--</td><td>S</td><td>--</td><td>3.0</td><td>--</td><td>0.6</td><td>--</td><td>--</td></tr><tr><td>...</td><td>...</td><td>...</td><td>...</td><td>...</td><td>...</td><td>...</td><td>...</td><td>...</td><td>...</td><td>...</td><td>...</td><td>...</td><td>...</td><td>...</td><td>...</td><td>...</td><td>...</td></tr><tr><td>G356.3-00.3</td><td>17</td><td>37</td><td>56</td><td>-</td><td>32</td><td>16</td><td>11.0</td><td>x</td><td>7.0</td><td>--</td><td>S</td><td>--</td><td>3.0</td><td>?</td><td>--</td><td>?</td><td>--</td></tr><tr><td>G356.3-01.5</td><td>17</td><td>42</td><td>35</td><td>-</td><td>32</td><td>52</td><td>20.0</td><td>x</td><td>15.0</td><td>--</td><td>S</td><td>--</td><td>3.0</td><td>?</td><td>--</td><td>?</td><td>--</td></tr><tr><td>G357.7-00.1</td><td>17</td><td>40</td><td>29</td><td>-</td><td>30</td><td>58</td><td>8.0</td><td>x</td><td>3.0</td><td>?</td><td>?</td><td>--</td><td>37.0</td><td>--</td><td>0.4</td><td>--</td><td>MSH 17-39</td></tr><tr><td>G357.7+00.3</td><td>17</td><td>38</td><td>35</td><td>-</td><td>30</td><td>44</td><td>24.0</td><td>--</td><td>--</td><td>--</td><td>S</td><td>--</td><td>10.0</td><td>--</td><td>0.4</td><td>?</td><td>--</td></tr><tr><td>G358.0+03.8</td><td>17</td><td>26</td><td>0</td><td>-</td><td>28</td><td>36</td><td>38.0</td><td>--</td><td>--</td><td>--</td><td>S</td><td>--</td><td>1.5</td><td>?</td><td>--</td><td>?</td><td>--</td></tr><tr><td>G358.1+00.1</td><td>17</td><td>37</td><td>0</td><td>-</td><td>29</td><td>59</td><td>20.0</td><td>--</td><td>--</td><td>--</td><td>S</td><td>--</td><td>2.0</td><td>?</td><td>--</td><td>?</td><td>--</td></tr><tr><td>G358.5-00.9</td><td>17</td><td>46</td><td>10</td><td>-</td><td>30</td><td>40</td><td>17.0</td><td>--</td><td>--</td><td>--</td><td>S</td><td>--</td><td>4.0</td><td>?</td><td>--</td><td>?</td><td>--</td></tr><tr><td>G359.0-00.9</td><td>17</td><td>46</td><td>50</td><td>-</td><td>30</td><td>16</td><td>23.0</td><td>--</td><td>--</td><td>--</td><td>S</td><td>--</td><td>23.0</td><td>--</td><td>0.5</td><td>--</td><td>--</td></tr><tr><td>G359.1-00.5</td><td>17</td><td>45</td><td>30</td><td>-</td><td>29</td><td>57</td><td>24.0</td><td>--</td><td>--</td><td>--</td><td>S</td><td>--</td><td>14.0</td><td>--</td><td>0.4</td><td>?</td><td>--</td></tr><tr><td>G359.1+00.9</td><td>17</td><td>39</td><td>36</td><td>-</td><td>29</td><td>11</td><td>12.0</td><td>x</td><td>11.0</td><td>--</td><td>S</td><td>--</td><td>2.0</td><td>?</td><td>--</td><td>?</td><td>--</td></tr></table>"
       ],
       "metadata": {},
       "output_type": "pyout",
       "prompt_number": 71,
       "text": [
        "<Table rows=274 names=('SNR','RAh','RAm','RAs','DE-','DEd','DEm','MajDiam','---','MinDiam','u_MinDiam','type','l_S(1GHz)','S(1GHz)','u_S(1GHz)','Sp-Index','u_Sp-Index','Names') units=(None,'h','min','s',None,'deg','arcmin','arcmin',None,'arcmin',None,None,None,'Jy',None,None,None,None)>\n",
        "masked_array(data = [ ('G000.0+00.0', 17, 45, 44, '-', 29, 0, 3.5, 'x', 2.5, --, 'S', --, 100.0, '?', 0.8, '?', 'Sgr A East')\n",
        " ('G000.3+00.0', 17, 46, 15, '-', 28, 38, 15.0, 'x', 8.0, --, 'S', --, 22.0, --, 0.6, --, --)\n",
        " ('G000.9+00.1', 17, 47, 21, '-', 28, 9, 8.0, --, --, --, 'C', --, 18.0, '?', --, 'v', --)\n",
        " ('G001.0-00.1', 17, 48, 30, '-', 28, 9, 8.0, --, --, --, 'S', --, 15.0, --, 0.6, '?', --)\n",
        " ('G001.4-00.1', 17, 49, 39, '-', 27, 46, 10.0, --, --, --, 'S', --, 2.0, '?', --, '?', --)\n",
        " ('G001.9+00.3', 17, 48, 45, '-', 27, 10, 1.5, --, --, --, 'S', --, 0.6, --, 0.6, --, --)\n",
        " ('G003.7-00.2', 17, 55, 26, '-', 25, 50, 14.0, 'x', 11.0, --, 'S', --, 2.3, --, 0.65, --, --)\n",
        " ('G003.8+00.3', 17, 52, 55, '-', 25, 28, 18.0, --, --, --, 'S?', --, 3.0, '?', 0.6, --, --)\n",
        " ('G004.2-03.5', 18, 8, 55, '-', 27, 3, 28.0, --, --, --, 'S', --, 3.2, '?', 0.6, '?', --)\n",
        " ('G004.5+06.8', 17, 30, 42, '-', 21, 29, 3.0, --, --, --, 'S', --, 19.0, --, 0.64, --, 'Kepler, SN1604, 3C358')\n",
        " ('G004.8+06.2', 17, 33, 25, '-', 21, 34, 18.0, --, --, --, 'S', --, 3.0, --, 0.6, --, --)\n",
        " ('G005.2-02.6', 18, 7, 30, '-', 25, 45, 18.0, --, --, --, 'S', --, 2.6, '?', 0.6, '?', --)\n",
        " ('G005.4-01.2', 18, 2, 10, '-', 24, 54, 35.0, --, --, --, 'C?', --, 35.0, '?', 0.2, '?', 'Milne 56')\n",
        " ('G005.5+00.3', 17, 57, 4, '-', 24, 0, 15.0, 'x', 12.0, --, 'S', --, 5.5, --, 0.7, --, --)\n",
        " ('G005.9+03.1', 17, 47, 20, '-', 22, 16, 20.0, --, --, --, 'S', --, 3.3, '?', 0.4, '?', --)\n",
        " ('G006.1+00.5', 17, 57, 29, '-', 23, 25, 18.0, 'x', 12.0, --, 'S', --, 4.5, --, 0.9, --, --)\n",
        " ('G006.1+01.2', 17, 54, 55, '-', 23, 5, 30.0, 'x', 26.0, --, 'F', --, 4.0, '?', 0.3, '?', --)\n",
        " ('G006.4-00.1', 18, 0, 30, '-', 23, 26, 48.0, --, --, --, 'C', --, 310.0, --, --, 'v', 'W28')\n",
        " ('G006.4+04.0', 17, 45, 10, '-', 21, 22, 31.0, --, --, --, 'S', --, 1.3, '?', 0.4, '?', --)\n",
        " ('G006.5-00.4', 18, 2, 11, '-', 23, 34, 18.0, --, --, --, 'S', --, 27.0, --, 0.6, --, --)\n",
        " ('G007.0-00.1', 18, 1, 50, '-', 22, 54, 15.0, --, --, --, 'S', --, 2.5, '?', 0.5, '?', --)\n",
        " ('G007.2+00.2', 18, 1, 7, '-', 22, 38, 12.0, --, --, --, 'S', --, 2.8, --, 0.6, --, --)\n",
        " ('G007.7-03.7', 18, 17, 25, '-', 24, 4, 22.0, --, --, --, 'S', --, 11.0, --, 0.32, --, '1814-24')\n",
        " ('G008.3-00.0', 18, 4, 34, '-', 21, 49, 5.0, 'x', 4.0, --, 'S', --, 1.2, --, 0.6, --, --)\n",
        " ('G008.7-05.0', 18, 24, 10, '-', 23, 48, 26.0, --, --, --, 'S', --, 4.4, --, 0.3, --, --)\n",
        " ('G008.7-00.1', 18, 5, 30, '-', 21, 26, 45.0, --, --, --, 'S?', --, 80.0, --, 0.5, --, '(W30)')\n",
        " ('G008.9+00.4', 18, 3, 58, '-', 21, 3, 24.0, --, --, --, 'S', --, 9.0, --, 0.6, --, --)\n",
        " ('G009.7-00.0', 18, 7, 22, '-', 20, 35, 15.0, 'x', 11.0, --, 'S', --, 3.7, --, 0.6, --, --)\n",
        " ('G009.8+00.6', 18, 5, 8, '-', 20, 14, 12.0, --, --, --, 'S', --, 3.9, --, 0.5, --, --)\n",
        " ('G009.9-00.8', 18, 10, 41, '-', 20, 43, 12.0, --, --, --, 'S', --, 6.7, --, 0.4, --, --)\n",
        " ('G010.5-00.0', 18, 9, 8, '-', 19, 47, 6.0, --, --, --, 'S', --, 0.9, --, 0.6, --, --)\n",
        " ('G011.0-00.0', 18, 10, 4, '-', 19, 25, 11.0, 'x', 9.0, --, 'S', --, 1.3, --, 0.6, --, --)\n",
        " ('G011.1-01.0', 18, 14, 3, '-', 19, 46, 18.0, 'x', 12.0, --, 'S', --, 5.8, --, 0.6, --, --)\n",
        " ('G011.1-00.7', 18, 12, 46, '-', 19, 38, 11.0, 'x', 7.0, --, 'S', --, 1.0, --, 0.7, --, --)\n",
        " ('G011.1+00.1', 18, 9, 47, '-', 19, 12, 12.0, 'x', 10.0, --, 'S', --, 2.3, --, 0.4, --, --)\n",
        " ('G011.2-00.3', 18, 11, 27, '-', 19, 25, 4.0, --, --, --, 'C', --, 22.0, --, 0.6, --, --)\n",
        " ('G011.4-00.1', 18, 10, 47, '-', 19, 5, 8.0, --, --, --, 'S?', --, 6.0, --, 0.5, --, --)\n",
        " ('G011.8-00.2', 18, 12, 25, '-', 18, 44, 4.0, --, --, --, 'S', --, 0.7, --, 0.3, --, --)\n",
        " ('G012.0-00.1', 18, 12, 11, '-', 18, 37, 7.0, --, --, '?', '?', --, 3.5, --, 0.7, --, --)\n",
        " ('G012.2+00.3', 18, 11, 17, '-', 18, 10, 6.0, 'x', 5.0, --, 'S', --, 0.8, --, 0.7, --, --)\n",
        " ('G012.5+00.2', 18, 12, 14, '-', 17, 55, 6.0, 'x', 5.0, --, 'C?', --, 0.6, --, 0.4, --, --)\n",
        " ('G012.7-00.0', 18, 13, 19, '-', 17, 54, 6.0, --, --, --, 'S', --, 0.8, --, 0.8, --, --)\n",
        " ('G012.8-00.0', 18, 13, 37, '-', 17, 49, 3.0, --, --, --, 'C?', --, 0.8, --, 0.5, --, --)\n",
        " ('G013.3-01.3', 18, 19, 20, '-', 18, 0, 70.0, 'x', 40.0, --, 'S?', --, --, '?', --, '?', --)\n",
        " ('G013.5+00.2', 18, 14, 14, '-', 17, 12, 5.0, 'x', 4.0, --, 'S', --, 3.5, '?', 1.0, '?', --)\n",
        " ('G014.1-00.1', 18, 15, 52, '-', 16, 34, 6.0, 'x', 5.0, --, 'S', --, 0.5, --, 0.6, --, --)\n",
        " ('G014.3+00.1', 18, 15, 58, '-', 16, 27, 5.0, 'x', 4.0, --, 'S', --, 0.6, --, 0.4, --, --)\n",
        " ('G015.1-01.6', 18, 24, 0, '-', 16, 34, 30.0, 'x', 24.0, --, 'S', --, 5.5, '?', 0.8, '?', --)\n",
        " ('G015.4+00.1', 18, 18, 2, '-', 15, 27, 15.0, 'x', 14.0, --, 'S', --, 5.6, --, 0.6, --, --)\n",
        " ('G015.9+00.2', 18, 18, 52, '-', 15, 2, 7.0, 'x', 5.0, --, 'S?', --, 5.0, --, 0.6, '?', --)\n",
        " ('G016.0-00.5', 18, 21, 56, '-', 15, 14, 15.0, 'x', 10.0, --, 'S', --, 2.7, --, 0.6, --, --)\n",
        " ('G016.2-02.7', 18, 29, 40, '-', 16, 8, 17.0, --, --, --, 'S', --, 2.0, --, 0.5, --, --)\n",
        " ('G016.4-00.5', 18, 22, 38, '-', 14, 55, 13.0, --, --, --, 'S', --, 4.6, --, 0.7, --, --)\n",
        " ('G016.7+00.1', 18, 20, 56, '-', 14, 20, 4.0, --, --, --, 'C', --, 3.0, --, 0.6, --, --)\n",
        " ('G016.8-01.1', 18, 25, 20, '-', 14, 46, 30.0, 'x', 24.0, '?', '?', --, 2.0, '?', --, '?', --)\n",
        " ('G017.0-00.0', 18, 21, 57, '-', 14, 8, 5.0, --, --, --, 'S', --, 0.5, --, 0.5, --, --)\n",
        " ('G017.4-02.3', 18, 30, 55, '-', 14, 52, 24.0, --, --, '?', 'S', --, 4.8, '?', 0.8, '?', --)\n",
        " ('G017.4-00.1', 18, 23, 8, '-', 13, 46, 6.0, --, --, --, 'S', --, 0.4, --, 0.7, --, --)\n",
        " ('G017.8-02.6', 18, 32, 50, '-', 14, 39, 24.0, --, --, --, 'S', --, 4.0, '?', 0.3, '?', --)\n",
        " ('G018.1-00.1', 18, 24, 34, '-', 13, 11, 8.0, --, --, --, 'S', --, 4.6, --, 0.5, --, --)\n",
        " ('G018.6-00.2', 18, 25, 55, '-', 12, 50, 6.0, --, --, --, 'S', --, 1.4, --, 0.4, --, --)\n",
        " ('G018.8+00.3', 18, 23, 58, '-', 12, 23, 17.0, 'x', 11.0, --, 'S', --, 33.0, --, 0.4, --, 'Kes 67')\n",
        " ('G018.9-01.1', 18, 29, 50, '-', 12, 58, 33.0, --, --, --, 'C?', --, 37.0, --, --, 'v', --)\n",
        " ('G019.1+00.2', 18, 24, 56, '-', 12, 7, 27.0, --, --, --, 'S', --, 10.0, --, 0.5, --, --)\n",
        " ('G020.0-00.2', 18, 28, 7, '-', 11, 35, 10.0, --, --, --, 'F', --, 10.0, --, 0.0, --, --)\n",
        " ('G020.4+00.1', 18, 27, 51, '-', 11, 0, 8.0, --, --, --, 'S', --, 3.1, --, 0.4, --, --)\n",
        " ('G021.0-00.4', 18, 31, 12, '-', 10, 47, 9.0, 'x', 7.0, --, 'S', --, 1.1, --, 0.6, --, --)\n",
        " ('G021.5-00.9', 18, 33, 33, '-', 10, 35, 4.0, --, --, --, 'C', --, 6.0, '?', 0.0, --, --)\n",
        " ('G021.5-00.1', 18, 30, 50, '-', 10, 9, 5.0, --, --, --, 'S', --, 0.4, --, 0.5, --, --)\n",
        " ('G021.8-00.6', 18, 32, 45, '-', 10, 8, 20.0, --, --, --, 'S', --, 69.0, --, 0.5, --, 'Kes 69')\n",
        " ('G022.7-00.2', 18, 33, 15, '-', 9, 13, 26.0, --, --, --, 'S?', --, 33.0, --, 0.6, --, --)\n",
        " ('G023.3-00.3', 18, 34, 45, '-', 8, 48, 27.0, --, --, --, 'S', --, 70.0, --, 0.5, --, 'W41')\n",
        " ('G023.6+00.3', 18, 33, 3, '-', 8, 13, 10.0, --, --, '?', '?', --, 8.0, '?', 0.3, --, --)\n",
        " ('G024.7-00.6', 18, 38, 43, '-', 7, 32, 15.0, --, --, '?', 'S?', --, 8.0, --, 0.5, --, --)\n",
        " ('G024.7+00.6', 18, 34, 10, '-', 7, 5, 30.0, 'x', 15.0, --, 'C?', --, 20.0, '?', 0.2, '?', --)\n",
        " ('G027.4+00.0', 18, 41, 19, '-', 4, 56, 4.0, --, --, --, 'S', --, 6.0, --, 0.68, --, '4C-04.71')\n",
        " ('G027.8+00.6', 18, 39, 50, '-', 4, 24, 50.0, 'x', 30.0, --, 'F', --, 30.0, --, --, 'v', --)\n",
        " ('G028.6-00.1', 18, 43, 55, '-', 3, 53, 13.0, 'x', 9.0, --, 'S', --, 3.0, '?', --, '?', --)\n",
        " ('G028.8+01.5', 18, 39, 0, '-', 2, 55, 100.0, --, --, '?', 'S?', --, --, '?', 0.4, '?', --)\n",
        " ('G029.6+00.1', 18, 44, 52, '-', 2, 57, 5.0, --, --, --, 'S', --, 1.5, '?', 0.5, '?', --)\n",
        " ('G029.7-00.3', 18, 46, 25, '-', 2, 59, 3.0, --, --, --, 'C', --, 10.0, --, 0.7, --, 'Kes 75')\n",
        " ('G030.7-02.0', 18, 54, 25, '-', 2, 54, 16.0, --, --, --, '?', --, 0.5, '?', 0.7, '?', --)\n",
        " ('G030.7+01.0', 18, 44, 0, '-', 1, 32, 24.0, 'x', 18.0, --, 'S?', --, 6.0, --, 0.4, --, --)\n",
        " ('G031.5-00.6', 18, 51, 10, '-', 1, 31, 18.0, --, --, '?', 'S?', --, 2.0, '?', --, '?', --)\n",
        " ('G031.9+00.0', 18, 49, 25, '-', 0, 55, 7.0, 'x', 5.0, --, 'S', --, 24.0, --, 0.49, --, '3C391')\n",
        " ('G032.0-04.9', 19, 6, 0, '-', 3, 0, 60.0, --, --, '?', 'S?', --, 22.0, '?', 0.5, '?', '3C396.1')\n",
        " ('G032.1-00.9', 18, 53, 10, '-', 1, 8, 40.0, --, --, '?', 'C?', --, --, '?', --, '?', --)\n",
        " ('G032.4+00.1', 18, 50, 5, '-', 0, 25, 6.0, --, --, --, 'S', --, 0.3, '?', --, '?', --)\n",
        " ('G032.8-00.1', 18, 51, 25, '-', 0, 8, 17.0, --, --, --, 'S?', --, 11.0, '?', 0.2, '?', 'Kes 78')\n",
        " ('G033.2-00.6', 18, 53, 50, '-', 0, 2, 18.0, --, --, --, 'S', --, 3.5, --, --, 'v', --)\n",
        " ('G033.6+00.1', 18, 52, 48, '+', 0, 41, 10.0, --, --, --, 'S', --, 22.0, --, 0.5, --, 'Kes 79, 4C00.70, HC13')\n",
        " ('G034.7-00.4', 18, 56, 0, '+', 1, 22, 35.0, 'x', 27.0, --, 'C', --, 230.0, --, 0.37, --, 'W44, 3C392')\n",
        " ('G036.6-00.7', 19, 0, 35, '+', 2, 56, 25.0, --, --, '?', 'S?', --, --, '?', --, '?', --)\n",
        " ('G036.6+02.6', 18, 48, 49, '+', 4, 26, 17.0, 'x', 13.0, '?', 'S', --, 0.7, '?', 0.5, '?', --)\n",
        " ('G039.2-00.3', 19, 4, 8, '+', 5, 28, 8.0, 'x', 6.0, --, 'C', --, 18.0, --, 0.6, --, '3C396, HC24, NRAO 593')\n",
        " ('G039.7-02.0', 19, 12, 20, '+', 4, 55, 120.0, 'x', 60.0, --, '?', --, 85.0, '?', 0.7, '?', 'W50, SS433')\n",
        " ('G040.5-00.5', 19, 7, 10, '+', 6, 31, 22.0, --, --, --, 'S', --, 11.0, --, 0.5, --, --)\n",
        " ('G041.1-00.3', 19, 7, 34, '+', 7, 8, 4.5, 'x', 2.5, --, 'S', --, 22.0, --, 0.48, --, '3C397')\n",
        " ('G042.8+00.6', 19, 7, 20, '+', 9, 5, 24.0, --, --, --, 'S', --, 3.0, '?', 0.5, '?', --)\n",
        " ('G043.3-00.2', 19, 11, 8, '+', 9, 6, 4.0, 'x', 3.0, --, 'S', --, 38.0, --, 0.48, --, 'W49B')\n",
        " ('G043.9+01.6', 19, 5, 50, '+', 10, 30, 60.0, --, --, '?', 'S?', --, 8.6, '?', 0.2, '?', --)\n",
        " ('G045.7-00.4', 19, 16, 25, '+', 11, 9, 22.0, --, --, --, 'S', --, 4.2, '?', 0.4, '?', --)\n",
        " ('G046.8-00.3', 19, 18, 10, '+', 12, 9, 17.0, 'x', 13.0, --, 'S', --, 14.0, --, 0.5, --, '(HC30)')\n",
        " ('G049.2-00.7', 19, 23, 50, '+', 14, 6, 30.0, --, --, --, 'S?', --, 160.0, '?', 0.3, '?', '(W51)')\n",
        " ('G053.6-02.2', 19, 38, 50, '+', 17, 14, 33.0, 'x', 28.0, --, 'S', --, 8.0, --, 0.75, --, '3C400.2, NRAO 611')\n",
        " ('G054.1+00.3', 19, 30, 31, '+', 18, 52, 1.5, --, --, --, 'F?', --, 0.5, --, 0.1, --, --)\n",
        " ('G054.4-00.3', 19, 33, 20, '+', 18, 56, 40.0, --, --, --, 'S', --, 28.0, --, 0.5, --, '(HC40)')\n",
        " ('G055.0+00.3', 19, 32, 0, '+', 19, 50, 20.0, 'x', 15.0, '?', 'S', --, 0.5, '?', 0.5, '?', --)\n",
        " ('G055.7+03.4', 19, 21, 20, '+', 21, 44, 23.0, --, --, --, 'S', --, 1.4, --, 0.6, --, --)\n",
        " ('G057.2+00.8', 19, 34, 59, '+', 21, 57, 12.0, --, --, '?', 'S?', --, 1.8, '?', --, '?', '(4C21.53)')\n",
        " ('G059.5+00.1', 19, 42, 33, '+', 23, 35, 15.0, --, --, --, 'S', --, 3.0, '?', --, '?', --)\n",
        " ('G059.8+01.2', 19, 38, 55, '+', 24, 19, 20.0, 'x', 16.0, '?', '?', --, 1.6, --, 0.5, --, --)\n",
        " ('G063.7+01.1', 19, 47, 52, '+', 27, 45, 8.0, --, --, --, 'F', --, 1.8, --, 0.3, --, --)\n",
        " ('G065.1+00.6', 19, 54, 40, '+', 28, 35, 90.0, 'x', 50.0, --, 'S', --, 5.5, --, 0.61, --, --)\n",
        " ('G065.3+05.7', 19, 33, 0, '+', 31, 10, 310.0, 'x', 240.0, --, 'S?', --, 52.0, '?', 0.6, '?', --)\n",
        " ('G065.7+01.2', 19, 52, 10, '+', 29, 26, 22.0, --, --, --, 'F', --, 5.1, --, --, 'v', 'DA 495')\n",
        " ('G067.7+01.8', 19, 54, 32, '+', 31, 29, 15.0, 'x', 12.0, --, 'S', --, 1.0, --, 0.5, --, --)\n",
        " ('G068.6-01.2', 20, 8, 40, '+', 30, 37, 23.0, --, --, --, '?', --, 0.7, '?', 0.0, '?', --)\n",
        " ('G069.0+02.7', 19, 53, 20, '+', 32, 55, 80.0, --, --, '?', '?', --, 120.0, '?', --, 'v', 'CTB 80')\n",
        " ('G069.7+01.0', 20, 2, 40, '+', 32, 43, 16.0, 'x', 14.0, --, 'S', --, 2.0, --, 0.7, --, --)\n",
        " ('G073.9+00.9', 20, 14, 15, '+', 36, 12, 27.0, --, --, --, 'S?', --, 9.0, --, 0.23, --, --)\n",
        " ('G074.0-08.5', 20, 51, 0, '+', 30, 40, 230.0, 'x', 160.0, --, 'S', --, 210.0, --, --, 'v', 'Cygnus Loop')\n",
        " ('G074.9+01.2', 20, 16, 2, '+', 37, 12, 8.0, 'x', 6.0, --, 'F', --, 9.0, --, --, 'v', 'CTB 87')\n",
        " ('G076.9+01.0', 20, 22, 20, '+', 38, 43, 9.0, --, --, --, '?', --, 1.2, --, 0.6, --, --)\n",
        " ('G078.2+02.1', 20, 20, 50, '+', 40, 26, 60.0, --, --, --, 'S', --, 320.0, --, 0.51, --, 'DR4, gamma Cygni SNR')\n",
        " ('G082.2+05.3', 20, 19, 0, '+', 45, 30, 95.0, 'x', 65.0, --, 'S', --, 120.0, '?', 0.5, '?', 'W63')\n",
        " ('G083.0-00.3', 20, 46, 55, '+', 42, 52, 9.0, 'x', 7.0, --, 'S', --, 1.0, --, 0.4, --, --)\n",
        " ('G084.2-00.8', 20, 53, 20, '+', 43, 27, 20.0, 'x', 16.0, --, 'S', --, 11.0, --, 0.5, --, --)\n",
        " ('G085.4+00.7', 20, 50, 40, '+', 45, 22, 24.0, --, --, '?', 'S', --, --, '?', 0.2, --, --)\n",
        " ('G085.9-00.6', 20, 58, 40, '+', 44, 53, 24.0, --, --, --, 'S', --, --, '?', 0.2, --, --)\n",
        " ('G089.0+04.7', 20, 45, 0, '+', 50, 35, 120.0, 'x', 90.0, --, 'S', --, 220.0, --, 0.38, --, 'HB21')\n",
        " ('G093.3+06.9', 20, 52, 25, '+', 55, 21, 27.0, 'x', 20.0, --, 'C?', --, 9.0, --, 0.45, --, 'DA 530, 4C(T)55.38.1')\n",
        " ('G093.7-00.2', 21, 29, 20, '+', 50, 50, 80.0, --, --, --, 'S', --, 65.0, --, 0.65, --, 'CTB 104A, DA 551')\n",
        " ('G094.0+01.0', 21, 24, 50, '+', 51, 53, 30.0, 'x', 25.0, --, 'S', --, 13.0, --, 0.48, --, '3C434.1')\n",
        " ('G096.0+02.0', 21, 30, 30, '+', 53, 59, 26.0, --, --, --, 'S', --, 0.3, --, 0.5, --, --)\n",
        " ('G106.3+02.7', 22, 27, 30, '+', 60, 50, 60.0, 'x', 24.0, --, 'C?', --, 6.0, --, 0.6, --, --)\n",
        " ('G108.2-00.6', 22, 53, 40, '+', 58, 50, 70.0, 'x', 54.0, --, 'S', --, 8.0, --, 0.5, --, --)\n",
        " ('G109.1-01.0', 23, 1, 35, '+', 58, 53, 28.0, --, --, --, 'S', --, 22.0, --, 0.5, --, 'CTB 109')\n",
        " ('G111.7-02.1', 23, 23, 26, '+', 58, 48, 5.0, --, --, --, 'S', --, 2720.0, --, 0.77, --, 'Cassiopeia A, 3C461')\n",
        " ('G113.0+00.2', 23, 36, 35, '+', 61, 22, 40.0, 'x', 17.0, '?', '?', --, --, '?', --, '?', --)\n",
        " ('G114.3+00.3', 23, 37, 0, '+', 61, 55, 90.0, 'x', 55.0, --, 'S', --, 5.5, --, 0.5, --, --)\n",
        " ('G116.5+01.1', 23, 53, 40, '+', 63, 15, 80.0, 'x', 60.0, --, 'S', --, 10.0, --, 0.5, --, --)\n",
        " ('G116.9+00.2', 23, 59, 10, '+', 62, 26, 34.0, --, --, --, 'S', --, 8.0, --, 0.61, --, 'CTB 1')\n",
        " ('G119.5+10.2', 0, 6, 40, '+', 72, 45, 90.0, --, --, '?', 'S', --, 36.0, --, 0.6, --, 'CTA 1')\n",
        " ('G120.1+01.4', 0, 25, 18, '+', 64, 9, 8.0, --, --, --, 'S', --, 56.0, --, 0.65, --, 'Tycho, 3C10, SN1572')\n",
        " ('G126.2+01.6', 1, 22, 0, '+', 64, 15, 70.0, --, --, --, 'S?', --, 6.0, --, 0.5, --, --)\n",
        " ('G127.1+00.5', 1, 28, 20, '+', 63, 10, 45.0, --, --, --, 'S', --, 12.0, --, 0.45, --, 'R5')\n",
        " ('G130.7+03.1', 2, 5, 41, '+', 64, 49, 9.0, 'x', 5.0, --, 'F', --, 33.0, --, 0.07, --, '3C58, SN1181')\n",
        " ('G132.7+01.3', 2, 17, 40, '+', 62, 45, 80.0, --, --, --, 'S', --, 45.0, --, 0.6, --, 'HB3')\n",
        " ('G156.2+05.7', 4, 58, 40, '+', 51, 50, 110.0, --, --, --, 'S', --, 5.0, --, 0.5, --, --)\n",
        " ('G160.9+02.6', 5, 1, 0, '+', 46, 40, 140.0, 'x', 120.0, --, 'S', --, 110.0, --, 0.64, --, 'HB9')\n",
        " ('G166.0+04.3', 5, 26, 30, '+', 42, 56, 55.0, 'x', 35.0, --, 'S', --, 7.0, --, 0.37, --, 'VRO 42.05.01')\n",
        " ('G179.0+02.6', 5, 53, 40, '+', 31, 5, 70.0, --, --, --, 'S?', --, 7.0, --, 0.4, --, --)\n",
        " ('G180.0-01.7', 5, 39, 0, '+', 27, 50, 180.0, --, --, --, 'S', --, 65.0, --, --, 'v', 'S147')\n",
        " ('G182.4+04.3', 6, 8, 10, '+', 29, 0, 50.0, --, --, --, 'S', --, 1.2, --, 0.4, --, --)\n",
        " ('G184.6-05.8', 5, 34, 31, '+', 22, 1, 7.0, 'x', 5.0, --, 'F', --, 1040.0, --, 0.3, --, 'Crab Nebula, 3C144, SN1054')\n",
        " ('G189.1+03.0', 6, 17, 0, '+', 22, 34, 45.0, --, --, --, 'C', --, 160.0, --, 0.36, --, 'IC443, 3C157')\n",
        " ('G192.8-01.1', 6, 9, 20, '+', 17, 20, 78.0, --, --, --, 'S', --, 20.0, '?', 0.6, '?', 'PKS 0607+17')\n",
        " ('G205.5+00.5', 6, 39, 0, '+', 6, 30, 220.0, --, --, --, 'S', --, 160.0, --, 0.5, --, 'Monoceros Nebula')\n",
        " ('G206.9+02.3', 6, 48, 40, '+', 6, 26, 60.0, 'x', 40.0, --, 'S?', --, 6.0, --, 0.5, --, 'PKS 0646+06')\n",
        " ('G260.4-03.4', 8, 22, 10, '-', 43, 0, 60.0, 'x', 50.0, --, 'S', --, 130.0, --, 0.5, --, 'Puppis A, MSH 08-44')\n",
        " ('G261.9+05.5', 9, 4, 20, '-', 38, 42, 40.0, 'x', 30.0, --, 'S', --, 10.0, '?', 0.4, '?', --)\n",
        " ('G263.9-03.3', 8, 34, 0, '-', 45, 50, 255.0, --, --, --, 'C', --, 1750.0, --, --, 'v', 'Vela (XYZ)')\n",
        " ('G266.2-01.2', 8, 52, 0, '-', 46, 20, 120.0, --, --, --, 'S', --, 50.0, '?', 0.3, '?', 'RX J0852.0-4622')\n",
        " ('G272.2-03.2', 9, 6, 50, '-', 52, 7, 15.0, --, --, '?', 'S?', --, 0.4, --, 0.6, --, --)\n",
        " ('G279.0+01.1', 9, 57, 40, '-', 53, 15, 95.0, --, --, --, 'S', --, 30.0, '?', 0.6, '?', --)\n",
        " ('G284.3-01.8', 10, 18, 15, '-', 59, 0, 24.0, --, --, '?', 'S', --, 11.0, '?', 0.3, '?', 'MSH 10-53')\n",
        " ('G286.5-01.2', 10, 35, 40, '-', 59, 42, 26.0, 'x', 6.0, --, 'S?', --, 1.4, '?', --, '?', --)\n",
        " ('G289.7-00.3', 11, 1, 15, '-', 60, 18, 18.0, 'x', 14.0, --, 'S', --, 6.2, --, 0.2, '?', --)\n",
        " ('G290.1-00.8', 11, 3, 5, '-', 60, 56, 19.0, 'x', 14.0, --, 'S', --, 42.0, --, 0.4, --, 'MSH 11-61A')\n",
        " ('G291.0-00.1', 11, 11, 54, '-', 60, 38, 15.0, 'x', 13.0, --, 'C', --, 16.0, --, 0.29, --, '(MSH 11-62)')\n",
        " ('G292.0+01.8', 11, 24, 36, '-', 59, 16, 12.0, 'x', 8.0, --, 'C', --, 15.0, --, 0.4, --, 'MSH 11-54')\n",
        " ('G292.2-00.5', 11, 19, 20, '-', 61, 28, 20.0, 'x', 15.0, --, 'S', --, 7.0, --, 0.5, --, --)\n",
        " ('G293.8+00.6', 11, 35, 0, '-', 60, 54, 20.0, --, --, --, 'C', --, 5.0, '?', 0.6, '?', --)\n",
        " ('G294.1-00.0', 11, 36, 10, '-', 61, 38, 40.0, --, --, --, 'S', '>', 2.0, '?', --, '?', --)\n",
        " ('G296.1-00.5', 11, 51, 10, '-', 62, 34, 37.0, 'x', 25.0, --, 'S', --, 8.0, '?', 0.6, '?', --)\n",
        " ('G296.5+10.0', 12, 9, 40, '-', 52, 25, 90.0, 'x', 65.0, --, 'S', --, 48.0, --, 0.5, --, 'PKS 1209-51/52')\n",
        " ('G296.8-00.3', 11, 58, 30, '-', 62, 35, 20.0, 'x', 14.0, --, 'S', --, 9.0, --, 0.6, --, '1156-62')\n",
        " ('G298.5-00.3', 12, 12, 40, '-', 62, 52, 5.0, --, --, '?', '?', --, 5.0, '?', 0.4, '?', --)\n",
        " ('G298.6-00.0', 12, 13, 41, '-', 62, 37, 12.0, 'x', 9.0, --, 'S', --, 5.0, '?', 0.3, --, --)\n",
        " ('G299.2-02.9', 12, 15, 13, '-', 65, 30, 18.0, 'x', 11.0, --, 'S', --, 0.5, '?', --, '?', --)\n",
        " ('G299.6-00.5', 12, 21, 45, '-', 63, 9, 13.0, --, --, --, 'S', --, 1.0, '?', --, '?', --)\n",
        " ('G301.4-01.0', 12, 37, 55, '-', 63, 49, 37.0, 'x', 23.0, --, 'S', --, 2.1, '?', --, '?', --)\n",
        " ('G302.3+00.7', 12, 45, 55, '-', 62, 8, 17.0, --, --, --, 'S', --, 5.0, '?', 0.4, '?', --)\n",
        " ('G304.6+00.1', 13, 5, 59, '-', 62, 42, 8.0, --, --, --, 'S', --, 14.0, --, 0.5, --, 'Kes 17')\n",
        " ('G308.1-00.7', 13, 37, 37, '-', 63, 4, 13.0, --, --, --, 'S', --, 1.2, '?', --, '?', --)\n",
        " ('G308.8-00.1', 13, 42, 30, '-', 62, 23, 30.0, 'x', 20.0, '?', 'C?', --, 15.0, '?', 0.4, '?', --)\n",
        " ('G309.2-00.6', 13, 46, 31, '-', 62, 54, 15.0, 'x', 12.0, --, 'S', --, 7.0, '?', 0.4, '?', --)\n",
        " ('G309.8+00.0', 13, 50, 30, '-', 62, 5, 25.0, 'x', 19.0, --, 'S', --, 17.0, --, 0.5, --, --)\n",
        " ('G310.6-00.3', 13, 58, 0, '-', 62, 9, 8.0, --, --, --, 'S', --, 5.0, '?', --, '?', 'Kes 20B')\n",
        " ('G310.8-00.4', 14, 0, 0, '-', 62, 17, 12.0, --, --, --, 'S', --, 6.0, '?', --, '?', 'Kes 20A')\n",
        " ('G311.5-00.3', 14, 5, 38, '-', 61, 58, 5.0, --, --, --, 'S', --, 3.0, '?', 0.5, --, --)\n",
        " ('G312.4-00.4', 14, 13, 0, '-', 61, 44, 38.0, --, --, --, 'S', --, 45.0, --, 0.36, --, --)\n",
        " ('G312.5-03.0', 14, 21, 0, '-', 64, 12, 20.0, 'x', 18.0, --, 'S', --, 3.5, '?', --, '?', --)\n",
        " ('G315.1+02.7', 14, 24, 30, '-', 57, 50, 190.0, 'x', 150.0, --, 'S', --, --, '?', --, '?', --)\n",
        " ('G315.4-02.3', 14, 43, 0, '-', 62, 30, 42.0, --, --, --, 'S', --, 49.0, --, 0.6, --, 'RCW 86, MSH 14-63')\n",
        " ('G315.4-00.3', 14, 35, 55, '-', 60, 36, 24.0, 'x', 13.0, --, '?', --, 8.0, --, 0.4, --, --)\n",
        " ('G315.9-00.0', 14, 38, 25, '-', 60, 11, 25.0, 'x', 14.0, --, 'S', --, 0.8, '?', --, '?', --)\n",
        " ('G316.3-00.0', 14, 41, 30, '-', 60, 0, 29.0, 'x', 14.0, --, 'S', --, 20.0, '?', 0.4, --, '(MSH 14-57)')\n",
        " ('G317.3-00.2', 14, 49, 40, '-', 59, 46, 11.0, --, --, --, 'S', --, 4.7, '?', --, '?', --)\n",
        " ('G318.2+00.1', 14, 54, 50, '-', 59, 4, 40.0, 'x', 35.0, --, 'S', '>', 3.9, '?', --, '?', --)\n",
        " ('G318.9+00.4', 14, 58, 30, '-', 58, 29, 30.0, 'x', 14.0, --, 'C', --, 4.0, '?', 0.2, '?', --)\n",
        " ('G320.4-01.2', 15, 14, 30, '-', 59, 8, 35.0, --, --, --, 'C', --, 60.0, '?', 0.4, --, 'MSH 15-52, RCW 89')\n",
        " ('G320.6-01.6', 15, 17, 50, '-', 59, 16, 60.0, 'x', 30.0, --, 'S', --, --, '?', --, '?', --)\n",
        " ('G321.9-01.1', 15, 23, 45, '-', 58, 13, 28.0, --, --, --, 'S', '>', 3.4, '?', --, '?', --)\n",
        " ('G321.9-00.3', 15, 20, 40, '-', 57, 34, 31.0, 'x', 23.0, --, 'S', --, 13.0, --, 0.3, --, --)\n",
        " ('G322.5-00.1', 15, 23, 23, '-', 57, 6, 15.0, --, --, --, 'C', --, 1.5, --, 0.4, --, --)\n",
        " ('G323.5+00.1', 15, 28, 42, '-', 56, 21, 13.0, --, --, --, 'S', --, 3.0, '?', 0.4, '?', --)\n",
        " ('G326.3-01.8', 15, 53, 0, '-', 56, 10, 38.0, --, --, --, 'C', --, 145.0, --, --, 'v', 'MSH 15-56')\n",
        " ('G327.1-01.1', 15, 54, 25, '-', 55, 9, 18.0, --, --, --, 'C', --, 7.0, '?', --, '?', --)\n",
        " ('G327.2-00.1', 15, 50, 55, '-', 54, 18, 5.0, --, --, --, 'S', --, 0.4, --, --, '?', --)\n",
        " ('G327.4+00.4', 15, 48, 20, '-', 53, 49, 21.0, --, --, --, 'S', --, 30.0, '?', 0.6, --, 'Kes 27')\n",
        " ('G327.4+01.0', 15, 46, 48, '-', 53, 20, 14.0, --, --, --, 'S', --, 1.9, '?', --, '?', --)\n",
        " ('G327.6+14.6', 15, 2, 50, '-', 41, 56, 30.0, --, --, --, 'S', --, 19.0, --, 0.6, --, 'SN1006, PKS 1459-41')\n",
        " ('G328.4+00.2', 15, 55, 30, '-', 53, 17, 5.0, --, --, --, 'F', --, 15.0, --, 0.0, --, '(MSH 15-57)')\n",
        " ('G329.7+00.4', 16, 1, 20, '-', 52, 18, 40.0, 'x', 33.0, --, 'S', '>', 34.0, '?', --, '?', --)\n",
        " ('G330.0+15.0', 15, 10, 0, '-', 40, 0, 180.0, --, --, '?', 'S', --, 350.0, '?', 0.5, '?', 'Lupus Loop')\n",
        " ('G330.2+01.0', 16, 1, 6, '-', 51, 34, 11.0, --, --, --, 'S?', --, 5.0, '?', 0.3, --, --)\n",
        " ('G332.0+00.2', 16, 13, 17, '-', 50, 53, 12.0, --, --, --, 'S', --, 8.0, '?', 0.5, --, --)\n",
        " ('G332.4-00.4', 16, 17, 33, '-', 51, 2, 10.0, --, --, --, 'S', --, 28.0, --, 0.5, --, 'RCW 103')\n",
        " ('G332.4+00.1', 16, 15, 20, '-', 50, 42, 15.0, --, --, --, 'S', --, 26.0, --, 0.5, --, 'MSH 16-51, Kes 32')\n",
        " ('G332.5-05.6', 16, 43, 20, '-', 54, 30, 35.0, --, --, --, 'S', --, 2.0, '?', 0.7, '?', --)\n",
        " ('G335.2+00.1', 16, 27, 45, '-', 48, 47, 21.0, --, --, --, 'S', --, 16.0, --, 0.5, --, --)\n",
        " ('G336.7+00.5', 16, 32, 11, '-', 47, 19, 14.0, 'x', 10.0, --, 'S', --, 6.0, --, 0.5, --, --)\n",
        " ('G337.0-00.1', 16, 35, 57, '-', 47, 36, 1.5, --, --, --, 'S', --, 1.5, --, 0.6, '?', '(CTB 33)')\n",
        " ('G337.2-00.7', 16, 39, 28, '-', 47, 51, 6.0, --, --, --, 'S', --, 1.5, --, 0.4, --, --)\n",
        " ('G337.2+00.1', 16, 35, 55, '-', 47, 20, 3.0, 'x', 2.0, --, '?', --, 1.5, '?', --, '?', --)\n",
        " ('G337.3+01.0', 16, 32, 39, '-', 46, 36, 15.0, 'x', 12.0, --, 'S', --, 16.0, --, 0.55, --, 'Kes 40')\n",
        " ('G337.8-00.1', 16, 39, 1, '-', 46, 59, 9.0, 'x', 6.0, --, 'S', --, 18.0, --, 0.5, --, 'Kes 41')\n",
        " ('G338.1+00.4', 16, 37, 59, '-', 46, 24, 15.0, --, --, '?', 'S', --, 4.0, '?', 0.4, --, --)\n",
        " ('G338.3-00.0', 16, 41, 0, '-', 46, 34, 8.0, --, --, --, 'C?', --, 7.0, '?', --, '?', --)\n",
        " ('G338.5+00.1', 16, 41, 9, '-', 46, 19, 9.0, --, --, --, '?', --, 12.0, '?', --, '?', --)\n",
        " ('G340.4+00.4', 16, 46, 31, '-', 44, 39, 10.0, 'x', 7.0, --, 'S', --, 5.0, --, 0.4, --, --)\n",
        " ('G340.6+00.3', 16, 47, 41, '-', 44, 34, 6.0, --, --, --, 'S', --, 5.0, '?', 0.4, '?', --)\n",
        " ('G341.2+00.9', 16, 47, 35, '-', 43, 47, 22.0, 'x', 16.0, --, 'C', --, 1.5, '?', 0.6, '?', --)\n",
        " ('G341.9-00.3', 16, 55, 1, '-', 44, 1, 7.0, --, --, --, 'S', --, 2.5, --, 0.5, --, --)\n",
        " ('G342.0-00.2', 16, 54, 50, '-', 43, 53, 12.0, 'x', 9.0, --, 'S', --, 3.5, '?', 0.4, '?', --)\n",
        " ('G342.1+00.9', 16, 50, 43, '-', 43, 4, 10.0, 'x', 9.0, --, 'S', --, 0.5, '?', --, '?', --)\n",
        " ('G343.0-06.0', 17, 25, 0, '-', 46, 30, 250.0, --, --, --, 'S', --, --, '?', --, '?', 'RCW 114')\n",
        " ('G343.1-02.3', 17, 8, 0, '-', 44, 16, 32.0, --, --, '?', 'C?', --, 8.0, '?', 0.5, '?', --)\n",
        " ('G343.1-00.7', 17, 0, 25, '-', 43, 14, 27.0, 'x', 21.0, --, 'S', --, 7.8, --, 0.55, --, --)\n",
        " ('G344.7-00.1', 17, 3, 51, '-', 41, 42, 10.0, --, --, --, 'C?', --, 2.5, '?', 0.5, --, --)\n",
        " ('G345.7-00.2', 17, 7, 20, '-', 40, 53, 6.0, --, --, --, 'S', --, 0.6, '?', --, '?', --)\n",
        " ('G346.6-00.2', 17, 10, 19, '-', 40, 11, 8.0, --, --, --, 'S', --, 8.0, '?', 0.5, '?', --)\n",
        " ('G347.3-00.5', 17, 13, 50, '-', 39, 45, 65.0, 'x', 55.0, --, 'S?', --, --, '?', --, '?', --)\n",
        " ('G348.5-00.0', 17, 15, 26, '-', 38, 28, 10.0, --, --, '?', 'S?', --, 10.0, '?', 0.4, '?', --)\n",
        " ('G348.5+00.1', 17, 14, 6, '-', 38, 32, 15.0, --, --, --, 'S', --, 72.0, --, 0.3, --, 'CTB 37A')\n",
        " ('G348.7+00.3', 17, 13, 55, '-', 38, 11, 17.0, --, --, '?', 'S', --, 26.0, --, 0.3, --, 'CTB 37B')\n",
        " ('G349.2-00.1', 17, 17, 15, '-', 38, 4, 9.0, 'x', 6.0, --, 'S', --, 1.4, '?', --, '?', --)\n",
        " ('G349.7+00.2', 17, 17, 59, '-', 37, 26, 2.5, 'x', 2.0, --, 'S', --, 20.0, --, 0.5, --, --)\n",
        " ('G350.0-02.0', 17, 27, 50, '-', 38, 32, 45.0, --, --, --, 'S', --, 26.0, --, 0.4, --, --)\n",
        " ('G350.1-00.3', 17, 17, 40, '-', 37, 24, 4.0, --, --, '?', '?', --, 6.0, '?', 0.8, '?', --)\n",
        " ('G351.2+00.1', 17, 22, 27, '-', 36, 11, 7.0, --, --, --, 'C?', --, 5.0, '?', 0.4, --, --)\n",
        " ('G351.7+00.8', 17, 21, 0, '-', 35, 27, 18.0, 'x', 14.0, --, 'S', --, 10.0, --, 0.5, '?', --)\n",
        " ('G351.9-00.9', 17, 28, 52, '-', 36, 16, 12.0, 'x', 9.0, --, 'S', --, 1.8, '?', --, '?', --)\n",
        " ('G352.7-00.1', 17, 27, 40, '-', 35, 7, 8.0, 'x', 6.0, --, 'S', --, 4.0, --, 0.6, --, --)\n",
        " ('G353.6-00.7', 17, 32, 0, '-', 34, 44, 30.0, --, --, --, 'S', --, 2.5, '?', --, '?', --)\n",
        " ('G353.9-02.0', 17, 38, 55, '-', 35, 11, 13.0, --, --, --, 'S', --, 1.0, '?', 0.5, '?', --)\n",
        " ('G354.1+00.1', 17, 30, 28, '-', 33, 46, 15.0, 'x', 3.0, '?', 'C?', --, --, '?', --, 'v', --)\n",
        " ('G354.8-00.8', 17, 36, 0, '-', 33, 42, 19.0, --, --, --, 'S', --, 2.8, '?', --, '?', --)\n",
        " ('G355.4+00.7', 17, 31, 20, '-', 32, 26, 25.0, --, --, --, 'S', --, 5.0, '?', --, '?', --)\n",
        " ('G355.6-00.0', 17, 35, 16, '-', 32, 38, 8.0, 'x', 6.0, --, 'S', --, 3.0, '?', --, '?', --)\n",
        " ('G355.9-02.5', 17, 45, 53, '-', 33, 43, 13.0, --, --, --, 'S', --, 8.0, --, 0.5, --, --)\n",
        " ('G356.2+04.5', 17, 19, 0, '-', 29, 40, 25.0, --, --, --, 'S', --, 4.0, --, 0.7, --, --)\n",
        " ('G356.3-00.3', 17, 37, 56, '-', 32, 16, 11.0, 'x', 7.0, --, 'S', --, 3.0, '?', --, '?', --)\n",
        " ('G356.3-01.5', 17, 42, 35, '-', 32, 52, 20.0, 'x', 15.0, --, 'S', --, 3.0, '?', --, '?', --)\n",
        " ('G357.7-00.1', 17, 40, 29, '-', 30, 58, 8.0, 'x', 3.0, '?', '?', --, 37.0, --, 0.4, --, 'MSH 17-39')\n",
        " ('G357.7+00.3', 17, 38, 35, '-', 30, 44, 24.0, --, --, --, 'S', --, 10.0, --, 0.4, '?', --)\n",
        " ('G358.0+03.8', 17, 26, 0, '-', 28, 36, 38.0, --, --, --, 'S', --, 1.5, '?', --, '?', --)\n",
        " ('G358.1+00.1', 17, 37, 0, '-', 29, 59, 20.0, --, --, --, 'S', --, 2.0, '?', --, '?', --)\n",
        " ('G358.5-00.9', 17, 46, 10, '-', 30, 40, 17.0, --, --, --, 'S', --, 4.0, '?', --, '?', --)\n",
        " ('G359.0-00.9', 17, 46, 50, '-', 30, 16, 23.0, --, --, --, 'S', --, 23.0, --, 0.5, --, --)\n",
        " ('G359.1-00.5', 17, 45, 30, '-', 29, 57, 24.0, --, --, --, 'S', --, 14.0, --, 0.4, '?', --)\n",
        " ('G359.1+00.9', 17, 39, 36, '-', 29, 11, 12.0, 'x', 11.0, --, 'S', --, 2.0, '?', --, '?', --)],\n",
        "             mask = [ (False, False, False, False, False, False, False, False, False, False, True, False, True, False, False, False, False, False)\n",
        " (False, False, False, False, False, False, False, False, False, False, True, False, True, False, True, False, True, True)\n",
        " (False, False, False, False, False, False, False, False, True, True, True, False, True, False, False, True, False, True)\n",
        " (False, False, False, False, False, False, False, False, True, True, True, False, True, False, True, False, False, True)\n",
        " (False, False, False, False, False, False, False, False, True, True, True, False, True, False, False, True, False, True)\n",
        " (False, False, False, False, False, False, False, False, True, True, True, False, True, False, True, False, True, True)\n",
        " (False, False, False, False, False, False, False, False, False, False, True, False, True, False, True, False, True, True)\n",
        " (False, False, False, False, False, False, False, False, True, True, True, False, True, False, False, False, True, True)\n",
        " (False, False, False, False, False, False, False, False, True, True, True, False, True, False, False, False, False, True)\n",
        " (False, False, False, False, False, False, False, False, True, True, True, False, True, False, True, False, True, False)\n",
        " (False, False, False, False, False, False, False, False, True, True, True, False, True, False, True, False, True, True)\n",
        " (False, False, False, False, False, False, False, False, True, True, True, False, True, False, False, False, False, True)\n",
        " (False, False, False, False, False, False, False, False, True, True, True, False, True, False, False, False, False, False)\n",
        " (False, False, False, False, False, False, False, False, False, False, True, False, True, False, True, False, True, True)\n",
        " (False, False, False, False, False, False, False, False, True, True, True, False, True, False, False, False, False, True)\n",
        " (False, False, False, False, False, False, False, False, False, False, True, False, True, False, True, False, True, True)\n",
        " (False, False, False, False, False, False, False, False, False, False, True, False, True, False, False, False, False, True)\n",
        " (False, False, False, False, False, False, False, False, True, True, True, False, True, False, True, True, False, False)\n",
        " (False, False, False, False, False, False, False, False, True, True, True, False, True, False, False, False, False, True)\n",
        " (False, False, False, False, False, False, False, False, True, True, True, False, True, False, True, False, True, True)\n",
        " (False, False, False, False, False, False, False, False, True, True, True, False, True, False, False, False, False, True)\n",
        " (False, False, False, False, False, False, False, False, True, True, True, False, True, False, True, False, True, True)\n",
        " (False, False, False, False, False, False, False, False, True, True, True, False, True, False, True, False, True, False)\n",
        " (False, False, False, False, False, False, False, False, False, False, True, False, True, False, True, False, True, True)\n",
        " (False, False, False, False, False, False, False, False, True, True, True, False, True, False, True, False, True, True)\n",
        " (False, False, False, False, False, False, False, False, True, True, True, False, True, False, True, False, True, False)\n",
        " (False, False, False, False, False, False, False, False, True, True, True, False, True, False, True, False, True, True)\n",
        " (False, False, False, False, False, False, False, False, False, False, True, False, True, False, True, False, True, True)\n",
        " (False, False, False, False, False, False, False, False, True, True, True, False, True, False, True, False, True, True)\n",
        " (False, False, False, False, False, False, False, False, True, True, True, False, True, False, True, False, True, True)\n",
        " (False, False, False, False, False, False, False, False, True, True, True, False, True, False, True, False, True, True)\n",
        " (False, False, False, False, False, False, False, False, False, False, True, False, True, False, True, False, True, True)\n",
        " (False, False, False, False, False, False, False, False, False, False, True, False, True, False, True, False, True, True)\n",
        " (False, False, False, False, False, False, False, False, False, False, True, False, True, False, True, False, True, True)\n",
        " (False, False, False, False, False, False, False, False, False, False, True, False, True, False, True, False, True, True)\n",
        " (False, False, False, False, False, False, False, False, True, True, True, False, True, False, True, False, True, True)\n",
        " (False, False, False, False, False, False, False, False, True, True, True, False, True, False, True, False, True, True)\n",
        " (False, False, False, False, False, False, False, False, True, True, True, False, True, False, True, False, True, True)\n",
        " (False, False, False, False, False, False, False, False, True, True, False, False, True, False, True, False, True, True)\n",
        " (False, False, False, False, False, False, False, False, False, False, True, False, True, False, True, False, True, True)\n",
        " (False, False, False, False, False, False, False, False, False, False, True, False, True, False, True, False, True, True)\n",
        " (False, False, False, False, False, False, False, False, True, True, True, False, True, False, True, False, True, True)\n",
        " (False, False, False, False, False, False, False, False, True, True, True, False, True, False, True, False, True, True)\n",
        " (False, False, False, False, False, False, False, False, False, False, True, False, True, True, False, True, False, True)\n",
        " (False, False, False, False, False, False, False, False, False, False, True, False, True, False, False, False, False, True)\n",
        " (False, False, False, False, False, False, False, False, False, False, True, False, True, False, True, False, True, True)\n",
        " (False, False, False, False, False, False, False, False, False, False, True, False, True, False, True, False, True, True)\n",
        " (False, False, False, False, False, False, False, False, False, False, True, False, True, False, False, False, False, True)\n",
        " (False, False, False, False, False, False, False, False, False, False, True, False, True, False, True, False, True, True)\n",
        " (False, False, False, False, False, False, False, False, False, False, True, False, True, False, True, False, False, True)\n",
        " (False, False, False, False, False, False, False, False, False, False, True, False, True, False, True, False, True, True)\n",
        " (False, False, False, False, False, False, False, False, True, True, True, False, True, False, True, False, True, True)\n",
        " (False, False, False, False, False, False, False, False, True, True, True, False, True, False, True, False, True, True)\n",
        " (False, False, False, False, False, False, False, False, True, True, True, False, True, False, True, False, True, True)\n",
        " (False, False, False, False, False, False, False, False, False, False, False, False, True, False, False, True, False, True)\n",
        " (False, False, False, False, False, False, False, False, True, True, True, False, True, False, True, False, True, True)\n",
        " (False, False, False, False, False, False, False, False, True, True, False, False, True, False, False, False, False, True)\n",
        " (False, False, False, False, False, False, False, False, True, True, True, False, True, False, True, False, True, True)\n",
        " (False, False, False, False, False, False, False, False, True, True, True, False, True, False, False, False, False, True)\n",
        " (False, False, False, False, False, False, False, False, True, True, True, False, True, False, True, False, True, True)\n",
        " (False, False, False, False, False, False, False, False, True, True, True, False, True, False, True, False, True, True)\n",
        " (False, False, False, False, False, False, False, False, False, False, True, False, True, False, True, False, True, False)\n",
        " (False, False, False, False, False, False, False, False, True, True, True, False, True, False, True, True, False, True)\n",
        " (False, False, False, False, False, False, False, False, True, True, True, False, True, False, True, False, True, True)\n",
        " (False, False, False, False, False, False, False, False, True, True, True, False, True, False, True, False, True, True)\n",
        " (False, False, False, False, False, False, False, False, True, True, True, False, True, False, True, False, True, True)\n",
        " (False, False, False, False, False, False, False, False, False, False, True, False, True, False, True, False, True, True)\n",
        " (False, False, False, False, False, False, False, False, True, True, True, False, True, False, False, False, True, True)\n",
        " (False, False, False, False, False, False, False, False, True, True, True, False, True, False, True, False, True, True)\n",
        " (False, False, False, False, False, False, False, False, True, True, True, False, True, False, True, False, True, False)\n",
        " (False, False, False, False, False, False, False, False, True, True, True, False, True, False, True, False, True, True)\n",
        " (False, False, False, False, False, False, False, False, True, True, True, False, True, False, True, False, True, False)\n",
        " (False, False, False, False, False, False, False, False, True, True, False, False, True, False, False, False, True, True)\n",
        " (False, False, False, False, False, False, False, False, True, True, False, False, True, False, True, False, True, True)\n",
        " (False, False, False, False, False, False, False, False, False, False, True, False, True, False, False, False, False, True)\n",
        " (False, False, False, False, False, False, False, False, True, True, True, False, True, False, True, False, True, False)\n",
        " (False, False, False, False, False, False, False, False, False, False, True, False, True, False, True, True, False, True)\n",
        " (False, False, False, False, False, False, False, False, False, False, True, False, True, False, False, True, False, True)\n",
        " (False, False, False, False, False, False, False, False, True, True, False, False, True, True, False, False, False, True)\n",
        " (False, False, False, False, False, False, False, False, True, True, True, False, True, False, False, False, False, True)\n",
        " (False, False, False, False, False, False, False, False, True, True, True, False, True, False, True, False, True, False)\n",
        " (False, False, False, False, False, False, False, False, True, True, True, False, True, False, False, False, False, True)\n",
        " (False, False, False, False, False, False, False, False, False, False, True, False, True, False, True, False, True, True)\n",
        " (False, False, False, False, False, False, False, False, True, True, False, False, True, False, False, True, False, True)\n",
        " (False, False, False, False, False, False, False, False, False, False, True, False, True, False, True, False, True, False)\n",
        " (False, False, False, False, False, False, False, False, True, True, False, False, True, False, False, False, False, False)\n",
        " (False, False, False, False, False, False, False, False, True, True, False, False, True, True, False, True, False, True)\n",
        " (False, False, False, False, False, False, False, False, True, True, True, False, True, False, False, True, False, True)\n",
        " (False, False, False, False, False, False, False, False, True, True, True, False, True, False, False, False, False, False)\n",
        " (False, False, False, False, False, False, False, False, True, True, True, False, True, False, True, True, False, True)\n",
        " (False, False, False, False, False, False, False, False, True, True, True, False, True, False, True, False, True, False)\n",
        " (False, False, False, False, False, False, False, False, False, False, True, False, True, False, True, False, True, False)\n",
        " (False, False, False, False, False, False, False, False, True, True, False, False, True, True, False, True, False, True)\n",
        " (False, False, False, False, False, False, False, False, False, False, False, False, True, False, False, False, False, True)\n",
        " (False, False, False, False, False, False, False, False, False, False, True, False, True, False, True, False, True, False)\n",
        " (False, False, False, False, False, False, False, False, False, False, True, False, True, False, False, False, False, False)\n",
        " (False, False, False, False, False, False, False, False, True, True, True, False, True, False, True, False, True, True)\n",
        " (False, False, False, False, False, False, False, False, False, False, True, False, True, False, True, False, True, False)\n",
        " (False, False, False, False, False, False, False, False, True, True, True, False, True, False, False, False, False, True)\n",
        " (False, False, False, False, False, False, False, False, False, False, True, False, True, False, True, False, True, False)\n",
        " (False, False, False, False, False, False, False, False, True, True, False, False, True, False, False, False, False, True)\n",
        " (False, False, False, False, False, False, False, False, True, True, True, False, True, False, False, False, False, True)\n",
        " (False, False, False, False, False, False, False, False, False, False, True, False, True, False, True, False, True, False)\n",
        " (False, False, False, False, False, False, False, False, True, True, True, False, True, False, False, False, False, False)\n",
        " (False, False, False, False, False, False, False, False, False, False, True, False, True, False, True, False, True, False)\n",
        " (False, False, False, False, False, False, False, False, True, True, True, False, True, False, True, False, True, True)\n",
        " (False, False, False, False, False, False, False, False, True, True, True, False, True, False, True, False, True, False)\n",
        " (False, False, False, False, False, False, False, False, False, False, False, False, True, False, False, False, False, True)\n",
        " (False, False, False, False, False, False, False, False, True, True, True, False, True, False, True, False, True, True)\n",
        " (False, False, False, False, False, False, False, False, True, True, False, False, True, False, False, True, False, False)\n",
        " (False, False, False, False, False, False, False, False, True, True, True, False, True, False, False, True, False, True)\n",
        " (False, False, False, False, False, False, False, False, False, False, False, False, True, False, True, False, True, True)\n",
        " (False, False, False, False, False, False, False, False, True, True, True, False, True, False, True, False, True, True)\n",
        " (False, False, False, False, False, False, False, False, False, False, True, False, True, False, True, False, True, True)\n",
        " (False, False, False, False, False, False, False, False, False, False, True, False, True, False, False, False, False, True)\n",
        " (False, False, False, False, False, False, False, False, True, True, True, False, True, False, True, True, False, False)\n",
        " (False, False, False, False, False, False, False, False, False, False, True, False, True, False, True, False, True, True)\n",
        " (False, False, False, False, False, False, False, False, True, True, True, False, True, False, False, False, False, True)\n",
        " (False, False, False, False, False, False, False, False, True, True, False, False, True, False, False, True, False, False)\n",
        " (False, False, False, False, False, False, False, False, False, False, True, False, True, False, True, False, True, True)\n",
        " (False, False, False, False, False, False, False, False, True, True, True, False, True, False, True, False, True, True)\n",
        " (False, False, False, False, False, False, False, False, False, False, True, False, True, False, True, True, False, False)\n",
        " (False, False, False, False, False, False, False, False, False, False, True, False, True, False, True, True, False, False)\n",
        " (False, False, False, False, False, False, False, False, True, True, True, False, True, False, True, False, True, True)\n",
        " (False, False, False, False, False, False, False, False, True, True, True, False, True, False, True, False, True, False)\n",
        " (False, False, False, False, False, False, False, False, False, False, True, False, True, False, False, False, False, False)\n",
        " (False, False, False, False, False, False, False, False, False, False, True, False, True, False, True, False, True, True)\n",
        " (False, False, False, False, False, False, False, False, False, False, True, False, True, False, True, False, True, True)\n",
        " (False, False, False, False, False, False, False, False, True, True, False, False, True, True, False, False, True, True)\n",
        " (False, False, False, False, False, False, False, False, True, True, True, False, True, True, False, False, True, True)\n",
        " (False, False, False, False, False, False, False, False, False, False, True, False, True, False, True, False, True, False)\n",
        " (False, False, False, False, False, False, False, False, False, False, True, False, True, False, True, False, True, False)\n",
        " (False, False, False, False, False, False, False, False, True, True, True, False, True, False, True, False, True, False)\n",
        " (False, False, False, False, False, False, False, False, False, False, True, False, True, False, True, False, True, False)\n",
        " (False, False, False, False, False, False, False, False, True, True, True, False, True, False, True, False, True, True)\n",
        " (False, False, False, False, False, False, False, False, False, False, True, False, True, False, True, False, True, True)\n",
        " (False, False, False, False, False, False, False, False, False, False, True, False, True, False, True, False, True, True)\n",
        " (False, False, False, False, False, False, False, False, True, True, True, False, True, False, True, False, True, False)\n",
        " (False, False, False, False, False, False, False, False, True, True, True, False, True, False, True, False, True, False)\n",
        " (False, False, False, False, False, False, False, False, False, False, False, False, True, True, False, True, False, True)\n",
        " (False, False, False, False, False, False, False, False, False, False, True, False, True, False, True, False, True, True)\n",
        " (False, False, False, False, False, False, False, False, False, False, True, False, True, False, True, False, True, True)\n",
        " (False, False, False, False, False, False, False, False, True, True, True, False, True, False, True, False, True, False)\n",
        " (False, False, False, False, False, False, False, False, True, True, False, False, True, False, True, False, True, False)\n",
        " (False, False, False, False, False, False, False, False, True, True, True, False, True, False, True, False, True, False)\n",
        " (False, False, False, False, False, False, False, False, True, True, True, False, True, False, True, False, True, True)\n",
        " (False, False, False, False, False, False, False, False, True, True, True, False, True, False, True, False, True, False)\n",
        " (False, False, False, False, False, False, False, False, False, False, True, False, True, False, True, False, True, False)\n",
        " (False, False, False, False, False, False, False, False, True, True, True, False, True, False, True, False, True, False)\n",
        " (False, False, False, False, False, False, False, False, True, True, True, False, True, False, True, False, True, True)\n",
        " (False, False, False, False, False, False, False, False, False, False, True, False, True, False, True, False, True, False)\n",
        " (False, False, False, False, False, False, False, False, False, False, True, False, True, False, True, False, True, False)\n",
        " (False, False, False, False, False, False, False, False, True, True, True, False, True, False, True, False, True, True)\n",
        " (False, False, False, False, False, False, False, False, True, True, True, False, True, False, True, True, False, False)\n",
        " (False, False, False, False, False, False, False, False, True, True, True, False, True, False, True, False, True, True)\n",
        " (False, False, False, False, False, False, False, False, False, False, True, False, True, False, True, False, True, False)\n",
        " (False, False, False, False, False, False, False, False, True, True, True, False, True, False, True, False, True, False)\n",
        " (False, False, False, False, False, False, False, False, True, True, True, False, True, False, False, False, False, False)\n",
        " (False, False, False, False, False, False, False, False, True, True, True, False, True, False, True, False, True, False)\n",
        " (False, False, False, False, False, False, False, False, False, False, True, False, True, False, True, False, True, False)\n",
        " (False, False, False, False, False, False, False, False, False, False, True, False, True, False, True, False, True, False)\n",
        " (False, False, False, False, False, False, False, False, False, False, True, False, True, False, False, False, False, True)\n",
        " (False, False, False, False, False, False, False, False, True, True, True, False, True, False, True, True, False, False)\n",
        " (False, False, False, False, False, False, False, False, True, True, True, False, True, False, False, False, False, False)\n",
        " (False, False, False, False, False, False, False, False, True, True, False, False, True, False, True, False, True, True)\n",
        " (False, False, False, False, False, False, False, False, True, True, True, False, True, False, False, False, False, True)\n",
        " (False, False, False, False, False, False, False, False, True, True, False, False, True, False, False, False, False, False)\n",
        " (False, False, False, False, False, False, False, False, False, False, True, False, True, False, False, True, False, True)\n",
        " (False, False, False, False, False, False, False, False, False, False, True, False, True, False, True, False, False, True)\n",
        " (False, False, False, False, False, False, False, False, False, False, True, False, True, False, True, False, True, False)\n",
        " (False, False, False, False, False, False, False, False, False, False, True, False, True, False, True, False, True, False)\n",
        " (False, False, False, False, False, False, False, False, False, False, True, False, True, False, True, False, True, False)\n",
        " (False, False, False, False, False, False, False, False, False, False, True, False, True, False, True, False, True, True)\n",
        " (False, False, False, False, False, False, False, False, True, True, True, False, True, False, False, False, False, True)\n",
        " (False, False, False, False, False, False, False, False, True, True, True, False, False, False, False, True, False, True)\n",
        " (False, False, False, False, False, False, False, False, False, False, True, False, True, False, False, False, False, True)\n",
        " (False, False, False, False, False, False, False, False, False, False, True, False, True, False, True, False, True, False)\n",
        " (False, False, False, False, False, False, False, False, False, False, True, False, True, False, True, False, True, False)\n",
        " (False, False, False, False, False, False, False, False, True, True, False, False, True, False, False, False, False, True)\n",
        " (False, False, False, False, False, False, False, False, False, False, True, False, True, False, False, False, True, True)\n",
        " (False, False, False, False, False, False, False, False, False, False, True, False, True, False, False, True, False, True)\n",
        " (False, False, False, False, False, False, False, False, True, True, True, False, True, False, False, True, False, True)\n",
        " (False, False, False, False, False, False, False, False, False, False, True, False, True, False, False, True, False, True)\n",
        " (False, False, False, False, False, False, False, False, True, True, True, False, True, False, False, False, False, True)\n",
        " (False, False, False, False, False, False, False, False, True, True, True, False, True, False, True, False, True, False)\n",
        " (False, False, False, False, False, False, False, False, True, True, True, False, True, False, False, True, False, True)\n",
        " (False, False, False, False, False, False, False, False, False, False, False, False, True, False, False, False, False, True)\n",
        " (False, False, False, False, False, False, False, False, False, False, True, False, True, False, False, False, False, True)\n",
        " (False, False, False, False, False, False, False, False, False, False, True, False, True, False, True, False, True, True)\n",
        " (False, False, False, False, False, False, False, False, True, True, True, False, True, False, False, True, False, False)\n",
        " (False, False, False, False, False, False, False, False, True, True, True, False, True, False, False, True, False, False)\n",
        " (False, False, False, False, False, False, False, False, True, True, True, False, True, False, False, False, True, True)\n",
        " (False, False, False, False, False, False, False, False, True, True, True, False, True, False, True, False, True, True)\n",
        " (False, False, False, False, False, False, False, False, False, False, True, False, True, False, False, True, False, True)\n",
        " (False, False, False, False, False, False, False, False, False, False, True, False, True, True, False, True, False, True)\n",
        " (False, False, False, False, False, False, False, False, True, True, True, False, True, False, True, False, True, False)\n",
        " (False, False, False, False, False, False, False, False, False, False, True, False, True, False, True, False, True, True)\n",
        " (False, False, False, False, False, False, False, False, False, False, True, False, True, False, False, True, False, True)\n",
        " (False, False, False, False, False, False, False, False, False, False, True, False, True, False, False, False, True, False)\n",
        " (False, False, False, False, False, False, False, False, True, True, True, False, True, False, False, True, False, True)\n",
        " (False, False, False, False, False, False, False, False, False, False, True, False, False, False, False, True, False, True)\n",
        " (False, False, False, False, False, False, False, False, False, False, True, False, True, False, False, False, False, True)\n",
        " (False, False, False, False, False, False, False, False, True, True, True, False, True, False, False, False, True, False)\n",
        " (False, False, False, False, False, False, False, False, False, False, True, False, True, True, False, True, False, True)\n",
        " (False, False, False, False, False, False, False, False, True, True, True, False, False, False, False, True, False, True)\n",
        " (False, False, False, False, False, False, False, False, False, False, True, False, True, False, True, False, True, True)\n",
        " (False, False, False, False, False, False, False, False, True, True, True, False, True, False, True, False, True, True)\n",
        " (False, False, False, False, False, False, False, False, True, True, True, False, True, False, False, False, False, True)\n",
        " (False, False, False, False, False, False, False, False, True, True, True, False, True, False, True, True, False, False)\n",
        " (False, False, False, False, False, False, False, False, True, True, True, False, True, False, False, True, False, True)\n",
        " (False, False, False, False, False, False, False, False, True, True, True, False, True, False, True, True, False, True)\n",
        " (False, False, False, False, False, False, False, False, True, True, True, False, True, False, False, False, True, False)\n",
        " (False, False, False, False, False, False, False, False, True, True, True, False, True, False, False, True, False, True)\n",
        " (False, False, False, False, False, False, False, False, True, True, True, False, True, False, True, False, True, False)\n",
        " (False, False, False, False, False, False, False, False, True, True, True, False, True, False, True, False, True, False)\n",
        " (False, False, False, False, False, False, False, False, False, False, True, False, False, False, False, True, False, True)\n",
        " (False, False, False, False, False, False, False, False, True, True, False, False, True, False, False, False, False, False)\n",
        " (False, False, False, False, False, False, False, False, True, True, True, False, True, False, False, False, True, True)\n",
        " (False, False, False, False, False, False, False, False, True, True, True, False, True, False, False, False, True, True)\n",
        " (False, False, False, False, False, False, False, False, True, True, True, False, True, False, True, False, True, False)\n",
        " (False, False, False, False, False, False, False, False, True, True, True, False, True, False, True, False, True, False)\n",
        " (False, False, False, False, False, False, False, False, True, True, True, False, True, False, False, False, False, True)\n",
        " (False, False, False, False, False, False, False, False, True, True, True, False, True, False, True, False, True, True)\n",
        " (False, False, False, False, False, False, False, False, False, False, True, False, True, False, True, False, True, True)\n",
        " (False, False, False, False, False, False, False, False, True, True, True, False, True, False, True, False, False, False)\n",
        " (False, False, False, False, False, False, False, False, True, True, True, False, True, False, True, False, True, True)\n",
        " (False, False, False, False, False, False, False, False, False, False, True, False, True, False, False, True, False, True)\n",
        " (False, False, False, False, False, False, False, False, False, False, True, False, True, False, True, False, True, False)\n",
        " (False, False, False, False, False, False, False, False, False, False, True, False, True, False, True, False, True, False)\n",
        " (False, False, False, False, False, False, False, False, True, True, False, False, True, False, False, False, True, True)\n",
        " (False, False, False, False, False, False, False, False, True, True, True, False, True, False, False, True, False, True)\n",
        " (False, False, False, False, False, False, False, False, True, True, True, False, True, False, False, True, False, True)\n",
        " (False, False, False, False, False, False, False, False, False, False, True, False, True, False, True, False, True, True)\n",
        " (False, False, False, False, False, False, False, False, True, True, True, False, True, False, False, False, False, True)\n",
        " (False, False, False, False, False, False, False, False, False, False, True, False, True, False, False, False, False, True)\n",
        " (False, False, False, False, False, False, False, False, True, True, True, False, True, False, True, False, True, True)\n",
        " (False, False, False, False, False, False, False, False, False, False, True, False, True, False, False, False, False, True)\n",
        " (False, False, False, False, False, False, False, False, False, False, True, False, True, False, False, True, False, True)\n",
        " (False, False, False, False, False, False, False, False, True, True, True, False, True, True, False, True, False, False)\n",
        " (False, False, False, False, False, False, False, False, True, True, False, False, True, False, False, False, False, True)\n",
        " (False, False, False, False, False, False, False, False, False, False, True, False, True, False, True, False, True, True)\n",
        " (False, False, False, False, False, False, False, False, True, True, True, False, True, False, False, False, True, True)\n",
        " (False, False, False, False, False, False, False, False, True, True, True, False, True, False, False, True, False, True)\n",
        " (False, False, False, False, False, False, False, False, True, True, True, False, True, False, False, False, False, True)\n",
        " (False, False, False, False, False, False, False, False, False, False, True, False, True, True, False, True, False, True)\n",
        " (False, False, False, False, False, False, False, False, True, True, False, False, True, False, False, False, False, True)\n",
        " (False, False, False, False, False, False, False, False, True, True, True, False, True, False, True, False, True, False)\n",
        " (False, False, False, False, False, False, False, False, True, True, False, False, True, False, True, False, True, False)\n",
        " (False, False, False, False, False, False, False, False, False, False, True, False, True, False, False, True, False, True)\n",
        " (False, False, False, False, False, False, False, False, False, False, True, False, True, False, True, False, True, True)\n",
        " (False, False, False, False, False, False, False, False, True, True, True, False, True, False, True, False, True, True)\n",
        " (False, False, False, False, False, False, False, False, True, True, False, False, True, False, False, False, False, True)\n",
        " (False, False, False, False, False, False, False, False, True, True, True, False, True, False, False, False, True, True)\n",
        " (False, False, False, False, False, False, False, False, False, False, True, False, True, False, True, False, False, True)\n",
        " (False, False, False, False, False, False, False, False, False, False, True, False, True, False, False, True, False, True)\n",
        " (False, False, False, False, False, False, False, False, False, False, True, False, True, False, True, False, True, True)\n",
        " (False, False, False, False, False, False, False, False, True, True, True, False, True, False, False, True, False, True)\n",
        " (False, False, False, False, False, False, False, False, True, True, True, False, True, False, False, False, False, True)\n",
        " (False, False, False, False, False, False, False, False, False, False, False, False, True, True, False, True, False, True)\n",
        " (False, False, False, False, False, False, False, False, True, True, True, False, True, False, False, True, False, True)\n",
        " (False, False, False, False, False, False, False, False, True, True, True, False, True, False, False, True, False, True)\n",
        " (False, False, False, False, False, False, False, False, False, False, True, False, True, False, False, True, False, True)\n",
        " (False, False, False, False, False, False, False, False, True, True, True, False, True, False, True, False, True, True)\n",
        " (False, False, False, False, False, False, False, False, True, True, True, False, True, False, True, False, True, True)\n",
        " (False, False, False, False, False, False, False, False, False, False, True, False, True, False, False, True, False, True)\n",
        " (False, False, False, False, False, False, False, False, False, False, True, False, True, False, False, True, False, True)\n",
        " (False, False, False, False, False, False, False, False, False, False, False, False, True, False, True, False, True, False)\n",
        " (False, False, False, False, False, False, False, False, True, True, True, False, True, False, True, False, False, True)\n",
        " (False, False, False, False, False, False, False, False, True, True, True, False, True, False, False, True, False, True)\n",
        " (False, False, False, False, False, False, False, False, True, True, True, False, True, False, False, True, False, True)\n",
        " (False, False, False, False, False, False, False, False, True, True, True, False, True, False, False, True, False, True)\n",
        " (False, False, False, False, False, False, False, False, True, True, True, False, True, False, True, False, True, True)\n",
        " (False, False, False, False, False, False, False, False, True, True, True, False, True, False, True, False, False, True)\n",
        " (False, False, False, False, False, False, False, False, False, False, True, False, True, False, False, True, False, True)],\n",
        "       fill_value = ('N/A', 999999, 999999, 999999, 'N', 999999, 999999, 1e+20, 'N', 1e+20, 'N', 'N/', 'N', 1e+20, 'N', 1e+20, 'N', 'N/A'),\n",
        "            dtype = [('SNR', 'S11'), ('RAh', '<i4'), ('RAm', '<i4'), ('RAs', '<i4'), ('DE-', 'S1'), ('DEd', '<i4'), ('DEm', '<i4'), ('MajDiam', '<f8'), ('---', 'S1'), ('MinDiam', '<f8'), ('u_MinDiam', 'S1'), ('type', 'S2'), ('l_S(1GHz)', 'S1'), ('S(1GHz)', '<f8'), ('u_S(1GHz)', 'S1'), ('Sp-Index', '<f8'), ('u_Sp-Index', 'S1'), ('Names', 'S26')])"
       ]
      }
     ],
     "prompt_number": 71
    },
    {
     "cell_type": "code",
     "collapsed": false,
     "input": [
      "t.show_in_browser(jsviewer=True)"
     ],
     "language": "python",
     "metadata": {},
     "outputs": [
      {
       "metadata": {},
       "output_type": "pyout",
       "prompt_number": 72,
       "text": [
        "<open file '<fdopen>', mode 'w+b' at 0x96808b8>"
       ]
      }
     ],
     "prompt_number": 72
    },
    {
     "cell_type": "code",
     "collapsed": false,
     "input": [
      "t[0:10].write('tab_cds1.tex', format='latex')"
     ],
     "language": "python",
     "metadata": {},
     "outputs": [],
     "prompt_number": 73
    },
    {
     "cell_type": "code",
     "collapsed": false,
     "input": [
      "!cat tab_cds1.tex"
     ],
     "language": "python",
     "metadata": {},
     "outputs": [
      {
       "output_type": "stream",
       "stream": "stdout",
       "text": [
        "\\begin{table}\r\n",
        "\\begin{tabular}{cccccccccccccccccc}\r\n",
        "SNR & RAh & RAm & RAs & DE- & DEd & DEm & MajDiam & --- & MinDiam & u_MinDiam & type & l_S(1GHz) & S(1GHz) & u_S(1GHz) & Sp-Index & u_Sp-Index & Names \\\\\r\n",
        "G000.0+00.0 & 17 & 45 & 44 & - & 29 & 0 & 3.5 & x & 2.5 & -- & S & -- & 100.0 & ? & 0.8 & ? & Sgr A East \\\\\r\n",
        "G000.3+00.0 & 17 & 46 & 15 & - & 28 & 38 & 15.0 & x & 8.0 & -- & S & -- & 22.0 & -- & 0.6 & -- & -- \\\\\r\n",
        "G000.9+00.1 & 17 & 47 & 21 & - & 28 & 9 & 8.0 & -- & -- & -- & C & -- & 18.0 & ? & -- & v & -- \\\\\r\n",
        "G001.0-00.1 & 17 & 48 & 30 & - & 28 & 9 & 8.0 & -- & -- & -- & S & -- & 15.0 & -- & 0.6 & ? & -- \\\\\r\n",
        "G001.4-00.1 & 17 & 49 & 39 & - & 27 & 46 & 10.0 & -- & -- & -- & S & -- & 2.0 & ? & -- & ? & -- \\\\\r\n",
        "G001.9+00.3 & 17 & 48 & 45 & - & 27 & 10 & 1.5 & -- & -- & -- & S & -- & 0.6 & -- & 0.6 & -- & -- \\\\\r\n",
        "G003.7-00.2 & 17 & 55 & 26 & - & 25 & 50 & 14.0 & x & 11.0 & -- & S & -- & 2.3 & -- & 0.65 & -- & -- \\\\\r\n",
        "G003.8+00.3 & 17 & 52 & 55 & - & 25 & 28 & 18.0 & -- & -- & -- & S? & -- & 3.0 & ? & 0.6 & -- & -- \\\\\r\n",
        "G004.2-03.5 & 18 & 8 & 55 & - & 27 & 3 & 28.0 & -- & -- & -- & S & -- & 3.2 & ? & 0.6 & ? & -- \\\\\r\n",
        "G004.5+06.8 & 17 & 30 & 42 & - & 21 & 29 & 3.0 & -- & -- & -- & S & -- & 19.0 & -- & 0.64 & -- & Kepler, SN1604, 3C358 \\\\\r\n",
        "\\end{tabular}\r\n",
        "\\end{table}\r\n"
       ]
      }
     ],
     "prompt_number": 74
    },
    {
     "cell_type": "code",
     "collapsed": false,
     "input": [
      "t[10:20].write('tab_cds1.ascii', format='ascii', delimiter='|', formats={'colc': '%0.2f'})"
     ],
     "language": "python",
     "metadata": {},
     "outputs": [],
     "prompt_number": 75
    },
    {
     "cell_type": "code",
     "collapsed": false,
     "input": [
      "!cat tab_cds1.ascii"
     ],
     "language": "python",
     "metadata": {},
     "outputs": [
      {
       "output_type": "stream",
       "stream": "stdout",
       "text": [
        "SNR|RAh|RAm|RAs|DE-|DEd|DEm|MajDiam|---|MinDiam|u_MinDiam|type|l_S(1GHz)|S(1GHz)|u_S(1GHz)|Sp-Index|u_Sp-Index|Names\r\n",
        "G004.8+06.2|17|33|25|-|21|34|18.0|--|--|--|S|--|3.0|--|0.6|--|--\r\n",
        "G005.2-02.6|18|7|30|-|25|45|18.0|--|--|--|S|--|2.6|?|0.6|?|--\r\n",
        "G005.4-01.2|18|2|10|-|24|54|35.0|--|--|--|C?|--|35.0|?|0.2|?|Milne 56\r\n",
        "G005.5+00.3|17|57|4|-|24|0|15.0|x|12.0|--|S|--|5.5|--|0.7|--|--\r\n",
        "G005.9+03.1|17|47|20|-|22|16|20.0|--|--|--|S|--|3.3|?|0.4|?|--\r\n",
        "G006.1+00.5|17|57|29|-|23|25|18.0|x|12.0|--|S|--|4.5|--|0.9|--|--\r\n",
        "G006.1+01.2|17|54|55|-|23|5|30.0|x|26.0|--|F|--|4.0|?|0.3|?|--\r\n",
        "G006.4-00.1|18|0|30|-|23|26|48.0|--|--|--|C|--|310.0|--|--|v|W28\r\n",
        "G006.4+04.0|17|45|10|-|21|22|31.0|--|--|--|S|--|1.3|?|0.4|?|--\r\n",
        "G006.5-00.4|18|2|11|-|23|34|18.0|--|--|--|S|--|27.0|--|0.6|--|--\r\n"
       ]
      }
     ],
     "prompt_number": 76
    },
    {
     "cell_type": "code",
     "collapsed": false,
     "input": [
      "t[10:20].write('tab_cds2.ascii', format='ascii.fixed_width', delimiter='|', formats={'colc': '%0.2f'})"
     ],
     "language": "python",
     "metadata": {},
     "outputs": [],
     "prompt_number": 77
    },
    {
     "cell_type": "code",
     "collapsed": false,
     "input": [
      "!cat tab_cds2.ascii"
     ],
     "language": "python",
     "metadata": {},
     "outputs": [
      {
       "output_type": "stream",
       "stream": "stdout",
       "text": [
        "|         SNR | RAh | RAm | RAs | DE- | DEd | DEm | MajDiam | --- | MinDiam | u_MinDiam | type | l_S(1GHz) | S(1GHz) | u_S(1GHz) | Sp-Index | u_Sp-Index |    Names |\r\n",
        "| G004.8+06.2 |  17 |  33 |  25 |   - |  21 |  34 |    18.0 |  -- |      -- |        -- |    S |        -- |     3.0 |        -- |      0.6 |         -- |       -- |\r\n",
        "| G005.2-02.6 |  18 |   7 |  30 |   - |  25 |  45 |    18.0 |  -- |      -- |        -- |    S |        -- |     2.6 |         ? |      0.6 |          ? |       -- |\r\n",
        "| G005.4-01.2 |  18 |   2 |  10 |   - |  24 |  54 |    35.0 |  -- |      -- |        -- |   C? |        -- |    35.0 |         ? |      0.2 |          ? | Milne 56 |\r\n",
        "| G005.5+00.3 |  17 |  57 |   4 |   - |  24 |   0 |    15.0 |   x |    12.0 |        -- |    S |        -- |     5.5 |        -- |      0.7 |         -- |       -- |\r\n",
        "| G005.9+03.1 |  17 |  47 |  20 |   - |  22 |  16 |    20.0 |  -- |      -- |        -- |    S |        -- |     3.3 |         ? |      0.4 |          ? |       -- |\r\n",
        "| G006.1+00.5 |  17 |  57 |  29 |   - |  23 |  25 |    18.0 |   x |    12.0 |        -- |    S |        -- |     4.5 |        -- |      0.9 |         -- |       -- |\r\n",
        "| G006.1+01.2 |  17 |  54 |  55 |   - |  23 |   5 |    30.0 |   x |    26.0 |        -- |    F |        -- |     4.0 |         ? |      0.3 |          ? |       -- |\r\n",
        "| G006.4-00.1 |  18 |   0 |  30 |   - |  23 |  26 |    48.0 |  -- |      -- |        -- |    C |        -- |   310.0 |        -- |       -- |          v |      W28 |\r\n",
        "| G006.4+04.0 |  17 |  45 |  10 |   - |  21 |  22 |    31.0 |  -- |      -- |        -- |    S |        -- |     1.3 |         ? |      0.4 |          ? |       -- |\r\n",
        "| G006.5-00.4 |  18 |   2 |  11 |   - |  23 |  34 |    18.0 |  -- |      -- |        -- |    S |        -- |    27.0 |        -- |      0.6 |         -- |       -- |\r\n"
       ]
      }
     ],
     "prompt_number": 78
    },
    {
     "cell_type": "markdown",
     "metadata": {},
     "source": [
      "The astropy Table can also read FITS files (if containing tables), VO tables and hdf5 format. See more there: http://docs.astropy.org/en/stable/io/unified.html"
     ]
    },
    {
     "cell_type": "heading",
     "level": 3,
     "metadata": {},
     "source": [
      "Time and Dates"
     ]
    },
    {
     "cell_type": "markdown",
     "metadata": {},
     "source": [
      "The astropy.time package provides functionality for manipulating times and dates. Specific emphasis is placed on supporting time scales (e.g. UTC, TAI, UT1, TDB) and time representations (e.g. JD, MJD, ISO 8601) that are used in astronomy and required to calculate, e.g., sidereal times and barycentric corrections. It uses Cython to wrap the C language ERFA time and calendar routines, using a fast and memory efficient vectorization scheme. More here: http://docs.astropy.org/en/stable/time/index.html"
     ]
    },
    {
     "cell_type": "heading",
     "level": 3,
     "metadata": {},
     "source": [
      "Coordinates"
     ]
    },
    {
     "cell_type": "markdown",
     "metadata": {},
     "source": [
      "The coordinates package provides classes for representing a variety of celestial/spatial coordinates, as well as tools for converting between common coordinate systems in a uniform way."
     ]
    },
    {
     "cell_type": "code",
     "collapsed": false,
     "input": [
      "from astropy import units as u\n",
      "from astropy.coordinates import SkyCoord"
     ],
     "language": "python",
     "metadata": {},
     "outputs": [],
     "prompt_number": 79
    },
    {
     "cell_type": "code",
     "collapsed": false,
     "input": [
      "c = SkyCoord(ra=10.5*u.degree, dec=41.2*u.degree, frame='icrs')\n",
      "c"
     ],
     "language": "python",
     "metadata": {},
     "outputs": [
      {
       "metadata": {},
       "output_type": "pyout",
       "prompt_number": 80,
       "text": [
        "<SkyCoord (ICRS): ra=10.5 deg, dec=41.2 deg>"
       ]
      }
     ],
     "prompt_number": 80
    },
    {
     "cell_type": "code",
     "collapsed": false,
     "input": [
      "c = SkyCoord('00 42 00 +41 12 00', 'icrs', unit=(u.hourangle, u.deg))\n",
      "c"
     ],
     "language": "python",
     "metadata": {},
     "outputs": [
      {
       "metadata": {},
       "output_type": "pyout",
       "prompt_number": 81,
       "text": [
        "<SkyCoord (ICRS): ra=10.5 deg, dec=41.2 deg>"
       ]
      }
     ],
     "prompt_number": 81
    },
    {
     "cell_type": "code",
     "collapsed": false,
     "input": [
      "print c.ra, c.dec"
     ],
     "language": "python",
     "metadata": {},
     "outputs": [
      {
       "output_type": "stream",
       "stream": "stdout",
       "text": [
        "10d30m00s 41d12m00s\n"
       ]
      }
     ],
     "prompt_number": 82
    },
    {
     "cell_type": "code",
     "collapsed": false,
     "input": [
      "c.to_string('decimal')"
     ],
     "language": "python",
     "metadata": {},
     "outputs": [
      {
       "metadata": {},
       "output_type": "pyout",
       "prompt_number": 83,
       "text": [
        "u'10.5 41.2'"
       ]
      }
     ],
     "prompt_number": 83
    },
    {
     "cell_type": "code",
     "collapsed": false,
     "input": [
      "print c.dec.to_string(format='latex')"
     ],
     "language": "python",
     "metadata": {},
     "outputs": [
      {
       "output_type": "stream",
       "stream": "stdout",
       "text": [
        "$41^\\circ12{}^\\prime00{}^{\\prime\\prime}$\n"
       ]
      }
     ],
     "prompt_number": 84
    },
    {
     "cell_type": "markdown",
     "metadata": {},
     "source": [
      "$$41^\\circ12{}^\\prime00{}^{\\prime\\prime}$$"
     ]
    },
    {
     "cell_type": "heading",
     "level": 3,
     "metadata": {},
     "source": [
      "Modeling"
     ]
    },
    {
     "cell_type": "markdown",
     "metadata": {},
     "source": [
      "astropy.modeling provides a framework for representing models and performing model evaluation and fitting. It currently supports 1-D and 2-D models and fitting with parameter constraints.\n",
      "\n",
      "It is designed to be easily extensible and flexible. Models do not reference fitting algorithms explicitly and new fitting algorithms may be added without changing the existing models (though not all models can be used with all fitting algorithms due to constraints such as model linearity).\n",
      "\n",
      "The goal is to eventually provide a rich toolset of models and fitters such that most users will not need to define new model classes, nor special purpose fitting routines (while making it reasonably easy to do when necessary)."
     ]
    },
    {
     "cell_type": "heading",
     "level": 3,
     "metadata": {},
     "source": [
      "Convolution and filtering"
     ]
    },
    {
     "cell_type": "markdown",
     "metadata": {},
     "source": [
      "astropy.convolution provides convolution functions and kernels that offers improvements compared to the scipy scipy.ndimage convolution routines, including:\n",
      "\n",
      "* Proper treatment of NaN values\n",
      "* A single function for 1-D, 2-D, and 3-D convolution\n",
      "* Improved options for the treatment of edges\n",
      "* Both direct and Fast Fourier Transform (FFT) versions\n",
      "* Built-in kernels that are commonly used in Astronomy\n",
      "\n",
      "More on http://docs.astropy.org/en/stable/convolution/index.html"
     ]
    },
    {
     "cell_type": "code",
     "collapsed": false,
     "input": [],
     "language": "python",
     "metadata": {},
     "outputs": [],
     "prompt_number": 84
    }
   ],
   "metadata": {}
  }
 ]
}