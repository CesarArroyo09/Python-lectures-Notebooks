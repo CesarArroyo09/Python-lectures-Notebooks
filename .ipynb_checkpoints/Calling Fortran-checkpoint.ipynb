{
 "metadata": {
  "name": "",
  "signature": "sha256:ee57c918a6afba544abb137ca156f0934f5e32e585ae54d83cf2b3363d0f8bc6"
 },
 "nbformat": 3,
 "nbformat_minor": 0,
 "worksheets": [
  {
   "cells": [
    {
     "cell_type": "code",
     "collapsed": false,
     "input": [
      "# Just to know last time this was run:\n",
      "import time\n",
      "print time.ctime()"
     ],
     "language": "python",
     "metadata": {},
     "outputs": [
      {
       "output_type": "stream",
       "stream": "stdout",
       "text": [
        "Wed Oct  8 19:53:25 2014\n"
       ]
      }
     ],
     "prompt_number": 1
    },
    {
     "cell_type": "heading",
     "level": 1,
     "metadata": {},
     "source": [
      "I Calling Fortran from Python"
     ]
    },
    {
     "cell_type": "markdown",
     "metadata": {},
     "source": [
      "This is part of the Python lecture given by Christophe Morisset at IA-UNAM. More informations at: http://python-astro.blogspot.mx/"
     ]
    },
    {
     "cell_type": "code",
     "collapsed": false,
     "input": [
      "import numpy as np"
     ],
     "language": "python",
     "metadata": {},
     "outputs": [],
     "prompt_number": 2
    },
    {
     "cell_type": "markdown",
     "metadata": {},
     "source": [
      "The following is part of this excellent web page: http://nbviewer.ipython.org/github/jrjohansson/scientific-python-lectures/blob/master/Lecture-6A-Fortran-and-C.ipynb"
     ]
    },
    {
     "cell_type": "code",
     "collapsed": false,
     "input": [
      "# simple python algorithm: example of a SLOW implementation\n",
      "# Why? Because the loop is implemented in python.\n",
      "def py_dcumsum(a):\n",
      "    b = empty_like(a)\n",
      "    b[0] = a[0]\n",
      "    for n in range(1,len(a)):\n",
      "        b[n] = b[n-1]+a[n]\n",
      "    return b"
     ],
     "language": "python",
     "metadata": {},
     "outputs": [],
     "prompt_number": 3
    },
    {
     "cell_type": "code",
     "collapsed": false,
     "input": [
      "# The numpy version of the cumsum\n",
      "def numpy_cumsum(a):\n",
      "    return np.cumsum(a)"
     ],
     "language": "python",
     "metadata": {},
     "outputs": [],
     "prompt_number": 4
    },
    {
     "cell_type": "markdown",
     "metadata": {},
     "source": [
      "We write here a fortran function with some special code to interact with python"
     ]
    },
    {
     "cell_type": "code",
     "collapsed": false,
     "input": [
      "%%writefile dcumsum.f\n",
      "c File dcumsum.f\n",
      "       subroutine dcumsum(a, b, n)\n",
      "       double precision a(n)\n",
      "       double precision b(n)\n",
      "       integer n\n",
      "cf2py  intent(in) :: a\n",
      "cf2py  intent(out) :: b\n",
      "cf2py  intent(hide) :: n\n",
      "\n",
      "       b(1) = a(1)\n",
      "       do 100 i=2, n\n",
      "           b(i) = b(i-1) + a(i)\n",
      "100    continue\n",
      "       end"
     ],
     "language": "python",
     "metadata": {},
     "outputs": [
      {
       "output_type": "stream",
       "stream": "stdout",
       "text": [
        "Overwriting dcumsum.f\n"
       ]
      }
     ],
     "prompt_number": 5
    },
    {
     "cell_type": "code",
     "collapsed": false,
     "input": [
      "# Compiling. On my OSX, gfortran is used\n",
      "!f2py --f77exec=gfortran -c dcumsum.f -m dcumsum"
     ],
     "language": "python",
     "metadata": {},
     "outputs": [
      {
       "output_type": "stream",
       "stream": "stdout",
       "text": [
        "\u001b[39mrunning build\u001b[0m\r\n",
        "\u001b[39mrunning config_cc\u001b[0m\r\n",
        "\u001b[39munifing config_cc, config, build_clib, build_ext, build commands --compiler options\u001b[0m\r\n",
        "\u001b[39mrunning config_fc\u001b[0m\r\n",
        "\u001b[39munifing config_fc, config, build_clib, build_ext, build commands --fcompiler options\u001b[0m\r\n",
        "\u001b[39mrunning build_src\u001b[0m\r\n",
        "\u001b[39mbuild_src\u001b[0m\r\n",
        "\u001b[39mbuilding extension \"dcumsum\" sources\u001b[0m\r\n",
        "\u001b[39mf2py options: []\u001b[0m\r\n",
        "\u001b[39mf2py:> /var/folders/gK/gKZDszL-G1y2043rxFOUE++++TI/-Tmp-/tmpqEkmcv/src.macosx-10.6-x86_64-2.7/dcumsummodule.c\u001b[0m\r\n",
        "\u001b[39mcreating /var/folders/gK/gKZDszL-G1y2043rxFOUE++++TI/-Tmp-/tmpqEkmcv\u001b[0m\r\n",
        "\u001b[39mcreating /var/folders/gK/gKZDszL-G1y2043rxFOUE++++TI/-Tmp-/tmpqEkmcv/src.macosx-10.6-x86_64-2.7\u001b[0m\r\n"
       ]
      },
      {
       "output_type": "stream",
       "stream": "stdout",
       "text": [
        "Reading fortran codes...\r\n",
        "\tReading file 'dcumsum.f' (format:fix,strict)\r\n",
        "Post-processing...\r\n",
        "\tBlock: dcumsum\r\n",
        "\t\t\tBlock: dcumsum\r\n",
        "Post-processing (stage 2)...\r\n",
        "Building modules...\r\n",
        "\tBuilding module \"dcumsum\"...\r\n",
        "\t\tConstructing wrapper function \"dcumsum\"...\r\n"
       ]
      },
      {
       "output_type": "stream",
       "stream": "stdout",
       "text": [
        "\t\t  b = dcumsum(a)\r\n",
        "\tWrote C/API module \"dcumsum\" to file \"/var/folders/gK/gKZDszL-G1y2043rxFOUE++++TI/-Tmp-/tmpqEkmcv/src.macosx-10.6-x86_64-2.7/dcumsummodule.c\"\r\n",
        "\u001b[39m  adding '/var/folders/gK/gKZDszL-G1y2043rxFOUE++++TI/-Tmp-/tmpqEkmcv/src.macosx-10.6-x86_64-2.7/fortranobject.c' to sources.\u001b[0m\r\n",
        "\u001b[39m  adding '/var/folders/gK/gKZDszL-G1y2043rxFOUE++++TI/-Tmp-/tmpqEkmcv/src.macosx-10.6-x86_64-2.7' to include_dirs.\u001b[0m\r\n",
        "\u001b[39mcopying /Users/christophemorisset/Ureka/python/lib/python2.7/site-packages/numpy/f2py/src/fortranobject.c -> /var/folders/gK/gKZDszL-G1y2043rxFOUE++++TI/-Tmp-/tmpqEkmcv/src.macosx-10.6-x86_64-2.7\u001b[0m\r\n",
        "\u001b[39mcopying /Users/christophemorisset/Ureka/python/lib/python2.7/site-packages/numpy/f2py/src/fortranobject.h -> /var/folders/gK/gKZDszL-G1y2043rxFOUE++++TI/-Tmp-/tmpqEkmcv/src.macosx-10.6-x86_64-2.7\u001b[0m\r\n",
        "\u001b[39mbuild_src: building npy-pkg config files\u001b[0m\r\n",
        "\u001b[39mrunning build_ext\u001b[0m\r\n",
        "\u001b[39mcustomize UnixCCompiler\u001b[0m\r\n",
        "\u001b[39mcustomize UnixCCompiler using build_ext\u001b[0m\r\n"
       ]
      },
      {
       "output_type": "stream",
       "stream": "stdout",
       "text": [
        "\u001b[39mcustomize Gnu95FCompiler\u001b[0m\r\n",
        "\u001b[32mFound executable /usr/local/bin/gfortran\u001b[0m\r\n"
       ]
      },
      {
       "output_type": "stream",
       "stream": "stdout",
       "text": [
        "\u001b[32mFound executable /usr/bin/ranlib\u001b[0m\r\n"
       ]
      },
      {
       "output_type": "stream",
       "stream": "stdout",
       "text": [
        "\u001b[39mcustomize Gnu95FCompiler\u001b[0m\r\n"
       ]
      },
      {
       "output_type": "stream",
       "stream": "stdout",
       "text": [
        "\u001b[39mcustomize Gnu95FCompiler using build_ext\u001b[0m\r\n",
        "\u001b[39mbuilding 'dcumsum' extension\u001b[0m\r\n",
        "\u001b[39mcompiling C sources\u001b[0m\r\n",
        "\u001b[39mC compiler: cc -fno-strict-aliasing -I/Users/christophemorisset/Ureka/python/include -I/Users/christophemorisset/Ureka/python/include -DNDEBUG -I/Users/christophemorisset/Ureka/python/include -I/Users/christophemorisset/Ureka/python/include\r\n",
        "\u001b[0m\r\n",
        "\u001b[39mcreating /var/folders/gK/gKZDszL-G1y2043rxFOUE++++TI/-Tmp-/tmpqEkmcv/var\u001b[0m\r\n",
        "\u001b[39mcreating /var/folders/gK/gKZDszL-G1y2043rxFOUE++++TI/-Tmp-/tmpqEkmcv/var/folders\u001b[0m\r\n",
        "\u001b[39mcreating /var/folders/gK/gKZDszL-G1y2043rxFOUE++++TI/-Tmp-/tmpqEkmcv/var/folders/gK\u001b[0m\r\n",
        "\u001b[39mcreating /var/folders/gK/gKZDszL-G1y2043rxFOUE++++TI/-Tmp-/tmpqEkmcv/var/folders/gK/gKZDszL-G1y2043rxFOUE++++TI\u001b[0m\r\n",
        "\u001b[39mcreating /var/folders/gK/gKZDszL-G1y2043rxFOUE++++TI/-Tmp-/tmpqEkmcv/var/folders/gK/gKZDszL-G1y2043rxFOUE++++TI/-Tmp-\u001b[0m\r\n",
        "\u001b[39mcreating /var/folders/gK/gKZDszL-G1y2043rxFOUE++++TI/-Tmp-/tmpqEkmcv/var/folders/gK/gKZDszL-G1y2043rxFOUE++++TI/-Tmp-/tmpqEkmcv\u001b[0m\r\n",
        "\u001b[39mcreating /var/folders/gK/gKZDszL-G1y2043rxFOUE++++TI/-Tmp-/tmpqEkmcv/var/folders/gK/gKZDszL-G1y2043rxFOUE++++TI/-Tmp-/tmpqEkmcv/src.macosx-10.6-x86_64-2.7\u001b[0m\r\n",
        "\u001b[39mcompile options: '-I/var/folders/gK/gKZDszL-G1y2043rxFOUE++++TI/-Tmp-/tmpqEkmcv/src.macosx-10.6-x86_64-2.7 -I/Users/christophemorisset/Ureka/python/lib/python2.7/site-packages/numpy/core/include -I/Users/christophemorisset/Ureka/python/include/python2.7 -c'\u001b[0m\r\n",
        "\u001b[39mcc: /var/folders/gK/gKZDszL-G1y2043rxFOUE++++TI/-Tmp-/tmpqEkmcv/src.macosx-10.6-x86_64-2.7/fortranobject.c\u001b[0m\r\n"
       ]
      },
      {
       "output_type": "stream",
       "stream": "stdout",
       "text": [
        "In file included from /Users/christophemorisset/Ureka/python/lib/python2.7/site-packages/numpy/core/include/numpy/ndarraytypes.h:1760,\r\n",
        "                 from /Users/christophemorisset/Ureka/python/lib/python2.7/site-packages/numpy/core/include/numpy/ndarrayobject.h:17,\r\n",
        "                 from /Users/christophemorisset/Ureka/python/lib/python2.7/site-packages/numpy/core/include/numpy/arrayobject.h:4,\r\n",
        "                 from /var/folders/gK/gKZDszL-G1y2043rxFOUE++++TI/-Tmp-/tmpqEkmcv/src.macosx-10.6-x86_64-2.7/fortranobject.h:13,\r\n",
        "                 from /var/folders/gK/gKZDszL-G1y2043rxFOUE++++TI/-Tmp-/tmpqEkmcv/src.macosx-10.6-x86_64-2.7/fortranobject.c:2:\r\n",
        "/Users/christophemorisset/Ureka/python/lib/python2.7/site-packages/numpy/core/include/numpy/npy_1_7_deprecated_api.h:15:2: warning: #warning \"Using deprecated NumPy API, disable it by \" \"#defining NPY_NO_DEPRECATED_API NPY_1_7_API_VERSION\"\r\n"
       ]
      },
      {
       "output_type": "stream",
       "stream": "stdout",
       "text": [
        "\u001b[39mcc: /var/folders/gK/gKZDszL-G1y2043rxFOUE++++TI/-Tmp-/tmpqEkmcv/src.macosx-10.6-x86_64-2.7/dcumsummodule.c\u001b[0m\r\n"
       ]
      },
      {
       "output_type": "stream",
       "stream": "stdout",
       "text": [
        "In file included from /Users/christophemorisset/Ureka/python/lib/python2.7/site-packages/numpy/core/include/numpy/ndarraytypes.h:1760,\r\n",
        "                 from /Users/christophemorisset/Ureka/python/lib/python2.7/site-packages/numpy/core/include/numpy/ndarrayobject.h:17,\r\n",
        "                 from /Users/christophemorisset/Ureka/python/lib/python2.7/site-packages/numpy/core/include/numpy/arrayobject.h:4,\r\n",
        "                 from /var/folders/gK/gKZDszL-G1y2043rxFOUE++++TI/-Tmp-/tmpqEkmcv/src.macosx-10.6-x86_64-2.7/fortranobject.h:13,\r\n",
        "                 from /var/folders/gK/gKZDszL-G1y2043rxFOUE++++TI/-Tmp-/tmpqEkmcv/src.macosx-10.6-x86_64-2.7/dcumsummodule.c:18:\r\n",
        "/Users/christophemorisset/Ureka/python/lib/python2.7/site-packages/numpy/core/include/numpy/npy_1_7_deprecated_api.h:15:2: warning: #warning \"Using deprecated NumPy API, disable it by \" \"#defining NPY_NO_DEPRECATED_API NPY_1_7_API_VERSION\"\r\n"
       ]
      },
      {
       "output_type": "stream",
       "stream": "stdout",
       "text": [
        "\u001b[39mcompiling Fortran sources\u001b[0m\r\n",
        "\u001b[39mFortran f77 compiler: gfortran -Wall -ffixed-form -fno-second-underscore -fPIC -O3 -funroll-loops\r\n",
        "Fortran f90 compiler: /usr/local/bin/gfortran -Wall -fno-second-underscore -fPIC -O3 -funroll-loops\r\n",
        "Fortran fix compiler: /usr/local/bin/gfortran -Wall -ffixed-form -fno-second-underscore -Wall -fno-second-underscore -fPIC -O3 -funroll-loops\u001b[0m\r\n",
        "\u001b[39mcompile options: '-I/var/folders/gK/gKZDszL-G1y2043rxFOUE++++TI/-Tmp-/tmpqEkmcv/src.macosx-10.6-x86_64-2.7 -I/Users/christophemorisset/Ureka/python/lib/python2.7/site-packages/numpy/core/include -I/Users/christophemorisset/Ureka/python/include/python2.7 -c'\u001b[0m\r\n",
        "\u001b[39mgfortran:f77: dcumsum.f\u001b[0m\r\n"
       ]
      },
      {
       "output_type": "stream",
       "stream": "stdout",
       "text": [
        "\u001b[39m/usr/local/bin/gfortran -Wall -Wall -undefined dynamic_lookup -bundle /var/folders/gK/gKZDszL-G1y2043rxFOUE++++TI/-Tmp-/tmpqEkmcv/var/folders/gK/gKZDszL-G1y2043rxFOUE++++TI/-Tmp-/tmpqEkmcv/src.macosx-10.6-x86_64-2.7/dcumsummodule.o /var/folders/gK/gKZDszL-G1y2043rxFOUE++++TI/-Tmp-/tmpqEkmcv/var/folders/gK/gKZDszL-G1y2043rxFOUE++++TI/-Tmp-/tmpqEkmcv/src.macosx-10.6-x86_64-2.7/fortranobject.o /var/folders/gK/gKZDszL-G1y2043rxFOUE++++TI/-Tmp-/tmpqEkmcv/dcumsum.o -L/usr/local/lib/gcc/x86_64-apple-darwin10/4.5.0 -lgfortran -o ./dcumsum.so\u001b[0m\r\n"
       ]
      },
      {
       "output_type": "stream",
       "stream": "stdout",
       "text": [
        "Removing build directory /var/folders/gK/gKZDszL-G1y2043rxFOUE++++TI/-Tmp-/tmpqEkmcv\r\n"
       ]
      }
     ],
     "prompt_number": 6
    },
    {
     "cell_type": "code",
     "collapsed": false,
     "input": [
      "# Importing the function as if it where a python package\n",
      "import dcumsum"
     ],
     "language": "python",
     "metadata": {},
     "outputs": [],
     "prompt_number": 7
    },
    {
     "cell_type": "code",
     "collapsed": false,
     "input": [
      "a = np.array([1.0,2.0,3.0,4.0,5.0,6.0,7.0,8.0])"
     ],
     "language": "python",
     "metadata": {},
     "outputs": [],
     "prompt_number": 8
    },
    {
     "cell_type": "code",
     "collapsed": false,
     "input": [
      "%timeit py_dcumsum(a)"
     ],
     "language": "python",
     "metadata": {},
     "outputs": [
      {
       "output_type": "stream",
       "stream": "stdout",
       "text": [
        "100000 loops, best of 3: 15.9 \u00b5s per loop\n"
       ]
      }
     ],
     "prompt_number": 9
    },
    {
     "cell_type": "code",
     "collapsed": false,
     "input": [
      "%timeit numpy_cumsum(a)"
     ],
     "language": "python",
     "metadata": {},
     "outputs": [
      {
       "output_type": "stream",
       "stream": "stdout",
       "text": [
        "100000 loops, best of 3: 5.59 \u00b5s per loop\n"
       ]
      }
     ],
     "prompt_number": 10
    },
    {
     "cell_type": "code",
     "collapsed": false,
     "input": [
      "%timeit a.cumsum()"
     ],
     "language": "python",
     "metadata": {},
     "outputs": [
      {
       "output_type": "stream",
       "stream": "stdout",
       "text": [
        "100000 loops, best of 3: 4.01 \u00b5s per loop\n"
       ]
      }
     ],
     "prompt_number": 11
    },
    {
     "cell_type": "code",
     "collapsed": false,
     "input": [
      "%timeit dcumsum.dcumsum(a)"
     ],
     "language": "python",
     "metadata": {},
     "outputs": [
      {
       "output_type": "stream",
       "stream": "stdout",
       "text": [
        "100000 loops, best of 3: 1.59 \u00b5s per loop\n"
       ]
      }
     ],
     "prompt_number": 12
    },
    {
     "cell_type": "markdown",
     "metadata": {},
     "source": [
      "The Fortran call is still 2 times faster than the numpy object method, and 10 times faster than the loop."
     ]
    },
    {
     "cell_type": "heading",
     "level": 3,
     "metadata": {},
     "source": [
      "cython"
     ]
    },
    {
     "cell_type": "code",
     "collapsed": false,
     "input": [
      "# Integration of a function by summing values\n",
      "def f(x):    \n",
      "   return x**2 - x\n",
      "def integrate_f(a, b, N):\n",
      "    s  = 0    \n",
      "    dx = float(b - a) / N\n",
      "    for i in range(N):   \n",
      "       s += f(a + i*dx)\n",
      "    return s*dx"
     ],
     "language": "python",
     "metadata": {},
     "outputs": [],
     "prompt_number": 13
    },
    {
     "cell_type": "code",
     "collapsed": false,
     "input": [
      "# To allow the use of %%cython\n",
      "%load_ext cythonmagic"
     ],
     "language": "python",
     "metadata": {},
     "outputs": [],
     "prompt_number": 14
    },
    {
     "cell_type": "code",
     "collapsed": false,
     "input": [
      "%%cython\n",
      "cdef double cy_f(x):    \n",
      "   return x**2 - x\n",
      "def cy_integrate_f(double a, double b, int N):\n",
      "    cdef int i\n",
      "    cdef double s, dx\n",
      "    s  = 0\n",
      "    dx = (b - a) / N\n",
      "    for i in range(N):\n",
      "        s += cy_f(a + i*dx)\n",
      "    return s*dx"
     ],
     "language": "python",
     "metadata": {},
     "outputs": [],
     "prompt_number": 15
    },
    {
     "cell_type": "code",
     "collapsed": false,
     "input": [
      "%timeit integrate_f(0,3,10^3)"
     ],
     "language": "python",
     "metadata": {},
     "outputs": [
      {
       "output_type": "stream",
       "stream": "stdout",
       "text": [
        "100000 loops, best of 3: 12.7 \u00b5s per loop\n"
       ]
      }
     ],
     "prompt_number": 16
    },
    {
     "cell_type": "code",
     "collapsed": false,
     "input": [
      "# Really faster!!!\n",
      "%timeit cy_integrate_f(0,3,10^3)"
     ],
     "language": "python",
     "metadata": {},
     "outputs": [
      {
       "output_type": "stream",
       "stream": "stdout",
       "text": [
        "100000 loops, best of 3: 2.45 \u00b5s per loop\n"
       ]
      }
     ],
     "prompt_number": 17
    },
    {
     "cell_type": "code",
     "collapsed": false,
     "input": [
      "# Same values are obtain (hopefully!)\n",
      "print integrate_f(0,3,10^3), cy_integrate_f(0,3,10^3)"
     ],
     "language": "python",
     "metadata": {},
     "outputs": [
      {
       "output_type": "stream",
       "stream": "stdout",
       "text": [
        "3.55555555556 3.55555555556\n"
       ]
      }
     ],
     "prompt_number": 18
    },
    {
     "cell_type": "markdown",
     "metadata": {},
     "source": [
      "Let's now compare when doing havy matrix operations, taken from http://technicaldiscovery.blogspot.mx/2011/06/speeding-up-python-numpy-cython-and.html"
     ]
    },
    {
     "cell_type": "code",
     "collapsed": false,
     "input": [
      "dx = 0.1\n",
      "dy = 0.1\n",
      "dx2 = dx*dx\n",
      "dy2 = dy*dy\n",
      "\n",
      "# The looping way\n",
      "def py_update(u):\n",
      "    nx, ny = u.shape\n",
      "    for i in xrange(1,nx-1):\n",
      "        for j in xrange(1, ny-1):\n",
      "            u[i,j] = ((u[i+1, j] + u[i-1, j]) * dy2 +\n",
      "                      (u[i, j+1] + u[i, j-1]) * dx2) / (2*(dx2+dy2))\n",
      "\n",
      "def calc(N, Niter=100, func=py_update, args=()):\n",
      "    u = np.zeros([N, N])\n",
      "    u[0] = 1\n",
      "    for i in range(Niter):\n",
      "        func(u,*args)\n",
      "    return u"
     ],
     "language": "python",
     "metadata": {},
     "outputs": [],
     "prompt_number": 19
    },
    {
     "cell_type": "code",
     "collapsed": false,
     "input": [
      "%timeit calc(100)"
     ],
     "language": "python",
     "metadata": {},
     "outputs": [
      {
       "output_type": "stream",
       "stream": "stdout",
       "text": [
        "1 loops, best of 3: 6.99 s per loop\n"
       ]
      }
     ],
     "prompt_number": 20
    },
    {
     "cell_type": "code",
     "collapsed": false,
     "input": [
      "# The numpy way\n",
      "def num_update(u):\n",
      "    u[1:-1,1:-1] = ((u[2:,1:-1]+u[:-2,1:-1])*dy2 + \n",
      "                    (u[1:-1,2:] + u[1:-1,:-2])*dx2) / (2*(dx2+dy2))"
     ],
     "language": "python",
     "metadata": {},
     "outputs": [],
     "prompt_number": 21
    },
    {
     "cell_type": "code",
     "collapsed": false,
     "input": [
      "%timeit calc(100, func=num_update)"
     ],
     "language": "python",
     "metadata": {},
     "outputs": [
      {
       "output_type": "stream",
       "stream": "stdout",
       "text": [
        "10 loops, best of 3: 99.8 ms per loop\n"
       ]
      }
     ],
     "prompt_number": 22
    },
    {
     "cell_type": "code",
     "collapsed": false,
     "input": [
      "%%cython\n",
      "cimport numpy as np\n",
      "\n",
      "def cy_update(np.ndarray[double, ndim=2] u, double dx2, double dy2):\n",
      "    cdef unsigned int i, j\n",
      "    for i in xrange(1,u.shape[0]-1):\n",
      "        for j in xrange(1, u.shape[1]-1):\n",
      "            u[i,j] = ((u[i+1, j] + u[i-1, j]) * dy2 +\n",
      "                      (u[i, j+1] + u[i, j-1]) * dx2) / (2*(dx2+dy2))\n"
     ],
     "language": "python",
     "metadata": {},
     "outputs": [],
     "prompt_number": 23
    },
    {
     "cell_type": "code",
     "collapsed": false,
     "input": [
      "%timeit calc(100, func=cy_update, args=(dx2, dy2))"
     ],
     "language": "python",
     "metadata": {},
     "outputs": [
      {
       "output_type": "stream",
       "stream": "stdout",
       "text": [
        "10 loops, best of 3: 37.6 ms per loop\n"
       ]
      }
     ],
     "prompt_number": 24
    },
    {
     "cell_type": "code",
     "collapsed": false,
     "input": [],
     "language": "python",
     "metadata": {},
     "outputs": [],
     "prompt_number": 24
    }
   ],
   "metadata": {}
  }
 ]
}