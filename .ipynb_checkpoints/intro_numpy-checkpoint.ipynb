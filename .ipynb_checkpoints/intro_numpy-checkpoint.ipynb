{
 "metadata": {
  "name": "",
  "signature": "sha256:9df3ce508a4322adfde6debdb9ba68582dcfec3cff6e35ea012f9a2364bd20e0"
 },
 "nbformat": 3,
 "nbformat_minor": 0,
 "worksheets": [
  {
   "cells": [
    {
     "cell_type": "code",
     "collapsed": false,
     "input": [
      "# Just to know last time this was run:\n",
      "import time\n",
      "print time.ctime()"
     ],
     "language": "python",
     "metadata": {},
     "outputs": []
    },
    {
     "cell_type": "heading",
     "level": 1,
     "metadata": {},
     "source": [
      "B Numpy"
     ]
    },
    {
     "cell_type": "markdown",
     "metadata": {},
     "source": [
      "This is part of the Python lecture given by Christophe Morisset at IA-UNAM. More informations at: http://python-astro.blogspot.mx/ "
     ]
    },
    {
     "cell_type": "heading",
     "level": 3,
     "metadata": {},
     "source": [
      "Import numpy first"
     ]
    },
    {
     "cell_type": "code",
     "collapsed": false,
     "input": [
      "# You need first to import the numpy library (must be installed on your computer ;-) )\n",
      "# As it will be widely used, better to give it a nickname, or an alias. Traditionnaly, it's \"np\":\n",
      "import numpy as np"
     ],
     "language": "python",
     "metadata": {},
     "outputs": []
    },
    {
     "cell_type": "code",
     "collapsed": false,
     "input": [
      "print np.__version__"
     ],
     "language": "python",
     "metadata": {},
     "outputs": []
    },
    {
     "cell_type": "heading",
     "level": 3,
     "metadata": {},
     "source": [
      "Tutorials"
     ]
    },
    {
     "cell_type": "markdown",
     "metadata": {},
     "source": [
      "http://nbviewer.ipython.org/github/jrjohansson/scientific-python-lectures/blob/master/Lecture-2-Numpy.ipynb AND\n",
      "http://nbviewer.ipython.org/gist/rpmuller/5920182 AND http://www.astro.washington.edu/users/vanderplas/Astr599/notebooks/11_EfficientNumpy"
     ]
    },
    {
     "cell_type": "heading",
     "level": 3,
     "metadata": {},
     "source": [
      "The ARRAY class"
     ]
    },
    {
     "cell_type": "heading",
     "level": 4,
     "metadata": {},
     "source": [
      "Create an array"
     ]
    },
    {
     "cell_type": "code",
     "collapsed": false,
     "input": [
      "# Easy to create a numpy array (the basic class) from a list\n",
      "a = np.array([1,2,3,4,5,6])\n",
      "print(a)\n",
      "print(type(a))\n",
      "# Works with tuples also:\n",
      "b = np.array((1,2,3))\n",
      "print(b)"
     ],
     "language": "python",
     "metadata": {},
     "outputs": []
    },
    {
     "cell_type": "markdown",
     "metadata": {},
     "source": [
      "Numpy arrays are efficiently connected to the computer:"
     ]
    },
    {
     "cell_type": "code",
     "collapsed": false,
     "input": [
      "L = range(1000)\n",
      "%timeit L2 = [i**2 for i in L] # Notice the use of timeit, a magic function (starts with %)\n",
      "A = np.arange(1000)\n",
      "%timeit A2 = A**2"
     ],
     "language": "python",
     "metadata": {},
     "outputs": []
    },
    {
     "cell_type": "code",
     "collapsed": false,
     "input": [
      "L = [1, 2, 3, 4]\n",
      "a = np.array(L)\n",
      "print a.dtype\n",
      "print a"
     ],
     "language": "python",
     "metadata": {},
     "outputs": []
    },
    {
     "cell_type": "code",
     "collapsed": false,
     "input": [
      "L = [1,2,3,4.]\n",
      "a = np.array(L)\n",
      "print a.dtype\n",
      "print a"
     ],
     "language": "python",
     "metadata": {},
     "outputs": []
    },
    {
     "cell_type": "code",
     "collapsed": false,
     "input": [
      "L = [1,2,3,4.,'a']\n",
      "a = np.array(L)\n",
      "print L # Different types can coexist in a python list\n",
      "print a.dtype\n",
      "print a # NOT in a numpy array. The array is re-typed to the highest type, here string."
     ],
     "language": "python",
     "metadata": {},
     "outputs": []
    },
    {
     "cell_type": "markdown",
     "metadata": {},
     "source": [
      "Once the type of an array is defined, one can insert values of type that can be transformed to the type of the array"
     ]
    },
    {
     "cell_type": "code",
     "collapsed": false,
     "input": [
      "a = np.array([1,2,3,4,5,6]) \n",
      "print a\n",
      "a[4] = 2.56 # will be transformed to int(2.56)\n",
      "print a\n",
      "a[3] = '20' # will be tranformed to int('20')\n",
      "print a"
     ],
     "language": "python",
     "metadata": {},
     "outputs": []
    },
    {
     "cell_type": "code",
     "collapsed": false,
     "input": [
      "a[2] = '3.2'"
     ],
     "language": "python",
     "metadata": {},
     "outputs": []
    },
    {
     "cell_type": "code",
     "collapsed": false,
     "input": [
      "a[2] = 'tralala'"
     ],
     "language": "python",
     "metadata": {},
     "outputs": []
    },
    {
     "cell_type": "heading",
     "level": 4,
     "metadata": {},
     "source": [
      "1D, 2D, 3D, ..."
     ]
    },
    {
     "cell_type": "code",
     "collapsed": false,
     "input": [
      "a = np.array([1,2,3,4,5,6])\n",
      "b = np.array([[1,2],[1,4]])\n",
      "c = np.array([[[1], [2]], [[3], [4]]])\n",
      "print a.shape, b.shape, c.shape"
     ],
     "language": "python",
     "metadata": {},
     "outputs": []
    },
    {
     "cell_type": "code",
     "collapsed": false,
     "input": [
      "print len(a), len(b), len(c) # size of the first dimension"
     ],
     "language": "python",
     "metadata": {},
     "outputs": []
    },
    {
     "cell_type": "code",
     "collapsed": false,
     "input": [
      "b.size"
     ],
     "language": "python",
     "metadata": {},
     "outputs": []
    },
    {
     "cell_type": "code",
     "collapsed": false,
     "input": [
      "print a.ndim, b.ndim, c.ndim "
     ],
     "language": "python",
     "metadata": {},
     "outputs": []
    },
    {
     "cell_type": "code",
     "collapsed": false,
     "input": [
      "a = np.array([1,2,3,4,5,6])\n",
      "print('mean: {0}, max: {1}, shape: {2}'.format(a.mean(), a.max(), a.shape))"
     ],
     "language": "python",
     "metadata": {},
     "outputs": []
    },
    {
     "cell_type": "markdown",
     "metadata": {},
     "source": [
      "mean and max are methods (functions) of the array class, they need ()s. shape is an atribute (like a variable)."
     ]
    },
    {
     "cell_type": "code",
     "collapsed": false,
     "input": [
      "print(a.mean) # this is printing information about the function, NOT the result of the function!"
     ],
     "language": "python",
     "metadata": {},
     "outputs": []
    },
    {
     "cell_type": "code",
     "collapsed": false,
     "input": [
      "mm = a.mean # We assign to mn the function. Then we can call it directly, but still need for the ()s:\n",
      "print(mm())"
     ],
     "language": "python",
     "metadata": {},
     "outputs": []
    },
    {
     "cell_type": "code",
     "collapsed": false,
     "input": [
      "print b\n",
      "print b.mean() # mean over the whole array\n",
      "print b.mean(axis=0) # mean over the first axis (columns)\n",
      "print b.mean(1) # mean over the raws"
     ],
     "language": "python",
     "metadata": {},
     "outputs": []
    },
    {
     "cell_type": "heading",
     "level": 4,
     "metadata": {},
     "source": [
      "Creating arrays from scratch"
     ]
    },
    {
     "cell_type": "code",
     "collapsed": false,
     "input": [
      "print np.arange(10)"
     ],
     "language": "python",
     "metadata": {},
     "outputs": []
    },
    {
     "cell_type": "code",
     "collapsed": false,
     "input": [
      "print np.linspace(0, 1, 10) # start, stop (included), number of points\n",
      "print '--------------------------------'\n",
      "print np.linspace(0, 1, 10, endpoint=False) # Not including the stop point"
     ],
     "language": "python",
     "metadata": {},
     "outputs": []
    },
    {
     "cell_type": "code",
     "collapsed": false,
     "input": [
      "print np.logspace(0, 2, 10) # from 10**start to 10**stop, with 10 values"
     ],
     "language": "python",
     "metadata": {},
     "outputs": []
    },
    {
     "cell_type": "code",
     "collapsed": false,
     "input": [
      "print np.zeros(2) # Filled with 0.0\n",
      "print '--------------------------------'\n",
      "print np.zeros((2,2)) # a 2D array, also filled with 0.0\n",
      "print '--------------------------------'\n",
      "print np.ones_like(a) # This is very usefull: using an already created array (or list or tuple) as example for the shape of the new one.\n",
      "print '--------------------------------'\n",
      "print np.zeros_like(a)+3 # Can define a value to fille the array when creating it. Or latter...\n",
      "print '--------------------------------'\n",
      "print np.ones_like([1,2,3])"
     ],
     "language": "python",
     "metadata": {},
     "outputs": []
    },
    {
     "cell_type": "code",
     "collapsed": false,
     "input": [
      "b = a.reshape((3,2)) # This does NOT change the shape of a\n",
      "print a\n",
      "print('-------------')\n",
      "print b"
     ],
     "language": "python",
     "metadata": {},
     "outputs": []
    },
    {
     "cell_type": "code",
     "collapsed": false,
     "input": [
      "print(b.ravel())"
     ],
     "language": "python",
     "metadata": {},
     "outputs": []
    },
    {
     "cell_type": "code",
     "collapsed": false,
     "input": [
      "# create 2 2D arrays (coordinates matrices), one describing how x varies, the other for y.\n",
      "x, y = np.mgrid[0:5, 0:10] # This is not a function!!! notice the []\n",
      "print x\n",
      "print '------------------------------------'\n",
      "print y"
     ],
     "language": "python",
     "metadata": {},
     "outputs": []
    },
    {
     "cell_type": "code",
     "collapsed": false,
     "input": [
      "# coordinates matrices using user-defined x- and y-vectors\n",
      "x, y = np.meshgrid([1,2,4,7], [0.1, 0.2, 0.3])\n",
      "print x\n",
      "print '--------------------------------'\n",
      "print y"
     ],
     "language": "python",
     "metadata": {},
     "outputs": []
    },
    {
     "cell_type": "code",
     "collapsed": false,
     "input": [
      "x, y = np.meshgrid([1,2,4,7], [0.1, 0.2, 0.3], indexing='ij') # the other order...\n",
      "print x\n",
      "print '-----------------------------------------'\n",
      "print y"
     ],
     "language": "python",
     "metadata": {},
     "outputs": []
    },
    {
     "cell_type": "heading",
     "level": 4,
     "metadata": {},
     "source": [
      "WARNING arrays share memory"
     ]
    },
    {
     "cell_type": "code",
     "collapsed": false,
     "input": [
      "b = a.reshape((3,2))\n",
      "print(a.shape, b.shape)"
     ],
     "language": "python",
     "metadata": {},
     "outputs": []
    },
    {
     "cell_type": "code",
     "collapsed": false,
     "input": [
      "b[1,1] = 100 # modify a value in the array\n",
      "print b"
     ],
     "language": "python",
     "metadata": {},
     "outputs": []
    },
    {
     "cell_type": "code",
     "collapsed": false,
     "input": [
      "print a # !!! a and b are sharing the same place in the memory, they are pointing to the same values. "
     ],
     "language": "python",
     "metadata": {},
     "outputs": []
    },
    {
     "cell_type": "code",
     "collapsed": false,
     "input": [
      "b[1,1], a[3] # same value"
     ],
     "language": "python",
     "metadata": {},
     "outputs": []
    },
    {
     "cell_type": "code",
     "collapsed": false,
     "input": [
      "a is b # a and b are different"
     ],
     "language": "python",
     "metadata": {},
     "outputs": []
    },
    {
     "cell_type": "code",
     "collapsed": false,
     "input": [
      "print b[1,1] == a[3]\n",
      "print b[1,1] is a[3] # Even if the values are the same, the \"is\" does not tell it."
     ],
     "language": "python",
     "metadata": {},
     "outputs": []
    },
    {
     "cell_type": "code",
     "collapsed": false,
     "input": [
      "c = a.reshape((2,3)).copy() # This is the solution."
     ],
     "language": "python",
     "metadata": {},
     "outputs": []
    },
    {
     "cell_type": "code",
     "collapsed": false,
     "input": [
      "print a\n",
      "print c"
     ],
     "language": "python",
     "metadata": {},
     "outputs": []
    },
    {
     "cell_type": "code",
     "collapsed": false,
     "input": [
      "c[0,0] = 8888\n",
      "print a\n",
      "print c"
     ],
     "language": "python",
     "metadata": {},
     "outputs": []
    },
    {
     "cell_type": "heading",
     "level": 3,
     "metadata": {},
     "source": [
      "Random"
     ]
    },
    {
     "cell_type": "code",
     "collapsed": false,
     "input": [
      "ran_uniform = np.random.rand(5) # between 0 and 1\n",
      "ran_normal = np.random.randn(5) # Gaussian mean 0 variance 1\n",
      "print ran_uniform\n",
      "print '-----------------------------'\n",
      "print ran_normal\n",
      "print '-----------------------------'\n",
      "ran_normal_2D = np.random.randn(5,5) # Gaussian mean 0 variance 1\n",
      "print ran_normal_2D\n"
     ],
     "language": "python",
     "metadata": {},
     "outputs": []
    },
    {
     "cell_type": "code",
     "collapsed": false,
     "input": [
      "np.random.randn?"
     ],
     "language": "python",
     "metadata": {},
     "outputs": []
    },
    {
     "cell_type": "heading",
     "level": 3,
     "metadata": {},
     "source": [
      "Timing on 2D array"
     ]
    },
    {
     "cell_type": "code",
     "collapsed": false,
     "input": [
      "N = 100\n",
      "A = np.ones((N, N))\n",
      "B = np.zeros_like(A)"
     ],
     "language": "python",
     "metadata": {},
     "outputs": []
    },
    {
     "cell_type": "code",
     "collapsed": false,
     "input": [
      "%%timeit\n",
      "for i in range(N):\n",
      "    for j in range(N):\n",
      "        B[i,j] = A[i,j]"
     ],
     "language": "python",
     "metadata": {},
     "outputs": []
    },
    {
     "cell_type": "code",
     "collapsed": false,
     "input": [
      "%%timeit\n",
      "B = A # very faster ! It does NOT copy..."
     ],
     "language": "python",
     "metadata": {},
     "outputs": []
    },
    {
     "cell_type": "code",
     "collapsed": false,
     "input": [
      "%%timeit \n",
      "B = (A.copy()) # Takes more time"
     ],
     "language": "python",
     "metadata": {},
     "outputs": []
    },
    {
     "cell_type": "code",
     "collapsed": false,
     "input": [
      "%%timeit\n",
      "for i in range(N):\n",
      "    for j in range(N):\n",
      "        B[i,j] = A[i,j]**2 "
     ],
     "language": "python",
     "metadata": {},
     "outputs": []
    },
    {
     "cell_type": "code",
     "collapsed": false,
     "input": [
      "%%timeit\n",
      "B = A**2 # very faster ! Does a copy"
     ],
     "language": "python",
     "metadata": {},
     "outputs": []
    },
    {
     "cell_type": "code",
     "collapsed": false,
     "input": [
      "%timeit  B = (A.copy())**2 # Takes a little bit more time"
     ],
     "language": "python",
     "metadata": {},
     "outputs": []
    },
    {
     "cell_type": "heading",
     "level": 3,
     "metadata": {},
     "source": [
      "Slicing"
     ]
    },
    {
     "cell_type": "code",
     "collapsed": false,
     "input": [
      "a = np.arange(10)\n",
      "print a\n",
      "print a[1:8:3]"
     ],
     "language": "python",
     "metadata": {},
     "outputs": []
    },
    {
     "cell_type": "code",
     "collapsed": false,
     "input": [
      "print a[:7]"
     ],
     "language": "python",
     "metadata": {},
     "outputs": []
    },
    {
     "cell_type": "code",
     "collapsed": false,
     "input": [
      "print a[4:]"
     ],
     "language": "python",
     "metadata": {},
     "outputs": []
    },
    {
     "cell_type": "code",
     "collapsed": false,
     "input": [
      "print a[::2]\n",
      "print a[::2][2]"
     ],
     "language": "python",
     "metadata": {},
     "outputs": []
    },
    {
     "cell_type": "code",
     "collapsed": false,
     "input": [
      "# Revert the array:\n",
      "print a[::-1]"
     ],
     "language": "python",
     "metadata": {},
     "outputs": []
    },
    {
     "cell_type": "heading",
     "level": 4,
     "metadata": {},
     "source": [
      "Assignment"
     ]
    },
    {
     "cell_type": "code",
     "collapsed": false,
     "input": [
      "a[5:] = 999\n",
      "print a"
     ],
     "language": "python",
     "metadata": {},
     "outputs": []
    },
    {
     "cell_type": "code",
     "collapsed": false,
     "input": [
      "a[5:] = a[4::-1]\n",
      "print a"
     ],
     "language": "python",
     "metadata": {},
     "outputs": []
    },
    {
     "cell_type": "code",
     "collapsed": false,
     "input": [
      "print a\n",
      "b = a[:, np.newaxis] # create a new empty dimension\n",
      "print b\n",
      "print a.shape, b.shape\n",
      "c = a[np.newaxis, :]\n",
      "print c, c.shape"
     ],
     "language": "python",
     "metadata": {},
     "outputs": []
    },
    {
     "cell_type": "code",
     "collapsed": false,
     "input": [
      "b*c # Cross product, see below (broadcasting)"
     ],
     "language": "python",
     "metadata": {},
     "outputs": []
    },
    {
     "cell_type": "heading",
     "level": 4,
     "metadata": {},
     "source": [
      "Using an array"
     ]
    },
    {
     "cell_type": "code",
     "collapsed": false,
     "input": [
      "print a\n",
      "a[[2,4,6]] = -999\n",
      "print a"
     ],
     "language": "python",
     "metadata": {},
     "outputs": []
    },
    {
     "cell_type": "code",
     "collapsed": false,
     "input": [
      "# a = 1 would turn a to be 1, but if we want to assign 1 to every value in a one must do:\n",
      "a[:] = 1\n",
      "print a"
     ],
     "language": "python",
     "metadata": {},
     "outputs": []
    },
    {
     "cell_type": "heading",
     "level": 3,
     "metadata": {},
     "source": [
      "Using masks"
     ]
    },
    {
     "cell_type": "code",
     "collapsed": false,
     "input": [
      "a = np.random.random_integers(0, 100, 20) # min, max, N\n",
      "print a"
     ],
     "language": "python",
     "metadata": {},
     "outputs": []
    },
    {
     "cell_type": "code",
     "collapsed": false,
     "input": [
      "a < 50"
     ],
     "language": "python",
     "metadata": {},
     "outputs": []
    },
    {
     "cell_type": "code",
     "collapsed": false,
     "input": [
      "mask = (a < 50)"
     ],
     "language": "python",
     "metadata": {},
     "outputs": []
    },
    {
     "cell_type": "code",
     "collapsed": false,
     "input": [
      "mask.sum()"
     ],
     "language": "python",
     "metadata": {},
     "outputs": []
    },
    {
     "cell_type": "code",
     "collapsed": false,
     "input": [
      "a[mask]"
     ],
     "language": "python",
     "metadata": {},
     "outputs": []
    },
    {
     "cell_type": "code",
     "collapsed": false,
     "input": [
      "b = a.copy() # do NOT use b = a\n",
      "b[mask] = 50 # \n",
      "print a\n",
      "print b"
     ],
     "language": "python",
     "metadata": {},
     "outputs": []
    },
    {
     "cell_type": "code",
     "collapsed": false,
     "input": [
      "b = a.copy()\n",
      "b[b <= 50] = 0 # shortest way. Not matter if not even one element fit the test\n",
      "print b"
     ],
     "language": "python",
     "metadata": {},
     "outputs": []
    },
    {
     "cell_type": "code",
     "collapsed": false,
     "input": [
      "print a[mask]\n",
      "print a[~mask] # complementary"
     ],
     "language": "python",
     "metadata": {},
     "outputs": []
    },
    {
     "cell_type": "code",
     "collapsed": false,
     "input": [
      "mask"
     ],
     "language": "python",
     "metadata": {},
     "outputs": []
    },
    {
     "cell_type": "code",
     "collapsed": false,
     "input": [
      "mask = np.zeros_like(a, dtype=bool)\n",
      "print mask"
     ],
     "language": "python",
     "metadata": {},
     "outputs": []
    },
    {
     "cell_type": "code",
     "collapsed": false,
     "input": [
      "mask[[2,3,4]] = True"
     ],
     "language": "python",
     "metadata": {},
     "outputs": []
    },
    {
     "cell_type": "code",
     "collapsed": false,
     "input": [
      "mask"
     ],
     "language": "python",
     "metadata": {},
     "outputs": []
    },
    {
     "cell_type": "code",
     "collapsed": false,
     "input": [
      "a[mask]"
     ],
     "language": "python",
     "metadata": {},
     "outputs": []
    },
    {
     "cell_type": "code",
     "collapsed": false,
     "input": [
      "a[mask].sum()"
     ],
     "language": "python",
     "metadata": {},
     "outputs": []
    },
    {
     "cell_type": "heading",
     "level": 4,
     "metadata": {},
     "source": [
      "combining masks"
     ]
    },
    {
     "cell_type": "code",
     "collapsed": false,
     "input": [
      "print a\n",
      "mask_low = a > 30\n",
      "mask_high = a < 70\n",
      "print '-------------------------------------'\n",
      "print a[mask_low & mask_high] # both conditions are filled\n",
      "print '-------------------------------------'\n",
      "print a[~mask_low | ~mask_high] # complementary, using the | for OR"
     ],
     "language": "python",
     "metadata": {},
     "outputs": []
    },
    {
     "cell_type": "heading",
     "level": 4,
     "metadata": {},
     "source": [
      "the where function"
     ]
    },
    {
     "cell_type": "code",
     "collapsed": false,
     "input": [
      "tt = np.where(a > 30)\n",
      "print a\n",
      "print tt # tt is a tuple of arrays, one for each dimension of the condition, \n",
      "# containing the indices where the condition is filled in that dimension."
     ],
     "language": "python",
     "metadata": {},
     "outputs": []
    },
    {
     "cell_type": "code",
     "collapsed": false,
     "input": [
      "(a > 30).nonzero() # \"where\" is the same than condition.nonzero(). "
     ],
     "language": "python",
     "metadata": {},
     "outputs": []
    },
    {
     "cell_type": "code",
     "collapsed": false,
     "input": [
      "# the indices where the condition is filled are in the first element of the tuple"
     ],
     "language": "python",
     "metadata": {},
     "outputs": []
    },
    {
     "cell_type": "code",
     "collapsed": false,
     "input": [
      "tt[0]"
     ],
     "language": "python",
     "metadata": {},
     "outputs": []
    },
    {
     "cell_type": "code",
     "collapsed": false,
     "input": [
      "# faster once you know that the condition is 1D\n",
      "tt = np.where(a > 30)[0]"
     ],
     "language": "python",
     "metadata": {},
     "outputs": []
    },
    {
     "cell_type": "code",
     "collapsed": false,
     "input": [
      "tt # the array containing the indices where the condition is filled"
     ],
     "language": "python",
     "metadata": {},
     "outputs": []
    },
    {
     "cell_type": "code",
     "collapsed": false,
     "input": [
      "a[tt] # the values where the condition is filled"
     ],
     "language": "python",
     "metadata": {},
     "outputs": []
    },
    {
     "cell_type": "code",
     "collapsed": false,
     "input": [
      "# The where function can take 3 arguments. \n",
      "b = np.where(a < 50, 1., -1.)\n",
      "print a\n",
      "print b"
     ],
     "language": "python",
     "metadata": {},
     "outputs": []
    },
    {
     "cell_type": "code",
     "collapsed": false,
     "input": [
      "a * b"
     ],
     "language": "python",
     "metadata": {},
     "outputs": []
    },
    {
     "cell_type": "code",
     "collapsed": false,
     "input": [
      "b = np.where(a < 50, True, False)\n",
      "print a\n",
      "print b"
     ],
     "language": "python",
     "metadata": {},
     "outputs": []
    },
    {
     "cell_type": "heading",
     "level": 3,
     "metadata": {},
     "source": [
      "Some operations with arrays"
     ]
    },
    {
     "cell_type": "code",
     "collapsed": false,
     "input": [
      "a "
     ],
     "language": "python",
     "metadata": {},
     "outputs": []
    },
    {
     "cell_type": "code",
     "collapsed": false,
     "input": [
      "a + 1"
     ],
     "language": "python",
     "metadata": {},
     "outputs": []
    },
    {
     "cell_type": "code",
     "collapsed": false,
     "input": [
      "a**2 + 3*a**3"
     ],
     "language": "python",
     "metadata": {},
     "outputs": []
    },
    {
     "cell_type": "code",
     "collapsed": false,
     "input": [
      "# look for the integers I so that i**2 + (i+1)**2 = (i+2)**2\n",
      "a = np.arange(10)\n",
      "b = a**2 + (a+1)**2"
     ],
     "language": "python",
     "metadata": {},
     "outputs": []
    },
    {
     "cell_type": "code",
     "collapsed": false,
     "input": [
      "c = (a+2)**2"
     ],
     "language": "python",
     "metadata": {},
     "outputs": []
    },
    {
     "cell_type": "code",
     "collapsed": false,
     "input": [
      "print b\n",
      "print c"
     ],
     "language": "python",
     "metadata": {},
     "outputs": []
    },
    {
     "cell_type": "code",
     "collapsed": false,
     "input": [
      "b == c"
     ],
     "language": "python",
     "metadata": {},
     "outputs": []
    },
    {
     "cell_type": "code",
     "collapsed": false,
     "input": [
      "a[b==c]"
     ],
     "language": "python",
     "metadata": {},
     "outputs": []
    },
    {
     "cell_type": "code",
     "collapsed": false,
     "input": [
      "a[b==c][0] # the result is an array. To obtain the first value (here the only one), use [0]"
     ],
     "language": "python",
     "metadata": {},
     "outputs": []
    },
    {
     "cell_type": "markdown",
     "metadata": {},
     "source": [
      "Numpy manages almost any mathematical operation. log, trigo, etc"
     ]
    },
    {
     "cell_type": "code",
     "collapsed": false,
     "input": [
      "a = np.arange(18)\n",
      "print a\n",
      "print np.log10(a)"
     ],
     "language": "python",
     "metadata": {},
     "outputs": []
    },
    {
     "cell_type": "code",
     "collapsed": false,
     "input": [
      "for aa in a:\n",
      "    print('{0:2} {1:4.2f} {2:5.2f} {3:8.2e}'.format(aa, np.log10(aa), np.sin(aa), np.exp(aa)))"
     ],
     "language": "python",
     "metadata": {},
     "outputs": []
    },
    {
     "cell_type": "markdown",
     "metadata": {},
     "source": [
      "sum"
     ]
    },
    {
     "cell_type": "code",
     "collapsed": false,
     "input": [
      "print a.sum()\n",
      "print 17*18/2"
     ],
     "language": "python",
     "metadata": {},
     "outputs": []
    },
    {
     "cell_type": "code",
     "collapsed": false,
     "input": [
      "a = np.random.rand(2, 4, 3)\n",
      "print a.shape\n",
      "print a.size\n",
      "print a"
     ],
     "language": "python",
     "metadata": {},
     "outputs": []
    },
    {
     "cell_type": "markdown",
     "metadata": {},
     "source": [
      "2 planes, 4 rows, 3 columns"
     ]
    },
    {
     "cell_type": "markdown",
     "metadata": {},
     "source": [
      "A small comment on the order of the elements in arrays in Python: There is two ways arrays can be stored: row- or column major. It has a direct impact on the way one has to loop on the arrays. IDL is like Fortran (column major) and Python is like C (row major). It means that in Python, as you move linearly through the memory of an array, the second dimension (rightmost) changes the fastest, while in IDL the first (leftmost) dimension changes the fastest. Consequence on the loop order in Python:"
     ]
    },
    {
     "cell_type": "code",
     "collapsed": false,
     "input": [
      "for plane in a:\n",
      "    for row in plane:\n",
      "        for col in row:\n",
      "            print col\n",
      "            print '-----'"
     ],
     "language": "python",
     "metadata": {},
     "outputs": []
    },
    {
     "cell_type": "code",
     "collapsed": false,
     "input": [
      "print a[0,1,2] # a[p, r, c]"
     ],
     "language": "python",
     "metadata": {},
     "outputs": []
    },
    {
     "cell_type": "code",
     "collapsed": false,
     "input": [
      "a.sum()"
     ],
     "language": "python",
     "metadata": {},
     "outputs": []
    },
    {
     "cell_type": "code",
     "collapsed": false,
     "input": [
      "a.sum(0) # from 3D to 2D. Generate an \"image\" of the sum, i.e. the \"projection\" on the x-axis of the 3D array"
     ],
     "language": "python",
     "metadata": {},
     "outputs": []
    },
    {
     "cell_type": "code",
     "collapsed": false,
     "input": [
      "a.sum(0).shape"
     ],
     "language": "python",
     "metadata": {},
     "outputs": []
    },
    {
     "cell_type": "code",
     "collapsed": false,
     "input": [
      "a.sum(0).sum(0) # from 3D to 1D. From the image, make the sum in each column."
     ],
     "language": "python",
     "metadata": {},
     "outputs": []
    },
    {
     "cell_type": "code",
     "collapsed": false,
     "input": [
      "a.min()"
     ],
     "language": "python",
     "metadata": {},
     "outputs": []
    },
    {
     "cell_type": "code",
     "collapsed": false,
     "input": [
      "a.ravel()"
     ],
     "language": "python",
     "metadata": {},
     "outputs": []
    },
    {
     "cell_type": "code",
     "collapsed": false,
     "input": [
      "i_min = a.argmin() # return the index of where the minimum is. It uses the 1D index.\n",
      "print i_min\n",
      "#print a"
     ],
     "language": "python",
     "metadata": {},
     "outputs": []
    },
    {
     "cell_type": "code",
     "collapsed": false,
     "input": [
      "a.ravel().shape # 1D "
     ],
     "language": "python",
     "metadata": {},
     "outputs": []
    },
    {
     "cell_type": "code",
     "collapsed": false,
     "input": [
      "a.ravel()[i_min] # Check where the minimum is."
     ],
     "language": "python",
     "metadata": {},
     "outputs": []
    },
    {
     "cell_type": "code",
     "collapsed": false,
     "input": [
      "z = i_min/12\n",
      "y = (i_min - 12*z)/3\n",
      "x = i_min - 12*z - 3*y\n",
      "print z, y, x\n",
      "print a[z, y, x]"
     ],
     "language": "python",
     "metadata": {},
     "outputs": []
    },
    {
     "cell_type": "code",
     "collapsed": false,
     "input": [
      "def decompose_ravel(arr, i):\n",
      "    \"\"\"\n",
      "    Return the coordinates of i in arr.\n",
      "    \"\"\"\n",
      "    shape = arr.shape\n",
      "    idx = i\n",
      "    res = []\n",
      "    for i in np.arange(arr.ndim):\n",
      "        subdims = np.prod(shape[i+1:])\n",
      "        n = int(idx/subdims)\n",
      "        #print n, subdims, idx\n",
      "        idx = idx - subdims*n\n",
      "        res.append(n)\n",
      "    return tuple(res)"
     ],
     "language": "python",
     "metadata": {},
     "outputs": []
    },
    {
     "cell_type": "code",
     "collapsed": false,
     "input": [
      "res = decompose_ravel(a, i_min)\n",
      "print a.min()\n",
      "print res\n",
      "print a[res]"
     ],
     "language": "python",
     "metadata": {},
     "outputs": []
    },
    {
     "cell_type": "code",
     "collapsed": false,
     "input": [
      "a.min(0).min(0)"
     ],
     "language": "python",
     "metadata": {},
     "outputs": []
    },
    {
     "cell_type": "code",
     "collapsed": false,
     "input": [
      "print a[:,2,1]\n",
      "a[:,2,1].min()"
     ],
     "language": "python",
     "metadata": {},
     "outputs": []
    },
    {
     "cell_type": "code",
     "collapsed": false,
     "input": [
      "a.mean(0)"
     ],
     "language": "python",
     "metadata": {},
     "outputs": []
    },
    {
     "cell_type": "code",
     "collapsed": false,
     "input": [
      "np.median(a, 0)"
     ],
     "language": "python",
     "metadata": {},
     "outputs": []
    },
    {
     "cell_type": "code",
     "collapsed": false,
     "input": [
      "a.std()"
     ],
     "language": "python",
     "metadata": {},
     "outputs": []
    },
    {
     "cell_type": "code",
     "collapsed": false,
     "input": [
      "np.percentile(a, 25)"
     ],
     "language": "python",
     "metadata": {},
     "outputs": []
    },
    {
     "cell_type": "code",
     "collapsed": false,
     "input": [
      "print a[0:4,0]\n",
      "print np.cumsum(a[0:100,0]) # axis is a keyword. If absent, applied on the ravel(), e.g. 1D array"
     ],
     "language": "python",
     "metadata": {},
     "outputs": []
    },
    {
     "cell_type": "code",
     "collapsed": false,
     "input": [
      "b = np.arange(1000).reshape(10,10,10)"
     ],
     "language": "python",
     "metadata": {},
     "outputs": []
    },
    {
     "cell_type": "code",
     "collapsed": false,
     "input": [
      "b.shape"
     ],
     "language": "python",
     "metadata": {},
     "outputs": []
    },
    {
     "cell_type": "code",
     "collapsed": false,
     "input": [
      "b[4,:,:] # hundreds digits = 4"
     ],
     "language": "python",
     "metadata": {},
     "outputs": []
    },
    {
     "cell_type": "code",
     "collapsed": false,
     "input": [
      "b[:,2,:] # tens digit = 2"
     ],
     "language": "python",
     "metadata": {},
     "outputs": []
    },
    {
     "cell_type": "code",
     "collapsed": false,
     "input": [
      "b[:,:,7] # unity digit = 7"
     ],
     "language": "python",
     "metadata": {},
     "outputs": []
    },
    {
     "cell_type": "code",
     "collapsed": false,
     "input": [
      "b.min(0) # elements with the smallest value for the hundreds digit"
     ],
     "language": "python",
     "metadata": {},
     "outputs": []
    },
    {
     "cell_type": "code",
     "collapsed": false,
     "input": [
      "b.min(2) # smallest value for the unity digit"
     ],
     "language": "python",
     "metadata": {},
     "outputs": []
    },
    {
     "cell_type": "code",
     "collapsed": false,
     "input": [
      "b.min(2).shape"
     ],
     "language": "python",
     "metadata": {},
     "outputs": []
    },
    {
     "cell_type": "code",
     "collapsed": false,
     "input": [
      "np.median(b)"
     ],
     "language": "python",
     "metadata": {},
     "outputs": []
    },
    {
     "cell_type": "code",
     "collapsed": false,
     "input": [
      "np.median(b, axis=0)"
     ],
     "language": "python",
     "metadata": {},
     "outputs": []
    },
    {
     "cell_type": "code",
     "collapsed": false,
     "input": [
      "x = 2 * np.random.rand(100,100,100) - 1.\n",
      "print np.min(x), np.max(x)"
     ],
     "language": "python",
     "metadata": {},
     "outputs": []
    },
    {
     "cell_type": "code",
     "collapsed": false,
     "input": [
      "y = 2 * np.random.rand(100,100,100) - 1.\n",
      "z = 2 * np.random.rand(100,100,100) - 1."
     ],
     "language": "python",
     "metadata": {},
     "outputs": []
    },
    {
     "cell_type": "code",
     "collapsed": false,
     "input": [
      "r = np.sqrt(x**2 + y**2 + z**2)\n",
      "print np.min(r), np.max(r)\n",
      "print np.sqrt(3)"
     ],
     "language": "python",
     "metadata": {},
     "outputs": []
    },
    {
     "cell_type": "code",
     "collapsed": false,
     "input": [
      "np.mean(r)"
     ],
     "language": "python",
     "metadata": {},
     "outputs": []
    },
    {
     "cell_type": "code",
     "collapsed": false,
     "input": [
      "np.median(r)"
     ],
     "language": "python",
     "metadata": {},
     "outputs": []
    },
    {
     "cell_type": "heading",
     "level": 3,
     "metadata": {},
     "source": [
      "Broadcasting"
     ]
    },
    {
     "cell_type": "markdown",
     "metadata": {},
     "source": [
      "http://arxiv.org/pdf/1102.1523.pdf"
     ]
    },
    {
     "cell_type": "markdown",
     "metadata": {},
     "source": [
      "    If the two arrays differ in their number of dimensions, the shape of the array with fewer dimensions is padded with ones on its leading (left) side.\n",
      "    If the shape of the two arrays does not match in any dimension, the array with shape equal to 1 in that dimension is stretched to match the other shape.\n",
      "    If in any dimension the sizes disagree and neither is equal to 1, an error is raised."
     ]
    },
    {
     "cell_type": "code",
     "collapsed": false,
     "input": [
      "x = np.array((1,2,3,4,5)).reshape(5,1,1)"
     ],
     "language": "python",
     "metadata": {},
     "outputs": []
    },
    {
     "cell_type": "code",
     "collapsed": false,
     "input": [
      "x"
     ],
     "language": "python",
     "metadata": {},
     "outputs": []
    },
    {
     "cell_type": "code",
     "collapsed": false,
     "input": [
      "x.shape"
     ],
     "language": "python",
     "metadata": {},
     "outputs": []
    },
    {
     "cell_type": "code",
     "collapsed": false,
     "input": [
      "x.ndim"
     ],
     "language": "python",
     "metadata": {},
     "outputs": []
    },
    {
     "cell_type": "code",
     "collapsed": false,
     "input": [
      "x1 = np.array((1,2,3,4,5))\n",
      "y1 = np.array((1,2,3,4,5))\n",
      "z1 = np.array((1,2,3,4,5))\n",
      "r1 = x1 * y1 * z1\n",
      "print r1.shape"
     ],
     "language": "python",
     "metadata": {},
     "outputs": []
    },
    {
     "cell_type": "code",
     "collapsed": false,
     "input": [
      "y = np.array((1,2,3,4,5)).reshape(1,5,1)\n",
      "z = np.array((1,2,3,4,5)).reshape(1,1,5)\n",
      "print y\n",
      "print z"
     ],
     "language": "python",
     "metadata": {},
     "outputs": []
    },
    {
     "cell_type": "code",
     "collapsed": false,
     "input": [
      "r = x * y * z"
     ],
     "language": "python",
     "metadata": {},
     "outputs": []
    },
    {
     "cell_type": "code",
     "collapsed": false,
     "input": [
      "print r.shape"
     ],
     "language": "python",
     "metadata": {},
     "outputs": []
    },
    {
     "cell_type": "code",
     "collapsed": false,
     "input": [
      "r"
     ],
     "language": "python",
     "metadata": {},
     "outputs": []
    },
    {
     "cell_type": "code",
     "collapsed": false,
     "input": [
      "a = np.ones((10,10))\n",
      "b = np.arange(10).reshape(10,1)\n",
      "print a\n",
      "print b\n",
      "print b.shape"
     ],
     "language": "python",
     "metadata": {},
     "outputs": []
    },
    {
     "cell_type": "code",
     "collapsed": false,
     "input": [
      "a * b"
     ],
     "language": "python",
     "metadata": {},
     "outputs": []
    },
    {
     "cell_type": "code",
     "collapsed": false,
     "input": [
      "a * b.reshape(1,10)"
     ],
     "language": "python",
     "metadata": {},
     "outputs": []
    },
    {
     "cell_type": "heading",
     "level": 3,
     "metadata": {},
     "source": [
      "Structured arrays and RecArrays"
     ]
    },
    {
     "cell_type": "markdown",
     "metadata": {},
     "source": [
      "See here: http://docs.scipy.org/doc/numpy/user/basics.rec.html"
     ]
    },
    {
     "cell_type": "markdown",
     "metadata": {},
     "source": [
      "A structured array in numpy is an array of records. Each record can contain one or more items which can be of different types."
     ]
    },
    {
     "cell_type": "code",
     "collapsed": false,
     "input": [
      "a = np.array([(1.5, 2), (3.0, 4)]) # Classical numpy array\n",
      "print a"
     ],
     "language": "python",
     "metadata": {},
     "outputs": []
    },
    {
     "cell_type": "code",
     "collapsed": false,
     "input": [
      "astru = np.array([(1.5, 2), (3.0, '4')], dtype=[('x', float), ('y', 'S1')]) # array with named and typed columns\n",
      "astru"
     ],
     "language": "python",
     "metadata": {},
     "outputs": []
    },
    {
     "cell_type": "code",
     "collapsed": false,
     "input": [
      "arec = astru.view(np.recarray)\n",
      "print type(a), type(astru), type(arec) \n",
      "print '----------------------------------'\n",
      "print a\n",
      "print astru\n",
      "print arec \n",
      "print '----------------------------------'\n",
      "print a.size, astru.size, arec.size # not even the same sixe\n",
      "print '----------------------------------'\n",
      "print a.dtype, astru.dtype, arec.dtype # types tell us that ar has column names and types\n",
      "print '----------------------------------'\n",
      "print a[1,1], astru[1][1], arec[1][1] # one is 2D, the other is a collection of 1D\n",
      "print '----------------------------------'\n",
      "print astru['y'] # acces by name (a litle like dictionnaries)\n",
      "print '----------------------------------'\n",
      "print arec.x"
     ],
     "language": "python",
     "metadata": {},
     "outputs": []
    },
    {
     "cell_type": "code",
     "collapsed": false,
     "input": [
      "%timeit astru2 = np.append(astru, np.array([(5.0, 6)], dtype=astru.dtype)) # Copied all the data, may be slow"
     ],
     "language": "python",
     "metadata": {},
     "outputs": []
    },
    {
     "cell_type": "code",
     "collapsed": false,
     "input": [
      "%timeit astru3 = np.concatenate((astru, np.array([(5.0, 6)], dtype=astru.dtype))) # A little bit faster"
     ],
     "language": "python",
     "metadata": {},
     "outputs": []
    },
    {
     "cell_type": "code",
     "collapsed": false,
     "input": [
      "%timeit arec2 = np.append(arec, np.array([(5.0, 6)], dtype=astru.dtype).view(np.recarray)) # Copied all the data, may be slow"
     ],
     "language": "python",
     "metadata": {},
     "outputs": []
    },
    {
     "cell_type": "code",
     "collapsed": false,
     "input": [
      "%timeit arec3 = np.concatenate((arec, np.array([(5.0, 6)], dtype=astru.dtype).view(np.recarray))) # A little bit faster"
     ],
     "language": "python",
     "metadata": {},
     "outputs": []
    },
    {
     "cell_type": "code",
     "collapsed": false,
     "input": [
      "arec4 = np.rec.fromrecords([(456,'dbe',1.2),(2,'de',1.3)],names='col1,col2,col3') # direct from data.\n",
      "print arec4\n",
      "print type(arec4)\n",
      "print arec4.col1[1]\n",
      "print arec4[1].col1"
     ],
     "language": "python",
     "metadata": {},
     "outputs": []
    },
    {
     "cell_type": "code",
     "collapsed": false,
     "input": [
      "arec4 = np.rec.fromrecords([('etoile_15', 30.015, -0.752, 10.722), \n",
      "                            ('etoile_11', 31.163, -9.109, 10.761),\n",
      "                            ('etoile_16', 39.789, -7.716, 11.071), \n",
      "                            ('etoile_14', 35.110, 6.785, 11.176), \n",
      "                            ('etoile_31', 33.530, 9.306, 11.823), \n",
      "                            ('etoile_04', 33.480, 5.568, 11.978)\n",
      "                            ],\n",
      "                           names='name,ra,dec, mag')"
     ],
     "language": "python",
     "metadata": {},
     "outputs": []
    },
    {
     "cell_type": "code",
     "collapsed": false,
     "input": [
      "mask = arec4.mag > 11.\n",
      "print arec4[mask]\n",
      "print '-------------------------'\n",
      "for star in arec4[mask]:\n",
      "    print('name: {0} ra = {1} dec = {2} magnitude = {3}'.format(star.name, star.ra, star.dec, star.mag))\n",
      "print '-------------------------'\n",
      "for star in arec4[mask]:\n",
      "    print('name: {0[name]} ra = {0[ra]} dec = {0[dec]} magnitude = {0[mag]}'.format(star)) # unse only one key in format"
     ],
     "language": "python",
     "metadata": {},
     "outputs": []
    },
    {
     "cell_type": "heading",
     "level": 3,
     "metadata": {},
     "source": [
      "NaN and other ANSI values"
     ]
    },
    {
     "cell_type": "code",
     "collapsed": false,
     "input": [
      "a = np.array([-3, -2., -1., 0., 1., 2.])\n",
      "b = 1./a\n",
      "print b"
     ],
     "language": "python",
     "metadata": {},
     "outputs": []
    },
    {
     "cell_type": "code",
     "collapsed": false,
     "input": [
      "print a.sum()\n",
      "print b.sum() # NaN and others are absorbant elements"
     ],
     "language": "python",
     "metadata": {},
     "outputs": []
    },
    {
     "cell_type": "code",
     "collapsed": false,
     "input": [
      "mask = np.isfinite(b)\n",
      "print mask\n",
      "print b[mask].sum()"
     ],
     "language": "python",
     "metadata": {},
     "outputs": []
    },
    {
     "cell_type": "code",
     "collapsed": false,
     "input": [
      "for elem in b:\n",
      "    print np.isinf(elem)"
     ],
     "language": "python",
     "metadata": {},
     "outputs": []
    },
    {
     "cell_type": "heading",
     "level": 3,
     "metadata": {},
     "source": [
      "Roundish values of floats"
     ]
    },
    {
     "cell_type": "code",
     "collapsed": false,
     "input": [
      "import math\n",
      "res = []\n",
      "for i in range(100): \n",
      "    res.append(math.log(2 ** i, 2)) # The second argument is the base of the log. The result should be i.\n",
      "print res\n",
      "# We can see that sometimes the value of log2(2**i) is NOT i."
     ],
     "language": "python",
     "metadata": {},
     "outputs": []
    },
    {
     "cell_type": "code",
     "collapsed": false,
     "input": [
      "res2 = []\n",
      "for i in range(100): \n",
      "    res2.append(float(round(math.log(2**i, 2))) == math.log(2 ** i, 2))\n",
      "print res2\n",
      "# An equivalent result is obtained when comparing the round value. This should be always True."
     ],
     "language": "python",
     "metadata": {},
     "outputs": []
    },
    {
     "cell_type": "code",
     "collapsed": false,
     "input": [
      "res = []\n",
      "for i in range(100): \n",
      "    res.append(np.log2(2.**i)) # The second argument is the base of the log. The result should be i.\n",
      "print res\n",
      "\n",
      "res_np = []\n",
      "for i in range(100): \n",
      "    res_np.append(float(round(np.log2(2.**i))) == np.log2(2.**i))\n",
      "print res_np\n",
      "# No problemes with the numpy log function."
     ],
     "language": "python",
     "metadata": {},
     "outputs": []
    },
    {
     "cell_type": "markdown",
     "metadata": {},
     "source": [
      "In case of doubdts, one can use the close function from numpy:"
     ]
    },
    {
     "cell_type": "code",
     "collapsed": false,
     "input": [
      "res_np2 = []\n",
      "for i in range(100): \n",
      "    res_np2.append(np.isclose(float(round(math.log(2 ** i, 2))), math.log(2 ** i, 2)))\n",
      "print res_np2\n",
      "# The isclose "
     ],
     "language": "python",
     "metadata": {},
     "outputs": []
    },
    {
     "cell_type": "code",
     "collapsed": false,
     "input": [
      "np.isclose?"
     ],
     "language": "python",
     "metadata": {},
     "outputs": []
    }
   ],
   "metadata": {}
  }
 ]
}