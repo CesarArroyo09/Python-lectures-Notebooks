{
 "metadata": {
  "name": "",
  "signature": "sha256:dc517ef035d691e698bc0b39ed54e56af45f8ad12c544015ca55aab86efbeb82"
 },
 "nbformat": 3,
 "nbformat_minor": 0,
 "worksheets": [
  {
   "cells": [
    {
     "cell_type": "heading",
     "level": 3,
     "metadata": {},
     "source": [
      "Fill the empty cells with the adecuate python commands."
     ]
    },
    {
     "cell_type": "heading",
     "level": 1,
     "metadata": {},
     "source": [
      "Simple plot"
     ]
    },
    {
     "cell_type": "markdown",
     "metadata": {},
     "source": [
      "Import the necessary libraries to deal with vectorized arrays and to plot data:"
     ]
    },
    {
     "cell_type": "code",
     "collapsed": false,
     "input": [
      "import ..."
     ],
     "language": "python",
     "metadata": {},
     "outputs": []
    },
    {
     "cell_type": "markdown",
     "metadata": {},
     "source": [
      "Be sure that the figure that will be plotted in this Notebook will appear in it."
     ]
    },
    {
     "cell_type": "code",
     "collapsed": false,
     "input": [
      "%..."
     ],
     "language": "python",
     "metadata": {},
     "outputs": []
    },
    {
     "cell_type": "markdown",
     "metadata": {},
     "source": [
      "The following cell will write a file on your disk."
     ]
    },
    {
     "cell_type": "code",
     "collapsed": false,
     "input": [
      "%%writefile data_ex1.dat\n",
      "# This file is used in a Notebook on numpy and matplotlib\n",
      "# N  x  y  I\n",
      "1  3  5  8.0\n",
      "2  5  7  10.0\n",
      "3  7  2  6.0\n",
      "4  9  -1 3.0\n",
      "5  11 1 12.0"
     ],
     "language": "python",
     "metadata": {},
     "outputs": []
    },
    {
     "cell_type": "markdown",
     "metadata": {},
     "source": [
      "Read the file previously writen in the variable d, which is a numpy structured array, with the names corresponding to the values in the 2nd line of the data file."
     ]
    },
    {
     "cell_type": "code",
     "collapsed": false,
     "input": [
      "d = np..."
     ],
     "language": "python",
     "metadata": {},
     "outputs": []
    },
    {
     "cell_type": "markdown",
     "metadata": {},
     "source": [
      "Print the values of d, check that the type for the 3 first fields are interger and for the last one is float."
     ]
    },
    {
     "cell_type": "code",
     "collapsed": false,
     "input": [
      "print ..."
     ],
     "language": "python",
     "metadata": {},
     "outputs": []
    },
    {
     "cell_type": "markdown",
     "metadata": {},
     "source": [
      "Plot the values from d in a diagram where \"x\" and \"y\" are used as coordinates and \"I\" as the color of the symbol. Make a nice plot where the symbols have a decent size. Don't forget to put a colorbar."
     ]
    },
    {
     "cell_type": "code",
     "collapsed": false,
     "input": [
      "f, ax = ..."
     ],
     "language": "python",
     "metadata": {},
     "outputs": []
    },
    {
     "cell_type": "markdown",
     "metadata": {},
     "source": [
      "What do you think about the color table in this case? Change the plot to make a better one."
     ]
    },
    {
     "cell_type": "code",
     "collapsed": false,
     "input": [
      "f, ax = ..."
     ],
     "language": "python",
     "metadata": {},
     "outputs": []
    },
    {
     "cell_type": "heading",
     "level": 1,
     "metadata": {},
     "source": [
      "More data"
     ]
    },
    {
     "cell_type": "markdown",
     "metadata": {},
     "source": [
      "Copy the following file to the current directory. http://132.248.1.102/~morisset/Python_lectures/CALIFA_ah7.dat.gz"
     ]
    },
    {
     "cell_type": "markdown",
     "metadata": {},
     "source": [
      "Read the data in a structured array. The names are friendly defined in the file, there is no comments. You should not have to unpack the file."
     ]
    },
    {
     "cell_type": "code",
     "collapsed": false,
     "input": [
      "d = np..."
     ],
     "language": "python",
     "metadata": {},
     "outputs": []
    },
    {
     "cell_type": "markdown",
     "metadata": {},
     "source": [
      "What is the size of the data? What are the names and the types of the different fields? "
     ]
    },
    {
     "cell_type": "code",
     "collapsed": false,
     "input": [
      "print ..."
     ],
     "language": "python",
     "metadata": {},
     "outputs": []
    },
    {
     "cell_type": "markdown",
     "metadata": {},
     "source": [
      "Plot a BPT diagram from these data. On the x axis, put NII6584/Halpha and on the y axis put OIII5007/Hbeta."
     ]
    },
    {
     "cell_type": "code",
     "collapsed": false,
     "input": [
      "f, ax ..."
     ],
     "language": "python",
     "metadata": {},
     "outputs": []
    },
    {
     "cell_type": "markdown",
     "metadata": {},
     "source": [
      "Compare yout results with this one: http://www.aanda.org/articles/aa/full_html/2010/11/aa13886-09/img26.png"
     ]
    },
    {
     "cell_type": "markdown",
     "metadata": {},
     "source": [
      "Change your code to reproduce the same BPT plot."
     ]
    },
    {
     "cell_type": "code",
     "collapsed": false,
     "input": [
      "f, ax ..."
     ],
     "language": "python",
     "metadata": {},
     "outputs": []
    },
    {
     "cell_type": "markdown",
     "metadata": {},
     "source": [
      "make a mask to select only the points where log(OIII/Hb) > -1.25"
     ]
    },
    {
     "cell_type": "code",
     "collapsed": false,
     "input": [
      "mask = ."
     ],
     "language": "python",
     "metadata": {},
     "outputs": []
    },
    {
     "cell_type": "markdown",
     "metadata": {},
     "source": [
      "plot the selected data, using the field \"OXYGEN\" for the color code."
     ]
    },
    {
     "cell_type": "code",
     "collapsed": false,
     "input": [
      "f, ax ..."
     ],
     "language": "python",
     "metadata": {},
     "outputs": []
    },
    {
     "cell_type": "markdown",
     "metadata": {},
     "source": [
      "Plot the selected data, using the field \"logU_mean\" for the color code. Save the resulting figure in PDF and png format."
     ]
    },
    {
     "cell_type": "code",
     "collapsed": false,
     "input": [
      "f, ax ..."
     ],
     "language": "python",
     "metadata": {},
     "outputs": []
    },
    {
     "cell_type": "markdown",
     "metadata": {},
     "source": [
      "Compare the sizes of the files. Look at the image. Conclusion?"
     ]
    },
    {
     "cell_type": "code",
     "collapsed": false,
     "input": [
      "ls -lh BPT1*"
     ],
     "language": "python",
     "metadata": {},
     "outputs": []
    },
    {
     "cell_type": "markdown",
     "metadata": {},
     "source": [
      "Define a mask where the field \"pop1\" is > 0.5. Plot the histogram of NII6584/Ha for the data corresponding to the mask, and for the complementary data."
     ]
    },
    {
     "cell_type": "code",
     "collapsed": false,
     "input": [
      "mask_pop ..."
     ],
     "language": "python",
     "metadata": {},
     "outputs": []
    },
    {
     "cell_type": "markdown",
     "metadata": {},
     "source": [
      "Make a 3D plot using [OIII]+[OII] / Hb, [OIII]/[OII], and [NII]/Ha. Don't forget the axes labels. Try to change the azimutal angle and the elevation to find a good orientation."
     ]
    },
    {
     "cell_type": "code",
     "collapsed": false,
     "input": [
      "from mpl_toolkits.mplot3d import ..."
     ],
     "language": "python",
     "metadata": {},
     "outputs": []
    }
   ],
   "metadata": {}
  }
 ]
}