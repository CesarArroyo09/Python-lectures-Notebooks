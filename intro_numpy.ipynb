{
 "metadata": {
  "name": "",
  "signature": "sha256:55752145e90ca7fb7361272f41bd6b25d2234591c33368c57ad001beda5ec53f"
 },
 "nbformat": 3,
 "nbformat_minor": 0,
 "worksheets": [
  {
   "cells": [
    {
     "cell_type": "code",
     "collapsed": false,
     "input": [
      "# Just to know last time this was run:\n",
      "import time\n",
      "print time.ctime()"
     ],
     "language": "python",
     "metadata": {},
     "outputs": [
      {
       "output_type": "stream",
       "stream": "stdout",
       "text": [
        "Mon Sep 14 13:06:54 2015\n"
       ]
      }
     ],
     "prompt_number": 1
    },
    {
     "cell_type": "heading",
     "level": 1,
     "metadata": {},
     "source": [
      "B Numpy"
     ]
    },
    {
     "cell_type": "markdown",
     "metadata": {},
     "source": [
      "This is part of the Python lecture given by Christophe Morisset at IA-UNAM. More informations at: http://python-astro.blogspot.mx/ "
     ]
    },
    {
     "cell_type": "heading",
     "level": 3,
     "metadata": {},
     "source": [
      "Import numpy first"
     ]
    },
    {
     "cell_type": "code",
     "collapsed": false,
     "input": [
      "# You need first to import the numpy library (must be installed on your computer ;-) )\n",
      "# As it will be widely used, better to give it a nickname, or an alias. Traditionnaly, it's \"np\":\n",
      "import numpy as np"
     ],
     "language": "python",
     "metadata": {},
     "outputs": [],
     "prompt_number": 2
    },
    {
     "cell_type": "code",
     "collapsed": false,
     "input": [
      "print np.__version__"
     ],
     "language": "python",
     "metadata": {},
     "outputs": [
      {
       "output_type": "stream",
       "stream": "stdout",
       "text": [
        "1.8.0\n"
       ]
      }
     ],
     "prompt_number": 3
    },
    {
     "cell_type": "heading",
     "level": 3,
     "metadata": {},
     "source": [
      "Tutorials"
     ]
    },
    {
     "cell_type": "markdown",
     "metadata": {},
     "source": [
      "http://nbviewer.ipython.org/github/jrjohansson/scientific-python-lectures/blob/master/Lecture-2-Numpy.ipynb AND\n",
      "http://nbviewer.ipython.org/gist/rpmuller/5920182 AND http://www.astro.washington.edu/users/vanderplas/Astr599/notebooks/11_EfficientNumpy"
     ]
    },
    {
     "cell_type": "heading",
     "level": 3,
     "metadata": {},
     "source": [
      "The ARRAY class"
     ]
    },
    {
     "cell_type": "heading",
     "level": 4,
     "metadata": {},
     "source": [
      "Create an array"
     ]
    },
    {
     "cell_type": "code",
     "collapsed": false,
     "input": [
      "# Easy to create a numpy array (the basic class) from a list\n",
      "a = np.array([1,2,3,4,5,6])\n",
      "print(a)\n",
      "print(type(a))\n",
      "# Works with tuples also:\n",
      "b = np.array((1,2,3))\n",
      "print(b)"
     ],
     "language": "python",
     "metadata": {},
     "outputs": [
      {
       "output_type": "stream",
       "stream": "stdout",
       "text": [
        "[1 2 3 4 5 6]\n",
        "<type 'numpy.ndarray'>\n",
        "[1 2 3]\n"
       ]
      }
     ],
     "prompt_number": 4
    },
    {
     "cell_type": "markdown",
     "metadata": {},
     "source": [
      "Numpy arrays are efficiently connected to the computer:"
     ]
    },
    {
     "cell_type": "code",
     "collapsed": false,
     "input": [
      "L = range(1000)\n",
      "%timeit L2 = [i**2 for i in L] # Notice the use of timeit, a magic function (starts with %)\n",
      "A = np.arange(1000)\n",
      "%timeit A2 = A**2"
     ],
     "language": "python",
     "metadata": {},
     "outputs": [
      {
       "output_type": "stream",
       "stream": "stdout",
       "text": [
        "10000 loops, best of 3: 185 \u00b5s per loop\n",
        "100000 loops, best of 3: 8.16 \u00b5s per loop"
       ]
      },
      {
       "output_type": "stream",
       "stream": "stdout",
       "text": [
        "\n"
       ]
      }
     ],
     "prompt_number": 5
    },
    {
     "cell_type": "code",
     "collapsed": false,
     "input": [
      "L = [1, 2, 3, 4]\n",
      "a = np.array(L)\n",
      "print a.dtype\n",
      "print a"
     ],
     "language": "python",
     "metadata": {},
     "outputs": [
      {
       "output_type": "stream",
       "stream": "stdout",
       "text": [
        "int64\n",
        "[1 2 3 4]\n"
       ]
      }
     ],
     "prompt_number": 6
    },
    {
     "cell_type": "code",
     "collapsed": false,
     "input": [
      "L = [1,2,3,4.]\n",
      "a = np.array(L)\n",
      "print a.dtype\n",
      "print a"
     ],
     "language": "python",
     "metadata": {},
     "outputs": [
      {
       "output_type": "stream",
       "stream": "stdout",
       "text": [
        "float64\n",
        "[ 1.  2.  3.  4.]\n"
       ]
      }
     ],
     "prompt_number": 7
    },
    {
     "cell_type": "code",
     "collapsed": false,
     "input": [
      "L = [1,2,3,4.,'a']\n",
      "a = np.array(L)\n",
      "print L # Different types can coexist in a python list\n",
      "print a.dtype\n",
      "print a # NOT in a numpy array. The array is re-typed to the highest type, here string."
     ],
     "language": "python",
     "metadata": {},
     "outputs": [
      {
       "output_type": "stream",
       "stream": "stdout",
       "text": [
        "[1, 2, 3, 4.0, 'a']\n",
        "|S3\n",
        "['1' '2' '3' '4.0' 'a']\n"
       ]
      }
     ],
     "prompt_number": 8
    },
    {
     "cell_type": "markdown",
     "metadata": {},
     "source": [
      "Once the type of an array is defined, one can insert values of type that can be transformed to the type of the array"
     ]
    },
    {
     "cell_type": "code",
     "collapsed": false,
     "input": [
      "a = np.array([1,2,3,4,5,6]) \n",
      "print a\n",
      "a[4] = 2.56 # will be transformed to int(2.56)\n",
      "print a\n",
      "a[3] = '20' # will be tranformed to int('20')\n",
      "print a"
     ],
     "language": "python",
     "metadata": {},
     "outputs": [
      {
       "output_type": "stream",
       "stream": "stdout",
       "text": [
        "[1 2 3 4 5 6]\n",
        "[1 2 3 4 2 6]\n",
        "[ 1  2  3 20  2  6]\n"
       ]
      }
     ],
     "prompt_number": 9
    },
    {
     "cell_type": "code",
     "collapsed": false,
     "input": [
      "a[2] = '3.2'"
     ],
     "language": "python",
     "metadata": {},
     "outputs": [
      {
       "ename": "ValueError",
       "evalue": "invalid literal for long() with base 10: '3.2'",
       "output_type": "pyerr",
       "traceback": [
        "\u001b[1;31m---------------------------------------------------------------------------\u001b[0m\n\u001b[1;31mValueError\u001b[0m                                Traceback (most recent call last)",
        "\u001b[1;32m<ipython-input-10-2af1cc391cb1>\u001b[0m in \u001b[0;36m<module>\u001b[1;34m()\u001b[0m\n\u001b[1;32m----> 1\u001b[1;33m \u001b[0ma\u001b[0m\u001b[1;33m[\u001b[0m\u001b[1;36m2\u001b[0m\u001b[1;33m]\u001b[0m \u001b[1;33m=\u001b[0m \u001b[1;34m'3.2'\u001b[0m\u001b[1;33m\u001b[0m\u001b[0m\n\u001b[0m",
        "\u001b[1;31mValueError\u001b[0m: invalid literal for long() with base 10: '3.2'"
       ]
      }
     ],
     "prompt_number": 10
    },
    {
     "cell_type": "code",
     "collapsed": false,
     "input": [
      "a[2] = 'tralala'"
     ],
     "language": "python",
     "metadata": {},
     "outputs": [
      {
       "ename": "ValueError",
       "evalue": "invalid literal for long() with base 10: 'tralala'",
       "output_type": "pyerr",
       "traceback": [
        "\u001b[1;31m---------------------------------------------------------------------------\u001b[0m\n\u001b[1;31mValueError\u001b[0m                                Traceback (most recent call last)",
        "\u001b[1;32m<ipython-input-11-f6467d624e31>\u001b[0m in \u001b[0;36m<module>\u001b[1;34m()\u001b[0m\n\u001b[1;32m----> 1\u001b[1;33m \u001b[0ma\u001b[0m\u001b[1;33m[\u001b[0m\u001b[1;36m2\u001b[0m\u001b[1;33m]\u001b[0m \u001b[1;33m=\u001b[0m \u001b[1;34m'tralala'\u001b[0m\u001b[1;33m\u001b[0m\u001b[0m\n\u001b[0m",
        "\u001b[1;31mValueError\u001b[0m: invalid literal for long() with base 10: 'tralala'"
       ]
      }
     ],
     "prompt_number": 11
    },
    {
     "cell_type": "heading",
     "level": 4,
     "metadata": {},
     "source": [
      "1D, 2D, 3D, ..."
     ]
    },
    {
     "cell_type": "code",
     "collapsed": false,
     "input": [
      "a = np.array([1,2,3,4,5,6])\n",
      "b = np.array([[1,2],[1,4]])\n",
      "c = np.array([[[1], [2]], [[3], [4]]])\n",
      "print a.shape, b.shape, c.shape"
     ],
     "language": "python",
     "metadata": {},
     "outputs": [
      {
       "output_type": "stream",
       "stream": "stdout",
       "text": [
        "(6,) (2, 2) (2, 2, 1)\n"
       ]
      }
     ],
     "prompt_number": 12
    },
    {
     "cell_type": "code",
     "collapsed": false,
     "input": [
      "print len(a), len(b), len(c) # size of the first dimension"
     ],
     "language": "python",
     "metadata": {},
     "outputs": [
      {
       "output_type": "stream",
       "stream": "stdout",
       "text": [
        "6 2 2\n"
       ]
      }
     ],
     "prompt_number": 13
    },
    {
     "cell_type": "code",
     "collapsed": false,
     "input": [
      "b.size"
     ],
     "language": "python",
     "metadata": {},
     "outputs": [
      {
       "metadata": {},
       "output_type": "pyout",
       "prompt_number": 14,
       "text": [
        "4"
       ]
      }
     ],
     "prompt_number": 14
    },
    {
     "cell_type": "code",
     "collapsed": false,
     "input": [
      "print a.ndim, b.ndim, c.ndim "
     ],
     "language": "python",
     "metadata": {},
     "outputs": [
      {
       "output_type": "stream",
       "stream": "stdout",
       "text": [
        "1 2 3\n"
       ]
      }
     ],
     "prompt_number": 15
    },
    {
     "cell_type": "code",
     "collapsed": false,
     "input": [
      "a = np.array([1,2,3,4,5,6])\n",
      "print('mean: {0}, max: {1}, shape: {2}'.format(a.mean(), a.max(), a.shape))"
     ],
     "language": "python",
     "metadata": {},
     "outputs": [
      {
       "output_type": "stream",
       "stream": "stdout",
       "text": [
        "mean: 3.5, max: 6, shape: (6,)\n"
       ]
      }
     ],
     "prompt_number": 16
    },
    {
     "cell_type": "markdown",
     "metadata": {},
     "source": [
      "mean and max are methods (functions) of the array class, they need ()s. shape is an atribute (like a variable)."
     ]
    },
    {
     "cell_type": "code",
     "collapsed": false,
     "input": [
      "print(a.mean) # this is printing information about the function, NOT the result of the function!"
     ],
     "language": "python",
     "metadata": {},
     "outputs": [
      {
       "output_type": "stream",
       "stream": "stdout",
       "text": [
        "<built-in method mean of numpy.ndarray object at 0x1e97d50>\n"
       ]
      }
     ],
     "prompt_number": 17
    },
    {
     "cell_type": "code",
     "collapsed": false,
     "input": [
      "mm = a.mean # We assign to mn the function. Then we can call it directly, but still need for the ()s:\n",
      "print(mm())"
     ],
     "language": "python",
     "metadata": {},
     "outputs": [
      {
       "output_type": "stream",
       "stream": "stdout",
       "text": [
        "3.5\n"
       ]
      }
     ],
     "prompt_number": 18
    },
    {
     "cell_type": "code",
     "collapsed": false,
     "input": [
      "print b\n",
      "print b.mean() # mean over the whole array\n",
      "print b.mean(axis=0) # mean over the first axis (columns)\n",
      "print b.mean(1) # mean over the raws"
     ],
     "language": "python",
     "metadata": {},
     "outputs": [
      {
       "output_type": "stream",
       "stream": "stdout",
       "text": [
        "[[1 2]\n",
        " [1 4]]\n",
        "2.0\n",
        "[ 1.  3.]\n",
        "[ 1.5  2.5]\n"
       ]
      }
     ],
     "prompt_number": 19
    },
    {
     "cell_type": "heading",
     "level": 4,
     "metadata": {},
     "source": [
      "Creating arrays from scratch"
     ]
    },
    {
     "cell_type": "code",
     "collapsed": false,
     "input": [
      "print np.arange(10)"
     ],
     "language": "python",
     "metadata": {},
     "outputs": [
      {
       "output_type": "stream",
       "stream": "stdout",
       "text": [
        "[0 1 2 3 4 5 6 7 8 9]\n"
       ]
      }
     ],
     "prompt_number": 20
    },
    {
     "cell_type": "code",
     "collapsed": false,
     "input": [
      "print np.linspace(0, 1, 10) # start, stop (included), number of points\n",
      "print '--------------------------------'\n",
      "print np.linspace(0, 1, 10, endpoint=False) # Not including the stop point"
     ],
     "language": "python",
     "metadata": {},
     "outputs": [
      {
       "output_type": "stream",
       "stream": "stdout",
       "text": [
        "[ 0.          0.11111111  0.22222222  0.33333333  0.44444444  0.55555556\n",
        "  0.66666667  0.77777778  0.88888889  1.        ]\n",
        "--------------------------------\n",
        "[ 0.   0.1  0.2  0.3  0.4  0.5  0.6  0.7  0.8  0.9]\n"
       ]
      }
     ],
     "prompt_number": 21
    },
    {
     "cell_type": "code",
     "collapsed": false,
     "input": [
      "print np.logspace(0, 2, 10) # from 10**start to 10**stop, with 10 values"
     ],
     "language": "python",
     "metadata": {},
     "outputs": [
      {
       "output_type": "stream",
       "stream": "stdout",
       "text": [
        "[   1.            1.66810054    2.7825594     4.64158883    7.74263683\n",
        "   12.91549665   21.5443469    35.93813664   59.94842503  100.        ]\n"
       ]
      }
     ],
     "prompt_number": 22
    },
    {
     "cell_type": "code",
     "collapsed": false,
     "input": [
      "print np.zeros(2) # Filled with 0.0\n",
      "print '--------------------------------'\n",
      "print np.zeros((2,2)) # a 2D array, also filled with 0.0\n",
      "print '--------------------------------'\n",
      "print np.ones_like(a) # This is very usefull: using an already created array (or list or tuple) as example for the shape of the new one.\n",
      "print '--------------------------------'\n",
      "print np.zeros_like(a)+3 # Can define a value to fille the array when creating it. Or latter...\n",
      "print '--------------------------------'\n",
      "print np.ones_like([1,2,3])"
     ],
     "language": "python",
     "metadata": {},
     "outputs": [
      {
       "output_type": "stream",
       "stream": "stdout",
       "text": [
        "[ 0.  0.]\n",
        "--------------------------------\n",
        "[[ 0.  0.]\n",
        " [ 0.  0.]]\n",
        "--------------------------------\n",
        "[1 1 1 1 1 1]\n",
        "--------------------------------\n",
        "[3 3 3 3 3 3]\n",
        "--------------------------------\n",
        "[1 1 1]\n"
       ]
      }
     ],
     "prompt_number": 23
    },
    {
     "cell_type": "code",
     "collapsed": false,
     "input": [
      "b = a.reshape((3,2)) # This does NOT change the shape of a\n",
      "print a\n",
      "print('-------------')\n",
      "print b"
     ],
     "language": "python",
     "metadata": {},
     "outputs": [
      {
       "output_type": "stream",
       "stream": "stdout",
       "text": [
        "[1 2 3 4 5 6]\n",
        "-------------\n",
        "[[1 2]\n",
        " [3 4]\n",
        " [5 6]]\n"
       ]
      }
     ],
     "prompt_number": 24
    },
    {
     "cell_type": "code",
     "collapsed": false,
     "input": [
      "print(b.ravel())"
     ],
     "language": "python",
     "metadata": {},
     "outputs": [
      {
       "output_type": "stream",
       "stream": "stdout",
       "text": [
        "[1 2 3 4 5 6]\n"
       ]
      }
     ],
     "prompt_number": 25
    },
    {
     "cell_type": "code",
     "collapsed": false,
     "input": [
      "# create 2 2D arrays (coordinates matrices), one describing how x varies, the other for y.\n",
      "x, y = np.mgrid[0:5, 0:10] # This is not a function!!! notice the []\n",
      "print x\n",
      "print '------------------------------------'\n",
      "print y"
     ],
     "language": "python",
     "metadata": {},
     "outputs": [
      {
       "output_type": "stream",
       "stream": "stdout",
       "text": [
        "[[0 0 0 0 0 0 0 0 0 0]\n",
        " [1 1 1 1 1 1 1 1 1 1]\n",
        " [2 2 2 2 2 2 2 2 2 2]\n",
        " [3 3 3 3 3 3 3 3 3 3]\n",
        " [4 4 4 4 4 4 4 4 4 4]]\n",
        "------------------------------------\n",
        "[[0 1 2 3 4 5 6 7 8 9]\n",
        " [0 1 2 3 4 5 6 7 8 9]\n",
        " [0 1 2 3 4 5 6 7 8 9]\n",
        " [0 1 2 3 4 5 6 7 8 9]\n",
        " [0 1 2 3 4 5 6 7 8 9]]\n"
       ]
      }
     ],
     "prompt_number": 26
    },
    {
     "cell_type": "code",
     "collapsed": false,
     "input": [
      "# coordinates matrices using user-defined x- and y-vectors\n",
      "x, y = np.meshgrid([1,2,4,7], [0.1, 0.2, 0.3])\n",
      "print x\n",
      "print '--------------------------------'\n",
      "print y"
     ],
     "language": "python",
     "metadata": {},
     "outputs": [
      {
       "output_type": "stream",
       "stream": "stdout",
       "text": [
        "[[1 2 4 7]\n",
        " [1 2 4 7]\n",
        " [1 2 4 7]]\n",
        "--------------------------------\n",
        "[[ 0.1  0.1  0.1  0.1]\n",
        " [ 0.2  0.2  0.2  0.2]\n",
        " [ 0.3  0.3  0.3  0.3]]\n"
       ]
      }
     ],
     "prompt_number": 27
    },
    {
     "cell_type": "code",
     "collapsed": false,
     "input": [
      "x, y = np.meshgrid([1,2,4,7], [0.1, 0.2, 0.3], indexing='ij') # the other order...\n",
      "print x\n",
      "print '-----------------------------------------'\n",
      "print y"
     ],
     "language": "python",
     "metadata": {},
     "outputs": [
      {
       "output_type": "stream",
       "stream": "stdout",
       "text": [
        "[[1 1 1]\n",
        " [2 2 2]\n",
        " [4 4 4]\n",
        " [7 7 7]]\n",
        "-----------------------------------------\n",
        "[[ 0.1  0.2  0.3]\n",
        " [ 0.1  0.2  0.3]\n",
        " [ 0.1  0.2  0.3]\n",
        " [ 0.1  0.2  0.3]]\n"
       ]
      }
     ],
     "prompt_number": 28
    },
    {
     "cell_type": "heading",
     "level": 4,
     "metadata": {},
     "source": [
      "WARNING arrays share memory"
     ]
    },
    {
     "cell_type": "code",
     "collapsed": false,
     "input": [
      "b = a.reshape((3,2))\n",
      "print(a.shape, b.shape)"
     ],
     "language": "python",
     "metadata": {},
     "outputs": [
      {
       "output_type": "stream",
       "stream": "stdout",
       "text": [
        "((6,), (3, 2))\n"
       ]
      }
     ],
     "prompt_number": 29
    },
    {
     "cell_type": "code",
     "collapsed": false,
     "input": [
      "b[1,1] = 100 # modify a value in the array\n",
      "print b"
     ],
     "language": "python",
     "metadata": {},
     "outputs": [
      {
       "output_type": "stream",
       "stream": "stdout",
       "text": [
        "[[  1   2]\n",
        " [  3 100]\n",
        " [  5   6]]\n"
       ]
      }
     ],
     "prompt_number": 30
    },
    {
     "cell_type": "code",
     "collapsed": false,
     "input": [
      "print a # !!! a and b are sharing the same place in the memory, they are pointing to the same values. "
     ],
     "language": "python",
     "metadata": {},
     "outputs": [
      {
       "output_type": "stream",
       "stream": "stdout",
       "text": [
        "[  1   2   3 100   5   6]\n"
       ]
      }
     ],
     "prompt_number": 31
    },
    {
     "cell_type": "code",
     "collapsed": false,
     "input": [
      "b[1,1], a[3] # same value"
     ],
     "language": "python",
     "metadata": {},
     "outputs": [
      {
       "metadata": {},
       "output_type": "pyout",
       "prompt_number": 32,
       "text": [
        "(100, 100)"
       ]
      }
     ],
     "prompt_number": 32
    },
    {
     "cell_type": "code",
     "collapsed": false,
     "input": [
      "a is b # a and b are different"
     ],
     "language": "python",
     "metadata": {},
     "outputs": [
      {
       "metadata": {},
       "output_type": "pyout",
       "prompt_number": 33,
       "text": [
        "False"
       ]
      }
     ],
     "prompt_number": 33
    },
    {
     "cell_type": "code",
     "collapsed": false,
     "input": [
      "print b[1,1] == a[3]\n",
      "print b[1,1] is a[3] # Even if the values are the same, the \"is\" does not tell it."
     ],
     "language": "python",
     "metadata": {},
     "outputs": [
      {
       "output_type": "stream",
       "stream": "stdout",
       "text": [
        "True\n",
        "False\n"
       ]
      }
     ],
     "prompt_number": 34
    },
    {
     "cell_type": "code",
     "collapsed": false,
     "input": [
      "c = a.reshape((2,3)).copy() # This is the solution."
     ],
     "language": "python",
     "metadata": {},
     "outputs": [],
     "prompt_number": 35
    },
    {
     "cell_type": "code",
     "collapsed": false,
     "input": [
      "print a\n",
      "print c"
     ],
     "language": "python",
     "metadata": {},
     "outputs": [
      {
       "output_type": "stream",
       "stream": "stdout",
       "text": [
        "[  1   2   3 100   5   6]\n",
        "[[  1   2   3]\n",
        " [100   5   6]]\n"
       ]
      }
     ],
     "prompt_number": 36
    },
    {
     "cell_type": "code",
     "collapsed": false,
     "input": [
      "c[0,0] = 8888\n",
      "print a\n",
      "print c"
     ],
     "language": "python",
     "metadata": {},
     "outputs": [
      {
       "output_type": "stream",
       "stream": "stdout",
       "text": [
        "[  1   2   3 100   5   6]\n",
        "[[8888    2    3]\n",
        " [ 100    5    6]]\n"
       ]
      }
     ],
     "prompt_number": 37
    },
    {
     "cell_type": "heading",
     "level": 3,
     "metadata": {},
     "source": [
      "Random"
     ]
    },
    {
     "cell_type": "code",
     "collapsed": false,
     "input": [
      "ran_uniform = np.random.rand(5) # between 0 and 1\n",
      "ran_normal = np.random.randn(5) # Gaussian mean 0 variance 1\n",
      "print ran_uniform\n",
      "print '-----------------------------'\n",
      "print ran_normal\n",
      "print '-----------------------------'\n",
      "ran_normal_2D = np.random.randn(5,5) # Gaussian mean 0 variance 1\n",
      "print ran_normal_2D\n"
     ],
     "language": "python",
     "metadata": {},
     "outputs": [
      {
       "output_type": "stream",
       "stream": "stdout",
       "text": [
        "[ 0.13095117  0.39521932  0.35031216  0.91319018  0.75127934]\n",
        "-----------------------------\n",
        "[ 0.22981071  0.18414641 -1.30102046  0.59265398  0.71830686]\n",
        "-----------------------------\n",
        "[[ 1.21659956 -0.63023258 -2.27217832  0.16006743  1.13324213]\n",
        " [-0.50204133  1.07792119  0.37131759 -0.5199908  -1.15794152]\n",
        " [ 0.94064361 -0.66472177 -2.28646331  0.1633991  -0.21479229]\n",
        " [ 0.3716506   0.06454387  1.37096564 -0.42323979 -0.04740307]\n",
        " [-1.21213361  0.58598605  0.38421625 -1.19029289  0.41989963]]\n"
       ]
      }
     ],
     "prompt_number": 38
    },
    {
     "cell_type": "code",
     "collapsed": false,
     "input": [
      "np.random.randn?"
     ],
     "language": "python",
     "metadata": {},
     "outputs": [],
     "prompt_number": 39
    },
    {
     "cell_type": "heading",
     "level": 3,
     "metadata": {},
     "source": [
      "Timing on 2D array"
     ]
    },
    {
     "cell_type": "code",
     "collapsed": false,
     "input": [
      "N = 100\n",
      "A = np.ones((N, N))\n",
      "B = np.zeros_like(A)"
     ],
     "language": "python",
     "metadata": {},
     "outputs": [],
     "prompt_number": 40
    },
    {
     "cell_type": "code",
     "collapsed": false,
     "input": [
      "%%timeit\n",
      "for i in range(N):\n",
      "    for j in range(N):\n",
      "        B[i,j] = A[i,j]"
     ],
     "language": "python",
     "metadata": {},
     "outputs": [
      {
       "output_type": "stream",
       "stream": "stdout",
       "text": [
        "100 loops, best of 3: 9.05 ms per loop\n"
       ]
      }
     ],
     "prompt_number": 41
    },
    {
     "cell_type": "code",
     "collapsed": false,
     "input": [
      "%%timeit\n",
      "B = A # very faster ! It does NOT copy..."
     ],
     "language": "python",
     "metadata": {},
     "outputs": [
      {
       "output_type": "stream",
       "stream": "stdout",
       "text": [
        "10000000 loops, best of 3: 85.8 ns per loop\n"
       ]
      }
     ],
     "prompt_number": 42
    },
    {
     "cell_type": "code",
     "collapsed": false,
     "input": [
      "%%timeit \n",
      "B = (A.copy()) # Takes more time"
     ],
     "language": "python",
     "metadata": {},
     "outputs": [
      {
       "output_type": "stream",
       "stream": "stdout",
       "text": [
        "100000 loops, best of 3: 5.83 \u00b5s per loop\n"
       ]
      }
     ],
     "prompt_number": 43
    },
    {
     "cell_type": "code",
     "collapsed": false,
     "input": [
      "%%timeit\n",
      "for i in range(N):\n",
      "    for j in range(N):\n",
      "        B[i,j] = A[i,j]**2 "
     ],
     "language": "python",
     "metadata": {},
     "outputs": [
      {
       "output_type": "stream",
       "stream": "stdout",
       "text": [
        "10 loops, best of 3: 29.5 ms per loop\n"
       ]
      }
     ],
     "prompt_number": 44
    },
    {
     "cell_type": "code",
     "collapsed": false,
     "input": [
      "%%timeit\n",
      "B = A**2 # very faster ! Does a copy"
     ],
     "language": "python",
     "metadata": {},
     "outputs": [
      {
       "output_type": "stream",
       "stream": "stdout",
       "text": [
        "10000 loops, best of 3: 127 \u00b5s per loop\n"
       ]
      }
     ],
     "prompt_number": 45
    },
    {
     "cell_type": "code",
     "collapsed": false,
     "input": [
      "%timeit  B = (A.copy())**2 # Takes a little bit more time"
     ],
     "language": "python",
     "metadata": {},
     "outputs": [
      {
       "output_type": "stream",
       "stream": "stdout",
       "text": [
        "10000 loops, best of 3: 137 \u00b5s per loop\n"
       ]
      }
     ],
     "prompt_number": 46
    },
    {
     "cell_type": "heading",
     "level": 3,
     "metadata": {},
     "source": [
      "Slicing"
     ]
    },
    {
     "cell_type": "code",
     "collapsed": false,
     "input": [
      "a = np.arange(10)\n",
      "print a\n",
      "print a[1:8:3]"
     ],
     "language": "python",
     "metadata": {},
     "outputs": [
      {
       "output_type": "stream",
       "stream": "stdout",
       "text": [
        "[0 1 2 3 4 5 6 7 8 9]\n",
        "[1 4 7]\n"
       ]
      }
     ],
     "prompt_number": 47
    },
    {
     "cell_type": "code",
     "collapsed": false,
     "input": [
      "print a[:7]"
     ],
     "language": "python",
     "metadata": {},
     "outputs": [
      {
       "output_type": "stream",
       "stream": "stdout",
       "text": [
        "[0 1 2 3 4 5 6]\n"
       ]
      }
     ],
     "prompt_number": 48
    },
    {
     "cell_type": "code",
     "collapsed": false,
     "input": [
      "print a[4:]"
     ],
     "language": "python",
     "metadata": {},
     "outputs": [
      {
       "output_type": "stream",
       "stream": "stdout",
       "text": [
        "[4 5 6 7 8 9]\n"
       ]
      }
     ],
     "prompt_number": 49
    },
    {
     "cell_type": "code",
     "collapsed": false,
     "input": [
      "print a[::2]\n",
      "print a[::2][2]"
     ],
     "language": "python",
     "metadata": {},
     "outputs": [
      {
       "output_type": "stream",
       "stream": "stdout",
       "text": [
        "[0 2 4 6 8]\n",
        "4\n"
       ]
      }
     ],
     "prompt_number": 50
    },
    {
     "cell_type": "code",
     "collapsed": false,
     "input": [
      "# Revert the array:\n",
      "print a[::-1]"
     ],
     "language": "python",
     "metadata": {},
     "outputs": [
      {
       "output_type": "stream",
       "stream": "stdout",
       "text": [
        "[9 8 7 6 5 4 3 2 1 0]\n"
       ]
      }
     ],
     "prompt_number": 51
    },
    {
     "cell_type": "heading",
     "level": 4,
     "metadata": {},
     "source": [
      "Assignment"
     ]
    },
    {
     "cell_type": "code",
     "collapsed": false,
     "input": [
      "a[5:] = 999\n",
      "print a"
     ],
     "language": "python",
     "metadata": {},
     "outputs": [
      {
       "output_type": "stream",
       "stream": "stdout",
       "text": [
        "[  0   1   2   3   4 999 999 999 999 999]\n"
       ]
      }
     ],
     "prompt_number": 52
    },
    {
     "cell_type": "code",
     "collapsed": false,
     "input": [
      "a[5:] = a[4::-1]\n",
      "print a"
     ],
     "language": "python",
     "metadata": {},
     "outputs": [
      {
       "output_type": "stream",
       "stream": "stdout",
       "text": [
        "[0 1 2 3 4 4 3 2 1 0]\n"
       ]
      }
     ],
     "prompt_number": 53
    },
    {
     "cell_type": "code",
     "collapsed": false,
     "input": [
      "print a\n",
      "b = a[:, np.newaxis] # create a new empty dimension\n",
      "print b\n",
      "print a.shape, b.shape\n",
      "c = a[np.newaxis, :]\n",
      "print c, c.shape"
     ],
     "language": "python",
     "metadata": {},
     "outputs": [
      {
       "output_type": "stream",
       "stream": "stdout",
       "text": [
        "[0 1 2 3 4 4 3 2 1 0]\n",
        "[[0]\n",
        " [1]\n",
        " [2]\n",
        " [3]\n",
        " [4]\n",
        " [4]\n",
        " [3]\n",
        " [2]\n",
        " [1]\n",
        " [0]]\n",
        "(10,) (10, 1)\n",
        "[[0 1 2 3 4 4 3 2 1 0]] (1, 10)\n"
       ]
      }
     ],
     "prompt_number": 54
    },
    {
     "cell_type": "code",
     "collapsed": false,
     "input": [
      "b*c # Cross product, see below (broadcasting)"
     ],
     "language": "python",
     "metadata": {},
     "outputs": [
      {
       "metadata": {},
       "output_type": "pyout",
       "prompt_number": 55,
       "text": [
        "array([[ 0,  0,  0,  0,  0,  0,  0,  0,  0,  0],\n",
        "       [ 0,  1,  2,  3,  4,  4,  3,  2,  1,  0],\n",
        "       [ 0,  2,  4,  6,  8,  8,  6,  4,  2,  0],\n",
        "       [ 0,  3,  6,  9, 12, 12,  9,  6,  3,  0],\n",
        "       [ 0,  4,  8, 12, 16, 16, 12,  8,  4,  0],\n",
        "       [ 0,  4,  8, 12, 16, 16, 12,  8,  4,  0],\n",
        "       [ 0,  3,  6,  9, 12, 12,  9,  6,  3,  0],\n",
        "       [ 0,  2,  4,  6,  8,  8,  6,  4,  2,  0],\n",
        "       [ 0,  1,  2,  3,  4,  4,  3,  2,  1,  0],\n",
        "       [ 0,  0,  0,  0,  0,  0,  0,  0,  0,  0]])"
       ]
      }
     ],
     "prompt_number": 55
    },
    {
     "cell_type": "heading",
     "level": 4,
     "metadata": {},
     "source": [
      "Using an array"
     ]
    },
    {
     "cell_type": "code",
     "collapsed": false,
     "input": [
      "print a\n",
      "a[[2,4,6]] = -999\n",
      "print a"
     ],
     "language": "python",
     "metadata": {},
     "outputs": [
      {
       "output_type": "stream",
       "stream": "stdout",
       "text": [
        "[0 1 2 3 4 4 3 2 1 0]\n",
        "[   0    1 -999    3 -999    4 -999    2    1    0]\n"
       ]
      }
     ],
     "prompt_number": 56
    },
    {
     "cell_type": "code",
     "collapsed": false,
     "input": [
      "# a = 1 would turn a to be 1, but if we want to assign 1 to every value in a one must do:\n",
      "a[:] = 1\n",
      "print a"
     ],
     "language": "python",
     "metadata": {},
     "outputs": [
      {
       "output_type": "stream",
       "stream": "stdout",
       "text": [
        "[1 1 1 1 1 1 1 1 1 1]\n"
       ]
      }
     ],
     "prompt_number": 57
    },
    {
     "cell_type": "heading",
     "level": 3,
     "metadata": {},
     "source": [
      "Using masks"
     ]
    },
    {
     "cell_type": "code",
     "collapsed": false,
     "input": [
      "a = np.random.random_integers(0, 100, 20) # min, max, N\n",
      "print a"
     ],
     "language": "python",
     "metadata": {},
     "outputs": [
      {
       "output_type": "stream",
       "stream": "stdout",
       "text": [
        "[20 37 41 31 17 58 64 85 68 31 44 29 21 80 80 49  8 39 59 97]\n"
       ]
      }
     ],
     "prompt_number": 58
    },
    {
     "cell_type": "code",
     "collapsed": false,
     "input": [
      "a < 50"
     ],
     "language": "python",
     "metadata": {},
     "outputs": [
      {
       "metadata": {},
       "output_type": "pyout",
       "prompt_number": 59,
       "text": [
        "array([ True,  True,  True,  True,  True, False, False, False, False,\n",
        "        True,  True,  True,  True, False, False,  True,  True,  True,\n",
        "       False, False], dtype=bool)"
       ]
      }
     ],
     "prompt_number": 59
    },
    {
     "cell_type": "code",
     "collapsed": false,
     "input": [
      "mask = (a < 50)"
     ],
     "language": "python",
     "metadata": {},
     "outputs": [],
     "prompt_number": 60
    },
    {
     "cell_type": "code",
     "collapsed": false,
     "input": [
      "mask.sum()"
     ],
     "language": "python",
     "metadata": {},
     "outputs": [
      {
       "metadata": {},
       "output_type": "pyout",
       "prompt_number": 61,
       "text": [
        "12"
       ]
      }
     ],
     "prompt_number": 61
    },
    {
     "cell_type": "code",
     "collapsed": false,
     "input": [
      "a[mask]"
     ],
     "language": "python",
     "metadata": {},
     "outputs": [
      {
       "metadata": {},
       "output_type": "pyout",
       "prompt_number": 62,
       "text": [
        "array([20, 37, 41, 31, 17, 31, 44, 29, 21, 49,  8, 39])"
       ]
      }
     ],
     "prompt_number": 62
    },
    {
     "cell_type": "code",
     "collapsed": false,
     "input": [
      "b = a.copy() # do NOT use b = a\n",
      "b[mask] = 50 # \n",
      "print a\n",
      "print b"
     ],
     "language": "python",
     "metadata": {},
     "outputs": [
      {
       "output_type": "stream",
       "stream": "stdout",
       "text": [
        "[20 37 41 31 17 58 64 85 68 31 44 29 21 80 80 49  8 39 59 97]\n",
        "[50 50 50 50 50 58 64 85 68 50 50 50 50 80 80 50 50 50 59 97]\n"
       ]
      }
     ],
     "prompt_number": 63
    },
    {
     "cell_type": "code",
     "collapsed": false,
     "input": [
      "b = a.copy()\n",
      "b[b <= 50] = 0 # shortest way. Not matter if not even one element fit the test\n",
      "print b"
     ],
     "language": "python",
     "metadata": {},
     "outputs": [
      {
       "output_type": "stream",
       "stream": "stdout",
       "text": [
        "[ 0  0  0  0  0 58 64 85 68  0  0  0  0 80 80  0  0  0 59 97]\n"
       ]
      }
     ],
     "prompt_number": 64
    },
    {
     "cell_type": "code",
     "collapsed": false,
     "input": [
      "print a[mask]\n",
      "print a[~mask] # complementary"
     ],
     "language": "python",
     "metadata": {},
     "outputs": [
      {
       "output_type": "stream",
       "stream": "stdout",
       "text": [
        "[20 37 41 31 17 31 44 29 21 49  8 39]\n",
        "[58 64 85 68 80 80 59 97]\n"
       ]
      }
     ],
     "prompt_number": 65
    },
    {
     "cell_type": "code",
     "collapsed": false,
     "input": [
      "mask"
     ],
     "language": "python",
     "metadata": {},
     "outputs": [
      {
       "metadata": {},
       "output_type": "pyout",
       "prompt_number": 66,
       "text": [
        "array([ True,  True,  True,  True,  True, False, False, False, False,\n",
        "        True,  True,  True,  True, False, False,  True,  True,  True,\n",
        "       False, False], dtype=bool)"
       ]
      }
     ],
     "prompt_number": 66
    },
    {
     "cell_type": "code",
     "collapsed": false,
     "input": [
      "mask = np.zeros_like(a, dtype=bool)\n",
      "print mask"
     ],
     "language": "python",
     "metadata": {},
     "outputs": [
      {
       "output_type": "stream",
       "stream": "stdout",
       "text": [
        "[False False False False False False False False False False False False\n",
        " False False False False False False False False]\n"
       ]
      }
     ],
     "prompt_number": 67
    },
    {
     "cell_type": "code",
     "collapsed": false,
     "input": [
      "mask[[2,3,4]] = True"
     ],
     "language": "python",
     "metadata": {},
     "outputs": [],
     "prompt_number": 68
    },
    {
     "cell_type": "code",
     "collapsed": false,
     "input": [
      "mask"
     ],
     "language": "python",
     "metadata": {},
     "outputs": [
      {
       "metadata": {},
       "output_type": "pyout",
       "prompt_number": 69,
       "text": [
        "array([False, False,  True,  True,  True, False, False, False, False,\n",
        "       False, False, False, False, False, False, False, False, False,\n",
        "       False, False], dtype=bool)"
       ]
      }
     ],
     "prompt_number": 69
    },
    {
     "cell_type": "code",
     "collapsed": false,
     "input": [
      "a[mask]"
     ],
     "language": "python",
     "metadata": {},
     "outputs": [
      {
       "metadata": {},
       "output_type": "pyout",
       "prompt_number": 70,
       "text": [
        "array([41, 31, 17])"
       ]
      }
     ],
     "prompt_number": 70
    },
    {
     "cell_type": "code",
     "collapsed": false,
     "input": [
      "a[mask].sum()"
     ],
     "language": "python",
     "metadata": {},
     "outputs": [
      {
       "metadata": {},
       "output_type": "pyout",
       "prompt_number": 71,
       "text": [
        "89"
       ]
      }
     ],
     "prompt_number": 71
    },
    {
     "cell_type": "heading",
     "level": 4,
     "metadata": {},
     "source": [
      "combining masks"
     ]
    },
    {
     "cell_type": "code",
     "collapsed": false,
     "input": [
      "print a\n",
      "mask_low = a > 30\n",
      "mask_high = a < 70\n",
      "print '-------------------------------------'\n",
      "print a[mask_low & mask_high] # both conditions are filled\n",
      "print '-------------------------------------'\n",
      "print a[~mask_low | ~mask_high] # complementary, using the | for OR"
     ],
     "language": "python",
     "metadata": {},
     "outputs": [
      {
       "output_type": "stream",
       "stream": "stdout",
       "text": [
        "[20 37 41 31 17 58 64 85 68 31 44 29 21 80 80 49  8 39 59 97]\n",
        "-------------------------------------\n",
        "[37 41 31 58 64 68 31 44 49 39 59]\n",
        "-------------------------------------\n",
        "[20 17 85 29 21 80 80  8 97]\n"
       ]
      }
     ],
     "prompt_number": 72
    },
    {
     "cell_type": "heading",
     "level": 4,
     "metadata": {},
     "source": [
      "the where function"
     ]
    },
    {
     "cell_type": "code",
     "collapsed": false,
     "input": [
      "tt = np.where(a > 30)\n",
      "print a\n",
      "print tt # tt is a tuple of arrays, one for each dimension of the condition, \n",
      "# containing the indices where the condition is filled in that dimension."
     ],
     "language": "python",
     "metadata": {},
     "outputs": [
      {
       "output_type": "stream",
       "stream": "stdout",
       "text": [
        "[20 37 41 31 17 58 64 85 68 31 44 29 21 80 80 49  8 39 59 97]\n",
        "(array([ 1,  2,  3,  5,  6,  7,  8,  9, 10, 13, 14, 15, 17, 18, 19]),)\n"
       ]
      }
     ],
     "prompt_number": 73
    },
    {
     "cell_type": "code",
     "collapsed": false,
     "input": [
      "(a > 30).nonzero() # \"where\" is the same than condition.nonzero(). "
     ],
     "language": "python",
     "metadata": {},
     "outputs": [
      {
       "metadata": {},
       "output_type": "pyout",
       "prompt_number": 74,
       "text": [
        "(array([ 1,  2,  3,  5,  6,  7,  8,  9, 10, 13, 14, 15, 17, 18, 19]),)"
       ]
      }
     ],
     "prompt_number": 74
    },
    {
     "cell_type": "code",
     "collapsed": false,
     "input": [
      "# the indices where the condition is filled are in the first element of the tuple"
     ],
     "language": "python",
     "metadata": {},
     "outputs": [],
     "prompt_number": 75
    },
    {
     "cell_type": "code",
     "collapsed": false,
     "input": [
      "tt[0]"
     ],
     "language": "python",
     "metadata": {},
     "outputs": [
      {
       "metadata": {},
       "output_type": "pyout",
       "prompt_number": 76,
       "text": [
        "array([ 1,  2,  3,  5,  6,  7,  8,  9, 10, 13, 14, 15, 17, 18, 19])"
       ]
      }
     ],
     "prompt_number": 76
    },
    {
     "cell_type": "code",
     "collapsed": false,
     "input": [
      "# faster once you know that the condition is 1D\n",
      "tt = np.where(a > 30)[0]"
     ],
     "language": "python",
     "metadata": {},
     "outputs": [],
     "prompt_number": 77
    },
    {
     "cell_type": "code",
     "collapsed": false,
     "input": [
      "tt # the array containing the indices where the condition is filled"
     ],
     "language": "python",
     "metadata": {},
     "outputs": [
      {
       "metadata": {},
       "output_type": "pyout",
       "prompt_number": 78,
       "text": [
        "array([ 1,  2,  3,  5,  6,  7,  8,  9, 10, 13, 14, 15, 17, 18, 19])"
       ]
      }
     ],
     "prompt_number": 78
    },
    {
     "cell_type": "code",
     "collapsed": false,
     "input": [
      "a[tt] # the values where the condition is filled"
     ],
     "language": "python",
     "metadata": {},
     "outputs": [
      {
       "metadata": {},
       "output_type": "pyout",
       "prompt_number": 79,
       "text": [
        "array([37, 41, 31, 58, 64, 85, 68, 31, 44, 80, 80, 49, 39, 59, 97])"
       ]
      }
     ],
     "prompt_number": 79
    },
    {
     "cell_type": "code",
     "collapsed": false,
     "input": [
      "# The where function can take 3 arguments. \n",
      "b = np.where(a < 50, 1., -1.)\n",
      "print a\n",
      "print b"
     ],
     "language": "python",
     "metadata": {},
     "outputs": [
      {
       "output_type": "stream",
       "stream": "stdout",
       "text": [
        "[20 37 41 31 17 58 64 85 68 31 44 29 21 80 80 49  8 39 59 97]\n",
        "[ 1.  1.  1.  1.  1. -1. -1. -1. -1.  1.  1.  1.  1. -1. -1.  1.  1.  1.\n",
        " -1. -1.]\n"
       ]
      }
     ],
     "prompt_number": 80
    },
    {
     "cell_type": "code",
     "collapsed": false,
     "input": [
      "a * b"
     ],
     "language": "python",
     "metadata": {},
     "outputs": [
      {
       "metadata": {},
       "output_type": "pyout",
       "prompt_number": 81,
       "text": [
        "array([ 20.,  37.,  41.,  31.,  17., -58., -64., -85., -68.,  31.,  44.,\n",
        "        29.,  21., -80., -80.,  49.,   8.,  39., -59., -97.])"
       ]
      }
     ],
     "prompt_number": 81
    },
    {
     "cell_type": "code",
     "collapsed": false,
     "input": [
      "b = np.where(a < 50, True, False)\n",
      "print a\n",
      "print b"
     ],
     "language": "python",
     "metadata": {},
     "outputs": [
      {
       "output_type": "stream",
       "stream": "stdout",
       "text": [
        "[20 37 41 31 17 58 64 85 68 31 44 29 21 80 80 49  8 39 59 97]\n",
        "[ True  True  True  True  True False False False False  True  True  True\n",
        "  True False False  True  True  True False False]\n"
       ]
      }
     ],
     "prompt_number": 82
    },
    {
     "cell_type": "heading",
     "level": 3,
     "metadata": {},
     "source": [
      "Some operations with arrays"
     ]
    },
    {
     "cell_type": "code",
     "collapsed": false,
     "input": [
      "a "
     ],
     "language": "python",
     "metadata": {},
     "outputs": [
      {
       "metadata": {},
       "output_type": "pyout",
       "prompt_number": 83,
       "text": [
        "array([20, 37, 41, 31, 17, 58, 64, 85, 68, 31, 44, 29, 21, 80, 80, 49,  8,\n",
        "       39, 59, 97])"
       ]
      }
     ],
     "prompt_number": 83
    },
    {
     "cell_type": "code",
     "collapsed": false,
     "input": [
      "a + 1"
     ],
     "language": "python",
     "metadata": {},
     "outputs": [
      {
       "metadata": {},
       "output_type": "pyout",
       "prompt_number": 84,
       "text": [
        "array([21, 38, 42, 32, 18, 59, 65, 86, 69, 32, 45, 30, 22, 81, 81, 50,  9,\n",
        "       40, 60, 98])"
       ]
      }
     ],
     "prompt_number": 84
    },
    {
     "cell_type": "code",
     "collapsed": false,
     "input": [
      "a**2 + 3*a**3"
     ],
     "language": "python",
     "metadata": {},
     "outputs": [
      {
       "metadata": {},
       "output_type": "pyout",
       "prompt_number": 85,
       "text": [
        "array([  24400,  153328,  208444,   90334,   15028,  588700,  790528,\n",
        "       1849600,  947920,   90334,  257488,   74008,   28224, 1542400,\n",
        "       1542400,  355348,    1600,  179478,  619618, 2747428])"
       ]
      }
     ],
     "prompt_number": 85
    },
    {
     "cell_type": "code",
     "collapsed": false,
     "input": [
      "# look for the integers I so that i**2 + (i+1)**2 = (i+2)**2\n",
      "a = np.arange(10)\n",
      "b = a**2 + (a+1)**2"
     ],
     "language": "python",
     "metadata": {},
     "outputs": [],
     "prompt_number": 86
    },
    {
     "cell_type": "code",
     "collapsed": false,
     "input": [
      "c = (a+2)**2"
     ],
     "language": "python",
     "metadata": {},
     "outputs": [],
     "prompt_number": 87
    },
    {
     "cell_type": "code",
     "collapsed": false,
     "input": [
      "print b\n",
      "print c"
     ],
     "language": "python",
     "metadata": {},
     "outputs": [
      {
       "output_type": "stream",
       "stream": "stdout",
       "text": [
        "[  1   5  13  25  41  61  85 113 145 181]\n",
        "[  4   9  16  25  36  49  64  81 100 121]\n"
       ]
      }
     ],
     "prompt_number": 88
    },
    {
     "cell_type": "code",
     "collapsed": false,
     "input": [
      "b == c"
     ],
     "language": "python",
     "metadata": {},
     "outputs": [
      {
       "metadata": {},
       "output_type": "pyout",
       "prompt_number": 89,
       "text": [
        "array([False, False, False,  True, False, False, False, False, False, False], dtype=bool)"
       ]
      }
     ],
     "prompt_number": 89
    },
    {
     "cell_type": "code",
     "collapsed": false,
     "input": [
      "a[b==c]"
     ],
     "language": "python",
     "metadata": {},
     "outputs": [
      {
       "metadata": {},
       "output_type": "pyout",
       "prompt_number": 90,
       "text": [
        "array([3])"
       ]
      }
     ],
     "prompt_number": 90
    },
    {
     "cell_type": "code",
     "collapsed": false,
     "input": [
      "a[b==c][0] # the result is an array. To obtain the first value (here the only one), use [0]"
     ],
     "language": "python",
     "metadata": {},
     "outputs": [
      {
       "metadata": {},
       "output_type": "pyout",
       "prompt_number": 91,
       "text": [
        "3"
       ]
      }
     ],
     "prompt_number": 91
    },
    {
     "cell_type": "markdown",
     "metadata": {},
     "source": [
      "Numpy manages almost any mathematical operation. log, trigo, etc"
     ]
    },
    {
     "cell_type": "code",
     "collapsed": false,
     "input": [
      "a = np.arange(18)\n",
      "print a\n",
      "print np.log10(a)"
     ],
     "language": "python",
     "metadata": {},
     "outputs": [
      {
       "output_type": "stream",
       "stream": "stdout",
       "text": [
        "[ 0  1  2  3  4  5  6  7  8  9 10 11 12 13 14 15 16 17]\n",
        "[       -inf  0.          0.30103     0.47712125  0.60205999  0.69897\n",
        "  0.77815125  0.84509804  0.90308999  0.95424251  1.          1.04139269\n",
        "  1.07918125  1.11394335  1.14612804  1.17609126  1.20411998  1.23044892]\n"
       ]
      },
      {
       "output_type": "stream",
       "stream": "stderr",
       "text": [
        "-c:3: RuntimeWarning: divide by zero encountered in log10\n"
       ]
      }
     ],
     "prompt_number": 92
    },
    {
     "cell_type": "code",
     "collapsed": false,
     "input": [
      "for aa in a:\n",
      "    print('{0:2} {1:4.2f} {2:5.2f} {3:8.2e}'.format(aa, np.log10(aa), np.sin(aa), np.exp(aa)))"
     ],
     "language": "python",
     "metadata": {},
     "outputs": [
      {
       "output_type": "stream",
       "stream": "stdout",
       "text": [
        " 0 -inf  0.00 1.00e+00\n",
        " 1 0.00  0.84 2.72e+00\n",
        " 2 0.30  0.91 7.39e+00\n",
        " 3 0.48  0.14 2.01e+01\n",
        " 4 0.60 -0.76 5.46e+01\n",
        " 5 0.70 -0.96 1.48e+02\n",
        " 6 0.78 -0.28 4.03e+02\n",
        " 7 0.85  0.66 1.10e+03\n",
        " 8 0.90  0.99 2.98e+03\n",
        " 9 0.95  0.41 8.10e+03\n",
        "10 1.00 -0.54 2.20e+04\n",
        "11 1.04 -1.00 5.99e+04\n",
        "12 1.08 -0.54 1.63e+05\n",
        "13 1.11  0.42 4.42e+05\n",
        "14 1.15  0.99 1.20e+06\n",
        "15 1.18  0.65 3.27e+06\n",
        "16 1.20 -0.29 8.89e+06\n",
        "17 1.23 -0.96 2.42e+07\n"
       ]
      },
      {
       "output_type": "stream",
       "stream": "stderr",
       "text": [
        "-c:2: RuntimeWarning: divide by zero encountered in log10\n"
       ]
      }
     ],
     "prompt_number": 93
    },
    {
     "cell_type": "markdown",
     "metadata": {},
     "source": [
      "sum"
     ]
    },
    {
     "cell_type": "code",
     "collapsed": false,
     "input": [
      "print a.sum()\n",
      "print 17*18/2"
     ],
     "language": "python",
     "metadata": {},
     "outputs": [
      {
       "output_type": "stream",
       "stream": "stdout",
       "text": [
        "153\n",
        "153\n"
       ]
      }
     ],
     "prompt_number": 94
    },
    {
     "cell_type": "code",
     "collapsed": false,
     "input": [
      "a = np.random.rand(2, 4, 3)\n",
      "print a.shape\n",
      "print a.size"
     ],
     "language": "python",
     "metadata": {},
     "outputs": [
      {
       "output_type": "stream",
       "stream": "stdout",
       "text": [
        "(2, 4, 3)\n",
        "24\n"
       ]
      }
     ],
     "prompt_number": 95
    },
    {
     "cell_type": "markdown",
     "metadata": {},
     "source": [
      "2 planes, 4 rows, 3 columns"
     ]
    },
    {
     "cell_type": "markdown",
     "metadata": {},
     "source": [
      "A small comment on the order of the elements in arrays in Python: There is two ways arrays can be stored: row- or column major. It has a direct impact on the way one has to loop on the arrays. IDL is like Fortran (column major) and Python is like C (row major). It means that in Python, as you move linearly through the memory of an array, the second dimension (rightmost) changes the fastest, while in IDL the first (leftmost) dimension changes the fastest. Consequence on the loop order in Python:"
     ]
    },
    {
     "cell_type": "code",
     "collapsed": false,
     "input": [
      "for plane in a:\n",
      "    for row in plane:\n",
      "        for col in row:\n",
      "            print col\n",
      "            print '-----'"
     ],
     "language": "python",
     "metadata": {},
     "outputs": [
      {
       "output_type": "stream",
       "stream": "stdout",
       "text": [
        "0.559271018324\n",
        "-----\n",
        "0.367459924219\n",
        "-----\n",
        "0.591643052004\n",
        "-----\n",
        "0.254604893502\n",
        "-----\n",
        "0.160906224534\n",
        "-----\n",
        "0.188612606421\n",
        "-----\n",
        "0.183519800647\n",
        "-----\n",
        "0.74066170786\n",
        "-----\n",
        "0.231252271515\n",
        "-----\n",
        "0.480814567166\n",
        "-----\n",
        "0.193430244136\n",
        "-----\n",
        "0.662435293992\n",
        "-----\n",
        "0.940278768485\n",
        "-----\n",
        "0.0316272298752\n",
        "-----\n",
        "0.871183578349\n",
        "-----\n",
        "0.787218067332\n",
        "-----\n",
        "0.235786233191\n",
        "-----\n",
        "0.0306111990027\n",
        "-----\n",
        "0.865854540308\n",
        "-----\n",
        "0.829722603244\n",
        "-----\n",
        "0.626624027194\n",
        "-----\n",
        "0.371789574426\n",
        "-----\n",
        "0.315779883267\n",
        "-----\n",
        "0.873419420422\n",
        "-----\n"
       ]
      }
     ],
     "prompt_number": 96
    },
    {
     "cell_type": "code",
     "collapsed": false,
     "input": [
      "print a[0,1,2] # a[p, r, c]"
     ],
     "language": "python",
     "metadata": {},
     "outputs": [
      {
       "output_type": "stream",
       "stream": "stdout",
       "text": [
        "0.188612606421\n"
       ]
      }
     ],
     "prompt_number": 97
    },
    {
     "cell_type": "code",
     "collapsed": false,
     "input": [],
     "language": "python",
     "metadata": {},
     "outputs": [],
     "prompt_number": 97
    },
    {
     "cell_type": "code",
     "collapsed": false,
     "input": [
      "a.sum()"
     ],
     "language": "python",
     "metadata": {},
     "outputs": [
      {
       "metadata": {},
       "output_type": "pyout",
       "prompt_number": 98,
       "text": [
        "11.394506729415534"
       ]
      }
     ],
     "prompt_number": 98
    },
    {
     "cell_type": "code",
     "collapsed": false,
     "input": [
      "a.sum(0) # from 3D to 2D. Generate an \"image\" of the sum, i.e. the \"projection\" on the x-axis of the 3D array"
     ],
     "language": "python",
     "metadata": {},
     "outputs": [
      {
       "metadata": {},
       "output_type": "pyout",
       "prompt_number": 99,
       "text": [
        "array([[ 1.49954979,  0.39908715,  1.46282663],\n",
        "       [ 1.04182296,  0.39669246,  0.21922381],\n",
        "       [ 1.04937434,  1.57038431,  0.8578763 ],\n",
        "       [ 0.85260414,  0.50921013,  1.53585471]])"
       ]
      }
     ],
     "prompt_number": 99
    },
    {
     "cell_type": "code",
     "collapsed": false,
     "input": [
      "a.sum(0).shape"
     ],
     "language": "python",
     "metadata": {},
     "outputs": [
      {
       "metadata": {},
       "output_type": "pyout",
       "prompt_number": 100,
       "text": [
        "(4, 3)"
       ]
      }
     ],
     "prompt_number": 100
    },
    {
     "cell_type": "code",
     "collapsed": false,
     "input": [
      "a.sum(0).sum(0) # from 3D to 1D. From the image, make the sum in each column."
     ],
     "language": "python",
     "metadata": {},
     "outputs": [
      {
       "metadata": {},
       "output_type": "pyout",
       "prompt_number": 101,
       "text": [
        "array([ 4.44335123,  2.87537405,  4.07578145])"
       ]
      }
     ],
     "prompt_number": 101
    },
    {
     "cell_type": "code",
     "collapsed": false,
     "input": [
      "a.min()"
     ],
     "language": "python",
     "metadata": {},
     "outputs": [
      {
       "metadata": {},
       "output_type": "pyout",
       "prompt_number": 102,
       "text": [
        "0.030611199002681277"
       ]
      }
     ],
     "prompt_number": 102
    },
    {
     "cell_type": "code",
     "collapsed": false,
     "input": [
      "a.ravel()"
     ],
     "language": "python",
     "metadata": {},
     "outputs": [
      {
       "metadata": {},
       "output_type": "pyout",
       "prompt_number": 103,
       "text": [
        "array([ 0.55927102,  0.36745992,  0.59164305,  0.25460489,  0.16090622,\n",
        "        0.18861261,  0.1835198 ,  0.74066171,  0.23125227,  0.48081457,\n",
        "        0.19343024,  0.66243529,  0.94027877,  0.03162723,  0.87118358,\n",
        "        0.78721807,  0.23578623,  0.0306112 ,  0.86585454,  0.8297226 ,\n",
        "        0.62662403,  0.37178957,  0.31577988,  0.87341942])"
       ]
      }
     ],
     "prompt_number": 103
    },
    {
     "cell_type": "code",
     "collapsed": false,
     "input": [
      "i_min = a.argmin() # return the index of where the minimum is. It uses the 1D index.\n",
      "print i_min"
     ],
     "language": "python",
     "metadata": {},
     "outputs": [
      {
       "output_type": "stream",
       "stream": "stdout",
       "text": [
        "17\n"
       ]
      }
     ],
     "prompt_number": 104
    },
    {
     "cell_type": "code",
     "collapsed": false,
     "input": [
      "a.ravel().shape # 1D "
     ],
     "language": "python",
     "metadata": {},
     "outputs": [
      {
       "metadata": {},
       "output_type": "pyout",
       "prompt_number": 105,
       "text": [
        "(24,)"
       ]
      }
     ],
     "prompt_number": 105
    },
    {
     "cell_type": "code",
     "collapsed": false,
     "input": [
      "a.ravel()[i_min] # Check where the minimum is."
     ],
     "language": "python",
     "metadata": {},
     "outputs": [
      {
       "metadata": {},
       "output_type": "pyout",
       "prompt_number": 106,
       "text": [
        "0.030611199002681277"
       ]
      }
     ],
     "prompt_number": 106
    },
    {
     "cell_type": "code",
     "collapsed": false,
     "input": [
      "z = i_min/12\n",
      "y = (i_min - 12*z)/3\n",
      "x = i_min - 12*z - 3*y\n",
      "print z, y, x\n",
      "print a[z, y, x]"
     ],
     "language": "python",
     "metadata": {},
     "outputs": [
      {
       "output_type": "stream",
       "stream": "stdout",
       "text": [
        "1 1 2\n",
        "0.0306111990027\n"
       ]
      }
     ],
     "prompt_number": 107
    },
    {
     "cell_type": "code",
     "collapsed": false,
     "input": [
      "def decompose_ravel(arr, i):\n",
      "    shapes = arr.shape\n",
      "    idx = i\n",
      "    res = []\n",
      "    for i in np.arange(arr.ndim):\n",
      "        subdims = np.prod(shapes[i+1:])\n",
      "        n = int(idx/subdims)\n",
      "        #print n, subdims, idx\n",
      "        idx = idx - subdims*n\n",
      "        res.append(n)\n",
      "    return tuple(res)"
     ],
     "language": "python",
     "metadata": {},
     "outputs": [],
     "prompt_number": 108
    },
    {
     "cell_type": "code",
     "collapsed": false,
     "input": [
      "res = decompose_ravel(a, i_min)\n",
      "print a.min()\n",
      "print res\n",
      "print a[res]"
     ],
     "language": "python",
     "metadata": {},
     "outputs": [
      {
       "output_type": "stream",
       "stream": "stdout",
       "text": [
        "0.0306111990027\n",
        "(1, 1, 2)\n",
        "0.0306111990027\n"
       ]
      }
     ],
     "prompt_number": 109
    },
    {
     "cell_type": "code",
     "collapsed": false,
     "input": [
      "a.min(0).min(0)"
     ],
     "language": "python",
     "metadata": {},
     "outputs": [
      {
       "metadata": {},
       "output_type": "pyout",
       "prompt_number": 110,
       "text": [
        "array([ 0.1835198 ,  0.03162723,  0.0306112 ])"
       ]
      }
     ],
     "prompt_number": 110
    },
    {
     "cell_type": "code",
     "collapsed": false,
     "input": [
      "print a[:,2,1]\n",
      "a[:,2,1].min()"
     ],
     "language": "python",
     "metadata": {},
     "outputs": [
      {
       "output_type": "stream",
       "stream": "stdout",
       "text": [
        "[ 0.74066171  0.8297226 ]\n"
       ]
      },
      {
       "metadata": {},
       "output_type": "pyout",
       "prompt_number": 111,
       "text": [
        "0.74066170785964314"
       ]
      }
     ],
     "prompt_number": 111
    },
    {
     "cell_type": "code",
     "collapsed": false,
     "input": [
      "a.mean(0)"
     ],
     "language": "python",
     "metadata": {},
     "outputs": [
      {
       "metadata": {},
       "output_type": "pyout",
       "prompt_number": 112,
       "text": [
        "array([[ 0.74977489,  0.19954358,  0.73141332],\n",
        "       [ 0.52091148,  0.19834623,  0.1096119 ],\n",
        "       [ 0.52468717,  0.78519216,  0.42893815],\n",
        "       [ 0.42630207,  0.25460506,  0.76792736]])"
       ]
      }
     ],
     "prompt_number": 112
    },
    {
     "cell_type": "code",
     "collapsed": false,
     "input": [
      "np.median(a, 0)"
     ],
     "language": "python",
     "metadata": {},
     "outputs": [
      {
       "metadata": {},
       "output_type": "pyout",
       "prompt_number": 113,
       "text": [
        "array([[ 0.74977489,  0.19954358,  0.73141332],\n",
        "       [ 0.52091148,  0.19834623,  0.1096119 ],\n",
        "       [ 0.52468717,  0.78519216,  0.42893815],\n",
        "       [ 0.42630207,  0.25460506,  0.76792736]])"
       ]
      }
     ],
     "prompt_number": 113
    },
    {
     "cell_type": "code",
     "collapsed": false,
     "input": [
      "a.std()"
     ],
     "language": "python",
     "metadata": {},
     "outputs": [
      {
       "metadata": {},
       "output_type": "pyout",
       "prompt_number": 114,
       "text": [
        "0.2893564145789228"
       ]
      }
     ],
     "prompt_number": 114
    },
    {
     "cell_type": "code",
     "collapsed": false,
     "input": [
      "np.percentile(a, 25)"
     ],
     "language": "python",
     "metadata": {},
     "outputs": [
      {
       "metadata": {},
       "output_type": "pyout",
       "prompt_number": 115,
       "text": [
        "0.22179676466994538"
       ]
      }
     ],
     "prompt_number": 115
    },
    {
     "cell_type": "code",
     "collapsed": false,
     "input": [
      "print a[0:4,0]\n",
      "print np.cumsum(a[0:100,0]) # axis is a keyword. If absent, applied on the ravel(), e.g. 1D array"
     ],
     "language": "python",
     "metadata": {},
     "outputs": [
      {
       "output_type": "stream",
       "stream": "stdout",
       "text": [
        "[[ 0.55927102  0.36745992  0.59164305]\n",
        " [ 0.94027877  0.03162723  0.87118358]]\n",
        "[ 0.55927102  0.92673094  1.51837399  2.45865276  2.49027999  3.36146357]\n"
       ]
      }
     ],
     "prompt_number": 116
    },
    {
     "cell_type": "code",
     "collapsed": false,
     "input": [
      "b = np.arange(1000).reshape(10,10,10)"
     ],
     "language": "python",
     "metadata": {},
     "outputs": [],
     "prompt_number": 117
    },
    {
     "cell_type": "code",
     "collapsed": false,
     "input": [
      "b.shape"
     ],
     "language": "python",
     "metadata": {},
     "outputs": [
      {
       "metadata": {},
       "output_type": "pyout",
       "prompt_number": 118,
       "text": [
        "(10, 10, 10)"
       ]
      }
     ],
     "prompt_number": 118
    },
    {
     "cell_type": "code",
     "collapsed": false,
     "input": [
      "b[4,:,:] # hundreds digits = 4"
     ],
     "language": "python",
     "metadata": {},
     "outputs": [
      {
       "metadata": {},
       "output_type": "pyout",
       "prompt_number": 119,
       "text": [
        "array([[400, 401, 402, 403, 404, 405, 406, 407, 408, 409],\n",
        "       [410, 411, 412, 413, 414, 415, 416, 417, 418, 419],\n",
        "       [420, 421, 422, 423, 424, 425, 426, 427, 428, 429],\n",
        "       [430, 431, 432, 433, 434, 435, 436, 437, 438, 439],\n",
        "       [440, 441, 442, 443, 444, 445, 446, 447, 448, 449],\n",
        "       [450, 451, 452, 453, 454, 455, 456, 457, 458, 459],\n",
        "       [460, 461, 462, 463, 464, 465, 466, 467, 468, 469],\n",
        "       [470, 471, 472, 473, 474, 475, 476, 477, 478, 479],\n",
        "       [480, 481, 482, 483, 484, 485, 486, 487, 488, 489],\n",
        "       [490, 491, 492, 493, 494, 495, 496, 497, 498, 499]])"
       ]
      }
     ],
     "prompt_number": 119
    },
    {
     "cell_type": "code",
     "collapsed": false,
     "input": [
      "b[:,2,:] # tens digit = 2"
     ],
     "language": "python",
     "metadata": {},
     "outputs": [
      {
       "metadata": {},
       "output_type": "pyout",
       "prompt_number": 120,
       "text": [
        "array([[ 20,  21,  22,  23,  24,  25,  26,  27,  28,  29],\n",
        "       [120, 121, 122, 123, 124, 125, 126, 127, 128, 129],\n",
        "       [220, 221, 222, 223, 224, 225, 226, 227, 228, 229],\n",
        "       [320, 321, 322, 323, 324, 325, 326, 327, 328, 329],\n",
        "       [420, 421, 422, 423, 424, 425, 426, 427, 428, 429],\n",
        "       [520, 521, 522, 523, 524, 525, 526, 527, 528, 529],\n",
        "       [620, 621, 622, 623, 624, 625, 626, 627, 628, 629],\n",
        "       [720, 721, 722, 723, 724, 725, 726, 727, 728, 729],\n",
        "       [820, 821, 822, 823, 824, 825, 826, 827, 828, 829],\n",
        "       [920, 921, 922, 923, 924, 925, 926, 927, 928, 929]])"
       ]
      }
     ],
     "prompt_number": 120
    },
    {
     "cell_type": "code",
     "collapsed": false,
     "input": [
      "b[:,:,7] # unity digit = 7"
     ],
     "language": "python",
     "metadata": {},
     "outputs": [
      {
       "metadata": {},
       "output_type": "pyout",
       "prompt_number": 121,
       "text": [
        "array([[  7,  17,  27,  37,  47,  57,  67,  77,  87,  97],\n",
        "       [107, 117, 127, 137, 147, 157, 167, 177, 187, 197],\n",
        "       [207, 217, 227, 237, 247, 257, 267, 277, 287, 297],\n",
        "       [307, 317, 327, 337, 347, 357, 367, 377, 387, 397],\n",
        "       [407, 417, 427, 437, 447, 457, 467, 477, 487, 497],\n",
        "       [507, 517, 527, 537, 547, 557, 567, 577, 587, 597],\n",
        "       [607, 617, 627, 637, 647, 657, 667, 677, 687, 697],\n",
        "       [707, 717, 727, 737, 747, 757, 767, 777, 787, 797],\n",
        "       [807, 817, 827, 837, 847, 857, 867, 877, 887, 897],\n",
        "       [907, 917, 927, 937, 947, 957, 967, 977, 987, 997]])"
       ]
      }
     ],
     "prompt_number": 121
    },
    {
     "cell_type": "code",
     "collapsed": false,
     "input": [
      "b.min(0) # elements with the smallest value for the hundreds digit"
     ],
     "language": "python",
     "metadata": {},
     "outputs": [
      {
       "metadata": {},
       "output_type": "pyout",
       "prompt_number": 122,
       "text": [
        "array([[ 0,  1,  2,  3,  4,  5,  6,  7,  8,  9],\n",
        "       [10, 11, 12, 13, 14, 15, 16, 17, 18, 19],\n",
        "       [20, 21, 22, 23, 24, 25, 26, 27, 28, 29],\n",
        "       [30, 31, 32, 33, 34, 35, 36, 37, 38, 39],\n",
        "       [40, 41, 42, 43, 44, 45, 46, 47, 48, 49],\n",
        "       [50, 51, 52, 53, 54, 55, 56, 57, 58, 59],\n",
        "       [60, 61, 62, 63, 64, 65, 66, 67, 68, 69],\n",
        "       [70, 71, 72, 73, 74, 75, 76, 77, 78, 79],\n",
        "       [80, 81, 82, 83, 84, 85, 86, 87, 88, 89],\n",
        "       [90, 91, 92, 93, 94, 95, 96, 97, 98, 99]])"
       ]
      }
     ],
     "prompt_number": 122
    },
    {
     "cell_type": "code",
     "collapsed": false,
     "input": [
      "b.min(2) # smallest value for the unity digit"
     ],
     "language": "python",
     "metadata": {},
     "outputs": [
      {
       "metadata": {},
       "output_type": "pyout",
       "prompt_number": 123,
       "text": [
        "array([[  0,  10,  20,  30,  40,  50,  60,  70,  80,  90],\n",
        "       [100, 110, 120, 130, 140, 150, 160, 170, 180, 190],\n",
        "       [200, 210, 220, 230, 240, 250, 260, 270, 280, 290],\n",
        "       [300, 310, 320, 330, 340, 350, 360, 370, 380, 390],\n",
        "       [400, 410, 420, 430, 440, 450, 460, 470, 480, 490],\n",
        "       [500, 510, 520, 530, 540, 550, 560, 570, 580, 590],\n",
        "       [600, 610, 620, 630, 640, 650, 660, 670, 680, 690],\n",
        "       [700, 710, 720, 730, 740, 750, 760, 770, 780, 790],\n",
        "       [800, 810, 820, 830, 840, 850, 860, 870, 880, 890],\n",
        "       [900, 910, 920, 930, 940, 950, 960, 970, 980, 990]])"
       ]
      }
     ],
     "prompt_number": 123
    },
    {
     "cell_type": "code",
     "collapsed": false,
     "input": [
      "b.min(2).shape"
     ],
     "language": "python",
     "metadata": {},
     "outputs": [
      {
       "metadata": {},
       "output_type": "pyout",
       "prompt_number": 124,
       "text": [
        "(10, 10)"
       ]
      }
     ],
     "prompt_number": 124
    },
    {
     "cell_type": "code",
     "collapsed": false,
     "input": [
      "np.median(b)"
     ],
     "language": "python",
     "metadata": {},
     "outputs": [
      {
       "metadata": {},
       "output_type": "pyout",
       "prompt_number": 125,
       "text": [
        "499.5"
       ]
      }
     ],
     "prompt_number": 125
    },
    {
     "cell_type": "code",
     "collapsed": false,
     "input": [
      "np.median(b, axis=0)"
     ],
     "language": "python",
     "metadata": {},
     "outputs": [
      {
       "metadata": {},
       "output_type": "pyout",
       "prompt_number": 126,
       "text": [
        "array([[ 450.,  451.,  452.,  453.,  454.,  455.,  456.,  457.,  458.,\n",
        "         459.],\n",
        "       [ 460.,  461.,  462.,  463.,  464.,  465.,  466.,  467.,  468.,\n",
        "         469.],\n",
        "       [ 470.,  471.,  472.,  473.,  474.,  475.,  476.,  477.,  478.,\n",
        "         479.],\n",
        "       [ 480.,  481.,  482.,  483.,  484.,  485.,  486.,  487.,  488.,\n",
        "         489.],\n",
        "       [ 490.,  491.,  492.,  493.,  494.,  495.,  496.,  497.,  498.,\n",
        "         499.],\n",
        "       [ 500.,  501.,  502.,  503.,  504.,  505.,  506.,  507.,  508.,\n",
        "         509.],\n",
        "       [ 510.,  511.,  512.,  513.,  514.,  515.,  516.,  517.,  518.,\n",
        "         519.],\n",
        "       [ 520.,  521.,  522.,  523.,  524.,  525.,  526.,  527.,  528.,\n",
        "         529.],\n",
        "       [ 530.,  531.,  532.,  533.,  534.,  535.,  536.,  537.,  538.,\n",
        "         539.],\n",
        "       [ 540.,  541.,  542.,  543.,  544.,  545.,  546.,  547.,  548.,\n",
        "         549.]])"
       ]
      }
     ],
     "prompt_number": 126
    },
    {
     "cell_type": "code",
     "collapsed": false,
     "input": [
      "x = 2 * np.random.rand(100,100,100) - 1.\n",
      "print np.min(x), np.max(x)"
     ],
     "language": "python",
     "metadata": {},
     "outputs": [
      {
       "output_type": "stream",
       "stream": "stdout",
       "text": [
        "-0.999995836228 0.999997710651\n"
       ]
      }
     ],
     "prompt_number": 127
    },
    {
     "cell_type": "code",
     "collapsed": false,
     "input": [
      "y = 2 * np.random.rand(100,100,100) - 1.\n",
      "z = 2 * np.random.rand(100,100,100) - 1."
     ],
     "language": "python",
     "metadata": {},
     "outputs": [],
     "prompt_number": 128
    },
    {
     "cell_type": "code",
     "collapsed": false,
     "input": [
      "r = np.sqrt(x**2 + y**2 + z**2)\n",
      "print np.min(r), np.max(r)\n",
      "print np.sqrt(3)"
     ],
     "language": "python",
     "metadata": {},
     "outputs": [
      {
       "output_type": "stream",
       "stream": "stdout",
       "text": [
        "0.00819809047595 1.72120626425\n",
        "1.73205080757\n"
       ]
      }
     ],
     "prompt_number": 129
    },
    {
     "cell_type": "code",
     "collapsed": false,
     "input": [
      "np.mean(r)"
     ],
     "language": "python",
     "metadata": {},
     "outputs": [
      {
       "metadata": {},
       "output_type": "pyout",
       "prompt_number": 130,
       "text": [
        "0.96049791144443597"
       ]
      }
     ],
     "prompt_number": 130
    },
    {
     "cell_type": "code",
     "collapsed": false,
     "input": [
      "np.median(r)"
     ],
     "language": "python",
     "metadata": {},
     "outputs": [
      {
       "metadata": {},
       "output_type": "pyout",
       "prompt_number": 131,
       "text": [
        "0.98486511010498035"
       ]
      }
     ],
     "prompt_number": 131
    },
    {
     "cell_type": "heading",
     "level": 3,
     "metadata": {},
     "source": [
      "Broadcasting"
     ]
    },
    {
     "cell_type": "markdown",
     "metadata": {},
     "source": [
      "http://arxiv.org/pdf/1102.1523.pdf"
     ]
    },
    {
     "cell_type": "markdown",
     "metadata": {},
     "source": [
      "    If the two arrays differ in their number of dimensions, the shape of the array with fewer dimensions is padded with ones on its leading (left) side.\n",
      "    If the shape of the two arrays does not match in any dimension, the array with shape equal to 1 in that dimension is stretched to match the other shape.\n",
      "    If in any dimension the sizes disagree and neither is equal to 1, an error is raised."
     ]
    },
    {
     "cell_type": "code",
     "collapsed": false,
     "input": [
      "x = np.array((1,2,3,4,5)).reshape(5,1,1)"
     ],
     "language": "python",
     "metadata": {},
     "outputs": [],
     "prompt_number": 132
    },
    {
     "cell_type": "code",
     "collapsed": false,
     "input": [
      "x"
     ],
     "language": "python",
     "metadata": {},
     "outputs": [
      {
       "metadata": {},
       "output_type": "pyout",
       "prompt_number": 133,
       "text": [
        "array([[[1]],\n",
        "\n",
        "       [[2]],\n",
        "\n",
        "       [[3]],\n",
        "\n",
        "       [[4]],\n",
        "\n",
        "       [[5]]])"
       ]
      }
     ],
     "prompt_number": 133
    },
    {
     "cell_type": "code",
     "collapsed": false,
     "input": [
      "x.shape"
     ],
     "language": "python",
     "metadata": {},
     "outputs": [
      {
       "metadata": {},
       "output_type": "pyout",
       "prompt_number": 134,
       "text": [
        "(5, 1, 1)"
       ]
      }
     ],
     "prompt_number": 134
    },
    {
     "cell_type": "code",
     "collapsed": false,
     "input": [
      "x.ndim"
     ],
     "language": "python",
     "metadata": {},
     "outputs": [
      {
       "metadata": {},
       "output_type": "pyout",
       "prompt_number": 135,
       "text": [
        "3"
       ]
      }
     ],
     "prompt_number": 135
    },
    {
     "cell_type": "code",
     "collapsed": false,
     "input": [
      "x1 = np.array((1,2,3,4,5))\n",
      "y1 = np.array((1,2,3,4,5))\n",
      "z1 = np.array((1,2,3,4,5))\n",
      "r1 = x1 * y1 * z1\n",
      "print r1.shape"
     ],
     "language": "python",
     "metadata": {},
     "outputs": [
      {
       "output_type": "stream",
       "stream": "stdout",
       "text": [
        "(5,)\n"
       ]
      }
     ],
     "prompt_number": 136
    },
    {
     "cell_type": "code",
     "collapsed": false,
     "input": [
      "y = np.array((1,2,3,4,5)).reshape(1,5,1)\n",
      "z = np.array((1,2,3,4,5)).reshape(1,1,5)\n",
      "print y\n",
      "print z"
     ],
     "language": "python",
     "metadata": {},
     "outputs": [
      {
       "output_type": "stream",
       "stream": "stdout",
       "text": [
        "[[[1]\n",
        "  [2]\n",
        "  [3]\n",
        "  [4]\n",
        "  [5]]]\n",
        "[[[1 2 3 4 5]]]\n"
       ]
      }
     ],
     "prompt_number": 137
    },
    {
     "cell_type": "code",
     "collapsed": false,
     "input": [
      "r = x * y * z"
     ],
     "language": "python",
     "metadata": {},
     "outputs": [],
     "prompt_number": 138
    },
    {
     "cell_type": "code",
     "collapsed": false,
     "input": [
      "print r.shape"
     ],
     "language": "python",
     "metadata": {},
     "outputs": [
      {
       "output_type": "stream",
       "stream": "stdout",
       "text": [
        "(5, 5, 5)\n"
       ]
      }
     ],
     "prompt_number": 139
    },
    {
     "cell_type": "code",
     "collapsed": false,
     "input": [
      "r"
     ],
     "language": "python",
     "metadata": {},
     "outputs": [
      {
       "metadata": {},
       "output_type": "pyout",
       "prompt_number": 140,
       "text": [
        "array([[[  1,   2,   3,   4,   5],\n",
        "        [  2,   4,   6,   8,  10],\n",
        "        [  3,   6,   9,  12,  15],\n",
        "        [  4,   8,  12,  16,  20],\n",
        "        [  5,  10,  15,  20,  25]],\n",
        "\n",
        "       [[  2,   4,   6,   8,  10],\n",
        "        [  4,   8,  12,  16,  20],\n",
        "        [  6,  12,  18,  24,  30],\n",
        "        [  8,  16,  24,  32,  40],\n",
        "        [ 10,  20,  30,  40,  50]],\n",
        "\n",
        "       [[  3,   6,   9,  12,  15],\n",
        "        [  6,  12,  18,  24,  30],\n",
        "        [  9,  18,  27,  36,  45],\n",
        "        [ 12,  24,  36,  48,  60],\n",
        "        [ 15,  30,  45,  60,  75]],\n",
        "\n",
        "       [[  4,   8,  12,  16,  20],\n",
        "        [  8,  16,  24,  32,  40],\n",
        "        [ 12,  24,  36,  48,  60],\n",
        "        [ 16,  32,  48,  64,  80],\n",
        "        [ 20,  40,  60,  80, 100]],\n",
        "\n",
        "       [[  5,  10,  15,  20,  25],\n",
        "        [ 10,  20,  30,  40,  50],\n",
        "        [ 15,  30,  45,  60,  75],\n",
        "        [ 20,  40,  60,  80, 100],\n",
        "        [ 25,  50,  75, 100, 125]]])"
       ]
      }
     ],
     "prompt_number": 140
    },
    {
     "cell_type": "code",
     "collapsed": false,
     "input": [
      "a = np.ones((10,10))\n",
      "b = np.arange(10).reshape(10,1)\n",
      "print a\n",
      "print b\n",
      "print b.shape"
     ],
     "language": "python",
     "metadata": {},
     "outputs": [
      {
       "output_type": "stream",
       "stream": "stdout",
       "text": [
        "[[ 1.  1.  1.  1.  1.  1.  1.  1.  1.  1.]\n",
        " [ 1.  1.  1.  1.  1.  1.  1.  1.  1.  1.]\n",
        " [ 1.  1.  1.  1.  1.  1.  1.  1.  1.  1.]\n",
        " [ 1.  1.  1.  1.  1.  1.  1.  1.  1.  1.]\n",
        " [ 1.  1.  1.  1.  1.  1.  1.  1.  1.  1.]\n",
        " [ 1.  1.  1.  1.  1.  1.  1.  1.  1.  1.]\n",
        " [ 1.  1.  1.  1.  1.  1.  1.  1.  1.  1.]\n",
        " [ 1.  1.  1.  1.  1.  1.  1.  1.  1.  1.]\n",
        " [ 1.  1.  1.  1.  1.  1.  1.  1.  1.  1.]\n",
        " [ 1.  1.  1.  1.  1.  1.  1.  1.  1.  1.]]\n",
        "[[0]\n",
        " [1]\n",
        " [2]\n",
        " [3]\n",
        " [4]\n",
        " [5]\n",
        " [6]\n",
        " [7]\n",
        " [8]\n",
        " [9]]\n",
        "(10, 1)\n"
       ]
      }
     ],
     "prompt_number": 141
    },
    {
     "cell_type": "code",
     "collapsed": false,
     "input": [
      "a * b"
     ],
     "language": "python",
     "metadata": {},
     "outputs": [
      {
       "metadata": {},
       "output_type": "pyout",
       "prompt_number": 142,
       "text": [
        "array([[ 0.,  0.,  0.,  0.,  0.,  0.,  0.,  0.,  0.,  0.],\n",
        "       [ 1.,  1.,  1.,  1.,  1.,  1.,  1.,  1.,  1.,  1.],\n",
        "       [ 2.,  2.,  2.,  2.,  2.,  2.,  2.,  2.,  2.,  2.],\n",
        "       [ 3.,  3.,  3.,  3.,  3.,  3.,  3.,  3.,  3.,  3.],\n",
        "       [ 4.,  4.,  4.,  4.,  4.,  4.,  4.,  4.,  4.,  4.],\n",
        "       [ 5.,  5.,  5.,  5.,  5.,  5.,  5.,  5.,  5.,  5.],\n",
        "       [ 6.,  6.,  6.,  6.,  6.,  6.,  6.,  6.,  6.,  6.],\n",
        "       [ 7.,  7.,  7.,  7.,  7.,  7.,  7.,  7.,  7.,  7.],\n",
        "       [ 8.,  8.,  8.,  8.,  8.,  8.,  8.,  8.,  8.,  8.],\n",
        "       [ 9.,  9.,  9.,  9.,  9.,  9.,  9.,  9.,  9.,  9.]])"
       ]
      }
     ],
     "prompt_number": 142
    },
    {
     "cell_type": "code",
     "collapsed": false,
     "input": [
      "a * b.reshape(1,10)"
     ],
     "language": "python",
     "metadata": {},
     "outputs": [
      {
       "metadata": {},
       "output_type": "pyout",
       "prompt_number": 143,
       "text": [
        "array([[ 0.,  1.,  2.,  3.,  4.,  5.,  6.,  7.,  8.,  9.],\n",
        "       [ 0.,  1.,  2.,  3.,  4.,  5.,  6.,  7.,  8.,  9.],\n",
        "       [ 0.,  1.,  2.,  3.,  4.,  5.,  6.,  7.,  8.,  9.],\n",
        "       [ 0.,  1.,  2.,  3.,  4.,  5.,  6.,  7.,  8.,  9.],\n",
        "       [ 0.,  1.,  2.,  3.,  4.,  5.,  6.,  7.,  8.,  9.],\n",
        "       [ 0.,  1.,  2.,  3.,  4.,  5.,  6.,  7.,  8.,  9.],\n",
        "       [ 0.,  1.,  2.,  3.,  4.,  5.,  6.,  7.,  8.,  9.],\n",
        "       [ 0.,  1.,  2.,  3.,  4.,  5.,  6.,  7.,  8.,  9.],\n",
        "       [ 0.,  1.,  2.,  3.,  4.,  5.,  6.,  7.,  8.,  9.],\n",
        "       [ 0.,  1.,  2.,  3.,  4.,  5.,  6.,  7.,  8.,  9.]])"
       ]
      }
     ],
     "prompt_number": 143
    },
    {
     "cell_type": "heading",
     "level": 3,
     "metadata": {},
     "source": [
      "Structured arrays and RecArrays"
     ]
    },
    {
     "cell_type": "markdown",
     "metadata": {},
     "source": [
      "See here: http://docs.scipy.org/doc/numpy/user/basics.rec.html"
     ]
    },
    {
     "cell_type": "markdown",
     "metadata": {},
     "source": [
      "A structured array in numpy is an array of records. Each record can contain one or more items which can be of different types."
     ]
    },
    {
     "cell_type": "code",
     "collapsed": false,
     "input": [
      "a = np.array([(1.5, 2), (3.0, 4)]) # Classical numpy array\n",
      "print a"
     ],
     "language": "python",
     "metadata": {},
     "outputs": [
      {
       "output_type": "stream",
       "stream": "stdout",
       "text": [
        "[[ 1.5  2. ]\n",
        " [ 3.   4. ]]\n"
       ]
      }
     ],
     "prompt_number": 144
    },
    {
     "cell_type": "code",
     "collapsed": false,
     "input": [
      "astru = np.array([(1.5, 2), (3.0, '4')], dtype=[('x', float), ('y', 'S1')]) # array with named and typed columns\n",
      "astru"
     ],
     "language": "python",
     "metadata": {},
     "outputs": [
      {
       "metadata": {},
       "output_type": "pyout",
       "prompt_number": 145,
       "text": [
        "array([(1.5, '2'), (3.0, '4')], \n",
        "      dtype=[('x', '<f8'), ('y', 'S1')])"
       ]
      }
     ],
     "prompt_number": 145
    },
    {
     "cell_type": "code",
     "collapsed": false,
     "input": [
      "arec = astru.view(np.recarray)\n",
      "print type(a), type(astru), type(arec) \n",
      "print '----------------------------------'\n",
      "print a\n",
      "print astru\n",
      "print arec \n",
      "print '----------------------------------'\n",
      "print a.size, astru.size, arec.size # not even the same sixe\n",
      "print '----------------------------------'\n",
      "print a.dtype, astru.dtype, arec.dtype # types tell us that ar has column names and types\n",
      "print '----------------------------------'\n",
      "print a[1,1], astru[1][1], arec[1][1] # one is 2D, the other is a collection of 1D\n",
      "print '----------------------------------'\n",
      "print astru['y'] # acces by name (a litle like dictionnaries)\n",
      "print '----------------------------------'\n",
      "print arec.x"
     ],
     "language": "python",
     "metadata": {},
     "outputs": [
      {
       "output_type": "stream",
       "stream": "stdout",
       "text": [
        "<type 'numpy.ndarray'> <type 'numpy.ndarray'> <class 'numpy.core.records.recarray'>\n",
        "----------------------------------\n",
        "[[ 1.5  2. ]\n",
        " [ 3.   4. ]]\n",
        "[(1.5, '2') (3.0, '4')]\n",
        "[(1.5, '2') (3.0, '4')]\n",
        "----------------------------------\n",
        "4 2 2\n",
        "----------------------------------\n",
        "float64 [('x', '<f8'), ('y', 'S1')] [('x', '<f8'), ('y', 'S1')]\n",
        "----------------------------------\n",
        "4.0 4 4\n",
        "----------------------------------\n",
        "['2' '4']\n",
        "----------------------------------\n",
        "[ 1.5  3. ]\n"
       ]
      }
     ],
     "prompt_number": 146
    },
    {
     "cell_type": "code",
     "collapsed": false,
     "input": [
      "%timeit astru2 = np.append(astru, np.array([(5.0, 6)], dtype=astru.dtype)) # Copied all the data, may be slow"
     ],
     "language": "python",
     "metadata": {},
     "outputs": [
      {
       "output_type": "stream",
       "stream": "stdout",
       "text": [
        "100000 loops, best of 3: 16.6 \u00b5s per loop\n"
       ]
      }
     ],
     "prompt_number": 147
    },
    {
     "cell_type": "code",
     "collapsed": false,
     "input": [
      "%timeit astru3 = np.concatenate((astru, np.array([(5.0, 6)], dtype=astru.dtype))) # A little bit faster"
     ],
     "language": "python",
     "metadata": {},
     "outputs": [
      {
       "output_type": "stream",
       "stream": "stdout",
       "text": [
        "100000 loops, best of 3: 7.06 \u00b5s per loop\n"
       ]
      }
     ],
     "prompt_number": 148
    },
    {
     "cell_type": "code",
     "collapsed": false,
     "input": [
      "%timeit arec2 = np.append(arec, np.array([(5.0, 6)], dtype=astru.dtype).view(np.recarray)) # Copied all the data, may be slow"
     ],
     "language": "python",
     "metadata": {},
     "outputs": [
      {
       "output_type": "stream",
       "stream": "stdout",
       "text": [
        "10000 loops, best of 3: 29.4 \u00b5s per loop\n"
       ]
      }
     ],
     "prompt_number": 149
    },
    {
     "cell_type": "code",
     "collapsed": false,
     "input": [
      "%timeit arec3 = np.concatenate((arec, np.array([(5.0, 6)], dtype=astru.dtype).view(np.recarray))) # A little bit faster"
     ],
     "language": "python",
     "metadata": {},
     "outputs": [
      {
       "output_type": "stream",
       "stream": "stdout",
       "text": [
        "100000 loops, best of 3: 16.7 \u00b5s per loop\n"
       ]
      }
     ],
     "prompt_number": 150
    },
    {
     "cell_type": "code",
     "collapsed": false,
     "input": [
      "arec4 = np.rec.fromrecords([(456,'dbe',1.2),(2,'de',1.3)],names='col1,col2,col3') # direct from data.\n",
      "print arec4\n",
      "print type(arec4)\n",
      "print arec4.col1[1]\n",
      "print arec4[1].col1"
     ],
     "language": "python",
     "metadata": {},
     "outputs": [
      {
       "output_type": "stream",
       "stream": "stdout",
       "text": [
        "[(456, 'dbe', 1.2) (2, 'de', 1.3)]\n",
        "<class 'numpy.core.records.recarray'>\n",
        "2\n",
        "2\n"
       ]
      }
     ],
     "prompt_number": 151
    },
    {
     "cell_type": "code",
     "collapsed": false,
     "input": [
      "arec4 = np.rec.fromrecords([('etoile_15', 30.015, -0.752, 10.722), \n",
      "                            ('etoile_11', 31.163, -9.109, 10.761),\n",
      "                            ('etoile_16', 39.789, -7.716, 11.071), \n",
      "                            ('etoile_14', 35.110, 6.785, 11.176), \n",
      "                            ('etoile_31', 33.530, 9.306, 11.823), \n",
      "                            ('etoile_04', 33.480, 5.568, 11.978)\n",
      "                            ],\n",
      "                           names='name,ra,dec, mag')"
     ],
     "language": "python",
     "metadata": {},
     "outputs": [],
     "prompt_number": 152
    },
    {
     "cell_type": "code",
     "collapsed": false,
     "input": [
      "mask = arec4.mag > 11.\n",
      "print arec4[mask]\n",
      "print '-------------------------'\n",
      "for star in arec4[mask]:\n",
      "    print('name: {0} ra = {1} dec = {2} magnitude = {3}'.format(star.name, star.ra, star.dec, star.mag))\n",
      "print '-------------------------'\n",
      "for star in arec4[mask]:\n",
      "    print('name: {0[name]} ra = {0[ra]} dec = {0[dec]} magnitude = {0[mag]}'.format(star)) # unse only one key in format"
     ],
     "language": "python",
     "metadata": {},
     "outputs": [
      {
       "output_type": "stream",
       "stream": "stdout",
       "text": [
        "[('etoile_16', 39.789, -7.716, 11.071) ('etoile_14', 35.11, 6.785, 11.176)\n",
        " ('etoile_31', 33.53, 9.306, 11.823) ('etoile_04', 33.48, 5.568, 11.978)]\n",
        "-------------------------\n",
        "name: etoile_16 ra = 39.789 dec = -7.716 magnitude = 11.071\n",
        "name: etoile_14 ra = 35.11 dec = 6.785 magnitude = 11.176\n",
        "name: etoile_31 ra = 33.53 dec = 9.306 magnitude = 11.823\n",
        "name: etoile_04 ra = 33.48 dec = 5.568 magnitude = 11.978\n",
        "-------------------------\n",
        "name: etoile_16 ra = 39.789 dec = -7.716 magnitude = 11.071\n",
        "name: etoile_14 ra = 35.11 dec = 6.785 magnitude = 11.176\n",
        "name: etoile_31 ra = 33.53 dec = 9.306 magnitude = 11.823\n",
        "name: etoile_04 ra = 33.48 dec = 5.568 magnitude = 11.978\n"
       ]
      }
     ],
     "prompt_number": 153
    },
    {
     "cell_type": "heading",
     "level": 3,
     "metadata": {},
     "source": [
      "NaN and other ANSI values"
     ]
    },
    {
     "cell_type": "code",
     "collapsed": false,
     "input": [
      "a = np.array([-3, -2., -1., 0., 1., 2.])\n",
      "b = 1./a\n",
      "print b"
     ],
     "language": "python",
     "metadata": {},
     "outputs": [
      {
       "output_type": "stream",
       "stream": "stdout",
       "text": [
        "[-0.33333333 -0.5        -1.                 inf  1.          0.5       ]\n"
       ]
      },
      {
       "output_type": "stream",
       "stream": "stderr",
       "text": [
        "-c:2: RuntimeWarning: divide by zero encountered in divide\n"
       ]
      }
     ],
     "prompt_number": 154
    },
    {
     "cell_type": "code",
     "collapsed": false,
     "input": [
      "print a.sum()\n",
      "print b.sum() # NaN and others are absorbant elements"
     ],
     "language": "python",
     "metadata": {},
     "outputs": [
      {
       "output_type": "stream",
       "stream": "stdout",
       "text": [
        "-3.0\n",
        "inf\n"
       ]
      }
     ],
     "prompt_number": 155
    },
    {
     "cell_type": "code",
     "collapsed": false,
     "input": [
      "mask = np.isfinite(b)\n",
      "print mask\n",
      "print b[mask].sum()"
     ],
     "language": "python",
     "metadata": {},
     "outputs": [
      {
       "output_type": "stream",
       "stream": "stdout",
       "text": [
        "[ True  True  True False  True  True]\n",
        "-0.333333333333\n"
       ]
      }
     ],
     "prompt_number": 156
    },
    {
     "cell_type": "code",
     "collapsed": false,
     "input": [
      "for elem in b:\n",
      "    print np.isinf(elem)"
     ],
     "language": "python",
     "metadata": {},
     "outputs": [
      {
       "output_type": "stream",
       "stream": "stdout",
       "text": [
        "False\n",
        "False\n",
        "False\n",
        "True\n",
        "False\n",
        "False\n"
       ]
      }
     ],
     "prompt_number": 157
    },
    {
     "cell_type": "heading",
     "level": 3,
     "metadata": {},
     "source": [
      "Roundish values of floats"
     ]
    },
    {
     "cell_type": "code",
     "collapsed": false,
     "input": [
      "import math\n",
      "res = []\n",
      "for i in range(100): \n",
      "    res.append(math.log(2 ** i, 2)) # The second argument is the base of the log. The result should be i.\n",
      "print res\n",
      "# We can see that sometimes the value of log2(2**i) is NOT i."
     ],
     "language": "python",
     "metadata": {},
     "outputs": [
      {
       "output_type": "stream",
       "stream": "stdout",
       "text": [
        "[0.0, 1.0, 2.0, 3.0, 4.0, 5.0, 6.0, 7.0, 8.0, 9.0, 10.0, 11.0, 12.0, 13.0, 14.0, 15.0, 16.0, 17.0, 18.0, 19.0, 20.0, 21.0, 22.0, 23.0, 24.0, 25.0, 26.0, 27.0, 28.0, 29.000000000000004, 30.0, 31.000000000000004, 32.0, 33.0, 34.0, 35.0, 36.0, 37.0, 38.0, 39.00000000000001, 40.0, 41.0, 42.0, 43.0, 44.0, 45.0, 46.0, 47.00000000000001, 48.0, 49.0, 50.0, 51.00000000000001, 52.0, 53.0, 54.0, 55.00000000000001, 56.0, 57.0, 58.00000000000001, 59.00000000000001, 60.0, 61.0, 62.00000000000001, 63.0, 64.0, 64.99999999999999, 66.0, 67.0, 68.0, 69.0, 70.0, 71.0, 72.0, 73.0, 74.0, 75.0, 76.0, 77.0, 78.0, 79.0, 79.99999999999999, 81.0, 82.0, 83.0, 84.0, 85.0, 86.0, 87.0, 88.0, 89.0, 90.0, 91.0, 92.0, 93.00000000000001, 93.99999999999999, 94.99999999999999, 96.0, 97.0, 98.0, 99.0]\n"
       ]
      }
     ],
     "prompt_number": 158
    },
    {
     "cell_type": "code",
     "collapsed": false,
     "input": [
      "res2 = []\n",
      "for i in range(100): \n",
      "    res2.append(float(round(math.log(2**i, 2))) == math.log(2 ** i, 2))\n",
      "print res2\n",
      "# An equivalent result is obtained when comparing the round value. This should be always True."
     ],
     "language": "python",
     "metadata": {},
     "outputs": [
      {
       "output_type": "stream",
       "stream": "stdout",
       "text": [
        "[True, True, True, True, True, True, True, True, True, True, True, True, True, True, True, True, True, True, True, True, True, True, True, True, True, True, True, True, True, False, True, False, True, True, True, True, True, True, True, False, True, True, True, True, True, True, True, False, True, True, True, False, True, True, True, False, True, True, False, False, True, True, False, True, True, False, True, True, True, True, True, True, True, True, True, True, True, True, True, True, False, True, True, True, True, True, True, True, True, True, True, True, True, False, False, False, True, True, True, True]\n"
       ]
      }
     ],
     "prompt_number": 159
    },
    {
     "cell_type": "code",
     "collapsed": false,
     "input": [
      "res = []\n",
      "for i in range(100): \n",
      "    res.append(np.log2(2.**i)) # The second argument is the base of the log. The result should be i.\n",
      "print res\n",
      "\n",
      "res_np = []\n",
      "for i in range(100): \n",
      "    res_np.append(float(round(np.log2(2.**i))) == np.log2(2.**i))\n",
      "print res_np\n",
      "# No problemes with the numpy log function."
     ],
     "language": "python",
     "metadata": {},
     "outputs": [
      {
       "output_type": "stream",
       "stream": "stdout",
       "text": [
        "[0.0, 1.0, 2.0, 3.0, 4.0, 5.0, 6.0, 7.0, 8.0, 9.0, 10.0, 11.0, 12.0, 13.0, 14.0, 15.0, 16.0, 17.0, 18.0, 19.0, 20.0, 21.0, 22.0, 23.0, 24.0, 25.0, 26.0, 27.0, 28.0, 29.0, 30.0, 31.0, 32.0, 33.0, 34.0, 35.0, 36.0, 37.0, 38.0, 39.0, 40.0, 41.0, 42.0, 43.0, 44.0, 45.0, 46.0, 47.0, 48.0, 49.0, 50.0, 51.0, 52.0, 53.0, 54.0, 55.0, 56.0, 57.0, 58.0, 59.0, 60.0, 61.0, 62.0, 63.0, 64.0, 65.0, 66.0, 67.0, 68.0, 69.0, 70.0, 71.0, 72.0, 73.0, 74.0, 75.0, 76.0, 77.0, 78.0, 79.0, 80.0, 81.0, 82.0, 83.0, 84.0, 85.0, 86.0, 87.0, 88.0, 89.0, 90.0, 91.0, 92.0, 93.0, 94.0, 95.0, 96.0, 97.0, 98.0, 99.0]\n",
        "[True, True, True, True, True, True, True, True, True, True, True, True, True, True, True, True, True, True, True, True, True, True, True, True, True, True, True, True, True, True, True, True, True, True, True, True, True, True, True, True, True, True, True, True, True, True, True, True, True, True, True, True, True, True, True, True, True, True, True, True, True, True, True, True, True, True, True, True, True, True, True, True, True, True, True, True, True, True, True, True, True, True, True, True, True, True, True, True, True, True, True, True, True, True, True, True, True, True, True, True]\n"
       ]
      }
     ],
     "prompt_number": 160
    },
    {
     "cell_type": "markdown",
     "metadata": {},
     "source": [
      "In case of doubdts, one can use the close function from numpy:"
     ]
    },
    {
     "cell_type": "code",
     "collapsed": false,
     "input": [
      "res_np2 = []\n",
      "for i in range(100): \n",
      "    res_np2.append(np.isclose(float(round(math.log(2 ** i, 2))), math.log(2 ** i, 2)))\n",
      "print res_np2\n",
      "# The isclose "
     ],
     "language": "python",
     "metadata": {},
     "outputs": [
      {
       "output_type": "stream",
       "stream": "stdout",
       "text": [
        "[True, True, True, True, True, True, True, True, True, True, True, True, True, True, True, True, True, True, True, True, True, True, True, True, True, True, True, True, True, True, True, True, True, True, True, True, True, True, True, True, True, True, True, True, True, True, True, True, True, True, True, True, True, True, True, True, True, True, True, True, True, True, True, True, True, True, True, True, True, True, True, True, True, True, True, True, True, True, True, True, True, True, True, True, True, True, True, True, True, True, True, True, True, True, True, True, True, True, True, True]\n"
       ]
      }
     ],
     "prompt_number": 161
    },
    {
     "cell_type": "code",
     "collapsed": false,
     "input": [
      "np.isclose?"
     ],
     "language": "python",
     "metadata": {},
     "outputs": [],
     "prompt_number": 162
    }
   ],
   "metadata": {}
  }
 ]
}